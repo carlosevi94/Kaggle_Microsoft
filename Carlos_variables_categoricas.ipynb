{
 "cells": [
  {
   "cell_type": "markdown",
   "metadata": {},
   "source": [
    "Hay que tratar las siguientes variables categoricas\n",
    "\n",
    "```python\n",
    "['Census_ProcessorClass',\n",
    " 'Census_PrimaryDiskTypeName',\n",
    " 'Census_ChassisTypeName',\n",
    " 'Census_PowerPlatformRoleName',\n",
    " 'Census_InternalBatteryType',\n",
    " 'Census_OSVersion',\n",
    " 'Census_OSArchitecture',\n",
    " 'Census_OSBranch',\n",
    " 'Census_OSEdition',\n",
    " 'Census_OSSkuName',\n",
    " 'Census_OSInstallTypeName',\n",
    " 'Census_OSWUAutoUpdateOptionsName',\n",
    " 'Census_GenuineStateName',\n",
    " 'Census_ActivationChannel',\n",
    " 'Census_FlightRing']\n",
    "```"
   ]
  },
  {
   "cell_type": "markdown",
   "metadata": {},
   "source": [
    "# Imports"
   ]
  },
  {
   "cell_type": "code",
   "execution_count": 2,
   "metadata": {},
   "outputs": [],
   "source": [
    "from pyspark import SparkConf,SparkContext\n",
    "from pyspark.sql import SparkSession\n",
    "from pyspark.sql.types import StructType, StructField, StringType, DoubleType, IntegerType, LongType\n",
    "from pyspark.sql.functions import *\n",
    "\n",
    "from pyspark.ml.feature import StringIndexer\n",
    "\n",
    "import multiprocessing"
   ]
  },
  {
   "cell_type": "markdown",
   "metadata": {},
   "source": [
    "# Configuracion"
   ]
  },
  {
   "cell_type": "code",
   "execution_count": null,
   "metadata": {},
   "outputs": [],
   "source": [
    "cores = multiprocessing.cpu_count()\n",
    "p = 10\n",
    "conf = SparkConf()\n",
    "conf.set(\"spark.driver.cores\", cores)\n",
    "conf.set(\"spark.driver.memory\", \"10g\")\n",
    "conf.set(\"spark.sql.shuffle.partitions\", p * cores)\n",
    "conf.set(\"spark.default.parallelism\", p * cores)\n",
    "sc = SparkContext(conf=conf)"
   ]
  },
  {
   "cell_type": "markdown",
   "metadata": {},
   "source": [
    "# SparkSession"
   ]
  },
  {
   "cell_type": "code",
   "execution_count": 3,
   "metadata": {},
   "outputs": [],
   "source": [
    "spark = SparkSession.builder.appName(\"Microsoft_Kaggle\").getOrCreate()"
   ]
  },
  {
   "cell_type": "markdown",
   "metadata": {},
   "source": [
    "# Data"
   ]
  },
  {
   "cell_type": "code",
   "execution_count": 8,
   "metadata": {},
   "outputs": [],
   "source": [
    "data = spark.read.csv(\"data/train.csv\", header=True, inferSchema=True)"
   ]
  },
  {
   "cell_type": "markdown",
   "metadata": {},
   "source": [
    "## ProductName\n",
    "Label enconding para variables categoricas"
   ]
  },
  {
   "cell_type": "code",
   "execution_count": null,
   "metadata": {},
   "outputs": [],
   "source": [
    "indexer = StringIndexer(inputCol=\"ProductName\", outputCol=\"ProductNameIndex\")\n",
    "data = indexer.fit(data).transform(data)"
   ]
  },
  {
   "cell_type": "markdown",
   "metadata": {},
   "source": [
    "## Census_PrimaryDiskTypeName\n",
    "Label encoding para Census_PrimaryDiskTypeName."
   ]
  },
  {
   "cell_type": "code",
   "execution_count": null,
   "metadata": {},
   "outputs": [],
   "source": [
    "data = data.fillna( { 'Census_PrimaryDiskTypeName':'UNKNOWN'} )\n",
    "indexer = StringIndexer(inputCol=\"Census_PrimaryDiskTypeName\", outputCol=\"Census_PrimaryDiskTypeNameIndex\")\n",
    "data = indexer.fit(data).transform(data)"
   ]
  },
  {
   "cell_type": "markdown",
   "metadata": {},
   "source": [
    "## Census_ChassisTypeName\n",
    "Frecuencia \n"
   ]
  },
  {
   "cell_type": "code",
   "execution_count": null,
   "metadata": {},
   "outputs": [],
   "source": [
    "frequency_census = data.groupBy('Census_ChassisTypeName').count().withColumnRenamed('count','Census_ChassisTypeName_freq')\n",
    "data = data.join(frequency_census,'Census_ChassisTypeName','left')"
   ]
  },
  {
   "cell_type": "markdown",
   "metadata": {},
   "source": [
    "## Census_PowerPlatformRoleName\n",
    "\n",
    "Label enconding para Census_PowerPlatformRoleName"
   ]
  },
  {
   "cell_type": "code",
   "execution_count": 13,
   "metadata": {},
   "outputs": [
    {
     "name": "stdout",
     "output_type": "stream",
     "text": [
      "+----------------------------+-------+\n",
      "|Census_PowerPlatformRoleName|count  |\n",
      "+----------------------------+-------+\n",
      "|Unspecified                 |5      |\n",
      "|UNKNOWN                     |20683  |\n",
      "|SOHOServer                  |37841  |\n",
      "|AppliancePC                 |4015   |\n",
      "|Workstation                 |109683 |\n",
      "|Slate                       |492537 |\n",
      "|Mobile                      |6182908|\n",
      "|EnterpriseServer            |7094   |\n",
      "|Desktop                     |2066620|\n",
      "|PerformanceServer           |97     |\n",
      "+----------------------------+-------+\n",
      "\n"
     ]
    }
   ],
   "source": [
    "data.groupBy(\"Census_PowerPlatformRoleName\").count().show(5000,False)"
   ]
  },
  {
   "cell_type": "code",
   "execution_count": 12,
   "metadata": {},
   "outputs": [],
   "source": [
    "data = data.fillna( { 'Census_PowerPlatformRoleName':'UNKNOWN'} )\n",
    "indexer = StringIndexer(inputCol=\"Census_PowerPlatformRoleName\", outputCol=\"Census_PowerPlatformRoleNameIndex\")\n",
    "data = indexer.fit(data).transform(data)"
   ]
  },
  {
   "cell_type": "markdown",
   "metadata": {},
   "source": [
    "## Census_InternalBatteryType\n",
    "Frecuencia y booleana"
   ]
  },
  {
   "cell_type": "code",
   "execution_count": 19,
   "metadata": {},
   "outputs": [
    {
     "name": "stdout",
     "output_type": "stream",
     "text": [
      "+--------------------------+-------+\n",
      "|Census_InternalBatteryType|count  |\n",
      "+--------------------------+-------+\n",
      "|null                      |6338414|\n",
      "|lion                      |2028256|\n",
      "|li-i                      |245617 |\n",
      "|#                         |183998 |\n",
      "|lip                       |62099  |\n",
      "|liio                      |32635  |\n",
      "|li p                      |8383   |\n",
      "|li                        |6708   |\n",
      "|nimh                      |4614   |\n",
      "|real                      |2744   |\n",
      "|bq20                      |2302   |\n",
      "|pbac                      |2274   |\n",
      "|vbox                      |1454   |\n",
      "|unkn                      |533    |\n",
      "|lgi0                      |399    |\n",
      "|lipo                      |198    |\n",
      "|lhp0                      |182    |\n",
      "|4cel                      |170    |\n",
      "|lipp                      |83     |\n",
      "|ithi                      |79     |\n",
      "|batt                      |60     |\n",
      "|ram                       |35     |\n",
      "|virt                      |33     |\n",
      "|bad                       |33     |\n",
      "|pad0                      |22     |\n",
      "|ca48                      |16     |\n",
      "|lit                       |16     |\n",
      "|n/a                       |15     |\n",
      "|a132                      |10     |\n",
      "|ots0                      |9      |\n",
      "|lai0                      |8      |\n",
      "|ÿÿÿÿ                      |8      |\n",
      "|lio                       |5      |\n",
      "|4lio                      |4      |\n",
      "|asmb                      |4      |\n",
      "|li-p                      |4      |\n",
      "|\u0004lio                      |4      |\n",
      "|lgs0                      |3      |\n",
      "|0x0b                      |3      |\n",
      "|icp3                      |3      |\n",
      "|5nm1                      |2      |\n",
      "|lhpo                      |2      |\n",
      "|a138                      |2      |\n",
      "|3ion                      |2      |\n",
      "|a140                      |2      |\n",
      "|h00j                      |2      |\n",
      "|sail                      |1      |\n",
      "|lgl0                      |1      |\n",
      "|8                         |1      |\n",
      "|0ts0                      |1      |\n",
      "|liÿÿ                      |1      |\n",
      "|h4°s                      |1      |\n",
      "|2337                      |1      |\n",
      "|\u0003ip                       |1      |\n",
      "|6ion                      |1      |\n",
      "|\u001f˙˙˙                      |1      |\n",
      "|sams                      |1      |\n",
      "|pa50                      |1      |\n",
      "|4ion                      |1      |\n",
      "|#TAB#                     |1      |\n",
      "|l\u0006&#TAB#                  |1      |\n",
      "|l\u0015                        |1      |\n",
      "|d                         |1      |\n",
      "|pbso                      |1      |\n",
      "|3500                      |1      |\n",
      "|\u0004ion                      |1      |\n",
      "|li\u0010                       |1      |\n",
      "|í\u0003-i                      |1      |\n",
      "|@i                      |1      |\n",
      "|p-sn                      |1      |\n",
      "|li-h                      |1      |\n",
      "|lp                        |1      |\n",
      "|cl53                      |1      |\n",
      "|lilo                      |1      |\n",
      "|li-l                      |1      |\n",
      "|lÿÿÿ                      |1      |\n",
      "|÷ÿóö                      |1      |\n",
      "|lio                      |1      |\n",
      "|li?                       |1      |\n",
      "|a130                      |1      |\n",
      "+--------------------------+-------+\n",
      "\n"
     ]
    }
   ],
   "source": [
    "data.groupBy(\"Census_InternalBatteryType\").count().orderBy('count',ascending=False).show(100,False)"
   ]
  },
  {
   "cell_type": "markdown",
   "metadata": {},
   "source": [
    "### frecuencia"
   ]
  },
  {
   "cell_type": "code",
   "execution_count": 25,
   "metadata": {},
   "outputs": [],
   "source": [
    "frequency_census = data.groupBy('Census_InternalBatteryType').count().withColumnRenamed('count','Census_InternalBatteryType_freq')\n",
    "data = data.join(frequency_census,'Census_InternalBatteryType','left')"
   ]
  },
  {
   "cell_type": "markdown",
   "metadata": {},
   "source": [
    "### booleana"
   ]
  },
  {
   "cell_type": "code",
   "execution_count": 26,
   "metadata": {},
   "outputs": [],
   "source": [
    "data = data.withColumn('Census_InternalBatteryType_informed',when(col('Census_InternalBatteryType').isNotNull(),1).otherwise(0))"
   ]
  }
 ],
 "metadata": {
  "kernelspec": {
   "display_name": "Python 3",
   "language": "python",
   "name": "python3"
  },
  "language_info": {
   "codemirror_mode": {
    "name": "ipython",
    "version": 3
   },
   "file_extension": ".py",
   "mimetype": "text/x-python",
   "name": "python",
   "nbconvert_exporter": "python",
   "pygments_lexer": "ipython3",
   "version": "3.6.7"
  }
 },
 "nbformat": 4,
 "nbformat_minor": 2
}
