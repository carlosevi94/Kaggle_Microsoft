{
 "cells": [
  {
   "cell_type": "markdown",
   "metadata": {},
   "source": [
    "Hay que tratar las siguientes variables categoricas\n",
    "\n",
    "```python\n",
    "['Census_ProcessorClass',\n",
    " 'Census_PrimaryDiskTypeName',\n",
    " 'Census_ChassisTypeName',\n",
    " 'Census_PowerPlatformRoleName',\n",
    " 'Census_InternalBatteryType',\n",
    " 'Census_OSVersion',\n",
    " 'Census_OSArchitecture',\n",
    " 'Census_OSBranch',\n",
    " 'Census_OSEdition',\n",
    " 'Census_OSSkuName',\n",
    " 'Census_OSInstallTypeName',\n",
    " 'Census_OSWUAutoUpdateOptionsName',\n",
    " 'Census_GenuineStateName',\n",
    " 'Census_ActivationChannel',\n",
    " 'Census_FlightRing']\n",
    "```"
   ]
  },
  {
   "cell_type": "markdown",
   "metadata": {},
   "source": [
    "# Indice\n",
    "1. [Configuracion](#Configuracion)\n",
    "2. [ProductName](#ProductName)\n"
   ]
  },
  {
   "cell_type": "markdown",
   "metadata": {},
   "source": [
    "# Imports"
   ]
  },
  {
   "cell_type": "code",
   "execution_count": 1,
   "metadata": {},
   "outputs": [],
   "source": [
    "from pyspark import SparkConf,SparkContext\n",
    "from pyspark.sql import SparkSession\n",
    "from pyspark.sql.types import StructType, StructField, StringType, DoubleType, IntegerType, LongType\n",
    "from pyspark.sql.functions import *\n",
    "\n",
    "from pyspark.ml.feature import StringIndexer\n",
    "\n",
    "import multiprocessing"
   ]
  },
  {
   "cell_type": "markdown",
   "metadata": {},
   "source": [
    "# Configuracion"
   ]
  },
  {
   "cell_type": "code",
   "execution_count": null,
   "metadata": {},
   "outputs": [],
   "source": [
    "cores = multiprocessing.cpu_count()\n",
    "p = 10\n",
    "conf = SparkConf()\n",
    "conf.set(\"spark.driver.cores\", cores)\n",
    "conf.set(\"spark.driver.memory\", \"10g\")\n",
    "conf.set(\"spark.sql.shuffle.partitions\", p * cores)\n",
    "conf.set(\"spark.default.parallelism\", p * cores)\n",
    "sc = SparkContext(conf=conf)"
   ]
  },
  {
   "cell_type": "markdown",
   "metadata": {},
   "source": [
    "# SparkSession"
   ]
  },
  {
   "cell_type": "code",
   "execution_count": 2,
   "metadata": {},
   "outputs": [],
   "source": [
    "spark = SparkSession.builder.appName(\"Microsoft_Kaggle\").getOrCreate()"
   ]
  },
  {
   "cell_type": "markdown",
   "metadata": {},
   "source": [
    "# Data"
   ]
  },
  {
   "cell_type": "code",
   "execution_count": 3,
   "metadata": {},
   "outputs": [],
   "source": [
    "data = spark.read.csv(\"data/train.csv\", header=True, inferSchema=True)"
   ]
  },
  {
   "cell_type": "markdown",
   "metadata": {},
   "source": [
    "## ProductName\n",
    "Label enconding para variables categoricas"
   ]
  },
  {
   "cell_type": "code",
   "execution_count": null,
   "metadata": {},
   "outputs": [],
   "source": [
    "indexer = StringIndexer(inputCol=\"ProductName\", outputCol=\"ProductNameIndex\")\n",
    "data = indexer.fit(data).transform(data)"
   ]
  },
  {
   "cell_type": "markdown",
   "metadata": {},
   "source": [
    "## Census_PrimaryDiskTypeName\n",
    "Label encoding para Census_PrimaryDiskTypeName."
   ]
  },
  {
   "cell_type": "code",
   "execution_count": null,
   "metadata": {},
   "outputs": [],
   "source": [
    "data = data.fillna( { 'Census_PrimaryDiskTypeName':'UNKNOWN'} )\n",
    "indexer = StringIndexer(inputCol=\"Census_PrimaryDiskTypeName\", outputCol=\"Census_PrimaryDiskTypeNameIndex\")\n",
    "data = indexer.fit(data).transform(data)"
   ]
  },
  {
   "cell_type": "markdown",
   "metadata": {},
   "source": [
    "## Census_ChassisTypeName\n",
    "Frecuencia \n"
   ]
  },
  {
   "cell_type": "code",
   "execution_count": null,
   "metadata": {},
   "outputs": [],
   "source": [
    "frequency_census = data.groupBy('Census_ChassisTypeName').count().withColumnRenamed('count','Census_ChassisTypeName_freq')\n",
    "data = data.join(frequency_census,'Census_ChassisTypeName','left')"
   ]
  },
  {
   "cell_type": "markdown",
   "metadata": {},
   "source": [
    "## Census_PowerPlatformRoleName\n",
    "\n",
    "Label enconding para Census_PowerPlatformRoleName"
   ]
  },
  {
   "cell_type": "code",
   "execution_count": 13,
   "metadata": {},
   "outputs": [
    {
     "name": "stdout",
     "output_type": "stream",
     "text": [
      "+----------------------------+-------+\n",
      "|Census_PowerPlatformRoleName|count  |\n",
      "+----------------------------+-------+\n",
      "|Unspecified                 |5      |\n",
      "|UNKNOWN                     |20683  |\n",
      "|SOHOServer                  |37841  |\n",
      "|AppliancePC                 |4015   |\n",
      "|Workstation                 |109683 |\n",
      "|Slate                       |492537 |\n",
      "|Mobile                      |6182908|\n",
      "|EnterpriseServer            |7094   |\n",
      "|Desktop                     |2066620|\n",
      "|PerformanceServer           |97     |\n",
      "+----------------------------+-------+\n",
      "\n"
     ]
    }
   ],
   "source": [
    "data.groupBy(\"Census_PowerPlatformRoleName\").count().show(5000,False)"
   ]
  },
  {
   "cell_type": "code",
   "execution_count": 12,
   "metadata": {},
   "outputs": [],
   "source": [
    "data = data.fillna( { 'Census_PowerPlatformRoleName':'UNKNOWN'} )\n",
    "indexer = StringIndexer(inputCol=\"Census_PowerPlatformRoleName\", outputCol=\"Census_PowerPlatformRoleNameIndex\")\n",
    "data = indexer.fit(data).transform(data)"
   ]
  },
  {
   "cell_type": "markdown",
   "metadata": {},
   "source": [
    "## Census_InternalBatteryType\n",
    "Frecuencia y booleana"
   ]
  },
  {
   "cell_type": "code",
   "execution_count": 19,
   "metadata": {},
   "outputs": [
    {
     "name": "stdout",
     "output_type": "stream",
     "text": [
      "+--------------------------+-------+\n",
      "|Census_InternalBatteryType|count  |\n",
      "+--------------------------+-------+\n",
      "|null                      |6338414|\n",
      "|lion                      |2028256|\n",
      "|li-i                      |245617 |\n",
      "|#                         |183998 |\n",
      "|lip                       |62099  |\n",
      "|liio                      |32635  |\n",
      "|li p                      |8383   |\n",
      "|li                        |6708   |\n",
      "|nimh                      |4614   |\n",
      "|real                      |2744   |\n",
      "|bq20                      |2302   |\n",
      "|pbac                      |2274   |\n",
      "|vbox                      |1454   |\n",
      "|unkn                      |533    |\n",
      "|lgi0                      |399    |\n",
      "|lipo                      |198    |\n",
      "|lhp0                      |182    |\n",
      "|4cel                      |170    |\n",
      "|lipp                      |83     |\n",
      "|ithi                      |79     |\n",
      "|batt                      |60     |\n",
      "|ram                       |35     |\n",
      "|virt                      |33     |\n",
      "|bad                       |33     |\n",
      "|pad0                      |22     |\n",
      "|ca48                      |16     |\n",
      "|lit                       |16     |\n",
      "|n/a                       |15     |\n",
      "|a132                      |10     |\n",
      "|ots0                      |9      |\n",
      "|lai0                      |8      |\n",
      "|ÿÿÿÿ                      |8      |\n",
      "|lio                       |5      |\n",
      "|4lio                      |4      |\n",
      "|asmb                      |4      |\n",
      "|li-p                      |4      |\n",
      "|\u0004lio                      |4      |\n",
      "|lgs0                      |3      |\n",
      "|0x0b                      |3      |\n",
      "|icp3                      |3      |\n",
      "|5nm1                      |2      |\n",
      "|lhpo                      |2      |\n",
      "|a138                      |2      |\n",
      "|3ion                      |2      |\n",
      "|a140                      |2      |\n",
      "|h00j                      |2      |\n",
      "|sail                      |1      |\n",
      "|lgl0                      |1      |\n",
      "|8                         |1      |\n",
      "|0ts0                      |1      |\n",
      "|liÿÿ                      |1      |\n",
      "|h4°s                      |1      |\n",
      "|2337                      |1      |\n",
      "|\u0003ip                       |1      |\n",
      "|6ion                      |1      |\n",
      "|\u001f˙˙˙                      |1      |\n",
      "|sams                      |1      |\n",
      "|pa50                      |1      |\n",
      "|4ion                      |1      |\n",
      "|#TAB#                     |1      |\n",
      "|l\u0006&#TAB#                  |1      |\n",
      "|l\u0015                        |1      |\n",
      "|d                         |1      |\n",
      "|pbso                      |1      |\n",
      "|3500                      |1      |\n",
      "|\u0004ion                      |1      |\n",
      "|li\u0010                       |1      |\n",
      "|í\u0003-i                      |1      |\n",
      "|@i                      |1      |\n",
      "|p-sn                      |1      |\n",
      "|li-h                      |1      |\n",
      "|lp                        |1      |\n",
      "|cl53                      |1      |\n",
      "|lilo                      |1      |\n",
      "|li-l                      |1      |\n",
      "|lÿÿÿ                      |1      |\n",
      "|÷ÿóö                      |1      |\n",
      "|lio                      |1      |\n",
      "|li?                       |1      |\n",
      "|a130                      |1      |\n",
      "+--------------------------+-------+\n",
      "\n"
     ]
    }
   ],
   "source": [
    "data.groupBy(\"Census_InternalBatteryType\").count().orderBy('count',ascending=False).show(100,False)"
   ]
  },
  {
   "cell_type": "markdown",
   "metadata": {},
   "source": [
    "### frecuencia"
   ]
  },
  {
   "cell_type": "code",
   "execution_count": 25,
   "metadata": {},
   "outputs": [],
   "source": [
    "frequency_census = data.groupBy('Census_InternalBatteryType').count().withColumnRenamed('count','Census_InternalBatteryType_freq')\n",
    "data = data.join(frequency_census,'Census_InternalBatteryType','left')"
   ]
  },
  {
   "cell_type": "markdown",
   "metadata": {},
   "source": [
    "### booleana"
   ]
  },
  {
   "cell_type": "code",
   "execution_count": 26,
   "metadata": {},
   "outputs": [],
   "source": [
    "data = data.withColumn('Census_InternalBatteryType_informed',when(col('Census_InternalBatteryType').isNotNull(),1).otherwise(0))"
   ]
  },
  {
   "cell_type": "markdown",
   "metadata": {},
   "source": [
    "## Census_OSVersion"
   ]
  },
  {
   "cell_type": "code",
   "execution_count": 28,
   "metadata": {
    "scrolled": false
   },
   "outputs": [
    {
     "data": {
      "text/plain": [
       "469"
      ]
     },
     "execution_count": 28,
     "metadata": {},
     "output_type": "execute_result"
    }
   ],
   "source": [
    "#data.groupBy(\"Census_OSVersion\").count().orderBy('count',ascending=False).show(100,False)\n",
    "\n",
    "data.groupBy(\"Census_OSVersion\").count().count()"
   ]
  },
  {
   "cell_type": "code",
   "execution_count": 32,
   "metadata": {},
   "outputs": [],
   "source": [
    "data = data.withColumn('Census_OSVersion_0', split(data['Census_OSVersion'], '\\.')[0])\\\n",
    "        .withColumn('Census_OSVersion_1', split(data['Census_OSVersion'], '\\.')[1])\\\n",
    "        .withColumn('Census_OSVersion_2', split(data['Census_OSVersion'], '\\.')[2].cast(IntegerType()))\\\n",
    "        .withColumn('Census_OSVersion_3', split(data['Census_OSVersion'], '\\.')[3].cast(IntegerType()))"
   ]
  },
  {
   "cell_type": "code",
   "execution_count": 35,
   "metadata": {},
   "outputs": [
    {
     "name": "stdout",
     "output_type": "stream",
     "text": [
      "+----------------+------------------+------------------+------------------+------------------+\n",
      "|Census_OSVersion|Census_OSVersion_0|Census_OSVersion_1|Census_OSVersion_2|Census_OSVersion_3|\n",
      "+----------------+------------------+------------------+------------------+------------------+\n",
      "|  10.0.17134.228|                10|                 0|             17134|               228|\n",
      "| 10.0.14393.1198|                10|                 0|             14393|              1198|\n",
      "|  10.0.17134.165|                10|                 0|             17134|               165|\n",
      "|  10.0.17134.112|                10|                 0|             17134|               112|\n",
      "|  10.0.17134.165|                10|                 0|             17134|               165|\n",
      "|  10.0.16299.125|                10|                 0|             16299|               125|\n",
      "|  10.0.17134.165|                10|                 0|             17134|               165|\n",
      "|  10.0.17134.228|                10|                 0|             17134|               228|\n",
      "|  10.0.17134.165|                10|                 0|             17134|               165|\n",
      "|  10.0.17134.165|                10|                 0|             17134|               165|\n",
      "|10.0.10240.16384|                10|                 0|             10240|             16384|\n",
      "|  10.0.16299.192|                10|                 0|             16299|               192|\n",
      "|  10.0.17134.228|                10|                 0|             17134|               228|\n",
      "|  10.0.16299.431|                10|                 0|             16299|               431|\n",
      "|  10.0.16299.431|                10|                 0|             16299|               431|\n",
      "|  10.0.17134.165|                10|                 0|             17134|               165|\n",
      "|  10.0.16299.309|                10|                 0|             16299|               309|\n",
      "|  10.0.17134.165|                10|                 0|             17134|               165|\n",
      "|10.0.10240.17443|                10|                 0|             10240|             17443|\n",
      "|  10.0.16299.611|                10|                 0|             16299|               611|\n",
      "+----------------+------------------+------------------+------------------+------------------+\n",
      "only showing top 20 rows\n",
      "\n"
     ]
    }
   ],
   "source": [
    "OSVersion = data.select('Census_OSVersion','Census_OSVersion_0','Census_OSVersion_1','Census_OSVersion_2','Census_OSVersion_3')\n",
    "\n",
    "OSVersion.show()"
   ]
  },
  {
   "cell_type": "code",
   "execution_count": 46,
   "metadata": {},
   "outputs": [
    {
     "data": {
      "text/plain": [
       "DataFrame[Census_OSVersion: string, Census_OSVersion_0: string, Census_OSVersion_1: string, Census_OSVersion_2: int, Census_OSVersion_3: int]"
      ]
     },
     "execution_count": 46,
     "metadata": {},
     "output_type": "execute_result"
    }
   ],
   "source": [
    "OSVersion.persist()"
   ]
  },
  {
   "cell_type": "code",
   "execution_count": 40,
   "metadata": {
    "scrolled": true
   },
   "outputs": [
    {
     "name": "stdout",
     "output_type": "stream",
     "text": [
      "+------------------+-------+\n",
      "|Census_OSVersion_0|count  |\n",
      "+------------------+-------+\n",
      "|6                 |20     |\n",
      "|10                |8921463|\n",
      "+------------------+-------+\n",
      "\n"
     ]
    }
   ],
   "source": [
    "OSVersion.groupBy('Census_OSVersion_0').count().show(100000,False)"
   ]
  },
  {
   "cell_type": "code",
   "execution_count": 41,
   "metadata": {
    "scrolled": true
   },
   "outputs": [
    {
     "name": "stdout",
     "output_type": "stream",
     "text": [
      "+------------------+-------+\n",
      "|Census_OSVersion_1|count  |\n",
      "+------------------+-------+\n",
      "|3                 |11     |\n",
      "|0                 |8921463|\n",
      "|1                 |5      |\n",
      "|2                 |4      |\n",
      "+------------------+-------+\n",
      "\n"
     ]
    }
   ],
   "source": [
    "OSVersion.groupBy('Census_OSVersion_1').count().show(100000,False)"
   ]
  },
  {
   "cell_type": "code",
   "execution_count": 49,
   "metadata": {
    "scrolled": false
   },
   "outputs": [
    {
     "name": "stdout",
     "output_type": "stream",
     "text": [
      "+------------------+-------+\n",
      "|Census_OSVersion_2|count  |\n",
      "+------------------+-------+\n",
      "|17134             |4008881|\n",
      "|16299             |2443249|\n",
      "|15063             |797049 |\n",
      "|14393             |785450 |\n",
      "|10586             |593527 |\n",
      "|10240             |271604 |\n",
      "|17692             |3096   |\n",
      "|17738             |3062   |\n",
      "|17744             |2372   |\n",
      "|17758             |1703   |\n",
      "|17746             |1220   |\n",
      "|17754             |1086   |\n",
      "|17763             |1063   |\n",
      "|17751             |1006   |\n",
      "|17735             |980    |\n",
      "|17741             |814    |\n",
      "|17755             |684    |\n",
      "|17760             |590    |\n",
      "|17686             |556    |\n",
      "|17733             |524    |\n",
      "|17672             |351    |\n",
      "|17677             |304    |\n",
      "|17133             |253    |\n",
      "|17682             |248    |\n",
      "|18234             |233    |\n",
      "|17666             |203    |\n",
      "|18237             |173    |\n",
      "|18242             |142    |\n",
      "|17713             |126    |\n",
      "|17661             |122    |\n",
      "|17650             |61     |\n",
      "|17639             |48     |\n",
      "|17634             |47     |\n",
      "|17723             |43     |\n",
      "|17747             |42     |\n",
      "|17627             |31     |\n",
      "|14986             |27     |\n",
      "|17730             |26     |\n",
      "|17728             |21     |\n",
      "|18204             |20     |\n",
      "|17655             |19     |\n",
      "|17643             |19     |\n",
      "|14295             |18     |\n",
      "|14931             |13     |\n",
      "|9600              |12     |\n",
      "|18219             |10     |\n",
      "|14342             |10     |\n",
      "|17074             |10     |\n",
      "|17761             |10     |\n",
      "|17742             |9      |\n",
      "|17017             |9      |\n",
      "|17704             |8      |\n",
      "|14379             |8      |\n",
      "|7601              |7      |\n",
      "|17711             |7      |\n",
      "|17618             |7      |\n",
      "|14915             |7      |\n",
      "|14936             |7      |\n",
      "|14332             |6      |\n",
      "|14385             |6      |\n",
      "|14316             |6      |\n",
      "|17127             |6      |\n",
      "|17604             |6      |\n",
      "|14971             |6      |\n",
      "|14905             |6      |\n",
      "|14352             |6      |\n",
      "|16193             |6      |\n",
      "|9200              |6      |\n",
      "|16294             |6      |\n",
      "|17025             |5      |\n",
      "|15042             |5      |\n",
      "|10565             |5      |\n",
      "|16251             |5      |\n",
      "|11082             |5      |\n",
      "|18240             |5      |\n",
      "|16241             |5      |\n",
      "|17623             |4      |\n",
      "|14390             |4      |\n",
      "|14366             |4      |\n",
      "|16296             |4      |\n",
      "|14372             |4      |\n",
      "|15019             |3      |\n",
      "|15025             |3      |\n",
      "|15002             |3      |\n",
      "|14271             |3      |\n",
      "|15031             |3      |\n",
      "|15048             |3      |\n",
      "|17063             |3      |\n",
      "|17046             |3      |\n",
      "|18214             |3      |\n",
      "|14328             |3      |\n",
      "|14901             |3      |\n",
      "|14279             |3      |\n",
      "|16232             |3      |\n",
      "|16281             |3      |\n",
      "|11099             |3      |\n",
      "|16288             |2      |\n",
      "|16278             |2      |\n",
      "|17004             |2      |\n",
      "|16275             |2      |\n",
      "|14257             |2      |\n",
      "|14951             |2      |\n",
      "|17753             |2      |\n",
      "|17115             |2      |\n",
      "|14946             |2      |\n",
      "|10576             |2      |\n",
      "|14291             |2      |\n",
      "|17752             |2      |\n",
      "|15055             |2      |\n",
      "|14965             |2      |\n",
      "|15060             |2      |\n",
      "|16273             |2      |\n",
      "|15061             |2      |\n",
      "|17093             |2      |\n",
      "|14926             |2      |\n",
      "|16257             |2      |\n",
      "|17040             |2      |\n",
      "|17740             |1      |\n",
      "|7600              |1      |\n",
      "|14230             |1      |\n",
      "|14474             |1      |\n",
      "|15046             |1      |\n",
      "|18244             |1      |\n",
      "|18227             |1      |\n",
      "|18238             |1      |\n",
      "|18064             |1      |\n",
      "|17757             |1      |\n",
      "|16176             |1      |\n",
      "|18241             |1      |\n",
      "|17759             |1      |\n",
      "|14942             |1      |\n",
      "|14298             |1      |\n",
      "|17694             |1      |\n",
      "|16291             |1      |\n",
      "|14300             |1      |\n",
      "|14314             |1      |\n",
      "|18224             |1      |\n",
      "|14389             |1      |\n",
      "|16215             |1      |\n",
      "|14206             |1      |\n",
      "|17749             |1      |\n",
      "|17107             |1      |\n",
      "|18226             |1      |\n",
      "|14267             |1      |\n",
      "|14421             |1      |\n",
      "|14955             |1      |\n",
      "|18236             |1      |\n",
      "|17689             |1      |\n",
      "|17083             |1      |\n",
      "|14361             |1      |\n",
      "|17750             |1      |\n",
      "|14383             |1      |\n",
      "|17035             |1      |\n",
      "|17128             |1      |\n",
      "|17756             |1      |\n",
      "|16170             |1      |\n",
      "|14306             |1      |\n",
      "|18230             |1      |\n",
      "|18233             |1      |\n",
      "|14959             |1      |\n",
      "|16237             |1      |\n",
      "|16199             |1      |\n",
      "|14425             |1      |\n",
      "|14466             |1      |\n",
      "|16179             |1      |\n",
      "+------------------+-------+\n",
      "\n"
     ]
    }
   ],
   "source": [
    "OSVersion.groupBy('Census_OSVersion_2').count().orderBy('count',ascending=False).show(100000,False)"
   ]
  },
  {
   "cell_type": "code",
   "execution_count": 45,
   "metadata": {},
   "outputs": [
    {
     "data": {
      "text/plain": [
       "165"
      ]
     },
     "execution_count": 45,
     "metadata": {},
     "output_type": "execute_result"
    }
   ],
   "source": [
    "OSVersion.groupBy('Census_OSVersion_2').count().count()"
   ]
  },
  {
   "cell_type": "code",
   "execution_count": 50,
   "metadata": {
    "scrolled": false
   },
   "outputs": [
    {
     "name": "stdout",
     "output_type": "stream",
     "text": [
      "+------------------+-------+\n",
      "|Census_OSVersion_3|count  |\n",
      "+------------------+-------+\n",
      "|228               |1413633|\n",
      "|165               |899712 |\n",
      "|431               |546546 |\n",
      "|285               |470280 |\n",
      "|547               |346853 |\n",
      "|112               |346488 |\n",
      "|371               |325267 |\n",
      "|191               |228256 |\n",
      "|2189              |223775 |\n",
      "|611               |216776 |\n",
      "|125               |213342 |\n",
      "|17443             |206843 |\n",
      "|1176              |182087 |\n",
      "|492               |168878 |\n",
      "|0                 |166369 |\n",
      "|309               |151196 |\n",
      "|286               |139040 |\n",
      "|15                |117555 |\n",
      "|254               |112344 |\n",
      "|1                 |106585 |\n",
      "|1206              |102275 |\n",
      "|1266              |101237 |\n",
      "|192               |99068  |\n",
      "|167               |86787  |\n",
      "|248               |77476  |\n",
      "|137               |75873  |\n",
      "|48                |66266  |\n",
      "|1088              |63274  |\n",
      "|81                |55384  |\n",
      "|693               |50955  |\n",
      "|1155              |46052  |\n",
      "|164               |41744  |\n",
      "|318               |40371  |\n",
      "|786               |39747  |\n",
      "|2214              |38642  |\n",
      "|665               |38584  |\n",
      "|674               |34731  |\n",
      "|1324              |33079  |\n",
      "|726               |33002  |\n",
      "|850               |31652  |\n",
      "|494               |30446  |\n",
      "|447               |30397  |\n",
      "|483               |29900  |\n",
      "|1593              |27680  |\n",
      "|2007              |26854  |\n",
      "|420               |26662  |\n",
      "|16384             |25834  |\n",
      "|545               |25455  |\n",
      "|1198              |25408  |\n",
      "|1029              |25401  |\n",
      "|608               |25258  |\n",
      "|1944              |24582  |\n",
      "|540               |24402  |\n",
      "|909               |24183  |\n",
      "|1770              |23418  |\n",
      "|104               |23002  |\n",
      "|1358              |21846  |\n",
      "|966               |20388  |\n",
      "|1066              |19799  |\n",
      "|218               |19341  |\n",
      "|250               |19303  |\n",
      "|1480              |18817  |\n",
      "|1106              |18619  |\n",
      "|2068              |18464  |\n",
      "|953               |17972  |\n",
      "|98                |17568  |\n",
      "|1715              |17096  |\n",
      "|1884              |17050  |\n",
      "|579               |16689  |\n",
      "|351               |16566  |\n",
      "|753               |16053  |\n",
      "|461               |14755  |\n",
      "|576               |14405  |\n",
      "|2125              |14223  |\n",
      "|64                |14040  |\n",
      "|413               |13499  |\n",
      "|319               |13017  |\n",
      "|187               |12718  |\n",
      "|589               |12433  |\n",
      "|332               |12141  |\n",
      "|36                |11662  |\n",
      "|251               |11307  |\n",
      "|214               |11230  |\n",
      "|1045              |10994  |\n",
      "|551               |10718  |\n",
      "|666               |10603  |\n",
      "|633               |9999   |\n",
      "|122               |9768   |\n",
      "|19                |9414   |\n",
      "|1000              |9178   |\n",
      "|321               |8673   |\n",
      "|522               |8658   |\n",
      "|14                |7581   |\n",
      "|5                 |7580   |\n",
      "|679               |7313   |\n",
      "|402               |6789   |\n",
      "|3                 |6741   |\n",
      "|16405             |6626   |\n",
      "|1235              |6393   |\n",
      "|916               |6240   |\n",
      "|334               |5992   |\n",
      "|1209              |5935   |\n",
      "|296               |5897   |\n",
      "|63                |5732   |\n",
      "|2430              |5696   |\n",
      "|1007              |5571   |\n",
      "|1914              |5499   |\n",
      "|839               |5236   |\n",
      "|962               |5126   |\n",
      "|873               |5056   |\n",
      "|632               |4982   |\n",
      "|713               |4550   |\n",
      "|29                |4460   |\n",
      "|502               |4305   |\n",
      "|71                |4247   |\n",
      "|105               |4137   |\n",
      "|222               |4064   |\n",
      "|16487             |3770   |\n",
      "|1112              |3551   |\n",
      "|138               |3497   |\n",
      "|17946             |3455   |\n",
      "|1004              |3424   |\n",
      "|2248              |3341   |\n",
      "|1292              |3302   |\n",
      "|2363              |3190   |\n",
      "|637               |3010   |\n",
      "|17                |2969   |\n",
      "|479               |2823   |\n",
      "|729               |2654   |\n",
      "|2485              |2395   |\n",
      "|82                |2283   |\n",
      "|17914             |1887   |\n",
      "|1182              |1856   |\n",
      "|2395              |1827   |\n",
      "|11                |1723   |\n",
      "|17889             |1693   |\n",
      "|446               |1619   |\n",
      "|17236             |1590   |\n",
      "|969               |1525   |\n",
      "|1003              |1506   |\n",
      "|2273              |1490   |\n",
      "|17071             |1417   |\n",
      "|2035              |1399   |\n",
      "|877               |1386   |\n",
      "|17394             |1378   |\n",
      "|970               |1354   |\n",
      "|2368              |1330   |\n",
      "|1058              |1295   |\n",
      "|16520             |1105   |\n",
      "|2457              |1099   |\n",
      "|1356              |1074   |\n",
      "|13                |1056   |\n",
      "|17146             |1050   |\n",
      "|17319             |1007   |\n",
      "|16445             |1003   |\n",
      "|2312              |988    |\n",
      "|2155              |984    |\n",
      "|1001              |960    |\n",
      "|17976             |959    |\n",
      "|10                |940    |\n",
      "|16413             |919    |\n",
      "|994               |889    |\n",
      "|51                |878    |\n",
      "|17354             |834    |\n",
      "|17861             |784    |\n",
      "|16430             |783    |\n",
      "|338               |758    |\n",
      "|16397             |700    |\n",
      "|16463             |653    |\n",
      "|2339              |653    |\n",
      "|17024             |628    |\n",
      "|17190             |536    |\n",
      "|17918             |532    |\n",
      "|696               |525    |\n",
      "|16854             |523    |\n",
      "|4                 |522    |\n",
      "|16942             |519    |\n",
      "|936               |505    |\n",
      "|2097              |486    |\n",
      "|577               |470    |\n",
      "|17113             |460    |\n",
      "|67                |367    |\n",
      "|16549             |355    |\n",
      "|17831             |351    |\n",
      "|16725             |343    |\n",
      "|17202             |340    |\n",
      "|2396              |333    |\n",
      "|194               |324    |\n",
      "|223               |319    |\n",
      "|16644             |318    |\n",
      "|16601             |304    |\n",
      "|16771             |300    |\n",
      "|1378              |278    |\n",
      "|499               |271    |\n",
      "|16683             |259    |\n",
      "|2515              |259    |\n",
      "|17797             |252    |\n",
      "|16590             |232    |\n",
      "|83                |225    |\n",
      "|1532              |214    |\n",
      "|17738             |170    |\n",
      "|16433             |166    |\n",
      "|17770             |162    |\n",
      "|1002              |143    |\n",
      "|330               |141    |\n",
      "|448               |135    |\n",
      "|675               |134    |\n",
      "|17709             |130    |\n",
      "|1154              |125    |\n",
      "|1537              |102    |\n",
      "|79                |90     |\n",
      "|16566             |78     |\n",
      "|594               |77     |\n",
      "|17673             |65     |\n",
      "|242               |61     |\n",
      "|73                |56     |\n",
      "|456               |52     |\n",
      "|16387             |49     |\n",
      "|16732             |41     |\n",
      "|16389             |36     |\n",
      "|16393             |34     |\n",
      "|103               |32     |\n",
      "|2156              |30     |\n",
      "|201               |29     |\n",
      "|16500             |28     |\n",
      "|1613              |27     |\n",
      "|17643             |25     |\n",
      "|17533             |25     |\n",
      "|491               |24     |\n",
      "|1177              |21     |\n",
      "|16394             |16     |\n",
      "|1005              |16     |\n",
      "|1230              |12     |\n",
      "|17609             |11     |\n",
      "|1540              |9      |\n",
      "|17488             |9      |\n",
      "|550               |6      |\n",
      "|41736             |5      |\n",
      "|842               |5      |\n",
      "|111               |5      |\n",
      "|17446             |5      |\n",
      "|17974             |4      |\n",
      "|16399             |4      |\n",
      "|639               |4      |\n",
      "|19102             |4      |\n",
      "|601               |4      |\n",
      "|19069             |4      |\n",
      "|1670              |3      |\n",
      "|240               |3      |\n",
      "|1737              |2      |\n",
      "|226               |2      |\n",
      "|2423              |2      |\n",
      "|24241             |2      |\n",
      "|17617             |2      |\n",
      "|1322              |1      |\n",
      "|1417              |1      |\n",
      "|16391             |1      |\n",
      "|18778             |1      |\n",
      "|596               |1      |\n",
      "|183               |1      |\n",
      "|18756             |1      |\n",
      "|695               |1      |\n",
      "|206               |1      |\n",
      "|283               |1      |\n",
      "|91                |1      |\n",
      "|1232              |1      |\n",
      "|109               |1      |\n",
      "|484               |1      |\n",
      "|24149             |1      |\n",
      "|17943             |1      |\n",
      "|691               |1      |\n",
      "|23418             |1      |\n",
      "|2311              |1      |\n",
      "|21703             |1      |\n",
      "|488               |1      |\n",
      "|16425             |1      |\n",
      "|365               |1      |\n",
      "|281               |1      |\n",
      "|16498             |1      |\n",
      "|18687             |1      |\n",
      "|1149              |1      |\n",
      "|1797              |1      |\n",
      "|284               |1      |\n",
      "|24214             |1      |\n",
      "|17581             |1      |\n",
      "+------------------+-------+\n",
      "\n"
     ]
    }
   ],
   "source": [
    "OSVersion.groupBy('Census_OSVersion_3').count().orderBy('count',ascending=False).show(100000,False)"
   ]
  },
  {
   "cell_type": "code",
   "execution_count": 44,
   "metadata": {},
   "outputs": [
    {
     "data": {
      "text/plain": [
       "285"
      ]
     },
     "execution_count": 44,
     "metadata": {},
     "output_type": "execute_result"
    }
   ],
   "source": [
    "OSVersion.groupBy('Census_OSVersion_3').count().count()"
   ]
  },
  {
   "cell_type": "code",
   "execution_count": null,
   "metadata": {},
   "outputs": [],
   "source": []
  },
  {
   "cell_type": "code",
   "execution_count": 47,
   "metadata": {},
   "outputs": [
    {
     "name": "stdout",
     "output_type": "stream",
     "text": [
      "+-------+------------------+-----------------+\n",
      "|summary|Census_OSVersion_3|            count|\n",
      "+-------+------------------+-----------------+\n",
      "|  count|               285|              285|\n",
      "|   mean| 5200.571929824561|31303.44912280702|\n",
      "| stddev| 7716.680269813776|117182.5170191589|\n",
      "|    min|                 0|                1|\n",
      "|    max|             41736|          1413633|\n",
      "+-------+------------------+-----------------+\n",
      "\n"
     ]
    }
   ],
   "source": [
    "OSVersion.groupBy('Census_OSVersion_3').count().describe().show()"
   ]
  },
  {
   "cell_type": "markdown",
   "metadata": {},
   "source": [
    "## Census_OSArchitecture \n",
    "Label enconding clarisimo"
   ]
  },
  {
   "cell_type": "code",
   "execution_count": 53,
   "metadata": {},
   "outputs": [
    {
     "name": "stdout",
     "output_type": "stream",
     "text": [
      "+---------------------+-------+\n",
      "|Census_OSArchitecture|count  |\n",
      "+---------------------+-------+\n",
      "|x86                  |815252 |\n",
      "|arm64                |346    |\n",
      "|amd64                |8105885|\n",
      "+---------------------+-------+\n",
      "\n"
     ]
    }
   ],
   "source": [
    "data.groupBy(\"Census_OSArchitecture\").count().show(10,False)"
   ]
  },
  {
   "cell_type": "code",
   "execution_count": null,
   "metadata": {},
   "outputs": [],
   "source": [
    "indexer = StringIndexer(inputCol=\"Census_OSArchitecture\", outputCol=\"Census_OSArchitectureIndex\")\n",
    "data = indexer.fit(data).transform(data)\n"
   ]
  },
  {
   "cell_type": "markdown",
   "metadata": {},
   "source": [
    "## Census_OSBranch\n",
    "\n",
    "frecuencia, aunq este debería ser agrupado en realidad"
   ]
  },
  {
   "cell_type": "code",
   "execution_count": 4,
   "metadata": {
    "scrolled": false
   },
   "outputs": [
    {
     "name": "stdout",
     "output_type": "stream",
     "text": [
      "+-------------------------+-------+\n",
      "|Census_OSBranch          |count  |\n",
      "+-------------------------+-------+\n",
      "|rs4_release              |4009158|\n",
      "|rs3_release              |1237321|\n",
      "|rs3_release_svc_escrow   |1199767|\n",
      "|rs2_release              |797066 |\n",
      "|rs1_release              |785534 |\n",
      "|th2_release              |326655 |\n",
      "|th2_release_sec          |266882 |\n",
      "|th1_st1                  |195840 |\n",
      "|th1                      |75764  |\n",
      "|rs5_release              |15324  |\n",
      "|rs3_release_svc_escrow_im|6181   |\n",
      "|rs_prerelease            |3171   |\n",
      "|rs_prerelease_flt        |2714   |\n",
      "|rs5_release_sigma        |62     |\n",
      "|rs1_release_srvmedia     |10     |\n",
      "|winblue_ltsb_escrow      |8      |\n",
      "|win7sp1_ldr              |3      |\n",
      "|winblue_ltsb             |3      |\n",
      "|win8_gdr                 |3      |\n",
      "|win7sp1_ldr_escrow       |2      |\n",
      "|rs5_release_sigma_dev    |2      |\n",
      "|rs5_release_edge         |2      |\n",
      "|rs_xbox                  |2      |\n",
      "|Khmer OS                 |1      |\n",
      "|rs1_release_svc          |1      |\n",
      "|rs1_release_sec          |1      |\n",
      "|win8_ldr                 |1      |\n",
      "|rs5_release_sign         |1      |\n",
      "|rs_onecore_stack_per1    |1      |\n",
      "|rs3_release_svc          |1      |\n",
      "|rs_shell                 |1      |\n",
      "|rs_onecore_base_cobalt   |1      |\n",
      "+-------------------------+-------+\n",
      "\n"
     ]
    }
   ],
   "source": [
    "data.groupBy(\"Census_OSBranch\").count().orderBy('count',ascending=False).show(40,False)"
   ]
  },
  {
   "cell_type": "code",
   "execution_count": null,
   "metadata": {},
   "outputs": [],
   "source": [
    "frequency_census = data.groupBy('Census_OSBranch').count().withColumnRenamed('count','Census_OSBranch_freq')\n",
    "data = data.join(frequency_census,'Census_OSBranch','left')"
   ]
  },
  {
   "cell_type": "markdown",
   "metadata": {},
   "source": [
    "## Census_OSEdition"
   ]
  },
  {
   "cell_type": "markdown",
   "metadata": {},
   "source": [
    "## Census_OSSkuName"
   ]
  },
  {
   "cell_type": "markdown",
   "metadata": {},
   "source": [
    "## Census_OSInstallTypeName"
   ]
  },
  {
   "cell_type": "markdown",
   "metadata": {},
   "source": [
    "## Census_OSWUAutoUpdateOptionsName"
   ]
  },
  {
   "cell_type": "markdown",
   "metadata": {},
   "source": [
    "## Census_GenuineStateName"
   ]
  },
  {
   "cell_type": "markdown",
   "metadata": {},
   "source": [
    "## Census_ActivationChannel"
   ]
  },
  {
   "cell_type": "markdown",
   "metadata": {},
   "source": [
    "## Census_FlightRing"
   ]
  },
  {
   "cell_type": "code",
   "execution_count": null,
   "metadata": {},
   "outputs": [],
   "source": []
  },
  {
   "cell_type": "code",
   "execution_count": null,
   "metadata": {},
   "outputs": [],
   "source": []
  }
 ],
 "metadata": {
  "kernelspec": {
   "display_name": "Python 3",
   "language": "python",
   "name": "python3"
  },
  "language_info": {
   "codemirror_mode": {
    "name": "ipython",
    "version": 3
   },
   "file_extension": ".py",
   "mimetype": "text/x-python",
   "name": "python",
   "nbconvert_exporter": "python",
   "pygments_lexer": "ipython3",
   "version": "3.6.7"
  }
 },
 "nbformat": 4,
 "nbformat_minor": 2
}
