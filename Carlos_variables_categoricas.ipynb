{
 "cells": [
  {
   "cell_type": "markdown",
   "metadata": {},
   "source": [
    "Hay que tratar las siguientes variables categoricas\n",
    "\n",
    "```python\n",
    "['Census_ProcessorClass',\n",
    " 'Census_PrimaryDiskTypeName',\n",
    " 'Census_ChassisTypeName',\n",
    " 'Census_PowerPlatformRoleName',\n",
    " 'Census_InternalBatteryType',\n",
    " 'Census_OSVersion',\n",
    " 'Census_OSArchitecture',\n",
    " 'Census_OSBranch',\n",
    " 'Census_OSEdition',\n",
    " 'Census_OSSkuName',\n",
    " 'Census_OSInstallTypeName',\n",
    " 'Census_OSWUAutoUpdateOptionsName',\n",
    " 'Census_GenuineStateName',\n",
    " 'Census_ActivationChannel',\n",
    " 'Census_FlightRing']\n",
    "```"
   ]
  },
  {
   "cell_type": "markdown",
   "metadata": {},
   "source": [
    "# Imports"
   ]
  },
  {
   "cell_type": "code",
   "execution_count": 2,
   "metadata": {},
   "outputs": [],
   "source": [
    "from pyspark import SparkConf,SparkContext\n",
    "from pyspark.sql import SparkSession\n",
    "from pyspark.sql.types import StructType, StructField, StringType, DoubleType, IntegerType, LongType\n",
    "from pyspark.sql.functions import *\n",
    "\n",
    "from pyspark.ml.feature import StringIndexer\n",
    "\n",
    "import multiprocessing"
   ]
  },
  {
   "cell_type": "markdown",
   "metadata": {},
   "source": [
    "# Configuracion"
   ]
  },
  {
   "cell_type": "code",
   "execution_count": null,
   "metadata": {},
   "outputs": [],
   "source": [
    "cores = multiprocessing.cpu_count()\n",
    "p = 10\n",
    "conf = SparkConf()\n",
    "conf.set(\"spark.driver.cores\", cores)\n",
    "conf.set(\"spark.driver.memory\", \"10g\")\n",
    "conf.set(\"spark.sql.shuffle.partitions\", p * cores)\n",
    "conf.set(\"spark.default.parallelism\", p * cores)\n",
    "sc = SparkContext(conf=conf)"
   ]
  },
  {
   "cell_type": "markdown",
   "metadata": {},
   "source": [
    "# SparkSession"
   ]
  },
  {
   "cell_type": "code",
   "execution_count": 3,
   "metadata": {},
   "outputs": [],
   "source": [
    "spark = SparkSession.builder.appName(\"Microsoft_Kaggle\").getOrCreate()"
   ]
  },
  {
   "cell_type": "markdown",
   "metadata": {},
   "source": [
    "# Data"
   ]
  },
  {
   "cell_type": "code",
   "execution_count": 8,
   "metadata": {},
   "outputs": [],
   "source": [
    "data = spark.read.csv(\"data/train.csv\", header=True, inferSchema=True)"
   ]
  },
  {
   "cell_type": "markdown",
   "metadata": {},
   "source": [
    "## ProductName\n",
    "Label enconding para variables categoricas"
   ]
  },
  {
   "cell_type": "code",
   "execution_count": null,
   "metadata": {},
   "outputs": [],
   "source": [
    "indexer = StringIndexer(inputCol=\"ProductName\", outputCol=\"ProductNameIndex\")\n",
    "data = indexer.fit(data).transform(data)"
   ]
  },
  {
   "cell_type": "markdown",
   "metadata": {},
   "source": [
    "## Census_PrimaryDiskTypeName\n",
    "Label encoding para Census_PrimaryDiskTypeName."
   ]
  },
  {
   "cell_type": "code",
   "execution_count": null,
   "metadata": {},
   "outputs": [],
   "source": [
    "data = data.fillna( { 'Census_PrimaryDiskTypeName':'UNKNOWN'} )\n",
    "indexer = StringIndexer(inputCol=\"Census_PrimaryDiskTypeName\", outputCol=\"Census_PrimaryDiskTypeNameIndex\")\n",
    "data = indexer.fit(data).transform(data)"
   ]
  },
  {
   "cell_type": "markdown",
   "metadata": {},
   "source": [
    "## Census_ChassisTypeName\n",
    "Frecuencia \n"
   ]
  },
  {
   "cell_type": "code",
   "execution_count": null,
   "metadata": {},
   "outputs": [],
   "source": [
    "frequency_census = data.groupBy('Census_ChassisTypeName').count().withColumnRenamed('count','Census_ChassisTypeName_freq')\n",
    "data = data.join(frequency_census,'Census_ChassisTypeName','left')"
   ]
  },
  {
   "cell_type": "code",
   "execution_count": null,
   "metadata": {},
   "outputs": [],
   "source": []
  },
  {
   "cell_type": "code",
   "execution_count": null,
   "metadata": {},
   "outputs": [],
   "source": []
  },
  {
   "cell_type": "code",
   "execution_count": null,
   "metadata": {},
   "outputs": [],
   "source": []
  },
  {
   "cell_type": "code",
   "execution_count": null,
   "metadata": {},
   "outputs": [],
   "source": []
  }
 ],
 "metadata": {
  "kernelspec": {
   "display_name": "Python 3",
   "language": "python",
   "name": "python3"
  },
  "language_info": {
   "codemirror_mode": {
    "name": "ipython",
    "version": 3
   },
   "file_extension": ".py",
   "mimetype": "text/x-python",
   "name": "python",
   "nbconvert_exporter": "python",
   "pygments_lexer": "ipython3",
   "version": "3.6.7"
  }
 },
 "nbformat": 4,
 "nbformat_minor": 2
}
