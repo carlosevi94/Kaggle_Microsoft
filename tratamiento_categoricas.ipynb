{
 "cells": [
  {
   "cell_type": "code",
   "execution_count": 1,
   "metadata": {},
   "outputs": [],
   "source": [
    "from pyspark.sql import SparkSession\n",
    "from pyspark.sql.types import (StructType, StructField, StringType,\n",
    "                               DoubleType, IntegerType, LongType)\n",
    "from pyspark.sql.functions import *\n",
    "from pyspark import SparkConf\n",
    "from pyspark import SparkContext\n",
    "import multiprocessing"
   ]
  },
  {
   "cell_type": "code",
   "execution_count": 2,
   "metadata": {},
   "outputs": [],
   "source": [
    "cores = multiprocessing.cpu_count()\n",
    "p = 10\n",
    "conf = SparkConf()\n",
    "conf.set(\"spark.driver.cores\", cores)\n",
    "conf.set(\"spark.driver.memory\", \"10g\")\n",
    "conf.set(\"spark.sql.shuffle.partitions\", p * cores)\n",
    "conf.set(\"spark.default.parallelism\", p * cores)\n",
    "sc = SparkContext(conf=conf)"
   ]
  },
  {
   "cell_type": "code",
   "execution_count": 3,
   "metadata": {},
   "outputs": [],
   "source": [
    "spark = SparkSession.builder.appName('separador_cat_num').getOrCreate()"
   ]
  },
  {
   "cell_type": "code",
   "execution_count": 4,
   "metadata": {},
   "outputs": [],
   "source": [
    "df_cat = spark.read.csv('data/df_cat/*.csv', header=True, inferSchema=True)"
   ]
  },
  {
   "cell_type": "code",
   "execution_count": 5,
   "metadata": {},
   "outputs": [],
   "source": [
    "mis_cols = df_cat.columns[:len(df_cat.columns)//2]"
   ]
  },
  {
   "cell_type": "code",
   "execution_count": 6,
   "metadata": {},
   "outputs": [
    {
     "data": {
      "text/plain": [
       "['Census_ProcessorClass',\n",
       " 'Census_PrimaryDiskTypeName',\n",
       " 'Census_ChassisTypeName',\n",
       " 'Census_PowerPlatformRoleName',\n",
       " 'Census_InternalBatteryType',\n",
       " 'Census_OSVersion',\n",
       " 'Census_OSArchitecture',\n",
       " 'Census_OSBranch',\n",
       " 'Census_OSEdition',\n",
       " 'Census_OSSkuName',\n",
       " 'Census_OSInstallTypeName',\n",
       " 'Census_OSWUAutoUpdateOptionsName',\n",
       " 'Census_GenuineStateName',\n",
       " 'Census_ActivationChannel',\n",
       " 'Census_FlightRing']"
      ]
     },
     "execution_count": 6,
     "metadata": {},
     "output_type": "execute_result"
    }
   ],
   "source": [
    "df_cat.columns[len(df_cat.columns)//2:]"
   ]
  },
  {
   "cell_type": "code",
   "execution_count": 5,
   "metadata": {},
   "outputs": [
    {
     "name": "stdout",
     "output_type": "stream",
     "text": [
      "+--------------------------------+------------+-------------+---------------+------------+---------+---------+--------+--------------------+----------------------------------------+----------+-------+------------+---------------------+-------------------+---------------------+--------------------------+----------------------+----------------------------+--------------------------+----------------+---------------------+---------------+------------------+-------------------+------------------------+--------------------------------+-----------------------+------------------------+-----------------+\n",
      "|MachineIdentifier               |ProductName |EngineVersion|AppVersion     |AvSigVersion|Platform |Processor|OsVer   |OsPlatformSubRelease|OsBuildLab                              |SkuEdition|PuaMode|SmartScreen |Census_MDC2FormFactor|Census_DeviceFamily|Census_ProcessorClass|Census_PrimaryDiskTypeName|Census_ChassisTypeName|Census_PowerPlatformRoleName|Census_InternalBatteryType|Census_OSVersion|Census_OSArchitecture|Census_OSBranch|Census_OSEdition  |Census_OSSkuName   |Census_OSInstallTypeName|Census_OSWUAutoUpdateOptionsName|Census_GenuineStateName|Census_ActivationChannel|Census_FlightRing|\n",
      "+--------------------------------+------------+-------------+---------------+------------+---------+---------+--------+--------------------+----------------------------------------+----------+-------+------------+---------------------+-------------------+---------------------+--------------------------+----------------------+----------------------------+--------------------------+----------------+---------------------+---------------+------------------+-------------------+------------------------+--------------------------------+-----------------------+------------------------+-----------------+\n",
      "|5344f3df51737679783b5ddae24e8bb5|win8defender|1.1.15100.1  |4.18.1807.18075|1.273.1642.0|windows10|x64      |10.0.0.0|rs4                 |17134.1.amd64fre.rs4_release.180410-1804|Home      |null   |null        |Notebook             |Windows.Desktop    |null                 |HDD                       |Notebook              |Mobile                      |null                      |10.0.17134.165  |amd64                |rs4_release    |CoreSingleLanguage|CORE_SINGLELANGUAGE|IBSClean                |FullAuto                        |IS_GENUINE             |OEM:DM                  |Retail           |\n",
      "|5344f5da09650da4758d8c62c1ca2bff|win8defender|1.1.15200.1  |4.9.10586.1106 |1.275.199.0 |windows10|x64      |10.0.0.0|th2                 |10586.0.amd64fre.th2_release.151029-1700|Home      |null   |RequireAdmin|Notebook             |Windows.Desktop    |null                 |Unspecified               |Notebook              |Mobile                      |li-i                      |10.0.10586.0    |amd64                |th2_release    |Core              |CORE               |Update                  |FullAuto                        |IS_GENUINE             |Retail                  |Retail           |\n",
      "|5344fab725abad6c37cb5d4a8b2a81a3|win8defender|1.1.15100.1  |4.11.15063.447 |1.273.1420.0|windows10|x64      |10.0.0.0|rs2                 |15063.0.amd64fre.rs2_release.170317-1834|Pro       |null   |ExistsNotSet|Desktop              |Windows.Desktop    |null                 |HDD                       |Desktop               |Desktop                     |null                      |10.0.15063.608  |amd64                |rs2_release    |Professional      |PROFESSIONAL       |Update                  |Notify                          |IS_GENUINE             |Retail                  |Retail           |\n",
      "|5344fbd47e4e539c09663123491a788a|win8defender|1.1.15100.1  |4.18.1806.18062|1.273.315.0 |windows10|x64      |10.0.0.0|rs4                 |17134.1.amd64fre.rs4_release.180410-1804|Home      |null   |RequireAdmin|Notebook             |Windows.Desktop    |null                 |SSD                       |Notebook              |Mobile                      |li-i                      |10.0.17134.48   |amd64                |rs4_release    |Core              |CORE               |UUPUpgrade              |Notify                          |IS_GENUINE             |Retail                  |Unknown          |\n",
      "|5344fdfae5951a8ac7574cd2a06161c3|win8defender|1.1.15200.1  |4.11.15063.0   |1.275.370.0 |windows10|x64      |10.0.0.0|rs2                 |15063.0.amd64fre.rs2_release.170317-1834|Pro       |null   |null        |Notebook             |Windows.Desktop    |null                 |HDD                       |Portable              |Mobile                      |null                      |10.0.15063.0    |amd64                |rs2_release    |Professional      |PROFESSIONAL       |IBSClean                |UNKNOWN                         |INVALID_LICENSE        |Retail                  |Retail           |\n",
      "+--------------------------------+------------+-------------+---------------+------------+---------+---------+--------+--------------------+----------------------------------------+----------+-------+------------+---------------------+-------------------+---------------------+--------------------------+----------------------+----------------------------+--------------------------+----------------+---------------------+---------------+------------------+-------------------+------------------------+--------------------------------+-----------------------+------------------------+-----------------+\n",
      "only showing top 5 rows\n",
      "\n"
     ]
    }
   ],
   "source": [
    "df_cat.show(5, False)"
   ]
  },
  {
   "cell_type": "code",
   "execution_count": 7,
   "metadata": {},
   "outputs": [],
   "source": [
    "df_cat = df_cat.select(mis_cols)"
   ]
  },
  {
   "cell_type": "code",
   "execution_count": 71,
   "metadata": {},
   "outputs": [
    {
     "name": "stdout",
     "output_type": "stream",
     "text": [
      "+-------------+\n",
      "|  ProductName|\n",
      "+-------------+\n",
      "|          mse|\n",
      "|mseprerelease|\n",
      "| win8defender|\n",
      "|         scep|\n",
      "|windowsintune|\n",
      "|          fep|\n",
      "+-------------+\n",
      "\n"
     ]
    }
   ],
   "source": [
    "df_cat.select('ProductName').distinct().show()"
   ]
  },
  {
   "cell_type": "code",
   "execution_count": 10,
   "metadata": {},
   "outputs": [
    {
     "data": {
      "text/plain": [
       "Row(max(EngineVersion)='1.1.9700.0')"
      ]
     },
     "execution_count": 10,
     "metadata": {},
     "output_type": "execute_result"
    }
   ],
   "source": [
    "df_cat.agg({\"EngineVersion\": \"max\"}).collect()[0]"
   ]
  },
  {
   "cell_type": "code",
   "execution_count": 11,
   "metadata": {},
   "outputs": [
    {
     "data": {
      "text/plain": [
       "Row(min(EngineVersion)='1.1.10302.0')"
      ]
     },
     "execution_count": 11,
     "metadata": {},
     "output_type": "execute_result"
    }
   ],
   "source": [
    "df_cat.agg({\"EngineVersion\": \"min\"}).collect()[0]"
   ]
  },
  {
   "cell_type": "code",
   "execution_count": 8,
   "metadata": {},
   "outputs": [],
   "source": [
    "df_cat = df_cat.withColumn('EngineVersion_2', split(df_cat['EngineVersion'], '\\.')[2])\\\n",
    ".withColumn('EngineVersion_3', split(df_cat['EngineVersion'], '\\.')[3])\\\n",
    ".withColumn('EngineVersion_0', split(df_cat['EngineVersion'], '\\.')[0].cast(IntegerType()))\\\n",
    ".withColumn('EngineVersion_1', split(df_cat['EngineVersion'], '\\.')[1].cast(IntegerType()))"
   ]
  },
  {
   "cell_type": "code",
   "execution_count": null,
   "metadata": {},
   "outputs": [],
   "source": []
  },
  {
   "cell_type": "code",
   "execution_count": 9,
   "metadata": {},
   "outputs": [
    {
     "name": "stdout",
     "output_type": "stream",
     "text": [
      "+-------------+---------------+---------------+---------------+\n",
      "|EngineVersion|EngineVersion_2|EngineVersion_3|EngineVersion_0|\n",
      "+-------------+---------------+---------------+---------------+\n",
      "|1.1.15100.1  |15100          |1              |1              |\n",
      "|1.1.15200.1  |15200          |1              |1              |\n",
      "|1.1.15100.1  |15100          |1              |1              |\n",
      "|1.1.15100.1  |15100          |1              |1              |\n",
      "|1.1.15200.1  |15200          |1              |1              |\n",
      "|1.1.15200.1  |15200          |1              |1              |\n",
      "|1.1.15200.1  |15200          |1              |1              |\n",
      "|1.1.15100.1  |15100          |1              |1              |\n",
      "|1.1.15100.1  |15100          |1              |1              |\n",
      "|1.1.15100.1  |15100          |1              |1              |\n",
      "+-------------+---------------+---------------+---------------+\n",
      "only showing top 10 rows\n",
      "\n"
     ]
    }
   ],
   "source": [
    "df_cat.select('EngineVersion', 'EngineVersion_2', 'EngineVersion_3', 'EngineVersion_0').show(10, False)"
   ]
  },
  {
   "cell_type": "code",
   "execution_count": 52,
   "metadata": {},
   "outputs": [
    {
     "name": "stdout",
     "output_type": "stream",
     "text": [
      "Row(max(EngineVersion_1)=1) Row(min(EngineVersion_1)=1)\n"
     ]
    }
   ],
   "source": [
    "print(df_cat.agg({\"EngineVersion_1\": \"max\"}).collect()[0],\n",
    "      df_cat.agg({\"EngineVersion_1\": \"min\"}).collect()[0])"
   ]
  },
  {
   "cell_type": "code",
   "execution_count": 10,
   "metadata": {},
   "outputs": [],
   "source": [
    "df_cat = df_cat.withColumn('AppVersion_0', split(df_cat['AppVersion'], '\\.')[0].cast(IntegerType()))\\\n",
    ".withColumn('AppVersion_1', split(df_cat['AppVersion'], '\\.')[1].cast(IntegerType()))\\\n",
    ".withColumn('AppVersion_2', split(df_cat['AppVersion'], '\\.')[2].cast(IntegerType()))\\\n",
    ".withColumn('AppVersion_3', split(df_cat['AppVersion'], '\\.')[3].cast(IntegerType()))"
   ]
  },
  {
   "cell_type": "code",
   "execution_count": 75,
   "metadata": {},
   "outputs": [
    {
     "name": "stdout",
     "output_type": "stream",
     "text": [
      "+----------------+------------+------------+------------+------------+\n",
      "|AppVersion      |AppVersion_0|AppVersion_1|AppVersion_2|AppVersion_3|\n",
      "+----------------+------------+------------+------------+------------+\n",
      "|4.18.1807.18075 |4           |18          |1807        |18075       |\n",
      "|4.9.10586.1106  |4           |9           |10586       |1106        |\n",
      "|4.11.15063.447  |4           |11          |15063       |447         |\n",
      "|4.18.1806.18062 |4           |18          |1806        |18062       |\n",
      "|4.11.15063.0    |4           |11          |15063       |0           |\n",
      "|4.12.17007.18011|4           |12          |17007       |18011       |\n",
      "|4.18.1807.18075 |4           |18          |1807        |18075       |\n",
      "|4.14.17639.18041|4           |14          |17639       |18041       |\n",
      "|4.10.209.0      |4           |10          |209         |0           |\n",
      "|4.18.1807.18075 |4           |18          |1807        |18075       |\n",
      "+----------------+------------+------------+------------+------------+\n",
      "only showing top 10 rows\n",
      "\n"
     ]
    }
   ],
   "source": [
    "df_cat.select('AppVersion','AppVersion_0','AppVersion_1','AppVersion_2','AppVersion_3').show(10, False)"
   ]
  },
  {
   "cell_type": "code",
   "execution_count": 29,
   "metadata": {},
   "outputs": [
    {
     "data": {
      "text/plain": [
       "124"
      ]
     },
     "execution_count": 29,
     "metadata": {},
     "output_type": "execute_result"
    }
   ],
   "source": [
    "df_cat.select('AppVersion').distinct().count()"
   ]
  },
  {
   "cell_type": "code",
   "execution_count": 60,
   "metadata": {},
   "outputs": [
    {
     "name": "stdout",
     "output_type": "stream",
     "text": [
      "+-----------------+-----------------+\n",
      "|max(AppVersion_0)|min(AppVersion_0)|\n",
      "+-----------------+-----------------+\n",
      "|                4|                4|\n",
      "+-----------------+-----------------+\n",
      "\n"
     ]
    }
   ],
   "source": [
    "av.agg(max(\"AppVersion_0\"), min(\"AppVersion_0\")).show()"
   ]
  },
  {
   "cell_type": "code",
   "execution_count": 11,
   "metadata": {},
   "outputs": [
    {
     "name": "stdout",
     "output_type": "stream",
     "text": [
      "+------------+--------------+--------------+--------------+--------------+\n",
      "|AvSigVersion|AvSigVersion_0|AvSigVersion_1|AvSigVersion_2|AvSigVersion_3|\n",
      "+------------+--------------+--------------+--------------+--------------+\n",
      "|1.273.1642.0|1             |273           |1642          |0             |\n",
      "|1.275.199.0 |1             |275           |199           |0             |\n",
      "|1.273.1420.0|1             |273           |1420          |0             |\n",
      "|1.273.315.0 |1             |273           |315           |0             |\n",
      "|1.275.370.0 |1             |275           |370           |0             |\n",
      "|1.275.1140.0|1             |275           |1140          |0             |\n",
      "|1.275.1209.0|1             |275           |1209          |0             |\n",
      "|1.273.1276.0|1             |273           |1276          |0             |\n",
      "|1.273.1749.0|1             |273           |1749          |0             |\n",
      "|1.273.802.0 |1             |273           |802           |0             |\n",
      "+------------+--------------+--------------+--------------+--------------+\n",
      "only showing top 10 rows\n",
      "\n"
     ]
    }
   ],
   "source": [
    "df_cat = df_cat.withColumn('AvSigVersion_0', split(df_cat['AvSigVersion'], '\\.')[0].cast(IntegerType()))\\\n",
    ".withColumn('AvSigVersion_1', split(df_cat['AvSigVersion'], '\\.')[1].cast(IntegerType()))\\\n",
    ".withColumn('AvSigVersion_2', split(df_cat['AvSigVersion'], '\\.')[2].cast(IntegerType()))\\\n",
    ".withColumn('AvSigVersion_3', split(df_cat['AvSigVersion'], '\\.')[3].cast(IntegerType()))\n",
    "df_cat.select('AvSigVersion','AvSigVersion_0','AvSigVersion_1','AvSigVersion_2','AvSigVersion_3').show(10, False)"
   ]
  },
  {
   "cell_type": "code",
   "execution_count": 12,
   "metadata": {},
   "outputs": [
    {
     "data": {
      "text/plain": [
       "16774736"
      ]
     },
     "execution_count": 12,
     "metadata": {},
     "output_type": "execute_result"
    }
   ],
   "source": [
    "df_cat.persist()\n",
    "df_cat.count()"
   ]
  },
  {
   "cell_type": "code",
   "execution_count": 13,
   "metadata": {},
   "outputs": [
    {
     "data": {
      "text/plain": [
       "15"
      ]
     },
     "execution_count": 13,
     "metadata": {},
     "output_type": "execute_result"
    }
   ],
   "source": [
    "len(mis_cols)"
   ]
  },
  {
   "cell_type": "code",
   "execution_count": 14,
   "metadata": {},
   "outputs": [
    {
     "data": {
      "text/plain": [
       "27"
      ]
     },
     "execution_count": 14,
     "metadata": {},
     "output_type": "execute_result"
    }
   ],
   "source": [
    "len(df_cat.columns)"
   ]
  },
  {
   "cell_type": "code",
   "execution_count": 15,
   "metadata": {},
   "outputs": [
    {
     "name": "stdout",
     "output_type": "stream",
     "text": [
      "+--------------------------------+------------+-------------+---------------+------------+---------+---------+--------+--------------------+----------------------------------------+----------+-------+------------+---------------------+-------------------+---------------+---------------+---------------+---------------+------------+------------+------------+------------+--------------+--------------+--------------+--------------+\n",
      "|MachineIdentifier               |ProductName |EngineVersion|AppVersion     |AvSigVersion|Platform |Processor|OsVer   |OsPlatformSubRelease|OsBuildLab                              |SkuEdition|PuaMode|SmartScreen |Census_MDC2FormFactor|Census_DeviceFamily|EngineVersion_2|EngineVersion_3|EngineVersion_0|EngineVersion_1|AppVersion_0|AppVersion_1|AppVersion_2|AppVersion_3|AvSigVersion_0|AvSigVersion_1|AvSigVersion_2|AvSigVersion_3|\n",
      "+--------------------------------+------------+-------------+---------------+------------+---------+---------+--------+--------------------+----------------------------------------+----------+-------+------------+---------------------+-------------------+---------------+---------------+---------------+---------------+------------+------------+------------+------------+--------------+--------------+--------------+--------------+\n",
      "|5344f3df51737679783b5ddae24e8bb5|win8defender|1.1.15100.1  |4.18.1807.18075|1.273.1642.0|windows10|x64      |10.0.0.0|rs4                 |17134.1.amd64fre.rs4_release.180410-1804|Home      |null   |null        |Notebook             |Windows.Desktop    |15100          |1              |1              |1              |4           |18          |1807        |18075       |1             |273           |1642          |0             |\n",
      "|5344f5da09650da4758d8c62c1ca2bff|win8defender|1.1.15200.1  |4.9.10586.1106 |1.275.199.0 |windows10|x64      |10.0.0.0|th2                 |10586.0.amd64fre.th2_release.151029-1700|Home      |null   |RequireAdmin|Notebook             |Windows.Desktop    |15200          |1              |1              |1              |4           |9           |10586       |1106        |1             |275           |199           |0             |\n",
      "|5344fab725abad6c37cb5d4a8b2a81a3|win8defender|1.1.15100.1  |4.11.15063.447 |1.273.1420.0|windows10|x64      |10.0.0.0|rs2                 |15063.0.amd64fre.rs2_release.170317-1834|Pro       |null   |ExistsNotSet|Desktop              |Windows.Desktop    |15100          |1              |1              |1              |4           |11          |15063       |447         |1             |273           |1420          |0             |\n",
      "|5344fbd47e4e539c09663123491a788a|win8defender|1.1.15100.1  |4.18.1806.18062|1.273.315.0 |windows10|x64      |10.0.0.0|rs4                 |17134.1.amd64fre.rs4_release.180410-1804|Home      |null   |RequireAdmin|Notebook             |Windows.Desktop    |15100          |1              |1              |1              |4           |18          |1806        |18062       |1             |273           |315           |0             |\n",
      "|5344fdfae5951a8ac7574cd2a06161c3|win8defender|1.1.15200.1  |4.11.15063.0   |1.275.370.0 |windows10|x64      |10.0.0.0|rs2                 |15063.0.amd64fre.rs2_release.170317-1834|Pro       |null   |null        |Notebook             |Windows.Desktop    |15200          |1              |1              |1              |4           |11          |15063       |0           |1             |275           |370           |0             |\n",
      "+--------------------------------+------------+-------------+---------------+------------+---------+---------+--------+--------------------+----------------------------------------+----------+-------+------------+---------------------+-------------------+---------------+---------------+---------------+---------------+------------+------------+------------+------------+--------------+--------------+--------------+--------------+\n",
      "only showing top 5 rows\n",
      "\n"
     ]
    }
   ],
   "source": [
    "df_cat.show(5, False)"
   ]
  },
  {
   "cell_type": "code",
   "execution_count": 16,
   "metadata": {
    "scrolled": true
   },
   "outputs": [],
   "source": [
    "from pyspark.ml.feature import StringIndexer"
   ]
  },
  {
   "cell_type": "code",
   "execution_count": 17,
   "metadata": {},
   "outputs": [
    {
     "name": "stdout",
     "output_type": "stream",
     "text": [
      "+-----------+\n",
      "|   Platform|\n",
      "+-----------+\n",
      "|  windows10|\n",
      "|windows2016|\n",
      "|   windows8|\n",
      "|   windows7|\n",
      "+-----------+\n",
      "\n"
     ]
    }
   ],
   "source": [
    "df_cat.select('Platform').distinct().show()"
   ]
  },
  {
   "cell_type": "code",
   "execution_count": 18,
   "metadata": {},
   "outputs": [
    {
     "name": "stdout",
     "output_type": "stream",
     "text": [
      "+--------------------------------+------------+-------------+---------------+------------+---------+---------+--------+--------------------+----------------------------------------+----------+-------+------------+---------------------+-------------------+---------------+---------------+---------------+---------------+------------+------------+------------+------------+--------------+--------------+--------------+--------------+-------------+\n",
      "|MachineIdentifier               |ProductName |EngineVersion|AppVersion     |AvSigVersion|Platform |Processor|OsVer   |OsPlatformSubRelease|OsBuildLab                              |SkuEdition|PuaMode|SmartScreen |Census_MDC2FormFactor|Census_DeviceFamily|EngineVersion_2|EngineVersion_3|EngineVersion_0|EngineVersion_1|AppVersion_0|AppVersion_1|AppVersion_2|AppVersion_3|AvSigVersion_0|AvSigVersion_1|AvSigVersion_2|AvSigVersion_3|PlatformIndex|\n",
      "+--------------------------------+------------+-------------+---------------+------------+---------+---------+--------+--------------------+----------------------------------------+----------+-------+------------+---------------------+-------------------+---------------+---------------+---------------+---------------+------------+------------+------------+------------+--------------+--------------+--------------+--------------+-------------+\n",
      "|5344f3df51737679783b5ddae24e8bb5|win8defender|1.1.15100.1  |4.18.1807.18075|1.273.1642.0|windows10|x64      |10.0.0.0|rs4                 |17134.1.amd64fre.rs4_release.180410-1804|Home      |null   |null        |Notebook             |Windows.Desktop    |15100          |1              |1              |1              |4           |18          |1807        |18075       |1             |273           |1642          |0             |0.0          |\n",
      "|5344f5da09650da4758d8c62c1ca2bff|win8defender|1.1.15200.1  |4.9.10586.1106 |1.275.199.0 |windows10|x64      |10.0.0.0|th2                 |10586.0.amd64fre.th2_release.151029-1700|Home      |null   |RequireAdmin|Notebook             |Windows.Desktop    |15200          |1              |1              |1              |4           |9           |10586       |1106        |1             |275           |199           |0             |0.0          |\n",
      "|5344fab725abad6c37cb5d4a8b2a81a3|win8defender|1.1.15100.1  |4.11.15063.447 |1.273.1420.0|windows10|x64      |10.0.0.0|rs2                 |15063.0.amd64fre.rs2_release.170317-1834|Pro       |null   |ExistsNotSet|Desktop              |Windows.Desktop    |15100          |1              |1              |1              |4           |11          |15063       |447         |1             |273           |1420          |0             |0.0          |\n",
      "|5344fbd47e4e539c09663123491a788a|win8defender|1.1.15100.1  |4.18.1806.18062|1.273.315.0 |windows10|x64      |10.0.0.0|rs4                 |17134.1.amd64fre.rs4_release.180410-1804|Home      |null   |RequireAdmin|Notebook             |Windows.Desktop    |15100          |1              |1              |1              |4           |18          |1806        |18062       |1             |273           |315           |0             |0.0          |\n",
      "|5344fdfae5951a8ac7574cd2a06161c3|win8defender|1.1.15200.1  |4.11.15063.0   |1.275.370.0 |windows10|x64      |10.0.0.0|rs2                 |15063.0.amd64fre.rs2_release.170317-1834|Pro       |null   |null        |Notebook             |Windows.Desktop    |15200          |1              |1              |1              |4           |11          |15063       |0           |1             |275           |370           |0             |0.0          |\n",
      "+--------------------------------+------------+-------------+---------------+------------+---------+---------+--------+--------------------+----------------------------------------+----------+-------+------------+---------------------+-------------------+---------------+---------------+---------------+---------------+------------+------------+------------+------------+--------------+--------------+--------------+--------------+-------------+\n",
      "only showing top 5 rows\n",
      "\n"
     ]
    }
   ],
   "source": [
    "indexer = StringIndexer(inputCol=\"Platform\", outputCol=\"PlatformIndex\")\n",
    "df_cat = indexer.fit(df_cat).transform(df_cat)\n",
    "df_cat.show(5, False)"
   ]
  },
  {
   "cell_type": "code",
   "execution_count": 19,
   "metadata": {},
   "outputs": [
    {
     "name": "stdout",
     "output_type": "stream",
     "text": [
      "+---------+\n",
      "|Processor|\n",
      "+---------+\n",
      "|      x64|\n",
      "|      x86|\n",
      "|    arm64|\n",
      "+---------+\n",
      "\n"
     ]
    }
   ],
   "source": [
    "df_cat.select('Processor').distinct().show()"
   ]
  },
  {
   "cell_type": "code",
   "execution_count": 20,
   "metadata": {},
   "outputs": [
    {
     "name": "stdout",
     "output_type": "stream",
     "text": [
      "+--------------------------------+------------+-------------+---------------+------------+---------+---------+--------+--------------------+----------------------------------------+----------+-------+------------+---------------------+-------------------+---------------+---------------+---------------+---------------+------------+------------+------------+------------+--------------+--------------+--------------+--------------+-------------+--------------+\n",
      "|MachineIdentifier               |ProductName |EngineVersion|AppVersion     |AvSigVersion|Platform |Processor|OsVer   |OsPlatformSubRelease|OsBuildLab                              |SkuEdition|PuaMode|SmartScreen |Census_MDC2FormFactor|Census_DeviceFamily|EngineVersion_2|EngineVersion_3|EngineVersion_0|EngineVersion_1|AppVersion_0|AppVersion_1|AppVersion_2|AppVersion_3|AvSigVersion_0|AvSigVersion_1|AvSigVersion_2|AvSigVersion_3|PlatformIndex|ProcessorIndex|\n",
      "+--------------------------------+------------+-------------+---------------+------------+---------+---------+--------+--------------------+----------------------------------------+----------+-------+------------+---------------------+-------------------+---------------+---------------+---------------+---------------+------------+------------+------------+------------+--------------+--------------+--------------+--------------+-------------+--------------+\n",
      "|5344f3df51737679783b5ddae24e8bb5|win8defender|1.1.15100.1  |4.18.1807.18075|1.273.1642.0|windows10|x64      |10.0.0.0|rs4                 |17134.1.amd64fre.rs4_release.180410-1804|Home      |null   |null        |Notebook             |Windows.Desktop    |15100          |1              |1              |1              |4           |18          |1807        |18075       |1             |273           |1642          |0             |0.0          |0.0           |\n",
      "|5344f5da09650da4758d8c62c1ca2bff|win8defender|1.1.15200.1  |4.9.10586.1106 |1.275.199.0 |windows10|x64      |10.0.0.0|th2                 |10586.0.amd64fre.th2_release.151029-1700|Home      |null   |RequireAdmin|Notebook             |Windows.Desktop    |15200          |1              |1              |1              |4           |9           |10586       |1106        |1             |275           |199           |0             |0.0          |0.0           |\n",
      "|5344fab725abad6c37cb5d4a8b2a81a3|win8defender|1.1.15100.1  |4.11.15063.447 |1.273.1420.0|windows10|x64      |10.0.0.0|rs2                 |15063.0.amd64fre.rs2_release.170317-1834|Pro       |null   |ExistsNotSet|Desktop              |Windows.Desktop    |15100          |1              |1              |1              |4           |11          |15063       |447         |1             |273           |1420          |0             |0.0          |0.0           |\n",
      "|5344fbd47e4e539c09663123491a788a|win8defender|1.1.15100.1  |4.18.1806.18062|1.273.315.0 |windows10|x64      |10.0.0.0|rs4                 |17134.1.amd64fre.rs4_release.180410-1804|Home      |null   |RequireAdmin|Notebook             |Windows.Desktop    |15100          |1              |1              |1              |4           |18          |1806        |18062       |1             |273           |315           |0             |0.0          |0.0           |\n",
      "|5344fdfae5951a8ac7574cd2a06161c3|win8defender|1.1.15200.1  |4.11.15063.0   |1.275.370.0 |windows10|x64      |10.0.0.0|rs2                 |15063.0.amd64fre.rs2_release.170317-1834|Pro       |null   |null        |Notebook             |Windows.Desktop    |15200          |1              |1              |1              |4           |11          |15063       |0           |1             |275           |370           |0             |0.0          |0.0           |\n",
      "+--------------------------------+------------+-------------+---------------+------------+---------+---------+--------+--------------------+----------------------------------------+----------+-------+------------+---------------------+-------------------+---------------+---------------+---------------+---------------+------------+------------+------------+------------+--------------+--------------+--------------+--------------+-------------+--------------+\n",
      "only showing top 5 rows\n",
      "\n"
     ]
    }
   ],
   "source": [
    "indexer_processor = StringIndexer(inputCol=\"Processor\", outputCol=\"ProcessorIndex\")\n",
    "df_cat = indexer_processor.fit(df_cat).transform(df_cat)\n",
    "df_cat.show(5, False)"
   ]
  },
  {
   "cell_type": "code",
   "execution_count": 22,
   "metadata": {},
   "outputs": [
    {
     "data": {
      "text/plain": [
       "69"
      ]
     },
     "execution_count": 22,
     "metadata": {},
     "output_type": "execute_result"
    }
   ],
   "source": [
    "df_cat.select('OsVer').distinct().count()"
   ]
  },
  {
   "cell_type": "code",
   "execution_count": 23,
   "metadata": {},
   "outputs": [],
   "source": [
    "df_cat_freq_osver = df_cat.groupBy('OsVer').count().withColumnRenamed('count', 'OsVer_freq')"
   ]
  },
  {
   "cell_type": "code",
   "execution_count": 24,
   "metadata": {},
   "outputs": [],
   "source": [
    "df_cat = df_cat.join(df_cat_freq_osver, ['OsVer'], 'left')"
   ]
  },
  {
   "cell_type": "code",
   "execution_count": 25,
   "metadata": {},
   "outputs": [
    {
     "name": "stdout",
     "output_type": "stream",
     "text": [
      "+---------+--------------------------------+------------+-------------+---------------+------------+---------+---------+--------------------+-----------------------------------------------------+----------+-------+-----------+---------------------+-------------------+---------------+---------------+---------------+---------------+------------+------------+------------+------------+--------------+--------------+--------------+--------------+-------------+--------------+----------+\n",
      "|OsVer    |MachineIdentifier               |ProductName |EngineVersion|AppVersion     |AvSigVersion|Platform |Processor|OsPlatformSubRelease|OsBuildLab                                           |SkuEdition|PuaMode|SmartScreen|Census_MDC2FormFactor|Census_DeviceFamily|EngineVersion_2|EngineVersion_3|EngineVersion_0|EngineVersion_1|AppVersion_0|AppVersion_1|AppVersion_2|AppVersion_3|AvSigVersion_0|AvSigVersion_1|AvSigVersion_2|AvSigVersion_3|PlatformIndex|ProcessorIndex|OsVer_freq|\n",
      "+---------+--------------------------------+------------+-------------+---------------+------------+---------+---------+--------------------+-----------------------------------------------------+----------+-------+-----------+---------------------+-------------------+---------------+---------------+---------------+---------------+------------+------------+------------+------------+--------------+--------------+--------------+--------------+-------------+--------------+----------+\n",
      "|10.0.0.22|43c19df34bc4d8112a9fd0c528fa0112|win8defender|1.1.15200.1  |4.18.1807.18075|1.275.767.0 |windows10|x64      |rs3                 |16299.431.amd64fre.rs3_release_svc_escrow.180502-1908|Home      |null   |null       |Notebook             |Windows.Desktop    |15200          |1              |1              |1              |4           |18          |1807        |18075       |1             |275           |767           |0             |0.0          |0.0           |1         |\n",
      "|6.1.2.0  |d77a8f5f0ae461e2277fcabe8fca83d5|mse         |1.1.15200.1  |4.10.209.0     |1.275.1695.0|windows7 |x64      |windows7            |7601.24231.amd64fre.win7sp1_ldr.180810-0600          |Invalid   |null   |null       |Notebook             |Windows.Desktop    |15200          |1              |1              |1              |4           |10          |209         |0           |1             |275           |1695          |0             |2.0          |0.0           |3         |\n",
      "+---------+--------------------------------+------------+-------------+---------------+------------+---------+---------+--------------------+-----------------------------------------------------+----------+-------+-----------+---------------------+-------------------+---------------+---------------+---------------+---------------+------------+------------+------------+------------+--------------+--------------+--------------+--------------+-------------+--------------+----------+\n",
      "only showing top 2 rows\n",
      "\n"
     ]
    }
   ],
   "source": [
    "df_cat.show(2, False)"
   ]
  },
  {
   "cell_type": "code",
   "execution_count": 27,
   "metadata": {},
   "outputs": [
    {
     "name": "stdout",
     "output_type": "stream",
     "text": [
      "+----------+----------+\n",
      "|OsVer     |OsVer_freq|\n",
      "+----------+----------+\n",
      "|10.0.0.22 |1         |\n",
      "|6.1.2.0   |3         |\n",
      "|6.3.2.0   |1         |\n",
      "|10.0.5.117|1         |\n",
      "|10.0.19.80|1         |\n",
      "|10.0.32.72|39        |\n",
      "|6.3.80.0  |1         |\n",
      "|6.3.4.0   |4         |\n",
      "|10.0.0.112|12        |\n",
      "|6.3.1.144 |1         |\n",
      "|10.0.1.44 |4         |\n",
      "|10.0.2.86 |4         |\n",
      "|6.1.0.0   |1154      |\n",
      "|10.0.2.0  |45        |\n",
      "|10.0.7.80 |2         |\n",
      "|10.0.0.80 |1         |\n",
      "|10.0.0.96 |1         |\n",
      "|6.1.1.0   |147921    |\n",
      "|6.3.0.16  |1         |\n",
      "|10.0.16.0 |14        |\n",
      "+----------+----------+\n",
      "only showing top 20 rows\n",
      "\n"
     ]
    }
   ],
   "source": [
    "df_cat_freq_osver.show(truncate=False)"
   ]
  },
  {
   "cell_type": "code",
   "execution_count": 28,
   "metadata": {},
   "outputs": [
    {
     "data": {
      "text/plain": [
       "9"
      ]
     },
     "execution_count": 28,
     "metadata": {},
     "output_type": "execute_result"
    }
   ],
   "source": [
    "df_cat.select('OsPlatformSubRelease').distinct().count()"
   ]
  },
  {
   "cell_type": "code",
   "execution_count": 30,
   "metadata": {},
   "outputs": [
    {
     "name": "stdout",
     "output_type": "stream",
     "text": [
      "+---------+--------------------------------+------------+-------------+---------------+------------+---------+---------+--------------------+-----------------------------------------------------+----------+-------+-----------+---------------------+-------------------+---------------+---------------+---------------+---------------+------------+------------+------------+------------+--------------+--------------+--------------+--------------+-------------+--------------+----------+-------------------------+\n",
      "|OsVer    |MachineIdentifier               |ProductName |EngineVersion|AppVersion     |AvSigVersion|Platform |Processor|OsPlatformSubRelease|OsBuildLab                                           |SkuEdition|PuaMode|SmartScreen|Census_MDC2FormFactor|Census_DeviceFamily|EngineVersion_2|EngineVersion_3|EngineVersion_0|EngineVersion_1|AppVersion_0|AppVersion_1|AppVersion_2|AppVersion_3|AvSigVersion_0|AvSigVersion_1|AvSigVersion_2|AvSigVersion_3|PlatformIndex|ProcessorIndex|OsVer_freq|OsPlatformSubReleaseIndex|\n",
      "+---------+--------------------------------+------------+-------------+---------------+------------+---------+---------+--------------------+-----------------------------------------------------+----------+-------+-----------+---------------------+-------------------+---------------+---------------+---------------+---------------+------------+------------+------------+------------+--------------+--------------+--------------+--------------+-------------+--------------+----------+-------------------------+\n",
      "|10.0.0.22|43c19df34bc4d8112a9fd0c528fa0112|win8defender|1.1.15200.1  |4.18.1807.18075|1.275.767.0 |windows10|x64      |rs3                 |16299.431.amd64fre.rs3_release_svc_escrow.180502-1908|Home      |null   |null       |Notebook             |Windows.Desktop    |15200          |1              |1              |1              |4           |18          |1807        |18075       |1             |275           |767           |0             |0.0          |0.0           |1         |1.0                      |\n",
      "|6.1.2.0  |d77a8f5f0ae461e2277fcabe8fca83d5|mse         |1.1.15200.1  |4.10.209.0     |1.275.1695.0|windows7 |x64      |windows7            |7601.24231.amd64fre.win7sp1_ldr.180810-0600          |Invalid   |null   |null       |Notebook             |Windows.Desktop    |15200          |1              |1              |1              |4           |10          |209         |0           |1             |275           |1695          |0             |2.0          |0.0           |3         |8.0                      |\n",
      "+---------+--------------------------------+------------+-------------+---------------+------------+---------+---------+--------------------+-----------------------------------------------------+----------+-------+-----------+---------------------+-------------------+---------------+---------------+---------------+---------------+------------+------------+------------+------------+--------------+--------------+--------------+--------------+-------------+--------------+----------+-------------------------+\n",
      "only showing top 2 rows\n",
      "\n"
     ]
    }
   ],
   "source": [
    "indexer_OsPlatformSubRelease = StringIndexer(inputCol=\"OsPlatformSubRelease\", outputCol=\"OsPlatformSubReleaseIndex\")\n",
    "df_cat = indexer_OsPlatformSubRelease.fit(df_cat).transform(df_cat)\n",
    "df_cat.show(2, False)"
   ]
  },
  {
   "cell_type": "code",
   "execution_count": 31,
   "metadata": {},
   "outputs": [
    {
     "name": "stdout",
     "output_type": "stream",
     "text": [
      "+---------+--------------------------------+------------+-------------+---------------+------------+---------+---------+--------------------+-----------------------------------------------------+----------+-------+------------+---------------------+-------------------+---------------+---------------+---------------+---------------+------------+------------+------------+------------+--------------+--------------+--------------+--------------+-------------+--------------+----------+-------------------------+------------+------------+------------+----------------------+------------+\n",
      "|OsVer    |MachineIdentifier               |ProductName |EngineVersion|AppVersion     |AvSigVersion|Platform |Processor|OsPlatformSubRelease|OsBuildLab                                           |SkuEdition|PuaMode|SmartScreen |Census_MDC2FormFactor|Census_DeviceFamily|EngineVersion_2|EngineVersion_3|EngineVersion_0|EngineVersion_1|AppVersion_0|AppVersion_1|AppVersion_2|AppVersion_3|AvSigVersion_0|AvSigVersion_1|AvSigVersion_2|AvSigVersion_3|PlatformIndex|ProcessorIndex|OsVer_freq|OsPlatformSubReleaseIndex|OsBuildLab_0|OsBuildLab_1|OsBuildLab_2|OsBuildLab_3          |OsBuildLab_4|\n",
      "+---------+--------------------------------+------------+-------------+---------------+------------+---------+---------+--------------------+-----------------------------------------------------+----------+-------+------------+---------------------+-------------------+---------------+---------------+---------------+---------------+------------+------------+------------+------------+--------------+--------------+--------------+--------------+-------------+--------------+----------+-------------------------+------------+------------+------------+----------------------+------------+\n",
      "|10.0.0.22|43c19df34bc4d8112a9fd0c528fa0112|win8defender|1.1.15200.1  |4.18.1807.18075|1.275.767.0 |windows10|x64      |rs3                 |16299.431.amd64fre.rs3_release_svc_escrow.180502-1908|Home      |null   |null        |Notebook             |Windows.Desktop    |15200          |1              |1              |1              |4           |18          |1807        |18075       |1             |275           |767           |0             |0.0          |0.0           |1         |1.0                      |16299       |431         |amd64fre    |rs3_release_svc_escrow|180502-1908 |\n",
      "|6.1.2.0  |d77a8f5f0ae461e2277fcabe8fca83d5|mse         |1.1.15200.1  |4.10.209.0     |1.275.1695.0|windows7 |x64      |windows7            |7601.24231.amd64fre.win7sp1_ldr.180810-0600          |Invalid   |null   |null        |Notebook             |Windows.Desktop    |15200          |1              |1              |1              |4           |10          |209         |0           |1             |275           |1695          |0             |2.0          |0.0           |3         |8.0                      |7601        |24231       |amd64fre    |win7sp1_ldr           |180810-0600 |\n",
      "|6.1.2.0  |912bf9d36ffb93886eb2e2b4d9a07a58|mse         |1.1.15100.1  |4.10.209.0     |1.273.1054.0|windows7 |x86      |windows7            |7601.24168.x86fre.win7sp1_ldr.180608-0600            |Invalid   |null   |null        |AllInOne             |Windows.Desktop    |15100          |1              |1              |1              |4           |10          |209         |0           |1             |273           |1054          |0             |2.0          |1.0           |3         |8.0                      |7601        |24168       |x86fre      |win7sp1_ldr           |180608-0600 |\n",
      "|6.1.2.0  |7f14dba40a6933c8182dc12577c46856|mse         |1.1.15400.4  |4.10.209.0     |1.279.416.0 |windows7 |x64      |windows7            |7601.24231.amd64fre.win7sp1_ldr.180810-0600          |Invalid   |null   |ExistsNotSet|AllInOne             |Windows.Desktop    |15400          |4              |1              |1              |4           |10          |209         |0           |1             |279           |416           |0             |2.0          |0.0           |3         |8.0                      |7601        |24231       |amd64fre    |win7sp1_ldr           |180810-0600 |\n",
      "|6.3.2.0  |0dc8130feeebb41ea084fe2960ea801f|win8defender|1.1.15300.6  |4.10.209.0     |1.277.992.0 |windows8 |x64      |windows8.1          |9600.19153.amd64fre.winblue_ltsb.180908-0600         |Home      |null   |Off         |Convertible          |Windows.Desktop    |15300          |6              |1              |1              |4           |10          |209         |0           |1             |277           |992           |0             |1.0          |0.0           |1         |7.0                      |9600        |19153       |amd64fre    |winblue_ltsb          |180908-0600 |\n",
      "+---------+--------------------------------+------------+-------------+---------------+------------+---------+---------+--------------------+-----------------------------------------------------+----------+-------+------------+---------------------+-------------------+---------------+---------------+---------------+---------------+------------+------------+------------+------------+--------------+--------------+--------------+--------------+-------------+--------------+----------+-------------------------+------------+------------+------------+----------------------+------------+\n",
      "only showing top 5 rows\n",
      "\n"
     ]
    }
   ],
   "source": [
    "df_cat = df_cat.withColumn('OsBuildLab_0', split(df_cat['OsBuildLab'], '\\.')[0].cast(IntegerType()))\\\n",
    ".withColumn('OsBuildLab_1', split(df_cat['OsBuildLab'], '\\.')[1].cast(IntegerType()))\\\n",
    ".withColumn('OsBuildLab_2', split(df_cat['OsBuildLab'], '\\.')[2])\\\n",
    ".withColumn('OsBuildLab_3', split(df_cat['OsBuildLab'], '\\.')[3])\\\n",
    ".withColumn('OsBuildLab_4', split(df_cat['OsBuildLab'], '\\.')[4])\n",
    "df_cat.show(5, False)"
   ]
  },
  {
   "cell_type": "code",
   "execution_count": 32,
   "metadata": {},
   "outputs": [
    {
     "name": "stdout",
     "output_type": "stream",
     "text": [
      "+---------+--------------------------------+------------+-------------+---------------+------------+---------+---------+--------------------+-----------------------------------------------------+----------+-------+------------+---------------------+-------------------+---------------+---------------+---------------+---------------+------------+------------+------------+------------+--------------+--------------+--------------+--------------+-------------+--------------+----------+-------------------------+------------+------------+------------+----------------------+------------+--------------+--------------+\n",
      "|OsVer    |MachineIdentifier               |ProductName |EngineVersion|AppVersion     |AvSigVersion|Platform |Processor|OsPlatformSubRelease|OsBuildLab                                           |SkuEdition|PuaMode|SmartScreen |Census_MDC2FormFactor|Census_DeviceFamily|EngineVersion_2|EngineVersion_3|EngineVersion_0|EngineVersion_1|AppVersion_0|AppVersion_1|AppVersion_2|AppVersion_3|AvSigVersion_0|AvSigVersion_1|AvSigVersion_2|AvSigVersion_3|PlatformIndex|ProcessorIndex|OsVer_freq|OsPlatformSubReleaseIndex|OsBuildLab_0|OsBuildLab_1|OsBuildLab_2|OsBuildLab_3          |OsBuildLab_4|OsBuildLab_4_0|OsBuildLab_4_1|\n",
      "+---------+--------------------------------+------------+-------------+---------------+------------+---------+---------+--------------------+-----------------------------------------------------+----------+-------+------------+---------------------+-------------------+---------------+---------------+---------------+---------------+------------+------------+------------+------------+--------------+--------------+--------------+--------------+-------------+--------------+----------+-------------------------+------------+------------+------------+----------------------+------------+--------------+--------------+\n",
      "|10.0.0.22|43c19df34bc4d8112a9fd0c528fa0112|win8defender|1.1.15200.1  |4.18.1807.18075|1.275.767.0 |windows10|x64      |rs3                 |16299.431.amd64fre.rs3_release_svc_escrow.180502-1908|Home      |null   |null        |Notebook             |Windows.Desktop    |15200          |1              |1              |1              |4           |18          |1807        |18075       |1             |275           |767           |0             |0.0          |0.0           |1         |1.0                      |16299       |431         |amd64fre    |rs3_release_svc_escrow|180502-1908 |180502        |1908          |\n",
      "|6.1.2.0  |d77a8f5f0ae461e2277fcabe8fca83d5|mse         |1.1.15200.1  |4.10.209.0     |1.275.1695.0|windows7 |x64      |windows7            |7601.24231.amd64fre.win7sp1_ldr.180810-0600          |Invalid   |null   |null        |Notebook             |Windows.Desktop    |15200          |1              |1              |1              |4           |10          |209         |0           |1             |275           |1695          |0             |2.0          |0.0           |3         |8.0                      |7601        |24231       |amd64fre    |win7sp1_ldr           |180810-0600 |180810        |600           |\n",
      "|6.1.2.0  |912bf9d36ffb93886eb2e2b4d9a07a58|mse         |1.1.15100.1  |4.10.209.0     |1.273.1054.0|windows7 |x86      |windows7            |7601.24168.x86fre.win7sp1_ldr.180608-0600            |Invalid   |null   |null        |AllInOne             |Windows.Desktop    |15100          |1              |1              |1              |4           |10          |209         |0           |1             |273           |1054          |0             |2.0          |1.0           |3         |8.0                      |7601        |24168       |x86fre      |win7sp1_ldr           |180608-0600 |180608        |600           |\n",
      "|6.1.2.0  |7f14dba40a6933c8182dc12577c46856|mse         |1.1.15400.4  |4.10.209.0     |1.279.416.0 |windows7 |x64      |windows7            |7601.24231.amd64fre.win7sp1_ldr.180810-0600          |Invalid   |null   |ExistsNotSet|AllInOne             |Windows.Desktop    |15400          |4              |1              |1              |4           |10          |209         |0           |1             |279           |416           |0             |2.0          |0.0           |3         |8.0                      |7601        |24231       |amd64fre    |win7sp1_ldr           |180810-0600 |180810        |600           |\n",
      "|6.3.2.0  |0dc8130feeebb41ea084fe2960ea801f|win8defender|1.1.15300.6  |4.10.209.0     |1.277.992.0 |windows8 |x64      |windows8.1          |9600.19153.amd64fre.winblue_ltsb.180908-0600         |Home      |null   |Off         |Convertible          |Windows.Desktop    |15300          |6              |1              |1              |4           |10          |209         |0           |1             |277           |992           |0             |1.0          |0.0           |1         |7.0                      |9600        |19153       |amd64fre    |winblue_ltsb          |180908-0600 |180908        |600           |\n",
      "+---------+--------------------------------+------------+-------------+---------------+------------+---------+---------+--------------------+-----------------------------------------------------+----------+-------+------------+---------------------+-------------------+---------------+---------------+---------------+---------------+------------+------------+------------+------------+--------------+--------------+--------------+--------------+-------------+--------------+----------+-------------------------+------------+------------+------------+----------------------+------------+--------------+--------------+\n",
      "only showing top 5 rows\n",
      "\n"
     ]
    }
   ],
   "source": [
    "df_cat = df_cat.withColumn('OsBuildLab_4_0', split(df_cat['OsBuildLab_4'], '-')[0].cast(IntegerType()))\\\n",
    ".withColumn('OsBuildLab_4_1', split(df_cat['OsBuildLab_4'], '-')[1].cast(IntegerType()))\n",
    "df_cat.show(5, False)"
   ]
  },
  {
   "cell_type": "code",
   "execution_count": null,
   "metadata": {},
   "outputs": [],
   "source": []
  }
 ],
 "metadata": {
  "kernelspec": {
   "display_name": "Python 3",
   "language": "python",
   "name": "python3"
  },
  "language_info": {
   "codemirror_mode": {
    "name": "ipython",
    "version": 3
   },
   "file_extension": ".py",
   "mimetype": "text/x-python",
   "name": "python",
   "nbconvert_exporter": "python",
   "pygments_lexer": "ipython3",
   "version": "3.6.7"
  }
 },
 "nbformat": 4,
 "nbformat_minor": 2
}
