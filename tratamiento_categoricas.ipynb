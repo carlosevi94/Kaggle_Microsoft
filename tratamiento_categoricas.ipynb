{
 "cells": [
  {
   "cell_type": "code",
   "execution_count": 1,
   "metadata": {},
   "outputs": [],
   "source": [
    "from pyspark.sql import SparkSession\n",
    "from pyspark.sql.types import (StructType, StructField, StringType,\n",
    "                               DoubleType, IntegerType, LongType)\n",
    "from pyspark.sql.functions import *\n",
    "from pyspark import SparkConf\n",
    "from pyspark import SparkContext\n",
    "import multiprocessing"
   ]
  },
  {
   "cell_type": "code",
   "execution_count": 2,
   "metadata": {},
   "outputs": [],
   "source": [
    "cores = multiprocessing.cpu_count()\n",
    "p = 10\n",
    "conf = SparkConf()\n",
    "conf.set(\"spark.driver.cores\", cores)\n",
    "conf.set(\"spark.driver.memory\", \"10g\")\n",
    "conf.set(\"spark.sql.shuffle.partitions\", p * cores)\n",
    "conf.set(\"spark.default.parallelism\", p * cores)\n",
    "sc = SparkContext(conf=conf)"
   ]
  },
  {
   "cell_type": "code",
   "execution_count": 3,
   "metadata": {},
   "outputs": [],
   "source": [
    "spark = SparkSession.builder.appName('separador_cat_num').getOrCreate()"
   ]
  },
  {
   "cell_type": "code",
   "execution_count": 4,
   "metadata": {},
   "outputs": [],
   "source": [
    "df_cat = spark.read.csv('data/df_cat/*.csv', header=True, inferSchema=True)"
   ]
  },
  {
   "cell_type": "code",
   "execution_count": 69,
   "metadata": {},
   "outputs": [],
   "source": [
    "mis_cols = df_cat.columns[:len(df_cat.columns)//2]"
   ]
  },
  {
   "cell_type": "code",
   "execution_count": 67,
   "metadata": {},
   "outputs": [
    {
     "data": {
      "text/plain": [
       "['Census_ProcessorClass',\n",
       " 'Census_PrimaryDiskTypeName',\n",
       " 'Census_ChassisTypeName',\n",
       " 'Census_PowerPlatformRoleName',\n",
       " 'Census_InternalBatteryType',\n",
       " 'Census_OSVersion',\n",
       " 'Census_OSArchitecture',\n",
       " 'Census_OSBranch',\n",
       " 'Census_OSEdition',\n",
       " 'Census_OSSkuName',\n",
       " 'Census_OSInstallTypeName',\n",
       " 'Census_OSWUAutoUpdateOptionsName',\n",
       " 'Census_GenuineStateName',\n",
       " 'Census_ActivationChannel',\n",
       " 'Census_FlightRing']"
      ]
     },
     "execution_count": 67,
     "metadata": {},
     "output_type": "execute_result"
    }
   ],
   "source": [
    "df_cat.columns[len(df_cat.columns)//2:]"
   ]
  },
  {
   "cell_type": "code",
   "execution_count": 5,
   "metadata": {},
   "outputs": [
    {
     "name": "stdout",
     "output_type": "stream",
     "text": [
      "+--------------------------------+------------+-------------+---------------+------------+---------+---------+--------+--------------------+----------------------------------------+----------+-------+------------+---------------------+-------------------+---------------------+--------------------------+----------------------+----------------------------+--------------------------+----------------+---------------------+---------------+------------------+-------------------+------------------------+--------------------------------+-----------------------+------------------------+-----------------+\n",
      "|MachineIdentifier               |ProductName |EngineVersion|AppVersion     |AvSigVersion|Platform |Processor|OsVer   |OsPlatformSubRelease|OsBuildLab                              |SkuEdition|PuaMode|SmartScreen |Census_MDC2FormFactor|Census_DeviceFamily|Census_ProcessorClass|Census_PrimaryDiskTypeName|Census_ChassisTypeName|Census_PowerPlatformRoleName|Census_InternalBatteryType|Census_OSVersion|Census_OSArchitecture|Census_OSBranch|Census_OSEdition  |Census_OSSkuName   |Census_OSInstallTypeName|Census_OSWUAutoUpdateOptionsName|Census_GenuineStateName|Census_ActivationChannel|Census_FlightRing|\n",
      "+--------------------------------+------------+-------------+---------------+------------+---------+---------+--------+--------------------+----------------------------------------+----------+-------+------------+---------------------+-------------------+---------------------+--------------------------+----------------------+----------------------------+--------------------------+----------------+---------------------+---------------+------------------+-------------------+------------------------+--------------------------------+-----------------------+------------------------+-----------------+\n",
      "|5344f3df51737679783b5ddae24e8bb5|win8defender|1.1.15100.1  |4.18.1807.18075|1.273.1642.0|windows10|x64      |10.0.0.0|rs4                 |17134.1.amd64fre.rs4_release.180410-1804|Home      |null   |null        |Notebook             |Windows.Desktop    |null                 |HDD                       |Notebook              |Mobile                      |null                      |10.0.17134.165  |amd64                |rs4_release    |CoreSingleLanguage|CORE_SINGLELANGUAGE|IBSClean                |FullAuto                        |IS_GENUINE             |OEM:DM                  |Retail           |\n",
      "|5344f5da09650da4758d8c62c1ca2bff|win8defender|1.1.15200.1  |4.9.10586.1106 |1.275.199.0 |windows10|x64      |10.0.0.0|th2                 |10586.0.amd64fre.th2_release.151029-1700|Home      |null   |RequireAdmin|Notebook             |Windows.Desktop    |null                 |Unspecified               |Notebook              |Mobile                      |li-i                      |10.0.10586.0    |amd64                |th2_release    |Core              |CORE               |Update                  |FullAuto                        |IS_GENUINE             |Retail                  |Retail           |\n",
      "|5344fab725abad6c37cb5d4a8b2a81a3|win8defender|1.1.15100.1  |4.11.15063.447 |1.273.1420.0|windows10|x64      |10.0.0.0|rs2                 |15063.0.amd64fre.rs2_release.170317-1834|Pro       |null   |ExistsNotSet|Desktop              |Windows.Desktop    |null                 |HDD                       |Desktop               |Desktop                     |null                      |10.0.15063.608  |amd64                |rs2_release    |Professional      |PROFESSIONAL       |Update                  |Notify                          |IS_GENUINE             |Retail                  |Retail           |\n",
      "|5344fbd47e4e539c09663123491a788a|win8defender|1.1.15100.1  |4.18.1806.18062|1.273.315.0 |windows10|x64      |10.0.0.0|rs4                 |17134.1.amd64fre.rs4_release.180410-1804|Home      |null   |RequireAdmin|Notebook             |Windows.Desktop    |null                 |SSD                       |Notebook              |Mobile                      |li-i                      |10.0.17134.48   |amd64                |rs4_release    |Core              |CORE               |UUPUpgrade              |Notify                          |IS_GENUINE             |Retail                  |Unknown          |\n",
      "|5344fdfae5951a8ac7574cd2a06161c3|win8defender|1.1.15200.1  |4.11.15063.0   |1.275.370.0 |windows10|x64      |10.0.0.0|rs2                 |15063.0.amd64fre.rs2_release.170317-1834|Pro       |null   |null        |Notebook             |Windows.Desktop    |null                 |HDD                       |Portable              |Mobile                      |null                      |10.0.15063.0    |amd64                |rs2_release    |Professional      |PROFESSIONAL       |IBSClean                |UNKNOWN                         |INVALID_LICENSE        |Retail                  |Retail           |\n",
      "+--------------------------------+------------+-------------+---------------+------------+---------+---------+--------+--------------------+----------------------------------------+----------+-------+------------+---------------------+-------------------+---------------------+--------------------------+----------------------+----------------------------+--------------------------+----------------+---------------------+---------------+------------------+-------------------+------------------------+--------------------------------+-----------------------+------------------------+-----------------+\n",
      "only showing top 5 rows\n",
      "\n"
     ]
    }
   ],
   "source": [
    "df_cat.show(5, False)"
   ]
  },
  {
   "cell_type": "code",
   "execution_count": 70,
   "metadata": {},
   "outputs": [],
   "source": [
    "df_cat = df_cat.select(mis_cols)"
   ]
  },
  {
   "cell_type": "code",
   "execution_count": 71,
   "metadata": {},
   "outputs": [
    {
     "name": "stdout",
     "output_type": "stream",
     "text": [
      "+-------------+\n",
      "|  ProductName|\n",
      "+-------------+\n",
      "|          mse|\n",
      "|mseprerelease|\n",
      "| win8defender|\n",
      "|         scep|\n",
      "|windowsintune|\n",
      "|          fep|\n",
      "+-------------+\n",
      "\n"
     ]
    }
   ],
   "source": [
    "df_cat.select('ProductName').distinct().show()"
   ]
  },
  {
   "cell_type": "code",
   "execution_count": 10,
   "metadata": {},
   "outputs": [
    {
     "data": {
      "text/plain": [
       "Row(max(EngineVersion)='1.1.9700.0')"
      ]
     },
     "execution_count": 10,
     "metadata": {},
     "output_type": "execute_result"
    }
   ],
   "source": [
    "df_cat.agg({\"EngineVersion\": \"max\"}).collect()[0]"
   ]
  },
  {
   "cell_type": "code",
   "execution_count": 11,
   "metadata": {},
   "outputs": [
    {
     "data": {
      "text/plain": [
       "Row(min(EngineVersion)='1.1.10302.0')"
      ]
     },
     "execution_count": 11,
     "metadata": {},
     "output_type": "execute_result"
    }
   ],
   "source": [
    "df_cat.agg({\"EngineVersion\": \"min\"}).collect()[0]"
   ]
  },
  {
   "cell_type": "code",
   "execution_count": 72,
   "metadata": {},
   "outputs": [],
   "source": [
    "df_cat = df_cat.withColumn('EngineVersion_2', split(df_cat['EngineVersion'], '\\.')[2])\\\n",
    ".withColumn('EngineVersion_3', split(df_cat['EngineVersion'], '\\.')[3])\\\n",
    ".withColumn('EngineVersion_0', split(df_cat['EngineVersion'], '\\.')[0].cast(IntegerType()))\\\n",
    ".withColumn('EngineVersion_1', split(df_cat['EngineVersion'], '\\.')[1].cast(IntegerType()))"
   ]
  },
  {
   "cell_type": "code",
   "execution_count": null,
   "metadata": {},
   "outputs": [],
   "source": []
  },
  {
   "cell_type": "code",
   "execution_count": 73,
   "metadata": {},
   "outputs": [
    {
     "name": "stdout",
     "output_type": "stream",
     "text": [
      "+-------------+---------------+---------------+---------------+\n",
      "|EngineVersion|EngineVersion_2|EngineVersion_3|EngineVersion_0|\n",
      "+-------------+---------------+---------------+---------------+\n",
      "|1.1.15100.1  |15100          |1              |1              |\n",
      "|1.1.15200.1  |15200          |1              |1              |\n",
      "|1.1.15100.1  |15100          |1              |1              |\n",
      "|1.1.15100.1  |15100          |1              |1              |\n",
      "|1.1.15200.1  |15200          |1              |1              |\n",
      "|1.1.15200.1  |15200          |1              |1              |\n",
      "|1.1.15200.1  |15200          |1              |1              |\n",
      "|1.1.15100.1  |15100          |1              |1              |\n",
      "|1.1.15100.1  |15100          |1              |1              |\n",
      "|1.1.15100.1  |15100          |1              |1              |\n",
      "+-------------+---------------+---------------+---------------+\n",
      "only showing top 10 rows\n",
      "\n"
     ]
    }
   ],
   "source": [
    "df_cat.select('EngineVersion', 'EngineVersion_2', 'EngineVersion_3', 'EngineVersion_0').show(10, False)"
   ]
  },
  {
   "cell_type": "code",
   "execution_count": 52,
   "metadata": {},
   "outputs": [
    {
     "name": "stdout",
     "output_type": "stream",
     "text": [
      "Row(max(EngineVersion_1)=1) Row(min(EngineVersion_1)=1)\n"
     ]
    }
   ],
   "source": [
    "print(df_cat.agg({\"EngineVersion_1\": \"max\"}).collect()[0],\n",
    "      df_cat.agg({\"EngineVersion_1\": \"min\"}).collect()[0])"
   ]
  },
  {
   "cell_type": "code",
   "execution_count": 74,
   "metadata": {},
   "outputs": [],
   "source": [
    "df_cat = df_cat.withColumn('AppVersion_0', split(df_cat['AppVersion'], '\\.')[0].cast(IntegerType()))\\\n",
    ".withColumn('AppVersion_1', split(df_cat['AppVersion'], '\\.')[1].cast(IntegerType()))\\\n",
    ".withColumn('AppVersion_2', split(df_cat['AppVersion'], '\\.')[2].cast(IntegerType()))\\\n",
    ".withColumn('AppVersion_3', split(df_cat['AppVersion'], '\\.')[3].cast(IntegerType()))"
   ]
  },
  {
   "cell_type": "code",
   "execution_count": 75,
   "metadata": {},
   "outputs": [
    {
     "name": "stdout",
     "output_type": "stream",
     "text": [
      "+----------------+------------+------------+------------+------------+\n",
      "|AppVersion      |AppVersion_0|AppVersion_1|AppVersion_2|AppVersion_3|\n",
      "+----------------+------------+------------+------------+------------+\n",
      "|4.18.1807.18075 |4           |18          |1807        |18075       |\n",
      "|4.9.10586.1106  |4           |9           |10586       |1106        |\n",
      "|4.11.15063.447  |4           |11          |15063       |447         |\n",
      "|4.18.1806.18062 |4           |18          |1806        |18062       |\n",
      "|4.11.15063.0    |4           |11          |15063       |0           |\n",
      "|4.12.17007.18011|4           |12          |17007       |18011       |\n",
      "|4.18.1807.18075 |4           |18          |1807        |18075       |\n",
      "|4.14.17639.18041|4           |14          |17639       |18041       |\n",
      "|4.10.209.0      |4           |10          |209         |0           |\n",
      "|4.18.1807.18075 |4           |18          |1807        |18075       |\n",
      "+----------------+------------+------------+------------+------------+\n",
      "only showing top 10 rows\n",
      "\n"
     ]
    }
   ],
   "source": [
    "df_cat.select('AppVersion','AppVersion_0','AppVersion_1','AppVersion_2','AppVersion_3').show(10, False)"
   ]
  },
  {
   "cell_type": "code",
   "execution_count": 60,
   "metadata": {},
   "outputs": [
    {
     "name": "stdout",
     "output_type": "stream",
     "text": [
      "+-----------------+-----------------+\n",
      "|max(AppVersion_0)|min(AppVersion_0)|\n",
      "+-----------------+-----------------+\n",
      "|                4|                4|\n",
      "+-----------------+-----------------+\n",
      "\n"
     ]
    }
   ],
   "source": [
    "av.agg(max(\"AppVersion_0\"), min(\"AppVersion_0\")).show()"
   ]
  },
  {
   "cell_type": "code",
   "execution_count": 76,
   "metadata": {},
   "outputs": [
    {
     "name": "stdout",
     "output_type": "stream",
     "text": [
      "+------------+--------------+--------------+--------------+--------------+\n",
      "|AvSigVersion|AvSigVersion_0|AvSigVersion_1|AvSigVersion_2|AvSigVersion_3|\n",
      "+------------+--------------+--------------+--------------+--------------+\n",
      "|1.273.1642.0|1             |273           |1642          |0             |\n",
      "|1.275.199.0 |1             |275           |199           |0             |\n",
      "|1.273.1420.0|1             |273           |1420          |0             |\n",
      "|1.273.315.0 |1             |273           |315           |0             |\n",
      "|1.275.370.0 |1             |275           |370           |0             |\n",
      "|1.275.1140.0|1             |275           |1140          |0             |\n",
      "|1.275.1209.0|1             |275           |1209          |0             |\n",
      "|1.273.1276.0|1             |273           |1276          |0             |\n",
      "|1.273.1749.0|1             |273           |1749          |0             |\n",
      "|1.273.802.0 |1             |273           |802           |0             |\n",
      "+------------+--------------+--------------+--------------+--------------+\n",
      "only showing top 10 rows\n",
      "\n"
     ]
    }
   ],
   "source": [
    "df_cat = df_cat.withColumn('AvSigVersion_0', split(df_cat['AvSigVersion'], '\\.')[0].cast(IntegerType()))\\\n",
    ".withColumn('AvSigVersion_1', split(df_cat['AvSigVersion'], '\\.')[1].cast(IntegerType()))\\\n",
    ".withColumn('AvSigVersion_2', split(df_cat['AvSigVersion'], '\\.')[2].cast(IntegerType()))\\\n",
    ".withColumn('AvSigVersion_3', split(df_cat['AvSigVersion'], '\\.')[3].cast(IntegerType()))\n",
    "df_cat.select('AvSigVersion','AvSigVersion_0','AvSigVersion_1','AvSigVersion_2','AvSigVersion_3').show(10, False)"
   ]
  },
  {
   "cell_type": "code",
   "execution_count": 77,
   "metadata": {},
   "outputs": [
    {
     "data": {
      "text/plain": [
       "16774736"
      ]
     },
     "execution_count": 77,
     "metadata": {},
     "output_type": "execute_result"
    }
   ],
   "source": [
    "df_cat.persist()\n",
    "df_cat.count()"
   ]
  },
  {
   "cell_type": "code",
   "execution_count": 79,
   "metadata": {},
   "outputs": [
    {
     "data": {
      "text/plain": [
       "15"
      ]
     },
     "execution_count": 79,
     "metadata": {},
     "output_type": "execute_result"
    }
   ],
   "source": [
    "len(mis_cols)"
   ]
  },
  {
   "cell_type": "code",
   "execution_count": 80,
   "metadata": {},
   "outputs": [
    {
     "data": {
      "text/plain": [
       "27"
      ]
     },
     "execution_count": 80,
     "metadata": {},
     "output_type": "execute_result"
    }
   ],
   "source": [
    "len(df_cat.columns)"
   ]
  },
  {
   "cell_type": "code",
   "execution_count": 78,
   "metadata": {},
   "outputs": [
    {
     "name": "stdout",
     "output_type": "stream",
     "text": [
      "+--------------------------------+------------+-------------+---------------+------------+---------+---------+--------+--------------------+----------------------------------------+----------+-------+------------+---------------------+-------------------+---------------+---------------+---------------+---------------+------------+------------+------------+------------+--------------+--------------+--------------+--------------+\n",
      "|MachineIdentifier               |ProductName |EngineVersion|AppVersion     |AvSigVersion|Platform |Processor|OsVer   |OsPlatformSubRelease|OsBuildLab                              |SkuEdition|PuaMode|SmartScreen |Census_MDC2FormFactor|Census_DeviceFamily|EngineVersion_2|EngineVersion_3|EngineVersion_0|EngineVersion_1|AppVersion_0|AppVersion_1|AppVersion_2|AppVersion_3|AvSigVersion_0|AvSigVersion_1|AvSigVersion_2|AvSigVersion_3|\n",
      "+--------------------------------+------------+-------------+---------------+------------+---------+---------+--------+--------------------+----------------------------------------+----------+-------+------------+---------------------+-------------------+---------------+---------------+---------------+---------------+------------+------------+------------+------------+--------------+--------------+--------------+--------------+\n",
      "|5344f3df51737679783b5ddae24e8bb5|win8defender|1.1.15100.1  |4.18.1807.18075|1.273.1642.0|windows10|x64      |10.0.0.0|rs4                 |17134.1.amd64fre.rs4_release.180410-1804|Home      |null   |null        |Notebook             |Windows.Desktop    |15100          |1              |1              |1              |4           |18          |1807        |18075       |1             |273           |1642          |0             |\n",
      "|5344f5da09650da4758d8c62c1ca2bff|win8defender|1.1.15200.1  |4.9.10586.1106 |1.275.199.0 |windows10|x64      |10.0.0.0|th2                 |10586.0.amd64fre.th2_release.151029-1700|Home      |null   |RequireAdmin|Notebook             |Windows.Desktop    |15200          |1              |1              |1              |4           |9           |10586       |1106        |1             |275           |199           |0             |\n",
      "|5344fab725abad6c37cb5d4a8b2a81a3|win8defender|1.1.15100.1  |4.11.15063.447 |1.273.1420.0|windows10|x64      |10.0.0.0|rs2                 |15063.0.amd64fre.rs2_release.170317-1834|Pro       |null   |ExistsNotSet|Desktop              |Windows.Desktop    |15100          |1              |1              |1              |4           |11          |15063       |447         |1             |273           |1420          |0             |\n",
      "|5344fbd47e4e539c09663123491a788a|win8defender|1.1.15100.1  |4.18.1806.18062|1.273.315.0 |windows10|x64      |10.0.0.0|rs4                 |17134.1.amd64fre.rs4_release.180410-1804|Home      |null   |RequireAdmin|Notebook             |Windows.Desktop    |15100          |1              |1              |1              |4           |18          |1806        |18062       |1             |273           |315           |0             |\n",
      "|5344fdfae5951a8ac7574cd2a06161c3|win8defender|1.1.15200.1  |4.11.15063.0   |1.275.370.0 |windows10|x64      |10.0.0.0|rs2                 |15063.0.amd64fre.rs2_release.170317-1834|Pro       |null   |null        |Notebook             |Windows.Desktop    |15200          |1              |1              |1              |4           |11          |15063       |0           |1             |275           |370           |0             |\n",
      "+--------------------------------+------------+-------------+---------------+------------+---------+---------+--------+--------------------+----------------------------------------+----------+-------+------------+---------------------+-------------------+---------------+---------------+---------------+---------------+------------+------------+------------+------------+--------------+--------------+--------------+--------------+\n",
      "only showing top 5 rows\n",
      "\n"
     ]
    }
   ],
   "source": [
    "df_cat.show(5, False)"
   ]
  },
  {
   "cell_type": "code",
   "execution_count": 2,
   "metadata": {
    "scrolled": true
   },
   "outputs": [
    {
     "ename": "AttributeError",
     "evalue": "type object 'numpy.ndarray' has no attribute '__array_function__'",
     "output_type": "error",
     "traceback": [
      "\u001b[0;31m---------------------------------------------------------------------------\u001b[0m",
      "\u001b[0;31mAttributeError\u001b[0m                            Traceback (most recent call last)",
      "\u001b[0;32m<ipython-input-2-91b0e4fda4a6>\u001b[0m in \u001b[0;36m<module>\u001b[0;34m\u001b[0m\n\u001b[0;32m----> 1\u001b[0;31m \u001b[0;32mfrom\u001b[0m \u001b[0mpyspark\u001b[0m\u001b[0;34m.\u001b[0m\u001b[0mml\u001b[0m\u001b[0;34m.\u001b[0m\u001b[0mfeature\u001b[0m \u001b[0;32mimport\u001b[0m \u001b[0mStringIndexer\u001b[0m\u001b[0;34m\u001b[0m\u001b[0;34m\u001b[0m\u001b[0m\n\u001b[0m",
      "\u001b[0;32m~/.local/lib/python3.6/site-packages/pyspark/__init__.py\u001b[0m in \u001b[0;36m<module>\u001b[0;34m\u001b[0m\n\u001b[1;32m     49\u001b[0m \u001b[0;34m\u001b[0m\u001b[0m\n\u001b[1;32m     50\u001b[0m \u001b[0;32mfrom\u001b[0m \u001b[0mpyspark\u001b[0m\u001b[0;34m.\u001b[0m\u001b[0mconf\u001b[0m \u001b[0;32mimport\u001b[0m \u001b[0mSparkConf\u001b[0m\u001b[0;34m\u001b[0m\u001b[0;34m\u001b[0m\u001b[0m\n\u001b[0;32m---> 51\u001b[0;31m \u001b[0;32mfrom\u001b[0m \u001b[0mpyspark\u001b[0m\u001b[0;34m.\u001b[0m\u001b[0mcontext\u001b[0m \u001b[0;32mimport\u001b[0m \u001b[0mSparkContext\u001b[0m\u001b[0;34m\u001b[0m\u001b[0;34m\u001b[0m\u001b[0m\n\u001b[0m\u001b[1;32m     52\u001b[0m \u001b[0;32mfrom\u001b[0m \u001b[0mpyspark\u001b[0m\u001b[0;34m.\u001b[0m\u001b[0mrdd\u001b[0m \u001b[0;32mimport\u001b[0m \u001b[0mRDD\u001b[0m\u001b[0;34m,\u001b[0m \u001b[0mRDDBarrier\u001b[0m\u001b[0;34m\u001b[0m\u001b[0;34m\u001b[0m\u001b[0m\n\u001b[1;32m     53\u001b[0m \u001b[0;32mfrom\u001b[0m \u001b[0mpyspark\u001b[0m\u001b[0;34m.\u001b[0m\u001b[0mfiles\u001b[0m \u001b[0;32mimport\u001b[0m \u001b[0mSparkFiles\u001b[0m\u001b[0;34m\u001b[0m\u001b[0;34m\u001b[0m\u001b[0m\n",
      "\u001b[0;32m~/.local/lib/python3.6/site-packages/pyspark/context.py\u001b[0m in \u001b[0;36m<module>\u001b[0;34m\u001b[0m\n\u001b[1;32m     38\u001b[0m     \u001b[0mPairDeserializer\u001b[0m\u001b[0;34m,\u001b[0m \u001b[0mAutoBatchedSerializer\u001b[0m\u001b[0;34m,\u001b[0m \u001b[0mNoOpSerializer\u001b[0m\u001b[0;34m,\u001b[0m \u001b[0mChunkedStream\u001b[0m\u001b[0;34m\u001b[0m\u001b[0;34m\u001b[0m\u001b[0m\n\u001b[1;32m     39\u001b[0m \u001b[0;32mfrom\u001b[0m \u001b[0mpyspark\u001b[0m\u001b[0;34m.\u001b[0m\u001b[0mstoragelevel\u001b[0m \u001b[0;32mimport\u001b[0m \u001b[0mStorageLevel\u001b[0m\u001b[0;34m\u001b[0m\u001b[0;34m\u001b[0m\u001b[0m\n\u001b[0;32m---> 40\u001b[0;31m \u001b[0;32mfrom\u001b[0m \u001b[0mpyspark\u001b[0m\u001b[0;34m.\u001b[0m\u001b[0mrdd\u001b[0m \u001b[0;32mimport\u001b[0m \u001b[0mRDD\u001b[0m\u001b[0;34m,\u001b[0m \u001b[0m_load_from_socket\u001b[0m\u001b[0;34m,\u001b[0m \u001b[0mignore_unicode_prefix\u001b[0m\u001b[0;34m\u001b[0m\u001b[0;34m\u001b[0m\u001b[0m\n\u001b[0m\u001b[1;32m     41\u001b[0m \u001b[0;32mfrom\u001b[0m \u001b[0mpyspark\u001b[0m\u001b[0;34m.\u001b[0m\u001b[0mtraceback_utils\u001b[0m \u001b[0;32mimport\u001b[0m \u001b[0mCallSite\u001b[0m\u001b[0;34m,\u001b[0m \u001b[0mfirst_spark_call\u001b[0m\u001b[0;34m\u001b[0m\u001b[0;34m\u001b[0m\u001b[0m\n\u001b[1;32m     42\u001b[0m \u001b[0;32mfrom\u001b[0m \u001b[0mpyspark\u001b[0m\u001b[0;34m.\u001b[0m\u001b[0mstatus\u001b[0m \u001b[0;32mimport\u001b[0m \u001b[0mStatusTracker\u001b[0m\u001b[0;34m\u001b[0m\u001b[0;34m\u001b[0m\u001b[0m\n",
      "\u001b[0;32m~/.local/lib/python3.6/site-packages/pyspark/rdd.py\u001b[0m in \u001b[0;36m<module>\u001b[0;34m\u001b[0m\n\u001b[1;32m     47\u001b[0m \u001b[0;32mfrom\u001b[0m \u001b[0mpyspark\u001b[0m\u001b[0;34m.\u001b[0m\u001b[0mjoin\u001b[0m \u001b[0;32mimport\u001b[0m \u001b[0mpython_join\u001b[0m\u001b[0;34m,\u001b[0m \u001b[0mpython_left_outer_join\u001b[0m\u001b[0;34m,\u001b[0m\u001b[0;31m \u001b[0m\u001b[0;31m\\\u001b[0m\u001b[0;34m\u001b[0m\u001b[0;34m\u001b[0m\u001b[0m\n\u001b[1;32m     48\u001b[0m     \u001b[0mpython_right_outer_join\u001b[0m\u001b[0;34m,\u001b[0m \u001b[0mpython_full_outer_join\u001b[0m\u001b[0;34m,\u001b[0m \u001b[0mpython_cogroup\u001b[0m\u001b[0;34m\u001b[0m\u001b[0;34m\u001b[0m\u001b[0m\n\u001b[0;32m---> 49\u001b[0;31m \u001b[0;32mfrom\u001b[0m \u001b[0mpyspark\u001b[0m\u001b[0;34m.\u001b[0m\u001b[0mstatcounter\u001b[0m \u001b[0;32mimport\u001b[0m \u001b[0mStatCounter\u001b[0m\u001b[0;34m\u001b[0m\u001b[0;34m\u001b[0m\u001b[0m\n\u001b[0m\u001b[1;32m     50\u001b[0m \u001b[0;32mfrom\u001b[0m \u001b[0mpyspark\u001b[0m\u001b[0;34m.\u001b[0m\u001b[0mrddsampler\u001b[0m \u001b[0;32mimport\u001b[0m \u001b[0mRDDSampler\u001b[0m\u001b[0;34m,\u001b[0m \u001b[0mRDDRangeSampler\u001b[0m\u001b[0;34m,\u001b[0m \u001b[0mRDDStratifiedSampler\u001b[0m\u001b[0;34m\u001b[0m\u001b[0;34m\u001b[0m\u001b[0m\n\u001b[1;32m     51\u001b[0m \u001b[0;32mfrom\u001b[0m \u001b[0mpyspark\u001b[0m\u001b[0;34m.\u001b[0m\u001b[0mstoragelevel\u001b[0m \u001b[0;32mimport\u001b[0m \u001b[0mStorageLevel\u001b[0m\u001b[0;34m\u001b[0m\u001b[0;34m\u001b[0m\u001b[0m\n",
      "\u001b[0;32m~/.local/lib/python3.6/site-packages/pyspark/statcounter.py\u001b[0m in \u001b[0;36m<module>\u001b[0;34m\u001b[0m\n\u001b[1;32m     22\u001b[0m \u001b[0;34m\u001b[0m\u001b[0m\n\u001b[1;32m     23\u001b[0m \u001b[0;32mtry\u001b[0m\u001b[0;34m:\u001b[0m\u001b[0;34m\u001b[0m\u001b[0;34m\u001b[0m\u001b[0m\n\u001b[0;32m---> 24\u001b[0;31m     \u001b[0;32mfrom\u001b[0m \u001b[0mnumpy\u001b[0m \u001b[0;32mimport\u001b[0m \u001b[0mmaximum\u001b[0m\u001b[0;34m,\u001b[0m \u001b[0mminimum\u001b[0m\u001b[0;34m,\u001b[0m \u001b[0msqrt\u001b[0m\u001b[0;34m\u001b[0m\u001b[0;34m\u001b[0m\u001b[0m\n\u001b[0m\u001b[1;32m     25\u001b[0m \u001b[0;32mexcept\u001b[0m \u001b[0mImportError\u001b[0m\u001b[0;34m:\u001b[0m\u001b[0;34m\u001b[0m\u001b[0;34m\u001b[0m\u001b[0m\n\u001b[1;32m     26\u001b[0m     \u001b[0mmaximum\u001b[0m \u001b[0;34m=\u001b[0m \u001b[0mmax\u001b[0m\u001b[0;34m\u001b[0m\u001b[0;34m\u001b[0m\u001b[0m\n",
      "\u001b[0;32m~/.local/lib/python3.6/site-packages/numpy/__init__.py\u001b[0m in \u001b[0;36m<module>\u001b[0;34m\u001b[0m\n\u001b[1;32m    140\u001b[0m     \u001b[0;32mfrom\u001b[0m \u001b[0;34m.\u001b[0m \u001b[0;32mimport\u001b[0m \u001b[0m_distributor_init\u001b[0m\u001b[0;34m\u001b[0m\u001b[0;34m\u001b[0m\u001b[0m\n\u001b[1;32m    141\u001b[0m \u001b[0;34m\u001b[0m\u001b[0m\n\u001b[0;32m--> 142\u001b[0;31m     \u001b[0;32mfrom\u001b[0m \u001b[0;34m.\u001b[0m \u001b[0;32mimport\u001b[0m \u001b[0mcore\u001b[0m\u001b[0;34m\u001b[0m\u001b[0;34m\u001b[0m\u001b[0m\n\u001b[0m\u001b[1;32m    143\u001b[0m     \u001b[0;32mfrom\u001b[0m \u001b[0;34m.\u001b[0m\u001b[0mcore\u001b[0m \u001b[0;32mimport\u001b[0m \u001b[0;34m*\u001b[0m\u001b[0;34m\u001b[0m\u001b[0;34m\u001b[0m\u001b[0m\n\u001b[1;32m    144\u001b[0m     \u001b[0;32mfrom\u001b[0m \u001b[0;34m.\u001b[0m \u001b[0;32mimport\u001b[0m \u001b[0mcompat\u001b[0m\u001b[0;34m\u001b[0m\u001b[0;34m\u001b[0m\u001b[0m\n",
      "\u001b[0;32m~/.local/lib/python3.6/site-packages/numpy/core/__init__.py\u001b[0m in \u001b[0;36m<module>\u001b[0;34m\u001b[0m\n\u001b[1;32m     57\u001b[0m \u001b[0;32mfrom\u001b[0m \u001b[0;34m.\u001b[0m \u001b[0;32mimport\u001b[0m \u001b[0mnumerictypes\u001b[0m \u001b[0;32mas\u001b[0m \u001b[0mnt\u001b[0m\u001b[0;34m\u001b[0m\u001b[0;34m\u001b[0m\u001b[0m\n\u001b[1;32m     58\u001b[0m \u001b[0mmultiarray\u001b[0m\u001b[0;34m.\u001b[0m\u001b[0mset_typeDict\u001b[0m\u001b[0;34m(\u001b[0m\u001b[0mnt\u001b[0m\u001b[0;34m.\u001b[0m\u001b[0msctypeDict\u001b[0m\u001b[0;34m)\u001b[0m\u001b[0;34m\u001b[0m\u001b[0;34m\u001b[0m\u001b[0m\n\u001b[0;32m---> 59\u001b[0;31m \u001b[0;32mfrom\u001b[0m \u001b[0;34m.\u001b[0m \u001b[0;32mimport\u001b[0m \u001b[0mnumeric\u001b[0m\u001b[0;34m\u001b[0m\u001b[0;34m\u001b[0m\u001b[0m\n\u001b[0m\u001b[1;32m     60\u001b[0m \u001b[0;32mfrom\u001b[0m \u001b[0;34m.\u001b[0m\u001b[0mnumeric\u001b[0m \u001b[0;32mimport\u001b[0m \u001b[0;34m*\u001b[0m\u001b[0;34m\u001b[0m\u001b[0;34m\u001b[0m\u001b[0m\n\u001b[1;32m     61\u001b[0m \u001b[0;32mfrom\u001b[0m \u001b[0;34m.\u001b[0m \u001b[0;32mimport\u001b[0m \u001b[0mfromnumeric\u001b[0m\u001b[0;34m\u001b[0m\u001b[0;34m\u001b[0m\u001b[0m\n",
      "\u001b[0;32m~/.local/lib/python3.6/site-packages/numpy/core/numeric.py\u001b[0m in \u001b[0;36m<module>\u001b[0;34m\u001b[0m\n\u001b[1;32m   3091\u001b[0m \u001b[0;32mfrom\u001b[0m \u001b[0;34m.\u001b[0m\u001b[0mumath\u001b[0m \u001b[0;32mimport\u001b[0m \u001b[0;34m*\u001b[0m\u001b[0;34m\u001b[0m\u001b[0;34m\u001b[0m\u001b[0m\n\u001b[1;32m   3092\u001b[0m \u001b[0;32mfrom\u001b[0m \u001b[0;34m.\u001b[0m\u001b[0mnumerictypes\u001b[0m \u001b[0;32mimport\u001b[0m \u001b[0;34m*\u001b[0m\u001b[0;34m\u001b[0m\u001b[0;34m\u001b[0m\u001b[0m\n\u001b[0;32m-> 3093\u001b[0;31m \u001b[0;32mfrom\u001b[0m \u001b[0;34m.\u001b[0m \u001b[0;32mimport\u001b[0m \u001b[0mfromnumeric\u001b[0m\u001b[0;34m\u001b[0m\u001b[0;34m\u001b[0m\u001b[0m\n\u001b[0m\u001b[1;32m   3094\u001b[0m \u001b[0;32mfrom\u001b[0m \u001b[0;34m.\u001b[0m\u001b[0mfromnumeric\u001b[0m \u001b[0;32mimport\u001b[0m \u001b[0;34m*\u001b[0m\u001b[0;34m\u001b[0m\u001b[0;34m\u001b[0m\u001b[0m\n\u001b[1;32m   3095\u001b[0m \u001b[0;32mfrom\u001b[0m \u001b[0;34m.\u001b[0m \u001b[0;32mimport\u001b[0m \u001b[0marrayprint\u001b[0m\u001b[0;34m\u001b[0m\u001b[0;34m\u001b[0m\u001b[0m\n",
      "\u001b[0;32m~/.local/lib/python3.6/site-packages/numpy/core/fromnumeric.py\u001b[0m in \u001b[0;36m<module>\u001b[0;34m\u001b[0m\n\u001b[1;32m     15\u001b[0m \u001b[0;32mfrom\u001b[0m \u001b[0;34m.\u001b[0m \u001b[0;32mimport\u001b[0m \u001b[0mnumerictypes\u001b[0m \u001b[0;32mas\u001b[0m \u001b[0mnt\u001b[0m\u001b[0;34m\u001b[0m\u001b[0;34m\u001b[0m\u001b[0m\n\u001b[1;32m     16\u001b[0m \u001b[0;32mfrom\u001b[0m \u001b[0;34m.\u001b[0m\u001b[0mnumeric\u001b[0m \u001b[0;32mimport\u001b[0m \u001b[0masarray\u001b[0m\u001b[0;34m,\u001b[0m \u001b[0marray\u001b[0m\u001b[0;34m,\u001b[0m \u001b[0masanyarray\u001b[0m\u001b[0;34m,\u001b[0m \u001b[0mconcatenate\u001b[0m\u001b[0;34m\u001b[0m\u001b[0;34m\u001b[0m\u001b[0m\n\u001b[0;32m---> 17\u001b[0;31m \u001b[0;32mfrom\u001b[0m \u001b[0;34m.\u001b[0m \u001b[0;32mimport\u001b[0m \u001b[0m_methods\u001b[0m\u001b[0;34m\u001b[0m\u001b[0;34m\u001b[0m\u001b[0m\n\u001b[0m\u001b[1;32m     18\u001b[0m \u001b[0;34m\u001b[0m\u001b[0m\n\u001b[1;32m     19\u001b[0m \u001b[0m_dt_\u001b[0m \u001b[0;34m=\u001b[0m \u001b[0mnt\u001b[0m\u001b[0;34m.\u001b[0m\u001b[0msctype2char\u001b[0m\u001b[0;34m\u001b[0m\u001b[0;34m\u001b[0m\u001b[0m\n",
      "\u001b[0;32m~/.local/lib/python3.6/site-packages/numpy/core/_methods.py\u001b[0m in \u001b[0;36m<module>\u001b[0;34m\u001b[0m\n\u001b[1;32m    156\u001b[0m     )\n\u001b[1;32m    157\u001b[0m \u001b[0;34m\u001b[0m\u001b[0m\n\u001b[0;32m--> 158\u001b[0;31m \u001b[0m_NDARRAY_ARRAY_FUNCTION\u001b[0m \u001b[0;34m=\u001b[0m \u001b[0mmu\u001b[0m\u001b[0;34m.\u001b[0m\u001b[0mndarray\u001b[0m\u001b[0;34m.\u001b[0m\u001b[0m__array_function__\u001b[0m\u001b[0;34m\u001b[0m\u001b[0;34m\u001b[0m\u001b[0m\n\u001b[0m\u001b[1;32m    159\u001b[0m \u001b[0;34m\u001b[0m\u001b[0m\n\u001b[1;32m    160\u001b[0m \u001b[0;32mdef\u001b[0m \u001b[0m_array_function\u001b[0m\u001b[0;34m(\u001b[0m\u001b[0mself\u001b[0m\u001b[0;34m,\u001b[0m \u001b[0mfunc\u001b[0m\u001b[0;34m,\u001b[0m \u001b[0mtypes\u001b[0m\u001b[0;34m,\u001b[0m \u001b[0margs\u001b[0m\u001b[0;34m,\u001b[0m \u001b[0mkwargs\u001b[0m\u001b[0;34m)\u001b[0m\u001b[0;34m:\u001b[0m\u001b[0;34m\u001b[0m\u001b[0;34m\u001b[0m\u001b[0m\n",
      "\u001b[0;31mAttributeError\u001b[0m: type object 'numpy.ndarray' has no attribute '__array_function__'"
     ]
    }
   ],
   "source": [
    "from pyspark.ml.feature import StringIndexer"
   ]
  },
  {
   "cell_type": "code",
   "execution_count": 81,
   "metadata": {},
   "outputs": [
    {
     "name": "stdout",
     "output_type": "stream",
     "text": [
      "+-----------+\n",
      "|   Platform|\n",
      "+-----------+\n",
      "|  windows10|\n",
      "|windows2016|\n",
      "|   windows8|\n",
      "|   windows7|\n",
      "+-----------+\n",
      "\n"
     ]
    }
   ],
   "source": [
    "df_cat.select('Platform').distinct().show()"
   ]
  },
  {
   "cell_type": "code",
   "execution_count": 1,
   "metadata": {},
   "outputs": [
    {
     "ename": "NameError",
     "evalue": "name 'StringIndexer' is not defined",
     "output_type": "error",
     "traceback": [
      "\u001b[0;31m---------------------------------------------------------------------------\u001b[0m",
      "\u001b[0;31mNameError\u001b[0m                                 Traceback (most recent call last)",
      "\u001b[0;32m<ipython-input-1-e9db4d0624b6>\u001b[0m in \u001b[0;36m<module>\u001b[0;34m\u001b[0m\n\u001b[0;32m----> 1\u001b[0;31m \u001b[0mindexer\u001b[0m \u001b[0;34m=\u001b[0m \u001b[0mStringIndexer\u001b[0m\u001b[0;34m(\u001b[0m\u001b[0minputCol\u001b[0m\u001b[0;34m=\u001b[0m\u001b[0;34m\"Platform\"\u001b[0m\u001b[0;34m,\u001b[0m \u001b[0moutputCol\u001b[0m\u001b[0;34m=\u001b[0m\u001b[0;34m\"PlatformIndex\"\u001b[0m\u001b[0;34m)\u001b[0m\u001b[0;34m\u001b[0m\u001b[0;34m\u001b[0m\u001b[0m\n\u001b[0m\u001b[1;32m      2\u001b[0m \u001b[0mdf_cat\u001b[0m \u001b[0;34m=\u001b[0m \u001b[0mindexer\u001b[0m\u001b[0;34m.\u001b[0m\u001b[0mfit\u001b[0m\u001b[0;34m(\u001b[0m\u001b[0mdf_cat\u001b[0m\u001b[0;34m)\u001b[0m\u001b[0;34m.\u001b[0m\u001b[0mtransform\u001b[0m\u001b[0;34m(\u001b[0m\u001b[0mdf_cat\u001b[0m\u001b[0;34m)\u001b[0m\u001b[0;34m\u001b[0m\u001b[0;34m\u001b[0m\u001b[0m\n\u001b[1;32m      3\u001b[0m \u001b[0mdf_cat\u001b[0m\u001b[0;34m.\u001b[0m\u001b[0mshow\u001b[0m\u001b[0;34m(\u001b[0m\u001b[0;36m5\u001b[0m\u001b[0;34m,\u001b[0m \u001b[0;32mFalse\u001b[0m\u001b[0;34m)\u001b[0m\u001b[0;34m\u001b[0m\u001b[0;34m\u001b[0m\u001b[0m\n",
      "\u001b[0;31mNameError\u001b[0m: name 'StringIndexer' is not defined"
     ]
    }
   ],
   "source": [
    "indexer = StringIndexer(inputCol=\"Platform\", outputCol=\"PlatformIndex\")\n",
    "df_cat = indexer.fit(df_cat).transform(df_cat)\n",
    "df_cat.show(5, False)"
   ]
  }
 ],
 "metadata": {
  "kernelspec": {
   "display_name": "Python 3",
   "language": "python",
   "name": "python3"
  },
  "language_info": {
   "codemirror_mode": {
    "name": "ipython",
    "version": 3
   },
   "file_extension": ".py",
   "mimetype": "text/x-python",
   "name": "python",
   "nbconvert_exporter": "python",
   "pygments_lexer": "ipython3",
   "version": "3.6.7"
  }
 },
 "nbformat": 4,
 "nbformat_minor": 2
}
