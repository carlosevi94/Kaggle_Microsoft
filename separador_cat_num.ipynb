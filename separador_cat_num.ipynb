{
 "cells": [
  {
   "cell_type": "markdown",
   "metadata": {},
   "source": [
    "# Con MongoDB"
   ]
  },
  {
   "cell_type": "code",
   "execution_count": null,
   "metadata": {},
   "outputs": [],
   "source": [
    "import pandas as pd\n",
    "import numpy as np\n",
    "import pymongo"
   ]
  },
  {
   "cell_type": "code",
   "execution_count": null,
   "metadata": {},
   "outputs": [],
   "source": [
    "# Iniciamos el cliente de MongoDB\n",
    "\n",
    "myclient = pymongo.MongoClient(\"mongodb://localhost:27017/\")"
   ]
  },
  {
   "cell_type": "code",
   "execution_count": null,
   "metadata": {},
   "outputs": [],
   "source": [
    "# Obtenemos la bbdd deseasa, en este caso \"microsoft\"\n",
    "\n",
    "db = myclient.microsoft"
   ]
  },
  {
   "cell_type": "code",
   "execution_count": null,
   "metadata": {},
   "outputs": [],
   "source": [
    "# Abrimos la tabla deseada de la base de datos\n",
    "# es decir, el train y el test previamiente cargados\n",
    "\n",
    "train = db.train\n",
    "test = db.test"
   ]
  },
  {
   "cell_type": "code",
   "execution_count": null,
   "metadata": {},
   "outputs": [],
   "source": [
    "print(train.find_one())"
   ]
  },
  {
   "cell_type": "code",
   "execution_count": null,
   "metadata": {},
   "outputs": [],
   "source": [
    "print(test.find_one())"
   ]
  },
  {
   "cell_type": "code",
   "execution_count": null,
   "metadata": {},
   "outputs": [],
   "source": [
    "# Si sobra memoria RAM, se puede importar estas colecciones\n",
    "# a un DF de Pandas\n",
    "\n",
    "# df_train = pd.DataFrame.from_records(train.find())"
   ]
  },
  {
   "cell_type": "code",
   "execution_count": null,
   "metadata": {},
   "outputs": [],
   "source": []
  },
  {
   "cell_type": "markdown",
   "metadata": {},
   "source": [
    "# Con PySpark\n",
    "\n",
    "Mejor para DFs con un gran volumen de datos"
   ]
  },
  {
   "cell_type": "markdown",
   "metadata": {},
   "source": [
    "Librerias a utilizar"
   ]
  },
  {
   "cell_type": "code",
   "execution_count": 1,
   "metadata": {},
   "outputs": [],
   "source": [
    "from pyspark.sql import SparkSession\n",
    "from pyspark.sql.types import (StructType, StructField, StringType,\n",
    "                               DoubleType, IntegerType, LongType)\n",
    "from pyspark.sql.functions import *\n",
    "from pyspark import SparkConf\n",
    "from pyspark import SparkContext\n",
    "import multiprocessing"
   ]
  },
  {
   "cell_type": "markdown",
   "metadata": {},
   "source": [
    "Configuracion basica de particiones y memoria a utilizar"
   ]
  },
  {
   "cell_type": "code",
   "execution_count": 2,
   "metadata": {},
   "outputs": [],
   "source": [
    "cores = multiprocessing.cpu_count()\n",
    "p = 10\n",
    "conf = SparkConf()\n",
    "conf.set(\"spark.driver.cores\", cores)\n",
    "conf.set(\"spark.driver.memory\", \"10g\")\n",
    "conf.set(\"spark.sql.shuffle.partitions\", p * cores)\n",
    "conf.set(\"spark.default.parallelism\", p * cores)\n",
    "sc = SparkContext(conf=conf)"
   ]
  },
  {
   "cell_type": "markdown",
   "metadata": {},
   "source": [
    "Iniciamos la SparkSession"
   ]
  },
  {
   "cell_type": "code",
   "execution_count": 3,
   "metadata": {},
   "outputs": [],
   "source": [
    "spark = SparkSession.builder.appName('separador_cat_num').getOrCreate()"
   ]
  },
  {
   "cell_type": "markdown",
   "metadata": {},
   "source": [
    "Schemas para train y para test"
   ]
  },
  {
   "cell_type": "code",
   "execution_count": 4,
   "metadata": {},
   "outputs": [],
   "source": [
    "schema_train = StructType([StructField('MachineIdentifier', StringType(), True),\n",
    "                           StructField('ProductName', StringType(), True),\n",
    "                           StructField('EngineVersion', StringType(), True),\n",
    "                           StructField('AppVersion', StringType(), True),\n",
    "                           StructField('AvSigVersion', StringType(), True),\n",
    "                           StructField('IsBeta', StringType(), True),\n",
    "                           StructField('RtpStateBitfield', StringType(), True),\n",
    "                           StructField('IsSxsPassiveMode', StringType(), True),\n",
    "                           StructField('DefaultBrowsersIdentifier', StringType(), True),\n",
    "                           StructField('AVProductStatesIdentifier', StringType(), True),\n",
    "                           StructField('AVProductsInstalled', StringType(), True),\n",
    "                           StructField('AVProductsEnabled', StringType(), True),\n",
    "                           StructField('HasTpm', StringType(), True),\n",
    "                           StructField('CountryIdentifier', StringType(), True),\n",
    "                           StructField('CityIdentifier', StringType(), True),\n",
    "                           StructField('OrganizationIdentifier', StringType(), True),\n",
    "                           StructField('GeoNameIdentifier', StringType(), True),\n",
    "                           StructField('LocaleEnglishNameIdentifier', StringType(), True),\n",
    "                           StructField('Platform', StringType(), True),\n",
    "                           StructField('Processor', StringType(), True),\n",
    "                           StructField('OsVer', StringType(), True),\n",
    "                           StructField('OsBuild', StringType(), True),\n",
    "                           StructField('OsSuite', StringType(), True),\n",
    "                           StructField('OsPlatformSubRelease', StringType(), True),\n",
    "                           StructField('OsBuildLab', StringType(), True),\n",
    "                           StructField('SkuEdition', StringType(), True),\n",
    "                           StructField('IsProtected', StringType(), True),\n",
    "                           StructField('AutoSampleOptIn', StringType(), True),\n",
    "                           StructField('PuaMode', StringType(), True),\n",
    "                           StructField('SMode', StringType(), True),\n",
    "                           StructField('IeVerIdentifier', StringType(), True),\n",
    "                           StructField('SmartScreen', StringType(), True),\n",
    "                           StructField('Firewall', StringType(), True),\n",
    "                           StructField('UacLuaenable', StringType(), True),\n",
    "                           StructField('Census_MDC2FormFactor', StringType(), True),\n",
    "                           StructField('Census_DeviceFamily', StringType(), True),\n",
    "                           StructField('Census_OEMNameIdentifier', StringType(), True),\n",
    "                           StructField('Census_OEMModelIdentifier', StringType(), True),\n",
    "                           StructField('Census_ProcessorCoreCount', StringType(), True),\n",
    "                           StructField('Census_ProcessorManufacturerIdentifier', StringType(), True),\n",
    "                           StructField('Census_ProcessorModelIdentifier', StringType(), True),\n",
    "                           StructField('Census_ProcessorClass', StringType(), True),\n",
    "                           StructField('Census_PrimaryDiskTotalCapacity', StringType(), True),\n",
    "                           StructField('Census_PrimaryDiskTypeName', StringType(), True),\n",
    "                           StructField('Census_SystemVolumeTotalCapacity', StringType(), True),\n",
    "                           StructField('Census_HasOpticalDiskDrive', StringType(), True),\n",
    "                           StructField('Census_TotalPhysicalRAM', StringType(), True),\n",
    "                           StructField('Census_ChassisTypeName', StringType(), True),\n",
    "                           StructField('Census_InternalPrimaryDiagonalDisplaySizeInInches', StringType(), True),\n",
    "                           StructField('Census_InternalPrimaryDisplayResolutionHorizontal', StringType(), True),\n",
    "                           StructField('Census_InternalPrimaryDisplayResolutionVertical', StringType(), True),\n",
    "                           StructField('Census_PowerPlatformRoleName', StringType(), True),\n",
    "                           StructField('Census_InternalBatteryType', StringType(), True),\n",
    "                           StructField('Census_InternalBatteryNumberOfCharges', StringType(), True),\n",
    "                           StructField('Census_OSVersion', StringType(), True),\n",
    "                           StructField('Census_OSArchitecture', StringType(), True),\n",
    "                           StructField('Census_OSBranch', StringType(), True),\n",
    "                           StructField('Census_OSBuildNumber', StringType(), True),\n",
    "                           StructField('Census_OSBuildRevision', StringType(), True),\n",
    "                           StructField('Census_OSEdition', StringType(), True),\n",
    "                           StructField('Census_OSSkuName', StringType(), True),\n",
    "                           StructField('Census_OSInstallTypeName', StringType(), True),\n",
    "                           StructField('Census_OSInstallLanguageIdentifier', StringType(), True),\n",
    "                           StructField('Census_OSUILocaleIdentifier', StringType(), True),\n",
    "                           StructField('Census_OSWUAutoUpdateOptionsName', StringType(), True),\n",
    "                           StructField('Census_IsPortableOperatingSystem', StringType(), True),\n",
    "                           StructField('Census_GenuineStateName', StringType(), True),\n",
    "                           StructField('Census_ActivationChannel', StringType(), True),\n",
    "                           StructField('Census_IsFlightingInternal', StringType(), True),\n",
    "                           StructField('Census_IsFlightsDisabled', StringType(), True),\n",
    "                           StructField('Census_FlightRing', StringType(), True),\n",
    "                           StructField('Census_ThresholdOptIn', StringType(), True),\n",
    "                           StructField('Census_FirmwareManufacturerIdentifier', StringType(), True),\n",
    "                           StructField('Census_FirmwareVersionIdentifier', StringType(), True),\n",
    "                           StructField('Census_IsSecureBootEnabled', StringType(), True),\n",
    "                           StructField('Census_IsWIMBootEnabled', StringType(), True),\n",
    "                           StructField('Census_IsVirtualDevice', StringType(), True),\n",
    "                           StructField('Census_IsTouchEnabled', StringType(), True),\n",
    "                           StructField('Census_IsPenCapable', StringType(), True),\n",
    "                           StructField('Census_IsAlwaysOnAlwaysConnectedCapable', StringType(), True),\n",
    "                           StructField('Wdft_IsGamer', StringType(), True),\n",
    "                           StructField('Wdft_RegionIdentifier', StringType(), True),\n",
    "                           StructField('HasDetections', StringType(), True)\n",
    "                          ])\n",
    "\n",
    "schema_test = StructType([StructField('MachineIdentifier', StringType(), True),\n",
    "                           StructField('ProductName', StringType(), True),\n",
    "                           StructField('EngineVersion', StringType(), True),\n",
    "                           StructField('AppVersion', StringType(), True),\n",
    "                           StructField('AvSigVersion', StringType(), True),\n",
    "                           StructField('IsBeta', StringType(), True),\n",
    "                           StructField('RtpStateBitfield', StringType(), True),\n",
    "                           StructField('IsSxsPassiveMode', StringType(), True),\n",
    "                           StructField('DefaultBrowsersIdentifier', StringType(), True),\n",
    "                           StructField('AVProductStatesIdentifier', StringType(), True),\n",
    "                           StructField('AVProductsInstalled', StringType(), True),\n",
    "                           StructField('AVProductsEnabled', StringType(), True),\n",
    "                           StructField('HasTpm', StringType(), True),\n",
    "                           StructField('CountryIdentifier', StringType(), True),\n",
    "                           StructField('CityIdentifier', StringType(), True),\n",
    "                           StructField('OrganizationIdentifier', StringType(), True),\n",
    "                           StructField('GeoNameIdentifier', StringType(), True),\n",
    "                           StructField('LocaleEnglishNameIdentifier', StringType(), True),\n",
    "                           StructField('Platform', StringType(), True),\n",
    "                           StructField('Processor', StringType(), True),\n",
    "                           StructField('OsVer', StringType(), True),\n",
    "                           StructField('OsBuild', StringType(), True),\n",
    "                           StructField('OsSuite', StringType(), True),\n",
    "                           StructField('OsPlatformSubRelease', StringType(), True),\n",
    "                           StructField('OsBuildLab', StringType(), True),\n",
    "                           StructField('SkuEdition', StringType(), True),\n",
    "                           StructField('IsProtected', StringType(), True),\n",
    "                           StructField('AutoSampleOptIn', StringType(), True),\n",
    "                           StructField('PuaMode', StringType(), True),\n",
    "                           StructField('SMode', StringType(), True),\n",
    "                           StructField('IeVerIdentifier', StringType(), True),\n",
    "                           StructField('SmartScreen', StringType(), True),\n",
    "                           StructField('Firewall', StringType(), True),\n",
    "                           StructField('UacLuaenable', StringType(), True),\n",
    "                           StructField('Census_MDC2FormFactor', StringType(), True),\n",
    "                           StructField('Census_DeviceFamily', StringType(), True),\n",
    "                           StructField('Census_OEMNameIdentifier', StringType(), True),\n",
    "                           StructField('Census_OEMModelIdentifier', StringType(), True),\n",
    "                           StructField('Census_ProcessorCoreCount', StringType(), True),\n",
    "                           StructField('Census_ProcessorManufacturerIdentifier', StringType(), True),\n",
    "                           StructField('Census_ProcessorModelIdentifier', StringType(), True),\n",
    "                           StructField('Census_ProcessorClass', StringType(), True),\n",
    "                           StructField('Census_PrimaryDiskTotalCapacity', StringType(), True),\n",
    "                           StructField('Census_PrimaryDiskTypeName', StringType(), True),\n",
    "                           StructField('Census_SystemVolumeTotalCapacity', StringType(), True),\n",
    "                           StructField('Census_HasOpticalDiskDrive', StringType(), True),\n",
    "                           StructField('Census_TotalPhysicalRAM', StringType(), True),\n",
    "                           StructField('Census_ChassisTypeName', StringType(), True),\n",
    "                           StructField('Census_InternalPrimaryDiagonalDisplaySizeInInches', StringType(), True),\n",
    "                           StructField('Census_InternalPrimaryDisplayResolutionHorizontal', StringType(), True),\n",
    "                           StructField('Census_InternalPrimaryDisplayResolutionVertical', StringType(), True),\n",
    "                           StructField('Census_PowerPlatformRoleName', StringType(), True),\n",
    "                           StructField('Census_InternalBatteryType', StringType(), True),\n",
    "                           StructField('Census_InternalBatteryNumberOfCharges', StringType(), True),\n",
    "                           StructField('Census_OSVersion', StringType(), True),\n",
    "                           StructField('Census_OSArchitecture', StringType(), True),\n",
    "                           StructField('Census_OSBranch', StringType(), True),\n",
    "                           StructField('Census_OSBuildNumber', StringType(), True),\n",
    "                           StructField('Census_OSBuildRevision', StringType(), True),\n",
    "                           StructField('Census_OSEdition', StringType(), True),\n",
    "                           StructField('Census_OSSkuName', StringType(), True),\n",
    "                           StructField('Census_OSInstallTypeName', StringType(), True),\n",
    "                           StructField('Census_OSInstallLanguageIdentifier', StringType(), True),\n",
    "                           StructField('Census_OSUILocaleIdentifier', StringType(), True),\n",
    "                           StructField('Census_OSWUAutoUpdateOptionsName', StringType(), True),\n",
    "                           StructField('Census_IsPortableOperatingSystem', StringType(), True),\n",
    "                           StructField('Census_GenuineStateName', StringType(), True),\n",
    "                           StructField('Census_ActivationChannel', StringType(), True),\n",
    "                           StructField('Census_IsFlightingInternal', StringType(), True),\n",
    "                           StructField('Census_IsFlightsDisabled', StringType(), True),\n",
    "                           StructField('Census_FlightRing', StringType(), True),\n",
    "                           StructField('Census_ThresholdOptIn', StringType(), True),\n",
    "                           StructField('Census_FirmwareManufacturerIdentifier', StringType(), True),\n",
    "                           StructField('Census_FirmwareVersionIdentifier', StringType(), True),\n",
    "                           StructField('Census_IsSecureBootEnabled', StringType(), True),\n",
    "                           StructField('Census_IsWIMBootEnabled', StringType(), True),\n",
    "                           StructField('Census_IsVirtualDevice', StringType(), True),\n",
    "                           StructField('Census_IsTouchEnabled', StringType(), True),\n",
    "                           StructField('Census_IsPenCapable', StringType(), True),\n",
    "                           StructField('Census_IsAlwaysOnAlwaysConnectedCapable', StringType(), True),\n",
    "                           StructField('Wdft_IsGamer', StringType(), True),\n",
    "                           StructField('Wdft_RegionIdentifier', StringType(), True),\n",
    "                          ])"
   ]
  },
  {
   "cell_type": "markdown",
   "metadata": {},
   "source": [
    "Cargamos los datos. Para empezar lo haremos con inferSchema=True"
   ]
  },
  {
   "cell_type": "code",
   "execution_count": 5,
   "metadata": {},
   "outputs": [],
   "source": [
    "df_train = spark.read.csv('data/train.csv', header=True, inferSchema=True)\n",
    "df_test = spark.read.csv('data/test.csv', header=True, inferSchema=True)"
   ]
  },
  {
   "cell_type": "code",
   "execution_count": 6,
   "metadata": {},
   "outputs": [
    {
     "name": "stdout",
     "output_type": "stream",
     "text": [
      "+--------------------------------+------------+-------------+---------------+------------+------+----------------+----------------+-------------------------+-------------------------+-------------------+-----------------+------+-----------------+--------------+----------------------+-----------------+---------------------------+---------+---------+--------+-------+-------+--------------------+----------------------------------------+----------+-----------+---------------+-------+-----+---------------+------------+--------+------------+---------------------+-------------------+------------------------+-------------------------+-------------------------+--------------------------------------+-------------------------------+---------------------+-------------------------------+--------------------------+--------------------------------+--------------------------+-----------------------+----------------------+-------------------------------------------------+-------------------------------------------------+-----------------------------------------------+----------------------------+--------------------------+-------------------------------------+----------------+---------------------+---------------+--------------------+----------------------+----------------+----------------+------------------------+----------------------------------+---------------------------+--------------------------------+--------------------------------+-----------------------+------------------------+--------------------------+------------------------+-----------------+---------------------+-------------------------------------+--------------------------------+--------------------------+-----------------------+----------------------+---------------------+-------------------+---------------------------------------+------------+---------------------+-------------+\n",
      "|MachineIdentifier               |ProductName |EngineVersion|AppVersion     |AvSigVersion|IsBeta|RtpStateBitfield|IsSxsPassiveMode|DefaultBrowsersIdentifier|AVProductStatesIdentifier|AVProductsInstalled|AVProductsEnabled|HasTpm|CountryIdentifier|CityIdentifier|OrganizationIdentifier|GeoNameIdentifier|LocaleEnglishNameIdentifier|Platform |Processor|OsVer   |OsBuild|OsSuite|OsPlatformSubRelease|OsBuildLab                              |SkuEdition|IsProtected|AutoSampleOptIn|PuaMode|SMode|IeVerIdentifier|SmartScreen |Firewall|UacLuaenable|Census_MDC2FormFactor|Census_DeviceFamily|Census_OEMNameIdentifier|Census_OEMModelIdentifier|Census_ProcessorCoreCount|Census_ProcessorManufacturerIdentifier|Census_ProcessorModelIdentifier|Census_ProcessorClass|Census_PrimaryDiskTotalCapacity|Census_PrimaryDiskTypeName|Census_SystemVolumeTotalCapacity|Census_HasOpticalDiskDrive|Census_TotalPhysicalRAM|Census_ChassisTypeName|Census_InternalPrimaryDiagonalDisplaySizeInInches|Census_InternalPrimaryDisplayResolutionHorizontal|Census_InternalPrimaryDisplayResolutionVertical|Census_PowerPlatformRoleName|Census_InternalBatteryType|Census_InternalBatteryNumberOfCharges|Census_OSVersion|Census_OSArchitecture|Census_OSBranch|Census_OSBuildNumber|Census_OSBuildRevision|Census_OSEdition|Census_OSSkuName|Census_OSInstallTypeName|Census_OSInstallLanguageIdentifier|Census_OSUILocaleIdentifier|Census_OSWUAutoUpdateOptionsName|Census_IsPortableOperatingSystem|Census_GenuineStateName|Census_ActivationChannel|Census_IsFlightingInternal|Census_IsFlightsDisabled|Census_FlightRing|Census_ThresholdOptIn|Census_FirmwareManufacturerIdentifier|Census_FirmwareVersionIdentifier|Census_IsSecureBootEnabled|Census_IsWIMBootEnabled|Census_IsVirtualDevice|Census_IsTouchEnabled|Census_IsPenCapable|Census_IsAlwaysOnAlwaysConnectedCapable|Wdft_IsGamer|Wdft_RegionIdentifier|HasDetections|\n",
      "+--------------------------------+------------+-------------+---------------+------------+------+----------------+----------------+-------------------------+-------------------------+-------------------+-----------------+------+-----------------+--------------+----------------------+-----------------+---------------------------+---------+---------+--------+-------+-------+--------------------+----------------------------------------+----------+-----------+---------------+-------+-----+---------------+------------+--------+------------+---------------------+-------------------+------------------------+-------------------------+-------------------------+--------------------------------------+-------------------------------+---------------------+-------------------------------+--------------------------+--------------------------------+--------------------------+-----------------------+----------------------+-------------------------------------------------+-------------------------------------------------+-----------------------------------------------+----------------------------+--------------------------+-------------------------------------+----------------+---------------------+---------------+--------------------+----------------------+----------------+----------------+------------------------+----------------------------------+---------------------------+--------------------------------+--------------------------------+-----------------------+------------------------+--------------------------+------------------------+-----------------+---------------------+-------------------------------------+--------------------------------+--------------------------+-----------------------+----------------------+---------------------+-------------------+---------------------------------------+------------+---------------------+-------------+\n",
      "|0000028988387b115f69f31a3bf04f09|win8defender|1.1.15100.1  |4.18.1807.18075|1.273.1735.0|0     |7               |0               |null                     |53447                    |1                  |1                |1     |29               |128035        |18                    |35               |171                        |windows10|x64      |10.0.0.0|17134  |256    |rs4                 |17134.1.amd64fre.rs4_release.180410-1804|Pro       |1          |0              |null   |0    |137            |null        |1       |1           |Desktop              |Windows.Desktop    |2668                    |9124                     |4                        |5                                     |2341                           |null                 |476940                         |HDD                       |299451                          |0                         |4096                   |Desktop               |18.9                                             |1440                                             |900                                            |Desktop                     |null                      |4294967295                           |10.0.17134.165  |amd64                |rs4_release    |17134               |165                   |Professional    |PROFESSIONAL    |UUPUpgrade              |26                                |119                        |UNKNOWN                         |0                               |IS_GENUINE             |Retail                  |null                      |0                       |Retail           |null                 |628                                  |36144                           |0                         |null                   |0                     |0                    |0                  |0                                      |0           |10                   |0            |\n",
      "|000007535c3f730efa9ea0b7ef1bd645|win8defender|1.1.14600.4  |4.13.17134.1   |1.263.48.0  |0     |7               |0               |null                     |53447                    |1                  |1                |1     |93               |1482          |18                    |119              |64                         |windows10|x64      |10.0.0.0|17134  |256    |rs4                 |17134.1.amd64fre.rs4_release.180410-1804|Pro       |1          |0              |null   |0    |137            |null        |1       |1           |Notebook             |Windows.Desktop    |2668                    |91656                    |4                        |5                                     |2405                           |null                 |476940                         |HDD                       |102385                          |0                         |4096                   |Notebook              |13.9                                             |1366                                             |768                                            |Mobile                      |null                      |1                                    |10.0.17134.1    |amd64                |rs4_release    |17134               |1                     |Professional    |PROFESSIONAL    |IBSClean                |8                                 |31                         |UNKNOWN                         |0                               |OFFLINE                |Retail                  |null                      |0                       |NOT_SET          |null                 |628                                  |57858                           |0                         |null                   |0                     |0                    |0                  |0                                      |0           |8                    |0            |\n",
      "|000007905a28d863f6d0d597892cd692|win8defender|1.1.15100.1  |4.18.1807.18075|1.273.1341.0|0     |7               |0               |null                     |53447                    |1                  |1                |1     |86               |153579        |18                    |64               |49                         |windows10|x64      |10.0.0.0|17134  |768    |rs4                 |17134.1.amd64fre.rs4_release.180410-1804|Home      |1          |0              |null   |0    |137            |RequireAdmin|1       |1           |Desktop              |Windows.Desktop    |4909                    |317701                   |4                        |5                                     |1972                           |null                 |114473                         |SSD                       |113907                          |0                         |4096                   |Desktop               |21.5                                             |1920                                             |1080                                           |Desktop                     |null                      |4294967295                           |10.0.17134.165  |amd64                |rs4_release    |17134               |165                   |Core            |CORE            |UUPUpgrade              |7                                 |30                         |FullAuto                        |0                               |IS_GENUINE             |OEM:NONSLP              |null                      |0                       |Retail           |null                 |142                                  |52682                           |0                         |null                   |0                     |0                    |0                  |0                                      |0           |3                    |0            |\n",
      "|00000b11598a75ea8ba1beea8459149f|win8defender|1.1.15100.1  |4.18.1807.18075|1.273.1527.0|0     |7               |0               |null                     |53447                    |1                  |1                |1     |88               |20710         |null                  |117              |115                        |windows10|x64      |10.0.0.0|17134  |256    |rs4                 |17134.1.amd64fre.rs4_release.180410-1804|Pro       |1          |0              |null   |0    |137            |ExistsNotSet|1       |1           |Desktop              |Windows.Desktop    |1443                    |275890                   |4                        |5                                     |2273                           |null                 |238475                         |UNKNOWN                   |227116                          |0                         |4096                   |MiniTower             |18.5                                             |1366                                             |768                                            |Desktop                     |null                      |4294967295                           |10.0.17134.228  |amd64                |rs4_release    |17134               |228                   |Professional    |PROFESSIONAL    |UUPUpgrade              |17                                |64                         |FullAuto                        |0                               |IS_GENUINE             |OEM:NONSLP              |null                      |0                       |Retail           |null                 |355                                  |20050                           |0                         |null                   |0                     |0                    |0                  |0                                      |0           |3                    |1            |\n",
      "+--------------------------------+------------+-------------+---------------+------------+------+----------------+----------------+-------------------------+-------------------------+-------------------+-----------------+------+-----------------+--------------+----------------------+-----------------+---------------------------+---------+---------+--------+-------+-------+--------------------+----------------------------------------+----------+-----------+---------------+-------+-----+---------------+------------+--------+------------+---------------------+-------------------+------------------------+-------------------------+-------------------------+--------------------------------------+-------------------------------+---------------------+-------------------------------+--------------------------+--------------------------------+--------------------------+-----------------------+----------------------+-------------------------------------------------+-------------------------------------------------+-----------------------------------------------+----------------------------+--------------------------+-------------------------------------+----------------+---------------------+---------------+--------------------+----------------------+----------------+----------------+------------------------+----------------------------------+---------------------------+--------------------------------+--------------------------------+-----------------------+------------------------+--------------------------+------------------------+-----------------+---------------------+-------------------------------------+--------------------------------+--------------------------+-----------------------+----------------------+---------------------+-------------------+---------------------------------------+------------+---------------------+-------------+\n",
      "only showing top 4 rows\n",
      "\n"
     ]
    }
   ],
   "source": [
    "df_train.show(4, False)"
   ]
  },
  {
   "cell_type": "code",
   "execution_count": 7,
   "metadata": {},
   "outputs": [
    {
     "name": "stdout",
     "output_type": "stream",
     "text": [
      "+--------------------------------+------------+-------------+-----------+------------+------+----------------+----------------+-------------------------+-------------------------+-------------------+-----------------+------+-----------------+--------------+----------------------+-----------------+---------------------------+---------+---------+--------+-------+-------+--------------------+-----------------------------------------------------+----------+-----------+---------------+-------+-----+---------------+------------+--------+------------+---------------------+-------------------+------------------------+-------------------------+-------------------------+--------------------------------------+-------------------------------+---------------------+-------------------------------+--------------------------+--------------------------------+--------------------------+-----------------------+----------------------+-------------------------------------------------+-------------------------------------------------+-----------------------------------------------+----------------------------+--------------------------+-------------------------------------+----------------+---------------------+----------------------+--------------------+----------------------+------------------+-------------------+------------------------+----------------------------------+---------------------------+-------------------------------------+--------------------------------+-----------------------+------------------------+--------------------------+------------------------+-----------------+---------------------+-------------------------------------+--------------------------------+--------------------------+-----------------------+----------------------+---------------------+-------------------+---------------------------------------+------------+---------------------+\n",
      "|MachineIdentifier               |ProductName |EngineVersion|AppVersion |AvSigVersion|IsBeta|RtpStateBitfield|IsSxsPassiveMode|DefaultBrowsersIdentifier|AVProductStatesIdentifier|AVProductsInstalled|AVProductsEnabled|HasTpm|CountryIdentifier|CityIdentifier|OrganizationIdentifier|GeoNameIdentifier|LocaleEnglishNameIdentifier|Platform |Processor|OsVer   |OsBuild|OsSuite|OsPlatformSubRelease|OsBuildLab                                           |SkuEdition|IsProtected|AutoSampleOptIn|PuaMode|SMode|IeVerIdentifier|SmartScreen |Firewall|UacLuaenable|Census_MDC2FormFactor|Census_DeviceFamily|Census_OEMNameIdentifier|Census_OEMModelIdentifier|Census_ProcessorCoreCount|Census_ProcessorManufacturerIdentifier|Census_ProcessorModelIdentifier|Census_ProcessorClass|Census_PrimaryDiskTotalCapacity|Census_PrimaryDiskTypeName|Census_SystemVolumeTotalCapacity|Census_HasOpticalDiskDrive|Census_TotalPhysicalRAM|Census_ChassisTypeName|Census_InternalPrimaryDiagonalDisplaySizeInInches|Census_InternalPrimaryDisplayResolutionHorizontal|Census_InternalPrimaryDisplayResolutionVertical|Census_PowerPlatformRoleName|Census_InternalBatteryType|Census_InternalBatteryNumberOfCharges|Census_OSVersion|Census_OSArchitecture|Census_OSBranch       |Census_OSBuildNumber|Census_OSBuildRevision|Census_OSEdition  |Census_OSSkuName   |Census_OSInstallTypeName|Census_OSInstallLanguageIdentifier|Census_OSUILocaleIdentifier|Census_OSWUAutoUpdateOptionsName     |Census_IsPortableOperatingSystem|Census_GenuineStateName|Census_ActivationChannel|Census_IsFlightingInternal|Census_IsFlightsDisabled|Census_FlightRing|Census_ThresholdOptIn|Census_FirmwareManufacturerIdentifier|Census_FirmwareVersionIdentifier|Census_IsSecureBootEnabled|Census_IsWIMBootEnabled|Census_IsVirtualDevice|Census_IsTouchEnabled|Census_IsPenCapable|Census_IsAlwaysOnAlwaysConnectedCapable|Wdft_IsGamer|Wdft_RegionIdentifier|\n",
      "+--------------------------------+------------+-------------+-----------+------------+------+----------------+----------------+-------------------------+-------------------------+-------------------+-----------------+------+-----------------+--------------+----------------------+-----------------+---------------------------+---------+---------+--------+-------+-------+--------------------+-----------------------------------------------------+----------+-----------+---------------+-------+-----+---------------+------------+--------+------------+---------------------+-------------------+------------------------+-------------------------+-------------------------+--------------------------------------+-------------------------------+---------------------+-------------------------------+--------------------------+--------------------------------+--------------------------+-----------------------+----------------------+-------------------------------------------------+-------------------------------------------------+-----------------------------------------------+----------------------------+--------------------------+-------------------------------------+----------------+---------------------+----------------------+--------------------+----------------------+------------------+-------------------+------------------------+----------------------------------+---------------------------+-------------------------------------+--------------------------------+-----------------------+------------------------+--------------------------+------------------------+-----------------+---------------------+-------------------------------------+--------------------------------+--------------------------+-----------------------+----------------------+---------------------+-------------------+---------------------------------------+------------+---------------------+\n",
      "|0000010489e3af074adeac69c53e555e|win8defender|1.1.15400.5  |4.18.1810.5|1.281.501.0 |0     |7               |0               |null                     |53447                    |1                  |1                |1     |43               |58552         |18                    |53               |42                         |windows10|x64      |10.0.0.0|15063  |768    |rs2                 |15063.0.amd64fre.rs2_release.170317-1834             |Home      |1          |0              |null   |null |108            |null        |1       |1           |Notebook             |Windows.Desktop    |2689                    |30661                    |4                        |5                                     |3063                           |null                 |488386                         |SSD                       |123179                          |0                         |8192                   |Notebook              |15.5                                             |1920                                             |1080                                           |Mobile                      |null                      |8                                    |10.0.15063.1387 |amd64                |rs2_release           |15063               |1387                  |Core              |CORE               |Reset                   |37                                |158                        |AutoInstallAndRebootAtMaintenanceTime|0                               |IS_GENUINE             |OEM:DM                  |null                      |0                       |Retail           |null                 |807                                  |8554                            |1                         |null                   |0                     |0                    |0                  |0                                      |0           |7                    |\n",
      "|00000176ac758d54827acd545b6315a5|win8defender|1.1.15400.4  |4.18.1809.2|1.279.301.0 |0     |7               |0               |null                     |53447                    |1                  |1                |1     |68               |71395         |null                  |276              |74                         |windows10|x64      |10.0.0.0|16299  |768    |rs3                 |16299.431.amd64fre.rs3_release_svc_escrow.180502-1908|Home      |1          |0              |null   |null |117            |RequireAdmin|1       |1           |Notebook             |Windows.Desktop    |2206                    |242491                   |4                        |5                                     |3410                           |null                 |1907729                        |HDD                       |1882352                         |0                         |8192                   |Notebook              |15.5                                             |1366                                             |768                                            |Mobile                      |null                      |0                                    |10.0.16299.611  |amd64                |rs3_release_svc_escrow|16299               |611                   |Core              |CORE               |UUPUpgrade              |7                                 |30                         |AutoInstallAndRebootAtMaintenanceTime|0                               |IS_GENUINE             |Retail                  |null                      |0                       |Retail           |null                 |554                                  |33105                           |1                         |null                   |0                     |0                    |0                  |0                                      |1           |12                   |\n",
      "|0000019dcefc128c2d4387c1273dae1d|win8defender|1.1.15300.6  |4.18.1809.2|1.277.230.0 |0     |7               |0               |null                     |49480                    |2                  |1                |1     |201              |66202         |null                  |267              |251                        |windows10|x64      |10.0.0.0|14393  |768    |rs1                 |14393.2189.amd64fre.rs1_release.180329-1711          |Home      |1          |0              |null   |null |98             |RequireAdmin|1       |1           |Notebook             |Windows.Desktop    |585                     |189533                   |2                        |5                                     |2097                           |null                 |29820                          |SSD                       |28678                           |0                         |4096                   |Notebook              |13.9                                             |1280                                             |720                                            |Mobile                      |null                      |0                                    |10.0.14393.2189 |amd64                |rs1_release           |14393               |2189                  |CoreSingleLanguage|CORE_SINGLELANGUAGE|Other                   |35                                |148                        |UNKNOWN                              |0                               |IS_GENUINE             |OEM:DM                  |null                      |0                       |Retail           |null                 |556                                  |63396                           |1                         |null                   |0                     |0                    |0                  |0                                      |1           |11                   |\n",
      "|0000055553dc51b1295785415f1a224d|win8defender|1.1.15400.5  |4.18.1810.5|1.281.664.0 |0     |7               |0               |null                     |42160                    |2                  |1                |1     |29               |120917        |null                  |35               |171                        |windows10|x64      |10.0.0.0|16299  |768    |rs3                 |16299.15.amd64fre.rs3_release.170928-1534            |Home      |1          |0              |null   |null |117            |RequireAdmin|1       |1           |Notebook             |Windows.Desktop    |2668                    |171228                   |2                        |5                                     |1985                           |null                 |476940                         |HDD                       |439345                          |0                         |4096                   |Notebook              |14.0                                             |1366                                             |768                                            |Mobile                      |li-i                      |0                                    |10.0.16299.371  |amd64                |rs3_release           |16299               |371                   |CoreSingleLanguage|CORE_SINGLELANGUAGE|Upgrade                 |26                                |119                        |Notify                               |0                               |IS_GENUINE             |OEM:DM                  |null                      |0                       |Retail           |0                    |628                                  |26320                           |1                         |0                      |0                     |0                    |0                  |0                                      |0           |10                   |\n",
      "+--------------------------------+------------+-------------+-----------+------------+------+----------------+----------------+-------------------------+-------------------------+-------------------+-----------------+------+-----------------+--------------+----------------------+-----------------+---------------------------+---------+---------+--------+-------+-------+--------------------+-----------------------------------------------------+----------+-----------+---------------+-------+-----+---------------+------------+--------+------------+---------------------+-------------------+------------------------+-------------------------+-------------------------+--------------------------------------+-------------------------------+---------------------+-------------------------------+--------------------------+--------------------------------+--------------------------+-----------------------+----------------------+-------------------------------------------------+-------------------------------------------------+-----------------------------------------------+----------------------------+--------------------------+-------------------------------------+----------------+---------------------+----------------------+--------------------+----------------------+------------------+-------------------+------------------------+----------------------------------+---------------------------+-------------------------------------+--------------------------------+-----------------------+------------------------+--------------------------+------------------------+-----------------+---------------------+-------------------------------------+--------------------------------+--------------------------+-----------------------+----------------------+---------------------+-------------------+---------------------------------------+------------+---------------------+\n",
      "only showing top 4 rows\n",
      "\n"
     ]
    }
   ],
   "source": [
    "df_test.show(4, False)"
   ]
  },
  {
   "cell_type": "markdown",
   "metadata": {},
   "source": [
    "Creamos la variable \"HasDetections\" para el test"
   ]
  },
  {
   "cell_type": "code",
   "execution_count": 8,
   "metadata": {},
   "outputs": [],
   "source": [
    "df_test = df_test.withColumn('HasDetections', lit(None))"
   ]
  },
  {
   "cell_type": "code",
   "execution_count": 9,
   "metadata": {},
   "outputs": [
    {
     "name": "stdout",
     "output_type": "stream",
     "text": [
      "+--------------------------------+------------+-------------+-----------+------------+------+----------------+----------------+-------------------------+-------------------------+-------------------+-----------------+------+-----------------+--------------+----------------------+-----------------+---------------------------+---------+---------+--------+-------+-------+--------------------+-----------------------------------------------------+----------+-----------+---------------+-------+-----+---------------+------------+--------+------------+---------------------+-------------------+------------------------+-------------------------+-------------------------+--------------------------------------+-------------------------------+---------------------+-------------------------------+--------------------------+--------------------------------+--------------------------+-----------------------+----------------------+-------------------------------------------------+-------------------------------------------------+-----------------------------------------------+----------------------------+--------------------------+-------------------------------------+----------------+---------------------+----------------------+--------------------+----------------------+------------------+-------------------+------------------------+----------------------------------+---------------------------+-------------------------------------+--------------------------------+-----------------------+------------------------+--------------------------+------------------------+-----------------+---------------------+-------------------------------------+--------------------------------+--------------------------+-----------------------+----------------------+---------------------+-------------------+---------------------------------------+------------+---------------------+-------------+\n",
      "|MachineIdentifier               |ProductName |EngineVersion|AppVersion |AvSigVersion|IsBeta|RtpStateBitfield|IsSxsPassiveMode|DefaultBrowsersIdentifier|AVProductStatesIdentifier|AVProductsInstalled|AVProductsEnabled|HasTpm|CountryIdentifier|CityIdentifier|OrganizationIdentifier|GeoNameIdentifier|LocaleEnglishNameIdentifier|Platform |Processor|OsVer   |OsBuild|OsSuite|OsPlatformSubRelease|OsBuildLab                                           |SkuEdition|IsProtected|AutoSampleOptIn|PuaMode|SMode|IeVerIdentifier|SmartScreen |Firewall|UacLuaenable|Census_MDC2FormFactor|Census_DeviceFamily|Census_OEMNameIdentifier|Census_OEMModelIdentifier|Census_ProcessorCoreCount|Census_ProcessorManufacturerIdentifier|Census_ProcessorModelIdentifier|Census_ProcessorClass|Census_PrimaryDiskTotalCapacity|Census_PrimaryDiskTypeName|Census_SystemVolumeTotalCapacity|Census_HasOpticalDiskDrive|Census_TotalPhysicalRAM|Census_ChassisTypeName|Census_InternalPrimaryDiagonalDisplaySizeInInches|Census_InternalPrimaryDisplayResolutionHorizontal|Census_InternalPrimaryDisplayResolutionVertical|Census_PowerPlatformRoleName|Census_InternalBatteryType|Census_InternalBatteryNumberOfCharges|Census_OSVersion|Census_OSArchitecture|Census_OSBranch       |Census_OSBuildNumber|Census_OSBuildRevision|Census_OSEdition  |Census_OSSkuName   |Census_OSInstallTypeName|Census_OSInstallLanguageIdentifier|Census_OSUILocaleIdentifier|Census_OSWUAutoUpdateOptionsName     |Census_IsPortableOperatingSystem|Census_GenuineStateName|Census_ActivationChannel|Census_IsFlightingInternal|Census_IsFlightsDisabled|Census_FlightRing|Census_ThresholdOptIn|Census_FirmwareManufacturerIdentifier|Census_FirmwareVersionIdentifier|Census_IsSecureBootEnabled|Census_IsWIMBootEnabled|Census_IsVirtualDevice|Census_IsTouchEnabled|Census_IsPenCapable|Census_IsAlwaysOnAlwaysConnectedCapable|Wdft_IsGamer|Wdft_RegionIdentifier|HasDetections|\n",
      "+--------------------------------+------------+-------------+-----------+------------+------+----------------+----------------+-------------------------+-------------------------+-------------------+-----------------+------+-----------------+--------------+----------------------+-----------------+---------------------------+---------+---------+--------+-------+-------+--------------------+-----------------------------------------------------+----------+-----------+---------------+-------+-----+---------------+------------+--------+------------+---------------------+-------------------+------------------------+-------------------------+-------------------------+--------------------------------------+-------------------------------+---------------------+-------------------------------+--------------------------+--------------------------------+--------------------------+-----------------------+----------------------+-------------------------------------------------+-------------------------------------------------+-----------------------------------------------+----------------------------+--------------------------+-------------------------------------+----------------+---------------------+----------------------+--------------------+----------------------+------------------+-------------------+------------------------+----------------------------------+---------------------------+-------------------------------------+--------------------------------+-----------------------+------------------------+--------------------------+------------------------+-----------------+---------------------+-------------------------------------+--------------------------------+--------------------------+-----------------------+----------------------+---------------------+-------------------+---------------------------------------+------------+---------------------+-------------+\n",
      "|0000010489e3af074adeac69c53e555e|win8defender|1.1.15400.5  |4.18.1810.5|1.281.501.0 |0     |7               |0               |null                     |53447                    |1                  |1                |1     |43               |58552         |18                    |53               |42                         |windows10|x64      |10.0.0.0|15063  |768    |rs2                 |15063.0.amd64fre.rs2_release.170317-1834             |Home      |1          |0              |null   |null |108            |null        |1       |1           |Notebook             |Windows.Desktop    |2689                    |30661                    |4                        |5                                     |3063                           |null                 |488386                         |SSD                       |123179                          |0                         |8192                   |Notebook              |15.5                                             |1920                                             |1080                                           |Mobile                      |null                      |8                                    |10.0.15063.1387 |amd64                |rs2_release           |15063               |1387                  |Core              |CORE               |Reset                   |37                                |158                        |AutoInstallAndRebootAtMaintenanceTime|0                               |IS_GENUINE             |OEM:DM                  |null                      |0                       |Retail           |null                 |807                                  |8554                            |1                         |null                   |0                     |0                    |0                  |0                                      |0           |7                    |null         |\n",
      "|00000176ac758d54827acd545b6315a5|win8defender|1.1.15400.4  |4.18.1809.2|1.279.301.0 |0     |7               |0               |null                     |53447                    |1                  |1                |1     |68               |71395         |null                  |276              |74                         |windows10|x64      |10.0.0.0|16299  |768    |rs3                 |16299.431.amd64fre.rs3_release_svc_escrow.180502-1908|Home      |1          |0              |null   |null |117            |RequireAdmin|1       |1           |Notebook             |Windows.Desktop    |2206                    |242491                   |4                        |5                                     |3410                           |null                 |1907729                        |HDD                       |1882352                         |0                         |8192                   |Notebook              |15.5                                             |1366                                             |768                                            |Mobile                      |null                      |0                                    |10.0.16299.611  |amd64                |rs3_release_svc_escrow|16299               |611                   |Core              |CORE               |UUPUpgrade              |7                                 |30                         |AutoInstallAndRebootAtMaintenanceTime|0                               |IS_GENUINE             |Retail                  |null                      |0                       |Retail           |null                 |554                                  |33105                           |1                         |null                   |0                     |0                    |0                  |0                                      |1           |12                   |null         |\n",
      "|0000019dcefc128c2d4387c1273dae1d|win8defender|1.1.15300.6  |4.18.1809.2|1.277.230.0 |0     |7               |0               |null                     |49480                    |2                  |1                |1     |201              |66202         |null                  |267              |251                        |windows10|x64      |10.0.0.0|14393  |768    |rs1                 |14393.2189.amd64fre.rs1_release.180329-1711          |Home      |1          |0              |null   |null |98             |RequireAdmin|1       |1           |Notebook             |Windows.Desktop    |585                     |189533                   |2                        |5                                     |2097                           |null                 |29820                          |SSD                       |28678                           |0                         |4096                   |Notebook              |13.9                                             |1280                                             |720                                            |Mobile                      |null                      |0                                    |10.0.14393.2189 |amd64                |rs1_release           |14393               |2189                  |CoreSingleLanguage|CORE_SINGLELANGUAGE|Other                   |35                                |148                        |UNKNOWN                              |0                               |IS_GENUINE             |OEM:DM                  |null                      |0                       |Retail           |null                 |556                                  |63396                           |1                         |null                   |0                     |0                    |0                  |0                                      |1           |11                   |null         |\n",
      "|0000055553dc51b1295785415f1a224d|win8defender|1.1.15400.5  |4.18.1810.5|1.281.664.0 |0     |7               |0               |null                     |42160                    |2                  |1                |1     |29               |120917        |null                  |35               |171                        |windows10|x64      |10.0.0.0|16299  |768    |rs3                 |16299.15.amd64fre.rs3_release.170928-1534            |Home      |1          |0              |null   |null |117            |RequireAdmin|1       |1           |Notebook             |Windows.Desktop    |2668                    |171228                   |2                        |5                                     |1985                           |null                 |476940                         |HDD                       |439345                          |0                         |4096                   |Notebook              |14.0                                             |1366                                             |768                                            |Mobile                      |li-i                      |0                                    |10.0.16299.371  |amd64                |rs3_release           |16299               |371                   |CoreSingleLanguage|CORE_SINGLELANGUAGE|Upgrade                 |26                                |119                        |Notify                               |0                               |IS_GENUINE             |OEM:DM                  |null                      |0                       |Retail           |0                    |628                                  |26320                           |1                         |0                      |0                     |0                    |0                  |0                                      |0           |10                   |null         |\n",
      "+--------------------------------+------------+-------------+-----------+------------+------+----------------+----------------+-------------------------+-------------------------+-------------------+-----------------+------+-----------------+--------------+----------------------+-----------------+---------------------------+---------+---------+--------+-------+-------+--------------------+-----------------------------------------------------+----------+-----------+---------------+-------+-----+---------------+------------+--------+------------+---------------------+-------------------+------------------------+-------------------------+-------------------------+--------------------------------------+-------------------------------+---------------------+-------------------------------+--------------------------+--------------------------------+--------------------------+-----------------------+----------------------+-------------------------------------------------+-------------------------------------------------+-----------------------------------------------+----------------------------+--------------------------+-------------------------------------+----------------+---------------------+----------------------+--------------------+----------------------+------------------+-------------------+------------------------+----------------------------------+---------------------------+-------------------------------------+--------------------------------+-----------------------+------------------------+--------------------------+------------------------+-----------------+---------------------+-------------------------------------+--------------------------------+--------------------------+-----------------------+----------------------+---------------------+-------------------+---------------------------------------+------------+---------------------+-------------+\n",
      "only showing top 4 rows\n",
      "\n"
     ]
    }
   ],
   "source": [
    "df_test.show(4, False)"
   ]
  },
  {
   "cell_type": "code",
   "execution_count": 10,
   "metadata": {},
   "outputs": [
    {
     "name": "stdout",
     "output_type": "stream",
     "text": [
      "8921483 7853253\n"
     ]
    }
   ],
   "source": [
    "print(df_train.count(), df_test.count())"
   ]
  },
  {
   "cell_type": "markdown",
   "metadata": {},
   "source": [
    "Unimos el train y test en un unico DF"
   ]
  },
  {
   "cell_type": "code",
   "execution_count": 11,
   "metadata": {},
   "outputs": [],
   "source": [
    "full_df = df_train.union(df_test)"
   ]
  },
  {
   "cell_type": "code",
   "execution_count": 12,
   "metadata": {},
   "outputs": [
    {
     "name": "stdout",
     "output_type": "stream",
     "text": [
      "16774736\n"
     ]
    }
   ],
   "source": [
    "full_df.persist()\n",
    "print(full_df.count())"
   ]
  },
  {
   "cell_type": "markdown",
   "metadata": {},
   "source": [
    "Ahora comenzamos con el proceso de separar variables categoricas y numericas"
   ]
  },
  {
   "cell_type": "code",
   "execution_count": 16,
   "metadata": {},
   "outputs": [],
   "source": [
    "cat_cols = list()\n",
    "num_cols = list()"
   ]
  },
  {
   "cell_type": "code",
   "execution_count": 21,
   "metadata": {},
   "outputs": [],
   "source": [
    "all_types = full_df.dtypes\n",
    "for col in all_types:\n",
    "#     print(col[0], col[1])\n",
    "    if col[1] == 'string':\n",
    "        cat_cols.append(col[0])\n",
    "    else:\n",
    "        num_cols.append(col[0])"
   ]
  },
  {
   "cell_type": "code",
   "execution_count": 22,
   "metadata": {
    "scrolled": true
   },
   "outputs": [
    {
     "data": {
      "text/plain": [
       "['MachineIdentifier',\n",
       " 'ProductName',\n",
       " 'EngineVersion',\n",
       " 'AppVersion',\n",
       " 'AvSigVersion',\n",
       " 'Platform',\n",
       " 'Processor',\n",
       " 'OsVer',\n",
       " 'OsPlatformSubRelease',\n",
       " 'OsBuildLab',\n",
       " 'SkuEdition',\n",
       " 'PuaMode',\n",
       " 'SmartScreen',\n",
       " 'Census_MDC2FormFactor',\n",
       " 'Census_DeviceFamily',\n",
       " 'Census_ProcessorClass',\n",
       " 'Census_PrimaryDiskTypeName',\n",
       " 'Census_ChassisTypeName',\n",
       " 'Census_PowerPlatformRoleName',\n",
       " 'Census_InternalBatteryType',\n",
       " 'Census_OSVersion',\n",
       " 'Census_OSArchitecture',\n",
       " 'Census_OSBranch',\n",
       " 'Census_OSEdition',\n",
       " 'Census_OSSkuName',\n",
       " 'Census_OSInstallTypeName',\n",
       " 'Census_OSWUAutoUpdateOptionsName',\n",
       " 'Census_GenuineStateName',\n",
       " 'Census_ActivationChannel',\n",
       " 'Census_FlightRing']"
      ]
     },
     "execution_count": 22,
     "metadata": {},
     "output_type": "execute_result"
    }
   ],
   "source": [
    "cat_cols"
   ]
  },
  {
   "cell_type": "code",
   "execution_count": 23,
   "metadata": {
    "scrolled": true
   },
   "outputs": [
    {
     "data": {
      "text/plain": [
       "['IsBeta',\n",
       " 'RtpStateBitfield',\n",
       " 'IsSxsPassiveMode',\n",
       " 'DefaultBrowsersIdentifier',\n",
       " 'AVProductStatesIdentifier',\n",
       " 'AVProductsInstalled',\n",
       " 'AVProductsEnabled',\n",
       " 'HasTpm',\n",
       " 'CountryIdentifier',\n",
       " 'CityIdentifier',\n",
       " 'OrganizationIdentifier',\n",
       " 'GeoNameIdentifier',\n",
       " 'LocaleEnglishNameIdentifier',\n",
       " 'OsBuild',\n",
       " 'OsSuite',\n",
       " 'IsProtected',\n",
       " 'AutoSampleOptIn',\n",
       " 'SMode',\n",
       " 'IeVerIdentifier',\n",
       " 'Firewall',\n",
       " 'UacLuaenable',\n",
       " 'Census_OEMNameIdentifier',\n",
       " 'Census_OEMModelIdentifier',\n",
       " 'Census_ProcessorCoreCount',\n",
       " 'Census_ProcessorManufacturerIdentifier',\n",
       " 'Census_ProcessorModelIdentifier',\n",
       " 'Census_PrimaryDiskTotalCapacity',\n",
       " 'Census_SystemVolumeTotalCapacity',\n",
       " 'Census_HasOpticalDiskDrive',\n",
       " 'Census_TotalPhysicalRAM',\n",
       " 'Census_InternalPrimaryDiagonalDisplaySizeInInches',\n",
       " 'Census_InternalPrimaryDisplayResolutionHorizontal',\n",
       " 'Census_InternalPrimaryDisplayResolutionVertical',\n",
       " 'Census_InternalBatteryNumberOfCharges',\n",
       " 'Census_OSBuildNumber',\n",
       " 'Census_OSBuildRevision',\n",
       " 'Census_OSInstallLanguageIdentifier',\n",
       " 'Census_OSUILocaleIdentifier',\n",
       " 'Census_IsPortableOperatingSystem',\n",
       " 'Census_IsFlightingInternal',\n",
       " 'Census_IsFlightsDisabled',\n",
       " 'Census_ThresholdOptIn',\n",
       " 'Census_FirmwareManufacturerIdentifier',\n",
       " 'Census_FirmwareVersionIdentifier',\n",
       " 'Census_IsSecureBootEnabled',\n",
       " 'Census_IsWIMBootEnabled',\n",
       " 'Census_IsVirtualDevice',\n",
       " 'Census_IsTouchEnabled',\n",
       " 'Census_IsPenCapable',\n",
       " 'Census_IsAlwaysOnAlwaysConnectedCapable',\n",
       " 'Wdft_IsGamer',\n",
       " 'Wdft_RegionIdentifier',\n",
       " 'HasDetections']"
      ]
     },
     "execution_count": 23,
     "metadata": {},
     "output_type": "execute_result"
    }
   ],
   "source": [
    "num_cols"
   ]
  },
  {
   "cell_type": "code",
   "execution_count": null,
   "metadata": {},
   "outputs": [],
   "source": []
  },
  {
   "cell_type": "code",
   "execution_count": null,
   "metadata": {},
   "outputs": [],
   "source": []
  },
  {
   "cell_type": "code",
   "execution_count": null,
   "metadata": {},
   "outputs": [],
   "source": [
    "# def pyspark_read_from_csv(csv_path='', iftrain = True):\n",
    "#     if iftrain:\n",
    "#         df_schema = schema_train\n",
    "#     else:\n",
    "#         df_schema = schema_test\n",
    "#     df_file = spark.read.csv(csv_path, schema=df_schema, sep=',')"
   ]
  },
  {
   "cell_type": "code",
   "execution_count": null,
   "metadata": {},
   "outputs": [],
   "source": [
    "# df_train = spark.read.csv('data/train.csv')"
   ]
  },
  {
   "cell_type": "code",
   "execution_count": null,
   "metadata": {},
   "outputs": [],
   "source": []
  }
 ],
 "metadata": {
  "kernelspec": {
   "display_name": "Python 3",
   "language": "python",
   "name": "python3"
  },
  "language_info": {
   "codemirror_mode": {
    "name": "ipython",
    "version": 3
   },
   "file_extension": ".py",
   "mimetype": "text/x-python",
   "name": "python",
   "nbconvert_exporter": "python",
   "pygments_lexer": "ipython3",
   "version": "3.6.7"
  }
 },
 "nbformat": 4,
 "nbformat_minor": 2
}
