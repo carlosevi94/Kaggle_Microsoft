{
 "cells": [
  {
   "cell_type": "code",
   "execution_count": 1,
   "metadata": {},
   "outputs": [],
   "source": [
    "from pyspark.sql import SparkSession\n",
    "from pyspark.ml.feature import StringIndexer\n",
    "from pyspark.sql.types import (StructType, StructField, StringType,\n",
    "                               DoubleType, IntegerType, LongType,DateType)\n",
    "from pyspark.sql.functions import *\n",
    "from pyspark.sql.window import Window\n",
    "from pyspark import SparkConf\n",
    "from pyspark import SparkContext\n",
    "import multiprocessing\n",
    "from datetime import datetime\n",
    "import numpy as np\n",
    "import pandas as pd\n",
    "import csv"
   ]
  },
  {
   "cell_type": "code",
   "execution_count": 2,
   "metadata": {},
   "outputs": [],
   "source": [
    "datedictAS = np.load('AvSigVersionTimestamps.npy')\n",
    "datedictOS = np.load('OSVersionTimestamps.npy')"
   ]
  },
  {
   "cell_type": "code",
   "execution_count": 3,
   "metadata": {},
   "outputs": [],
   "source": [
    "rango_av = len(datedictAS[()])\n",
    "rango_os = len(datedictOS[()])"
   ]
  },
  {
   "cell_type": "code",
   "execution_count": 4,
   "metadata": {},
   "outputs": [],
   "source": [
    "df_os = pd.DataFrame(datedictOS.tolist(),index=range(1,rango_os+1))\n",
    "df_av = pd.DataFrame(datedictAS.tolist(),index=range(1,rango_av+1))"
   ]
  },
  {
   "cell_type": "code",
   "execution_count": 5,
   "metadata": {},
   "outputs": [],
   "source": [
    "data_os = df_os.transpose().reset_index()\n",
    "data_av = df_av.transpose().reset_index()"
   ]
  },
  {
   "cell_type": "code",
   "execution_count": 6,
   "metadata": {},
   "outputs": [],
   "source": [
    "data_os = data_os.iloc[:,:2]\n",
    "data_av = data_av.iloc[:,:2]"
   ]
  },
  {
   "cell_type": "code",
   "execution_count": 60,
   "metadata": {},
   "outputs": [],
   "source": [
    "data_os.columns = ['Census_OSVersion', 'DateCensus_OSVersion']\n",
    "data_av.columns = ['AvSigVersion', 'DateAvSigVersion']"
   ]
  },
  {
   "cell_type": "code",
   "execution_count": 63,
   "metadata": {},
   "outputs": [
    {
     "name": "stdout",
     "output_type": "stream",
     "text": [
      "   Census_OSVersion DateCensus_OSVersion\n",
      "0    10.0.14393.351           2016-10-27\n",
      "1   10.0.14393.2097           2018-02-22\n",
      "2  10.0.10240.17918           2018-07-16\n",
      "3   10.0.17744.1004           2018-09-07\n",
      "4    10.0.16299.665           2018-09-11\n",
      "   AvSigVersion    DateAvSigVersion\n",
      "0   1.155.266.0 2013-07-18 09:08:00\n",
      "1   1.167.387.0 2014-02-21 14:20:00\n",
      "2  1.169.1625.0 2014-04-03 01:17:00\n",
      "3  1.169.2478.0 2014-04-12 17:16:00\n",
      "4    1.169.55.0 2014-03-18 01:09:00\n"
     ]
    }
   ],
   "source": [
    "print(data_os.head())\n",
    "print(data_av.head())"
   ]
  },
  {
   "cell_type": "code",
   "execution_count": 64,
   "metadata": {},
   "outputs": [],
   "source": [
    "data_os.to_csv(\"fechas_os.csv\",index=False)\n",
    "data_av.to_csv(\"fechas_av.csv\",index=False)"
   ]
  },
  {
   "cell_type": "code",
   "execution_count": null,
   "metadata": {},
   "outputs": [],
   "source": []
  },
  {
   "cell_type": "code",
   "execution_count": null,
   "metadata": {},
   "outputs": [],
   "source": []
  },
  {
   "cell_type": "code",
   "execution_count": null,
   "metadata": {},
   "outputs": [],
   "source": []
  },
  {
   "cell_type": "code",
   "execution_count": null,
   "metadata": {},
   "outputs": [],
   "source": []
  },
  {
   "cell_type": "code",
   "execution_count": 2,
   "metadata": {},
   "outputs": [],
   "source": [
    "# conf = SparkConf()\n",
    "# cores = multiprocessing.cpu_count()\n",
    "# conf = SparkConf()\n",
    "# conf.set(\"spark.sql.shuffle.partitions\", int(8))\n",
    "# conf.set(\"spark.default.parallelism\", int(8))\n",
    "# sc = SparkContext(conf=conf)"
   ]
  },
  {
   "cell_type": "code",
   "execution_count": 8,
   "metadata": {},
   "outputs": [],
   "source": [
    "spark = SparkSession.builder.appName(\"Microsoft_Kaggle\").getOrCreate()"
   ]
  },
  {
   "cell_type": "code",
   "execution_count": 10,
   "metadata": {},
   "outputs": [
    {
     "data": {
      "text/plain": [
       "5000"
      ]
     },
     "execution_count": 10,
     "metadata": {},
     "output_type": "execute_result"
    }
   ],
   "source": [
    "df_num = spark.read.csv(\"../../data/df_cat_prepro_0/*.csv\",inferSchema=True,header=True).limit(5000)\n",
    "df_num.persist()\n",
    "df_num.count()"
   ]
  },
  {
   "cell_type": "code",
   "execution_count": 12,
   "metadata": {},
   "outputs": [],
   "source": [
    "df_fechas_av = spark.read.csv(\"fechas_av.csv\",inferSchema=True,header=True)\n",
    "df_fechas_os = spark.read.csv(\"fechas_os.csv\",inferSchema=True,header=True)"
   ]
  },
  {
   "cell_type": "code",
   "execution_count": 13,
   "metadata": {},
   "outputs": [],
   "source": [
    "df_fechas_os = df_fechas_os.withColumn('DateOSVersion', to_date(col('DateCensus_OSVersion')))\n",
    "df_fechas_av = df_fechas_av.withColumn('DateAvSigVersion', to_date(col('DateAvSigVersion')))"
   ]
  },
  {
   "cell_type": "markdown",
   "metadata": {},
   "source": [
    "El 5 elemento de la columna OsBuildLab es la fecha de release, por lo que hay que sacarla para aportar info!!!"
   ]
  },
  {
   "cell_type": "code",
   "execution_count": 18,
   "metadata": {},
   "outputs": [
    {
     "name": "stdout",
     "output_type": "stream",
     "text": [
      "+----------------+--------------------+-------------+\n",
      "|Census_OSVersion|DateCensus_OSVersion|DateOSVersion|\n",
      "+----------------+--------------------+-------------+\n",
      "|  10.0.14393.351| 2016-10-27 00:00:00|   2016-10-27|\n",
      "| 10.0.14393.2097| 2018-02-22 00:00:00|   2018-02-22|\n",
      "|10.0.10240.17918| 2018-07-16 00:00:00|   2018-07-16|\n",
      "| 10.0.17744.1004| 2018-09-07 00:00:00|   2018-09-07|\n",
      "+----------------+--------------------+-------------+\n",
      "only showing top 4 rows\n",
      "\n"
     ]
    }
   ],
   "source": [
    "df_fechas_os.show(4)"
   ]
  },
  {
   "cell_type": "code",
   "execution_count": 19,
   "metadata": {},
   "outputs": [
    {
     "name": "stdout",
     "output_type": "stream",
     "text": [
      "+------------+----------------+\n",
      "|AvSigVersion|DateAvSigVersion|\n",
      "+------------+----------------+\n",
      "| 1.155.266.0|      2013-07-18|\n",
      "| 1.167.387.0|      2014-02-21|\n",
      "|1.169.1625.0|      2014-04-03|\n",
      "|1.169.2478.0|      2014-04-12|\n",
      "+------------+----------------+\n",
      "only showing top 4 rows\n",
      "\n"
     ]
    }
   ],
   "source": [
    "df_fechas_av.show(4)"
   ]
  },
  {
   "cell_type": "code",
   "execution_count": 14,
   "metadata": {},
   "outputs": [],
   "source": [
    "df_num = df_num.withColumn('OsBuildLab', regexp_replace('OsBuildLab', '\\*', '.').cast(StringType()))"
   ]
  },
  {
   "cell_type": "code",
   "execution_count": 15,
   "metadata": {},
   "outputs": [],
   "source": [
    "df_date_osbuild = df_num.withColumn('OsBuildLab_4', split(df_num['OsBuildLab'], '\\.')[4].cast(StringType()))\n",
    "df_date_osbuild = df_date_osbuild.withColumn('DateOsBuildLab', split(df_date_osbuild['OsBuildLab_4'], '-')[0].cast(StringType()))"
   ]
  },
  {
   "cell_type": "code",
   "execution_count": 16,
   "metadata": {},
   "outputs": [],
   "source": [
    "df_date_osbuild = df_date_osbuild.withColumn('DateOsBuildLab', to_date(col('DateOsBuildLab'), format='yyMMdd'))"
   ]
  },
  {
   "cell_type": "code",
   "execution_count": 17,
   "metadata": {},
   "outputs": [
    {
     "name": "stdout",
     "output_type": "stream",
     "text": [
      "+--------------------+------------+-------------+---------------+------------+---------+---------+--------+--------------------+--------------------+----------+-------+-------------+---------------------+-------------------+---------------------+--------------------------+----------------------+----------------------------+--------------------------+----------------+---------------------+---------------+------------------+-------------------+------------------------+--------------------------------+-----------------------+------------------------+-----------------+------------+--------------+\n",
      "|   MachineIdentifier| ProductName|EngineVersion|     AppVersion|AvSigVersion| Platform|Processor|   OsVer|OsPlatformSubRelease|          OsBuildLab|SkuEdition|PuaMode|  SmartScreen|Census_MDC2FormFactor|Census_DeviceFamily|Census_ProcessorClass|Census_PrimaryDiskTypeName|Census_ChassisTypeName|Census_PowerPlatformRoleName|Census_InternalBatteryType|Census_OSVersion|Census_OSArchitecture|Census_OSBranch|  Census_OSEdition|   Census_OSSkuName|Census_OSInstallTypeName|Census_OSWUAutoUpdateOptionsName|Census_GenuineStateName|Census_ActivationChannel|Census_FlightRing|OsBuildLab_4|DateOsBuildLab|\n",
      "+--------------------+------------+-------------+---------------+------------+---------+---------+--------+--------------------+--------------------+----------+-------+-------------+---------------------+-------------------+---------------------+--------------------------+----------------------+----------------------------+--------------------------+----------------+---------------------+---------------+------------------+-------------------+------------------------+--------------------------------+-----------------------+------------------------+-----------------+------------+--------------+\n",
      "|5344f3df517376797...|win8defender|  1.1.15100.1|4.18.1807.18075|1.273.1642.0|windows10|      x64|10.0.0.0|                 rs4|17134.1.amd64fre....|      Home|UNKNOWN|      Unknown|             Notebook|    Windows.Desktop|              UNKNOWN|                       HDD|              Notebook|                      Mobile|                   Unknown|  10.0.17134.165|                amd64|    rs4_release|CoreSingleLanguage|CORE_SINGLELANGUAGE|                IBSClean|                        FullAuto|             IS_GENUINE|                  OEM:DM|           Retail| 180410-1804|    2018-04-10|\n",
      "|5344f5da09650da47...|win8defender|  1.1.15200.1| 4.9.10586.1106| 1.275.199.0|windows10|      x64|10.0.0.0|                 th2|10586.0.amd64fre....|      Home|UNKNOWN|RequiredAdmin|             Notebook|    Windows.Desktop|              UNKNOWN|                   UNKNOWN|              Notebook|                      Mobile|                      li-i|    10.0.10586.0|                amd64|    th2_release|              Core|               CORE|                  Update|                        FullAuto|             IS_GENUINE|                  Retail|           Retail| 151029-1700|    2015-10-29|\n",
      "|5344fab725abad6c3...|win8defender|  1.1.15100.1| 4.11.15063.447|1.273.1420.0|windows10|      x64|10.0.0.0|                 rs2|15063.0.amd64fre....|       Pro|UNKNOWN| ExistsNotSet|              Desktop|    Windows.Desktop|              UNKNOWN|                       HDD|               Desktop|                     Desktop|                   Unknown|  10.0.15063.608|                amd64|    rs2_release|      Professional|       PROFESSIONAL|                  Update|                          Notify|             IS_GENUINE|                  Retail|           Retail| 170317-1834|    2017-03-17|\n",
      "|5344fbd47e4e539c0...|win8defender|  1.1.15100.1|4.18.1806.18062| 1.273.315.0|windows10|      x64|10.0.0.0|                 rs4|17134.1.amd64fre....|      Home|UNKNOWN|RequiredAdmin|             Notebook|    Windows.Desktop|              UNKNOWN|                       SSD|              Notebook|                      Mobile|                      li-i|   10.0.17134.48|                amd64|    rs4_release|              Core|               CORE|              UUPUpgrade|                          Notify|             IS_GENUINE|                  Retail|          Unknown| 180410-1804|    2018-04-10|\n",
      "|5344fdfae5951a8ac...|win8defender|  1.1.15200.1|   4.11.15063.0| 1.275.370.0|windows10|      x64|10.0.0.0|                 rs2|15063.0.amd64fre....|       Pro|UNKNOWN|      Unknown|             Notebook|    Windows.Desktop|              UNKNOWN|                       HDD|              Portable|                      Mobile|                   Unknown|    10.0.15063.0|                amd64|    rs2_release|      Professional|       PROFESSIONAL|                IBSClean|                         UNKNOWN|        INVALID_LICENSE|                  Retail|           Retail| 170317-1834|    2017-03-17|\n",
      "+--------------------+------------+-------------+---------------+------------+---------+---------+--------+--------------------+--------------------+----------+-------+-------------+---------------------+-------------------+---------------------+--------------------------+----------------------+----------------------------+--------------------------+----------------+---------------------+---------------+------------------+-------------------+------------------------+--------------------------------+-----------------------+------------------------+-----------------+------------+--------------+\n",
      "only showing top 5 rows\n",
      "\n"
     ]
    }
   ],
   "source": [
    "df_date_osbuild.show(5)"
   ]
  },
  {
   "cell_type": "code",
   "execution_count": 20,
   "metadata": {},
   "outputs": [],
   "source": [
    "df_dates = df_date_osbuild.join(df_fechas_av, ['AvSigVersion'], 'left').select('MachineIdentifier',\n",
    "                                                                               'Platform',\n",
    "                                                                               'DateOsBuildLab',\n",
    "                                                                               'DateAvSigVersion',\n",
    "                                                                               'Census_OSVersion')"
   ]
  },
  {
   "cell_type": "code",
   "execution_count": 21,
   "metadata": {},
   "outputs": [],
   "source": [
    "df_dates = df_dates.join(df_fechas_os, ['Census_OSVersion'], 'left').select('MachineIdentifier',\n",
    "                                                                               'Platform',\n",
    "                                                                               'DateOsBuildLab',\n",
    "                                                                               'DateAvSigVersion',\n",
    "                                                                           'DateOSVersion')"
   ]
  },
  {
   "cell_type": "code",
   "execution_count": 24,
   "metadata": {},
   "outputs": [
    {
     "name": "stdout",
     "output_type": "stream",
     "text": [
      "+--------------------+---------+--------------+----------------+-------------+\n",
      "|   MachineIdentifier| Platform|DateOsBuildLab|DateAvSigVersion|DateOSVersion|\n",
      "+--------------------+---------+--------------+----------------+-------------+\n",
      "|5344f3df517376797...|windows10|    2018-04-10|      2018-08-19|   2018-07-10|\n",
      "|5344f5da09650da47...|windows10|    2015-10-29|      2018-08-26|   2015-11-05|\n",
      "|5344fab725abad6c3...|windows10|    2017-03-17|      2018-08-15|   2017-09-12|\n",
      "|5344fbd47e4e539c0...|windows10|    2018-04-10|      2018-07-25|   2018-05-08|\n",
      "|5344fdfae5951a8ac...|windows10|    2017-03-17|      2018-08-29|   2017-03-30|\n",
      "+--------------------+---------+--------------+----------------+-------------+\n",
      "only showing top 5 rows\n",
      "\n"
     ]
    }
   ],
   "source": [
    "df_dates.show(5)"
   ]
  },
  {
   "cell_type": "code",
   "execution_count": 26,
   "metadata": {},
   "outputs": [],
   "source": [
    "w1 = Window.partitionBy('Platform').orderBy('DateOsBuildLab')\n",
    "w2 = Window.partitionBy('Platform').orderBy('DateAvSigVersion')\n",
    "w5 = Window.partitionBy('Platform').orderBy('DateOSVersion')\n",
    "w3 = Window.partitionBy().orderBy('DateOsBuildLab')\n",
    "w4 = Window.partitionBy().orderBy('DateAvSigVersion')"
   ]
  },
  {
   "cell_type": "code",
   "execution_count": 32,
   "metadata": {},
   "outputs": [
    {
     "data": {
      "text/plain": [
       "5000"
      ]
     },
     "execution_count": 32,
     "metadata": {},
     "output_type": "execute_result"
    }
   ],
   "source": [
    "data_windows = df_dates.withColumn('DateOsBuildLab_lag', lag('DateOsBuildLab').over(w1))\n",
    "data_windows.persist()\n",
    "data_windows.count()"
   ]
  },
  {
   "cell_type": "code",
   "execution_count": 33,
   "metadata": {},
   "outputs": [],
   "source": [
    "data_windows = data_windows.withColumn('OsBuildLab_diff', datediff(col('DateOsBuildLab'), col('DateOsBuildLab_lag')))"
   ]
  },
  {
   "cell_type": "code",
   "execution_count": 34,
   "metadata": {},
   "outputs": [
    {
     "data": {
      "text/plain": [
       "5000"
      ]
     },
     "execution_count": 34,
     "metadata": {},
     "output_type": "execute_result"
    }
   ],
   "source": [
    "data_windows = data_windows.withColumn('DateAvSigVersion_lag', lag('DateAvSigVersion').over(w2))\n",
    "data_windows.persist()\n",
    "data_windows.count()"
   ]
  },
  {
   "cell_type": "code",
   "execution_count": 35,
   "metadata": {},
   "outputs": [],
   "source": [
    "data_windows = data_windows.withColumn('AvSigVersion_diff', datediff(col('DateAvSigVersion'), col('DateAvSigVersion_lag')))"
   ]
  },
  {
   "cell_type": "code",
   "execution_count": 37,
   "metadata": {},
   "outputs": [
    {
     "data": {
      "text/plain": [
       "5000"
      ]
     },
     "execution_count": 37,
     "metadata": {},
     "output_type": "execute_result"
    }
   ],
   "source": [
    "data_windows = data_windows.withColumn('DateOSVersion_lag', lag('DateOSVersion').over(w5))\n",
    "data_windows.persist()\n",
    "data_windows.count()"
   ]
  },
  {
   "cell_type": "code",
   "execution_count": 38,
   "metadata": {},
   "outputs": [],
   "source": [
    "data_windows = data_windows.withColumn('OSVersion_diff', datediff(col('DateOSVersion'), col('DateOSVersion_lag')))"
   ]
  },
  {
   "cell_type": "code",
   "execution_count": 40,
   "metadata": {},
   "outputs": [
    {
     "name": "stdout",
     "output_type": "stream",
     "text": [
      "+--------------------+---------+--------------+----------------+-------------+------------------+---------------+--------------------+-----------------+-----------------+--------------+\n",
      "|   MachineIdentifier| Platform|DateOsBuildLab|DateAvSigVersion|DateOSVersion|DateOsBuildLab_lag|OsBuildLab_diff|DateAvSigVersion_lag|AvSigVersion_diff|DateOSVersion_lag|OSVersion_diff|\n",
      "+--------------------+---------+--------------+----------------+-------------+------------------+---------------+--------------------+-----------------+-----------------+--------------+\n",
      "|534a9caecace39560...|windows10|    2015-07-17|      2018-05-14|         null|        2015-07-09|              8|          2018-05-13|                1|             null|          null|\n",
      "|535f10fdfe4b25d83...|windows10|    2016-05-27|      2018-07-27|         null|        2016-05-27|              0|          2018-07-27|                0|             null|          null|\n",
      "|53624bc1113c48bcb...|windows10|    2017-03-17|      2018-09-12|         null|        2017-03-17|              0|          2018-09-12|                0|             null|          null|\n",
      "|5362cbfba9cced84e...|windows10|    2015-07-09|      2018-05-09|   2015-07-15|        2015-07-09|              0|          2018-05-08|                1|             null|          null|\n",
      "|534b4791897c6acb7...|windows10|    2015-07-09|      2018-05-18|   2015-07-15|              null|           null|          2018-05-17|                1|       2015-07-15|             0|\n",
      "|534db34d290579c1d...|windows10|    2015-07-09|      2018-07-07|   2015-07-15|        2015-07-09|              0|          2018-07-06|                1|       2015-07-15|             0|\n",
      "|5356d730d58f61bca...|windows10|    2015-07-09|      2018-07-19|   2015-07-15|        2015-07-09|              0|          2018-07-18|                1|       2015-07-15|             0|\n",
      "|53669ec76ca13b3c2...|windows10|    2015-07-09|      2018-07-19|   2015-07-15|        2015-07-09|              0|          2018-07-19|                0|       2015-07-15|             0|\n",
      "|534c4acaa3916629b...|windows10|    2015-07-09|      2018-07-26|   2015-07-15|        2015-07-09|              0|          2018-07-25|                1|       2015-07-15|             0|\n",
      "|53652df660f7c4f67...|windows10|    2015-07-09|      2018-07-27|   2015-07-15|        2015-07-09|              0|          2018-07-26|                1|       2015-07-15|             0|\n",
      "+--------------------+---------+--------------+----------------+-------------+------------------+---------------+--------------------+-----------------+-----------------+--------------+\n",
      "only showing top 10 rows\n",
      "\n"
     ]
    }
   ],
   "source": [
    "data_windows.show(10)"
   ]
  },
  {
   "cell_type": "code",
   "execution_count": 41,
   "metadata": {},
   "outputs": [
    {
     "data": {
      "text/plain": [
       "5000"
      ]
     },
     "execution_count": 41,
     "metadata": {},
     "output_type": "execute_result"
    }
   ],
   "source": [
    "data_windows = data_windows.withColumn('DateOsBuildLab_fulllag', lag('DateOsBuildLab').over(w3))\n",
    "data_windows.persist()\n",
    "data_windows.count()"
   ]
  },
  {
   "cell_type": "code",
   "execution_count": 42,
   "metadata": {},
   "outputs": [],
   "source": [
    "data_windows = data_windows.withColumn('OSBuild_fulldiff', datediff(col('DateOsBuildLab'), col('DateOsBuildLab_fulllag')))"
   ]
  },
  {
   "cell_type": "code",
   "execution_count": 43,
   "metadata": {},
   "outputs": [
    {
     "data": {
      "text/plain": [
       "5000"
      ]
     },
     "execution_count": 43,
     "metadata": {},
     "output_type": "execute_result"
    }
   ],
   "source": [
    "data_windows = data_windows.withColumn('DateAvSigVersion_fulllag', lag('DateAvSigVersion').over(w4))\n",
    "data_windows.persist()\n",
    "data_windows.count()"
   ]
  },
  {
   "cell_type": "code",
   "execution_count": 44,
   "metadata": {},
   "outputs": [],
   "source": [
    "data_windows = data_windows.withColumn('AvSigVersion_fulldiff', datediff(col('DateAvSigVersion'), col('DateAvSigVersion_fulllag')))"
   ]
  },
  {
   "cell_type": "code",
   "execution_count": 45,
   "metadata": {},
   "outputs": [
    {
     "name": "stdout",
     "output_type": "stream",
     "text": [
      "+--------------------+--------+--------------+----------------+-------------+------------------+---------------+--------------------+-----------------+-----------------+--------------+----------------------+----------------+------------------------+---------------------+\n",
      "|   MachineIdentifier|Platform|DateOsBuildLab|DateAvSigVersion|DateOSVersion|DateOsBuildLab_lag|OsBuildLab_diff|DateAvSigVersion_lag|AvSigVersion_diff|DateOSVersion_lag|OSVersion_diff|DateOsBuildLab_fulllag|OSBuild_fulldiff|DateAvSigVersion_fulllag|AvSigVersion_fulldiff|\n",
      "+--------------------+--------+--------------+----------------+-------------+------------------+---------------+--------------------+-----------------+-----------------+--------------+----------------------+----------------+------------------------+---------------------+\n",
      "|5357a92653a18f2d5...|windows8|    2017-04-27|      2017-05-29|   2016-09-13|        2017-02-04|             82|          2016-07-08|              325|       2016-08-09|            35|            2017-04-27|               0|              2017-05-22|                    7|\n",
      "|535fa26f687e7abdd...|windows8|    2017-09-14|      2018-01-08|   2017-05-09|        2017-09-14|              0|          2017-05-29|              224|       2017-04-11|            28|            2017-09-14|               0|              2018-01-08|                    0|\n",
      "|5359fb080c1844672...|windows8|    2018-01-01|      2018-01-31|   2016-06-14|        2018-01-01|              0|          2018-01-08|               23|       2016-05-10|            35|            2018-01-01|               0|              2018-01-30|                    1|\n",
      "+--------------------+--------+--------------+----------------+-------------+------------------+---------------+--------------------+-----------------+-----------------+--------------+----------------------+----------------+------------------------+---------------------+\n",
      "only showing top 3 rows\n",
      "\n"
     ]
    }
   ],
   "source": [
    "data_windows.filter((col('AvSigVersion_diff') > 0) & (col('Platform') != 'windows10')).show(3)"
   ]
  },
  {
   "cell_type": "code",
   "execution_count": 46,
   "metadata": {},
   "outputs": [],
   "source": [
    "df_max_date = data_windows.groupBy('Platform').agg(max('DateOsBuildLab'),\n",
    "                                                  max('DateAvSigVersion'),\n",
    "                                                   max('DateOSVersion'),\n",
    "                                                  max('OsBuildLab_diff'),\n",
    "                                                  max('AvSigVersion_diff'),\n",
    "                                                   max('OSVersion_diff'),\n",
    "                                                  max('OSBuild_fulldiff'),\n",
    "                                                  max('AvSigVersion_fulldiff'))"
   ]
  },
  {
   "cell_type": "code",
   "execution_count": 47,
   "metadata": {},
   "outputs": [],
   "source": [
    "df_date_max_date = data_windows.join(df_max_date, ['Platform'], 'left')"
   ]
  },
  {
   "cell_type": "code",
   "execution_count": 48,
   "metadata": {
    "scrolled": true
   },
   "outputs": [
    {
     "name": "stdout",
     "output_type": "stream",
     "text": [
      "+---------+--------------------+--------------+----------------+-------------+------------------+---------------+--------------------+-----------------+-----------------+--------------+----------------------+----------------+------------------------+---------------------+-------------------+---------------------+------------------+--------------------+----------------------+-------------------+---------------------+--------------------------+\n",
      "| Platform|   MachineIdentifier|DateOsBuildLab|DateAvSigVersion|DateOSVersion|DateOsBuildLab_lag|OsBuildLab_diff|DateAvSigVersion_lag|AvSigVersion_diff|DateOSVersion_lag|OSVersion_diff|DateOsBuildLab_fulllag|OSBuild_fulldiff|DateAvSigVersion_fulllag|AvSigVersion_fulldiff|max(DateOsBuildLab)|max(DateAvSigVersion)|max(DateOSVersion)|max(OsBuildLab_diff)|max(AvSigVersion_diff)|max(OSVersion_diff)|max(OSBuild_fulldiff)|max(AvSigVersion_fulldiff)|\n",
      "+---------+--------------------+--------------+----------------+-------------+------------------+---------------+--------------------+-----------------+-----------------+--------------+----------------------+----------------+------------------------+---------------------+-------------------+---------------------+------------------+--------------------+----------------------+-------------------+---------------------+--------------------------+\n",
      "|windows10|5363bedd7963ce3c8...|    2016-10-14|      2016-05-20|   2016-10-27|        2016-10-14|              0|                null|             null|       2016-10-11|            16|            2016-10-11|               3|                    null|                 null|         2018-09-11|           2018-09-25|        2018-09-20|                  73|                    60|                 63|                  113|                        60|\n",
      "|windows10|535d83787918a49eb...|    2016-12-20|      2016-06-27|   2017-01-10|        2016-12-20|              0|          2016-05-20|               38|       2016-12-13|            28|            2016-12-08|              12|              2016-05-20|                   38|         2018-09-11|           2018-09-25|        2018-09-20|                  73|                    60|                 63|                  113|                        60|\n",
      "| windows8|534dcfd0091136f3b...|    2017-08-10|      2016-07-08|   2016-02-09|        2017-04-27|            105|                null|             null|       2015-12-17|            54|            2017-08-10|               0|              2016-06-27|                   11|         2018-08-12|           2018-09-25|        2018-09-17|                 206|                   325|                 91|                   46|                        11|\n",
      "+---------+--------------------+--------------+----------------+-------------+------------------+---------------+--------------------+-----------------+-----------------+--------------+----------------------+----------------+------------------------+---------------------+-------------------+---------------------+------------------+--------------------+----------------------+-------------------+---------------------+--------------------------+\n",
      "only showing top 3 rows\n",
      "\n"
     ]
    }
   ],
   "source": [
    "df_date_max_date.show(3)"
   ]
  },
  {
   "cell_type": "code",
   "execution_count": 50,
   "metadata": {},
   "outputs": [],
   "source": [
    "df_date_max_date = df_date_max_date.withColumn('OsBuildLab_difftotal', datediff(col('max(DateOsBuildLab)'), col('DateOsBuildLab')))\\\n",
    ".withColumn('DateAvSigVersion_difftotal', datediff(col('max(DateAvSigVersion)'), col('DateAvSigVersion')))\\\n",
    ".withColumn('DateOSVersion_difftotal', datediff(col('max(DateOSVersion)'), col('DateOSVersion')))\\\n",
    ".withColumn('DateAvSigVersion_fulldifftotal', datediff(col('max(DateAvSigVersion)'), col('DateAvSigVersion_fulllag')))\\\n",
    ".withColumn('OsBuildLab_fulldifftotal', datediff(col('max(DateOSVersion)'), col('DateOsBuildLab_fulllag')))\\\n",
    ".withColumn('DateAvSigVersion_ratio', col('AvSigVersion_diff')/col('max(AvSigVersion_diff)'))\\\n",
    ".withColumn('OsBuildLab_ratio', col('OsBuildLab_diff')/col('max(OsBuildLab_diff)'))\\\n",
    ".withColumn('OSVersion_ratio', col('OSVersion_diff')/col('max(OSVersion_diff)'))\\\n",
    ".withColumn('DateAvSigVersion_fullratio', col('AvSigVersion_fulldiff')/col('max(AvSigVersion_diff)'))\\\n",
    ".withColumn('OsBuildLab_fullratio', col('OSBuild_fulldiff')/col('max(OSBuild_fulldiff)'))"
   ]
  },
  {
   "cell_type": "code",
   "execution_count": 51,
   "metadata": {},
   "outputs": [
    {
     "name": "stdout",
     "output_type": "stream",
     "text": [
      "+---------+--------------------+--------------+----------------+-------------+------------------+---------------+--------------------+-----------------+-----------------+--------------+----------------------+----------------+------------------------+---------------------+-------------------+---------------------+------------------+--------------------+----------------------+-------------------+---------------------+--------------------------+--------------------+--------------------------+-----------------------+------------------------------+------------------------+----------------------+------------------+-------------------+--------------------------+--------------------+\n",
      "| Platform|   MachineIdentifier|DateOsBuildLab|DateAvSigVersion|DateOSVersion|DateOsBuildLab_lag|OsBuildLab_diff|DateAvSigVersion_lag|AvSigVersion_diff|DateOSVersion_lag|OSVersion_diff|DateOsBuildLab_fulllag|OSBuild_fulldiff|DateAvSigVersion_fulllag|AvSigVersion_fulldiff|max(DateOsBuildLab)|max(DateAvSigVersion)|max(DateOSVersion)|max(OsBuildLab_diff)|max(AvSigVersion_diff)|max(OSVersion_diff)|max(OSBuild_fulldiff)|max(AvSigVersion_fulldiff)|OsBuildLab_difftotal|DateAvSigVersion_difftotal|DateOSVersion_difftotal|DateAvSigVersion_fulldifftotal|OsBuildLab_fulldifftotal|DateAvSigVersion_ratio|  OsBuildLab_ratio|    OSVersion_ratio|DateAvSigVersion_fullratio|OsBuildLab_fullratio|\n",
      "+---------+--------------------+--------------+----------------+-------------+------------------+---------------+--------------------+-----------------+-----------------+--------------+----------------------+----------------+------------------------+---------------------+-------------------+---------------------+------------------+--------------------+----------------------+-------------------+---------------------+--------------------------+--------------------+--------------------------+-----------------------+------------------------------+------------------------+----------------------+------------------+-------------------+--------------------------+--------------------+\n",
      "|windows10|5363bedd7963ce3c8...|    2016-10-14|      2016-05-20|   2016-10-27|        2016-10-14|              0|                null|             null|       2016-10-11|            16|            2016-10-11|               3|                    null|                 null|         2018-09-11|           2018-09-25|        2018-09-20|                  73|                    60|                 63|                  113|                        60|                 697|                       858|                    693|                          null|                     709|                  null|               0.0|0.25396825396825395|                      null| 0.02654867256637168|\n",
      "|windows10|535d83787918a49eb...|    2016-12-20|      2016-06-27|   2017-01-10|        2016-12-20|              0|          2016-05-20|               38|       2016-12-13|            28|            2016-12-08|              12|              2016-05-20|                   38|         2018-09-11|           2018-09-25|        2018-09-20|                  73|                    60|                 63|                  113|                        60|                 630|                       820|                    618|                           858|                     651|    0.6333333333333333|               0.0| 0.4444444444444444|        0.6333333333333333| 0.10619469026548672|\n",
      "| windows8|534dcfd0091136f3b...|    2017-08-10|      2016-07-08|   2016-02-09|        2017-04-27|            105|                null|             null|       2015-12-17|            54|            2017-08-10|               0|              2016-06-27|                   11|         2018-08-12|           2018-09-25|        2018-09-17|                 206|                   325|                 91|                   46|                        11|                 367|                       809|                    951|                           820|                     403|                  null|0.5097087378640777| 0.5934065934065934|      0.033846153846153845|                 0.0|\n",
      "+---------+--------------------+--------------+----------------+-------------+------------------+---------------+--------------------+-----------------+-----------------+--------------+----------------------+----------------+------------------------+---------------------+-------------------+---------------------+------------------+--------------------+----------------------+-------------------+---------------------+--------------------------+--------------------+--------------------------+-----------------------+------------------------------+------------------------+----------------------+------------------+-------------------+--------------------------+--------------------+\n",
      "only showing top 3 rows\n",
      "\n"
     ]
    }
   ],
   "source": [
    "df_date_max_date.show(3)"
   ]
  },
  {
   "cell_type": "code",
   "execution_count": 54,
   "metadata": {},
   "outputs": [],
   "source": [
    "final_dates = df_date_max_date.withColumn('OsBuildLab_dayOfWeek', date_format('DateOsBuildLab', 'u'))\\\n",
    ".withColumn('AvSigVersion_dayOfWeek', date_format('DateAvSigVersion', 'u'))"
   ]
  },
  {
   "cell_type": "code",
   "execution_count": 55,
   "metadata": {
    "scrolled": true
   },
   "outputs": [
    {
     "name": "stdout",
     "output_type": "stream",
     "text": [
      "+---------+--------------------+--------------+----------------+-------------+------------------+---------------+--------------------+-----------------+-----------------+--------------+----------------------+----------------+------------------------+---------------------+-------------------+---------------------+------------------+--------------------+----------------------+-------------------+---------------------+--------------------------+--------------------+--------------------------+-----------------------+------------------------------+------------------------+----------------------+------------------+-------------------+--------------------------+--------------------+--------------------+----------------------+\n",
      "| Platform|   MachineIdentifier|DateOsBuildLab|DateAvSigVersion|DateOSVersion|DateOsBuildLab_lag|OsBuildLab_diff|DateAvSigVersion_lag|AvSigVersion_diff|DateOSVersion_lag|OSVersion_diff|DateOsBuildLab_fulllag|OSBuild_fulldiff|DateAvSigVersion_fulllag|AvSigVersion_fulldiff|max(DateOsBuildLab)|max(DateAvSigVersion)|max(DateOSVersion)|max(OsBuildLab_diff)|max(AvSigVersion_diff)|max(OSVersion_diff)|max(OSBuild_fulldiff)|max(AvSigVersion_fulldiff)|OsBuildLab_difftotal|DateAvSigVersion_difftotal|DateOSVersion_difftotal|DateAvSigVersion_fulldifftotal|OsBuildLab_fulldifftotal|DateAvSigVersion_ratio|  OsBuildLab_ratio|    OSVersion_ratio|DateAvSigVersion_fullratio|OsBuildLab_fullratio|OsBuildLab_dayOfWeek|AvSigVersion_dayOfWeek|\n",
      "+---------+--------------------+--------------+----------------+-------------+------------------+---------------+--------------------+-----------------+-----------------+--------------+----------------------+----------------+------------------------+---------------------+-------------------+---------------------+------------------+--------------------+----------------------+-------------------+---------------------+--------------------------+--------------------+--------------------------+-----------------------+------------------------------+------------------------+----------------------+------------------+-------------------+--------------------------+--------------------+--------------------+----------------------+\n",
      "|windows10|5352cbde2f8d64734...|    2017-03-27|      2017-04-26|   2017-04-11|        2017-03-27|              0|          2017-04-10|               16|       2017-03-30|            12|            2017-03-17|              10|              2017-04-10|                   16|         2018-09-11|           2018-09-25|        2018-09-20|                  73|                    60|                 63|                  113|                        60|                 533|                       517|                    527|                           533|                     552|   0.26666666666666666|               0.0|0.19047619047619047|       0.26666666666666666| 0.08849557522123894|                   1|                     3|\n",
      "|windows10|535df20f7e3ae854a...|    2016-03-28|      2017-05-18|   2016-04-12|        2016-03-28|              0|          2017-05-03|               15|       2016-03-08|            35|            2016-02-23|              34|              2017-05-03|                   15|         2018-09-11|           2018-09-25|        2018-09-20|                  73|                    60|                 63|                  113|                        60|                 897|                       495|                    891|                           510|                     940|                  0.25|               0.0| 0.5555555555555556|                      0.25|  0.3008849557522124|                   1|                     4|\n",
      "|windows10|53480d525d24db6e9...|    2017-07-31|      2017-09-11|   2017-08-08|        2017-07-28|              3|          2017-09-11|                0|       2017-08-08|             0|            2017-07-31|               0|              2017-09-11|                    0|         2018-09-11|           2018-09-25|        2018-09-20|                  73|                    60|                 63|                  113|                        60|                 407|                       379|                    408|                           379|                     416|                   0.0|0.0410958904109589|                0.0|                       0.0|                 0.0|                   1|                     1|\n",
      "+---------+--------------------+--------------+----------------+-------------+------------------+---------------+--------------------+-----------------+-----------------+--------------+----------------------+----------------+------------------------+---------------------+-------------------+---------------------+------------------+--------------------+----------------------+-------------------+---------------------+--------------------------+--------------------+--------------------------+-----------------------+------------------------------+------------------------+----------------------+------------------+-------------------+--------------------------+--------------------+--------------------+----------------------+\n",
      "only showing top 3 rows\n",
      "\n"
     ]
    }
   ],
   "source": [
    "final_dates.filter(col('OsBuildLab_dayOfWeek')==1).show(3)"
   ]
  },
  {
   "cell_type": "code",
   "execution_count": 56,
   "metadata": {},
   "outputs": [],
   "source": [
    "drop_list = ['Platform', 'DateOsBuildLab', 'DateAvSigVersion', 'DateOsBuildLab_lag', 'DateOSVersion',\n",
    "             'DateOSVersion_lag', 'max(DateOSVersion)', 'max(OSVersion_diff)', \n",
    "             'DateAvSigVersion_lag', 'max(DateOsBuildLab)', 'max(DateAvSigVersion)',\n",
    "             'DateOsBuildLab_fulllag', 'DateAvSigVersion_fulllag', 'max(OsBuildLab_diff)',\n",
    "             'max(AvSigVersion_diff)', 'max(OSBuild_fulldiff)', 'max(AvSigVersion_fulldiff)']\n",
    "\n",
    "for c in drop_list:\n",
    "    final_dates = final_dates.drop(c)"
   ]
  },
  {
   "cell_type": "code",
   "execution_count": 57,
   "metadata": {},
   "outputs": [],
   "source": [
    "final_dates_imputed = final_dates.fillna(0)"
   ]
  },
  {
   "cell_type": "code",
   "execution_count": 58,
   "metadata": {
    "scrolled": true
   },
   "outputs": [
    {
     "name": "stdout",
     "output_type": "stream",
     "text": [
      "+--------------------+---------------+-----------------+--------------+----------------+---------------------+--------------------+--------------------------+-----------------------+------------------------------+------------------------+----------------------+------------------+-------------------+--------------------------+--------------------+--------------------+----------------------+\n",
      "|   MachineIdentifier|OsBuildLab_diff|AvSigVersion_diff|OSVersion_diff|OSBuild_fulldiff|AvSigVersion_fulldiff|OsBuildLab_difftotal|DateAvSigVersion_difftotal|DateOSVersion_difftotal|DateAvSigVersion_fulldifftotal|OsBuildLab_fulldifftotal|DateAvSigVersion_ratio|  OsBuildLab_ratio|    OSVersion_ratio|DateAvSigVersion_fullratio|OsBuildLab_fullratio|OsBuildLab_dayOfWeek|AvSigVersion_dayOfWeek|\n",
      "+--------------------+---------------+-----------------+--------------+----------------+---------------------+--------------------+--------------------------+-----------------------+------------------------------+------------------------+----------------------+------------------+-------------------+--------------------------+--------------------+--------------------+----------------------+\n",
      "|5363bedd7963ce3c8...|              0|                0|            16|               3|                    0|                 697|                       858|                    693|                             0|                     709|                   0.0|               0.0|0.25396825396825395|                       0.0| 0.02654867256637168|                   5|                     5|\n",
      "|535d83787918a49eb...|              0|               38|            28|              12|                   38|                 630|                       820|                    618|                           858|                     651|    0.6333333333333333|               0.0| 0.4444444444444444|        0.6333333333333333| 0.10619469026548672|                   2|                     1|\n",
      "|534dcfd0091136f3b...|            105|                0|            54|               0|                   11|                 367|                       809|                    951|                           820|                     403|                   0.0|0.5097087378640777| 0.5934065934065934|      0.033846153846153845|                 0.0|                   4|                     5|\n",
      "|53524488234b61d2d...|              0|               14|            35|               0|                    3|                 837|                       806|                    828|                           809|                     846|   0.23333333333333334|               0.0| 0.5555555555555556|                      0.05|                 0.0|                   5|                     1|\n",
      "|535fc198a964e5dc3...|              0|                9|             8|               0|                    9|                 132|                       797|                     72|                           806|                     141|                  0.15|               0.0|0.12698412698412698|                      0.15|                 0.0|                   3|                     3|\n",
      "|53642865f3ed2f6f3...|              0|                1|            19|              21|                    1|                 466|                       796|                    464|                           797|                     496|  0.016666666666666666|               0.0|0.30158730158730157|      0.016666666666666666| 0.18584070796460178|                   5|                     4|\n",
      "|5363115653644973e...|              0|               60|             4|               0|                   60|                  34|                       736|                      9|                           796|                      43|                   1.0|               0.0|0.06349206349206349|                       1.0|                 0.0|                   3|                     1|\n",
      "|536516de6ff06fb88...|              0|               16|            15|               0|                   16|                 363|                       720|                    345|                           736|                     372|   0.26666666666666666|               0.0|0.23809523809523808|       0.26666666666666666|                 0.0|                   3|                     3|\n",
      "|535f23d328f158459...|              0|               16|            12|               0|                   16|                 348|                       704|                    282|                           720|                     357|   0.26666666666666666|               0.0|0.19047619047619047|       0.26666666666666666|                 0.0|                   4|                     5|\n",
      "|534687be21939e73d...|             12|                3|             0|               0|                    3|                 286|                       701|                    282|                           704|                     295|                  0.05|0.1643835616438356|                0.0|                      0.05|                 0.0|                   3|                     1|\n",
      "|5351df98c934ce0fd...|              0|               12|             0|               0|                   12|                 132|                       689|                     72|                           701|                     141|                   0.2|               0.0|                0.0|                       0.2|                 0.0|                   3|                     6|\n",
      "|5368e83e6c5bfc327...|              0|               25|            12|               0|                   25|                 678|                       664|                    681|                           689|                     687|    0.4166666666666667|               0.0|0.19047619047619047|        0.4166666666666667|                 0.0|                   3|                     3|\n",
      "|5364f30ee60970182...|              0|               12|             0|               0|                   12|                 466|                       652|                    464|                           664|                     475|                   0.2|               0.0|                0.0|                       0.2|                 0.0|                   5|                     1|\n",
      "|5365aac77f6990f8e...|              0|               17|             0|               0|                   17|                 466|                       635|                    464|                           652|                     475|    0.2833333333333333|               0.0|                0.0|        0.2833333333333333|                 0.0|                   5|                     4|\n",
      "|53697505802762b6a...|              0|                6|             4|              28|                    6|                 642|                       629|                    646|                           635|                     679|                   0.1|               0.0|0.06349206349206349|                       0.1| 0.24778761061946902|                   4|                     3|\n",
      "|5361758786669c2e3...|              0|               21|            22|               0|                   21|                 543|                       608|                    260|                           629|                     552|                  0.35|               0.0| 0.3492063492063492|                      0.35|                 0.0|                   5|                     3|\n",
      "|53534ee80c77760f7...|              0|                5|            15|               0|                    5|                 348|                       603|                    135|                           608|                     357|   0.08333333333333333|               0.0|0.23809523809523808|       0.08333333333333333|                 0.0|                   4|                     1|\n",
      "|535cca5457019a127...|              0|                8|             0|               0|                    8|                 630|                       595|                    618|                           603|                     639|   0.13333333333333333|               0.0|                0.0|       0.13333333333333333|                 0.0|                   2|                     2|\n",
      "|534c322e05a7b5412...|              0|               14|            14|              34|                   14|                 432|                       581|                    436|                           595|                     475|   0.23333333333333334|               0.0| 0.2222222222222222|       0.23333333333333334|  0.3008849557522124|                   4|                     2|\n",
      "|534f869ffc156bd5e...|              0|                0|             8|               0|                    1|                 543|                       580|                    539|                           581|                     552|                   0.0|               0.0|0.12698412698412698|      0.016666666666666666|                 0.0|                   5|                     3|\n",
      "+--------------------+---------------+-----------------+--------------+----------------+---------------------+--------------------+--------------------------+-----------------------+------------------------------+------------------------+----------------------+------------------+-------------------+--------------------------+--------------------+--------------------+----------------------+\n",
      "only showing top 20 rows\n",
      "\n"
     ]
    }
   ],
   "source": [
    "final_dates_imputed.show()"
   ]
  },
  {
   "cell_type": "code",
   "execution_count": null,
   "metadata": {},
   "outputs": [],
   "source": []
  }
 ],
 "metadata": {
  "kernelspec": {
   "display_name": "Python 3",
   "language": "python",
   "name": "python3"
  },
  "language_info": {
   "codemirror_mode": {
    "name": "ipython",
    "version": 3
   },
   "file_extension": ".py",
   "mimetype": "text/x-python",
   "name": "python",
   "nbconvert_exporter": "python",
   "pygments_lexer": "ipython3",
   "version": "3.6.7"
  }
 },
 "nbformat": 4,
 "nbformat_minor": 2
}
