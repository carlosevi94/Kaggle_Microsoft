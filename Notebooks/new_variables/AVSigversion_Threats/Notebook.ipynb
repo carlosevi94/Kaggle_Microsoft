{
 "cells": [
  {
   "cell_type": "code",
   "execution_count": 1,
   "metadata": {},
   "outputs": [],
   "source": [
    "from pyspark.sql import SparkSession\n",
    "from pyspark.sql.functions import *\n",
    "from pyspark.sql.window import Window\n",
    "from pyspark import SparkConf\n",
    "from pyspark import SparkContext\n",
    "from pyspark.sql.types import (StructType, StructField, StringType,\n",
    "                               DoubleType, IntegerType, LongType)\n"
   ]
  },
  {
   "cell_type": "code",
   "execution_count": 3,
   "metadata": {},
   "outputs": [],
   "source": [
    "spark = SparkSession.builder.appName(\"avsig_new_vars\").getOrCreate()"
   ]
  },
  {
   "cell_type": "code",
   "execution_count": 4,
   "metadata": {},
   "outputs": [],
   "source": [
    "df = spark.read.csv(\"AvSigversion_Threats.csv\",inferSchema=True,header=True)"
   ]
  },
  {
   "cell_type": "code",
   "execution_count": 5,
   "metadata": {},
   "outputs": [
    {
     "name": "stdout",
     "output_type": "stream",
     "text": [
      "+-----+--------------------+----------+------------+------------+\n",
      "|index|                Name|AlertLevel|AvSigVersion|        Type|\n",
      "+-----+--------------------+----------+------------+------------+\n",
      "|    0|Backdoor:MSIL/Bla...|    severe| 1.155.266.0|AddedThreats|\n",
      "|    1|Backdoor:Win32/Fa...|    severe| 1.155.266.0|AddedThreats|\n",
      "|    2|Backdoor:Win32/Ne...|    severe| 1.155.266.0|AddedThreats|\n",
      "|    3|    PWS:Win32/Fareit|    severe| 1.155.266.0|AddedThreats|\n",
      "|    4|Trojan:Win32/Ceat...|    severe| 1.155.266.0|AddedThreats|\n",
      "|    5| Trojan:Win32/Comame|    severe| 1.155.266.0|AddedThreats|\n",
      "|    6|Trojan:Win32/Core...|    severe| 1.155.266.0|AddedThreats|\n",
      "|    7|Trojan:Win32/EyeS...|    severe| 1.155.266.0|AddedThreats|\n",
      "|    8|Trojan:Win32/Lokt...|    severe| 1.155.266.0|AddedThreats|\n",
      "|    9|Trojan:Win32/Medf...|    severe| 1.155.266.0|AddedThreats|\n",
      "|   10|  Trojan:Win32/Otran|    severe| 1.155.266.0|AddedThreats|\n",
      "|   11|Trojan:Win32/Redy...|    severe| 1.155.266.0|AddedThreats|\n",
      "|   12|Trojan:Win32/Sisproc|    severe| 1.155.266.0|AddedThreats|\n",
      "|   13| Trojan:Win32/Sisron|    severe| 1.155.266.0|AddedThreats|\n",
      "|   14|Trojan:Win32/Zeeb...|    severe| 1.155.266.0|AddedThreats|\n",
      "|   15|Trojan:Win32/Zipp...|    severe| 1.155.266.0|AddedThreats|\n",
      "|   16|TrojanDownloader:...|    severe| 1.155.266.0|AddedThreats|\n",
      "|   17|TrojanDropper:Win...|    severe| 1.155.266.0|AddedThreats|\n",
      "|   18|TrojanDropper:Win...|    severe| 1.155.266.0|AddedThreats|\n",
      "|   19|Worm:Win32/Dorkbot.A|    severe| 1.155.266.0|AddedThreats|\n",
      "+-----+--------------------+----------+------------+------------+\n",
      "only showing top 20 rows\n",
      "\n"
     ]
    }
   ],
   "source": [
    "df.show()"
   ]
  },
  {
   "cell_type": "code",
   "execution_count": 12,
   "metadata": {},
   "outputs": [],
   "source": [
    "df = df.withColumnRenamed('Name','AvSigVersion_Name')\\\n",
    "        .withColumnRenamed('AlertLevel','AvSigVersion_AlertLevel')\\\n",
    "        .withColumnRenamed('Type','AvSigVersion_Type')\n",
    "df = df.drop('index')"
   ]
  },
  {
   "cell_type": "code",
   "execution_count": 13,
   "metadata": {},
   "outputs": [
    {
     "name": "stdout",
     "output_type": "stream",
     "text": [
      "+-------+----------------------------+-----------------------+------------+-----------------+\n",
      "|summary|AvSigVersion_Name           |AvSigVersion_AlertLevel|AvSigVersion|AvSigVersion_Type|\n",
      "+-------+----------------------------+-----------------------+------------+-----------------+\n",
      "|count  |1010337                     |1010337                |1010337     |1010337          |\n",
      "|mean   |null                        |null                   |null        |null             |\n",
      "|stddev |null                        |null                   |null        |null             |\n",
      "|min    |Adware:AndroidOS/Hiddad     |high                   |1.155.266.0 |AddedThreats     |\n",
      "|25%    |null                        |null                   |null        |null             |\n",
      "|50%    |null                        |null                   |null        |null             |\n",
      "|75%    |null                        |null                   |null        |null             |\n",
      "|max    |Worm:iPhoneOS/Vigorf.A!plock|severe                 |1.281.98.0  |UpdatedThreats   |\n",
      "+-------+----------------------------+-----------------------+------------+-----------------+\n",
      "\n"
     ]
    }
   ],
   "source": [
    "df.summary().show(truncate=False)"
   ]
  },
  {
   "cell_type": "code",
   "execution_count": null,
   "metadata": {},
   "outputs": [],
   "source": []
  },
  {
   "cell_type": "code",
   "execution_count": 16,
   "metadata": {},
   "outputs": [],
   "source": [
    "data_train = spark.read.csv('../../../data/df_cat_prepro_0/*.csv', header=True, inferSchema=True).select('MachineIdentifier','AvSigVersion')"
   ]
  },
  {
   "cell_type": "code",
   "execution_count": 17,
   "metadata": {},
   "outputs": [],
   "source": [
    "train_new = data_train.join(df,'AvSigVersion','left')\n"
   ]
  },
  {
   "cell_type": "code",
   "execution_count": 20,
   "metadata": {},
   "outputs": [
    {
     "data": {
      "text/plain": [
       "41063"
      ]
     },
     "execution_count": 20,
     "metadata": {},
     "output_type": "execute_result"
    }
   ],
   "source": [
    "train_new.select('AvSigVersion_Name').distinct().count()"
   ]
  },
  {
   "cell_type": "code",
   "execution_count": 21,
   "metadata": {},
   "outputs": [
    {
     "data": {
      "text/plain": [
       "5"
      ]
     },
     "execution_count": 21,
     "metadata": {},
     "output_type": "execute_result"
    }
   ],
   "source": [
    "train_new.select('AvSigVersion_AlertLevel').distinct().count()"
   ]
  },
  {
   "cell_type": "code",
   "execution_count": 25,
   "metadata": {},
   "outputs": [
    {
     "name": "stdout",
     "output_type": "stream",
     "text": [
      "+-----------------------+----------+\n",
      "|AvSigVersion_AlertLevel|count     |\n",
      "+-----------------------+----------+\n",
      "|moderate               |3271397   |\n",
      "|null                   |6292268   |\n",
      "|low                    |1559      |\n",
      "|severe                 |1172040768|\n",
      "|high                   |80880523  |\n",
      "+-----------------------+----------+\n",
      "\n"
     ]
    }
   ],
   "source": [
    "train_new.groupby('AvSigVersion_AlertLevel').count().show(truncate=False)"
   ]
  },
  {
   "cell_type": "code",
   "execution_count": 22,
   "metadata": {},
   "outputs": [
    {
     "data": {
      "text/plain": [
       "3"
      ]
     },
     "execution_count": 22,
     "metadata": {},
     "output_type": "execute_result"
    }
   ],
   "source": [
    "train_new.select('AvSigVersion_Type').distinct().count()"
   ]
  },
  {
   "cell_type": "code",
   "execution_count": 26,
   "metadata": {
    "scrolled": true
   },
   "outputs": [
    {
     "name": "stdout",
     "output_type": "stream",
     "text": [
      "+-----------------+----------+\n",
      "|AvSigVersion_Type|count     |\n",
      "+-----------------+----------+\n",
      "|UpdatedThreats   |1175403292|\n",
      "|null             |6292268   |\n",
      "|AddedThreats     |80790955  |\n",
      "+-----------------+----------+\n",
      "\n"
     ]
    }
   ],
   "source": [
    "train_new.groupby('AvSigVersion_Type').count().show(truncate=False)"
   ]
  },
  {
   "cell_type": "code",
   "execution_count": 29,
   "metadata": {},
   "outputs": [],
   "source": [
    "from pyspark.ml import Pipeline\n",
    "from pyspark.ml.feature import StringIndexer\n"
   ]
  },
  {
   "cell_type": "code",
   "execution_count": 30,
   "metadata": {},
   "outputs": [],
   "source": [
    "cols_label_encoder = ['AvSigVersion_AlertLevel','AvSigVersion_Type']\n",
    "indexers = [StringIndexer(inputCol=c, outputCol=c+\"_index\", handleInvalid=\"keep\").fit(train_new) for c in cols_label_encoder]\n",
    "pipeline = Pipeline(stages=indexers)\n",
    "train_new = pipeline.fit(train_new).transform(train_new)"
   ]
  },
  {
   "cell_type": "code",
   "execution_count": 32,
   "metadata": {},
   "outputs": [
    {
     "data": {
      "text/plain": [
       "DataFrame[AvSigVersion: string, MachineIdentifier: string, AvSigVersion_Name: string, AvSigVersion_AlertLevel: string, AvSigVersion_Type: string, AvSigVersion_AlertLevel_index: double, AvSigVersion_Type_index: double]"
      ]
     },
     "execution_count": 32,
     "metadata": {},
     "output_type": "execute_result"
    }
   ],
   "source": [
    "train_new.persist()"
   ]
  },
  {
   "cell_type": "code",
   "execution_count": 37,
   "metadata": {},
   "outputs": [
    {
     "data": {
      "text/plain": [
       "['AvSigVersion',\n",
       " 'MachineIdentifier',\n",
       " 'AvSigVersion_Name',\n",
       " 'AvSigVersion_AlertLevel',\n",
       " 'AvSigVersion_Type',\n",
       " 'AvSigVersion_AlertLevel_index',\n",
       " 'AvSigVersion_Type_index']"
      ]
     },
     "execution_count": 37,
     "metadata": {},
     "output_type": "execute_result"
    }
   ],
   "source": [
    "train_new.columns"
   ]
  },
  {
   "cell_type": "code",
   "execution_count": null,
   "metadata": {},
   "outputs": [],
   "source": []
  },
  {
   "cell_type": "code",
   "execution_count": null,
   "metadata": {},
   "outputs": [],
   "source": []
  },
  {
   "cell_type": "code",
   "execution_count": null,
   "metadata": {},
   "outputs": [],
   "source": []
  },
  {
   "cell_type": "code",
   "execution_count": 40,
   "metadata": {},
   "outputs": [
    {
     "name": "stdout",
     "output_type": "stream",
     "text": [
      "+-----------------------------------+\n",
      "|AvSigVersion_Name                  |\n",
      "+-----------------------------------+\n",
      "|Adware:Win32/BetterSurf            |\n",
      "|Adware:Win32/BetterSurf!rfn        |\n",
      "|Adware:Win32/Lollipop              |\n",
      "|Adware:Win32/Pirrit                |\n",
      "|BrowserModifier:Win32/Webalta!rfn  |\n",
      "|SoftwareBundler:Win32/Softpulse!rfn|\n",
      "|HackTool:MSIL/Boilod.B             |\n",
      "|HackTool:MSIL/Noancooe.A           |\n",
      "|HackTool:Win32/AutoKMS             |\n",
      "|HackTool:Win32/Cain                |\n",
      "|HackTool:Win32/KeeFarce            |\n",
      "|HackTool:Win32/PasswordFox         |\n",
      "|Joke:VBS/CdEject.C                 |\n",
      "|Backdoor:Java/ReverseBackdoor!rfn  |\n",
      "|Backdoor:MSIL/Bladabindi.AA        |\n",
      "|Backdoor:MSIL/Bladabindi.G         |\n",
      "|Backdoor:MSIL/Hamaetot!rfn         |\n",
      "|Backdoor:MSIL/Hamaetot.A           |\n",
      "|Backdoor:MSIL/Sylavriu!rfn         |\n",
      "|Backdoor:Win32/Advo!rfn            |\n",
      "+-----------------------------------+\n",
      "only showing top 20 rows\n",
      "\n"
     ]
    }
   ],
   "source": [
    "train_new.select('AvSigVersion_Name').show(truncate=False)"
   ]
  },
  {
   "cell_type": "code",
   "execution_count": 51,
   "metadata": {},
   "outputs": [],
   "source": [
    "train_new = train_new.withColumn('AvSigVersion_Name_1', split(train_new['AvSigVersion_Name'], ':')[0])\\\n",
    "            .withColumn('AvSigVersion_Name_2', split(train_new['AvSigVersion_Name'], '/')[0])\n",
    "\n"
   ]
  },
  {
   "cell_type": "code",
   "execution_count": 48,
   "metadata": {},
   "outputs": [
    {
     "data": {
      "text/plain": [
       "568"
      ]
     },
     "execution_count": 48,
     "metadata": {},
     "output_type": "execute_result"
    }
   ],
   "source": [
    "train_new.withColumn('AvSigVersion_Name_0', split(train_new['AvSigVersion_Name'], '/')[0])\\\n",
    "            .select('AvSigVersion_Name_0')\\\n",
    "            .distinct().count()\n"
   ]
  },
  {
   "cell_type": "code",
   "execution_count": 49,
   "metadata": {},
   "outputs": [
    {
     "name": "stdout",
     "output_type": "stream",
     "text": [
      "+--------------------+\n",
      "| AvSigVersion_Name_0|\n",
      "+--------------------+\n",
      "|        Adware:Win32|\n",
      "|        Adware:Win32|\n",
      "|        Adware:Win32|\n",
      "|        Adware:Win32|\n",
      "|BrowserModifier:W...|\n",
      "|SoftwareBundler:W...|\n",
      "|       HackTool:MSIL|\n",
      "|       HackTool:MSIL|\n",
      "|      HackTool:Win32|\n",
      "|      HackTool:Win32|\n",
      "|      HackTool:Win32|\n",
      "|      HackTool:Win32|\n",
      "|            Joke:VBS|\n",
      "|       Backdoor:Java|\n",
      "|       Backdoor:MSIL|\n",
      "|       Backdoor:MSIL|\n",
      "|       Backdoor:MSIL|\n",
      "|       Backdoor:MSIL|\n",
      "|       Backdoor:MSIL|\n",
      "|      Backdoor:Win32|\n",
      "+--------------------+\n",
      "only showing top 20 rows\n",
      "\n"
     ]
    }
   ],
   "source": [
    "train_new.withColumn('AvSigVersion_Name_0', split(train_new['AvSigVersion_Name'], '/')[0])\\\n",
    "            .select('AvSigVersion_Name_0')\\\n",
    "            .show()\n"
   ]
  }
 ],
 "metadata": {
  "kernelspec": {
   "display_name": "Python 3",
   "language": "python",
   "name": "python3"
  },
  "language_info": {
   "codemirror_mode": {
    "name": "ipython",
    "version": 3
   },
   "file_extension": ".py",
   "mimetype": "text/x-python",
   "name": "python",
   "nbconvert_exporter": "python",
   "pygments_lexer": "ipython3",
   "version": "3.6.7"
  }
 },
 "nbformat": 4,
 "nbformat_minor": 2
}
