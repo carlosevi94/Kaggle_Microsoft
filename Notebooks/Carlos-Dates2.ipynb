{
 "cells": [
  {
   "cell_type": "code",
   "execution_count": 56,
   "metadata": {},
   "outputs": [],
   "source": [
    "from pyspark.sql import SparkSession\n",
    "from pyspark.ml.feature import StringIndexer\n",
    "from pyspark.sql.types import (StructType, StructField, StringType,\n",
    "                               DoubleType, IntegerType, LongType,DateType)\n",
    "from pyspark.sql.functions import *\n",
    "from pyspark.sql.window import Window\n",
    "from pyspark import SparkConf\n",
    "from pyspark import SparkContext\n",
    "import multiprocessing\n",
    "\n"
   ]
  },
  {
   "cell_type": "code",
   "execution_count": 2,
   "metadata": {},
   "outputs": [],
   "source": [
    "spark = SparkSession.builder.appName(\"Microsoft_Kaggle\").getOrCreate()\n"
   ]
  },
  {
   "cell_type": "code",
   "execution_count": null,
   "metadata": {},
   "outputs": [],
   "source": []
  },
  {
   "cell_type": "code",
   "execution_count": 5,
   "metadata": {},
   "outputs": [],
   "source": [
    "data = spark.read.csv(\"../data/train.csv\",inferSchema=True,header=True)"
   ]
  },
  {
   "cell_type": "code",
   "execution_count": 6,
   "metadata": {},
   "outputs": [
    {
     "name": "stdout",
     "output_type": "stream",
     "text": [
      "+--------------------+------------+-------------+---------------+------------+------+----------------+----------------+-------------------------+-------------------------+-------------------+-----------------+------+-----------------+--------------+----------------------+-----------------+---------------------------+---------+---------+--------+-------+-------+--------------------+--------------------+----------+-----------+---------------+-------+-----+---------------+------------+--------+------------+---------------------+-------------------+------------------------+-------------------------+-------------------------+--------------------------------------+-------------------------------+---------------------+-------------------------------+--------------------------+--------------------------------+--------------------------+-----------------------+----------------------+-------------------------------------------------+-------------------------------------------------+-----------------------------------------------+----------------------------+--------------------------+-------------------------------------+----------------+---------------------+--------------------+--------------------+----------------------+------------------+-------------------+------------------------+----------------------------------+---------------------------+--------------------------------+--------------------------------+-----------------------+------------------------+--------------------------+------------------------+-----------------+---------------------+-------------------------------------+--------------------------------+--------------------------+-----------------------+----------------------+---------------------+-------------------+---------------------------------------+------------+---------------------+-------------+\n",
      "|   MachineIdentifier| ProductName|EngineVersion|     AppVersion|AvSigVersion|IsBeta|RtpStateBitfield|IsSxsPassiveMode|DefaultBrowsersIdentifier|AVProductStatesIdentifier|AVProductsInstalled|AVProductsEnabled|HasTpm|CountryIdentifier|CityIdentifier|OrganizationIdentifier|GeoNameIdentifier|LocaleEnglishNameIdentifier| Platform|Processor|   OsVer|OsBuild|OsSuite|OsPlatformSubRelease|          OsBuildLab|SkuEdition|IsProtected|AutoSampleOptIn|PuaMode|SMode|IeVerIdentifier| SmartScreen|Firewall|UacLuaenable|Census_MDC2FormFactor|Census_DeviceFamily|Census_OEMNameIdentifier|Census_OEMModelIdentifier|Census_ProcessorCoreCount|Census_ProcessorManufacturerIdentifier|Census_ProcessorModelIdentifier|Census_ProcessorClass|Census_PrimaryDiskTotalCapacity|Census_PrimaryDiskTypeName|Census_SystemVolumeTotalCapacity|Census_HasOpticalDiskDrive|Census_TotalPhysicalRAM|Census_ChassisTypeName|Census_InternalPrimaryDiagonalDisplaySizeInInches|Census_InternalPrimaryDisplayResolutionHorizontal|Census_InternalPrimaryDisplayResolutionVertical|Census_PowerPlatformRoleName|Census_InternalBatteryType|Census_InternalBatteryNumberOfCharges|Census_OSVersion|Census_OSArchitecture|     Census_OSBranch|Census_OSBuildNumber|Census_OSBuildRevision|  Census_OSEdition|   Census_OSSkuName|Census_OSInstallTypeName|Census_OSInstallLanguageIdentifier|Census_OSUILocaleIdentifier|Census_OSWUAutoUpdateOptionsName|Census_IsPortableOperatingSystem|Census_GenuineStateName|Census_ActivationChannel|Census_IsFlightingInternal|Census_IsFlightsDisabled|Census_FlightRing|Census_ThresholdOptIn|Census_FirmwareManufacturerIdentifier|Census_FirmwareVersionIdentifier|Census_IsSecureBootEnabled|Census_IsWIMBootEnabled|Census_IsVirtualDevice|Census_IsTouchEnabled|Census_IsPenCapable|Census_IsAlwaysOnAlwaysConnectedCapable|Wdft_IsGamer|Wdft_RegionIdentifier|HasDetections|\n",
      "+--------------------+------------+-------------+---------------+------------+------+----------------+----------------+-------------------------+-------------------------+-------------------+-----------------+------+-----------------+--------------+----------------------+-----------------+---------------------------+---------+---------+--------+-------+-------+--------------------+--------------------+----------+-----------+---------------+-------+-----+---------------+------------+--------+------------+---------------------+-------------------+------------------------+-------------------------+-------------------------+--------------------------------------+-------------------------------+---------------------+-------------------------------+--------------------------+--------------------------------+--------------------------+-----------------------+----------------------+-------------------------------------------------+-------------------------------------------------+-----------------------------------------------+----------------------------+--------------------------+-------------------------------------+----------------+---------------------+--------------------+--------------------+----------------------+------------------+-------------------+------------------------+----------------------------------+---------------------------+--------------------------------+--------------------------------+-----------------------+------------------------+--------------------------+------------------------+-----------------+---------------------+-------------------------------------+--------------------------------+--------------------------+-----------------------+----------------------+---------------------+-------------------+---------------------------------------+------------+---------------------+-------------+\n",
      "|0000028988387b115...|win8defender|  1.1.15100.1|4.18.1807.18075|1.273.1735.0|     0|               7|               0|                     null|                    53447|                  1|                1|     1|               29|        128035|                    18|               35|                        171|windows10|      x64|10.0.0.0|  17134|    256|                 rs4|17134.1.amd64fre....|       Pro|          1|              0|   null|    0|            137|        null|       1|           1|              Desktop|    Windows.Desktop|                    2668|                     9124|                        4|                                     5|                           2341|                 null|                         476940|                       HDD|                          299451|                         0|                   4096|               Desktop|                                             18.9|                                             1440|                                            900|                     Desktop|                      null|                           4294967295|  10.0.17134.165|                amd64|         rs4_release|               17134|                   165|      Professional|       PROFESSIONAL|              UUPUpgrade|                                26|                        119|                         UNKNOWN|                               0|             IS_GENUINE|                  Retail|                      null|                       0|           Retail|                 null|                                  628|                           36144|                         0|                   null|                     0|                    0|                  0|                                      0|           0|                   10|            0|\n",
      "|000007535c3f730ef...|win8defender|  1.1.14600.4|   4.13.17134.1|  1.263.48.0|     0|               7|               0|                     null|                    53447|                  1|                1|     1|               93|          1482|                    18|              119|                         64|windows10|      x64|10.0.0.0|  17134|    256|                 rs4|17134.1.amd64fre....|       Pro|          1|              0|   null|    0|            137|        null|       1|           1|             Notebook|    Windows.Desktop|                    2668|                    91656|                        4|                                     5|                           2405|                 null|                         476940|                       HDD|                          102385|                         0|                   4096|              Notebook|                                             13.9|                                             1366|                                            768|                      Mobile|                      null|                                    1|    10.0.17134.1|                amd64|         rs4_release|               17134|                     1|      Professional|       PROFESSIONAL|                IBSClean|                                 8|                         31|                         UNKNOWN|                               0|                OFFLINE|                  Retail|                      null|                       0|          NOT_SET|                 null|                                  628|                           57858|                         0|                   null|                     0|                    0|                  0|                                      0|           0|                    8|            0|\n",
      "|000007905a28d863f...|win8defender|  1.1.15100.1|4.18.1807.18075|1.273.1341.0|     0|               7|               0|                     null|                    53447|                  1|                1|     1|               86|        153579|                    18|               64|                         49|windows10|      x64|10.0.0.0|  17134|    768|                 rs4|17134.1.amd64fre....|      Home|          1|              0|   null|    0|            137|RequireAdmin|       1|           1|              Desktop|    Windows.Desktop|                    4909|                   317701|                        4|                                     5|                           1972|                 null|                         114473|                       SSD|                          113907|                         0|                   4096|               Desktop|                                             21.5|                                             1920|                                           1080|                     Desktop|                      null|                           4294967295|  10.0.17134.165|                amd64|         rs4_release|               17134|                   165|              Core|               CORE|              UUPUpgrade|                                 7|                         30|                        FullAuto|                               0|             IS_GENUINE|              OEM:NONSLP|                      null|                       0|           Retail|                 null|                                  142|                           52682|                         0|                   null|                     0|                    0|                  0|                                      0|           0|                    3|            0|\n",
      "|00000b11598a75ea8...|win8defender|  1.1.15100.1|4.18.1807.18075|1.273.1527.0|     0|               7|               0|                     null|                    53447|                  1|                1|     1|               88|         20710|                  null|              117|                        115|windows10|      x64|10.0.0.0|  17134|    256|                 rs4|17134.1.amd64fre....|       Pro|          1|              0|   null|    0|            137|ExistsNotSet|       1|           1|              Desktop|    Windows.Desktop|                    1443|                   275890|                        4|                                     5|                           2273|                 null|                         238475|                   UNKNOWN|                          227116|                         0|                   4096|             MiniTower|                                             18.5|                                             1366|                                            768|                     Desktop|                      null|                           4294967295|  10.0.17134.228|                amd64|         rs4_release|               17134|                   228|      Professional|       PROFESSIONAL|              UUPUpgrade|                                17|                         64|                        FullAuto|                               0|             IS_GENUINE|              OEM:NONSLP|                      null|                       0|           Retail|                 null|                                  355|                           20050|                         0|                   null|                     0|                    0|                  0|                                      0|           0|                    3|            1|\n",
      "|000014a5f00daa18e...|win8defender|  1.1.15100.1|4.18.1807.18075|1.273.1379.0|     0|               7|               0|                     null|                    53447|                  1|                1|     1|               18|         37376|                  null|              277|                         75|windows10|      x64|10.0.0.0|  17134|    768|                 rs4|17134.1.amd64fre....|      Home|          1|              0|   null|    0|            137|RequireAdmin|       1|           1|             Notebook|    Windows.Desktop|                    1443|                   331929|                        4|                                     5|                           2500|                 null|                         476940|                       HDD|                          101900|                         0|                   6144|              Portable|                                             14.0|                                             1366|                                            768|                      Mobile|                      lion|                                    0|  10.0.17134.191|                amd64|         rs4_release|               17134|                   191|              Core|               CORE|                  Update|                                 8|                         31|                        FullAuto|                               0|             IS_GENUINE|                  Retail|                         0|                       0|           Retail|                    0|                                  355|                           19844|                         0|                      0|                     0|                    0|                  0|                                      0|           0|                    1|            1|\n",
      "|000016191b897145d...|win8defender|  1.1.15100.1|4.18.1807.18075|1.273.1094.0|     0|               7|               0|                     null|                    53447|                  1|                1|     1|               97|         13598|                    27|              126|                        124|windows10|      x64|10.0.0.0|  17134|    256|                 rs4|17134.1.amd64fre....|       Pro|          1|              0|   null|    0|            137|RequireAdmin|       1|           1|              Desktop|    Windows.Desktop|                    3799|                   340727|                        2|                                     5|                           4324|                 null|                         114473|                       SSD|                          113671|                         0|                   8192|               Desktop|                                             21.5|                                             1920|                                           1080|                     Desktop|                      null|                           4294967295|  10.0.17134.165|                amd64|         rs4_release|               17134|                   165|      Professional|       PROFESSIONAL|              UUPUpgrade|                                18|                         72|                        FullAuto|                               0|             IS_GENUINE|                  Retail|                         0|                       0|           Retail|                    0|                                   93|                           51039|                         0|                      0|                     0|                    0|                  0|                                      0|           0|                   15|            1|\n",
      "|0000161e8abf8d8b8...|win8defender|  1.1.15100.1|4.18.1807.18075| 1.273.845.0|     0|               7|               0|                     null|                    43927|                  2|                1|     1|               78|         81215|                  null|               89|                         88|windows10|      x64|10.0.0.0|  17134|    768|                 rs4|17134.1.amd64fre....|      Home|          1|              0|   null|    0|            137|        null|       1|           1|             Notebook|    Windows.Desktop|                    3799|                   207404|                        2|                                     1|                            657|                 null|                         476940|                       HDD|                          458702|                         0|                   4096|              Notebook|                                             17.2|                                             1600|                                            900|                      Mobile|                      null|                                    0|  10.0.17134.165|                amd64|         rs4_release|               17134|                   165|              Core|               CORE|                IBSClean|                                14|                         49|                        FullAuto|                               0|             IS_GENUINE|                  Retail|                      null|                       0|           Retail|                 null|                                  556|                           63175|                         1|                   null|                     0|                    0|                  0|                                      0|           0|                   10|            1|\n",
      "|000019515bc8f9585...|win8defender|  1.1.15100.1|4.18.1807.18075|1.273.1393.0|     0|               7|               0|                     null|                    53447|                  1|                1|     1|               97|        150323|                    27|              126|                        124|windows10|      x64|10.0.0.0|  14393|    768|                 rs1|14393.0.amd64fre....|      Home|          1|              0|   null|    0|             94|RequireAdmin|       1|           1|             Notebook|    Windows.Desktop|                    5682|                   338896|                        2|                                     5|                           3381|                 null|                         305245|                       HDD|                          290807|                         1|                   4096|              Notebook|                                             15.5|                                             1366|                                            768|                      Mobile|                      lion|                                    0|    10.0.14393.0|                amd64|         rs1_release|               14393|                     0|              Core|               CORE|                 Upgrade|                                18|                         72|                        FullAuto|                               0|             IS_GENUINE|                  Retail|                         0|                       0|           Retail|                    0|                                  512|                           63122|                         0|                      0|                     0|                    0|                  0|                                      0|           0|                   15|            0|\n",
      "|00001a027a0ab970c...|win8defender|  1.1.15200.1|4.18.1807.18075| 1.275.988.0|     0|               7|               0|                     null|                    53447|                  1|                1|     1|              164|        155006|                    27|              205|                        172|windows10|      x64|10.0.0.0|  17134|    256|                 rs4|17134.1.amd64fre....|       Pro|          1|              0|   null|    0|            137|RequireAdmin|       1|           1|             Notebook|    Windows.Desktop|                    2206|                   240688|                        4|                                     5|                           2836|                 null|                         305245|                       HDD|                          303892|                         0|                   4096|              Notebook|                                             15.6|                                             1920|                                           1080|                      Mobile|                      lion|                                    0|  10.0.17134.254|                amd64|         rs4_release|               17134|                   254|      Professional|       PROFESSIONAL|                  Update|                                27|                        120|                        FullAuto|                               0|             IS_GENUINE|                  Retail|                      null|                       0|           Retail|                    0|                                  500|                           15510|                         0|                      0|                     0|                    0|                  0|                                      0|           0|                   15|            0|\n",
      "|00001a18d69bb60bd...|win8defender|  1.1.15100.1|4.18.1807.18075| 1.273.973.0|     0|               7|               0|                     null|                    46413|                  2|                1|     1|               93|         98572|                    27|              119|                         64|windows10|      x64|10.0.0.0|  16299|    768|                 rs3|16299.431.amd64fr...|      Home|          1|              0|   null|    0|           null|RequireAdmin|       1|           1|             Notebook|    Windows.Desktop|                     585|                   189457|                        4|                                     5|                           2373|                 null|                         953869|                       HDD|                          203252|                         1|                   8192|              Notebook|                                             15.5|                                             1366|                                            768|                      Mobile|                      lion|                                    0|  10.0.16299.431|                amd64|rs3_release_svc_e...|               16299|                   431|CoreSingleLanguage|CORE_SINGLELANGUAGE|                 Upgrade|                                 8|                         31|                         UNKNOWN|                               0|             IS_GENUINE|                  OEM:DM|                      null|                       0|           Retail|                    0|                                  556|                           63555|                         1|                      0|                     0|                    0|                  0|                                      0|           1|                    8|            1|\n",
      "|00001b3b3cf8c8c07...|win8defender|  1.1.15100.1|4.18.1807.18075| 1.273.869.0|     0|               7|               0|                     null|                    53447|                  1|                1|     1|              107|        133897|                    46|              138|                        134|windows10|    arm64|10.0.0.0|  17134|    256|                 rs4|17134.1.arm64fre....|       Pro|          1|              0|   null|    0|            137|        null|       1|           1|           Detachable|    Windows.Desktop|                    4143|                   227191|                        8|                                    10|                           4425|                 null|                         121676|                       SSD|                          120786|                         0|                   4096|            Detachable|                                             11.9|                                             2160|                                           1440|                       Slate|                      null|                                   18|  10.0.17134.167|                arm64|         rs4_release|               17134|                   167|              Core|               CORE|                   Other|                                 8|                         31|                        FullAuto|                               0|             IS_GENUINE|                  Retail|                      null|                       0|           Retail|                 null|                                  845|                           50922|                         0|                   null|                     0|                    1|                  1|                                      1|           0|                    1|            0|\n",
      "|00001b924fcc69223...|win8defender|  1.1.15100.1|4.18.1807.18075|1.273.1826.0|     0|               7|               0|                     null|                    47238|                  2|                1|     1|              164|        120983|                    27|              205|                        172|windows10|      x64|10.0.0.0|  17134|    768|                 rs4|17134.1.amd64fre....|      Home|          1|              0|   null|    0|            137|        null|       1|           1|             Notebook|    Windows.Desktop|                    2668|                   172079|                        2|                                     5|                           2097|                 null|                         122104|                       SSD|                          120827|                         0|                   4096|              Notebook|                                             13.9|                                             1366|                                            768|                      Mobile|                      null|                                    7|  10.0.17134.228|                amd64|         rs4_release|               17134|                   228|              Core|               CORE|                 Upgrade|                                27|                        120|                        FullAuto|                               0|             IS_GENUINE|                  OEM:DM|                      null|                       0|           Retail|                 null|                                  628|                           15816|                         1|                   null|                     0|                    0|                  0|                                      0|           0|                   15|            1|\n",
      "|00001f26e9e577527...|win8defender|  1.1.15100.1|4.18.1807.18075|1.273.1372.0|     0|               7|               0|                     null|                    36429|                  2|                1|     1|               80|          7198|                    27|              101|                        107|windows10|      x64|10.0.0.0|  17134|    256|                 rs4|17134.1.amd64fre....|       Pro|          1|              0|   null|    0|            137|        null|       1|           1|              Desktop|    Windows.Desktop|                    2102|                   250496|                        4|                                     5|                           2407|                 null|                         476940|                       HDD|                          456309|                         0|                   4096|               Desktop|                                             18.5|                                             1366|                                            768|                     Desktop|                      null|                           4294967295|  10.0.17134.191|                amd64|         rs4_release|               17134|                   191|      Professional|       PROFESSIONAL|              UUPUpgrade|                                 6|                         28|                        FullAuto|                               0|             IS_GENUINE|                  OEM:DM|                      null|                       0|           Retail|                 null|                                  486|                           51601|                         1|                   null|                     0|                    0|                  0|                                      0|           1|                    3|            0|\n",
      "|000024872c81cf03f...|win8defender|  1.1.15200.1|4.18.1807.18075| 1.275.895.0|     0|               7|               0|                     null|                    53447|                  1|                1|     1|              171|        124736|                  null|              211|                        182|windows10|      x64|10.0.0.0|  17134|    256|                 rs4|17134.1.amd64fre....|       Pro|          1|              0|   null|    0|            137|RequireAdmin|       1|           1|              Desktop|    Windows.Desktop|                    4589|                   313586|                        2|                                     5|                           3470|                 null|                         953869|                       HDD|                          953034|                         0|                   8192|               Desktop|                                             21.5|                                             1920|                                           1080|                     Desktop|                      null|                           4294967295|  10.0.17134.228|                amd64|         rs4_release|               17134|                   228|      Professional|       PROFESSIONAL|              UUPUpgrade|                                29|                        125|                        FullAuto|                               0|             IS_GENUINE|              OEM:NONSLP|                      null|                       0|           Retail|                 null|                                  142|                           11081|                         0|                   null|                     0|                    0|                  0|                                      0|           0|                    3|            0|\n",
      "|0000258d2b847c754...|win8defender|  1.1.15100.1|4.18.1807.18075| 1.273.925.0|     0|               7|               0|                     null|                     7945|                  2|                1|     1|              169|        141516|                    27|              209|                         74|windows10|      x64|10.0.0.0|  17134|    768|                 rs4|17134.1.amd64fre....|      Home|          1|              0|   null|    0|            137|         Off|       1|           1|             Notebook|    Windows.Desktop|                     525|                   225830|                        8|                                     5|                           3082|                 null|                         953869|                       HDD|                          252439|                         0|                   8192|              Notebook|                                             15.5|                                             1920|                                           1080|                      Mobile|                      null|                                   33|  10.0.17134.191|                amd64|         rs4_release|               17134|                   191|              Core|               CORE|                   Clean|                                 7|                         30|                        FullAuto|                               0|             IS_GENUINE|                  Retail|                      null|                       0|           Retail|                 null|                                  142|                           38347|                         0|                   null|                     0|                    0|                  0|                                      0|           1|                    3|            1|\n",
      "|000027c68b89acb49...|win8defender|  1.1.15200.1|4.18.1807.18075| 1.275.130.0|     0|               7|               0|                     null|                    47238|                  2|                1|     1|              157|        114477|                    27|              199|                         75|windows10|      x64|10.0.0.0|  17134|    256|                 rs4|17134.1.amd64fre....|       Pro|          1|              0|   null|    0|            137|ExistsNotSet|       1|           1|             Notebook|    Windows.Desktop|                    1443|                   256567|                        4|                                     5|                           2373|                 null|                         476940|                       HDD|                          463540|                         0|                   4096|                Laptop|                                             13.9|                                             1366|                                            768|                      Mobile|                      lion|                                    0|  10.0.17134.228|                amd64|         rs4_release|               17134|                   228|      Professional|       PROFESSIONAL|              UUPUpgrade|                                 8|                         31|                        FullAuto|                               0|             IS_GENUINE|                  OEM:DM|                      null|                       0|           Retail|                    0|                                  355|                           19951|                         1|                      0|                     0|                    0|                  0|                                      0|           0|                    1|            1|\n",
      "|000028150912f45b1...|         mse|  1.1.15200.1|      4.9.218.0| 1.275.300.0|     0|               7|               0|                     null|                    29199|                  1|                1|     0|               80|          7198|                    27|              101|                        107| windows7|      x64| 6.1.1.0|   7601|    768|            windows7|7601.18409.amd64f...|   Invalid|          1|              0|   null|    0|            290|        null|       1|           0|             Notebook|    Windows.Desktop|                    1781|                   185880|                        2|                                     1|                           1458|                 null|                         305245|                       HDD|                          305142|                         1|                   4096|              Notebook|                                             17.1|                                             1440|                                            900|                      Mobile|                      lion|                                    0|  10.0.10586.164|                amd64|         th2_release|               10586|                   164|              Core|               CORE|                  Update|                                 6|                         28|                        FullAuto|                               0|             IS_GENUINE|                  Retail|                      null|                    null|           Retail|                    0|                                  803|                           64575|                         0|                      0|                     0|                    0|                  0|                                      0|           0|                    3|            0|\n",
      "|00002a7fd74f9ca4a...|win8defender|  1.1.15100.1|4.18.1806.18062| 1.273.466.0|     0|               0|               1|                     null|                       39|                  1|                1|     1|               93|         64168|                    18|              277|                         75|windows10|      x64|10.0.0.0|  16299|    256|                 rs3|16299.431.amd64fr...|       Pro|          1|              0|   null|    0|            117|        null|       1|           1|             Notebook|    Windows.Desktop|                    2668|                   171199|                        4|                                     5|                           2660|                 null|                         953869|                       HDD|                           99500|                         0|                   8192|              Notebook|                                             15.5|                                             1920|                                           1080|                      Mobile|                      null|                                    0|  10.0.17134.191|                amd64|         rs4_release|               17134|                   191|      Professional|       PROFESSIONAL|              UUPUpgrade|                                 8|                         31|                        FullAuto|                               0|        INVALID_LICENSE|                  Retail|                      null|                       0|          Unknown|                 null|                                  628|                           27266|                         0|                   null|                     0|                    0|                  0|                                      0|           0|                    8|            0|\n",
      "|00002b7454f06444e...|win8defender|  1.1.15300.6|    4.18.1809.2|  1.277.48.0|     0|               7|               0|                     null|                    53447|                  1|                1|     1|              178|        136271|                    27|              230|                         71|windows10|      x64|10.0.0.0|  17134|    768|                 rs4|17134.1.amd64fre....|      Home|          1|              0|   null| null|            137|        null|       1|           1|             Notebook|    Windows.Desktop|                     666|                   264568|                        4|                                     5|                           2665|                 null|                         477102|                       SSD|                           48602|                         0|                   8192|                Laptop|                                             13.3|                                             2560|                                           1600|                      Mobile|                      null|                                    0|  10.0.17134.285|                amd64|         rs4_release|               17134|                   285|              Core|               CORE|                IBSClean|                                 7|                         30|                        FullAuto|                               0|        INVALID_LICENSE|                  Retail|                      null|                       0|           Retail|                 null|                                  152|                           45542|                         0|                   null|                     0|                    0|                  0|                                      0|           1|                    1|            0|\n",
      "|00002c6cccecdef94...|win8defender|  1.1.15100.1|4.18.1807.18075|1.273.1795.0|     0|               7|               0|                     null|                    47238|                  2|                1|     1|              158|         79230|                    18|              202|                         70|windows10|      x64|10.0.0.0|  16299|    768|                 rs3|16299.15.amd64fre...|      Home|          1|              0|   null|    0|            111|RequireAdmin|       1|           1|             Notebook|    Windows.Desktop|                    2668|                   171331|                        4|                                     1|                            212|                 null|                         476940|                       HDD|                          432003|                         0|                   4096|              Notebook|                                             15.5|                                             1366|                                            768|                      Mobile|                      null|                                    0|  10.0.16299.309|                amd64|         rs3_release|               16299|                   309|CoreSingleLanguage|CORE_SINGLELANGUAGE|              UUPUpgrade|                                 8|                         31|                          Notify|                               0|             IS_GENUINE|                  OEM:DM|                      null|                       0|           Retail|                 null|                                  644|                            8919|                         1|                   null|                     0|                    0|                  0|                                      0|           1|                    1|            1|\n",
      "+--------------------+------------+-------------+---------------+------------+------+----------------+----------------+-------------------------+-------------------------+-------------------+-----------------+------+-----------------+--------------+----------------------+-----------------+---------------------------+---------+---------+--------+-------+-------+--------------------+--------------------+----------+-----------+---------------+-------+-----+---------------+------------+--------+------------+---------------------+-------------------+------------------------+-------------------------+-------------------------+--------------------------------------+-------------------------------+---------------------+-------------------------------+--------------------------+--------------------------------+--------------------------+-----------------------+----------------------+-------------------------------------------------+-------------------------------------------------+-----------------------------------------------+----------------------------+--------------------------+-------------------------------------+----------------+---------------------+--------------------+--------------------+----------------------+------------------+-------------------+------------------------+----------------------------------+---------------------------+--------------------------------+--------------------------------+-----------------------+------------------------+--------------------------+------------------------+-----------------+---------------------+-------------------------------------+--------------------------------+--------------------------+-----------------------+----------------------+---------------------+-------------------+---------------------------------------+------------+---------------------+-------------+\n",
      "only showing top 20 rows\n",
      "\n"
     ]
    }
   ],
   "source": [
    "data.show()"
   ]
  },
  {
   "cell_type": "code",
   "execution_count": 12,
   "metadata": {},
   "outputs": [],
   "source": [
    "cols_imp = ['MachineIdentifier','AvSigVersion','Platform','Census_OSBranch']"
   ]
  },
  {
   "cell_type": "code",
   "execution_count": 13,
   "metadata": {},
   "outputs": [
    {
     "name": "stdout",
     "output_type": "stream",
     "text": [
      "+--------------------------------+------------+--------+---------------+\n",
      "|MachineIdentifier               |AvSigVersion|Platform|Census_OSBranch|\n",
      "+--------------------------------+------------+--------+---------------+\n",
      "|244fa807a7c759a3a55f10d61d7a0f0c|1.155.266.0 |windows8|rs4_release    |\n",
      "|78523fe75bdf1c49eba244a8da134bcc|1.155.266.0 |windows8|th1            |\n",
      "|7f356b3f062302c10c53948a9e1c0c20|1.155.266.0 |windows8|rs4_release    |\n",
      "|82f123c563221246782eb2a85e3daf21|1.155.266.0 |windows8|th2_release    |\n",
      "|b93bcf439cd83e1426bb2094de70a796|1.155.266.0 |windows8|th2_release    |\n",
      "|bbc2d7f48f578935fd7033731d1bde5c|1.155.266.0 |windows8|rs1_release    |\n",
      "|cb58923b451b201e9de5668f186879a5|1.155.266.0 |windows8|th2_release_sec|\n",
      "|e5037fe1a117c4edc98ca4bb600491e1|1.155.266.0 |windows8|rs4_release    |\n",
      "|e7d094c26d231954d945865f198e5233|1.155.266.0 |windows8|rs1_release    |\n",
      "|e9ac07c5b6a787580048aea53f73f363|1.155.266.0 |windows8|th2_release    |\n",
      "+--------------------------------+------------+--------+---------------+\n",
      "\n"
     ]
    }
   ],
   "source": [
    "data.filter(col('AvSigVersion')=='1.155.266.0').select(cols_imp).show(truncate=False)"
   ]
  },
  {
   "cell_type": "code",
   "execution_count": null,
   "metadata": {},
   "outputs": [],
   "source": []
  },
  {
   "cell_type": "code",
   "execution_count": null,
   "metadata": {},
   "outputs": [],
   "source": []
  },
  {
   "cell_type": "code",
   "execution_count": null,
   "metadata": {},
   "outputs": [],
   "source": []
  },
  {
   "cell_type": "code",
   "execution_count": null,
   "metadata": {},
   "outputs": [],
   "source": []
  },
  {
   "cell_type": "code",
   "execution_count": 17,
   "metadata": {},
   "outputs": [],
   "source": [
    "data_horas = spark.read.csv('fechas.csv',inferSchema=True,header=True)"
   ]
  },
  {
   "cell_type": "code",
   "execution_count": 18,
   "metadata": {},
   "outputs": [
    {
     "name": "stdout",
     "output_type": "stream",
     "text": [
      "+-------------------+---------------+\n",
      "|              fecha|release_version|\n",
      "+-------------------+---------------+\n",
      "|2013-07-18 09:08:00|    1.155.266.0|\n",
      "|2014-02-21 14:20:00|    1.167.387.0|\n",
      "|2014-04-03 01:17:00|   1.169.1625.0|\n",
      "|2014-04-12 17:16:00|   1.169.2478.0|\n",
      "|2014-03-18 01:09:00|     1.169.55.0|\n",
      "|2014-06-19 17:16:00|    1.177.229.0|\n",
      "|2014-11-01 03:19:00|   1.187.1121.0|\n",
      "|2014-10-23 01:07:00|    1.187.322.0|\n",
      "|2014-11-19 00:14:00|    1.189.189.0|\n",
      "|2014-12-25 12:16:00|    1.191.897.0|\n",
      "|2015-02-18 09:32:00|    1.193.185.0|\n",
      "|2015-03-06 12:55:00|   1.193.1928.0|\n",
      "|2015-03-21 07:28:00|   1.193.3377.0|\n",
      "|2015-03-21 12:34:00|   1.193.3388.0|\n",
      "|2015-02-20 00:51:00|    1.193.418.0|\n",
      "|2015-03-24 12:22:00|    1.195.109.0|\n",
      "|2015-03-31 17:38:00|   1.195.1107.0|\n",
      "|2015-04-07 12:11:00|   1.195.2226.0|\n",
      "|2015-04-13 00:14:00|   1.195.3092.0|\n",
      "|2015-04-14 00:18:00|   1.195.3225.0|\n",
      "+-------------------+---------------+\n",
      "only showing top 20 rows\n",
      "\n"
     ]
    }
   ],
   "source": [
    "data_horas.show()"
   ]
  },
  {
   "cell_type": "code",
   "execution_count": 80,
   "metadata": {},
   "outputs": [],
   "source": [
    "data_com = data.join(data_horas,data['AvSigVersion'] == data_horas[\"release_version\"],'left')\\\n",
    "            .withColumnRenamed('fecha','AvSigVersionDate')\\\n",
    "            .withColumnRenamed('release_version','Borrar')"
   ]
  },
  {
   "cell_type": "code",
   "execution_count": 28,
   "metadata": {},
   "outputs": [],
   "source": [
    "cols_imp=cols_imp+['AvSigVersionDate']"
   ]
  },
  {
   "cell_type": "code",
   "execution_count": 29,
   "metadata": {},
   "outputs": [
    {
     "name": "stdout",
     "output_type": "stream",
     "text": [
      "+--------------------------------+------------+---------+----------------------+-------------------+\n",
      "|MachineIdentifier               |AvSigVersion|Platform |Census_OSBranch       |AvSigVersionDate   |\n",
      "+--------------------------------+------------+---------+----------------------+-------------------+\n",
      "|0000028988387b115f69f31a3bf04f09|1.273.1735.0|windows10|rs4_release           |2018-08-20 21:11:00|\n",
      "|000007535c3f730efa9ea0b7ef1bd645|1.263.48.0  |windows10|rs4_release           |2018-03-01 22:10:00|\n",
      "|000007905a28d863f6d0d597892cd692|1.273.1341.0|windows10|rs4_release           |2018-08-13 23:35:00|\n",
      "|00000b11598a75ea8ba1beea8459149f|1.273.1527.0|windows10|rs4_release           |2018-08-17 03:01:00|\n",
      "|000014a5f00daa18e76b81417eeb99fc|1.273.1379.0|windows10|rs4_release           |2018-08-14 12:33:00|\n",
      "|000016191b897145d069102325cab760|1.273.1094.0|windows10|rs4_release           |2018-08-09 06:59:00|\n",
      "|0000161e8abf8d8b89c5ab8787fd712b|1.273.845.0 |windows10|rs4_release           |2018-08-05 00:52:00|\n",
      "|000019515bc8f95851aff6de873405e8|1.273.1393.0|windows10|rs1_release           |2018-08-14 20:09:00|\n",
      "|00001a027a0ab970c408182df8484fce|1.275.988.0 |windows10|rs4_release           |2018-09-10 00:51:00|\n",
      "|00001a18d69bb60bda9779408dcf02ac|1.273.973.0 |windows10|rs3_release_svc_escrow|2018-08-07 09:14:00|\n",
      "+--------------------------------+------------+---------+----------------------+-------------------+\n",
      "only showing top 10 rows\n",
      "\n"
     ]
    }
   ],
   "source": [
    "data_com.select(cols_imp).show(10,False)"
   ]
  },
  {
   "cell_type": "code",
   "execution_count": null,
   "metadata": {},
   "outputs": [],
   "source": []
  },
  {
   "cell_type": "code",
   "execution_count": 47,
   "metadata": {},
   "outputs": [],
   "source": [
    "cols_imp = ['MachineIdentifier',\n",
    " 'AvSigVersion',\n",
    " 'AvSigVersionDate',\n",
    " 'AvSigVersion_0',\n",
    " 'AvSigVersion_1',\n",
    " 'AvSigVersion_2',\n",
    " 'AvSigVersion_3']"
   ]
  },
  {
   "cell_type": "code",
   "execution_count": 81,
   "metadata": {},
   "outputs": [
    {
     "name": "stdout",
     "output_type": "stream",
     "text": [
      "+--------------------+------------+-------------------+--------------+--------------+--------------+--------------+\n",
      "|   MachineIdentifier|AvSigVersion|   AvSigVersionDate|AvSigVersion_0|AvSigVersion_1|AvSigVersion_2|AvSigVersion_3|\n",
      "+--------------------+------------+-------------------+--------------+--------------+--------------+--------------+\n",
      "|0000028988387b115...|1.273.1735.0|2018-08-20 21:11:00|             1|           273|          1735|             0|\n",
      "|000007535c3f730ef...|  1.263.48.0|2018-03-01 22:10:00|             1|           263|            48|             0|\n",
      "|000007905a28d863f...|1.273.1341.0|2018-08-13 23:35:00|             1|           273|          1341|             0|\n",
      "|00000b11598a75ea8...|1.273.1527.0|2018-08-17 03:01:00|             1|           273|          1527|             0|\n",
      "|000014a5f00daa18e...|1.273.1379.0|2018-08-14 12:33:00|             1|           273|          1379|             0|\n",
      "|000016191b897145d...|1.273.1094.0|2018-08-09 06:59:00|             1|           273|          1094|             0|\n",
      "|0000161e8abf8d8b8...| 1.273.845.0|2018-08-05 00:52:00|             1|           273|           845|             0|\n",
      "|000019515bc8f9585...|1.273.1393.0|2018-08-14 20:09:00|             1|           273|          1393|             0|\n",
      "|00001a027a0ab970c...| 1.275.988.0|2018-09-10 00:51:00|             1|           275|           988|             0|\n",
      "|00001a18d69bb60bd...| 1.273.973.0|2018-08-07 09:14:00|             1|           273|           973|             0|\n",
      "+--------------------+------------+-------------------+--------------+--------------+--------------+--------------+\n",
      "only showing top 10 rows\n",
      "\n"
     ]
    }
   ],
   "source": [
    "data_com = data_com.withColumn('AvSigVersion_0', split(data_com['AvSigVersion'], '\\.')[0].cast(IntegerType()))\\\n",
    "                    .withColumn('AvSigVersion_1', split(data_com['AvSigVersion'], '\\.')[1].cast(IntegerType()))\\\n",
    "                    .withColumn('AvSigVersion_2', split(data_com['AvSigVersion'], '\\.')[2].cast(IntegerType()))\\\n",
    "                    .withColumn('AvSigVersion_3', split(data_com['AvSigVersion'], '\\.')[3].cast(IntegerType()))\n",
    "data_com.select(cols_imp).show(10)"
   ]
  },
  {
   "cell_type": "code",
   "execution_count": 50,
   "metadata": {},
   "outputs": [
    {
     "name": "stdout",
     "output_type": "stream",
     "text": [
      "+--------------+\n",
      "|AvSigVersion_0|\n",
      "+--------------+\n",
      "|             1|\n",
      "|             0|\n",
      "+--------------+\n",
      "\n"
     ]
    }
   ],
   "source": [
    "data_com.select('AvSigVersion_0').distinct().show()"
   ]
  },
  {
   "cell_type": "code",
   "execution_count": 54,
   "metadata": {},
   "outputs": [
    {
     "data": {
      "text/plain": [
       "51"
      ]
     },
     "execution_count": 54,
     "metadata": {},
     "output_type": "execute_result"
    }
   ],
   "source": [
    "data_com.select('AvSigVersion_1').distinct().count()"
   ]
  },
  {
   "cell_type": "code",
   "execution_count": 55,
   "metadata": {},
   "outputs": [
    {
     "data": {
      "text/plain": [
       "2766"
      ]
     },
     "execution_count": 55,
     "metadata": {},
     "output_type": "execute_result"
    }
   ],
   "source": [
    "data_com.select('AvSigVersion_2').distinct().count()"
   ]
  },
  {
   "cell_type": "code",
   "execution_count": 51,
   "metadata": {},
   "outputs": [
    {
     "name": "stdout",
     "output_type": "stream",
     "text": [
      "+--------------+\n",
      "|AvSigVersion_3|\n",
      "+--------------+\n",
      "|             0|\n",
      "+--------------+\n",
      "\n"
     ]
    }
   ],
   "source": [
    "data_com.select('AvSigVersion_3').distinct().show()"
   ]
  },
  {
   "cell_type": "code",
   "execution_count": 70,
   "metadata": {},
   "outputs": [
    {
     "name": "stdout",
     "output_type": "stream",
     "text": [
      "+-------------------+\n",
      "|   AvSigVersionDate|\n",
      "+-------------------+\n",
      "|2018-08-20 21:11:00|\n",
      "|2018-03-01 22:10:00|\n",
      "|2018-08-13 23:35:00|\n",
      "|2018-08-17 03:01:00|\n",
      "|2018-08-14 12:33:00|\n",
      "|2018-08-09 06:59:00|\n",
      "|2018-08-05 00:52:00|\n",
      "|2018-08-14 20:09:00|\n",
      "|2018-09-10 00:51:00|\n",
      "|2018-08-07 09:14:00|\n",
      "|2018-08-05 12:25:00|\n",
      "|2018-08-22 05:11:00|\n",
      "|2018-08-14 10:21:00|\n",
      "|2018-09-07 10:38:00|\n",
      "|2018-08-06 15:12:00|\n",
      "|2018-08-24 23:45:00|\n",
      "|2018-08-28 06:37:00|\n",
      "|2018-07-28 04:04:00|\n",
      "|2018-09-25 16:42:00|\n",
      "|2018-08-21 17:44:00|\n",
      "+-------------------+\n",
      "only showing top 20 rows\n",
      "\n"
     ]
    }
   ],
   "source": [
    "data_com.select('AvSigVersionDate').show()"
   ]
  },
  {
   "cell_type": "code",
   "execution_count": 83,
   "metadata": {},
   "outputs": [],
   "source": [
    "w = Window.partitionBy().orderBy('AvSigVersion_0','AvSigVersion_1','AvSigVersion_2','AvSigVersion_3')"
   ]
  },
  {
   "cell_type": "code",
   "execution_count": 87,
   "metadata": {},
   "outputs": [],
   "source": [
    "data_com = data_com.withColumn('AvSigVersionDate',col('AvSigVersionDate').cast(DateType()))"
   ]
  },
  {
   "cell_type": "code",
   "execution_count": 88,
   "metadata": {},
   "outputs": [],
   "source": [
    "data_windows = data_com.withColumn('date_lag',lead('AvSigVersionDate').over(w))"
   ]
  },
  {
   "cell_type": "code",
   "execution_count": 85,
   "metadata": {},
   "outputs": [
    {
     "data": {
      "text/plain": [
       "8921483"
      ]
     },
     "execution_count": 85,
     "metadata": {},
     "output_type": "execute_result"
    }
   ],
   "source": [
    "data_windows.persist()\n",
    "data_windows.count()"
   ]
  },
  {
   "cell_type": "code",
   "execution_count": 66,
   "metadata": {
    "scrolled": true
   },
   "outputs": [
    {
     "data": {
      "text/plain": [
       "['MachineIdentifier',\n",
       " 'AvSigVersion',\n",
       " 'AvSigVersionDate',\n",
       " 'AvSigVersion_0',\n",
       " 'AvSigVersion_1',\n",
       " 'AvSigVersion_2',\n",
       " 'AvSigVersion_3']"
      ]
     },
     "execution_count": 66,
     "metadata": {},
     "output_type": "execute_result"
    }
   ],
   "source": [
    "cols_imp"
   ]
  },
  {
   "cell_type": "code",
   "execution_count": null,
   "metadata": {},
   "outputs": [],
   "source": []
  },
  {
   "cell_type": "code",
   "execution_count": 91,
   "metadata": {},
   "outputs": [
    {
     "name": "stdout",
     "output_type": "stream",
     "text": [
      "+--------------------+-----------------+----------------+--------------+--------------+--------------+--------------+-------------+\n",
      "|   MachineIdentifier|     AvSigVersion|AvSigVersionDate|AvSigVersion_0|AvSigVersion_1|AvSigVersion_2|AvSigVersion_3|date_lead_num|\n",
      "+--------------------+-----------------+----------------+--------------+--------------+--------------+--------------+-------------+\n",
      "|9686a9afcb31e2160...|1.2&#x17;3.1144.0|      2018-08-10|             1|          null|          1144|             0|        -1849|\n",
      "|78523fe75bdf1c49e...|      1.155.266.0|      2013-07-18|             1|           155|           266|             0|            0|\n",
      "|b93bcf439cd83e142...|      1.155.266.0|      2013-07-18|             1|           155|           266|             0|            0|\n",
      "|7f356b3f062302c10...|      1.155.266.0|      2013-07-18|             1|           155|           266|             0|            0|\n",
      "|bbc2d7f48f578935f...|      1.155.266.0|      2013-07-18|             1|           155|           266|             0|            0|\n",
      "|82f123c5632212467...|      1.155.266.0|      2013-07-18|             1|           155|           266|             0|            0|\n",
      "|cb58923b451b201e9...|      1.155.266.0|      2013-07-18|             1|           155|           266|             0|            0|\n",
      "|e5037fe1a117c4edc...|      1.155.266.0|      2013-07-18|             1|           155|           266|             0|            0|\n",
      "|244fa807a7c759a3a...|      1.155.266.0|      2013-07-18|             1|           155|           266|             0|            0|\n",
      "|e7d094c26d231954d...|      1.155.266.0|      2013-07-18|             1|           155|           266|             0|            0|\n",
      "|e9ac07c5b6a787580...|      1.155.266.0|      2013-07-18|             1|           155|           266|             0|          218|\n",
      "|d85f61fd11147079b...|      1.167.387.0|      2014-02-21|             1|           167|           387|             0|            0|\n",
      "|0db7b54a57094c26d...|      1.167.387.0|      2014-02-21|             1|           167|           387|             0|            0|\n",
      "|454a18a574286bd02...|      1.167.387.0|      2014-02-21|             1|           167|           387|             0|           25|\n",
      "|bef26872a1f45b61d...|       1.169.55.0|      2014-03-18|             1|           169|            55|             0|            0|\n",
      "|0561381b5041916e5...|       1.169.55.0|      2014-03-18|             1|           169|            55|             0|            0|\n",
      "|d939a1cde2fbca752...|       1.169.55.0|      2014-03-18|             1|           169|            55|             0|            0|\n",
      "|2796c28e9db1ccfbd...|       1.169.55.0|      2014-03-18|             1|           169|            55|             0|           16|\n",
      "|3145ba813ed0dbd2b...|     1.169.1625.0|      2014-04-03|             1|           169|          1625|             0|           77|\n",
      "|e4d435a684944e067...|      1.177.229.0|      2014-06-19|             1|           177|           229|             0|          135|\n",
      "+--------------------+-----------------+----------------+--------------+--------------+--------------+--------------+-------------+\n",
      "only showing top 20 rows\n",
      "\n"
     ]
    }
   ],
   "source": [
    "data_windows\n",
    ".withColumn('date_lead_num', datediff(col('date_lag'),col('AvSigVersionDate')))\n",
    ".select(cols_imp+['date_lead_num'])\n",
    ".filter(col('AvSigVersion_0')>0)\n",
    ".show()"
   ]
  },
  {
   "cell_type": "code",
   "execution_count": null,
   "metadata": {},
   "outputs": [],
   "source": []
  },
  {
   "cell_type": "code",
   "execution_count": null,
   "metadata": {},
   "outputs": [],
   "source": []
  },
  {
   "cell_type": "code",
   "execution_count": null,
   "metadata": {},
   "outputs": [],
   "source": []
  },
  {
   "cell_type": "code",
   "execution_count": null,
   "metadata": {},
   "outputs": [],
   "source": []
  },
  {
   "cell_type": "code",
   "execution_count": null,
   "metadata": {},
   "outputs": [],
   "source": []
  },
  {
   "cell_type": "code",
   "execution_count": null,
   "metadata": {},
   "outputs": [],
   "source": []
  },
  {
   "cell_type": "code",
   "execution_count": null,
   "metadata": {},
   "outputs": [],
   "source": []
  }
 ],
 "metadata": {
  "kernelspec": {
   "display_name": "Python 3",
   "language": "python",
   "name": "python3"
  },
  "language_info": {
   "codemirror_mode": {
    "name": "ipython",
    "version": 3
   },
   "file_extension": ".py",
   "mimetype": "text/x-python",
   "name": "python",
   "nbconvert_exporter": "python",
   "pygments_lexer": "ipython3",
   "version": "3.7.1"
  }
 },
 "nbformat": 4,
 "nbformat_minor": 2
}
