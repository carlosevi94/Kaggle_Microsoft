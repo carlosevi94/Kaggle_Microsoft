{
 "cells": [
  {
   "cell_type": "code",
   "execution_count": 19,
   "metadata": {},
   "outputs": [],
   "source": [
    "import pandas as pd\n",
    "import numpy as np\n",
    "import glob\n",
    "from sklearn.model_selection import train_test_split\n",
    "from sklearn.model_selection import KFold\n",
    "from sklearn.model_selection import GridSearchCV\n",
    "from sklearn.model_selection import TimeSeriesSplit\n",
    "from sklearn.model_selection import StratifiedKFold\n",
    "import lightgbm as lgb\n",
    "import xgboost as xgb\n",
    "from scipy.sparse import vstack, csr_matrix, save_npz, load_npz\n",
    "import warnings\n",
    "warnings.filterwarnings(\"ignore\")\n",
    "import gc"
   ]
  },
  {
   "cell_type": "code",
   "execution_count": 2,
   "metadata": {},
   "outputs": [],
   "source": [
    "dict_dtypes = {\n",
    "    'IsBeta': np.int8,                                                              \n",
    "    'RtpStateBitfield': np.int8,                                                    \n",
    "    'IsSxsPassiveMode': np.int8,                                                    \n",
    "    'DefaultBrowsersIdentifier': np.int16,                                          \n",
    "    'AVProductStatesIdentifier': np.int32,                                          \n",
    "    'AVProductsInstalled': np.int8,                                                 \n",
    "    'AVProductsEnabled': np.int8,\n",
    "    'HasTpm': np.int8,                                                              \n",
    "    'CountryIdentifier': np.int16,\n",
    "    'CityIdentifier': np.int32,                                                     \n",
    "    'OrganizationIdentifier': np.int8,\n",
    "    'GeoNameIdentifier': np.int16,                                                  \n",
    "    'LocaleEnglishNameIdentifier': np.int16,                                        \n",
    "    'OsBuild': np.int16,                                                            \n",
    "    'OsSuite': np.int16,                                                            \n",
    "    'IsProtected': np.int8,                                                         \n",
    "    'AutoSampleOptIn': np.int8,                                                     \n",
    "    'SMode': np.int8,                                                               \n",
    "    'IeVerIdentifier': np.int16,                                                    \n",
    "    'Firewall': np.int8,                                                            \n",
    "    'UacLuaenable': np.int32,                                                       \n",
    "    'Census_OEMNameIdentifier': np.int16,                                           \n",
    "    'Census_OEMModelIdentifier': np.int32,                                          \n",
    "    'Census_ProcessorCoreCount': np.int16,\n",
    "    'Census_ProcessorManufacturerIdentifier': np.int8,                              \n",
    "    'Census_ProcessorModelIdentifier': np.int16,\n",
    "    'Census_PrimaryDiskTotalCapacity': np.int32,                                    \n",
    "    'Census_SystemVolumeTotalCapacity': np.int32,                                   \n",
    "    'Census_HasOpticalDiskDrive': np.int8,                                          \n",
    "    'Census_TotalPhysicalRAM': np.int32,                                            \n",
    "    'Census_InternalPrimaryDiagonalDisplaySizeInInches': np.float16,                  \n",
    "    'Census_InternalPrimaryDisplayResolutionHorizontal': np.int16,                  \n",
    "    'Census_InternalPrimaryDisplayResolutionVertical': np.int16,\n",
    "    'Census_InternalBatteryNumberOfCharges': np.int32,\n",
    "    'Census_OSBuildNumber': np.int16,                                               \n",
    "    'Census_OSBuildRevision': np.int32,                                             \n",
    "    'Census_OSInstallLanguageIdentifier': np.int8,                                  \n",
    "    'Census_OSUILocaleIdentifier': np.int16,                                        \n",
    "    'Census_IsPortableOperatingSystem': np.int8,                                    \n",
    "    'Census_IsFlightingInternal': np.int8,                                          \n",
    "    'Census_IsFlightsDisabled': np.int8,                                            \n",
    "    'Census_ThresholdOptIn': np.int8,                                               \n",
    "    'Census_FirmwareManufacturerIdentifier': np.int16,\n",
    "    'Census_FirmwareVersionIdentifier': np.int32,                                   \n",
    "    'Census_IsSecureBootEnabled': np.int8,                                          \n",
    "    'Census_IsWIMBootEnabled': np.int8,                                             \n",
    "    'Census_IsVirtualDevice': np.int8,\n",
    "    'Census_IsTouchEnabled': np.int8,                                               \n",
    "    'Census_IsPenCapable': np.int8,                                                 \n",
    "    'Census_IsAlwaysOnAlwaysConnectedCapable': np.int8,                             \n",
    "    'Wdft_IsGamer': np.int8,\n",
    "    'Wdft_RegionIdentifier': np.int8,\n",
    "    'HasDetections': np.int8,\n",
    "    'Census_InternalBatteryType_informed': np.int8,                                 \n",
    "    'ProductName_index': np.int8,                                                   \n",
    "    'Platform_index': np.int8,\n",
    "    'Processor_index': np.int8,\n",
    "    'OsPlatformSubRelease_index': np.int8,                                          \n",
    "    'SkuEdition_index': np.int8,\n",
    "    'PuaMode_index': np.int8,\n",
    "    'SmartScreen_index': np.int8,\n",
    "    'Census_MDC2FormFactor_index': np.int8,                                         \n",
    "    'Census_DeviceFamily_index': np.int8,                                           \n",
    "    'Census_ProcessorClass_index': np.int8,                                         \n",
    "    'Census_PrimaryDiskTypeName_index': np.int8,\n",
    "    'Census_ChassisTypeName_index': np.int8,\n",
    "    'Census_PowerPlatformRoleName_index': np.int8,\n",
    "    'Census_InternalBatteryType_index': np.int8,                                    \n",
    "    'Census_OSArchitecture_index': np.int8,                                         \n",
    "    'Census_OSBranch_index': np.int8,                                               \n",
    "    'Census_OSEdition_index': np.int8,                                              \n",
    "    'Census_OSSkuName_index': np.int8,                                              \n",
    "    'Census_OSInstallTypeName_index': np.int8,                                      \n",
    "    'Census_OSWUAutoUpdateOptionsName_index': np.int8,\n",
    "    'Census_GenuineStateName_index': np.int8,                                       \n",
    "    'Census_ActivationChannel_index': np.int8,\n",
    "    'Census_FlightRing_index': np.int8,\n",
    "    'OSBuild_diff': np.int8,\n",
    "    'AvSigVersion_diff': np.int16,                                                  \n",
    "    'OSBuild_fulldiff': np.int8,                                                    \n",
    "    'AvSigVersion_fulldiff': np.int16,                                              \n",
    "    'OsBuildLab_difftotal': np.int16,                                               \n",
    "    'DateAvSigVersion_difftotal': np.int16,                                         \n",
    "    'DateAvSigVersion_fulldifftotal': np.int16,\n",
    "    'OsBuildLab_fulldifftotal': np.int16,\n",
    "    'DateAvSigVersion_ratio': np.float16,                                              \n",
    "    'OsBuildLab_ratio': np.float16,                                                    \n",
    "    'DateAvSigVersion_fullratio': np.float16,\n",
    "    'OsBuildLab_fullratio': np.float16,                                                \n",
    "    'OsBuildLab_dayOfWeek': np.int8,                                                \n",
    "    'AvSigVersion_dayOfWeek': np.int8, \n",
    "}"
   ]
  },
  {
   "cell_type": "code",
   "execution_count": 3,
   "metadata": {},
   "outputs": [],
   "source": [
    "path = '../data/train_final_1'"
   ]
  },
  {
   "cell_type": "code",
   "execution_count": 4,
   "metadata": {},
   "outputs": [
    {
     "name": "stdout",
     "output_type": "stream",
     "text": [
      "0\n",
      "10\n"
     ]
    }
   ],
   "source": [
    "allFiles = glob.glob(path + \"/*.csv\")\n",
    "\n",
    "list_ = []\n",
    "n = 0\n",
    "\n",
    "for file_ in allFiles:\n",
    "#     mask = file_['Platform_index'] != 0\n",
    "    df = pd.read_csv(file_, dtype=dict_dtypes, low_memory=True)\n",
    "    list_.append(df)\n",
    "    if n%10==0:\n",
    "        print(n)\n",
    "    n+=1\n",
    "\n",
    "train = pd.concat(list_, axis = 0, ignore_index = True)"
   ]
  },
  {
   "cell_type": "code",
   "execution_count": 5,
   "metadata": {},
   "outputs": [
    {
     "data": {
      "text/plain": [
       "(8921483, 92)"
      ]
     },
     "execution_count": 5,
     "metadata": {},
     "output_type": "execute_result"
    }
   ],
   "source": [
    "train.shape"
   ]
  },
  {
   "cell_type": "code",
   "execution_count": 48,
   "metadata": {},
   "outputs": [],
   "source": [
    "train_sub = train.sample(4000000)"
   ]
  },
  {
   "cell_type": "code",
   "execution_count": 49,
   "metadata": {},
   "outputs": [
    {
     "data": {
      "text/plain": [
       "(4000000, 92)"
      ]
     },
     "execution_count": 49,
     "metadata": {},
     "output_type": "execute_result"
    }
   ],
   "source": [
    "train_sub.shape"
   ]
  },
  {
   "cell_type": "code",
   "execution_count": 50,
   "metadata": {},
   "outputs": [],
   "source": [
    "sel_cols = [c for c in train.columns if c not in ['MachineIdentifier', 'HasDetections']]"
   ]
  },
  {
   "cell_type": "code",
   "execution_count": 51,
   "metadata": {},
   "outputs": [],
   "source": [
    "X_train = train_sub.loc[:, sel_cols]\n",
    "y_train = train_sub.loc[:,'HasDetections']"
   ]
  },
  {
   "cell_type": "code",
   "execution_count": 52,
   "metadata": {},
   "outputs": [],
   "source": [
    "train_ids = X_train.index"
   ]
  },
  {
   "cell_type": "code",
   "execution_count": 53,
   "metadata": {},
   "outputs": [
    {
     "data": {
      "text/plain": [
       "5"
      ]
     },
     "execution_count": 53,
     "metadata": {},
     "output_type": "execute_result"
    }
   ],
   "source": [
    "skf = StratifiedKFold(n_splits=5, shuffle=True, random_state=42)\n",
    "skf.get_n_splits(train_ids, y_train)"
   ]
  },
  {
   "cell_type": "code",
   "execution_count": 54,
   "metadata": {},
   "outputs": [],
   "source": [
    "lgb_model = lgb.LGBMClassifier(max_depth=-1,\n",
    "                                   n_estimators=10000,\n",
    "                                   learning_rate=0.05,\n",
    "                                   num_leaves=2**12-1,\n",
    "                                   colsample_bytree=0.28,\n",
    "                                   objective='binary', \n",
    "                                   n_jobs=-1)"
   ]
  },
  {
   "cell_type": "code",
   "execution_count": null,
   "metadata": {},
   "outputs": [
    {
     "name": "stdout",
     "output_type": "stream",
     "text": [
      "Fold 1\n",
      "\n",
      "Training until validation scores don't improve for 20 rounds.\n",
      "[100]\tvalid_0's auc: 0.729563\tvalid_0's binary_logloss: 0.607539\n"
     ]
    }
   ],
   "source": [
    "counter = 0\n",
    "for train_index, test_index in skf.split(train_ids, y_train):\n",
    "    \n",
    "    print('Fold {}\\n'.format(counter + 1))\n",
    "    \n",
    "#     X_fit = vstack([train[train_index[i*m:(i+1)*m]] for i in range(train_index.shape[0] // m + 1)])\n",
    "#     X_val = vstack([train[test_index[i*m:(i+1)*m]]  for i in range(test_index.shape[0] //  m + 1)])\n",
    "#     X_fit, X_val = csr_matrix(X_fit, dtype='float32'), csr_matrix(X_val, dtype='float32')\n",
    "    X_fit, X_val = X_train.iloc[train_index, :], X_train.iloc[test_index, :]\n",
    "    y_fit, y_val = y_train.iloc[train_index], y_train.iloc[test_index]\n",
    "    \n",
    "                              \n",
    "    #xgb_model = xgb.XGBClassifier(max_depth=6,\n",
    "    #                              n_estimators=30000,\n",
    "    #                              colsample_bytree=0.2,\n",
    "    #                              learning_rate=0.1,\n",
    "    #                              objective='binary:logistic', \n",
    "    #                              n_jobs=-1)\n",
    "    \n",
    "                               \n",
    "    lgb_model.fit(X_fit, y_fit, eval_metric='auc', \n",
    "                  eval_set=[(X_val, y_val)], \n",
    "                  verbose=100, early_stopping_rounds=20)\n",
    "                  \n",
    "    #xgb_model.fit(X_fit, y_fit, eval_metric='auc', \n",
    "    #              eval_set=[(X_val, y_val)], \n",
    "    #              verbose=1000, early_stopping_rounds=300)\n",
    "\n",
    "    #lgb_train_result[test_index] += lgb_model.predict_proba(X_val)[:,1]\n",
    "    #xgb_train_result[test_index] += xgb_model.predict_proba(X_val)[:,1]\n",
    "    \n",
    "    del X_fit, X_val, y_fit, y_val, train_index, test_index\n",
    "    gc.collect()\n",
    "    \n",
    "    counter += 1"
   ]
  },
  {
   "cell_type": "code",
   "execution_count": null,
   "metadata": {},
   "outputs": [],
   "source": []
  }
 ],
 "metadata": {
  "kernelspec": {
   "display_name": "Python 3",
   "language": "python",
   "name": "python3"
  },
  "language_info": {
   "codemirror_mode": {
    "name": "ipython",
    "version": 3
   },
   "file_extension": ".py",
   "mimetype": "text/x-python",
   "name": "python",
   "nbconvert_exporter": "python",
   "pygments_lexer": "ipython3",
   "version": "3.6.7"
  }
 },
 "nbformat": 4,
 "nbformat_minor": 2
}
