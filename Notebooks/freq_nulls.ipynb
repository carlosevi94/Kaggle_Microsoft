{
 "cells": [
  {
   "cell_type": "code",
   "execution_count": 1,
   "metadata": {},
   "outputs": [
    {
     "name": "stdout",
     "output_type": "stream",
     "text": [
      "Inicio del Script\n"
     ]
    }
   ],
   "source": [
    "from pyspark.sql import SparkSession\n",
    "from pyspark.ml.feature import StringIndexer\n",
    "from pyspark.sql.types import (StructType, StructField, StringType,\n",
    "                               DoubleType, IntegerType, LongType)\n",
    "from pyspark.sql.functions import *\n",
    "from pyspark import SparkConf\n",
    "from pyspark import SparkContext\n",
    "import multiprocessing\n",
    "from pyspark.ml import Pipeline\n",
    "import sys\n",
    "\n",
    "print('Inicio del Script')\n",
    "\n",
    "# Configuracion de memoria y cores\n",
    "cores = multiprocessing.cpu_count()\n",
    "p = 3\n",
    "particiones = cores * p\n",
    "conf = SparkConf()\n",
    "conf.set(\"spark.sql.shuffle.partitions\", particiones)\n",
    "conf.set(\"spark.default.parallelism\", particiones)\n",
    "sc = SparkContext(conf=conf)\n"
   ]
  },
  {
   "cell_type": "code",
   "execution_count": 2,
   "metadata": {},
   "outputs": [
    {
     "name": "stdout",
     "output_type": "stream",
     "text": [
      "Lectura del DF crudo\n",
      "Numero de casos totales = 16774736\n"
     ]
    }
   ],
   "source": [
    "spark = SparkSession.builder.appName(\"Microsoft_Kaggle\").getOrCreate()\n",
    "\n",
    "# Read data\n",
    "print('Lectura del DF crudo')\n",
    "data = spark.read.csv('../data/df_cat/*.csv', header=True, inferSchema=True)\\\n",
    ".select('MachineIdentifier', 'Census_ChassisTypeName', 'Census_InternalBatteryType', 'Census_OSBranch', 'Census_OSEdition', 'Census_OSSkuName', 'Census_FlightRing', 'OsVer', 'SmartScreen', 'Census_MDC2FormFactor')\n",
    "\n",
    "# Persistimos el DF para mejorar el rendimiento\n",
    "data.persist()\n",
    "print('Numero de casos totales = {}'.format(data.count()))"
   ]
  },
  {
   "cell_type": "code",
   "execution_count": 3,
   "metadata": {},
   "outputs": [],
   "source": [
    "frequency_census = data.groupBy('Census_ChassisTypeName').count().withColumnRenamed('count','Census_ChassisTypeName_freq')\n"
   ]
  },
  {
   "cell_type": "code",
   "execution_count": 4,
   "metadata": {},
   "outputs": [
    {
     "data": {
      "text/plain": [
       "58"
      ]
     },
     "execution_count": 4,
     "metadata": {},
     "output_type": "execute_result"
    }
   ],
   "source": [
    "frequency_census.count()"
   ]
  },
  {
   "cell_type": "code",
   "execution_count": 5,
   "metadata": {
    "scrolled": true
   },
   "outputs": [
    {
     "name": "stdout",
     "output_type": "stream",
     "text": [
      "+----------------------+---------------------------+\n",
      "|Census_ChassisTypeName|Census_ChassisTypeName_freq|\n",
      "+----------------------+---------------------------+\n",
      "|127                   |10                         |\n",
      "|81                    |2                          |\n",
      "|36                    |5                          |\n",
      "|AllinOne              |380502                     |\n",
      "|Tablet                |24924                      |\n",
      "|0                     |226                        |\n",
      "|30                    |297                        |\n",
      "|PeripheralChassis     |1                          |\n",
      "|Unknown               |19057                      |\n",
      "|EmbeddedPC            |1                          |\n",
      "|SpaceSaving           |55390                      |\n",
      "|49                    |1                          |\n",
      "|HandHeld              |82628                      |\n",
      "|35                    |59                         |\n",
      "|StickPC               |309                        |\n",
      "|64                    |1                          |\n",
      "|93                    |1                          |\n",
      "|Convertible           |163130                     |\n",
      "|SubChassis            |35                         |\n",
      "|31                    |14                         |\n",
      "|Portable              |667938                     |\n",
      "|MiniPC                |8760                       |\n",
      "|Other                 |149362                     |\n",
      "|UNKNOWN               |119972                     |\n",
      "|76                    |1                          |\n",
      "|Desktop               |3649794                    |\n",
      "|LowProfileDesktop     |96975                      |\n",
      "|25                    |7                          |\n",
      "|SealedCasePC          |81                         |\n",
      "|ExpansionChassis      |21                         |\n",
      "|32                    |10                         |\n",
      "|28                    |1                          |\n",
      "|88                    |11                         |\n",
      "|Detachable            |93993                      |\n",
      "|RackMountChassis      |6339                       |\n",
      "|SubNotebook           |1620                       |\n",
      "|44                    |5                          |\n",
      "|120                   |2                          |\n",
      "|BusExpansionChassis   |1401                       |\n",
      "|null                  |964                        |\n",
      "|Notebook              |9747202                    |\n",
      "|Laptop                |1286777                    |\n",
      "|Tower                 |24193                      |\n",
      "|BladeEnclosure        |4                          |\n",
      "|82                    |2                          |\n",
      "|IoTGateway            |1                          |\n",
      "|83                    |1                          |\n",
      "|45                    |1                          |\n",
      "|LunchBox              |7812                       |\n",
      "|MultisystemChassis    |102                        |\n",
      "|DockingStation        |15                         |\n",
      "|CompactPCI            |3                          |\n",
      "|MiniTower             |166538                     |\n",
      "|MainServerChassis     |18102                      |\n",
      "|Blade                 |69                         |\n",
      "|PizzaBox              |62                         |\n",
      "|39                    |1                          |\n",
      "|112                   |1                          |\n",
      "+----------------------+---------------------------+\n",
      "\n"
     ]
    }
   ],
   "source": [
    "frequency_census.show(58, False)"
   ]
  },
  {
   "cell_type": "code",
   "execution_count": 6,
   "metadata": {},
   "outputs": [],
   "source": [
    "def transformaciones_ChassisTypeName(x):\n",
    "    try:\n",
    "        to_int = int(x)\n",
    "        return 'Numerico'\n",
    "    except:\n",
    "        if x == 'Unknown' or x == 'Other':\n",
    "            return 'UNKNOWN'\n",
    "        else:\n",
    "            return x\n",
    "    \n",
    "udf_ChassisTypeName = udf(lambda z: transformaciones_ChassisTypeName(z), StringType())"
   ]
  },
  {
   "cell_type": "code",
   "execution_count": 12,
   "metadata": {},
   "outputs": [],
   "source": [
    "data = data.withColumn('Census_ChassisTypeName', udf_ChassisTypeName('Census_ChassisTypeName'))"
   ]
  },
  {
   "cell_type": "code",
   "execution_count": 13,
   "metadata": {},
   "outputs": [
    {
     "name": "stdout",
     "output_type": "stream",
     "text": [
      "+----------------------+\n",
      "|Census_ChassisTypeName|\n",
      "+----------------------+\n",
      "|              AllinOne|\n",
      "|                Tablet|\n",
      "|     PeripheralChassis|\n",
      "|              Numerico|\n",
      "|            EmbeddedPC|\n",
      "|           SpaceSaving|\n",
      "|              HandHeld|\n",
      "|               StickPC|\n",
      "|           Convertible|\n",
      "|            SubChassis|\n",
      "|              Portable|\n",
      "|                MiniPC|\n",
      "|               UNKNOWN|\n",
      "|               Desktop|\n",
      "|     LowProfileDesktop|\n",
      "|          SealedCasePC|\n",
      "|      ExpansionChassis|\n",
      "|            Detachable|\n",
      "|      RackMountChassis|\n",
      "|           SubNotebook|\n",
      "|   BusExpansionChassis|\n",
      "|                  null|\n",
      "|              Notebook|\n",
      "|                Laptop|\n",
      "|                 Tower|\n",
      "|        BladeEnclosure|\n",
      "|            IoTGateway|\n",
      "|              LunchBox|\n",
      "|    MultisystemChassis|\n",
      "|        DockingStation|\n",
      "|            CompactPCI|\n",
      "|             MiniTower|\n",
      "|     MainServerChassis|\n",
      "|                 Blade|\n",
      "|              PizzaBox|\n",
      "+----------------------+\n",
      "\n"
     ]
    }
   ],
   "source": [
    "data.select('Census_ChassisTypeName').distinct().show(100)"
   ]
  },
  {
   "cell_type": "code",
   "execution_count": 10,
   "metadata": {},
   "outputs": [],
   "source": [
    "imputaciones = {'Census_ChassisTypeName': 'UNKNOWN'}"
   ]
  },
  {
   "cell_type": "code",
   "execution_count": 14,
   "metadata": {},
   "outputs": [],
   "source": [
    "frequency_census = data.groupBy('Census_OSBranch').count().withColumnRenamed('count','Census_OSBranch_freq')"
   ]
  },
  {
   "cell_type": "code",
   "execution_count": 15,
   "metadata": {
    "scrolled": false
   },
   "outputs": [
    {
     "name": "stdout",
     "output_type": "stream",
     "text": [
      "+-------------------------+--------------------+\n",
      "|Census_OSBranch          |Census_OSBranch_freq|\n",
      "+-------------------------+--------------------+\n",
      "|rs5_release_sigma        |67                  |\n",
      "|win7sp1_ldr              |18                  |\n",
      "|rs5_release_sign         |1                   |\n",
      "|th2_release_sec          |491437              |\n",
      "|rs5_release              |305932              |\n",
      "|rs_shell                 |2                   |\n",
      "|rs1_release_sec          |1                   |\n",
      "|rs4_release              |7988302             |\n",
      "|rs_prerelease_flt        |2956                |\n",
      "|rs_xbox                  |2                   |\n",
      "|win7sp1_gdr              |2                   |\n",
      "|rs3_release_svc_escrow   |1695788             |\n",
      "|win8_gdr                 |3                   |\n",
      "|rs1_release_inmarket     |3                   |\n",
      "|rs1_release_srvmedia     |12                  |\n",
      "|rs_onecore_base_cobalt   |1                   |\n",
      "|th1_st1                  |379561              |\n",
      "|winblue_ltsb             |10                  |\n",
      "|Khmer OS                 |1                   |\n",
      "|winblue_ltsb_escrow      |10                  |\n",
      "|rs_onecore_stack_per1    |1                   |\n",
      "|rs_onecore_sigma_dplat_d7|1                   |\n",
      "|win7sp1_ldr_escrow       |3                   |\n",
      "|rs_edge                  |1                   |\n",
      "|rs3_release_svc_escrow_im|10457               |\n",
      "|rs3_release_svc          |1                   |\n",
      "|rs2_release              |1423764             |\n",
      "|rs2_release_svc_d        |1                   |\n",
      "|rs5_release_sigma_dev    |3                   |\n",
      "|th1                      |142978              |\n",
      "|rs1_release              |1389453             |\n",
      "|rs_prerelease            |12281               |\n",
      "|rs5_release_edge         |2                   |\n",
      "|win8_ldr                 |1                   |\n",
      "|rsmaster                 |1                   |\n",
      "|rs_onecore_dep           |1                   |\n",
      "|th2_release              |566704              |\n",
      "|rs3_release              |2364969             |\n",
      "|rs1_release_svc          |1                   |\n",
      "|rs_onecore_sigma_grfx_dev|4                   |\n",
      "+-------------------------+--------------------+\n",
      "\n"
     ]
    }
   ],
   "source": [
    "# Pensar agrupaciones\n",
    "frequency_census.show(40, False)"
   ]
  },
  {
   "cell_type": "code",
   "execution_count": 16,
   "metadata": {},
   "outputs": [],
   "source": [
    "df_cat_freq_Census_OSEdition = data.groupBy('Census_OSEdition').count().withColumnRenamed('count', 'Census_OSEdition_freq')"
   ]
  },
  {
   "cell_type": "code",
   "execution_count": 17,
   "metadata": {
    "scrolled": true
   },
   "outputs": [
    {
     "name": "stdout",
     "output_type": "stream",
     "text": [
      "+---------------------------+---------------------+\n",
      "|Census_OSEdition           |Census_OSEdition_freq|\n",
      "+---------------------------+---------------------+\n",
      "|Home                       |6                    |\n",
      "|Window 10 Enterprise       |1                    |\n",
      "|CoreN                      |9478                 |\n",
      "|ProfessionalEducationN     |434                  |\n",
      "|ServerDatacenter           |38                   |\n",
      "|ServerDatacenterACor       |1                    |\n",
      "|Ultimate                   |17                   |\n",
      "|EducationN                 |1853                 |\n",
      "|ProfessionalCountrySpecific|8                    |\n",
      "|00426-OEM-8992662-00006    |1                    |\n",
      "|ServerDatacenterEval       |1402                 |\n",
      "|CoreCountrySpecific        |343596               |\n",
      "|CloudN                     |12                   |\n",
      "|Enterprise 2015 LTSB       |1                    |\n",
      "|EnterpriseN                |672                  |\n",
      "|Core                       |6243156              |\n",
      "|EnterpriseS                |40020                |\n",
      "|ProfessionalN              |60807                |\n",
      "|EnterpriseSN               |1482                 |\n",
      "|ProfessionalWorkstationN   |21                   |\n",
      "|professional               |1                    |\n",
      "|ProfessionalEducation      |111532               |\n",
      "|ServerSolution             |1303                 |\n",
      "|HomePremium                |3                    |\n",
      "|ProfessionalSingleLanguage |5                    |\n",
      "|Education                  |78614                |\n",
      "|Enterprise                 |69885                |\n",
      "|Pro                        |2                    |\n",
      "|ProfessionalWorkstation    |303                  |\n",
      "|HomeBasic                  |2                    |\n",
      "|Cloud                      |12379                |\n",
      "|#                          |1                    |\n",
      "|EnterpriseG                |1                    |\n",
      "|PRO                        |1                    |\n",
      "|null                       |5                    |\n",
      "|CoreSingleLanguage         |3542427              |\n",
      "|ServerStandardEval         |4538                 |\n",
      "|Professional               |6232522              |\n",
      "|ServerRdsh                 |28                   |\n",
      "|ServerStandard             |18178                |\n",
      "+---------------------------+---------------------+\n",
      "\n"
     ]
    }
   ],
   "source": [
    "df_cat_freq_Census_OSEdition.show(40, False)"
   ]
  },
  {
   "cell_type": "code",
   "execution_count": 21,
   "metadata": {},
   "outputs": [],
   "source": [
    "def transformaciones_OSEdition(x):\n",
    "    if x == '#':\n",
    "        return None\n",
    "    if x == '00426-OEM-8992662-00006':\n",
    "        return 'Ultimate'\n",
    "    elif x == 'HomePremium' or x == 'HomeBasic':\n",
    "        return 'Home'\n",
    "    elif x == 'Window 10 Enterprise' or x == 'Enterprise 2015 LTSB':\n",
    "        return 'Enterprise'\n",
    "    elif x == 'ServerDatacenterACor' or x == 'ServerDatacenterEval':\n",
    "        return 'ServerDatacenter'\n",
    "    elif x == 'ProfessionalSingleLanguage' or x == 'PRO' or x == 'Pro' or x == 'professional'\\\n",
    "    or x == 'ProfessionalCountrySpecific':\n",
    "        return 'Professional'\n",
    "    elif x == 'ProfessionalEducationN' or x == 'EducationN' or x == 'ProfessionalEducation':\n",
    "        return 'Education'\n",
    "    elif x == 'CloudN':\n",
    "        return 'Cloud'\n",
    "    else:\n",
    "        return x\n",
    "    \n",
    "udf_OSEdition = udf(lambda z: transformaciones_OSEdition(z), StringType())"
   ]
  },
  {
   "cell_type": "code",
   "execution_count": 22,
   "metadata": {},
   "outputs": [],
   "source": [
    "a = data.withColumn('Census_OSEdition', udf_OSEdition('Census_OSEdition'))"
   ]
  },
  {
   "cell_type": "code",
   "execution_count": 24,
   "metadata": {},
   "outputs": [
    {
     "name": "stdout",
     "output_type": "stream",
     "text": [
      "+------------------------+-------+\n",
      "|Census_OSEdition        |count  |\n",
      "+------------------------+-------+\n",
      "|Home                    |11     |\n",
      "|ServerDatacenter        |1441   |\n",
      "|CoreN                   |9478   |\n",
      "|Ultimate                |18     |\n",
      "|CoreCountrySpecific     |343596 |\n",
      "|EnterpriseN             |672    |\n",
      "|Core                    |6243156|\n",
      "|EnterpriseS             |40020  |\n",
      "|ProfessionalN           |60807  |\n",
      "|EnterpriseSN            |1482   |\n",
      "|ProfessionalWorkstationN|21     |\n",
      "|ServerSolution          |1303   |\n",
      "|Education               |192433 |\n",
      "|Enterprise              |69887  |\n",
      "|ProfessionalWorkstation |303    |\n",
      "|Cloud                   |12391  |\n",
      "|EnterpriseG             |1      |\n",
      "|null                    |6      |\n",
      "|CoreSingleLanguage      |3542427|\n",
      "|ServerStandardEval      |4538   |\n",
      "|Professional            |6232539|\n",
      "|ServerRdsh              |28     |\n",
      "|ServerStandard          |18178  |\n",
      "+------------------------+-------+\n",
      "\n"
     ]
    }
   ],
   "source": [
    "a.groupBy('Census_OSEdition').count().show(100, False)"
   ]
  },
  {
   "cell_type": "code",
   "execution_count": 20,
   "metadata": {},
   "outputs": [],
   "source": [
    "imputaciones['Census_OSEdition'] = 'Unknown'"
   ]
  },
  {
   "cell_type": "code",
   "execution_count": null,
   "metadata": {},
   "outputs": [],
   "source": []
  },
  {
   "cell_type": "code",
   "execution_count": 23,
   "metadata": {},
   "outputs": [],
   "source": [
    "frequency_Census_OSSkuName = data.groupBy('Census_OSSkuName').count().withColumnRenamed('count','Census_OSSkuName_freq')"
   ]
  },
  {
   "cell_type": "code",
   "execution_count": 25,
   "metadata": {},
   "outputs": [
    {
     "name": "stdout",
     "output_type": "stream",
     "text": [
      "+----------------------------+---------------------+\n",
      "|Census_OSSkuName            |Census_OSSkuName_freq|\n",
      "+----------------------------+---------------------+\n",
      "|ULTIMATE                    |18                   |\n",
      "|CORE_COUNTRYSPECIFIC        |343155               |\n",
      "|EDUCATION_N                 |1847                 |\n",
      "|PRO_CHINA                   |7                    |\n",
      "|UNLICENSED                  |30                   |\n",
      "|ENTERPRISEG                 |2                    |\n",
      "|PROFESSIONAL_N              |61215                |\n",
      "|DATACENTER_SERVER           |41                   |\n",
      "|ENTERPRISE_S_N              |1484                 |\n",
      "|ENTERPRISE                  |69737                |\n",
      "|PRO_WORKSTATION_N           |20                   |\n",
      "|CORE_SINGLELANGUAGE         |3541887              |\n",
      "|HOME_BASIC                  |1                    |\n",
      "|SB_SOLUTION_SERVER          |1304                 |\n",
      "|DATACENTER_EVALUATION_SERVER|1398                 |\n",
      "|PROFESSIONAL                |6345213              |\n",
      "|STANDARD_SERVER             |18173                |\n",
      "|HOME_PREMIUM                |1                    |\n",
      "|PRO_WORKSTATION             |295                  |\n",
      "|CORE                        |6242933              |\n",
      "|STANDARD_EVALUATION_SERVER  |4547                 |\n",
      "|ENTERPRISE_N                |688                  |\n",
      "|SERVERRDSH                  |28                   |\n",
      "|PRO_FOR_EDUCATION           |23                   |\n",
      "|CLOUD                       |12191                |\n",
      "|ENTERPRISE_S                |40025                |\n",
      "|EDUCATION                   |78979                |\n",
      "|CORE_N                      |9476                 |\n",
      "|PRO_SINGLE_LANGUAGE         |4                    |\n",
      "|CLOUDN                      |11                   |\n",
      "|UNDEFINED                   |2                    |\n",
      "|STARTER                     |1                    |\n",
      "+----------------------------+---------------------+\n",
      "\n"
     ]
    }
   ],
   "source": [
    "frequency_Census_OSSkuName.show(32, False)"
   ]
  },
  {
   "cell_type": "code",
   "execution_count": null,
   "metadata": {},
   "outputs": [],
   "source": []
  },
  {
   "cell_type": "code",
   "execution_count": 26,
   "metadata": {},
   "outputs": [],
   "source": [
    "frequency_Census_Census_FlightRing = data.groupBy('Census_FlightRing').count().withColumnRenamed('count','Census_FlightRing_freq')"
   ]
  },
  {
   "cell_type": "code",
   "execution_count": 28,
   "metadata": {},
   "outputs": [
    {
     "name": "stdout",
     "output_type": "stream",
     "text": [
      "+-----------------+----------------------+\n",
      "|Census_FlightRing|Census_FlightRing_freq|\n",
      "+-----------------+----------------------+\n",
      "|              OSG|                    11|\n",
      "|          Unknown|                444681|\n",
      "|           Canary|                     5|\n",
      "|           Retail|              15696448|\n",
      "|          Invalid|                     2|\n",
      "|         Disabled|                  7101|\n",
      "|              WIF|                 20435|\n",
      "|              WIS|                 20663|\n",
      "|               RP|                 26769|\n",
      "|         CBCanary|                     1|\n",
      "|          NOT_SET|                558620|\n",
      "+-----------------+----------------------+\n",
      "\n"
     ]
    }
   ],
   "source": [
    "frequency_Census_Census_FlightRing.show()"
   ]
  },
  {
   "cell_type": "code",
   "execution_count": null,
   "metadata": {},
   "outputs": [],
   "source": []
  },
  {
   "cell_type": "code",
   "execution_count": 32,
   "metadata": {},
   "outputs": [],
   "source": [
    "df_cat_freq_SmartScreen = data.groupBy('SmartScreen').count().withColumnRenamed('count', 'SmartScreen_freq')"
   ]
  },
  {
   "cell_type": "code",
   "execution_count": 34,
   "metadata": {},
   "outputs": [
    {
     "name": "stdout",
     "output_type": "stream",
     "text": [
      "+-------------+----------------+\n",
      "|SmartScreen  |SmartScreen_freq|\n",
      "+-------------+----------------+\n",
      "|&#x01;       |602             |\n",
      "|OFF          |11              |\n",
      "|Block        |43774           |\n",
      "|0            |6               |\n",
      "|00000000     |1               |\n",
      "|&#x02;       |820             |\n",
      "|requireadmin |20              |\n",
      "|ON           |1               |\n",
      "|Promt        |2               |\n",
      "|RequiredAdmin|1               |\n",
      "|Enabled      |1               |\n",
      "|of           |1               |\n",
      "|BLOCK        |1               |\n",
      "|Prompt       |63422           |\n",
      "|on           |280             |\n",
      "|&#x03;       |1               |\n",
      "|Off          |347924          |\n",
      "|RequireAdmin |7729743         |\n",
      "|off          |3133            |\n",
      "|null         |6675413         |\n",
      "|ExistsNotSet |1646629         |\n",
      "|requireAdmin |1               |\n",
      "|warn         |2               |\n",
      "|On           |1536            |\n",
      "|Warn         |261408          |\n",
      "|prompt       |1               |\n",
      "|Deny         |1               |\n",
      "|Promprt      |1               |\n",
      "+-------------+----------------+\n",
      "\n"
     ]
    }
   ],
   "source": [
    "df_cat_freq_SmartScreen.show(28, False)"
   ]
  },
  {
   "cell_type": "code",
   "execution_count": null,
   "metadata": {},
   "outputs": [],
   "source": [
    "data = data.withColumn('SmartScreen', when(col('SmartScreen') == '&#x01;'), None)\\\n",
    ".otherwise(col('SmartScreen')))"
   ]
  },
  {
   "cell_type": "code",
   "execution_count": 52,
   "metadata": {},
   "outputs": [],
   "source": [
    "def transformaciones_SmartScreen(x):\n",
    "    if x == '&#x01;' or x == '0' or x == '00000000' or x == '&#x02;' or x == '&#x03;':\n",
    "        return None\n",
    "    elif x == 'Block':\n",
    "        return 'BLOCK'\n",
    "    elif x == 'requireadmin' or x == 'RequireAdmin' or x == 'requireAdmin':\n",
    "        return 'RequiredAdmin'\n",
    "    elif x == 'Promt' or x == 'prompt' or x == 'Promprt':\n",
    "        return 'Prompt'\n",
    "    elif x == 'of' or x == 'Off' or x == 'off':\n",
    "        return 'OFF'\n",
    "    elif x == 'on' or x == 'On' or x == 'Enabled':\n",
    "        return 'ON'\n",
    "    elif x == 'warn':\n",
    "        return 'Warn'\n",
    "    else:\n",
    "        return x\n",
    "    \n",
    "udf_SmartScreen = udf(lambda z: transformaciones_SmartScreen(z), StringType())"
   ]
  },
  {
   "cell_type": "code",
   "execution_count": 55,
   "metadata": {},
   "outputs": [],
   "source": [
    "data = data.withColumn('SmartScreen', udf_SmartScreen('SmartScreen'))"
   ]
  },
  {
   "cell_type": "code",
   "execution_count": 56,
   "metadata": {},
   "outputs": [
    {
     "name": "stdout",
     "output_type": "stream",
     "text": [
      "+-------------+\n",
      "|  SmartScreen|\n",
      "+-------------+\n",
      "|          OFF|\n",
      "|           ON|\n",
      "|RequiredAdmin|\n",
      "|        BLOCK|\n",
      "|       Prompt|\n",
      "|         null|\n",
      "| ExistsNotSet|\n",
      "|         Warn|\n",
      "|         Deny|\n",
      "+-------------+\n",
      "\n"
     ]
    }
   ],
   "source": [
    "data.select('SmartScreen').distinct().show()"
   ]
  },
  {
   "cell_type": "code",
   "execution_count": 58,
   "metadata": {
    "scrolled": true
   },
   "outputs": [
    {
     "name": "stdout",
     "output_type": "stream",
     "text": [
      "+--------------------+----------------------+--------------------------+--------------------+--------------------+--------------------+-----------------+--------+-------------+---------------------+\n",
      "|   MachineIdentifier|Census_ChassisTypeName|Census_InternalBatteryType|     Census_OSBranch|    Census_OSEdition|    Census_OSSkuName|Census_FlightRing|   OsVer|  SmartScreen|Census_MDC2FormFactor|\n",
      "+--------------------+----------------------+--------------------------+--------------------+--------------------+--------------------+-----------------+--------+-------------+---------------------+\n",
      "|5344f3df517376797...|              Notebook|                      null|         rs4_release|  CoreSingleLanguage| CORE_SINGLELANGUAGE|           Retail|10.0.0.0|         null|             Notebook|\n",
      "|5344f5da09650da47...|              Notebook|                      li-i|         th2_release|                Core|                CORE|           Retail|10.0.0.0|RequiredAdmin|             Notebook|\n",
      "|5344fab725abad6c3...|               Desktop|                      null|         rs2_release|        Professional|        PROFESSIONAL|           Retail|10.0.0.0| ExistsNotSet|              Desktop|\n",
      "|5344fbd47e4e539c0...|              Notebook|                      li-i|         rs4_release|                Core|                CORE|          Unknown|10.0.0.0|RequiredAdmin|             Notebook|\n",
      "|5344fdfae5951a8ac...|              Portable|                      null|         rs2_release|        Professional|        PROFESSIONAL|           Retail|10.0.0.0|         null|             Notebook|\n",
      "|5345001b054c778cc...|              Notebook|                      null|         rs3_release|  CoreSingleLanguage| CORE_SINGLELANGUAGE|           Retail|10.0.0.0|         null|          Convertible|\n",
      "|534500a1e32cb2cc8...|                Laptop|                      null|         rs4_release|        Professional|        PROFESSIONAL|           Retail|10.0.0.0|         null|             Notebook|\n",
      "|534500f5ca39374f6...|              Notebook|                      null|         rs3_release|        Professional|        PROFESSIONAL|           Retail|10.0.0.0|         null|             Notebook|\n",
      "|534507022faa94a23...|              Notebook|                      null|         rs1_release|                Core|                CORE|           Retail| 6.3.0.0| ExistsNotSet|             Notebook|\n",
      "|53450a4a1e8973e91...|               Desktop|                      null|         rs4_release|        Professional|        PROFESSIONAL|          Unknown|10.0.0.0|         null|              Desktop|\n",
      "|53450d78143513758...|               Desktop|                      null|         rs4_release| CoreCountrySpecific|CORE_COUNTRYSPECIFIC|           Retail|10.0.0.0|RequiredAdmin|              Desktop|\n",
      "|53450ea8fa2ace94a...|               Desktop|                      null|         rs4_release|  CoreSingleLanguage| CORE_SINGLELANGUAGE|           Retail|10.0.0.0|         null|              Desktop|\n",
      "|53451000759950edb...|              Notebook|                      null|         rs4_release|                Core|                CORE|           Retail|10.0.0.0|         null|           Detachable|\n",
      "|53451094d4f9cb15b...|              Notebook|                      null|         rs4_release|           Education|           EDUCATION|           Retail|10.0.0.0|         null|             Notebook|\n",
      "|534513a7ef1ff884a...|              Notebook|                      lion|         rs4_release|        Professional|        PROFESSIONAL|           Retail|10.0.0.0|RequiredAdmin|             Notebook|\n",
      "|534518acf96282da7...|              Notebook|                      null|         rs2_release|                Core|                CORE|           Retail|10.0.0.0|RequiredAdmin|             Notebook|\n",
      "|53451a998abff1ba7...|              Notebook|                      lion|             th1_st1|  CoreSingleLanguage| CORE_SINGLELANGUAGE|          NOT_SET|10.0.0.0| ExistsNotSet|             Notebook|\n",
      "|53451b57affc994b7...|           SpaceSaving|                      null|         rs4_release|        Professional|        PROFESSIONAL|           Retail|10.0.0.0|RequiredAdmin|              Desktop|\n",
      "|53451efaab672727c...|              AllinOne|                      null|         rs4_release|                Core|                CORE|           Retail|10.0.0.0|         null|             AllInOne|\n",
      "|534520c5ec2715cbc...|              Notebook|                      null|         rs3_release|                Core|                CORE|           Retail|10.0.0.0|RequiredAdmin|             Notebook|\n",
      "|534521f62787464bb...|              Notebook|                      null|         rs4_release|  CoreSingleLanguage| CORE_SINGLELANGUAGE|           Retail|10.0.0.0|         null|             Notebook|\n",
      "|5345260d106f3dc17...|               Desktop|                         #|         rs4_release|        Professional|        PROFESSIONAL|           Retail|10.0.0.0|RequiredAdmin|              Desktop|\n",
      "|53452658968faa51e...|              Notebook|                      null|         rs1_release|  CoreSingleLanguage| CORE_SINGLELANGUAGE|           Retail|10.0.0.0|          OFF|             Notebook|\n",
      "|5345278cd07568822...|               Desktop|                      null|         rs4_release|        Professional|        PROFESSIONAL|           Retail|10.0.0.0|         null|              Desktop|\n",
      "|534527ce908555c0b...|              Notebook|                      lion|         rs4_release|  CoreSingleLanguage| CORE_SINGLELANGUAGE|           Retail|10.0.0.0| ExistsNotSet|             Notebook|\n",
      "|5345286b96c8f0456...|              Notebook|                      null|rs3_release_svc_e...|  CoreSingleLanguage| CORE_SINGLELANGUAGE|           Retail|10.0.0.0|         null|             Notebook|\n",
      "|534528e1019254ef6...|              Notebook|                      null|         rs3_release|                Core|                CORE|           Retail|10.0.0.0|         null|              PCOther|\n",
      "|5345347fddf6844d7...|              Portable|                      null|         rs4_release|        Professional|        PROFESSIONAL|           Retail|10.0.0.0| ExistsNotSet|             Notebook|\n",
      "|534535129fef8af2b...|     LowProfileDesktop|                      null|         rs2_release|        Professional|        PROFESSIONAL|           Retail|10.0.0.0|         null|              Desktop|\n",
      "|5345373d1b2865f84...|              Notebook|                      null|         rs2_release|                Core|                CORE|           Retail|10.0.0.0|         null|             Notebook|\n",
      "|5345378b80654de01...|               Desktop|                      null|         rs4_release|        Professional|        PROFESSIONAL|           Retail|10.0.0.0|         null|              Desktop|\n",
      "|53453a4381830a5b8...|              Notebook|                      lion|rs3_release_svc_e...|ProfessionalEduca...|        PROFESSIONAL|           Retail|10.0.0.0|RequiredAdmin|             Notebook|\n",
      "|53453b785774ee398...|              Notebook|                      null|         rs1_release|                Core|                CORE|           Retail|10.0.0.0|RequiredAdmin|             Notebook|\n",
      "|53453e597a69e4abb...|               Desktop|                      null|         rs3_release|        Professional|        PROFESSIONAL|           Retail|10.0.0.0|RequiredAdmin|              Desktop|\n",
      "|534543c8301984f85...|              Notebook|                      null|         rs4_release|  CoreSingleLanguage| CORE_SINGLELANGUAGE|           Retail|10.0.0.0|         null|             Notebook|\n",
      "|5345464c72381953b...|               Desktop|                      null|         rs3_release|        Professional|        PROFESSIONAL|           Retail|10.0.0.0|         null|              Desktop|\n",
      "|534548772cf6adb78...|              Notebook|                      null|         rs4_release|                Core|                CORE|           Retail|10.0.0.0|         Warn|          Convertible|\n",
      "|53454aece086911af...|                Laptop|                      null|         rs4_release|  CoreSingleLanguage| CORE_SINGLELANGUAGE|           Retail|10.0.0.0|         null|           Detachable|\n",
      "|53454bfab402406a4...|              Notebook|                      null|         rs4_release|                Core|                CORE|           Retail|10.0.0.0|         null|             Notebook|\n",
      "|53454ceb451eb8d72...|               Desktop|                      null|         rs3_release|        Professional|        PROFESSIONAL|           Retail|10.0.0.0|RequiredAdmin|              Desktop|\n",
      "|53454dd710176b51f...|               Desktop|                      null|         rs4_release|                Core|                CORE|           Retail|10.0.0.0|          OFF|              Desktop|\n",
      "|53454ff2d27946375...|              Notebook|                      lion|         rs4_release|        Professional|        PROFESSIONAL|           Retail|10.0.0.0|          OFF|             Notebook|\n",
      "|53455549cc72b4ddc...|              Notebook|                      null|         rs3_release|                Core|                CORE|           Retail|10.0.0.0|         null|             Notebook|\n",
      "|534555dfa7f84519e...|              Notebook|                      null|         rs4_release|                Core|                CORE|           Retail|10.0.0.0|RequiredAdmin|             Notebook|\n",
      "|5345566725cd3d652...|               Desktop|                      null|         rs4_release|        Professional|        PROFESSIONAL|           Retail|10.0.0.0|         null|              PCOther|\n",
      "|5345568c25b4fe399...|              Notebook|                      null|rs3_release_svc_e...|                Core|                CORE|           Retail|10.0.0.0| ExistsNotSet|             Notebook|\n",
      "|53455719912f143ca...|              Notebook|                        li|         th2_release|        Professional|        PROFESSIONAL|           Retail| 6.1.1.0|         null|             Notebook|\n",
      "|534557ecdf3c34c19...|               Desktop|                      null|         rs4_release|        Professional|        PROFESSIONAL|          NOT_SET|10.0.0.0|         null|              Desktop|\n",
      "|534557f4e4867a93d...|              Notebook|                      lion|         rs1_release|                Core|                CORE|           Retail|10.0.0.0|RequiredAdmin|             Notebook|\n",
      "|53455863d604f73b2...|              Notebook|                      null|rs3_release_svc_e...|  CoreSingleLanguage| CORE_SINGLELANGUAGE|           Retail|10.0.0.0|         null|             Notebook|\n",
      "+--------------------+----------------------+--------------------------+--------------------+--------------------+--------------------+-----------------+--------+-------------+---------------------+\n",
      "only showing top 50 rows\n",
      "\n"
     ]
    }
   ],
   "source": [
    "data.show(50)"
   ]
  },
  {
   "cell_type": "code",
   "execution_count": null,
   "metadata": {},
   "outputs": [],
   "source": [
    "imputaciones['SmartScreen'] = 'Unknown'"
   ]
  },
  {
   "cell_type": "code",
   "execution_count": null,
   "metadata": {},
   "outputs": [],
   "source": []
  },
  {
   "cell_type": "code",
   "execution_count": 59,
   "metadata": {},
   "outputs": [],
   "source": [
    "df_cat_freq_osver = data.groupBy('Census_MDC2FormFactor').count().withColumnRenamed('count', 'Census_MDC2FormFactor_freq')"
   ]
  },
  {
   "cell_type": "code",
   "execution_count": 61,
   "metadata": {},
   "outputs": [
    {
     "name": "stdout",
     "output_type": "stream",
     "text": [
      "+---------------------+--------------------------+\n",
      "|Census_MDC2FormFactor|Census_MDC2FormFactor_freq|\n",
      "+---------------------+--------------------------+\n",
      "|          SmallTablet|                     52491|\n",
      "|          ServerOther|                        53|\n",
      "|          Convertible|                    744141|\n",
      "|                Other|                         1|\n",
      "|              Desktop|                   3813472|\n",
      "|          LargeTablet|                    121325|\n",
      "|             IoTOther|                         2|\n",
      "|          LargeServer|                      1453|\n",
      "|           Detachable|                    544171|\n",
      "|             AllInOne|                    547632|\n",
      "|             Notebook|                  10652855|\n",
      "|              PCOther|                    275408|\n",
      "|         MediumServer|                      6169|\n",
      "|          SmallServer|                     15563|\n",
      "+---------------------+--------------------------+\n",
      "\n"
     ]
    }
   ],
   "source": [
    "df_cat_freq_osver.show()"
   ]
  },
  {
   "cell_type": "code",
   "execution_count": 62,
   "metadata": {},
   "outputs": [],
   "source": [
    "# informamos si es other\n",
    "data = data.withColumn('Census_MDC2FormFactor_other',\n",
    "                       when((col('Census_MDC2FormFactor') == 'Other') |\\\n",
    "                            (col('Census_MDC2FormFactor') == 'ServerOther') |\\\n",
    "                            (col('Census_MDC2FormFactor') == 'IoTOther') |\\\n",
    "                            (col('Census_MDC2FormFactor') == 'PCOther'), 1)\\\n",
    "                      .otherwise(0))"
   ]
  },
  {
   "cell_type": "code",
   "execution_count": null,
   "metadata": {},
   "outputs": [],
   "source": []
  },
  {
   "cell_type": "code",
   "execution_count": null,
   "metadata": {},
   "outputs": [],
   "source": []
  }
 ],
 "metadata": {
  "kernelspec": {
   "display_name": "Python 3",
   "language": "python",
   "name": "python3"
  },
  "language_info": {
   "codemirror_mode": {
    "name": "ipython",
    "version": 3
   },
   "file_extension": ".py",
   "mimetype": "text/x-python",
   "name": "python",
   "nbconvert_exporter": "python",
   "pygments_lexer": "ipython3",
   "version": "3.6.7"
  }
 },
 "nbformat": 4,
 "nbformat_minor": 2
}
