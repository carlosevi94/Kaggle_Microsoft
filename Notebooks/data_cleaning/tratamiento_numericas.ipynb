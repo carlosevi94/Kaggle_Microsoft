{
 "cells": [
  {
   "cell_type": "code",
   "execution_count": 1,
   "metadata": {},
   "outputs": [],
   "source": [
    "from pyspark.sql import SparkSession\n",
    "from pyspark.sql.types import (StructType, StructField, StringType,\n",
    "                               DoubleType, IntegerType, LongType)\n",
    "from pyspark.sql.functions import *\n",
    "from pyspark import SparkConf\n",
    "from pyspark import SparkContext\n",
    "import multiprocessing\n",
    "from pyspark.ml.feature import StringIndexer"
   ]
  },
  {
   "cell_type": "code",
   "execution_count": 2,
   "metadata": {},
   "outputs": [],
   "source": [
    "cores = multiprocessing.cpu_count()\n",
    "p = 10\n",
    "conf = SparkConf()\n",
    "conf.set(\"spark.driver.cores\", cores)\n",
    "conf.set(\"spark.driver.memory\", \"10g\")\n",
    "conf.set(\"spark.sql.shuffle.partitions\", p * cores)\n",
    "conf.set(\"spark.default.parallelism\", p * cores)\n",
    "sc = SparkContext(conf=conf)"
   ]
  },
  {
   "cell_type": "code",
   "execution_count": 3,
   "metadata": {},
   "outputs": [],
   "source": [
    "spark = SparkSession.builder.appName('a').getOrCreate()"
   ]
  },
  {
   "cell_type": "code",
   "execution_count": 4,
   "metadata": {},
   "outputs": [],
   "source": [
    "df_num = spark.read.csv('data/df_num/*.csv', header=True, inferSchema=True)"
   ]
  },
  {
   "cell_type": "code",
   "execution_count": 5,
   "metadata": {},
   "outputs": [
    {
     "data": {
      "text/plain": [
       "16774736"
      ]
     },
     "execution_count": 5,
     "metadata": {},
     "output_type": "execute_result"
    }
   ],
   "source": [
    "df_num.persist()\n",
    "df_num.count()"
   ]
  },
  {
   "cell_type": "code",
   "execution_count": 10,
   "metadata": {},
   "outputs": [],
   "source": [
    "init_cols = df_num.columns"
   ]
  },
  {
   "cell_type": "code",
   "execution_count": 57,
   "metadata": {},
   "outputs": [
    {
     "name": "stdout",
     "output_type": "stream",
     "text": [
      "Proporcion de 1s en el DF: 26.58099656531107 %\n"
     ]
    }
   ],
   "source": [
    "# proporcion de 1's en el dataset (~26.6% un poco desbalanceado)\n",
    "n_rows = df_num.count()\n",
    "n_1 = df_num.filter(col('HasDetections') == 1).count()\n",
    "print('Proporcion de 1s en el DF: {} %'.format(n_1/n_rows*100))"
   ]
  },
  {
   "cell_type": "code",
   "execution_count": 7,
   "metadata": {
    "scrolled": false
   },
   "outputs": [
    {
     "name": "stdout",
     "output_type": "stream",
     "text": [
      "+------+----------------+----------------+-------------------------+-------------------------+-------------------+-----------------+------+-----------------+--------------+----------------------+-----------------+---------------------------+-------+-------+-----------+---------------+-----+---------------+--------+------------+------------------------+-------------------------+-------------------------+--------------------------------------+-------------------------------+-------------------------------+--------------------------------+--------------------------+-----------------------+-------------------------------------------------+-------------------------------------------------+-----------------------------------------------+-------------------------------------+--------------------+----------------------+----------------------------------+---------------------------+--------------------------------+--------------------------+------------------------+---------------------+-------------------------------------+--------------------------------+--------------------------+-----------------------+----------------------+---------------------+-------------------+---------------------------------------+------------+---------------------+-------------+--------------------------------+\n",
      "|IsBeta|RtpStateBitfield|IsSxsPassiveMode|DefaultBrowsersIdentifier|AVProductStatesIdentifier|AVProductsInstalled|AVProductsEnabled|HasTpm|CountryIdentifier|CityIdentifier|OrganizationIdentifier|GeoNameIdentifier|LocaleEnglishNameIdentifier|OsBuild|OsSuite|IsProtected|AutoSampleOptIn|SMode|IeVerIdentifier|Firewall|UacLuaenable|Census_OEMNameIdentifier|Census_OEMModelIdentifier|Census_ProcessorCoreCount|Census_ProcessorManufacturerIdentifier|Census_ProcessorModelIdentifier|Census_PrimaryDiskTotalCapacity|Census_SystemVolumeTotalCapacity|Census_HasOpticalDiskDrive|Census_TotalPhysicalRAM|Census_InternalPrimaryDiagonalDisplaySizeInInches|Census_InternalPrimaryDisplayResolutionHorizontal|Census_InternalPrimaryDisplayResolutionVertical|Census_InternalBatteryNumberOfCharges|Census_OSBuildNumber|Census_OSBuildRevision|Census_OSInstallLanguageIdentifier|Census_OSUILocaleIdentifier|Census_IsPortableOperatingSystem|Census_IsFlightingInternal|Census_IsFlightsDisabled|Census_ThresholdOptIn|Census_FirmwareManufacturerIdentifier|Census_FirmwareVersionIdentifier|Census_IsSecureBootEnabled|Census_IsWIMBootEnabled|Census_IsVirtualDevice|Census_IsTouchEnabled|Census_IsPenCapable|Census_IsAlwaysOnAlwaysConnectedCapable|Wdft_IsGamer|Wdft_RegionIdentifier|HasDetections|MachineIdentifier               |\n",
      "+------+----------------+----------------+-------------------------+-------------------------+-------------------+-----------------+------+-----------------+--------------+----------------------+-----------------+---------------------------+-------+-------+-----------+---------------+-----+---------------+--------+------------+------------------------+-------------------------+-------------------------+--------------------------------------+-------------------------------+-------------------------------+--------------------------------+--------------------------+-----------------------+-------------------------------------------------+-------------------------------------------------+-----------------------------------------------+-------------------------------------+--------------------+----------------------+----------------------------------+---------------------------+--------------------------------+--------------------------+------------------------+---------------------+-------------------------------------+--------------------------------+--------------------------+-----------------------+----------------------+---------------------+-------------------+---------------------------------------+------------+---------------------+-------------+--------------------------------+\n",
      "|0     |7               |0               |null                     |53447                    |1                  |1                |1     |118              |156810        |null                  |150              |74                         |17134  |768    |1          |0              |0    |137            |1       |1           |2102                    |241876                   |4                        |5                                     |2382                           |244198                         |227447                          |0                         |8192                   |15.5                                             |1366                                             |768                                            |0                                    |17134               |285                   |7                                 |30                         |0                               |null                      |0                       |null                 |554                                  |33137                           |1                         |null                   |0                     |0                    |0                  |0                                      |0           |3                    |0            |59aafa3c8ea3b9bcc6cb3d1224e84822|\n",
      "|0     |7               |0               |null                     |53447                    |1                  |1                |1     |66               |1294          |27                    |89               |88                         |17134  |768    |1          |0              |0    |137            |1       |1           |639                     |188338                   |4                        |5                                     |2604                           |953869                         |943106                          |0                         |8192                   |22.0                                             |1680                                             |1050                                           |4294967295                           |17134               |228                   |14                                |49                         |0                               |null                      |0                       |null                 |134                                  |20107                           |0                         |null                   |0                     |0                    |0                  |0                                      |null        |null                 |1            |59aafd50276333fa8e8486a91542d931|\n",
      "|0     |7               |0               |null                     |53447                    |1                  |1                |1     |202              |27227         |27                    |264              |73                         |16299  |768    |1          |0              |0    |111            |1       |1           |525                     |331261                   |2                        |5                                     |1984                           |476940                         |190776                          |0                         |4096                   |15.5                                             |1366                                             |768                                            |0                                    |16299               |248                   |8                                 |31                         |0                               |null                      |0                       |0                    |142                                  |70176                           |1                         |0                      |0                     |0                    |0                  |0                                      |0           |10                   |0            |59aafdcedb3e6696fa831d337234db0b|\n",
      "|0     |7               |0               |null                     |53447                    |1                  |1                |1     |51               |79455         |27                    |98               |103                        |17134  |256    |1          |0              |0    |137            |1       |1           |2206                    |230219                   |4                        |5                                     |2640                           |228936                         |227521                          |0                         |4096                   |15.5                                             |1366                                             |768                                            |0                                    |17134               |167                   |5                                 |26                         |0                               |null                      |0                       |null                 |554                                  |33070                           |0                         |null                   |0                     |0                    |0                  |0                                      |0           |6                    |0            |59aafe73684d3ee955b61d9a6bdbc28e|\n",
      "|0     |7               |0               |null                     |53447                    |1                  |1                |1     |89               |66953         |27                    |120              |262                        |14393  |768    |1          |0              |0    |98             |1       |1           |2668                    |171222                   |4                        |5                                     |1848                           |29820                          |28542                           |0                         |2048                   |12.9                                             |1366                                             |768                                            |324                                  |14393               |2214                  |8                                 |31                         |0                               |null                      |0                       |0                    |628                                  |31699                           |1                         |0                      |0                     |0                    |0                  |1                                      |1           |1                    |1            |59ab002d808affe67fda7f405e3e3271|\n",
      "|0     |7               |0               |2987                     |7945                     |2                  |1                |1     |51               |31706         |46                    |98               |103                        |9600   |768    |1          |0              |null |333            |1       |1           |2206                    |199987                   |2                        |5                                     |1985                           |476940                         |453434                          |0                         |4096                   |15.5                                             |1366                                             |768                                            |0                                    |10586               |589                   |5                                 |26                         |0                               |0                         |0                       |0                    |554                                  |33105                           |1                         |0                      |0                     |0                    |0                  |0                                      |0           |6                    |0            |59ab066cfd799635f6c9a0a4c8c1677a|\n",
      "|0     |7               |0               |null                     |53447                    |1                  |1                |1     |12               |71177         |27                    |15               |58                         |17134  |768    |1          |0              |0    |137            |1       |1           |4730                    |311200                   |4                        |5                                     |2503                           |476940                         |462505                          |0                         |4096                   |15.5                                             |1366                                             |768                                            |0                                    |17134               |165                   |8                                 |31                         |0                               |null                      |0                       |null                 |556                                  |7271                            |0                         |null                   |0                     |1                    |0                  |0                                      |0           |2                    |0            |59ab0867bae393c6966de1d94263d06a|\n",
      "|0     |7               |0               |null                     |53447                    |1                  |1                |1     |122              |71132         |27                    |89               |88                         |17134  |256    |1          |0              |0    |137            |1       |1           |2206                    |234435                   |4                        |5                                     |2447                           |238475                         |116917                          |0                         |8192                   |23.8                                             |1680                                             |1050                                           |4294967295                           |17134               |285                   |14                                |49                         |0                               |null                      |0                       |null                 |500                                  |16834                           |0                         |null                   |0                     |0                    |0                  |0                                      |0           |11                   |1            |59ab0a3726e3d307f9ee4e9e1a434f58|\n",
      "|0     |7               |0               |null                     |53447                    |1                  |1                |1     |9                |84001         |18                    |10               |214                        |16299  |768    |1          |0              |0    |111            |1       |1           |2102                    |242491                   |2                        |5                                     |1992                           |476940                         |455997                          |0                         |2048                   |14.0                                             |1366                                             |768                                            |0                                    |16299               |309                   |9                                 |34                         |0                               |null                      |0                       |null                 |554                                  |33075                           |1                         |null                   |0                     |0                    |0                  |0                                      |0           |10                   |1            |59ab0ab1c1063bbeb7182661e3220eb5|\n",
      "|0     |7               |0               |1926                     |7945                     |2                  |1                |1     |141              |92213         |18                    |167              |227                        |14393  |256    |1          |0              |null |98             |1       |1           |2206                    |293458                   |1                        |1                                     |638                            |305245                         |119116                          |0                         |2048                   |14.0                                             |1366                                             |768                                            |0                                    |14393               |2189                  |9                                 |34                         |0                               |0                         |0                       |0                    |500                                  |32994                           |0                         |0                      |0                     |0                    |0                  |0                                      |0           |10                   |0            |59ab12685d1c3e3c0a361573ff29a852|\n",
      "+------+----------------+----------------+-------------------------+-------------------------+-------------------+-----------------+------+-----------------+--------------+----------------------+-----------------+---------------------------+-------+-------+-----------+---------------+-----+---------------+--------+------------+------------------------+-------------------------+-------------------------+--------------------------------------+-------------------------------+-------------------------------+--------------------------------+--------------------------+-----------------------+-------------------------------------------------+-------------------------------------------------+-----------------------------------------------+-------------------------------------+--------------------+----------------------+----------------------------------+---------------------------+--------------------------------+--------------------------+------------------------+---------------------+-------------------------------------+--------------------------------+--------------------------+-----------------------+----------------------+---------------------+-------------------+---------------------------------------+------------+---------------------+-------------+--------------------------------+\n",
      "only showing top 10 rows\n",
      "\n"
     ]
    }
   ],
   "source": [
    "df_num.show(10, False)"
   ]
  },
  {
   "cell_type": "code",
   "execution_count": 9,
   "metadata": {
    "scrolled": false
   },
   "outputs": [
    {
     "name": "stdout",
     "output_type": "stream",
     "text": [
      "+-------+--------------------+------------------+-------------------+-------------------------+-------------------------+-------------------+------------------+-------------------+------------------+------------------+----------------------+------------------+---------------------------+------------------+------------------+-------------------+--------------------+--------------------+------------------+-------------------+------------------+------------------------+-------------------------+-------------------------+--------------------------------------+-------------------------------+-------------------------------+--------------------------------+--------------------------+-----------------------+-------------------------------------------------+-------------------------------------------------+-----------------------------------------------+-------------------------------------+--------------------+----------------------+----------------------------------+---------------------------+--------------------------------+--------------------------+------------------------+---------------------+-------------------------------------+--------------------------------+--------------------------+-----------------------+----------------------+---------------------+--------------------+---------------------------------------+------------------+---------------------+-------------------+--------------------+\n",
      "|summary|              IsBeta|  RtpStateBitfield|   IsSxsPassiveMode|DefaultBrowsersIdentifier|AVProductStatesIdentifier|AVProductsInstalled| AVProductsEnabled|             HasTpm| CountryIdentifier|    CityIdentifier|OrganizationIdentifier| GeoNameIdentifier|LocaleEnglishNameIdentifier|           OsBuild|           OsSuite|        IsProtected|     AutoSampleOptIn|               SMode|   IeVerIdentifier|           Firewall|      UacLuaenable|Census_OEMNameIdentifier|Census_OEMModelIdentifier|Census_ProcessorCoreCount|Census_ProcessorManufacturerIdentifier|Census_ProcessorModelIdentifier|Census_PrimaryDiskTotalCapacity|Census_SystemVolumeTotalCapacity|Census_HasOpticalDiskDrive|Census_TotalPhysicalRAM|Census_InternalPrimaryDiagonalDisplaySizeInInches|Census_InternalPrimaryDisplayResolutionHorizontal|Census_InternalPrimaryDisplayResolutionVertical|Census_InternalBatteryNumberOfCharges|Census_OSBuildNumber|Census_OSBuildRevision|Census_OSInstallLanguageIdentifier|Census_OSUILocaleIdentifier|Census_IsPortableOperatingSystem|Census_IsFlightingInternal|Census_IsFlightsDisabled|Census_ThresholdOptIn|Census_FirmwareManufacturerIdentifier|Census_FirmwareVersionIdentifier|Census_IsSecureBootEnabled|Census_IsWIMBootEnabled|Census_IsVirtualDevice|Census_IsTouchEnabled| Census_IsPenCapable|Census_IsAlwaysOnAlwaysConnectedCapable|      Wdft_IsGamer|Wdft_RegionIdentifier|      HasDetections|   MachineIdentifier|\n",
      "+-------+--------------------+------------------+-------------------+-------------------------+-------------------------+-------------------+------------------+-------------------+------------------+------------------+----------------------+------------------+---------------------------+------------------+------------------+-------------------+--------------------+--------------------+------------------+-------------------+------------------+------------------------+-------------------------+-------------------------+--------------------------------------+-------------------------------+-------------------------------+--------------------------------+--------------------------+-----------------------+-------------------------------------------------+-------------------------------------------------+-----------------------------------------------+-------------------------------------+--------------------+----------------------+----------------------------------+---------------------------+--------------------------------+--------------------------+------------------------+---------------------+-------------------------------------+--------------------------------+--------------------------+-----------------------+----------------------+---------------------+--------------------+---------------------------------------+------------------+---------------------+-------------------+--------------------+\n",
      "|  count|            16774736|          16710196|           16774736|                   740557|                 16714748|           16714748|          16714748|           16774736|          16774736|          16257365|              11541089|          16774376|                   16774736|          16774736|          16774736|           16715043|            16774736|            10405705|          16666046|           16624914|          16756033|                16589712|                 16576568|                 16672153|                              16672142|                       16672079|                       16647019|                        16647044|                  16774736|               16599152|                                         16684992|                                         16685239|                                       16685239|                             16266748|            16774736|              16774736|                          16655909|                   16774736|                        16774736|                   2692015|                16488412|              5577896|                             16392845|                        16436979|                  16774736|                5592326|              16741492|             16774736|            16774736|                               16613241|          16168428|             16168428|            8921483|            16774736|\n",
      "|   mean|6.736320619293203...| 6.848561082108193|0.01664759433471859|       1635.8635891632919|        48594.02434275408| 1.3018054475006144|1.0196956005558684| 0.9897245476769351|108.70427808819167| 81241.19984093364|    24.905776742558697|170.49666044209334|         122.57745910278409|15812.039869181846|  564.290768868136|  0.945209952496084|2.503765185931987...|9.898416301442334E-4| 127.5298551318051| 0.9786738746438026| 92.27955871177862|      2226.3928968748824|       239868.97071341908|        4.041478386144849|                     4.531373113304817|             2377.4389974999517|             2267425.1874466534|               368166.0630451268|       0.07272519817897581|      6177.818706401387|                                16.75300146382644|                               1552.0663273088267|                              900.4065863245951|                 1.1664936514289064E9|  15912.924614074404|     993.4465450305745|                14.875570405674047|          61.63803162088512|            5.638240744891604E-4|      1.262994448396461...|    7.641730446813192E-6| 2.631816728027916E-4|                    399.9797857540897|              32864.882241256135|       0.46979493447765736|   3.576329419994471E-7|  0.007605295872076395|  0.12214785377248262|0.038011686145164966|                   0.056047943926173106|0.2901749632060705|     7.79833036334763|0.49979269141688665|            Infinity|\n",
      "| stddev|0.002595433613647...|1.0183299830475645|0.12794707074991812|        1020.460864538659|          13258.519103746| 0.5092183566110052|0.1618716618725153|0.10084576346521602|63.117173227177965|48974.753041140546|     5.735510959195554| 89.26884913276336|          69.43524055806259|  2163.42497676335|250.60208654076112|0.22756999208315634|0.005003701276840263| 0.03144617526380934|41.432382367327236|0.14446910738602042|237356.35716379705|      1317.1567244854798|        71785.66679805824|       2.1621340752014735|                    1.2869645812497288|               837.164163072632|           3.6125433418320384E9|               323815.7457990013|       0.25968490088742596|        5372.1937300415|                                5.982086838434288|                                372.7600679803058|                             215.97681073157187|                 1.9103255477110262E9|  1964.1607732354057|    2961.7455666278347|                10.365825853092323|          45.75865763889137|               0.023738285753077|      0.003553841535583957|    0.002764357522866...| 0.016220741517589392|                   221.75815490758484|              21179.404003365107|        0.4990868349954423|   5.980241450382905E-4|   0.08687609451165461|  0.32745650395659615| 0.19122447552925798|                    0.23001429323506095|0.4538429978237683|    4.541285163594736|0.49999998504539656|                 NaN|\n",
      "|    min|                   0|                 0|                  0|                        1|                        2|                  0|                 0|                  0|                 1|                 1|                     1|                 1|                          1|              7600|                16|                  0|                   0|                   0|                 1|                  0|                 0|                       1|                        1|                        1|                                     1|                              1|                              0|                               0|                         0|                    255|                                              0.7|                                               -1|                                             -1|                                    0|                7600|                     0|                                 1|                          1|                               0|                         0|                       0|                    0|                                    1|                               3|                         0|                      0|                     0|                    0|                   0|                                      0|                 0|                    1|                  0|0000010489e3af074...|\n",
      "|    max|                   1|                40|                  1|                     3214|                    70507|                  7|                 5|                  1|               222|            167962|                    52|               296|                        283|             18289|               784|                  1|                   1|                   1|               429|                  1|         808482864|                    6145|                   345499|                      224|                                    10|                           4479|                  8160436745562|                        95374810|                         1|                6238464|                                            213.8|                                            15360|                                           8640|                           4294967295|               18289|                 41736|                                39|                        162|                               1|                         1|                       1|                    1|                                 1092|                           72111|                         1|                      1|                     1|                    1|                   1|                                      1|                 1|                   15|                  1|ffffff75ba4f33d93...|\n",
      "+-------+--------------------+------------------+-------------------+-------------------------+-------------------------+-------------------+------------------+-------------------+------------------+------------------+----------------------+------------------+---------------------------+------------------+------------------+-------------------+--------------------+--------------------+------------------+-------------------+------------------+------------------------+-------------------------+-------------------------+--------------------------------------+-------------------------------+-------------------------------+--------------------------------+--------------------------+-----------------------+-------------------------------------------------+-------------------------------------------------+-----------------------------------------------+-------------------------------------+--------------------+----------------------+----------------------------------+---------------------------+--------------------------------+--------------------------+------------------------+---------------------+-------------------------------------+--------------------------------+--------------------------+-----------------------+----------------------+---------------------+--------------------+---------------------------------------+------------------+---------------------+-------------------+--------------------+\n",
      "\n"
     ]
    }
   ],
   "source": [
    "df_num.describe().show()"
   ]
  },
  {
   "cell_type": "code",
   "execution_count": 9,
   "metadata": {},
   "outputs": [],
   "source": [
    "n_nulls = df_num.select([count(when(isnan(c) | col(c).isNull(), c)).alias(c) for c in df_num.columns]).collect()"
   ]
  },
  {
   "cell_type": "code",
   "execution_count": 12,
   "metadata": {},
   "outputs": [
    {
     "data": {
      "text/plain": [
       "[Row(IsBeta=0, RtpStateBitfield=64540, IsSxsPassiveMode=0, DefaultBrowsersIdentifier=16034179, AVProductStatesIdentifier=59988, AVProductsInstalled=59988, AVProductsEnabled=59988, HasTpm=0, CountryIdentifier=0, CityIdentifier=517371, OrganizationIdentifier=5233647, GeoNameIdentifier=360, LocaleEnglishNameIdentifier=0, OsBuild=0, OsSuite=0, IsProtected=59693, AutoSampleOptIn=0, SMode=6369031, IeVerIdentifier=108690, Firewall=149822, UacLuaenable=18703, Census_OEMNameIdentifier=185024, Census_OEMModelIdentifier=198168, Census_ProcessorCoreCount=102583, Census_ProcessorManufacturerIdentifier=102594, Census_ProcessorModelIdentifier=102657, Census_PrimaryDiskTotalCapacity=127717, Census_SystemVolumeTotalCapacity=127692, Census_HasOpticalDiskDrive=0, Census_TotalPhysicalRAM=175584, Census_InternalPrimaryDiagonalDisplaySizeInInches=89744, Census_InternalPrimaryDisplayResolutionHorizontal=89497, Census_InternalPrimaryDisplayResolutionVertical=89497, Census_InternalBatteryNumberOfCharges=507988, Census_OSBuildNumber=0, Census_OSBuildRevision=0, Census_OSInstallLanguageIdentifier=118827, Census_OSUILocaleIdentifier=0, Census_IsPortableOperatingSystem=0, Census_IsFlightingInternal=14082721, Census_IsFlightsDisabled=286324, Census_ThresholdOptIn=11196840, Census_FirmwareManufacturerIdentifier=381891, Census_FirmwareVersionIdentifier=337757, Census_IsSecureBootEnabled=0, Census_IsWIMBootEnabled=11182410, Census_IsVirtualDevice=33244, Census_IsTouchEnabled=0, Census_IsPenCapable=0, Census_IsAlwaysOnAlwaysConnectedCapable=161495, Wdft_IsGamer=606308, Wdft_RegionIdentifier=606308, HasDetections=7853253, MachineIdentifier=0)]"
      ]
     },
     "execution_count": 12,
     "metadata": {},
     "output_type": "execute_result"
    }
   ],
   "source": [
    "n_nulls"
   ]
  },
  {
   "cell_type": "code",
   "execution_count": 16,
   "metadata": {},
   "outputs": [
    {
     "data": {
      "text/plain": [
       "0"
      ]
     },
     "execution_count": 16,
     "metadata": {},
     "output_type": "execute_result"
    }
   ],
   "source": [
    "n_nulls[0]['IsBeta']"
   ]
  },
  {
   "cell_type": "code",
   "execution_count": 18,
   "metadata": {},
   "outputs": [],
   "source": [
    "dict_nulls = dict()\n",
    "for col in init_cols:\n",
    "    if n_nulls[0][col] != 0:\n",
    "        dict_nulls[col] = n_nulls[0][col]"
   ]
  },
  {
   "cell_type": "code",
   "execution_count": 20,
   "metadata": {},
   "outputs": [
    {
     "data": {
      "text/plain": [
       "{'RtpStateBitfield': 64540,\n",
       " 'DefaultBrowsersIdentifier': 16034179,\n",
       " 'AVProductStatesIdentifier': 59988,\n",
       " 'AVProductsInstalled': 59988,\n",
       " 'AVProductsEnabled': 59988,\n",
       " 'CityIdentifier': 517371,\n",
       " 'OrganizationIdentifier': 5233647,\n",
       " 'GeoNameIdentifier': 360,\n",
       " 'IsProtected': 59693,\n",
       " 'SMode': 6369031,\n",
       " 'IeVerIdentifier': 108690,\n",
       " 'Firewall': 149822,\n",
       " 'UacLuaenable': 18703,\n",
       " 'Census_OEMNameIdentifier': 185024,\n",
       " 'Census_OEMModelIdentifier': 198168,\n",
       " 'Census_ProcessorCoreCount': 102583,\n",
       " 'Census_ProcessorManufacturerIdentifier': 102594,\n",
       " 'Census_ProcessorModelIdentifier': 102657,\n",
       " 'Census_PrimaryDiskTotalCapacity': 127717,\n",
       " 'Census_SystemVolumeTotalCapacity': 127692,\n",
       " 'Census_TotalPhysicalRAM': 175584,\n",
       " 'Census_InternalPrimaryDiagonalDisplaySizeInInches': 89744,\n",
       " 'Census_InternalPrimaryDisplayResolutionHorizontal': 89497,\n",
       " 'Census_InternalPrimaryDisplayResolutionVertical': 89497,\n",
       " 'Census_InternalBatteryNumberOfCharges': 507988,\n",
       " 'Census_OSInstallLanguageIdentifier': 118827,\n",
       " 'Census_IsFlightingInternal': 14082721,\n",
       " 'Census_IsFlightsDisabled': 286324,\n",
       " 'Census_ThresholdOptIn': 11196840,\n",
       " 'Census_FirmwareManufacturerIdentifier': 381891,\n",
       " 'Census_FirmwareVersionIdentifier': 337757,\n",
       " 'Census_IsWIMBootEnabled': 11182410,\n",
       " 'Census_IsVirtualDevice': 33244,\n",
       " 'Census_IsAlwaysOnAlwaysConnectedCapable': 161495,\n",
       " 'Wdft_IsGamer': 606308,\n",
       " 'Wdft_RegionIdentifier': 606308,\n",
       " 'HasDetections': 7853253}"
      ]
     },
     "execution_count": 20,
     "metadata": {},
     "output_type": "execute_result"
    }
   ],
   "source": [
    "'''\n",
    "Se observa que hay muchas columnas con un alto numero de nulls\n",
    "Otras tienen un numero de nulls bajos\n",
    "Tambien que hay agrupaciones, por ejemplo las columnas \"AVP\" tienen el mismo numero de nulls\n",
    "por tanto nos da una pista de que ese NULL significa algo.\n",
    "\n",
    "La estrategia sera imputar estos valores para añadir mas informacion al DF.\n",
    "'''\n",
    "\n",
    "dict_nulls"
   ]
  },
  {
   "cell_type": "code",
   "execution_count": 23,
   "metadata": {},
   "outputs": [],
   "source": [
    "mediana_GeoNameIdentifier = df_num.approxQuantile(\"GeoNameIdentifier\", [0.5], 0.25)[0]"
   ]
  },
  {
   "cell_type": "code",
   "execution_count": 24,
   "metadata": {},
   "outputs": [
    {
     "data": {
      "text/plain": [
       "295.0"
      ]
     },
     "execution_count": 24,
     "metadata": {},
     "output_type": "execute_result"
    }
   ],
   "source": [
    "mediana_GeoNameIdentifier"
   ]
  },
  {
   "cell_type": "code",
   "execution_count": 36,
   "metadata": {},
   "outputs": [
    {
     "data": {
      "text/plain": [
       "6.848561082108193"
      ]
     },
     "execution_count": 36,
     "metadata": {},
     "output_type": "execute_result"
    }
   ],
   "source": [
    "media_RtpStateBitfield = df_num.agg(avg(\"RtpStateBitfield\")).collect()[0][0]\n",
    "media_RtpStateBitfield"
   ]
  },
  {
   "cell_type": "code",
   "execution_count": 87,
   "metadata": {},
   "outputs": [
    {
     "name": "stdout",
     "output_type": "stream",
     "text": [
      "+--------------------------+--------------------------+\n",
      "|min(Wdft_RegionIdentifier)|max(Wdft_RegionIdentifier)|\n",
      "+--------------------------+--------------------------+\n",
      "|                         1|                        15|\n",
      "+--------------------------+--------------------------+\n",
      "\n"
     ]
    }
   ],
   "source": [
    "columna = 'Wdft_RegionIdentifier'\n",
    "df_num.agg(min(columna),\n",
    "          max(columna)).show()"
   ]
  },
  {
   "cell_type": "code",
   "execution_count": 88,
   "metadata": {},
   "outputs": [],
   "source": [
    "imputaciones = \\\n",
    "{'RtpStateBitfield': media_RtpStateBitfield, # tiene STDDEV = 1 por lo que la media puede resultar\n",
    " 'DefaultBrowsersIdentifier': 0, # el 0 no existe, lo metemos en esta categoria\n",
    " 'AVProductStatesIdentifier': 1, # el minimo es 2, metemos los null en el 1\n",
    " 'AVProductsInstalled': 8, # el maximo es 8\n",
    " 'AVProductsEnabled': 6, # el maximo es 5\n",
    " 'CityIdentifier': -99,\n",
    " 'OrganizationIdentifier': -99,\n",
    " 'GeoNameIdentifier': mediana_GeoNameIdentifier, # Al ser pocos casos, le meteremos la mediana\n",
    " 'IsProtected': 2, # es 1 o 0, lo metemos en 2 (unknown)\n",
    " 'SMode': 2, # igual\n",
    " 'IeVerIdentifier': -99,\n",
    " 'Firewall': 2,\n",
    " 'UacLuaenable': -99,\n",
    " 'Census_OEMNameIdentifier': 0,\n",
    " 'Census_OEMModelIdentifier': 0,\n",
    " 'Census_ProcessorCoreCount': -99,\n",
    " 'Census_ProcessorManufacturerIdentifier': 0,\n",
    " 'Census_ProcessorModelIdentifier': 0,\n",
    " 'Census_PrimaryDiskTotalCapacity': -99,\n",
    " 'Census_SystemVolumeTotalCapacity': -99,\n",
    " 'Census_TotalPhysicalRAM': -99,\n",
    " 'Census_InternalPrimaryDiagonalDisplaySizeInInches': -99,\n",
    " 'Census_InternalPrimaryDisplayResolutionHorizontal': -99,\n",
    " 'Census_InternalPrimaryDisplayResolutionVertical': -99,\n",
    " 'Census_InternalBatteryNumberOfCharges': -99,\n",
    " 'Census_OSInstallLanguageIdentifier': 0,\n",
    " 'Census_IsFlightingInternal': 2,\n",
    " 'Census_IsFlightsDisabled': 2,\n",
    " 'Census_ThresholdOptIn': 2,\n",
    " 'Census_FirmwareManufacturerIdentifier': 0,\n",
    " 'Census_FirmwareVersionIdentifier': 0,\n",
    " 'Census_IsWIMBootEnabled': 2,\n",
    " 'Census_IsVirtualDevice': 2,\n",
    " 'Census_IsAlwaysOnAlwaysConnectedCapable': 2,\n",
    " 'Wdft_IsGamer': 2,\n",
    " 'Wdft_RegionIdentifier': 0}"
   ]
  },
  {
   "cell_type": "code",
   "execution_count": 90,
   "metadata": {},
   "outputs": [],
   "source": [
    "# FILL NA\n",
    "# df.fillna(0, subset=['a', 'b'])\n",
    "df_imputado = df_num.fillna(imputaciones)"
   ]
  },
  {
   "cell_type": "code",
   "execution_count": 91,
   "metadata": {},
   "outputs": [
    {
     "name": "stdout",
     "output_type": "stream",
     "text": [
      "+------+----------------+----------------+-------------------------+-------------------------+-------------------+-----------------+------+-----------------+--------------+----------------------+-----------------+---------------------------+-------+-------+-----------+---------------+-----+---------------+--------+------------+------------------------+-------------------------+-------------------------+--------------------------------------+-------------------------------+-------------------------------+--------------------------------+--------------------------+-----------------------+-------------------------------------------------+-------------------------------------------------+-----------------------------------------------+-------------------------------------+--------------------+----------------------+----------------------------------+---------------------------+--------------------------------+--------------------------+------------------------+---------------------+-------------------------------------+--------------------------------+--------------------------+-----------------------+----------------------+---------------------+-------------------+---------------------------------------+------------+---------------------+-------------+--------------------+\n",
      "|IsBeta|RtpStateBitfield|IsSxsPassiveMode|DefaultBrowsersIdentifier|AVProductStatesIdentifier|AVProductsInstalled|AVProductsEnabled|HasTpm|CountryIdentifier|CityIdentifier|OrganizationIdentifier|GeoNameIdentifier|LocaleEnglishNameIdentifier|OsBuild|OsSuite|IsProtected|AutoSampleOptIn|SMode|IeVerIdentifier|Firewall|UacLuaenable|Census_OEMNameIdentifier|Census_OEMModelIdentifier|Census_ProcessorCoreCount|Census_ProcessorManufacturerIdentifier|Census_ProcessorModelIdentifier|Census_PrimaryDiskTotalCapacity|Census_SystemVolumeTotalCapacity|Census_HasOpticalDiskDrive|Census_TotalPhysicalRAM|Census_InternalPrimaryDiagonalDisplaySizeInInches|Census_InternalPrimaryDisplayResolutionHorizontal|Census_InternalPrimaryDisplayResolutionVertical|Census_InternalBatteryNumberOfCharges|Census_OSBuildNumber|Census_OSBuildRevision|Census_OSInstallLanguageIdentifier|Census_OSUILocaleIdentifier|Census_IsPortableOperatingSystem|Census_IsFlightingInternal|Census_IsFlightsDisabled|Census_ThresholdOptIn|Census_FirmwareManufacturerIdentifier|Census_FirmwareVersionIdentifier|Census_IsSecureBootEnabled|Census_IsWIMBootEnabled|Census_IsVirtualDevice|Census_IsTouchEnabled|Census_IsPenCapable|Census_IsAlwaysOnAlwaysConnectedCapable|Wdft_IsGamer|Wdft_RegionIdentifier|HasDetections|   MachineIdentifier|\n",
      "+------+----------------+----------------+-------------------------+-------------------------+-------------------+-----------------+------+-----------------+--------------+----------------------+-----------------+---------------------------+-------+-------+-----------+---------------+-----+---------------+--------+------------+------------------------+-------------------------+-------------------------+--------------------------------------+-------------------------------+-------------------------------+--------------------------------+--------------------------+-----------------------+-------------------------------------------------+-------------------------------------------------+-----------------------------------------------+-------------------------------------+--------------------+----------------------+----------------------------------+---------------------------+--------------------------------+--------------------------+------------------------+---------------------+-------------------------------------+--------------------------------+--------------------------+-----------------------+----------------------+---------------------+-------------------+---------------------------------------+------------+---------------------+-------------+--------------------+\n",
      "|     0|               7|               0|                        0|                    53447|                  1|                1|     1|              118|        156810|                   -99|              150|                         74|  17134|    768|          1|              0|    0|            137|       1|           1|                    2102|                   241876|                        4|                                     5|                           2382|                         244198|                          227447|                         0|                   8192|                                             15.5|                                             1366|                                            768|                                    0|               17134|                   285|                                 7|                         30|                               0|                         2|                       0|                    2|                                  554|                           33137|                         1|                      2|                     0|                    0|                  0|                                      0|           0|                    3|            0|59aafa3c8ea3b9bcc...|\n",
      "|     0|               7|               0|                        0|                    53447|                  1|                1|     1|               66|          1294|                    27|               89|                         88|  17134|    768|          1|              0|    0|            137|       1|           1|                     639|                   188338|                        4|                                     5|                           2604|                         953869|                          943106|                         0|                   8192|                                             22.0|                                             1680|                                           1050|                           4294967295|               17134|                   228|                                14|                         49|                               0|                         2|                       0|                    2|                                  134|                           20107|                         0|                      2|                     0|                    0|                  0|                                      0|           2|                    0|            1|59aafd50276333fa8...|\n",
      "|     0|               7|               0|                        0|                    53447|                  1|                1|     1|              202|         27227|                    27|              264|                         73|  16299|    768|          1|              0|    0|            111|       1|           1|                     525|                   331261|                        2|                                     5|                           1984|                         476940|                          190776|                         0|                   4096|                                             15.5|                                             1366|                                            768|                                    0|               16299|                   248|                                 8|                         31|                               0|                         2|                       0|                    0|                                  142|                           70176|                         1|                      0|                     0|                    0|                  0|                                      0|           0|                   10|            0|59aafdcedb3e6696f...|\n",
      "|     0|               7|               0|                        0|                    53447|                  1|                1|     1|               51|         79455|                    27|               98|                        103|  17134|    256|          1|              0|    0|            137|       1|           1|                    2206|                   230219|                        4|                                     5|                           2640|                         228936|                          227521|                         0|                   4096|                                             15.5|                                             1366|                                            768|                                    0|               17134|                   167|                                 5|                         26|                               0|                         2|                       0|                    2|                                  554|                           33070|                         0|                      2|                     0|                    0|                  0|                                      0|           0|                    6|            0|59aafe73684d3ee95...|\n",
      "+------+----------------+----------------+-------------------------+-------------------------+-------------------+-----------------+------+-----------------+--------------+----------------------+-----------------+---------------------------+-------+-------+-----------+---------------+-----+---------------+--------+------------+------------------------+-------------------------+-------------------------+--------------------------------------+-------------------------------+-------------------------------+--------------------------------+--------------------------+-----------------------+-------------------------------------------------+-------------------------------------------------+-----------------------------------------------+-------------------------------------+--------------------+----------------------+----------------------------------+---------------------------+--------------------------------+--------------------------+------------------------+---------------------+-------------------------------------+--------------------------------+--------------------------+-----------------------+----------------------+---------------------+-------------------+---------------------------------------+------------+---------------------+-------------+--------------------+\n",
      "only showing top 4 rows\n",
      "\n"
     ]
    }
   ],
   "source": [
    "df_imputado.show(4)"
   ]
  },
  {
   "cell_type": "code",
   "execution_count": 92,
   "metadata": {},
   "outputs": [],
   "source": [
    "# Contemos los numeros de nulls ahora\n",
    "n_nulls_2 = df_imputado.select([count(when(isnan(c) | col(c).isNull(), c)).alias(c) for c in df_imputado.columns]).collect()"
   ]
  },
  {
   "cell_type": "code",
   "execution_count": 94,
   "metadata": {},
   "outputs": [
    {
     "name": "stdout",
     "output_type": "stream",
     "text": [
      "La columna HasDetections aun tiene nulls\n"
     ]
    }
   ],
   "source": [
    "# Solo queda el target\n",
    "for c in init_cols:\n",
    "    if n_nulls_2[0][c] != 0:\n",
    "        print('La columna {} aun tiene nulls'.format(c))"
   ]
  },
  {
   "cell_type": "code",
   "execution_count": null,
   "metadata": {},
   "outputs": [],
   "source": []
  }
 ],
 "metadata": {
  "kernelspec": {
   "display_name": "Python 3",
   "language": "python",
   "name": "python3"
  },
  "language_info": {
   "codemirror_mode": {
    "name": "ipython",
    "version": 3
   },
   "file_extension": ".py",
   "mimetype": "text/x-python",
   "name": "python",
   "nbconvert_exporter": "python",
   "pygments_lexer": "ipython3",
   "version": "3.6.7"
  }
 },
 "nbformat": 4,
 "nbformat_minor": 2
}
