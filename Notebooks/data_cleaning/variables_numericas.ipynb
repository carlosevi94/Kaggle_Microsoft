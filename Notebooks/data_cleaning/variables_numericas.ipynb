{
 "cells": [
  {
   "cell_type": "code",
   "execution_count": 1,
   "metadata": {},
   "outputs": [
    {
     "name": "stdout",
     "output_type": "stream",
     "text": [
      "Inicio del Script\n",
      "\n"
     ]
    }
   ],
   "source": [
    "from pyspark.sql import SparkSession\n",
    "from pyspark.ml.feature import StringIndexer\n",
    "from pyspark.sql.types import (StructType, StructField, StringType,\n",
    "                               DoubleType, IntegerType, LongType)\n",
    "from pyspark.sql.functions import *\n",
    "from pyspark import SparkConf\n",
    "from pyspark import SparkContext\n",
    "import multiprocessing\n",
    "from pyspark.ml import Pipeline\n",
    "import sys\n",
    "\n",
    "print('Inicio del Script\\n')\n",
    "\n",
    "# Configuracion de memoria y cores\n",
    "cores = multiprocessing.cpu_count()\n",
    "p = 20\n",
    "particiones = cores * p\n",
    "conf = SparkConf()\n",
    "conf.set(\"spark.sql.shuffle.partitions\", particiones)\n",
    "conf.set(\"spark.default.parallelism\", particiones)\n",
    "sc = SparkContext(conf=conf)\n",
    "\n",
    "\n",
    "spark = SparkSession.builder.appName(\"Microsoft_Kaggle\").getOrCreate()"
   ]
  },
  {
   "cell_type": "code",
   "execution_count": 3,
   "metadata": {},
   "outputs": [],
   "source": [
    "df_num = spark.read.csv('../data/df_num/*.csv', header=True, inferSchema=True)"
   ]
  },
  {
   "cell_type": "code",
   "execution_count": 4,
   "metadata": {},
   "outputs": [
    {
     "name": "stdout",
     "output_type": "stream",
     "text": [
      "+------+----------------+----------------+-------------------------+-------------------------+-------------------+-----------------+------+-----------------+--------------+----------------------+-----------------+---------------------------+-------+-------+-----------+---------------+-----+---------------+--------+------------+------------------------+-------------------------+-------------------------+--------------------------------------+-------------------------------+-------------------------------+--------------------------------+--------------------------+-----------------------+-------------------------------------------------+-------------------------------------------------+-----------------------------------------------+-------------------------------------+--------------------+----------------------+----------------------------------+---------------------------+--------------------------------+--------------------------+------------------------+---------------------+-------------------------------------+--------------------------------+--------------------------+-----------------------+----------------------+---------------------+-------------------+---------------------------------------+------------+---------------------+-------------+--------------------------------+\n",
      "|IsBeta|RtpStateBitfield|IsSxsPassiveMode|DefaultBrowsersIdentifier|AVProductStatesIdentifier|AVProductsInstalled|AVProductsEnabled|HasTpm|CountryIdentifier|CityIdentifier|OrganizationIdentifier|GeoNameIdentifier|LocaleEnglishNameIdentifier|OsBuild|OsSuite|IsProtected|AutoSampleOptIn|SMode|IeVerIdentifier|Firewall|UacLuaenable|Census_OEMNameIdentifier|Census_OEMModelIdentifier|Census_ProcessorCoreCount|Census_ProcessorManufacturerIdentifier|Census_ProcessorModelIdentifier|Census_PrimaryDiskTotalCapacity|Census_SystemVolumeTotalCapacity|Census_HasOpticalDiskDrive|Census_TotalPhysicalRAM|Census_InternalPrimaryDiagonalDisplaySizeInInches|Census_InternalPrimaryDisplayResolutionHorizontal|Census_InternalPrimaryDisplayResolutionVertical|Census_InternalBatteryNumberOfCharges|Census_OSBuildNumber|Census_OSBuildRevision|Census_OSInstallLanguageIdentifier|Census_OSUILocaleIdentifier|Census_IsPortableOperatingSystem|Census_IsFlightingInternal|Census_IsFlightsDisabled|Census_ThresholdOptIn|Census_FirmwareManufacturerIdentifier|Census_FirmwareVersionIdentifier|Census_IsSecureBootEnabled|Census_IsWIMBootEnabled|Census_IsVirtualDevice|Census_IsTouchEnabled|Census_IsPenCapable|Census_IsAlwaysOnAlwaysConnectedCapable|Wdft_IsGamer|Wdft_RegionIdentifier|HasDetections|MachineIdentifier               |\n",
      "+------+----------------+----------------+-------------------------+-------------------------+-------------------+-----------------+------+-----------------+--------------+----------------------+-----------------+---------------------------+-------+-------+-----------+---------------+-----+---------------+--------+------------+------------------------+-------------------------+-------------------------+--------------------------------------+-------------------------------+-------------------------------+--------------------------------+--------------------------+-----------------------+-------------------------------------------------+-------------------------------------------------+-----------------------------------------------+-------------------------------------+--------------------+----------------------+----------------------------------+---------------------------+--------------------------------+--------------------------+------------------------+---------------------+-------------------------------------+--------------------------------+--------------------------+-----------------------+----------------------+---------------------+-------------------+---------------------------------------+------------+---------------------+-------------+--------------------------------+\n",
      "|0     |7               |0               |null                     |53447                    |1                  |1                |1     |118              |156810        |null                  |150              |74                         |17134  |768    |1          |0              |0    |137            |1       |1           |2102                    |241876                   |4                        |5                                     |2382                           |244198                         |227447                          |0                         |8192                   |15.5                                             |1366                                             |768                                            |0                                    |17134               |285                   |7                                 |30                         |0                               |null                      |0                       |null                 |554                                  |33137                           |1                         |null                   |0                     |0                    |0                  |0                                      |0           |3                    |0            |59aafa3c8ea3b9bcc6cb3d1224e84822|\n",
      "|0     |7               |0               |null                     |53447                    |1                  |1                |1     |66               |1294          |27                    |89               |88                         |17134  |768    |1          |0              |0    |137            |1       |1           |639                     |188338                   |4                        |5                                     |2604                           |953869                         |943106                          |0                         |8192                   |22.0                                             |1680                                             |1050                                           |4294967295                           |17134               |228                   |14                                |49                         |0                               |null                      |0                       |null                 |134                                  |20107                           |0                         |null                   |0                     |0                    |0                  |0                                      |null        |null                 |1            |59aafd50276333fa8e8486a91542d931|\n",
      "|0     |7               |0               |null                     |53447                    |1                  |1                |1     |202              |27227         |27                    |264              |73                         |16299  |768    |1          |0              |0    |111            |1       |1           |525                     |331261                   |2                        |5                                     |1984                           |476940                         |190776                          |0                         |4096                   |15.5                                             |1366                                             |768                                            |0                                    |16299               |248                   |8                                 |31                         |0                               |null                      |0                       |0                    |142                                  |70176                           |1                         |0                      |0                     |0                    |0                  |0                                      |0           |10                   |0            |59aafdcedb3e6696fa831d337234db0b|\n",
      "|0     |7               |0               |null                     |53447                    |1                  |1                |1     |51               |79455         |27                    |98               |103                        |17134  |256    |1          |0              |0    |137            |1       |1           |2206                    |230219                   |4                        |5                                     |2640                           |228936                         |227521                          |0                         |4096                   |15.5                                             |1366                                             |768                                            |0                                    |17134               |167                   |5                                 |26                         |0                               |null                      |0                       |null                 |554                                  |33070                           |0                         |null                   |0                     |0                    |0                  |0                                      |0           |6                    |0            |59aafe73684d3ee955b61d9a6bdbc28e|\n",
      "|0     |7               |0               |null                     |53447                    |1                  |1                |1     |89               |66953         |27                    |120              |262                        |14393  |768    |1          |0              |0    |98             |1       |1           |2668                    |171222                   |4                        |5                                     |1848                           |29820                          |28542                           |0                         |2048                   |12.9                                             |1366                                             |768                                            |324                                  |14393               |2214                  |8                                 |31                         |0                               |null                      |0                       |0                    |628                                  |31699                           |1                         |0                      |0                     |0                    |0                  |1                                      |1           |1                    |1            |59ab002d808affe67fda7f405e3e3271|\n",
      "+------+----------------+----------------+-------------------------+-------------------------+-------------------+-----------------+------+-----------------+--------------+----------------------+-----------------+---------------------------+-------+-------+-----------+---------------+-----+---------------+--------+------------+------------------------+-------------------------+-------------------------+--------------------------------------+-------------------------------+-------------------------------+--------------------------------+--------------------------+-----------------------+-------------------------------------------------+-------------------------------------------------+-----------------------------------------------+-------------------------------------+--------------------+----------------------+----------------------------------+---------------------------+--------------------------------+--------------------------+------------------------+---------------------+-------------------------------------+--------------------------------+--------------------------+-----------------------+----------------------+---------------------+-------------------+---------------------------------------+------------+---------------------+-------------+--------------------------------+\n",
      "only showing top 5 rows\n",
      "\n"
     ]
    }
   ],
   "source": [
    "df_num.show(5, False)"
   ]
  },
  {
   "cell_type": "code",
   "execution_count": 8,
   "metadata": {},
   "outputs": [
    {
     "name": "stdout",
     "output_type": "stream",
     "text": [
      "+----------------+--------+\n",
      "|RtpStateBitfield|   count|\n",
      "+----------------+--------+\n",
      "|               1|    3050|\n",
      "|            null|   64540|\n",
      "|              40|       1|\n",
      "|               7|16270542|\n",
      "|               0|  353232|\n",
      "|               3|    4950|\n",
      "|              35|      45|\n",
      "|               8|   45203|\n",
      "|               5|   33173|\n",
      "+----------------+--------+\n",
      "\n"
     ]
    }
   ],
   "source": [
    "df_num.groupBy('RtpStateBitfield').count().show()"
   ]
  },
  {
   "cell_type": "code",
   "execution_count": 9,
   "metadata": {},
   "outputs": [
    {
     "data": {
      "text/plain": [
       "6.848561082108193"
      ]
     },
     "execution_count": 9,
     "metadata": {},
     "output_type": "execute_result"
    }
   ],
   "source": [
    "media_RtpStateBitfield = df_num.agg(avg(\"RtpStateBitfield\")).collect()[0][0]\n",
    "media_RtpStateBitfield"
   ]
  },
  {
   "cell_type": "code",
   "execution_count": 11,
   "metadata": {},
   "outputs": [
    {
     "name": "stdout",
     "output_type": "stream",
     "text": [
      "+-----------------+-------+\n",
      "|GeoNameIdentifier|  count|\n",
      "+-----------------+-------+\n",
      "|              277|2939668|\n",
      "|              211| 885248|\n",
      "|               53| 873630|\n",
      "|               89| 664578|\n",
      "|               35| 643863|\n",
      "|              240| 643513|\n",
      "|              167| 635445|\n",
      "|              276| 536907|\n",
      "|              267| 427327|\n",
      "|              126| 368350|\n",
      "|              138| 334678|\n",
      "|              119| 333612|\n",
      "|               98| 329574|\n",
      "|              255| 287964|\n",
      "|              204| 282576|\n",
      "|               57| 272608|\n",
      "|              120| 258468|\n",
      "|               10| 247673|\n",
      "|               52| 239528|\n",
      "|              181| 215734|\n",
      "+-----------------+-------+\n",
      "only showing top 20 rows\n",
      "\n"
     ]
    }
   ],
   "source": [
    "df_num.groupBy('GeoNameIdentifier').count().sort(col(\"count\").desc()).show()"
   ]
  },
  {
   "cell_type": "code",
   "execution_count": 12,
   "metadata": {},
   "outputs": [
    {
     "data": {
      "text/plain": [
       "277"
      ]
     },
     "execution_count": 12,
     "metadata": {},
     "output_type": "execute_result"
    }
   ],
   "source": [
    "df_num.groupBy('GeoNameIdentifier').count().sort(col(\"count\").desc()).collect()[0][0]"
   ]
  },
  {
   "cell_type": "code",
   "execution_count": 13,
   "metadata": {},
   "outputs": [
    {
     "data": {
      "text/plain": [
       "296"
      ]
     },
     "execution_count": 13,
     "metadata": {},
     "output_type": "execute_result"
    }
   ],
   "source": [
    "df_num.select('GeoNameIdentifier').distinct().count()"
   ]
  },
  {
   "cell_type": "code",
   "execution_count": null,
   "metadata": {},
   "outputs": [],
   "source": []
  }
 ],
 "metadata": {
  "kernelspec": {
   "display_name": "Python 3",
   "language": "python",
   "name": "python3"
  },
  "language_info": {
   "codemirror_mode": {
    "name": "ipython",
    "version": 3
   },
   "file_extension": ".py",
   "mimetype": "text/x-python",
   "name": "python",
   "nbconvert_exporter": "python",
   "pygments_lexer": "ipython3",
   "version": "3.6.7"
  }
 },
 "nbformat": 4,
 "nbformat_minor": 2
}
