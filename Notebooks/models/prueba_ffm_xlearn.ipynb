{
 "cells": [
  {
   "cell_type": "code",
   "execution_count": 1,
   "metadata": {},
   "outputs": [],
   "source": [
    "import numpy as np\n",
    "import pandas as pd\n",
    "import os\n",
    "import gc\n",
    "from sklearn.model_selection import KFold\n",
    "from sklearn.model_selection import GridSearchCV\n",
    "from sklearn.model_selection import TimeSeriesSplit\n",
    "from sklearn.model_selection import StratifiedKFold\n",
    "from sklearn.model_selection import train_test_split\n",
    "from sklearn.metrics import roc_auc_score\n",
    "import xlearn as xl"
   ]
  },
  {
   "cell_type": "code",
   "execution_count": 4,
   "metadata": {},
   "outputs": [],
   "source": [
    "train = np.genfromtxt('../../data/train_final_1/part-00000-c14a1c5f-edd9-42e4-8c9b-a52d5c6e2cf2-c000.csv', delimiter=',',)"
   ]
  },
  {
   "cell_type": "code",
   "execution_count": 5,
   "metadata": {},
   "outputs": [
    {
     "data": {
      "text/plain": [
       "array([[nan, nan, nan, ..., nan, nan, nan],\n",
       "       [nan,  0.,  7., ...,  0.,  2.,  1.],\n",
       "       [nan,  0.,  7., ...,  0.,  4.,  5.],\n",
       "       ...,\n",
       "       [nan,  0.,  7., ...,  0.,  3.,  7.],\n",
       "       [nan,  0.,  7., ...,  0.,  2.,  7.],\n",
       "       [nan,  0.,  7., ...,  0.,  3.,  5.]])"
      ]
     },
     "execution_count": 5,
     "metadata": {},
     "output_type": "execute_result"
    }
   ],
   "source": [
    "train"
   ]
  },
  {
   "cell_type": "code",
   "execution_count": 3,
   "metadata": {},
   "outputs": [],
   "source": [
    "path= '../../data/train_final_1/*.csv'"
   ]
  },
  {
   "cell_type": "code",
   "execution_count": 2,
   "metadata": {},
   "outputs": [],
   "source": [
    "train = pd.read_csv('../../data/train_final_1/part-00000-c14a1c5f-edd9-42e4-8c9b-a52d5c6e2cf2-c000.csv')"
   ]
  },
  {
   "cell_type": "code",
   "execution_count": 3,
   "metadata": {},
   "outputs": [
    {
     "data": {
      "text/html": [
       "<div>\n",
       "<style scoped>\n",
       "    .dataframe tbody tr th:only-of-type {\n",
       "        vertical-align: middle;\n",
       "    }\n",
       "\n",
       "    .dataframe tbody tr th {\n",
       "        vertical-align: top;\n",
       "    }\n",
       "\n",
       "    .dataframe thead th {\n",
       "        text-align: right;\n",
       "    }\n",
       "</style>\n",
       "<table border=\"1\" class=\"dataframe\">\n",
       "  <thead>\n",
       "    <tr style=\"text-align: right;\">\n",
       "      <th></th>\n",
       "      <th>MachineIdentifier</th>\n",
       "      <th>IsBeta</th>\n",
       "      <th>RtpStateBitfield</th>\n",
       "      <th>IsSxsPassiveMode</th>\n",
       "      <th>DefaultBrowsersIdentifier</th>\n",
       "      <th>AVProductStatesIdentifier</th>\n",
       "      <th>AVProductsInstalled</th>\n",
       "      <th>AVProductsEnabled</th>\n",
       "      <th>HasTpm</th>\n",
       "      <th>CountryIdentifier</th>\n",
       "      <th>...</th>\n",
       "      <th>OsBuildLab_difftotal</th>\n",
       "      <th>DateAvSigVersion_difftotal</th>\n",
       "      <th>DateAvSigVersion_fulldifftotal</th>\n",
       "      <th>OsBuildLab_fulldifftotal</th>\n",
       "      <th>DateAvSigVersion_ratio</th>\n",
       "      <th>OsBuildLab_ratio</th>\n",
       "      <th>DateAvSigVersion_fullratio</th>\n",
       "      <th>OsBuildLab_fullratio</th>\n",
       "      <th>OsBuildLab_dayOfWeek</th>\n",
       "      <th>AvSigVersion_dayOfWeek</th>\n",
       "    </tr>\n",
       "  </thead>\n",
       "  <tbody>\n",
       "    <tr>\n",
       "      <th>0</th>\n",
       "      <td>00001a027a0ab970c408182df8484fce</td>\n",
       "      <td>0</td>\n",
       "      <td>7</td>\n",
       "      <td>0</td>\n",
       "      <td>0</td>\n",
       "      <td>53447</td>\n",
       "      <td>1</td>\n",
       "      <td>1</td>\n",
       "      <td>1</td>\n",
       "      <td>164</td>\n",
       "      <td>...</td>\n",
       "      <td>224</td>\n",
       "      <td>76</td>\n",
       "      <td>76</td>\n",
       "      <td>224</td>\n",
       "      <td>0.0</td>\n",
       "      <td>0.0</td>\n",
       "      <td>0.0</td>\n",
       "      <td>0.0</td>\n",
       "      <td>2</td>\n",
       "      <td>1</td>\n",
       "    </tr>\n",
       "    <tr>\n",
       "      <th>1</th>\n",
       "      <td>000039104d7f42c15fdc0d1bcb9d4b4a</td>\n",
       "      <td>0</td>\n",
       "      <td>7</td>\n",
       "      <td>0</td>\n",
       "      <td>1950</td>\n",
       "      <td>53447</td>\n",
       "      <td>1</td>\n",
       "      <td>1</td>\n",
       "      <td>1</td>\n",
       "      <td>43</td>\n",
       "      <td>...</td>\n",
       "      <td>418</td>\n",
       "      <td>93</td>\n",
       "      <td>93</td>\n",
       "      <td>418</td>\n",
       "      <td>0.0</td>\n",
       "      <td>0.0</td>\n",
       "      <td>0.0</td>\n",
       "      <td>0.0</td>\n",
       "      <td>4</td>\n",
       "      <td>5</td>\n",
       "    </tr>\n",
       "    <tr>\n",
       "      <th>2</th>\n",
       "      <td>0000422df51e713f82b98e04cb883cb5</td>\n",
       "      <td>0</td>\n",
       "      <td>7</td>\n",
       "      <td>0</td>\n",
       "      <td>0</td>\n",
       "      <td>53447</td>\n",
       "      <td>1</td>\n",
       "      <td>1</td>\n",
       "      <td>1</td>\n",
       "      <td>9</td>\n",
       "      <td>...</td>\n",
       "      <td>418</td>\n",
       "      <td>100</td>\n",
       "      <td>100</td>\n",
       "      <td>418</td>\n",
       "      <td>0.0</td>\n",
       "      <td>0.0</td>\n",
       "      <td>0.0</td>\n",
       "      <td>0.0</td>\n",
       "      <td>4</td>\n",
       "      <td>5</td>\n",
       "    </tr>\n",
       "    <tr>\n",
       "      <th>3</th>\n",
       "      <td>0000bae35fb1dbde97ae59e962f24557</td>\n",
       "      <td>0</td>\n",
       "      <td>7</td>\n",
       "      <td>0</td>\n",
       "      <td>0</td>\n",
       "      <td>53447</td>\n",
       "      <td>1</td>\n",
       "      <td>1</td>\n",
       "      <td>1</td>\n",
       "      <td>57</td>\n",
       "      <td>...</td>\n",
       "      <td>219</td>\n",
       "      <td>97</td>\n",
       "      <td>97</td>\n",
       "      <td>219</td>\n",
       "      <td>0.0</td>\n",
       "      <td>0.0</td>\n",
       "      <td>0.0</td>\n",
       "      <td>0.0</td>\n",
       "      <td>7</td>\n",
       "      <td>1</td>\n",
       "    </tr>\n",
       "    <tr>\n",
       "      <th>4</th>\n",
       "      <td>0000db2c81925a9ec8d83e40be5ac070</td>\n",
       "      <td>0</td>\n",
       "      <td>7</td>\n",
       "      <td>0</td>\n",
       "      <td>0</td>\n",
       "      <td>53447</td>\n",
       "      <td>1</td>\n",
       "      <td>1</td>\n",
       "      <td>1</td>\n",
       "      <td>142</td>\n",
       "      <td>...</td>\n",
       "      <td>224</td>\n",
       "      <td>106</td>\n",
       "      <td>106</td>\n",
       "      <td>224</td>\n",
       "      <td>0.0</td>\n",
       "      <td>0.0</td>\n",
       "      <td>0.0</td>\n",
       "      <td>0.0</td>\n",
       "      <td>2</td>\n",
       "      <td>6</td>\n",
       "    </tr>\n",
       "  </tbody>\n",
       "</table>\n",
       "<p>5 rows × 92 columns</p>\n",
       "</div>"
      ],
      "text/plain": [
       "                  MachineIdentifier  IsBeta  RtpStateBitfield  \\\n",
       "0  00001a027a0ab970c408182df8484fce       0                 7   \n",
       "1  000039104d7f42c15fdc0d1bcb9d4b4a       0                 7   \n",
       "2  0000422df51e713f82b98e04cb883cb5       0                 7   \n",
       "3  0000bae35fb1dbde97ae59e962f24557       0                 7   \n",
       "4  0000db2c81925a9ec8d83e40be5ac070       0                 7   \n",
       "\n",
       "   IsSxsPassiveMode  DefaultBrowsersIdentifier  AVProductStatesIdentifier  \\\n",
       "0                 0                          0                      53447   \n",
       "1                 0                       1950                      53447   \n",
       "2                 0                          0                      53447   \n",
       "3                 0                          0                      53447   \n",
       "4                 0                          0                      53447   \n",
       "\n",
       "   AVProductsInstalled  AVProductsEnabled  HasTpm  CountryIdentifier  ...  \\\n",
       "0                    1                  1       1                164  ...   \n",
       "1                    1                  1       1                 43  ...   \n",
       "2                    1                  1       1                  9  ...   \n",
       "3                    1                  1       1                 57  ...   \n",
       "4                    1                  1       1                142  ...   \n",
       "\n",
       "   OsBuildLab_difftotal  DateAvSigVersion_difftotal  \\\n",
       "0                   224                          76   \n",
       "1                   418                          93   \n",
       "2                   418                         100   \n",
       "3                   219                          97   \n",
       "4                   224                         106   \n",
       "\n",
       "   DateAvSigVersion_fulldifftotal  OsBuildLab_fulldifftotal  \\\n",
       "0                              76                       224   \n",
       "1                              93                       418   \n",
       "2                             100                       418   \n",
       "3                              97                       219   \n",
       "4                             106                       224   \n",
       "\n",
       "   DateAvSigVersion_ratio  OsBuildLab_ratio  DateAvSigVersion_fullratio  \\\n",
       "0                     0.0               0.0                         0.0   \n",
       "1                     0.0               0.0                         0.0   \n",
       "2                     0.0               0.0                         0.0   \n",
       "3                     0.0               0.0                         0.0   \n",
       "4                     0.0               0.0                         0.0   \n",
       "\n",
       "   OsBuildLab_fullratio  OsBuildLab_dayOfWeek  AvSigVersion_dayOfWeek  \n",
       "0                   0.0                     2                       1  \n",
       "1                   0.0                     4                       5  \n",
       "2                   0.0                     4                       5  \n",
       "3                   0.0                     7                       1  \n",
       "4                   0.0                     2                       6  \n",
       "\n",
       "[5 rows x 92 columns]"
      ]
     },
     "execution_count": 3,
     "metadata": {},
     "output_type": "execute_result"
    }
   ],
   "source": [
    "train.head()"
   ]
  },
  {
   "cell_type": "code",
   "execution_count": 4,
   "metadata": {},
   "outputs": [
    {
     "data": {
      "text/plain": [
       "(557684, 92)"
      ]
     },
     "execution_count": 4,
     "metadata": {},
     "output_type": "execute_result"
    }
   ],
   "source": [
    "train.shape"
   ]
  },
  {
   "cell_type": "code",
   "execution_count": 5,
   "metadata": {},
   "outputs": [],
   "source": [
    "sel_cols = [c for c in train.columns if c not in ['MachineIdentifier', 'HasDetections']]"
   ]
  },
  {
   "cell_type": "code",
   "execution_count": 6,
   "metadata": {},
   "outputs": [],
   "source": [
    "X_train = train[sel_cols]\n",
    "y_train = train['HasDetections']"
   ]
  },
  {
   "cell_type": "code",
   "execution_count": 7,
   "metadata": {},
   "outputs": [
    {
     "data": {
      "text/plain": [
       "5"
      ]
     },
     "execution_count": 7,
     "metadata": {},
     "output_type": "execute_result"
    }
   ],
   "source": [
    "train_ids = X_train.index\n",
    "skf = StratifiedKFold(n_splits=5, shuffle=True, random_state=42)\n",
    "skf.get_n_splits(train_ids, y_train)"
   ]
  },
  {
   "cell_type": "code",
   "execution_count": 8,
   "metadata": {},
   "outputs": [],
   "source": [
    "linear_model = xl.LRModel(task='binary', init=0.1,\n",
    "                          epoch=50, lr=0.2,\n",
    "                          reg_lambda=0.01, opt='sgd',\n",
    "                          metric='auc', nthread=8,\n",
    "                         stop_window=3)"
   ]
  },
  {
   "cell_type": "code",
   "execution_count": 9,
   "metadata": {},
   "outputs": [],
   "source": [
    "ffm_model = xl.FFMModel(task='binary', \n",
    "                        lr=0.2, \n",
    "                        epoch=10, \n",
    "                        reg_lambda=0.002,\n",
    "metric='auc')"
   ]
  },
  {
   "cell_type": "code",
   "execution_count": 18,
   "metadata": {},
   "outputs": [],
   "source": [
    "fm_model = xl.FMModel(task='binary', init=0.5, \n",
    "                      epoch=100, k=10, lr=0.1, \n",
    "                      reg_lambda=0.01, opt='sgd', nthread=8, fold=5, stop_window=10, metric='auc',\n",
    "                     block_size=10000)"
   ]
  },
  {
   "cell_type": "code",
   "execution_count": 19,
   "metadata": {},
   "outputs": [
    {
     "name": "stdout",
     "output_type": "stream",
     "text": [
      "Fold 1\n",
      "\n"
     ]
    },
    {
     "ename": "KeyboardInterrupt",
     "evalue": "",
     "output_type": "error",
     "traceback": [
      "\u001b[0;31m---------------------------------------------------------------------------\u001b[0m",
      "\u001b[0;31mKeyboardInterrupt\u001b[0m                         Traceback (most recent call last)",
      "\u001b[0;32m<ipython-input-19-eedd410935e4>\u001b[0m in \u001b[0;36m<module>\u001b[0;34m\u001b[0m\n\u001b[1;32m      8\u001b[0m \u001b[0;34m\u001b[0m\u001b[0m\n\u001b[1;32m      9\u001b[0m     fm_model.fit(X_fit, y_fit,\n\u001b[0;32m---> 10\u001b[0;31m                  eval_set=[X_val, y_val])\n\u001b[0m\u001b[1;32m     11\u001b[0m \u001b[0;34m\u001b[0m\u001b[0m\n\u001b[1;32m     12\u001b[0m     \u001b[0;32mdel\u001b[0m \u001b[0mX_fit\u001b[0m\u001b[0;34m,\u001b[0m \u001b[0mX_val\u001b[0m\u001b[0;34m,\u001b[0m \u001b[0my_fit\u001b[0m\u001b[0;34m,\u001b[0m \u001b[0my_val\u001b[0m\u001b[0;34m,\u001b[0m \u001b[0mtrain_index\u001b[0m\u001b[0;34m,\u001b[0m \u001b[0mtest_index\u001b[0m\u001b[0;34m\u001b[0m\u001b[0;34m\u001b[0m\u001b[0m\n",
      "\u001b[0;32m/usr/local/lib/python3.6/dist-packages/xlearn/_sklearn.py\u001b[0m in \u001b[0;36mfit\u001b[0;34m(self, X, y, fields, is_lock_free, is_instance_norm, eval_set, is_quiet)\u001b[0m\n\u001b[1;32m    270\u001b[0m \u001b[0;34m\u001b[0m\u001b[0m\n\u001b[1;32m    271\u001b[0m         \u001b[0;31m# fit model\u001b[0m\u001b[0;34m\u001b[0m\u001b[0;34m\u001b[0m\u001b[0;34m\u001b[0m\u001b[0m\n\u001b[0;32m--> 272\u001b[0;31m         \u001b[0mself\u001b[0m\u001b[0;34m.\u001b[0m\u001b[0m_XLearnModel\u001b[0m\u001b[0;34m.\u001b[0m\u001b[0mfit\u001b[0m\u001b[0;34m(\u001b[0m\u001b[0mparams\u001b[0m\u001b[0;34m,\u001b[0m \u001b[0mself\u001b[0m\u001b[0;34m.\u001b[0m\u001b[0m_temp_model_file\u001b[0m\u001b[0;34m.\u001b[0m\u001b[0mname\u001b[0m\u001b[0;34m)\u001b[0m\u001b[0;34m\u001b[0m\u001b[0;34m\u001b[0m\u001b[0m\n\u001b[0m\u001b[1;32m    273\u001b[0m \u001b[0;34m\u001b[0m\u001b[0m\n\u001b[1;32m    274\u001b[0m         \u001b[0;31m# acquire weights\u001b[0m\u001b[0;34m\u001b[0m\u001b[0;34m\u001b[0m\u001b[0;34m\u001b[0m\u001b[0m\n",
      "\u001b[0;32m/usr/local/lib/python3.6/dist-packages/xlearn/xlearn.py\u001b[0m in \u001b[0;36mfit\u001b[0;34m(self, param, model_path)\u001b[0m\n\u001b[1;32m    220\u001b[0m         \"\"\"\n\u001b[1;32m    221\u001b[0m         \u001b[0mself\u001b[0m\u001b[0;34m.\u001b[0m\u001b[0m_set_Param\u001b[0m\u001b[0;34m(\u001b[0m\u001b[0mparam\u001b[0m\u001b[0;34m)\u001b[0m\u001b[0;34m\u001b[0m\u001b[0;34m\u001b[0m\u001b[0m\n\u001b[0;32m--> 222\u001b[0;31m         \u001b[0m_check_call\u001b[0m\u001b[0;34m(\u001b[0m\u001b[0m_LIB\u001b[0m\u001b[0;34m.\u001b[0m\u001b[0mXLearnFit\u001b[0m\u001b[0;34m(\u001b[0m\u001b[0mctypes\u001b[0m\u001b[0;34m.\u001b[0m\u001b[0mbyref\u001b[0m\u001b[0;34m(\u001b[0m\u001b[0mself\u001b[0m\u001b[0;34m.\u001b[0m\u001b[0mhandle\u001b[0m\u001b[0;34m)\u001b[0m\u001b[0;34m,\u001b[0m \u001b[0mc_str\u001b[0m\u001b[0;34m(\u001b[0m\u001b[0mmodel_path\u001b[0m\u001b[0;34m)\u001b[0m\u001b[0;34m)\u001b[0m\u001b[0;34m)\u001b[0m\u001b[0;34m\u001b[0m\u001b[0;34m\u001b[0m\u001b[0m\n\u001b[0m\u001b[1;32m    223\u001b[0m \u001b[0;34m\u001b[0m\u001b[0m\n\u001b[1;32m    224\u001b[0m     \u001b[0;32mdef\u001b[0m \u001b[0mcv\u001b[0m\u001b[0;34m(\u001b[0m\u001b[0mself\u001b[0m\u001b[0;34m,\u001b[0m \u001b[0mparam\u001b[0m\u001b[0;34m)\u001b[0m\u001b[0;34m:\u001b[0m\u001b[0;34m\u001b[0m\u001b[0;34m\u001b[0m\u001b[0m\n",
      "\u001b[0;31mKeyboardInterrupt\u001b[0m: "
     ]
    }
   ],
   "source": [
    "counter = 0\n",
    "for train_index, test_index in skf.split(train_ids, y_train):\n",
    "    \n",
    "    print('Fold {}\\n'.format(counter + 1))\n",
    "    \n",
    "    X_fit, X_val = X_train.iloc[train_index, :], X_train.iloc[test_index, :]\n",
    "    y_fit, y_val = y_train.iloc[train_index], y_train.iloc[test_index]\n",
    "    \n",
    "    fm_model.fit(X_fit, y_fit,\n",
    "                 eval_set=[X_val, y_val])\n",
    "                  \n",
    "    del X_fit, X_val, y_fit, y_val, train_index, test_index\n",
    "    gc.collect()\n",
    "    \n",
    "    counter += 1"
   ]
  },
  {
   "cell_type": "code",
   "execution_count": 14,
   "metadata": {},
   "outputs": [
    {
     "data": {
      "text/plain": [
       "<bound method BaseXLearnModel.get_params of FMModel(alpha=1, beta=1, block_size=500, epoch=50, fold=1, init=0.1, k=10,\n",
       "    lambda_1=1, lambda_2=1, lr=0.1, metric='auc', model_type='fm',\n",
       "    n_jobs=4, nthread=8, opt='sgd', reg_lambda=0.01, stop_window=2,\n",
       "    task='binary')>"
      ]
     },
     "execution_count": 14,
     "metadata": {},
     "output_type": "execute_result"
    }
   ],
   "source": [
    "fm_model.get_params"
   ]
  },
  {
   "cell_type": "code",
   "execution_count": null,
   "metadata": {},
   "outputs": [],
   "source": []
  },
  {
   "cell_type": "code",
   "execution_count": null,
   "metadata": {},
   "outputs": [],
   "source": []
  },
  {
   "cell_type": "code",
   "execution_count": 17,
   "metadata": {},
   "outputs": [],
   "source": [
    "linear_model.fit(X_train, y_train,\n",
    "                 eval_set=[X_test, y_test],\n",
    "                 is_lock_free=False)"
   ]
  },
  {
   "cell_type": "code",
   "execution_count": 18,
   "metadata": {},
   "outputs": [],
   "source": [
    "y_pred = linear_model.predict(X_test)"
   ]
  },
  {
   "cell_type": "code",
   "execution_count": 19,
   "metadata": {},
   "outputs": [
    {
     "data": {
      "text/plain": [
       "array([0., 0., 0., ..., 0., 0., 0.])"
      ]
     },
     "execution_count": 19,
     "metadata": {},
     "output_type": "execute_result"
    }
   ],
   "source": [
    "y_pred"
   ]
  },
  {
   "cell_type": "code",
   "execution_count": null,
   "metadata": {},
   "outputs": [],
   "source": []
  },
  {
   "cell_type": "code",
   "execution_count": 4,
   "metadata": {},
   "outputs": [],
   "source": [
    "ffm_model = xl.create_ffm()                # Use field-aware factorization machine (ffm)\n",
    "ffm_model.setTrain('/home/errodringer/Escritorio/Microsoft/data/train_final_1/part-00000-c14a1c5f-edd9-42e4-8c9b-a52d5c6e2cf2-c000.csv')    # Path of training data\n",
    "\n",
    "# param:\n",
    "#  0. task: binary classification\n",
    "#  1. learning rate : 0.2\n",
    "#  2. regular lambda : 0.002\n",
    "param = {'task':'binary', 'lr':0.2, 'lambda':0.002}"
   ]
  },
  {
   "cell_type": "code",
   "execution_count": null,
   "metadata": {},
   "outputs": [],
   "source": [
    "ffm_model.fit(param, \"./model.out\")"
   ]
  },
  {
   "cell_type": "code",
   "execution_count": null,
   "metadata": {},
   "outputs": [],
   "source": []
  }
 ],
 "metadata": {
  "kernelspec": {
   "display_name": "Python 3",
   "language": "python",
   "name": "python3"
  },
  "language_info": {
   "codemirror_mode": {
    "name": "ipython",
    "version": 3
   },
   "file_extension": ".py",
   "mimetype": "text/x-python",
   "name": "python",
   "nbconvert_exporter": "python",
   "pygments_lexer": "ipython3",
   "version": "3.6.7"
  }
 },
 "nbformat": 4,
 "nbformat_minor": 2
}
