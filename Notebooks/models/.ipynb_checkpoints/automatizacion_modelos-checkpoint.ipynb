{
 "cells": [
  {
   "cell_type": "code",
   "execution_count": 1,
   "metadata": {},
   "outputs": [],
   "source": [
    "import pandas as pd\n",
    "import numpy as np\n",
    "import glob\n",
    "from sklearn.model_selection import train_test_split\n",
    "from sklearn.model_selection import KFold\n",
    "from sklearn.model_selection import GridSearchCV\n",
    "from sklearn.model_selection import TimeSeriesSplit\n",
    "from sklearn.model_selection import StratifiedKFold\n",
    "from sklearn.externals import joblib\n",
    "import lightgbm as lgb\n",
    "import xgboost as xgb\n",
    "from scipy.sparse import vstack, csr_matrix, save_npz, load_npz\n",
    "import warnings\n",
    "warnings.filterwarnings(\"ignore\")\n",
    "import gc"
   ]
  },
  {
   "cell_type": "code",
   "execution_count": 2,
   "metadata": {},
   "outputs": [],
   "source": [
    "dict_dtypes = {\n",
    "    'IsBeta': np.int8,                                                              \n",
    "    'RtpStateBitfield': np.int8,                                                    \n",
    "    'IsSxsPassiveMode': np.int8,                                                    \n",
    "    'DefaultBrowsersIdentifier': np.int16,                                          \n",
    "    'AVProductStatesIdentifier': np.int32,                                          \n",
    "    'AVProductsInstalled': np.int8,                                                 \n",
    "    'AVProductsEnabled': np.int8,\n",
    "    'HasTpm': np.int8,                                                              \n",
    "    'CountryIdentifier': np.int16,\n",
    "    'CityIdentifier': np.int32,                                                     \n",
    "    'OrganizationIdentifier': np.int8,\n",
    "    'GeoNameIdentifier': np.int16,                                                  \n",
    "    'LocaleEnglishNameIdentifier': np.int16,                                        \n",
    "    'OsBuild': np.int16,                                                            \n",
    "    'OsSuite': np.int16,                                                            \n",
    "    'IsProtected': np.int8,                                                         \n",
    "    'AutoSampleOptIn': np.int8,                                                     \n",
    "    'SMode': np.int8,                                                               \n",
    "    'IeVerIdentifier': np.int16,                                                    \n",
    "    'Firewall': np.int8,                                                            \n",
    "    'UacLuaenable': np.int32,                                                       \n",
    "    'Census_OEMNameIdentifier': np.int16,                                           \n",
    "    'Census_OEMModelIdentifier': np.int32,                                          \n",
    "    'Census_ProcessorCoreCount': np.int16,\n",
    "    'Census_ProcessorManufacturerIdentifier': np.int8,                              \n",
    "    'Census_ProcessorModelIdentifier': np.int16,\n",
    "    'Census_PrimaryDiskTotalCapacity': np.int32,                                    \n",
    "    'Census_SystemVolumeTotalCapacity': np.int32,                                   \n",
    "    'Census_HasOpticalDiskDrive': np.int8,                                          \n",
    "    'Census_TotalPhysicalRAM': np.int32,                                            \n",
    "    'Census_InternalPrimaryDiagonalDisplaySizeInInches': np.float16,                  \n",
    "    'Census_InternalPrimaryDisplayResolutionHorizontal': np.int16,                  \n",
    "    'Census_InternalPrimaryDisplayResolutionVertical': np.int16,\n",
    "    'Census_InternalBatteryNumberOfCharges': np.int32,\n",
    "    'Census_OSBuildNumber': np.int16,                                               \n",
    "    'Census_OSBuildRevision': np.int32,                                             \n",
    "    'Census_OSInstallLanguageIdentifier': np.int8,                                  \n",
    "    'Census_OSUILocaleIdentifier': np.int16,                                        \n",
    "    'Census_IsPortableOperatingSystem': np.int8,                                    \n",
    "    'Census_IsFlightingInternal': np.int8,                                          \n",
    "    'Census_IsFlightsDisabled': np.int8,                                            \n",
    "    'Census_ThresholdOptIn': np.int8,                                               \n",
    "    'Census_FirmwareManufacturerIdentifier': np.int16,\n",
    "    'Census_FirmwareVersionIdentifier': np.int32,                                   \n",
    "    'Census_IsSecureBootEnabled': np.int8,                                          \n",
    "    'Census_IsWIMBootEnabled': np.int8,                                             \n",
    "    'Census_IsVirtualDevice': np.int8,\n",
    "    'Census_IsTouchEnabled': np.int8,                                               \n",
    "    'Census_IsPenCapable': np.int8,                                                 \n",
    "    'Census_IsAlwaysOnAlwaysConnectedCapable': np.int8,                             \n",
    "    'Wdft_IsGamer': np.int8,\n",
    "    'Wdft_RegionIdentifier': np.int8,\n",
    "    'HasDetections': np.int8,\n",
    "    'Census_InternalBatteryType_informed': np.int8,                                 \n",
    "    'ProductName_index': np.int8,                                                   \n",
    "    'Platform_index': np.int8,\n",
    "    'Processor_index': np.int8,\n",
    "    'OsPlatformSubRelease_index': np.int8,                                          \n",
    "    'SkuEdition_index': np.int8,\n",
    "    'PuaMode_index': np.int8,\n",
    "    'SmartScreen_index': np.int8,\n",
    "    'Census_MDC2FormFactor_index': np.int8,                                         \n",
    "    'Census_DeviceFamily_index': np.int8,                                           \n",
    "    'Census_ProcessorClass_index': np.int8,                                         \n",
    "    'Census_PrimaryDiskTypeName_index': np.int8,\n",
    "    'Census_ChassisTypeName_index': np.int8,\n",
    "    'Census_PowerPlatformRoleName_index': np.int8,\n",
    "    'Census_InternalBatteryType_index': np.int8,                                    \n",
    "    'Census_OSArchitecture_index': np.int8,                                         \n",
    "    'Census_OSBranch_index': np.int8,                                               \n",
    "    'Census_OSEdition_index': np.int8,                                              \n",
    "    'Census_OSSkuName_index': np.int8,                                              \n",
    "    'Census_OSInstallTypeName_index': np.int8,                                      \n",
    "    'Census_OSWUAutoUpdateOptionsName_index': np.int8,\n",
    "    'Census_GenuineStateName_index': np.int8,                                       \n",
    "    'Census_ActivationChannel_index': np.int8,\n",
    "    'Census_FlightRing_index': np.int8,\n",
    "    'OSBuild_diff': np.int8,\n",
    "    'AvSigVersion_diff': np.int16,                                                  \n",
    "    'OSBuild_fulldiff': np.int8,                                                    \n",
    "    'AvSigVersion_fulldiff': np.int16,                                              \n",
    "    'OsBuildLab_difftotal': np.int16,                                               \n",
    "    'DateAvSigVersion_difftotal': np.int16,                                         \n",
    "    'DateAvSigVersion_fulldifftotal': np.int16,\n",
    "    'OsBuildLab_fulldifftotal': np.int16,\n",
    "    'DateAvSigVersion_ratio': np.float16,                                              \n",
    "    'OsBuildLab_ratio': np.float16,                                                    \n",
    "    'DateAvSigVersion_fullratio': np.float16,\n",
    "    'OsBuildLab_fullratio': np.float16,                                                \n",
    "    'OsBuildLab_dayOfWeek': np.int8,                                                \n",
    "    'AvSigVersion_dayOfWeek': np.int8, \n",
    "}"
   ]
  },
  {
   "cell_type": "code",
   "execution_count": 5,
   "metadata": {},
   "outputs": [],
   "source": [
    "path = '../../data/train_final_0'"
   ]
  },
  {
   "cell_type": "code",
   "execution_count": 6,
   "metadata": {},
   "outputs": [
    {
     "name": "stdout",
     "output_type": "stream",
     "text": [
      "0\n",
      "10\n",
      "20\n",
      "30\n"
     ]
    }
   ],
   "source": [
    "allFiles = glob.glob(path + \"/*.csv\")\n",
    "\n",
    "list_ = []\n",
    "n = 0\n",
    "\n",
    "for file_ in allFiles:\n",
    "#     mask = file_['Platform_index'] != 0\n",
    "    df = pd.read_csv(file_, dtype=dict_dtypes, low_memory=True)\n",
    "    list_.append(df)\n",
    "    if n%10==0:\n",
    "        print(n)\n",
    "    n+=1\n",
    "\n",
    "train = pd.concat(list_, axis = 0, ignore_index = True)"
   ]
  },
  {
   "cell_type": "code",
   "execution_count": 7,
   "metadata": {},
   "outputs": [
    {
     "data": {
      "text/plain": [
       "(8921483, 100)"
      ]
     },
     "execution_count": 7,
     "metadata": {},
     "output_type": "execute_result"
    }
   ],
   "source": [
    "train.shape"
   ]
  },
  {
   "cell_type": "code",
   "execution_count": 8,
   "metadata": {},
   "outputs": [
    {
     "data": {
      "text/plain": [
       "10"
      ]
     },
     "execution_count": 8,
     "metadata": {},
     "output_type": "execute_result"
    }
   ],
   "source": [
    "train_sub = train.sample(100000)\n",
    "del train\n",
    "gc.collect()"
   ]
  },
  {
   "cell_type": "code",
   "execution_count": 9,
   "metadata": {},
   "outputs": [
    {
     "data": {
      "text/plain": [
       "(100000, 100)"
      ]
     },
     "execution_count": 9,
     "metadata": {},
     "output_type": "execute_result"
    }
   ],
   "source": [
    "train_sub.shape"
   ]
  },
  {
   "cell_type": "code",
   "execution_count": 12,
   "metadata": {},
   "outputs": [],
   "source": [
    "sel_cols = [c for c in train_sub.columns if c not in ['MachineIdentifier', 'HasDetections']]"
   ]
  },
  {
   "cell_type": "code",
   "execution_count": 13,
   "metadata": {},
   "outputs": [],
   "source": [
    "X_train = train_sub.loc[:, sel_cols]\n",
    "y_train = train_sub.loc[:,'HasDetections']"
   ]
  },
  {
   "cell_type": "code",
   "execution_count": 12,
   "metadata": {},
   "outputs": [],
   "source": [
    "train_ids = X_train.index"
   ]
  },
  {
   "cell_type": "code",
   "execution_count": 13,
   "metadata": {
    "scrolled": true
   },
   "outputs": [
    {
     "data": {
      "text/plain": [
       "5"
      ]
     },
     "execution_count": 13,
     "metadata": {},
     "output_type": "execute_result"
    }
   ],
   "source": [
    "skf = StratifiedKFold(n_splits=5, shuffle=True, random_state=42)\n",
    "skf.get_n_splits(train_ids, y_train)"
   ]
  },
  {
   "cell_type": "code",
   "execution_count": null,
   "metadata": {},
   "outputs": [],
   "source": []
  },
  {
   "cell_type": "markdown",
   "metadata": {},
   "source": [
    "Busqueda mejores parametros"
   ]
  },
  {
   "cell_type": "code",
   "execution_count": 15,
   "metadata": {},
   "outputs": [],
   "source": [
    "params = {\n",
    "    'learning_rate' : [0.1, 0.05],\n",
    "    'num_leaves' : [91, 103],\n",
    "    'feature_fraction': [0.6, 1, 0.3], \n",
    "    'bagging_fraction': [0.8, 1],\n",
    "    'max_depth': [19, -1],\n",
    "    'min_data_in_leaf': [30, 20],\n",
    "    'colsample_bytree': [0.9, 0.5, 0.3]\n",
    "}\n",
    "\n",
    "kFolds = 5"
   ]
  },
  {
   "cell_type": "code",
   "execution_count": 16,
   "metadata": {},
   "outputs": [],
   "source": [
    "mdl_lgb = lgb.LGBMClassifier(n_jobs=-1,\n",
    "                             verbose = 50,\n",
    "                             n_estimators=1000,\n",
    "                             objective='binary',\n",
    "                             bagging_freq=1,\n",
    "                             boosting_type='gbdt',\n",
    "                             metric='auc'\n",
    "                            )"
   ]
  },
  {
   "cell_type": "code",
   "execution_count": 17,
   "metadata": {},
   "outputs": [],
   "source": [
    "lgb_model = GridSearchCV(\n",
    "    estimator=mdl_lgb,\n",
    "    param_grid=params,\n",
    "    n_jobs=1,\n",
    "    cv=kFolds,\n",
    "    verbose=1,\n",
    "    scoring='roc_auc'\n",
    ")"
   ]
  },
  {
   "cell_type": "code",
   "execution_count": 18,
   "metadata": {},
   "outputs": [
    {
     "name": "stdout",
     "output_type": "stream",
     "text": [
      "Fitting 5 folds for each of 1536 candidates, totalling 7680 fits\n"
     ]
    },
    {
     "name": "stderr",
     "output_type": "stream",
     "text": [
      "[Parallel(n_jobs=1)]: Using backend SequentialBackend with 1 concurrent workers.\n"
     ]
    },
    {
     "ename": "KeyboardInterrupt",
     "evalue": "",
     "output_type": "error",
     "traceback": [
      "\u001b[0;31m---------------------------------------------------------------------------\u001b[0m",
      "\u001b[0;31mKeyboardInterrupt\u001b[0m                         Traceback (most recent call last)",
      "\u001b[0;32m<ipython-input-18-2492c30ba438>\u001b[0m in \u001b[0;36m<module>\u001b[0;34m\u001b[0m\n\u001b[0;32m----> 1\u001b[0;31m \u001b[0mlgb_model\u001b[0m\u001b[0;34m.\u001b[0m\u001b[0mfit\u001b[0m\u001b[0;34m(\u001b[0m\u001b[0mX_train\u001b[0m\u001b[0;34m,\u001b[0m \u001b[0my_train\u001b[0m\u001b[0;34m)\u001b[0m\u001b[0;34m\u001b[0m\u001b[0;34m\u001b[0m\u001b[0m\n\u001b[0m",
      "\u001b[0;32m~/.local/lib/python3.6/site-packages/sklearn/model_selection/_search.py\u001b[0m in \u001b[0;36mfit\u001b[0;34m(self, X, y, groups, **fit_params)\u001b[0m\n\u001b[1;32m    720\u001b[0m                 \u001b[0;32mreturn\u001b[0m \u001b[0mresults_container\u001b[0m\u001b[0;34m[\u001b[0m\u001b[0;36m0\u001b[0m\u001b[0;34m]\u001b[0m\u001b[0;34m\u001b[0m\u001b[0;34m\u001b[0m\u001b[0m\n\u001b[1;32m    721\u001b[0m \u001b[0;34m\u001b[0m\u001b[0m\n\u001b[0;32m--> 722\u001b[0;31m             \u001b[0mself\u001b[0m\u001b[0;34m.\u001b[0m\u001b[0m_run_search\u001b[0m\u001b[0;34m(\u001b[0m\u001b[0mevaluate_candidates\u001b[0m\u001b[0;34m)\u001b[0m\u001b[0;34m\u001b[0m\u001b[0;34m\u001b[0m\u001b[0m\n\u001b[0m\u001b[1;32m    723\u001b[0m \u001b[0;34m\u001b[0m\u001b[0m\n\u001b[1;32m    724\u001b[0m         \u001b[0mresults\u001b[0m \u001b[0;34m=\u001b[0m \u001b[0mresults_container\u001b[0m\u001b[0;34m[\u001b[0m\u001b[0;36m0\u001b[0m\u001b[0;34m]\u001b[0m\u001b[0;34m\u001b[0m\u001b[0;34m\u001b[0m\u001b[0m\n",
      "\u001b[0;32m~/.local/lib/python3.6/site-packages/sklearn/model_selection/_search.py\u001b[0m in \u001b[0;36m_run_search\u001b[0;34m(self, evaluate_candidates)\u001b[0m\n\u001b[1;32m   1189\u001b[0m     \u001b[0;32mdef\u001b[0m \u001b[0m_run_search\u001b[0m\u001b[0;34m(\u001b[0m\u001b[0mself\u001b[0m\u001b[0;34m,\u001b[0m \u001b[0mevaluate_candidates\u001b[0m\u001b[0;34m)\u001b[0m\u001b[0;34m:\u001b[0m\u001b[0;34m\u001b[0m\u001b[0;34m\u001b[0m\u001b[0m\n\u001b[1;32m   1190\u001b[0m         \u001b[0;34m\"\"\"Search all candidates in param_grid\"\"\"\u001b[0m\u001b[0;34m\u001b[0m\u001b[0;34m\u001b[0m\u001b[0m\n\u001b[0;32m-> 1191\u001b[0;31m         \u001b[0mevaluate_candidates\u001b[0m\u001b[0;34m(\u001b[0m\u001b[0mParameterGrid\u001b[0m\u001b[0;34m(\u001b[0m\u001b[0mself\u001b[0m\u001b[0;34m.\u001b[0m\u001b[0mparam_grid\u001b[0m\u001b[0;34m)\u001b[0m\u001b[0;34m)\u001b[0m\u001b[0;34m\u001b[0m\u001b[0;34m\u001b[0m\u001b[0m\n\u001b[0m\u001b[1;32m   1192\u001b[0m \u001b[0;34m\u001b[0m\u001b[0m\n\u001b[1;32m   1193\u001b[0m \u001b[0;34m\u001b[0m\u001b[0m\n",
      "\u001b[0;32m~/.local/lib/python3.6/site-packages/sklearn/model_selection/_search.py\u001b[0m in \u001b[0;36mevaluate_candidates\u001b[0;34m(candidate_params)\u001b[0m\n\u001b[1;32m    709\u001b[0m                                \u001b[0;32mfor\u001b[0m \u001b[0mparameters\u001b[0m\u001b[0;34m,\u001b[0m \u001b[0;34m(\u001b[0m\u001b[0mtrain\u001b[0m\u001b[0;34m,\u001b[0m \u001b[0mtest\u001b[0m\u001b[0;34m)\u001b[0m\u001b[0;34m\u001b[0m\u001b[0;34m\u001b[0m\u001b[0m\n\u001b[1;32m    710\u001b[0m                                in product(candidate_params,\n\u001b[0;32m--> 711\u001b[0;31m                                           cv.split(X, y, groups)))\n\u001b[0m\u001b[1;32m    712\u001b[0m \u001b[0;34m\u001b[0m\u001b[0m\n\u001b[1;32m    713\u001b[0m                 \u001b[0mall_candidate_params\u001b[0m\u001b[0;34m.\u001b[0m\u001b[0mextend\u001b[0m\u001b[0;34m(\u001b[0m\u001b[0mcandidate_params\u001b[0m\u001b[0;34m)\u001b[0m\u001b[0;34m\u001b[0m\u001b[0;34m\u001b[0m\u001b[0m\n",
      "\u001b[0;32m~/.local/lib/python3.6/site-packages/sklearn/externals/joblib/parallel.py\u001b[0m in \u001b[0;36m__call__\u001b[0;34m(self, iterable)\u001b[0m\n\u001b[1;32m    918\u001b[0m                 \u001b[0mself\u001b[0m\u001b[0;34m.\u001b[0m\u001b[0m_iterating\u001b[0m \u001b[0;34m=\u001b[0m \u001b[0mself\u001b[0m\u001b[0;34m.\u001b[0m\u001b[0m_original_iterator\u001b[0m \u001b[0;32mis\u001b[0m \u001b[0;32mnot\u001b[0m \u001b[0;32mNone\u001b[0m\u001b[0;34m\u001b[0m\u001b[0;34m\u001b[0m\u001b[0m\n\u001b[1;32m    919\u001b[0m \u001b[0;34m\u001b[0m\u001b[0m\n\u001b[0;32m--> 920\u001b[0;31m             \u001b[0;32mwhile\u001b[0m \u001b[0mself\u001b[0m\u001b[0;34m.\u001b[0m\u001b[0mdispatch_one_batch\u001b[0m\u001b[0;34m(\u001b[0m\u001b[0miterator\u001b[0m\u001b[0;34m)\u001b[0m\u001b[0;34m:\u001b[0m\u001b[0;34m\u001b[0m\u001b[0;34m\u001b[0m\u001b[0m\n\u001b[0m\u001b[1;32m    921\u001b[0m                 \u001b[0;32mpass\u001b[0m\u001b[0;34m\u001b[0m\u001b[0;34m\u001b[0m\u001b[0m\n\u001b[1;32m    922\u001b[0m \u001b[0;34m\u001b[0m\u001b[0m\n",
      "\u001b[0;32m~/.local/lib/python3.6/site-packages/sklearn/externals/joblib/parallel.py\u001b[0m in \u001b[0;36mdispatch_one_batch\u001b[0;34m(self, iterator)\u001b[0m\n\u001b[1;32m    757\u001b[0m                 \u001b[0;32mreturn\u001b[0m \u001b[0;32mFalse\u001b[0m\u001b[0;34m\u001b[0m\u001b[0;34m\u001b[0m\u001b[0m\n\u001b[1;32m    758\u001b[0m             \u001b[0;32melse\u001b[0m\u001b[0;34m:\u001b[0m\u001b[0;34m\u001b[0m\u001b[0;34m\u001b[0m\u001b[0m\n\u001b[0;32m--> 759\u001b[0;31m                 \u001b[0mself\u001b[0m\u001b[0;34m.\u001b[0m\u001b[0m_dispatch\u001b[0m\u001b[0;34m(\u001b[0m\u001b[0mtasks\u001b[0m\u001b[0;34m)\u001b[0m\u001b[0;34m\u001b[0m\u001b[0;34m\u001b[0m\u001b[0m\n\u001b[0m\u001b[1;32m    760\u001b[0m                 \u001b[0;32mreturn\u001b[0m \u001b[0;32mTrue\u001b[0m\u001b[0;34m\u001b[0m\u001b[0;34m\u001b[0m\u001b[0m\n\u001b[1;32m    761\u001b[0m \u001b[0;34m\u001b[0m\u001b[0m\n",
      "\u001b[0;32m~/.local/lib/python3.6/site-packages/sklearn/externals/joblib/parallel.py\u001b[0m in \u001b[0;36m_dispatch\u001b[0;34m(self, batch)\u001b[0m\n\u001b[1;32m    714\u001b[0m         \u001b[0;32mwith\u001b[0m \u001b[0mself\u001b[0m\u001b[0;34m.\u001b[0m\u001b[0m_lock\u001b[0m\u001b[0;34m:\u001b[0m\u001b[0;34m\u001b[0m\u001b[0;34m\u001b[0m\u001b[0m\n\u001b[1;32m    715\u001b[0m             \u001b[0mjob_idx\u001b[0m \u001b[0;34m=\u001b[0m \u001b[0mlen\u001b[0m\u001b[0;34m(\u001b[0m\u001b[0mself\u001b[0m\u001b[0;34m.\u001b[0m\u001b[0m_jobs\u001b[0m\u001b[0;34m)\u001b[0m\u001b[0;34m\u001b[0m\u001b[0;34m\u001b[0m\u001b[0m\n\u001b[0;32m--> 716\u001b[0;31m             \u001b[0mjob\u001b[0m \u001b[0;34m=\u001b[0m \u001b[0mself\u001b[0m\u001b[0;34m.\u001b[0m\u001b[0m_backend\u001b[0m\u001b[0;34m.\u001b[0m\u001b[0mapply_async\u001b[0m\u001b[0;34m(\u001b[0m\u001b[0mbatch\u001b[0m\u001b[0;34m,\u001b[0m \u001b[0mcallback\u001b[0m\u001b[0;34m=\u001b[0m\u001b[0mcb\u001b[0m\u001b[0;34m)\u001b[0m\u001b[0;34m\u001b[0m\u001b[0;34m\u001b[0m\u001b[0m\n\u001b[0m\u001b[1;32m    717\u001b[0m             \u001b[0;31m# A job can complete so quickly than its callback is\u001b[0m\u001b[0;34m\u001b[0m\u001b[0;34m\u001b[0m\u001b[0;34m\u001b[0m\u001b[0m\n\u001b[1;32m    718\u001b[0m             \u001b[0;31m# called before we get here, causing self._jobs to\u001b[0m\u001b[0;34m\u001b[0m\u001b[0;34m\u001b[0m\u001b[0;34m\u001b[0m\u001b[0m\n",
      "\u001b[0;32m~/.local/lib/python3.6/site-packages/sklearn/externals/joblib/_parallel_backends.py\u001b[0m in \u001b[0;36mapply_async\u001b[0;34m(self, func, callback)\u001b[0m\n\u001b[1;32m    180\u001b[0m     \u001b[0;32mdef\u001b[0m \u001b[0mapply_async\u001b[0m\u001b[0;34m(\u001b[0m\u001b[0mself\u001b[0m\u001b[0;34m,\u001b[0m \u001b[0mfunc\u001b[0m\u001b[0;34m,\u001b[0m \u001b[0mcallback\u001b[0m\u001b[0;34m=\u001b[0m\u001b[0;32mNone\u001b[0m\u001b[0;34m)\u001b[0m\u001b[0;34m:\u001b[0m\u001b[0;34m\u001b[0m\u001b[0;34m\u001b[0m\u001b[0m\n\u001b[1;32m    181\u001b[0m         \u001b[0;34m\"\"\"Schedule a func to be run\"\"\"\u001b[0m\u001b[0;34m\u001b[0m\u001b[0;34m\u001b[0m\u001b[0m\n\u001b[0;32m--> 182\u001b[0;31m         \u001b[0mresult\u001b[0m \u001b[0;34m=\u001b[0m \u001b[0mImmediateResult\u001b[0m\u001b[0;34m(\u001b[0m\u001b[0mfunc\u001b[0m\u001b[0;34m)\u001b[0m\u001b[0;34m\u001b[0m\u001b[0;34m\u001b[0m\u001b[0m\n\u001b[0m\u001b[1;32m    183\u001b[0m         \u001b[0;32mif\u001b[0m \u001b[0mcallback\u001b[0m\u001b[0;34m:\u001b[0m\u001b[0;34m\u001b[0m\u001b[0;34m\u001b[0m\u001b[0m\n\u001b[1;32m    184\u001b[0m             \u001b[0mcallback\u001b[0m\u001b[0;34m(\u001b[0m\u001b[0mresult\u001b[0m\u001b[0;34m)\u001b[0m\u001b[0;34m\u001b[0m\u001b[0;34m\u001b[0m\u001b[0m\n",
      "\u001b[0;32m~/.local/lib/python3.6/site-packages/sklearn/externals/joblib/_parallel_backends.py\u001b[0m in \u001b[0;36m__init__\u001b[0;34m(self, batch)\u001b[0m\n\u001b[1;32m    547\u001b[0m         \u001b[0;31m# Don't delay the application, to avoid keeping the input\u001b[0m\u001b[0;34m\u001b[0m\u001b[0;34m\u001b[0m\u001b[0;34m\u001b[0m\u001b[0m\n\u001b[1;32m    548\u001b[0m         \u001b[0;31m# arguments in memory\u001b[0m\u001b[0;34m\u001b[0m\u001b[0;34m\u001b[0m\u001b[0;34m\u001b[0m\u001b[0m\n\u001b[0;32m--> 549\u001b[0;31m         \u001b[0mself\u001b[0m\u001b[0;34m.\u001b[0m\u001b[0mresults\u001b[0m \u001b[0;34m=\u001b[0m \u001b[0mbatch\u001b[0m\u001b[0;34m(\u001b[0m\u001b[0;34m)\u001b[0m\u001b[0;34m\u001b[0m\u001b[0;34m\u001b[0m\u001b[0m\n\u001b[0m\u001b[1;32m    550\u001b[0m \u001b[0;34m\u001b[0m\u001b[0m\n\u001b[1;32m    551\u001b[0m     \u001b[0;32mdef\u001b[0m \u001b[0mget\u001b[0m\u001b[0;34m(\u001b[0m\u001b[0mself\u001b[0m\u001b[0;34m)\u001b[0m\u001b[0;34m:\u001b[0m\u001b[0;34m\u001b[0m\u001b[0;34m\u001b[0m\u001b[0m\n",
      "\u001b[0;32m~/.local/lib/python3.6/site-packages/sklearn/externals/joblib/parallel.py\u001b[0m in \u001b[0;36m__call__\u001b[0;34m(self)\u001b[0m\n\u001b[1;32m    223\u001b[0m         \u001b[0;32mwith\u001b[0m \u001b[0mparallel_backend\u001b[0m\u001b[0;34m(\u001b[0m\u001b[0mself\u001b[0m\u001b[0;34m.\u001b[0m\u001b[0m_backend\u001b[0m\u001b[0;34m,\u001b[0m \u001b[0mn_jobs\u001b[0m\u001b[0;34m=\u001b[0m\u001b[0mself\u001b[0m\u001b[0;34m.\u001b[0m\u001b[0m_n_jobs\u001b[0m\u001b[0;34m)\u001b[0m\u001b[0;34m:\u001b[0m\u001b[0;34m\u001b[0m\u001b[0;34m\u001b[0m\u001b[0m\n\u001b[1;32m    224\u001b[0m             return [func(*args, **kwargs)\n\u001b[0;32m--> 225\u001b[0;31m                     for func, args, kwargs in self.items]\n\u001b[0m\u001b[1;32m    226\u001b[0m \u001b[0;34m\u001b[0m\u001b[0m\n\u001b[1;32m    227\u001b[0m     \u001b[0;32mdef\u001b[0m \u001b[0m__len__\u001b[0m\u001b[0;34m(\u001b[0m\u001b[0mself\u001b[0m\u001b[0;34m)\u001b[0m\u001b[0;34m:\u001b[0m\u001b[0;34m\u001b[0m\u001b[0;34m\u001b[0m\u001b[0m\n",
      "\u001b[0;32m~/.local/lib/python3.6/site-packages/sklearn/externals/joblib/parallel.py\u001b[0m in \u001b[0;36m<listcomp>\u001b[0;34m(.0)\u001b[0m\n\u001b[1;32m    223\u001b[0m         \u001b[0;32mwith\u001b[0m \u001b[0mparallel_backend\u001b[0m\u001b[0;34m(\u001b[0m\u001b[0mself\u001b[0m\u001b[0;34m.\u001b[0m\u001b[0m_backend\u001b[0m\u001b[0;34m,\u001b[0m \u001b[0mn_jobs\u001b[0m\u001b[0;34m=\u001b[0m\u001b[0mself\u001b[0m\u001b[0;34m.\u001b[0m\u001b[0m_n_jobs\u001b[0m\u001b[0;34m)\u001b[0m\u001b[0;34m:\u001b[0m\u001b[0;34m\u001b[0m\u001b[0;34m\u001b[0m\u001b[0m\n\u001b[1;32m    224\u001b[0m             return [func(*args, **kwargs)\n\u001b[0;32m--> 225\u001b[0;31m                     for func, args, kwargs in self.items]\n\u001b[0m\u001b[1;32m    226\u001b[0m \u001b[0;34m\u001b[0m\u001b[0m\n\u001b[1;32m    227\u001b[0m     \u001b[0;32mdef\u001b[0m \u001b[0m__len__\u001b[0m\u001b[0;34m(\u001b[0m\u001b[0mself\u001b[0m\u001b[0;34m)\u001b[0m\u001b[0;34m:\u001b[0m\u001b[0;34m\u001b[0m\u001b[0;34m\u001b[0m\u001b[0m\n",
      "\u001b[0;32m~/.local/lib/python3.6/site-packages/sklearn/model_selection/_validation.py\u001b[0m in \u001b[0;36m_fit_and_score\u001b[0;34m(estimator, X, y, scorer, train, test, verbose, parameters, fit_params, return_train_score, return_parameters, return_n_test_samples, return_times, return_estimator, error_score)\u001b[0m\n\u001b[1;32m    526\u001b[0m             \u001b[0mestimator\u001b[0m\u001b[0;34m.\u001b[0m\u001b[0mfit\u001b[0m\u001b[0;34m(\u001b[0m\u001b[0mX_train\u001b[0m\u001b[0;34m,\u001b[0m \u001b[0;34m**\u001b[0m\u001b[0mfit_params\u001b[0m\u001b[0;34m)\u001b[0m\u001b[0;34m\u001b[0m\u001b[0;34m\u001b[0m\u001b[0m\n\u001b[1;32m    527\u001b[0m         \u001b[0;32melse\u001b[0m\u001b[0;34m:\u001b[0m\u001b[0;34m\u001b[0m\u001b[0;34m\u001b[0m\u001b[0m\n\u001b[0;32m--> 528\u001b[0;31m             \u001b[0mestimator\u001b[0m\u001b[0;34m.\u001b[0m\u001b[0mfit\u001b[0m\u001b[0;34m(\u001b[0m\u001b[0mX_train\u001b[0m\u001b[0;34m,\u001b[0m \u001b[0my_train\u001b[0m\u001b[0;34m,\u001b[0m \u001b[0;34m**\u001b[0m\u001b[0mfit_params\u001b[0m\u001b[0;34m)\u001b[0m\u001b[0;34m\u001b[0m\u001b[0;34m\u001b[0m\u001b[0m\n\u001b[0m\u001b[1;32m    529\u001b[0m \u001b[0;34m\u001b[0m\u001b[0m\n\u001b[1;32m    530\u001b[0m     \u001b[0;32mexcept\u001b[0m \u001b[0mException\u001b[0m \u001b[0;32mas\u001b[0m \u001b[0me\u001b[0m\u001b[0;34m:\u001b[0m\u001b[0;34m\u001b[0m\u001b[0;34m\u001b[0m\u001b[0m\n",
      "\u001b[0;32m~/.local/lib/python3.6/site-packages/lightgbm/sklearn.py\u001b[0m in \u001b[0;36mfit\u001b[0;34m(self, X, y, sample_weight, init_score, eval_set, eval_names, eval_sample_weight, eval_class_weight, eval_init_score, eval_metric, early_stopping_rounds, verbose, feature_name, categorical_feature, callbacks)\u001b[0m\n\u001b[1;32m    742\u001b[0m                                         \u001b[0mverbose\u001b[0m\u001b[0;34m=\u001b[0m\u001b[0mverbose\u001b[0m\u001b[0;34m,\u001b[0m \u001b[0mfeature_name\u001b[0m\u001b[0;34m=\u001b[0m\u001b[0mfeature_name\u001b[0m\u001b[0;34m,\u001b[0m\u001b[0;34m\u001b[0m\u001b[0;34m\u001b[0m\u001b[0m\n\u001b[1;32m    743\u001b[0m                                         \u001b[0mcategorical_feature\u001b[0m\u001b[0;34m=\u001b[0m\u001b[0mcategorical_feature\u001b[0m\u001b[0;34m,\u001b[0m\u001b[0;34m\u001b[0m\u001b[0;34m\u001b[0m\u001b[0m\n\u001b[0;32m--> 744\u001b[0;31m                                         callbacks=callbacks)\n\u001b[0m\u001b[1;32m    745\u001b[0m         \u001b[0;32mreturn\u001b[0m \u001b[0mself\u001b[0m\u001b[0;34m\u001b[0m\u001b[0;34m\u001b[0m\u001b[0m\n\u001b[1;32m    746\u001b[0m \u001b[0;34m\u001b[0m\u001b[0m\n",
      "\u001b[0;32m~/.local/lib/python3.6/site-packages/lightgbm/sklearn.py\u001b[0m in \u001b[0;36mfit\u001b[0;34m(self, X, y, sample_weight, init_score, group, eval_set, eval_names, eval_sample_weight, eval_class_weight, eval_init_score, eval_group, eval_metric, early_stopping_rounds, verbose, feature_name, categorical_feature, callbacks)\u001b[0m\n\u001b[1;32m    542\u001b[0m                               \u001b[0mverbose_eval\u001b[0m\u001b[0;34m=\u001b[0m\u001b[0mverbose\u001b[0m\u001b[0;34m,\u001b[0m \u001b[0mfeature_name\u001b[0m\u001b[0;34m=\u001b[0m\u001b[0mfeature_name\u001b[0m\u001b[0;34m,\u001b[0m\u001b[0;34m\u001b[0m\u001b[0;34m\u001b[0m\u001b[0m\n\u001b[1;32m    543\u001b[0m                               \u001b[0mcategorical_feature\u001b[0m\u001b[0;34m=\u001b[0m\u001b[0mcategorical_feature\u001b[0m\u001b[0;34m,\u001b[0m\u001b[0;34m\u001b[0m\u001b[0;34m\u001b[0m\u001b[0m\n\u001b[0;32m--> 544\u001b[0;31m                               callbacks=callbacks)\n\u001b[0m\u001b[1;32m    545\u001b[0m \u001b[0;34m\u001b[0m\u001b[0m\n\u001b[1;32m    546\u001b[0m         \u001b[0;32mif\u001b[0m \u001b[0mevals_result\u001b[0m\u001b[0;34m:\u001b[0m\u001b[0;34m\u001b[0m\u001b[0;34m\u001b[0m\u001b[0m\n",
      "\u001b[0;32m~/.local/lib/python3.6/site-packages/lightgbm/engine.py\u001b[0m in \u001b[0;36mtrain\u001b[0;34m(params, train_set, num_boost_round, valid_sets, valid_names, fobj, feval, init_model, feature_name, categorical_feature, early_stopping_rounds, evals_result, verbose_eval, learning_rates, keep_training_booster, callbacks)\u001b[0m\n\u001b[1;32m    216\u001b[0m                                     evaluation_result_list=None))\n\u001b[1;32m    217\u001b[0m \u001b[0;34m\u001b[0m\u001b[0m\n\u001b[0;32m--> 218\u001b[0;31m         \u001b[0mbooster\u001b[0m\u001b[0;34m.\u001b[0m\u001b[0mupdate\u001b[0m\u001b[0;34m(\u001b[0m\u001b[0mfobj\u001b[0m\u001b[0;34m=\u001b[0m\u001b[0mfobj\u001b[0m\u001b[0;34m)\u001b[0m\u001b[0;34m\u001b[0m\u001b[0;34m\u001b[0m\u001b[0m\n\u001b[0m\u001b[1;32m    219\u001b[0m \u001b[0;34m\u001b[0m\u001b[0m\n\u001b[1;32m    220\u001b[0m         \u001b[0mevaluation_result_list\u001b[0m \u001b[0;34m=\u001b[0m \u001b[0;34m[\u001b[0m\u001b[0;34m]\u001b[0m\u001b[0;34m\u001b[0m\u001b[0;34m\u001b[0m\u001b[0m\n",
      "\u001b[0;32m~/.local/lib/python3.6/site-packages/lightgbm/basic.py\u001b[0m in \u001b[0;36mupdate\u001b[0;34m(self, train_set, fobj)\u001b[0m\n\u001b[1;32m   1800\u001b[0m             _safe_call(_LIB.LGBM_BoosterUpdateOneIter(\n\u001b[1;32m   1801\u001b[0m                 \u001b[0mself\u001b[0m\u001b[0;34m.\u001b[0m\u001b[0mhandle\u001b[0m\u001b[0;34m,\u001b[0m\u001b[0;34m\u001b[0m\u001b[0;34m\u001b[0m\u001b[0m\n\u001b[0;32m-> 1802\u001b[0;31m                 ctypes.byref(is_finished)))\n\u001b[0m\u001b[1;32m   1803\u001b[0m             \u001b[0mself\u001b[0m\u001b[0;34m.\u001b[0m\u001b[0m__is_predicted_cur_iter\u001b[0m \u001b[0;34m=\u001b[0m \u001b[0;34m[\u001b[0m\u001b[0;32mFalse\u001b[0m \u001b[0;32mfor\u001b[0m \u001b[0m_\u001b[0m \u001b[0;32min\u001b[0m \u001b[0mrange_\u001b[0m\u001b[0;34m(\u001b[0m\u001b[0mself\u001b[0m\u001b[0;34m.\u001b[0m\u001b[0m__num_dataset\u001b[0m\u001b[0;34m)\u001b[0m\u001b[0;34m]\u001b[0m\u001b[0;34m\u001b[0m\u001b[0;34m\u001b[0m\u001b[0m\n\u001b[1;32m   1804\u001b[0m             \u001b[0;32mreturn\u001b[0m \u001b[0mis_finished\u001b[0m\u001b[0;34m.\u001b[0m\u001b[0mvalue\u001b[0m \u001b[0;34m==\u001b[0m \u001b[0;36m1\u001b[0m\u001b[0;34m\u001b[0m\u001b[0;34m\u001b[0m\u001b[0m\n",
      "\u001b[0;31mKeyboardInterrupt\u001b[0m: "
     ]
    }
   ],
   "source": [
    "lgb_model.fit(X_train, y_train)"
   ]
  },
  {
   "cell_type": "code",
   "execution_count": null,
   "metadata": {},
   "outputs": [],
   "source": []
  },
  {
   "cell_type": "code",
   "execution_count": null,
   "metadata": {},
   "outputs": [],
   "source": []
  },
  {
   "cell_type": "code",
   "execution_count": null,
   "metadata": {},
   "outputs": [],
   "source": []
  },
  {
   "cell_type": "code",
   "execution_count": 14,
   "metadata": {},
   "outputs": [],
   "source": [
    "lgb_model = lgb.LGBMClassifier(max_depth=-1,\n",
    "                                   n_estimators=2000,\n",
    "                                   learning_rate=0.05,\n",
    "                                   num_leaves=91,\n",
    "                                   colsample_bytree=0.28,\n",
    "                                   objective='binary', \n",
    "                                   n_jobs=-1)"
   ]
  },
  {
   "cell_type": "code",
   "execution_count": 15,
   "metadata": {
    "scrolled": true
   },
   "outputs": [
    {
     "name": "stdout",
     "output_type": "stream",
     "text": [
      "Fold 1\n",
      "\n",
      "Training until validation scores don't improve for 20 rounds.\n",
      "[100]\tvalid_0's binary_logloss: 0.618625\tvalid_0's auc: 0.716233\n",
      "[200]\tvalid_0's binary_logloss: 0.608583\tvalid_0's auc: 0.725045\n",
      "[300]\tvalid_0's binary_logloss: 0.604336\tvalid_0's auc: 0.729486\n",
      "[400]\tvalid_0's binary_logloss: 0.601855\tvalid_0's auc: 0.732357\n",
      "[500]\tvalid_0's binary_logloss: 0.600296\tvalid_0's auc: 0.734215\n",
      "[600]\tvalid_0's binary_logloss: 0.599311\tvalid_0's auc: 0.735326\n",
      "[700]\tvalid_0's binary_logloss: 0.598489\tvalid_0's auc: 0.7363\n",
      "[800]\tvalid_0's binary_logloss: 0.598024\tvalid_0's auc: 0.736847\n",
      "[900]\tvalid_0's binary_logloss: 0.59758\tvalid_0's auc: 0.737375\n",
      "[1000]\tvalid_0's binary_logloss: 0.597154\tvalid_0's auc: 0.737883\n",
      "[1100]\tvalid_0's binary_logloss: 0.596755\tvalid_0's auc: 0.738358\n",
      "[1200]\tvalid_0's binary_logloss: 0.596402\tvalid_0's auc: 0.738772\n",
      "[1300]\tvalid_0's binary_logloss: 0.596163\tvalid_0's auc: 0.739058\n",
      "[1400]\tvalid_0's binary_logloss: 0.595887\tvalid_0's auc: 0.73937\n",
      "[1500]\tvalid_0's binary_logloss: 0.595675\tvalid_0's auc: 0.739618\n",
      "[1600]\tvalid_0's binary_logloss: 0.595478\tvalid_0's auc: 0.739852\n",
      "[1700]\tvalid_0's binary_logloss: 0.595225\tvalid_0's auc: 0.740121\n",
      "[1800]\tvalid_0's binary_logloss: 0.594998\tvalid_0's auc: 0.740384\n",
      "[1900]\tvalid_0's binary_logloss: 0.594855\tvalid_0's auc: 0.74055\n",
      "[2000]\tvalid_0's binary_logloss: 0.594684\tvalid_0's auc: 0.740736\n",
      "Did not meet early stopping. Best iteration is:\n",
      "[2000]\tvalid_0's binary_logloss: 0.594684\tvalid_0's auc: 0.740736\n",
      "Fold 2\n",
      "\n",
      "Training until validation scores don't improve for 20 rounds.\n",
      "[100]\tvalid_0's binary_logloss: 0.618056\tvalid_0's auc: 0.716548\n",
      "[200]\tvalid_0's binary_logloss: 0.608176\tvalid_0's auc: 0.725088\n",
      "[300]\tvalid_0's binary_logloss: 0.604102\tvalid_0's auc: 0.72959\n",
      "[400]\tvalid_0's binary_logloss: 0.601624\tvalid_0's auc: 0.732568\n",
      "[500]\tvalid_0's binary_logloss: 0.600059\tvalid_0's auc: 0.734433\n",
      "[600]\tvalid_0's binary_logloss: 0.599135\tvalid_0's auc: 0.735534\n",
      "[700]\tvalid_0's binary_logloss: 0.598482\tvalid_0's auc: 0.73633\n",
      "[800]\tvalid_0's binary_logloss: 0.597911\tvalid_0's auc: 0.737024\n",
      "[900]\tvalid_0's binary_logloss: 0.597436\tvalid_0's auc: 0.73758\n",
      "[1000]\tvalid_0's binary_logloss: 0.597031\tvalid_0's auc: 0.738045\n",
      "[1100]\tvalid_0's binary_logloss: 0.596664\tvalid_0's auc: 0.738477\n",
      "[1200]\tvalid_0's binary_logloss: 0.596321\tvalid_0's auc: 0.738892\n",
      "[1300]\tvalid_0's binary_logloss: 0.596062\tvalid_0's auc: 0.739206\n",
      "[1400]\tvalid_0's binary_logloss: 0.595783\tvalid_0's auc: 0.739528\n",
      "[1500]\tvalid_0's binary_logloss: 0.595513\tvalid_0's auc: 0.739832\n",
      "[1600]\tvalid_0's binary_logloss: 0.595309\tvalid_0's auc: 0.740062\n",
      "[1700]\tvalid_0's binary_logloss: 0.595082\tvalid_0's auc: 0.740314\n",
      "[1800]\tvalid_0's binary_logloss: 0.594882\tvalid_0's auc: 0.74055\n",
      "[1900]\tvalid_0's binary_logloss: 0.594738\tvalid_0's auc: 0.740708\n",
      "[2000]\tvalid_0's binary_logloss: 0.594579\tvalid_0's auc: 0.740899\n",
      "Did not meet early stopping. Best iteration is:\n",
      "[1999]\tvalid_0's binary_logloss: 0.594579\tvalid_0's auc: 0.740899\n",
      "Fold 3\n",
      "\n",
      "Training until validation scores don't improve for 20 rounds.\n",
      "[100]\tvalid_0's binary_logloss: 0.618205\tvalid_0's auc: 0.715636\n",
      "[200]\tvalid_0's binary_logloss: 0.608789\tvalid_0's auc: 0.724561\n",
      "[300]\tvalid_0's binary_logloss: 0.604671\tvalid_0's auc: 0.729137\n",
      "[400]\tvalid_0's binary_logloss: 0.602215\tvalid_0's auc: 0.731999\n",
      "[500]\tvalid_0's binary_logloss: 0.600574\tvalid_0's auc: 0.733957\n",
      "[600]\tvalid_0's binary_logloss: 0.599544\tvalid_0's auc: 0.735163\n",
      "[700]\tvalid_0's binary_logloss: 0.598866\tvalid_0's auc: 0.735958\n",
      "[800]\tvalid_0's binary_logloss: 0.598248\tvalid_0's auc: 0.736662\n",
      "[900]\tvalid_0's binary_logloss: 0.597769\tvalid_0's auc: 0.737228\n",
      "[1000]\tvalid_0's binary_logloss: 0.597368\tvalid_0's auc: 0.737694\n",
      "[1100]\tvalid_0's binary_logloss: 0.596964\tvalid_0's auc: 0.738166\n",
      "[1200]\tvalid_0's binary_logloss: 0.596679\tvalid_0's auc: 0.7385\n",
      "[1300]\tvalid_0's binary_logloss: 0.596353\tvalid_0's auc: 0.738883\n",
      "[1400]\tvalid_0's binary_logloss: 0.59605\tvalid_0's auc: 0.739215\n",
      "[1500]\tvalid_0's binary_logloss: 0.595768\tvalid_0's auc: 0.73952\n",
      "[1600]\tvalid_0's binary_logloss: 0.595556\tvalid_0's auc: 0.739766\n",
      "[1700]\tvalid_0's binary_logloss: 0.595348\tvalid_0's auc: 0.740007\n",
      "[1800]\tvalid_0's binary_logloss: 0.595173\tvalid_0's auc: 0.740206\n",
      "[1900]\tvalid_0's binary_logloss: 0.594971\tvalid_0's auc: 0.740445\n",
      "[2000]\tvalid_0's binary_logloss: 0.594804\tvalid_0's auc: 0.740635\n",
      "Did not meet early stopping. Best iteration is:\n",
      "[2000]\tvalid_0's binary_logloss: 0.594804\tvalid_0's auc: 0.740635\n",
      "Fold 4\n",
      "\n",
      "Training until validation scores don't improve for 20 rounds.\n",
      "[100]\tvalid_0's binary_logloss: 0.617685\tvalid_0's auc: 0.716468\n",
      "[200]\tvalid_0's binary_logloss: 0.608245\tvalid_0's auc: 0.725272\n",
      "[300]\tvalid_0's binary_logloss: 0.604079\tvalid_0's auc: 0.729888\n",
      "[400]\tvalid_0's binary_logloss: 0.601574\tvalid_0's auc: 0.732765\n",
      "[500]\tvalid_0's binary_logloss: 0.599948\tvalid_0's auc: 0.734681\n",
      "[600]\tvalid_0's binary_logloss: 0.598858\tvalid_0's auc: 0.735976\n",
      "[700]\tvalid_0's binary_logloss: 0.598214\tvalid_0's auc: 0.736753\n",
      "[800]\tvalid_0's binary_logloss: 0.59765\tvalid_0's auc: 0.737424\n",
      "[900]\tvalid_0's binary_logloss: 0.597204\tvalid_0's auc: 0.737943\n",
      "[1000]\tvalid_0's binary_logloss: 0.596791\tvalid_0's auc: 0.738423\n",
      "[1100]\tvalid_0's binary_logloss: 0.596405\tvalid_0's auc: 0.738873\n",
      "[1200]\tvalid_0's binary_logloss: 0.596122\tvalid_0's auc: 0.739206\n",
      "[1300]\tvalid_0's binary_logloss: 0.595842\tvalid_0's auc: 0.739524\n",
      "[1400]\tvalid_0's binary_logloss: 0.595543\tvalid_0's auc: 0.73983\n",
      "[1500]\tvalid_0's binary_logloss: 0.59531\tvalid_0's auc: 0.74011\n",
      "[1600]\tvalid_0's binary_logloss: 0.595103\tvalid_0's auc: 0.740351\n",
      "[1700]\tvalid_0's binary_logloss: 0.594895\tvalid_0's auc: 0.740591\n",
      "[1800]\tvalid_0's binary_logloss: 0.594754\tvalid_0's auc: 0.740756\n",
      "[1900]\tvalid_0's binary_logloss: 0.594547\tvalid_0's auc: 0.740988\n",
      "[2000]\tvalid_0's binary_logloss: 0.594335\tvalid_0's auc: 0.74123\n",
      "Did not meet early stopping. Best iteration is:\n",
      "[2000]\tvalid_0's binary_logloss: 0.594335\tvalid_0's auc: 0.74123\n",
      "Fold 5\n",
      "\n",
      "Training until validation scores don't improve for 20 rounds.\n",
      "[100]\tvalid_0's binary_logloss: 0.619574\tvalid_0's auc: 0.715447\n",
      "[200]\tvalid_0's binary_logloss: 0.608875\tvalid_0's auc: 0.724409\n",
      "[300]\tvalid_0's binary_logloss: 0.604588\tvalid_0's auc: 0.728857\n",
      "[400]\tvalid_0's binary_logloss: 0.602195\tvalid_0's auc: 0.731652\n",
      "[500]\tvalid_0's binary_logloss: 0.600702\tvalid_0's auc: 0.733436\n",
      "[600]\tvalid_0's binary_logloss: 0.599777\tvalid_0's auc: 0.734533\n",
      "[700]\tvalid_0's binary_logloss: 0.599151\tvalid_0's auc: 0.735306\n",
      "[800]\tvalid_0's binary_logloss: 0.598568\tvalid_0's auc: 0.735992\n",
      "[900]\tvalid_0's binary_logloss: 0.598126\tvalid_0's auc: 0.736509\n",
      "[1000]\tvalid_0's binary_logloss: 0.597668\tvalid_0's auc: 0.737061\n",
      "[1100]\tvalid_0's binary_logloss: 0.597299\tvalid_0's auc: 0.7375\n",
      "[1200]\tvalid_0's binary_logloss: 0.596978\tvalid_0's auc: 0.737893\n",
      "[1300]\tvalid_0's binary_logloss: 0.59666\tvalid_0's auc: 0.73828\n",
      "[1400]\tvalid_0's binary_logloss: 0.596352\tvalid_0's auc: 0.738633\n",
      "[1500]\tvalid_0's binary_logloss: 0.596101\tvalid_0's auc: 0.738926\n",
      "[1600]\tvalid_0's binary_logloss: 0.595934\tvalid_0's auc: 0.739123\n",
      "[1700]\tvalid_0's binary_logloss: 0.595692\tvalid_0's auc: 0.739376\n",
      "[1800]\tvalid_0's binary_logloss: 0.595457\tvalid_0's auc: 0.739621\n",
      "[1900]\tvalid_0's binary_logloss: 0.5953\tvalid_0's auc: 0.739797\n",
      "[2000]\tvalid_0's binary_logloss: 0.595094\tvalid_0's auc: 0.740029\n",
      "Did not meet early stopping. Best iteration is:\n",
      "[2000]\tvalid_0's binary_logloss: 0.595094\tvalid_0's auc: 0.740029\n"
     ]
    }
   ],
   "source": [
    "counter = 0\n",
    "for train_index, test_index in skf.split(train_ids, y_train):\n",
    "    \n",
    "    print('Fold {}\\n'.format(counter + 1))\n",
    "    \n",
    "#     X_fit = vstack([train[train_index[i*m:(i+1)*m]] for i in range(train_index.shape[0] // m + 1)])\n",
    "#     X_val = vstack([train[test_index[i*m:(i+1)*m]]  for i in range(test_index.shape[0] //  m + 1)])\n",
    "#     X_fit, X_val = csr_matrix(X_fit, dtype='float32'), csr_matrix(X_val, dtype='float32')\n",
    "    X_fit, X_val = X_train.iloc[train_index, :], X_train.iloc[test_index, :]\n",
    "    y_fit, y_val = y_train.iloc[train_index], y_train.iloc[test_index]\n",
    "    \n",
    "                              \n",
    "    #xgb_model = xgb.XGBClassifier(max_depth=6,\n",
    "    #                              n_estimators=30000,\n",
    "    #                              colsample_bytree=0.2,\n",
    "    #                              learning_rate=0.1,\n",
    "    #                              objective='binary:logistic', \n",
    "    #                              n_jobs=-1)\n",
    "    \n",
    "                               \n",
    "    lgb_model.fit(X_fit, y_fit, eval_metric='auc', \n",
    "                  eval_set=[(X_val, y_val)], \n",
    "                  verbose=100, early_stopping_rounds=20)\n",
    "                  \n",
    "    #xgb_model.fit(X_fit, y_fit, eval_metric='auc', \n",
    "    #              eval_set=[(X_val, y_val)], \n",
    "    #              verbose=1000, early_stopping_rounds=300)\n",
    "\n",
    "    #lgb_train_result[test_index] += lgb_model.predict_proba(X_val)[:,1]\n",
    "    #xgb_train_result[test_index] += xgb_model.predict_proba(X_val)[:,1]\n",
    "    \n",
    "    del X_fit, X_val, y_fit, y_val, train_index, test_index\n",
    "    gc.collect()\n",
    "    \n",
    "    counter += 1"
   ]
  },
  {
   "cell_type": "code",
   "execution_count": 17,
   "metadata": {
    "scrolled": true
   },
   "outputs": [
    {
     "name": "stdout",
     "output_type": "stream",
     "text": [
      "IsBeta 0\n",
      "RtpStateBitfield 1365\n",
      "IsSxsPassiveMode 525\n",
      "DefaultBrowsersIdentifier 1447\n",
      "AVProductStatesIdentifier 8784\n",
      "AVProductsInstalled 1449\n",
      "AVProductsEnabled 751\n",
      "HasTpm 191\n",
      "CountryIdentifier 8252\n",
      "CityIdentifier 5093\n",
      "OrganizationIdentifier 1978\n",
      "GeoNameIdentifier 4427\n",
      "LocaleEnglishNameIdentifier 5066\n",
      "OsBuild 1157\n",
      "OsSuite 872\n",
      "IsProtected 615\n",
      "AutoSampleOptIn 5\n",
      "SMode 624\n",
      "IeVerIdentifier 2749\n",
      "Firewall 636\n",
      "UacLuaenable 367\n",
      "Census_OEMNameIdentifier 3562\n",
      "Census_OEMModelIdentifier 4840\n",
      "Census_ProcessorCoreCount 1442\n",
      "Census_ProcessorManufacturerIdentifier 280\n",
      "Census_ProcessorModelIdentifier 5333\n",
      "Census_PrimaryDiskTotalCapacity 3366\n",
      "Census_SystemVolumeTotalCapacity 5609\n",
      "Census_HasOpticalDiskDrive 492\n",
      "Census_TotalPhysicalRAM 2240\n",
      "Census_InternalPrimaryDiagonalDisplaySizeInInches 4819\n",
      "Census_InternalPrimaryDisplayResolutionHorizontal 2152\n",
      "Census_InternalPrimaryDisplayResolutionVertical 1984\n",
      "Census_InternalBatteryNumberOfCharges 3044\n",
      "Census_OSBuildNumber 1194\n",
      "Census_OSBuildRevision 5395\n",
      "Census_OSInstallLanguageIdentifier 3354\n",
      "Census_OSUILocaleIdentifier 3491\n",
      "Census_IsPortableOperatingSystem 73\n",
      "Census_IsFlightingInternal 425\n",
      "Census_IsFlightsDisabled 219\n",
      "Census_ThresholdOptIn 630\n",
      "Census_FirmwareManufacturerIdentifier 2635\n",
      "Census_FirmwareVersionIdentifier 5143\n",
      "Census_IsSecureBootEnabled 742\n",
      "Census_IsWIMBootEnabled 654\n",
      "Census_IsVirtualDevice 358\n",
      "Census_IsTouchEnabled 421\n",
      "Census_IsPenCapable 215\n",
      "Census_IsAlwaysOnAlwaysConnectedCapable 359\n",
      "Wdft_IsGamer 2062\n",
      "Wdft_RegionIdentifier 4367\n",
      "Census_InternalBatteryType_informed 0\n",
      "ProductName_index 48\n",
      "Platform_index 140\n",
      "Processor_index 432\n",
      "OsPlatformSubRelease_index 979\n",
      "SkuEdition_index 923\n",
      "PuaMode_index 75\n",
      "SmartScreen_index 3152\n",
      "Census_MDC2FormFactor_index 1361\n",
      "Census_DeviceFamily_index 21\n",
      "Census_ProcessorClass_index 147\n",
      "Census_PrimaryDiskTypeName_index 1081\n",
      "Census_ChassisTypeName_index 1791\n",
      "Census_PowerPlatformRoleName_index 942\n",
      "Census_InternalBatteryType_index 937\n",
      "Census_OSArchitecture_index 443\n",
      "Census_OSBranch_index 1204\n",
      "Census_OSEdition_index 1453\n",
      "Census_OSSkuName_index 1449\n",
      "Census_OSInstallTypeName_index 3601\n",
      "Census_OSWUAutoUpdateOptionsName_index 1784\n",
      "Census_GenuineStateName_index 1232\n",
      "Census_ActivationChannel_index 2647\n",
      "Census_FlightRing_index 828\n",
      "Census_OSVersion_0 0\n",
      "Census_OSVersion_1 0\n",
      "Census_OSVersion_2 772\n",
      "Census_OSVersion_3 3938\n",
      "EngineVersion_2 2788\n",
      "EngineVersion_3 1082\n",
      "AppVersion_1 1891\n",
      "AppVersion_2 3061\n",
      "AppVersion_3 3218\n",
      "AvSigVersion_0 6\n",
      "AvSigVersion_1 2382\n",
      "AvSigVersion_2 6550\n",
      "OsVer_0 27\n",
      "OsVer_1 135\n",
      "OsVer_2 64\n",
      "OsVer_3 7\n",
      "OsBuildLab_0 755\n",
      "OsBuildLab_1 2516\n",
      "OsBuildLab_4_0 2978\n",
      "OsBuildLab_4_1 2084\n",
      "OsBuildLab_2_index 351\n",
      "OsBuildLab_3_index 1472\n"
     ]
    }
   ],
   "source": [
    "for i, j in zip(X_train.columns, lgb_model.feature_importances_):\n",
    "    print(i, j)"
   ]
  },
  {
   "cell_type": "code",
   "execution_count": 20,
   "metadata": {},
   "outputs": [
    {
     "data": {
      "text/plain": [
       "['../saved_models/lgbc_model_0.pkl']"
      ]
     },
     "execution_count": 20,
     "metadata": {},
     "output_type": "execute_result"
    }
   ],
   "source": [
    "joblib.dump(lgb_model, '../saved_models/lgbc_model_0.pkl')"
   ]
  },
  {
   "cell_type": "code",
   "execution_count": 5,
   "metadata": {},
   "outputs": [],
   "source": [
    "model = joblib.load('../saved_models/lgbc_model_0.pkl')"
   ]
  },
  {
   "cell_type": "code",
   "execution_count": 23,
   "metadata": {},
   "outputs": [
    {
     "data": {
      "text/plain": [
       "0"
      ]
     },
     "execution_count": 23,
     "metadata": {},
     "output_type": "execute_result"
    }
   ],
   "source": [
    "del X_train\n",
    "del y_train\n",
    "gc.collect()"
   ]
  },
  {
   "cell_type": "code",
   "execution_count": 6,
   "metadata": {},
   "outputs": [],
   "source": [
    "path = '../data/test_final_0'"
   ]
  },
  {
   "cell_type": "code",
   "execution_count": 7,
   "metadata": {},
   "outputs": [
    {
     "name": "stdout",
     "output_type": "stream",
     "text": [
      "0\n",
      "10\n",
      "20\n",
      "30\n"
     ]
    }
   ],
   "source": [
    "allFiles = glob.glob(path + \"/*.csv\")\n",
    "\n",
    "list_ = []\n",
    "n = 0\n",
    "\n",
    "for file_ in allFiles:\n",
    "#     mask = file_['Platform_index'] != 0\n",
    "    df = pd.read_csv(file_, dtype=dict_dtypes, low_memory=True)\n",
    "    list_.append(df)\n",
    "    if n%10==0:\n",
    "        print(n)\n",
    "    n+=1\n",
    "\n",
    "test = pd.concat(list_, axis = 0, ignore_index = True)"
   ]
  },
  {
   "cell_type": "code",
   "execution_count": 9,
   "metadata": {},
   "outputs": [
    {
     "data": {
      "text/plain": [
       "(7853253, 100)"
      ]
     },
     "execution_count": 9,
     "metadata": {},
     "output_type": "execute_result"
    }
   ],
   "source": [
    "test.shape"
   ]
  },
  {
   "cell_type": "code",
   "execution_count": 8,
   "metadata": {},
   "outputs": [],
   "source": [
    "sel_cols = [c for c in test.columns if c not in ['MachineIdentifier', 'HasDetections']]"
   ]
  },
  {
   "cell_type": "code",
   "execution_count": 10,
   "metadata": {},
   "outputs": [
    {
     "data": {
      "text/plain": [
       "0"
      ]
     },
     "execution_count": 10,
     "metadata": {},
     "output_type": "execute_result"
    }
   ],
   "source": [
    "X_test = test.loc[:, sel_cols]\n",
    "X_machines = test.loc[:,'MachineIdentifier']\n",
    "del test\n",
    "gc.collect()"
   ]
  },
  {
   "cell_type": "code",
   "execution_count": 11,
   "metadata": {},
   "outputs": [],
   "source": [
    "preds = model.predict_proba(X_test)"
   ]
  },
  {
   "cell_type": "code",
   "execution_count": 12,
   "metadata": {},
   "outputs": [
    {
     "data": {
      "text/plain": [
       "7853253"
      ]
     },
     "execution_count": 12,
     "metadata": {},
     "output_type": "execute_result"
    }
   ],
   "source": [
    "len(preds)"
   ]
  },
  {
   "cell_type": "code",
   "execution_count": 13,
   "metadata": {},
   "outputs": [],
   "source": [
    "preds_1 = preds[:,1]"
   ]
  },
  {
   "cell_type": "code",
   "execution_count": 14,
   "metadata": {},
   "outputs": [
    {
     "data": {
      "text/plain": [
       "7853253"
      ]
     },
     "execution_count": 14,
     "metadata": {},
     "output_type": "execute_result"
    }
   ],
   "source": [
    "len(preds_1)"
   ]
  },
  {
   "cell_type": "code",
   "execution_count": 15,
   "metadata": {},
   "outputs": [
    {
     "data": {
      "text/plain": [
       "7853253"
      ]
     },
     "execution_count": 15,
     "metadata": {},
     "output_type": "execute_result"
    }
   ],
   "source": [
    "len(X_machines)"
   ]
  },
  {
   "cell_type": "code",
   "execution_count": 16,
   "metadata": {},
   "outputs": [],
   "source": [
    "df_prds = pd.DataFrame({'MachineIdentifier': X_machines, 'HasDetections': preds_1})"
   ]
  },
  {
   "cell_type": "code",
   "execution_count": 17,
   "metadata": {},
   "outputs": [
    {
     "data": {
      "text/html": [
       "<div>\n",
       "<style scoped>\n",
       "    .dataframe tbody tr th:only-of-type {\n",
       "        vertical-align: middle;\n",
       "    }\n",
       "\n",
       "    .dataframe tbody tr th {\n",
       "        vertical-align: top;\n",
       "    }\n",
       "\n",
       "    .dataframe thead th {\n",
       "        text-align: right;\n",
       "    }\n",
       "</style>\n",
       "<table border=\"1\" class=\"dataframe\">\n",
       "  <thead>\n",
       "    <tr style=\"text-align: right;\">\n",
       "      <th></th>\n",
       "      <th>MachineIdentifier</th>\n",
       "      <th>HasDetections</th>\n",
       "    </tr>\n",
       "  </thead>\n",
       "  <tbody>\n",
       "    <tr>\n",
       "      <th>0</th>\n",
       "      <td>000037d9ea7b7cfbf476b433586e5113</td>\n",
       "      <td>0.446491</td>\n",
       "    </tr>\n",
       "    <tr>\n",
       "      <th>1</th>\n",
       "      <td>000055ea914f7ef72f9ad26b5cdf4195</td>\n",
       "      <td>0.389861</td>\n",
       "    </tr>\n",
       "    <tr>\n",
       "      <th>2</th>\n",
       "      <td>00009cf494f93eab0732fe30814791ec</td>\n",
       "      <td>0.536218</td>\n",
       "    </tr>\n",
       "    <tr>\n",
       "      <th>3</th>\n",
       "      <td>00009dbf12762fca1d5d6624ca4a260c</td>\n",
       "      <td>0.482819</td>\n",
       "    </tr>\n",
       "    <tr>\n",
       "      <th>4</th>\n",
       "      <td>0000fae061a473c3ce173f5e545c36fe</td>\n",
       "      <td>0.590998</td>\n",
       "    </tr>\n",
       "  </tbody>\n",
       "</table>\n",
       "</div>"
      ],
      "text/plain": [
       "                  MachineIdentifier  HasDetections\n",
       "0  000037d9ea7b7cfbf476b433586e5113       0.446491\n",
       "1  000055ea914f7ef72f9ad26b5cdf4195       0.389861\n",
       "2  00009cf494f93eab0732fe30814791ec       0.536218\n",
       "3  00009dbf12762fca1d5d6624ca4a260c       0.482819\n",
       "4  0000fae061a473c3ce173f5e545c36fe       0.590998"
      ]
     },
     "execution_count": 17,
     "metadata": {},
     "output_type": "execute_result"
    }
   ],
   "source": [
    "df_prds.head()"
   ]
  },
  {
   "cell_type": "code",
   "execution_count": 18,
   "metadata": {},
   "outputs": [],
   "source": [
    "df_prds.to_csv('../submissions/lgb_model_0.csv', index=None)"
   ]
  },
  {
   "cell_type": "code",
   "execution_count": null,
   "metadata": {},
   "outputs": [],
   "source": []
  }
 ],
 "metadata": {
  "kernelspec": {
   "display_name": "Python 3",
   "language": "python",
   "name": "python3"
  },
  "language_info": {
   "codemirror_mode": {
    "name": "ipython",
    "version": 3
   },
   "file_extension": ".py",
   "mimetype": "text/x-python",
   "name": "python",
   "nbconvert_exporter": "python",
   "pygments_lexer": "ipython3",
   "version": "3.6.7"
  }
 },
 "nbformat": 4,
 "nbformat_minor": 2
}
