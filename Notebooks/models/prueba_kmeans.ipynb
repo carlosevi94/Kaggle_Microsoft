{
 "cells": [
  {
   "cell_type": "code",
   "execution_count": 46,
   "metadata": {},
   "outputs": [],
   "source": [
    "from pyspark import SparkContext\n",
    "from pyspark.sql import SparkSession\n",
    "from pyspark.sql.types import StructType, StructField, StringType, IntegerType, DateType\n",
    "from pyspark.ml import Pipeline\n",
    "from pyspark.ml.feature import VectorAssembler\n",
    "from pyspark.ml.evaluation import BinaryClassificationEvaluator\n",
    "from pyspark.ml.tuning import CrossValidator, ParamGridBuilder\n",
    "from pyspark.ml.classification import RandomForestClassifier\n",
    "from pyspark.ml.clustering import KMeans"
   ]
  },
  {
   "cell_type": "code",
   "execution_count": 2,
   "metadata": {},
   "outputs": [],
   "source": [
    "spark = SparkSession.builder.appName('RF_trainer').getOrCreate()"
   ]
  },
  {
   "cell_type": "code",
   "execution_count": 3,
   "metadata": {},
   "outputs": [],
   "source": [
    "df_num = spark.read \\\n",
    "    .options(header = \"true\", sep=',', inferschema = \"true\") \\\n",
    "    .csv('../../data/df_num_imputed_2/*.csv').limit(10000)"
   ]
  },
  {
   "cell_type": "code",
   "execution_count": 4,
   "metadata": {
    "scrolled": true
   },
   "outputs": [
    {
     "name": "stdout",
     "output_type": "stream",
     "text": [
      "+------+----------------+----------------+-------------------------+-------------------------+-------------------+-----------------+------+-----------------+--------------+----------------------+-----------------+---------------------------+-------+-------+-----------+---------------+-----+---------------+--------+------------+------------------------+-------------------------+-------------------------+--------------------------------------+-------------------------------+-------------------------------+--------------------------------+--------------------------+-----------------------+-------------------------------------------------+-------------------------------------------------+-----------------------------------------------+-------------------------------------+--------------------+----------------------+----------------------------------+---------------------------+--------------------------------+--------------------------+------------------------+---------------------+-------------------------------------+--------------------------------+--------------------------+-----------------------+----------------------+---------------------+-------------------+---------------------------------------+------------+---------------------+-------------+--------------------+\n",
      "|IsBeta|RtpStateBitfield|IsSxsPassiveMode|DefaultBrowsersIdentifier|AVProductStatesIdentifier|AVProductsInstalled|AVProductsEnabled|HasTpm|CountryIdentifier|CityIdentifier|OrganizationIdentifier|GeoNameIdentifier|LocaleEnglishNameIdentifier|OsBuild|OsSuite|IsProtected|AutoSampleOptIn|SMode|IeVerIdentifier|Firewall|UacLuaenable|Census_OEMNameIdentifier|Census_OEMModelIdentifier|Census_ProcessorCoreCount|Census_ProcessorManufacturerIdentifier|Census_ProcessorModelIdentifier|Census_PrimaryDiskTotalCapacity|Census_SystemVolumeTotalCapacity|Census_HasOpticalDiskDrive|Census_TotalPhysicalRAM|Census_InternalPrimaryDiagonalDisplaySizeInInches|Census_InternalPrimaryDisplayResolutionHorizontal|Census_InternalPrimaryDisplayResolutionVertical|Census_InternalBatteryNumberOfCharges|Census_OSBuildNumber|Census_OSBuildRevision|Census_OSInstallLanguageIdentifier|Census_OSUILocaleIdentifier|Census_IsPortableOperatingSystem|Census_IsFlightingInternal|Census_IsFlightsDisabled|Census_ThresholdOptIn|Census_FirmwareManufacturerIdentifier|Census_FirmwareVersionIdentifier|Census_IsSecureBootEnabled|Census_IsWIMBootEnabled|Census_IsVirtualDevice|Census_IsTouchEnabled|Census_IsPenCapable|Census_IsAlwaysOnAlwaysConnectedCapable|Wdft_IsGamer|Wdft_RegionIdentifier|HasDetections|   MachineIdentifier|\n",
      "+------+----------------+----------------+-------------------------+-------------------------+-------------------+-----------------+------+-----------------+--------------+----------------------+-----------------+---------------------------+-------+-------+-----------+---------------+-----+---------------+--------+------------+------------------------+-------------------------+-------------------------+--------------------------------------+-------------------------------+-------------------------------+--------------------------------+--------------------------+-----------------------+-------------------------------------------------+-------------------------------------------------+-----------------------------------------------+-------------------------------------+--------------------+----------------------+----------------------------------+---------------------------+--------------------------------+--------------------------+------------------------+---------------------+-------------------------------------+--------------------------------+--------------------------+-----------------------+----------------------+---------------------+-------------------+---------------------------------------+------------+---------------------+-------------+--------------------+\n",
      "|     0|               7|               0|                        0|                    62773|                  1|                1|     1|               73|           666|                    27|              277|                         75|  10240|    256|          0|              0|    0|             53|       1|           1|                    2668|                   171320|                        2|                                     5|                           1998|                         476940|                          476438|                         1|                   4096|                                             15.5|                                             1366|                                            768|                                    0|               10240|                 17443|                                 8|                         31|                               0|                         0|                       0|                    0|                                  628|                            8791|                         0|                      0|                     0|                    0|                  0|                                      0|           0|                   11|            0|99c804d47a37fee99...|\n",
      "|     0|               7|               0|                        0|                    62773|                  1|                1|     1|              201|         53596|                    -1|              267|                        251|  16299|    768|          0|              0|    0|            135|       1|           1|                    4730|                   302678|                        4|                                     5|                           2525|                         610480|                          169864|                         0|                   8192|                                             15.5|                                             1366|                                            768|                                    0|               16299|                   125|                                35|                        148|                               0|                         2|                       0|                    2|                                  556|                            6899|                         1|                      2|                     0|                    1|                  0|                                      0|           0|                   11|            0|99c805687aec04861...|\n",
      "|     0|               7|               0|                        0|                    53447|                  1|                1|     1|              195|         10222|                    18|              204|                        170|  16299|    768|          1|              0|    0|            117|       1|           1|                    2102|                   238938|                        4|                                     5|                           3063|                         244198|                          243582|                         0|                  16384|                                             13.2|                                             3840|                                           2160|                                    0|               16299|                   547|                                25|                        115|                               0|                         2|                       0|                    2|                                  142|                           33015|                         1|                      2|                     0|                    1|                  0|                                      0|           1|                    1|            0|99c806052bcc7295a...|\n",
      "+------+----------------+----------------+-------------------------+-------------------------+-------------------+-----------------+------+-----------------+--------------+----------------------+-----------------+---------------------------+-------+-------+-----------+---------------+-----+---------------+--------+------------+------------------------+-------------------------+-------------------------+--------------------------------------+-------------------------------+-------------------------------+--------------------------------+--------------------------+-----------------------+-------------------------------------------------+-------------------------------------------------+-----------------------------------------------+-------------------------------------+--------------------+----------------------+----------------------------------+---------------------------+--------------------------------+--------------------------+------------------------+---------------------+-------------------------------------+--------------------------------+--------------------------+-----------------------+----------------------+---------------------+-------------------+---------------------------------------+------------+---------------------+-------------+--------------------+\n",
      "only showing top 3 rows\n",
      "\n"
     ]
    }
   ],
   "source": [
    "df_num.show(3)"
   ]
  },
  {
   "cell_type": "code",
   "execution_count": 57,
   "metadata": {},
   "outputs": [],
   "source": [
    "cols_sel = df_num.columns\n",
    "cols_sel.remove('HasDetections')\n",
    "cols_sel.remove('MachineIdentifier')"
   ]
  },
  {
   "cell_type": "code",
   "execution_count": 64,
   "metadata": {},
   "outputs": [],
   "source": [
    "assembler_features = VectorAssembler(inputCols=cols_sel, outputCol='features')\n",
    "train_data = assembler_features.transform(df_num)\n",
    "train_data_final = train_data.select('features', 'MachineIdentifier')"
   ]
  },
  {
   "cell_type": "code",
   "execution_count": 65,
   "metadata": {},
   "outputs": [
    {
     "data": {
      "text/plain": [
       "10000"
      ]
     },
     "execution_count": 65,
     "metadata": {},
     "output_type": "execute_result"
    }
   ],
   "source": [
    "train_data_final.persist()\n",
    "train_data_final.count()"
   ]
  },
  {
   "cell_type": "code",
   "execution_count": 66,
   "metadata": {},
   "outputs": [
    {
     "name": "stdout",
     "output_type": "stream",
     "text": [
      "+--------------------+--------------------+\n",
      "|            features|   MachineIdentifier|\n",
      "+--------------------+--------------------+\n",
      "|[0.0,7.0,0.0,0.0,...|99c804d47a37fee99...|\n",
      "|[0.0,7.0,0.0,0.0,...|99c805687aec04861...|\n",
      "|[0.0,7.0,0.0,0.0,...|99c806052bcc7295a...|\n",
      "+--------------------+--------------------+\n",
      "only showing top 3 rows\n",
      "\n"
     ]
    }
   ],
   "source": [
    "train_data_final.show(3)"
   ]
  },
  {
   "cell_type": "code",
   "execution_count": 82,
   "metadata": {},
   "outputs": [],
   "source": [
    "df_kmeans = train_data_final.select('MachineIdentifier')"
   ]
  },
  {
   "cell_type": "code",
   "execution_count": 67,
   "metadata": {},
   "outputs": [],
   "source": [
    "k = 2"
   ]
  },
  {
   "cell_type": "code",
   "execution_count": 85,
   "metadata": {},
   "outputs": [],
   "source": [
    "ks = [2, 4, 8, 16, 32]\n",
    "\n",
    "for k in ks:\n",
    "    kmeans = KMeans(predictionCol='prediction_{}'.format(k),                   \n",
    "                featuresCol='features').setK(k).setSeed(1)\n",
    "    \n",
    "    model = kmeans.fit(train_data_final)\n",
    "    df_tra = model.transform(train_data_final)\n",
    "    df_kmeans = df_kmeans.join(df_tra.select('MachineIdentifier',\n",
    "                                         'prediction_{}'.format(k) ),\n",
    "                           ['MachineIdentifier'])"
   ]
  },
  {
   "cell_type": "code",
   "execution_count": 86,
   "metadata": {},
   "outputs": [
    {
     "name": "stdout",
     "output_type": "stream",
     "text": [
      "+--------------------+------------+------------+------------+------------+-------------+-------------+\n",
      "|   MachineIdentifier|prediction_2|prediction_2|prediction_4|prediction_8|prediction_16|prediction_32|\n",
      "+--------------------+------------+------------+------------+------------+-------------+-------------+\n",
      "|99c804d47a37fee99...|           0|           0|           0|           6|            3|            0|\n",
      "|99c805687aec04861...|           0|           0|           0|           5|            9|           16|\n",
      "|99c806052bcc7295a...|           0|           0|           0|           2|           13|           13|\n",
      "|99c807cca358a4da9...|           0|           0|           2|           1|            1|            4|\n",
      "|99c807d05fc14d514...|           0|           0|           0|           2|           13|           13|\n",
      "|99c808bf1c35d8eac...|           1|           1|           1|           3|           14|           27|\n",
      "+--------------------+------------+------------+------------+------------+-------------+-------------+\n",
      "only showing top 6 rows\n",
      "\n"
     ]
    }
   ],
   "source": [
    "df_kmeans.show(6)"
   ]
  },
  {
   "cell_type": "code",
   "execution_count": null,
   "metadata": {},
   "outputs": [],
   "source": []
  },
  {
   "cell_type": "code",
   "execution_count": null,
   "metadata": {},
   "outputs": [],
   "source": []
  },
  {
   "cell_type": "code",
   "execution_count": 68,
   "metadata": {},
   "outputs": [],
   "source": [
    "kmeans = KMeans(predictionCol='prediction_{}'.format(k),                   \n",
    "                featuresCol='features').setK(k).setSeed(1)"
   ]
  },
  {
   "cell_type": "code",
   "execution_count": 69,
   "metadata": {},
   "outputs": [],
   "source": [
    "model = kmeans.fit(train_data_final)"
   ]
  },
  {
   "cell_type": "code",
   "execution_count": 72,
   "metadata": {},
   "outputs": [],
   "source": [
    "df_tra = model.transform(train_data_final)"
   ]
  },
  {
   "cell_type": "code",
   "execution_count": 73,
   "metadata": {},
   "outputs": [
    {
     "name": "stdout",
     "output_type": "stream",
     "text": [
      "+--------------------+--------------------+------------+\n",
      "|            features|   MachineIdentifier|prediction_2|\n",
      "+--------------------+--------------------+------------+\n",
      "|[0.0,7.0,0.0,0.0,...|99c804d47a37fee99...|           0|\n",
      "|[0.0,7.0,0.0,0.0,...|99c805687aec04861...|           0|\n",
      "|[0.0,7.0,0.0,0.0,...|99c806052bcc7295a...|           0|\n",
      "|[0.0,7.0,0.0,0.0,...|99c807cca358a4da9...|           0|\n",
      "|[0.0,7.0,0.0,0.0,...|99c807d05fc14d514...|           0|\n",
      "|[0.0,7.0,0.0,0.0,...|99c808bf1c35d8eac...|           1|\n",
      "|[0.0,7.0,0.0,0.0,...|99c80c378c6e2a870...|           0|\n",
      "|[0.0,7.0,0.0,0.0,...|99c80d365290a4967...|           1|\n",
      "|[0.0,7.0,0.0,0.0,...|99c80e5410eb29910...|           0|\n",
      "|[0.0,7.0,0.0,0.0,...|99c80f0c6c56a5a93...|           0|\n",
      "+--------------------+--------------------+------------+\n",
      "only showing top 10 rows\n",
      "\n"
     ]
    }
   ],
   "source": [
    "df_tra.show(10)"
   ]
  },
  {
   "cell_type": "code",
   "execution_count": 83,
   "metadata": {},
   "outputs": [],
   "source": [
    "df_kmeans = df_kmeans.join(df_tra.select('MachineIdentifier',\n",
    "                                         'prediction_{}'.format(k) ),\n",
    "                           ['MachineIdentifier'])"
   ]
  },
  {
   "cell_type": "code",
   "execution_count": 84,
   "metadata": {},
   "outputs": [
    {
     "name": "stdout",
     "output_type": "stream",
     "text": [
      "+--------------------+------------+\n",
      "|   MachineIdentifier|prediction_2|\n",
      "+--------------------+------------+\n",
      "|99c804d47a37fee99...|           0|\n",
      "|99c805687aec04861...|           0|\n",
      "|99c806052bcc7295a...|           0|\n",
      "|99c807cca358a4da9...|           0|\n",
      "|99c807d05fc14d514...|           0|\n",
      "|99c808bf1c35d8eac...|           1|\n",
      "|99c80c378c6e2a870...|           0|\n",
      "|99c80d365290a4967...|           1|\n",
      "|99c80e5410eb29910...|           0|\n",
      "|99c80f0c6c56a5a93...|           0|\n",
      "|99c810ef02ac5226b...|           1|\n",
      "|99c812248891e0a6a...|           0|\n",
      "|99c8148cc0f6bc1e0...|           0|\n",
      "|99c815858aeaced1b...|           1|\n",
      "|99c815b7d5c26432b...|           0|\n",
      "|99c8178493698dfb0...|           1|\n",
      "|99c817bbc956505bf...|           0|\n",
      "|99c81ab0b3f6fb2a8...|           0|\n",
      "|99c81bc07b472d7e4...|           0|\n",
      "|99c81c10c1173bf60...|           0|\n",
      "+--------------------+------------+\n",
      "only showing top 20 rows\n",
      "\n"
     ]
    }
   ],
   "source": [
    "df_kmeans.show()"
   ]
  },
  {
   "cell_type": "code",
   "execution_count": 74,
   "metadata": {},
   "outputs": [],
   "source": [
    "k = 4"
   ]
  },
  {
   "cell_type": "code",
   "execution_count": 78,
   "metadata": {},
   "outputs": [],
   "source": [
    "kmeans4 = KMeans(predictionCol='prediction_{}'.format(k),\n",
    "                featuresCol='features').setK(k).setSeed(1)"
   ]
  },
  {
   "cell_type": "code",
   "execution_count": 79,
   "metadata": {},
   "outputs": [],
   "source": [
    "model4 = kmeans4.fit(train_data_final)"
   ]
  },
  {
   "cell_type": "code",
   "execution_count": 80,
   "metadata": {},
   "outputs": [],
   "source": [
    "df_tra4 = model4.transform(train_data_final)"
   ]
  },
  {
   "cell_type": "code",
   "execution_count": 81,
   "metadata": {},
   "outputs": [
    {
     "name": "stdout",
     "output_type": "stream",
     "text": [
      "+--------------------+--------------------+------------+\n",
      "|            features|   MachineIdentifier|prediction_4|\n",
      "+--------------------+--------------------+------------+\n",
      "|[0.0,7.0,0.0,0.0,...|99c804d47a37fee99...|           0|\n",
      "|[0.0,7.0,0.0,0.0,...|99c805687aec04861...|           0|\n",
      "|[0.0,7.0,0.0,0.0,...|99c806052bcc7295a...|           0|\n",
      "|[0.0,7.0,0.0,0.0,...|99c807cca358a4da9...|           2|\n",
      "|[0.0,7.0,0.0,0.0,...|99c807d05fc14d514...|           0|\n",
      "|[0.0,7.0,0.0,0.0,...|99c808bf1c35d8eac...|           1|\n",
      "|[0.0,7.0,0.0,0.0,...|99c80c378c6e2a870...|           0|\n",
      "|[0.0,7.0,0.0,0.0,...|99c80d365290a4967...|           1|\n",
      "|[0.0,7.0,0.0,0.0,...|99c80e5410eb29910...|           0|\n",
      "|[0.0,7.0,0.0,0.0,...|99c80f0c6c56a5a93...|           0|\n",
      "+--------------------+--------------------+------------+\n",
      "only showing top 10 rows\n",
      "\n"
     ]
    }
   ],
   "source": [
    "df_tra4.show(10)"
   ]
  },
  {
   "cell_type": "code",
   "execution_count": 44,
   "metadata": {},
   "outputs": [
    {
     "name": "stdout",
     "output_type": "stream",
     "text": [
      "+--------------------+------------+------------+\n",
      "|            features|prediction_4|prediction_2|\n",
      "+--------------------+------------+------------+\n",
      "|[0.0,7.0,0.0,0.0,...|           0|           0|\n",
      "|[0.0,7.0,0.0,0.0,...|           0|           0|\n",
      "|[0.0,7.0,0.0,0.0,...|           0|           0|\n",
      "|[0.0,7.0,0.0,0.0,...|           2|           0|\n",
      "|[0.0,7.0,0.0,0.0,...|           0|           0|\n",
      "|[0.0,7.0,0.0,0.0,...|           1|           1|\n",
      "|[0.0,7.0,0.0,0.0,...|           0|           0|\n",
      "|[0.0,7.0,0.0,0.0,...|           1|           1|\n",
      "|[0.0,7.0,0.0,0.0,...|           0|           0|\n",
      "|[0.0,7.0,0.0,0.0,...|           0|           0|\n",
      "|[0.0,8.0,0.0,0.0,...|           1|           1|\n",
      "|[0.0,7.0,0.0,0.0,...|           0|           0|\n",
      "|[0.0,7.0,0.0,0.0,...|           0|           0|\n",
      "|[0.0,7.0,0.0,0.0,...|           1|           1|\n",
      "|[0.0,7.0,0.0,0.0,...|           0|           0|\n",
      "|[0.0,7.0,0.0,0.0,...|           1|           1|\n",
      "|[0.0,7.0,0.0,0.0,...|           0|           0|\n",
      "|[0.0,7.0,0.0,0.0,...|           0|           0|\n",
      "|[0.0,7.0,0.0,221....|           0|           0|\n",
      "|[0.0,3.0,0.0,0.0,...|           0|           0|\n",
      "+--------------------+------------+------------+\n",
      "only showing top 20 rows\n",
      "\n"
     ]
    }
   ],
   "source": [
    "df_tra4.join(df_tra, ['MachineIdentifier']).show()"
   ]
  },
  {
   "cell_type": "code",
   "execution_count": null,
   "metadata": {},
   "outputs": [],
   "source": []
  }
 ],
 "metadata": {
  "kernelspec": {
   "display_name": "Python 3",
   "language": "python",
   "name": "python3"
  },
  "language_info": {
   "codemirror_mode": {
    "name": "ipython",
    "version": 3
   },
   "file_extension": ".py",
   "mimetype": "text/x-python",
   "name": "python",
   "nbconvert_exporter": "python",
   "pygments_lexer": "ipython3",
   "version": "3.6.7"
  }
 },
 "nbformat": 4,
 "nbformat_minor": 2
}
