{
 "cells": [
  {
   "cell_type": "code",
   "execution_count": 1,
   "metadata": {},
   "outputs": [
    {
     "name": "stderr",
     "output_type": "stream",
     "text": [
      "Using TensorFlow backend.\n"
     ]
    }
   ],
   "source": [
    "import keras"
   ]
  },
  {
   "cell_type": "code",
   "execution_count": 2,
   "metadata": {},
   "outputs": [],
   "source": [
    "import pandas as pd\n",
    "import numpy as np\n",
    "import glob"
   ]
  },
  {
   "cell_type": "code",
   "execution_count": 3,
   "metadata": {},
   "outputs": [],
   "source": [
    "schema_train_3 = {\n",
    "    'IsBeta': np.int8,\n",
    "    'RtpStateBitfield': np.int8,\n",
    "    'IsSxsPassiveMode': np.int8,\n",
    "    'DefaultBrowsersIdentifier': np.int16,\n",
    "    'AVProductStatesIdentifier': np.int32,\n",
    "    'AVProductsInstalled': np.int8,\n",
    "    'AVProductsEnabled': np.int8,\n",
    "    'HasTpm': np.int8,\n",
    "    'CountryIdentifier': np.int16,\n",
    "    'CityIdentifier': np.int32,\n",
    "    'OrganizationIdentifier': np.int8,\n",
    "    'GeoNameIdentifier': np.int16,\n",
    "    'LocaleEnglishNameIdentifier': np.int16,\n",
    "    'OsBuild': np.int16,\n",
    "    'OsSuite': np.int16,\n",
    "    'IsProtected': np.int8,\n",
    "    'AutoSampleOptIn': np.int8,\n",
    "    'SMode': np.int8,\n",
    "    'IeVerIdentifier': np.int16,\n",
    "    'Firewall': np.int8,\n",
    "    'UacLuaenable': np.int32,\n",
    "    'Census_OEMNameIdentifier': np.int16,\n",
    "    'Census_OEMModelIdentifier': np.int32,\n",
    "    'Census_ProcessorCoreCount': np.int16,\n",
    "    'Census_ProcessorManufacturerIdentifier': np.int8,\n",
    "    'Census_ProcessorModelIdentifier': np.int16,\n",
    "    'Census_PrimaryDiskTotalCapacity': np.int32,\n",
    "    'Census_SystemVolumeTotalCapacity': np.int32,\n",
    "    'Census_HasOpticalDiskDrive': np.int8,\n",
    "    'Census_TotalPhysicalRAM': np.int32,\n",
    "    'Census_InternalPrimaryDiagonalDisplaySizeInInches': np.float16,\n",
    "    'Census_InternalPrimaryDisplayResolutionHorizontal': np.float16,\n",
    "    'Census_InternalPrimaryDisplayResolutionVertical': np.int16,\n",
    "    'Census_InternalBatteryNumberOfCharges': np.int32,\n",
    "    'Census_OSBuildNumber': np.int16,\n",
    "    'Census_OSBuildRevision': np.int32,\n",
    "    'Census_OSInstallLanguageIdentifier': np.int8,\n",
    "    'Census_OSUILocaleIdentifier': np.int16,\n",
    "    'Census_IsPortableOperatingSystem': np.int8,\n",
    "    'Census_IsFlightingInternal': np.int8,\n",
    "    'Census_IsFlightsDisabled': np.int8,\n",
    "    'Census_ThresholdOptIn': np.int8,\n",
    "    'Census_FirmwareManufacturerIdentifier': np.int16,\n",
    "    'Census_FirmwareVersionIdentifier': np.int32,\n",
    "    'Census_IsSecureBootEnabled': np.int8,\n",
    "    'Census_IsWIMBootEnabled': np.int8,\n",
    "    'Census_IsVirtualDevice': np.int8,\n",
    "    'Census_IsTouchEnabled': np.int8,\n",
    "    'Census_IsPenCapable': np.int8,\n",
    "    'Census_IsAlwaysOnAlwaysConnectedCapable': np.int8,\n",
    "    'Wdft_IsGamer': np.int8,\n",
    "    'Wdft_RegionIdentifier': np.int8,\n",
    "    'HasDetections': np.int8,\n",
    "    'Census_InternalBatteryType_informed': np.int8,\n",
    "    'ProductName_index': np.int8,\n",
    "    'Platform_index': np.int8,\n",
    "    'Processor_index': np.int8,\n",
    "    'OsPlatformSubRelease_index': np.int8,\n",
    "    'OsBuildLab_index': np.int16,\n",
    "    'SkuEdition_index': np.int8,\n",
    "    'PuaMode_index': np.int8,\n",
    "    'SmartScreen_index': np.int8,\n",
    "    'Census_MDC2FormFactor_index': np.int8,\n",
    "    'Census_DeviceFamily_index': np.int8,\n",
    "    'Census_ProcessorClass_index': np.int8,\n",
    "    'Census_PrimaryDiskTypeName_index': np.int8,\n",
    "    'Census_ChassisTypeName_index': np.int8,\n",
    "    'Census_PowerPlatformRoleName_index': np.int8,\n",
    "    'Census_InternalBatteryType_index': np.int8,\n",
    "    'Census_OSArchitecture_index': np.int8,\n",
    "    'Census_OSBranch_index': np.int8,\n",
    "    'Census_OSEdition_index': np.int8,\n",
    "    'Census_OSSkuName_index': np.int8,\n",
    "    'Census_OSInstallTypeName_index': np.int8,\n",
    "    'Census_OSWUAutoUpdateOptionsName_index': np.int8,\n",
    "    'Census_GenuineStateName_index': np.int8,\n",
    "    'Census_ActivationChannel_index': np.int8,\n",
    "    'Census_FlightRing_index': np.int8,\n",
    "    'Census_OSVersion_index': np.int16,\n",
    "    'EngineVersion_index': np.int8,\n",
    "    'AppVersion_index': np.int8,\n",
    "    'AvSigVersion_index': np.int16,\n",
    "    'OsVer_index': np.int8,\n",
    "    'Census_OSVersion_0_index': np.int8,\n",
    "    'Census_OSVersion_1_index': np.int16,\n",
    "    'EngineVersion_0_index': np.int8,\n",
    "    'EngineVersion_1_index': np.int8,\n",
    "    'AppVersion_0_index': np.int8,\n",
    "    'AppVersion_1_index': np.int8,\n",
    "    'AvSigVersion_0_index': np.int8,\n",
    "    'AvSigVersion_1_index': np.int16,\n",
    "    'OsVer_0_index': np.int8,\n",
    "    'OsVer_1_index': np.int8,\n",
    "    'OsBuildLab_diff': np.int8,\n",
    "    'AvSigVersion_diff': np.int16,\n",
    "    'OSVersion_diff': np.int8,\n",
    "    'OSBuild_fulldiff': np.int8,\n",
    "    'AvSigVersion_fulldiff': np.int8,\n",
    "    'OsBuildLab_difftotal': np.int16,\n",
    "    'DateAvSigVersion_difftotal': np.int16,\n",
    "    'DateOSVersion_difftotal': np.int16,\n",
    "    'DateAvSigVersion_fulldifftotal': np.int8,\n",
    "    'OsBuildLab_fulldifftotal': np.int8,\n",
    "    'DateAvSigVersion_ratio': np.float16,\n",
    "    'OsBuildLab_ratio': np.float16,\n",
    "    'OSVersion_ratio': np.float16,\n",
    "    'DateAvSigVersion_fullratio': np.float16,\n",
    "    'OsBuildLab_fullratio': np.float16,\n",
    "    'OsBuildLab_dayOfWeek': np.int8,\n",
    "    'AvSigVersion_dayOfWeek': np.int8,\n",
    "    'prediction_2': np.int8,\n",
    "    'prediction_4': np.int8,\n",
    "    'prediction_8': np.int8,\n",
    "    'prediction_16': np.int8,\n",
    "    'prediction_32': np.int8,\n",
    "    'prediction_64': np.int8,\n",
    "    'count(DISTINCT AvSigVersion_Name)': np.int16,\n",
    "    'count(DISTINCT AvSigVersion_Type)': np.int8,\n",
    "    'count(DISTINCT AvSigVersion_AlertLevel)': np.int8\n",
    "}"
   ]
  },
  {
   "cell_type": "code",
   "execution_count": 4,
   "metadata": {
    "scrolled": true
   },
   "outputs": [
    {
     "name": "stdout",
     "output_type": "stream",
     "text": [
      "Cargando datos del TRAIN\n"
     ]
    }
   ],
   "source": [
    "\n",
    "print('Cargando datos del TRAIN')\n",
    "path = '../../data/train_final_3'\n",
    "allFiles = glob.glob(path + \"/*.csv\")\n",
    "list_ = []\n",
    "for file_ in allFiles:\n",
    "    df = pd.read_csv(file_)\n",
    "    df = (df.fillna(-1)).astype(schema_train_3)\n",
    "    list_.append(df)\n",
    "\n",
    "train = pd.concat(list_, axis = 0, ignore_index = True)\n",
    "\n",
    "sel_cols = [c for c in train.columns if c not in ['MachineIdentifier',\n",
    "                                                      'HasDetections',\n",
    "                                                      'Census_DeviceFamily_Windows.Server',\n",
    "                                                      'Census_DeviceFamily_Windows.Desktop'\n",
    "                                                     ]]\n",
    "\n"
   ]
  },
  {
   "cell_type": "code",
   "execution_count": 34,
   "metadata": {},
   "outputs": [],
   "source": [
    "X = train.loc[:, sel_cols]\n",
    "y = train.loc[:,'HasDetections']\n"
   ]
  },
  {
   "cell_type": "code",
   "execution_count": 32,
   "metadata": {},
   "outputs": [],
   "source": [
    "from sklearn.model_selection import train_test_split"
   ]
  },
  {
   "cell_type": "code",
   "execution_count": 36,
   "metadata": {},
   "outputs": [],
   "source": [
    "X_train, X_test, y_train, y_test = train_test_split(X,y, test_size=0.25)"
   ]
  },
  {
   "cell_type": "code",
   "execution_count": null,
   "metadata": {},
   "outputs": [],
   "source": []
  },
  {
   "cell_type": "code",
   "execution_count": 38,
   "metadata": {},
   "outputs": [
    {
     "name": "stdout",
     "output_type": "stream",
     "text": [
      "X_train :(6691112, 118)\n",
      "X_test :(2230371, 118)\n",
      "y_train :(6691112,)\n",
      "y_test :(2230371,)\n"
     ]
    }
   ],
   "source": [
    "print(\"X_train :\"+str(X_train.shape))\n",
    "\n",
    "print(\"X_test :\"+str(X_test.shape))\n",
    "\n",
    "\n",
    "print(\"y_train :\"+str(y_train.shape))\n",
    "\n",
    "print(\"y_test :\"+str(y_test.shape))"
   ]
  },
  {
   "cell_type": "code",
   "execution_count": null,
   "metadata": {},
   "outputs": [],
   "source": []
  },
  {
   "cell_type": "code",
   "execution_count": null,
   "metadata": {},
   "outputs": [],
   "source": []
  },
  {
   "cell_type": "code",
   "execution_count": 5,
   "metadata": {},
   "outputs": [],
   "source": [
    "from keras.models import Sequential\n",
    "from keras.layers import Dense\n",
    "\n",
    "# from keras.wrappers.scikit_learn import KerasClassifier\n",
    "# from sklearn.model_selection import cross_val_score\n",
    "# from sklearn.preprocessing import LabelEncoder\n",
    "# from sklearn.model_selection import StratifiedKFold\n",
    "# from sklearn.preprocessing import StandardScaler\n",
    "# from sklearn.pipeline import Pipeline"
   ]
  },
  {
   "cell_type": "code",
   "execution_count": 6,
   "metadata": {},
   "outputs": [
    {
     "data": {
      "text/html": [
       "<div>\n",
       "<style scoped>\n",
       "    .dataframe tbody tr th:only-of-type {\n",
       "        vertical-align: middle;\n",
       "    }\n",
       "\n",
       "    .dataframe tbody tr th {\n",
       "        vertical-align: top;\n",
       "    }\n",
       "\n",
       "    .dataframe thead th {\n",
       "        text-align: right;\n",
       "    }\n",
       "</style>\n",
       "<table border=\"1\" class=\"dataframe\">\n",
       "  <thead>\n",
       "    <tr style=\"text-align: right;\">\n",
       "      <th></th>\n",
       "      <th>IsBeta</th>\n",
       "      <th>RtpStateBitfield</th>\n",
       "      <th>IsSxsPassiveMode</th>\n",
       "      <th>DefaultBrowsersIdentifier</th>\n",
       "      <th>AVProductStatesIdentifier</th>\n",
       "      <th>AVProductsInstalled</th>\n",
       "      <th>AVProductsEnabled</th>\n",
       "      <th>HasTpm</th>\n",
       "      <th>CountryIdentifier</th>\n",
       "      <th>CityIdentifier</th>\n",
       "      <th>...</th>\n",
       "      <th>AvSigVersion_dayOfWeek</th>\n",
       "      <th>prediction_2</th>\n",
       "      <th>prediction_4</th>\n",
       "      <th>prediction_8</th>\n",
       "      <th>prediction_16</th>\n",
       "      <th>prediction_32</th>\n",
       "      <th>prediction_64</th>\n",
       "      <th>count(DISTINCT AvSigVersion_Name)</th>\n",
       "      <th>count(DISTINCT AvSigVersion_Type)</th>\n",
       "      <th>count(DISTINCT AvSigVersion_AlertLevel)</th>\n",
       "    </tr>\n",
       "  </thead>\n",
       "  <tbody>\n",
       "    <tr>\n",
       "      <th>0</th>\n",
       "      <td>0</td>\n",
       "      <td>7</td>\n",
       "      <td>0</td>\n",
       "      <td>0</td>\n",
       "      <td>53447</td>\n",
       "      <td>1</td>\n",
       "      <td>1</td>\n",
       "      <td>1</td>\n",
       "      <td>203</td>\n",
       "      <td>-1</td>\n",
       "      <td>...</td>\n",
       "      <td>7</td>\n",
       "      <td>0</td>\n",
       "      <td>0</td>\n",
       "      <td>6</td>\n",
       "      <td>0</td>\n",
       "      <td>0</td>\n",
       "      <td>50</td>\n",
       "      <td>5</td>\n",
       "      <td>2</td>\n",
       "      <td>2</td>\n",
       "    </tr>\n",
       "    <tr>\n",
       "      <th>1</th>\n",
       "      <td>0</td>\n",
       "      <td>7</td>\n",
       "      <td>0</td>\n",
       "      <td>0</td>\n",
       "      <td>53447</td>\n",
       "      <td>1</td>\n",
       "      <td>1</td>\n",
       "      <td>1</td>\n",
       "      <td>169</td>\n",
       "      <td>20691</td>\n",
       "      <td>...</td>\n",
       "      <td>5</td>\n",
       "      <td>0</td>\n",
       "      <td>0</td>\n",
       "      <td>0</td>\n",
       "      <td>10</td>\n",
       "      <td>25</td>\n",
       "      <td>49</td>\n",
       "      <td>-1</td>\n",
       "      <td>-1</td>\n",
       "      <td>-1</td>\n",
       "    </tr>\n",
       "    <tr>\n",
       "      <th>2</th>\n",
       "      <td>0</td>\n",
       "      <td>7</td>\n",
       "      <td>0</td>\n",
       "      <td>0</td>\n",
       "      <td>53447</td>\n",
       "      <td>1</td>\n",
       "      <td>1</td>\n",
       "      <td>1</td>\n",
       "      <td>57</td>\n",
       "      <td>56452</td>\n",
       "      <td>...</td>\n",
       "      <td>6</td>\n",
       "      <td>0</td>\n",
       "      <td>0</td>\n",
       "      <td>0</td>\n",
       "      <td>12</td>\n",
       "      <td>6</td>\n",
       "      <td>10</td>\n",
       "      <td>-1</td>\n",
       "      <td>-1</td>\n",
       "      <td>-1</td>\n",
       "    </tr>\n",
       "    <tr>\n",
       "      <th>3</th>\n",
       "      <td>0</td>\n",
       "      <td>7</td>\n",
       "      <td>0</td>\n",
       "      <td>0</td>\n",
       "      <td>53447</td>\n",
       "      <td>1</td>\n",
       "      <td>1</td>\n",
       "      <td>1</td>\n",
       "      <td>171</td>\n",
       "      <td>151013</td>\n",
       "      <td>...</td>\n",
       "      <td>3</td>\n",
       "      <td>1</td>\n",
       "      <td>1</td>\n",
       "      <td>2</td>\n",
       "      <td>2</td>\n",
       "      <td>2</td>\n",
       "      <td>2</td>\n",
       "      <td>4</td>\n",
       "      <td>2</td>\n",
       "      <td>1</td>\n",
       "    </tr>\n",
       "    <tr>\n",
       "      <th>4</th>\n",
       "      <td>0</td>\n",
       "      <td>7</td>\n",
       "      <td>0</td>\n",
       "      <td>0</td>\n",
       "      <td>38993</td>\n",
       "      <td>2</td>\n",
       "      <td>1</td>\n",
       "      <td>1</td>\n",
       "      <td>107</td>\n",
       "      <td>128159</td>\n",
       "      <td>...</td>\n",
       "      <td>6</td>\n",
       "      <td>0</td>\n",
       "      <td>0</td>\n",
       "      <td>0</td>\n",
       "      <td>10</td>\n",
       "      <td>25</td>\n",
       "      <td>46</td>\n",
       "      <td>75</td>\n",
       "      <td>1</td>\n",
       "      <td>2</td>\n",
       "    </tr>\n",
       "  </tbody>\n",
       "</table>\n",
       "<p>5 rows × 118 columns</p>\n",
       "</div>"
      ],
      "text/plain": [
       "   IsBeta  RtpStateBitfield  IsSxsPassiveMode  DefaultBrowsersIdentifier  \\\n",
       "0       0                 7                 0                          0   \n",
       "1       0                 7                 0                          0   \n",
       "2       0                 7                 0                          0   \n",
       "3       0                 7                 0                          0   \n",
       "4       0                 7                 0                          0   \n",
       "\n",
       "   AVProductStatesIdentifier  AVProductsInstalled  AVProductsEnabled  HasTpm  \\\n",
       "0                      53447                    1                  1       1   \n",
       "1                      53447                    1                  1       1   \n",
       "2                      53447                    1                  1       1   \n",
       "3                      53447                    1                  1       1   \n",
       "4                      38993                    2                  1       1   \n",
       "\n",
       "   CountryIdentifier  CityIdentifier  ...  AvSigVersion_dayOfWeek  \\\n",
       "0                203              -1  ...                       7   \n",
       "1                169           20691  ...                       5   \n",
       "2                 57           56452  ...                       6   \n",
       "3                171          151013  ...                       3   \n",
       "4                107          128159  ...                       6   \n",
       "\n",
       "   prediction_2  prediction_4  prediction_8  prediction_16  prediction_32  \\\n",
       "0             0             0             6              0              0   \n",
       "1             0             0             0             10             25   \n",
       "2             0             0             0             12              6   \n",
       "3             1             1             2              2              2   \n",
       "4             0             0             0             10             25   \n",
       "\n",
       "   prediction_64  count(DISTINCT AvSigVersion_Name)  \\\n",
       "0             50                                  5   \n",
       "1             49                                 -1   \n",
       "2             10                                 -1   \n",
       "3              2                                  4   \n",
       "4             46                                 75   \n",
       "\n",
       "   count(DISTINCT AvSigVersion_Type)  count(DISTINCT AvSigVersion_AlertLevel)  \n",
       "0                                  2                                        2  \n",
       "1                                 -1                                       -1  \n",
       "2                                 -1                                       -1  \n",
       "3                                  2                                        1  \n",
       "4                                  1                                        2  \n",
       "\n",
       "[5 rows x 118 columns]"
      ]
     },
     "execution_count": 6,
     "metadata": {},
     "output_type": "execute_result"
    }
   ],
   "source": [
    "X_train.head()"
   ]
  },
  {
   "cell_type": "code",
   "execution_count": 7,
   "metadata": {},
   "outputs": [],
   "source": [
    "dimension = X_train.shape[1]"
   ]
  },
  {
   "cell_type": "code",
   "execution_count": null,
   "metadata": {},
   "outputs": [],
   "source": [
    "dimension"
   ]
  },
  {
   "cell_type": "code",
   "execution_count": 22,
   "metadata": {},
   "outputs": [],
   "source": [
    "from sklearn.metrics import roc_auc_score\n",
    "import tensorflow as tf\n",
    "\n",
    "def auroc(y_true, y_pred):\n",
    "    return tf.py_func(roc_auc_score, (y_true, y_pred), tf.double)"
   ]
  },
  {
   "cell_type": "code",
   "execution_count": 47,
   "metadata": {},
   "outputs": [],
   "source": [
    "earlyStopping = keras.callbacks.EarlyStopping(monitor='acc', patience=5, verbose=1, mode='auto')"
   ]
  },
  {
   "cell_type": "code",
   "execution_count": null,
   "metadata": {},
   "outputs": [],
   "source": []
  },
  {
   "cell_type": "code",
   "execution_count": 48,
   "metadata": {},
   "outputs": [],
   "source": [
    "model = Sequential()\n",
    "model.add(Dense(10, input_dim=dimension, kernel_initializer='normal', activation='relu'))\n",
    "model.add(Dense(20, kernel_initializer='normal', activation='relu'))\n",
    "model.add(Dense(1, kernel_initializer='normal', activation='sigmoid'))\n",
    "# Compile model\n",
    "model.compile(loss='binary_crossentropy', optimizer='adam',metrics = ['accuracy',auroc])"
   ]
  },
  {
   "cell_type": "code",
   "execution_count": 45,
   "metadata": {
    "scrolled": true
   },
   "outputs": [
    {
     "name": "stdout",
     "output_type": "stream",
     "text": [
      "_________________________________________________________________\n",
      "Layer (type)                 Output Shape              Param #   \n",
      "=================================================================\n",
      "dense_27 (Dense)             (None, 10)                1190      \n",
      "_________________________________________________________________\n",
      "dense_28 (Dense)             (None, 20)                220       \n",
      "_________________________________________________________________\n",
      "dense_29 (Dense)             (None, 1)                 21        \n",
      "=================================================================\n",
      "Total params: 1,431\n",
      "Trainable params: 1,431\n",
      "Non-trainable params: 0\n",
      "_________________________________________________________________\n"
     ]
    }
   ],
   "source": [
    "model.summary()"
   ]
  },
  {
   "cell_type": "code",
   "execution_count": 49,
   "metadata": {
    "scrolled": false
   },
   "outputs": [
    {
     "name": "stdout",
     "output_type": "stream",
     "text": [
      "Epoch 1/50\n",
      "6691112/6691112 [==============================] - 59s 9us/step - loss: 7.5660 - acc: 0.5069 - auroc: 0.5058\n",
      "Epoch 2/50\n",
      "6691112/6691112 [==============================] - 59s 9us/step - loss: 4.3734 - acc: 0.5103 - auroc: 0.5081\n",
      "Epoch 3/50\n",
      "6691112/6691112 [==============================] - 64s 10us/step - loss: 0.7322 - acc: 0.5092 - auroc: 0.5085\n",
      "Epoch 4/50\n",
      "6691112/6691112 [==============================] - 69s 10us/step - loss: 0.6945 - acc: 0.5016 - auroc: 0.5043\n",
      "Epoch 5/50\n",
      "6691112/6691112 [==============================] - 60s 9us/step - loss: 0.7233 - acc: 0.5002 - auroc: 0.4998\n",
      "Epoch 6/50\n",
      "6691112/6691112 [==============================] - 65s 10us/step - loss: 0.6934 - acc: 0.5002 - auroc: 0.5007\n",
      "Epoch 7/50\n",
      "6691112/6691112 [==============================] - 62s 9us/step - loss: 0.6934 - acc: 0.5002 - auroc: 0.5007\n",
      "Epoch 00007: early stopping\n"
     ]
    },
    {
     "data": {
      "text/plain": [
       "<keras.callbacks.History at 0x7efc3b69d358>"
      ]
     },
     "execution_count": 49,
     "metadata": {},
     "output_type": "execute_result"
    }
   ],
   "source": [
    "model.fit(X_train, y_train,\n",
    "          epochs=50,\n",
    "          batch_size=int(X_train.shape[0]/100),\n",
    "             callbacks=[earlyStopping])"
   ]
  },
  {
   "cell_type": "code",
   "execution_count": 53,
   "metadata": {},
   "outputs": [
    {
     "name": "stdout",
     "output_type": "stream",
     "text": [
      "2230371/2230371 [==============================] - 3s 1us/step\n"
     ]
    }
   ],
   "source": [
    "score = model.evaluate(X_test, y_test, batch_size=int(X_train.shape[0]/100),verbose=1)"
   ]
  },
  {
   "cell_type": "code",
   "execution_count": 54,
   "metadata": {},
   "outputs": [
    {
     "data": {
      "text/plain": [
       "[0.6932218039421495, 0.5002387464878533, 0.5007222205568543]"
      ]
     },
     "execution_count": 54,
     "metadata": {},
     "output_type": "execute_result"
    }
   ],
   "source": [
    "score"
   ]
  },
  {
   "cell_type": "code",
   "execution_count": null,
   "metadata": {},
   "outputs": [],
   "source": []
  },
  {
   "cell_type": "code",
   "execution_count": null,
   "metadata": {},
   "outputs": [],
   "source": []
  },
  {
   "cell_type": "code",
   "execution_count": 55,
   "metadata": {},
   "outputs": [],
   "source": [
    "import matplotlib.pyplot as plt"
   ]
  },
  {
   "cell_type": "code",
   "execution_count": 56,
   "metadata": {
    "scrolled": true
   },
   "outputs": [
    {
     "data": {
      "text/plain": [
       "[<matplotlib.lines.Line2D at 0x7efc23b7dcc0>]"
      ]
     },
     "execution_count": 56,
     "metadata": {},
     "output_type": "execute_result"
    },
    {
     "data": {
      "image/png": "[encoded data removed]",
      "text/plain": [
       "<Figure size 432x288 with 1 Axes>"
      ]
     },
     "metadata": {
      "needs_background": "light"
     },
     "output_type": "display_data"
    }
   ],
   "source": [
    "plt.plot(model.history.history['loss'])\n"
   ]
  },
  {
   "cell_type": "code",
   "execution_count": 57,
   "metadata": {
    "scrolled": true
   },
   "outputs": [
    {
     "data": {
      "text/plain": [
       "[<matplotlib.lines.Line2D at 0x7efc2230f6d8>]"
      ]
     },
     "execution_count": 57,
     "metadata": {},
     "output_type": "execute_result"
    },
    {
     "data": {
      "image/png": "[encoded data removed]",
      "text/plain": [
       "<Figure size 432x288 with 1 Axes>"
      ]
     },
     "metadata": {
      "needs_background": "light"
     },
     "output_type": "display_data"
    }
   ],
   "source": [
    "plt.plot(model.history.history['acc'])"
   ]
  },
  {
   "cell_type": "code",
   "execution_count": 59,
   "metadata": {},
   "outputs": [
    {
     "data": {
      "text/plain": [
       "[<matplotlib.lines.Line2D at 0x7efc22274eb8>]"
      ]
     },
     "execution_count": 59,
     "metadata": {},
     "output_type": "execute_result"
    },
    {
     "data": {
      "image/png": "[encoded data removed]",
      "text/plain": [
       "<Figure size 432x288 with 1 Axes>"
      ]
     },
     "metadata": {
      "needs_background": "light"
     },
     "output_type": "display_data"
    }
   ],
   "source": [
    "plt.plot(model.history.history['auroc'])"
   ]
  },
  {
   "cell_type": "code",
   "execution_count": 58,
   "metadata": {},
   "outputs": [
    {
     "data": {
      "text/plain": [
       "{'loss': [7.565966159336019,\n",
       "  4.3733996858749435,\n",
       "  0.732216484782747,\n",
       "  0.6944769450673035,\n",
       "  0.7233158193489982,\n",
       "  0.6934061318297489,\n",
       "  0.693355722707039],\n",
       " 'acc': [0.506934721549937,\n",
       "  0.5102595793422855,\n",
       "  0.5091645468260516,\n",
       "  0.5016000345029781,\n",
       "  0.5001732154127996,\n",
       "  0.5002034062777867,\n",
       "  0.5001959339804348],\n",
       " 'auroc': [0.5057505093759436,\n",
       "  0.5081396984714356,\n",
       "  0.5084847535776144,\n",
       "  0.5042819759053976,\n",
       "  0.4998414732647296,\n",
       "  0.5007192595474861,\n",
       "  0.5007257996999611]}"
      ]
     },
     "execution_count": 58,
     "metadata": {},
     "output_type": "execute_result"
    }
   ],
   "source": [
    "model.history.history"
   ]
  },
  {
   "cell_type": "code",
   "execution_count": null,
   "metadata": {},
   "outputs": [],
   "source": [
    "model.predict_proba(X_test)"
   ]
  },
  {
   "cell_type": "markdown",
   "metadata": {},
   "source": [
    "## Prediction"
   ]
  },
  {
   "cell_type": "code",
   "execution_count": null,
   "metadata": {},
   "outputs": [],
   "source": []
  },
  {
   "cell_type": "code",
   "execution_count": null,
   "metadata": {},
   "outputs": [],
   "source": [
    "print('Cargando datos del TEST')\n",
    "path = '../../data/test_final_3'\n",
    "allFiles = glob.glob(path + \"/*.csv\")\n",
    "list_ = []\n",
    "for file_ in allFiles:\n",
    "    df = pd.read_csv(file_)\n",
    "    df = (df.fillna(-1)).astype(schema_train_3)\n",
    "    list_.append(df)\n",
    "\n",
    "\n",
    "test = pd.concat(list_, axis = 0, ignore_index = True).fillna(-1)\n",
    "\n",
    "sel_cols = [c for c in test.columns if c not in ['MachineIdentifier',\n",
    "                                                 'HasDetections',\n",
    "                                                 'Census_DeviceFamily_Windows.Server',\n",
    "                                                 'Census_DeviceFamily_Windows.Desktop'\n",
    "                                                 ]\n",
    "            ]\n",
    "\n",
    "X_test = test.loc[:, sel_cols]"
   ]
  },
  {
   "cell_type": "code",
   "execution_count": null,
   "metadata": {},
   "outputs": [],
   "source": []
  },
  {
   "cell_type": "code",
   "execution_count": null,
   "metadata": {},
   "outputs": [],
   "source": []
  },
  {
   "cell_type": "code",
   "execution_count": null,
   "metadata": {},
   "outputs": [],
   "source": [
    "predictions = model.predict(X_test)"
   ]
  },
  {
   "cell_type": "code",
   "execution_count": null,
   "metadata": {},
   "outputs": [],
   "source": [
    "predictions"
   ]
  },
  {
   "cell_type": "code",
   "execution_count": null,
   "metadata": {},
   "outputs": [],
   "source": []
  },
  {
   "cell_type": "markdown",
   "metadata": {},
   "source": [
    "### Save train in one file"
   ]
  },
  {
   "cell_type": "code",
   "execution_count": 25,
   "metadata": {},
   "outputs": [],
   "source": [
    "train.to_csv(\"train_uniq.csv\")"
   ]
  }
 ],
 "metadata": {
  "kernelspec": {
   "display_name": "Python 3",
   "language": "python",
   "name": "python3"
  },
  "language_info": {
   "codemirror_mode": {
    "name": "ipython",
    "version": 3
   },
   "file_extension": ".py",
   "mimetype": "text/x-python",
   "name": "python",
   "nbconvert_exporter": "python",
   "pygments_lexer": "ipython3",
   "version": "3.6.7"
  }
 },
 "nbformat": 4,
 "nbformat_minor": 2
}
