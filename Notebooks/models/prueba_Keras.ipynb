{
 "cells": [
  {
   "cell_type": "code",
   "execution_count": 1,
   "metadata": {},
   "outputs": [
    {
     "name": "stderr",
     "output_type": "stream",
     "text": [
      "Using TensorFlow backend.\n"
     ]
    }
   ],
   "source": [
    "import keras"
   ]
  },
  {
   "cell_type": "code",
   "execution_count": 2,
   "metadata": {},
   "outputs": [],
   "source": [
    "import pandas as pd\n",
    "import numpy as np\n",
    "import glob"
   ]
  },
  {
   "cell_type": "code",
   "execution_count": 3,
   "metadata": {},
   "outputs": [],
   "source": [
    "schema_train_3 = {\n",
    "    'IsBeta': np.int8,\n",
    "    'RtpStateBitfield': np.int8,\n",
    "    'IsSxsPassiveMode': np.int8,\n",
    "    'DefaultBrowsersIdentifier': np.int16,\n",
    "    'AVProductStatesIdentifier': np.int32,\n",
    "    'AVProductsInstalled': np.int8,\n",
    "    'AVProductsEnabled': np.int8,\n",
    "    'HasTpm': np.int8,\n",
    "    'CountryIdentifier': np.int16,\n",
    "    'CityIdentifier': np.int32,\n",
    "    'OrganizationIdentifier': np.int8,\n",
    "    'GeoNameIdentifier': np.int16,\n",
    "    'LocaleEnglishNameIdentifier': np.int16,\n",
    "    'OsBuild': np.int16,\n",
    "    'OsSuite': np.int16,\n",
    "    'IsProtected': np.int8,\n",
    "    'AutoSampleOptIn': np.int8,\n",
    "    'SMode': np.int8,\n",
    "    'IeVerIdentifier': np.int16,\n",
    "    'Firewall': np.int8,\n",
    "    'UacLuaenable': np.int32,\n",
    "    'Census_OEMNameIdentifier': np.int16,\n",
    "    'Census_OEMModelIdentifier': np.int32,\n",
    "    'Census_ProcessorCoreCount': np.int16,\n",
    "    'Census_ProcessorManufacturerIdentifier': np.int8,\n",
    "    'Census_ProcessorModelIdentifier': np.int16,\n",
    "    'Census_PrimaryDiskTotalCapacity': np.int32,\n",
    "    'Census_SystemVolumeTotalCapacity': np.int32,\n",
    "    'Census_HasOpticalDiskDrive': np.int8,\n",
    "    'Census_TotalPhysicalRAM': np.int32,\n",
    "    'Census_InternalPrimaryDiagonalDisplaySizeInInches': np.float16,\n",
    "    'Census_InternalPrimaryDisplayResolutionHorizontal': np.float16,\n",
    "    'Census_InternalPrimaryDisplayResolutionVertical': np.int16,\n",
    "    'Census_InternalBatteryNumberOfCharges': np.int32,\n",
    "    'Census_OSBuildNumber': np.int16,\n",
    "    'Census_OSBuildRevision': np.int32,\n",
    "    'Census_OSInstallLanguageIdentifier': np.int8,\n",
    "    'Census_OSUILocaleIdentifier': np.int16,\n",
    "    'Census_IsPortableOperatingSystem': np.int8,\n",
    "    'Census_IsFlightingInternal': np.int8,\n",
    "    'Census_IsFlightsDisabled': np.int8,\n",
    "    'Census_ThresholdOptIn': np.int8,\n",
    "    'Census_FirmwareManufacturerIdentifier': np.int16,\n",
    "    'Census_FirmwareVersionIdentifier': np.int32,\n",
    "    'Census_IsSecureBootEnabled': np.int8,\n",
    "    'Census_IsWIMBootEnabled': np.int8,\n",
    "    'Census_IsVirtualDevice': np.int8,\n",
    "    'Census_IsTouchEnabled': np.int8,\n",
    "    'Census_IsPenCapable': np.int8,\n",
    "    'Census_IsAlwaysOnAlwaysConnectedCapable': np.int8,\n",
    "    'Wdft_IsGamer': np.int8,\n",
    "    'Wdft_RegionIdentifier': np.int8,\n",
    "    'HasDetections': np.int8,\n",
    "    'Census_InternalBatteryType_informed': np.int8,\n",
    "    'ProductName_index': np.int8,\n",
    "    'Platform_index': np.int8,\n",
    "    'Processor_index': np.int8,\n",
    "    'OsPlatformSubRelease_index': np.int8,\n",
    "    'OsBuildLab_index': np.int16,\n",
    "    'SkuEdition_index': np.int8,\n",
    "    'PuaMode_index': np.int8,\n",
    "    'SmartScreen_index': np.int8,\n",
    "    'Census_MDC2FormFactor_index': np.int8,\n",
    "    'Census_DeviceFamily_index': np.int8,\n",
    "    'Census_ProcessorClass_index': np.int8,\n",
    "    'Census_PrimaryDiskTypeName_index': np.int8,\n",
    "    'Census_ChassisTypeName_index': np.int8,\n",
    "    'Census_PowerPlatformRoleName_index': np.int8,\n",
    "    'Census_InternalBatteryType_index': np.int8,\n",
    "    'Census_OSArchitecture_index': np.int8,\n",
    "    'Census_OSBranch_index': np.int8,\n",
    "    'Census_OSEdition_index': np.int8,\n",
    "    'Census_OSSkuName_index': np.int8,\n",
    "    'Census_OSInstallTypeName_index': np.int8,\n",
    "    'Census_OSWUAutoUpdateOptionsName_index': np.int8,\n",
    "    'Census_GenuineStateName_index': np.int8,\n",
    "    'Census_ActivationChannel_index': np.int8,\n",
    "    'Census_FlightRing_index': np.int8,\n",
    "    'Census_OSVersion_index': np.int16,\n",
    "    'EngineVersion_index': np.int8,\n",
    "    'AppVersion_index': np.int8,\n",
    "    'AvSigVersion_index': np.int16,\n",
    "    'OsVer_index': np.int8,\n",
    "    'Census_OSVersion_0_index': np.int8,\n",
    "    'Census_OSVersion_1_index': np.int16,\n",
    "    'EngineVersion_0_index': np.int8,\n",
    "    'EngineVersion_1_index': np.int8,\n",
    "    'AppVersion_0_index': np.int8,\n",
    "    'AppVersion_1_index': np.int8,\n",
    "    'AvSigVersion_0_index': np.int8,\n",
    "    'AvSigVersion_1_index': np.int16,\n",
    "    'OsVer_0_index': np.int8,\n",
    "    'OsVer_1_index': np.int8,\n",
    "    'OsBuildLab_diff': np.int8,\n",
    "    'AvSigVersion_diff': np.int16,\n",
    "    'OSVersion_diff': np.int8,\n",
    "    'OSBuild_fulldiff': np.int8,\n",
    "    'AvSigVersion_fulldiff': np.int8,\n",
    "    'OsBuildLab_difftotal': np.int16,\n",
    "    'DateAvSigVersion_difftotal': np.int16,\n",
    "    'DateOSVersion_difftotal': np.int16,\n",
    "    'DateAvSigVersion_fulldifftotal': np.int8,\n",
    "    'OsBuildLab_fulldifftotal': np.int8,\n",
    "    'DateAvSigVersion_ratio': np.float16,\n",
    "    'OsBuildLab_ratio': np.float16,\n",
    "    'OSVersion_ratio': np.float16,\n",
    "    'DateAvSigVersion_fullratio': np.float16,\n",
    "    'OsBuildLab_fullratio': np.float16,\n",
    "    'OsBuildLab_dayOfWeek': np.int8,\n",
    "    'AvSigVersion_dayOfWeek': np.int8,\n",
    "    'prediction_2': np.int8,\n",
    "    'prediction_4': np.int8,\n",
    "    'prediction_8': np.int8,\n",
    "    'prediction_16': np.int8,\n",
    "    'prediction_32': np.int8,\n",
    "    'prediction_64': np.int8,\n",
    "    'count(DISTINCT AvSigVersion_Name)': np.int16,\n",
    "    'count(DISTINCT AvSigVersion_Type)': np.int8,\n",
    "    'count(DISTINCT AvSigVersion_AlertLevel)': np.int8\n",
    "}"
   ]
  },
  {
   "cell_type": "code",
   "execution_count": 4,
   "metadata": {
    "scrolled": true
   },
   "outputs": [
    {
     "name": "stdout",
     "output_type": "stream",
     "text": [
      "Cargando datos del TRAIN\n"
     ]
    }
   ],
   "source": [
    "\n",
    "print('Cargando datos del TRAIN')\n",
    "path = '../../data/train_final_3'\n",
    "allFiles = glob.glob(path + \"/*.csv\")\n",
    "list_ = []\n",
    "for file_ in allFiles:\n",
    "    df = pd.read_csv(file_)\n",
    "    df = (df.fillna(-1)).astype(schema_train_3)\n",
    "    list_.append(df)\n",
    "\n",
    "train = pd.concat(list_, axis = 0, ignore_index = True)\n",
    "\n",
    "sel_cols = [c for c in train.columns if c not in ['MachineIdentifier',\n",
    "                                                      'HasDetections',\n",
    "                                                      'Census_DeviceFamily_Windows.Server',\n",
    "                                                      'Census_DeviceFamily_Windows.Desktop'\n",
    "                                                     ]]\n",
    "\n"
   ]
  },
  {
   "cell_type": "code",
   "execution_count": 5,
   "metadata": {},
   "outputs": [],
   "source": [
    "X = train.loc[:, sel_cols]\n",
    "y = train.loc[:,'HasDetections']\n"
   ]
  },
  {
   "cell_type": "code",
   "execution_count": 6,
   "metadata": {},
   "outputs": [],
   "source": [
    "from sklearn.model_selection import train_test_split"
   ]
  },
  {
   "cell_type": "code",
   "execution_count": 18,
   "metadata": {},
   "outputs": [],
   "source": [
    "X_train, X_test, y_train, y_test = train_test_split(X,y, test_size=0.5)"
   ]
  },
  {
   "cell_type": "code",
   "execution_count": null,
   "metadata": {},
   "outputs": [],
   "source": []
  },
  {
   "cell_type": "code",
   "execution_count": 38,
   "metadata": {},
   "outputs": [
    {
     "name": "stdout",
     "output_type": "stream",
     "text": [
      "X_train :(6691112, 118)\n",
      "X_test :(2230371, 118)\n",
      "y_train :(6691112,)\n",
      "y_test :(2230371,)\n"
     ]
    }
   ],
   "source": [
    "print(\"X_train :\"+str(X_train.shape))\n",
    "\n",
    "print(\"X_test :\"+str(X_test.shape))\n",
    "\n",
    "\n",
    "print(\"y_train :\"+str(y_train.shape))\n",
    "\n",
    "print(\"y_test :\"+str(y_test.shape))"
   ]
  },
  {
   "cell_type": "code",
   "execution_count": null,
   "metadata": {},
   "outputs": [],
   "source": []
  },
  {
   "cell_type": "code",
   "execution_count": null,
   "metadata": {},
   "outputs": [],
   "source": []
  },
  {
   "cell_type": "code",
   "execution_count": 84,
   "metadata": {},
   "outputs": [],
   "source": [
    "from keras.models import Sequential\n",
    "from keras.layers import Dense,Dropout\n",
    "\n",
    "# from keras.wrappers.scikit_learn import KerasClassifier\n",
    "# from sklearn.model_selection import cross_val_score\n",
    "# from sklearn.preprocessing import LabelEncoder\n",
    "# from sklearn.model_selection import StratifiedKFold\n",
    "# from sklearn.preprocessing import StandardScaler\n",
    "# from sklearn.pipeline import Pipeline"
   ]
  },
  {
   "cell_type": "code",
   "execution_count": 6,
   "metadata": {},
   "outputs": [
    {
     "data": {
      "text/html": [
       "<div>\n",
       "<style scoped>\n",
       "    .dataframe tbody tr th:only-of-type {\n",
       "        vertical-align: middle;\n",
       "    }\n",
       "\n",
       "    .dataframe tbody tr th {\n",
       "        vertical-align: top;\n",
       "    }\n",
       "\n",
       "    .dataframe thead th {\n",
       "        text-align: right;\n",
       "    }\n",
       "</style>\n",
       "<table border=\"1\" class=\"dataframe\">\n",
       "  <thead>\n",
       "    <tr style=\"text-align: right;\">\n",
       "      <th></th>\n",
       "      <th>IsBeta</th>\n",
       "      <th>RtpStateBitfield</th>\n",
       "      <th>IsSxsPassiveMode</th>\n",
       "      <th>DefaultBrowsersIdentifier</th>\n",
       "      <th>AVProductStatesIdentifier</th>\n",
       "      <th>AVProductsInstalled</th>\n",
       "      <th>AVProductsEnabled</th>\n",
       "      <th>HasTpm</th>\n",
       "      <th>CountryIdentifier</th>\n",
       "      <th>CityIdentifier</th>\n",
       "      <th>...</th>\n",
       "      <th>AvSigVersion_dayOfWeek</th>\n",
       "      <th>prediction_2</th>\n",
       "      <th>prediction_4</th>\n",
       "      <th>prediction_8</th>\n",
       "      <th>prediction_16</th>\n",
       "      <th>prediction_32</th>\n",
       "      <th>prediction_64</th>\n",
       "      <th>count(DISTINCT AvSigVersion_Name)</th>\n",
       "      <th>count(DISTINCT AvSigVersion_Type)</th>\n",
       "      <th>count(DISTINCT AvSigVersion_AlertLevel)</th>\n",
       "    </tr>\n",
       "  </thead>\n",
       "  <tbody>\n",
       "    <tr>\n",
       "      <th>0</th>\n",
       "      <td>0</td>\n",
       "      <td>7</td>\n",
       "      <td>0</td>\n",
       "      <td>0</td>\n",
       "      <td>53447</td>\n",
       "      <td>1</td>\n",
       "      <td>1</td>\n",
       "      <td>1</td>\n",
       "      <td>203</td>\n",
       "      <td>-1</td>\n",
       "      <td>...</td>\n",
       "      <td>7</td>\n",
       "      <td>0</td>\n",
       "      <td>0</td>\n",
       "      <td>6</td>\n",
       "      <td>0</td>\n",
       "      <td>0</td>\n",
       "      <td>50</td>\n",
       "      <td>5</td>\n",
       "      <td>2</td>\n",
       "      <td>2</td>\n",
       "    </tr>\n",
       "    <tr>\n",
       "      <th>1</th>\n",
       "      <td>0</td>\n",
       "      <td>7</td>\n",
       "      <td>0</td>\n",
       "      <td>0</td>\n",
       "      <td>53447</td>\n",
       "      <td>1</td>\n",
       "      <td>1</td>\n",
       "      <td>1</td>\n",
       "      <td>169</td>\n",
       "      <td>20691</td>\n",
       "      <td>...</td>\n",
       "      <td>5</td>\n",
       "      <td>0</td>\n",
       "      <td>0</td>\n",
       "      <td>0</td>\n",
       "      <td>10</td>\n",
       "      <td>25</td>\n",
       "      <td>49</td>\n",
       "      <td>-1</td>\n",
       "      <td>-1</td>\n",
       "      <td>-1</td>\n",
       "    </tr>\n",
       "    <tr>\n",
       "      <th>2</th>\n",
       "      <td>0</td>\n",
       "      <td>7</td>\n",
       "      <td>0</td>\n",
       "      <td>0</td>\n",
       "      <td>53447</td>\n",
       "      <td>1</td>\n",
       "      <td>1</td>\n",
       "      <td>1</td>\n",
       "      <td>57</td>\n",
       "      <td>56452</td>\n",
       "      <td>...</td>\n",
       "      <td>6</td>\n",
       "      <td>0</td>\n",
       "      <td>0</td>\n",
       "      <td>0</td>\n",
       "      <td>12</td>\n",
       "      <td>6</td>\n",
       "      <td>10</td>\n",
       "      <td>-1</td>\n",
       "      <td>-1</td>\n",
       "      <td>-1</td>\n",
       "    </tr>\n",
       "    <tr>\n",
       "      <th>3</th>\n",
       "      <td>0</td>\n",
       "      <td>7</td>\n",
       "      <td>0</td>\n",
       "      <td>0</td>\n",
       "      <td>53447</td>\n",
       "      <td>1</td>\n",
       "      <td>1</td>\n",
       "      <td>1</td>\n",
       "      <td>171</td>\n",
       "      <td>151013</td>\n",
       "      <td>...</td>\n",
       "      <td>3</td>\n",
       "      <td>1</td>\n",
       "      <td>1</td>\n",
       "      <td>2</td>\n",
       "      <td>2</td>\n",
       "      <td>2</td>\n",
       "      <td>2</td>\n",
       "      <td>4</td>\n",
       "      <td>2</td>\n",
       "      <td>1</td>\n",
       "    </tr>\n",
       "    <tr>\n",
       "      <th>4</th>\n",
       "      <td>0</td>\n",
       "      <td>7</td>\n",
       "      <td>0</td>\n",
       "      <td>0</td>\n",
       "      <td>38993</td>\n",
       "      <td>2</td>\n",
       "      <td>1</td>\n",
       "      <td>1</td>\n",
       "      <td>107</td>\n",
       "      <td>128159</td>\n",
       "      <td>...</td>\n",
       "      <td>6</td>\n",
       "      <td>0</td>\n",
       "      <td>0</td>\n",
       "      <td>0</td>\n",
       "      <td>10</td>\n",
       "      <td>25</td>\n",
       "      <td>46</td>\n",
       "      <td>75</td>\n",
       "      <td>1</td>\n",
       "      <td>2</td>\n",
       "    </tr>\n",
       "  </tbody>\n",
       "</table>\n",
       "<p>5 rows × 118 columns</p>\n",
       "</div>"
      ],
      "text/plain": [
       "   IsBeta  RtpStateBitfield  IsSxsPassiveMode  DefaultBrowsersIdentifier  \\\n",
       "0       0                 7                 0                          0   \n",
       "1       0                 7                 0                          0   \n",
       "2       0                 7                 0                          0   \n",
       "3       0                 7                 0                          0   \n",
       "4       0                 7                 0                          0   \n",
       "\n",
       "   AVProductStatesIdentifier  AVProductsInstalled  AVProductsEnabled  HasTpm  \\\n",
       "0                      53447                    1                  1       1   \n",
       "1                      53447                    1                  1       1   \n",
       "2                      53447                    1                  1       1   \n",
       "3                      53447                    1                  1       1   \n",
       "4                      38993                    2                  1       1   \n",
       "\n",
       "   CountryIdentifier  CityIdentifier  ...  AvSigVersion_dayOfWeek  \\\n",
       "0                203              -1  ...                       7   \n",
       "1                169           20691  ...                       5   \n",
       "2                 57           56452  ...                       6   \n",
       "3                171          151013  ...                       3   \n",
       "4                107          128159  ...                       6   \n",
       "\n",
       "   prediction_2  prediction_4  prediction_8  prediction_16  prediction_32  \\\n",
       "0             0             0             6              0              0   \n",
       "1             0             0             0             10             25   \n",
       "2             0             0             0             12              6   \n",
       "3             1             1             2              2              2   \n",
       "4             0             0             0             10             25   \n",
       "\n",
       "   prediction_64  count(DISTINCT AvSigVersion_Name)  \\\n",
       "0             50                                  5   \n",
       "1             49                                 -1   \n",
       "2             10                                 -1   \n",
       "3              2                                  4   \n",
       "4             46                                 75   \n",
       "\n",
       "   count(DISTINCT AvSigVersion_Type)  count(DISTINCT AvSigVersion_AlertLevel)  \n",
       "0                                  2                                        2  \n",
       "1                                 -1                                       -1  \n",
       "2                                 -1                                       -1  \n",
       "3                                  2                                        1  \n",
       "4                                  1                                        2  \n",
       "\n",
       "[5 rows x 118 columns]"
      ]
     },
     "execution_count": 6,
     "metadata": {},
     "output_type": "execute_result"
    }
   ],
   "source": [
    "X_train.head()"
   ]
  },
  {
   "cell_type": "code",
   "execution_count": 7,
   "metadata": {},
   "outputs": [],
   "source": [
    "dimension = X_train.shape[1]"
   ]
  },
  {
   "cell_type": "code",
   "execution_count": null,
   "metadata": {},
   "outputs": [],
   "source": [
    "dimension"
   ]
  },
  {
   "cell_type": "code",
   "execution_count": 22,
   "metadata": {},
   "outputs": [],
   "source": [
    "from sklearn.metrics import roc_auc_score\n",
    "import tensorflow as tf\n",
    "\n",
    "def auroc(y_true, y_pred):\n",
    "    return tf.py_func(roc_auc_score, (y_true, y_pred), tf.double)"
   ]
  },
  {
   "cell_type": "code",
   "execution_count": 87,
   "metadata": {},
   "outputs": [],
   "source": [
    "earlyStopping = keras.callbacks.EarlyStopping(monitor='auroc', patience=10, verbose=1, mode='auto')"
   ]
  },
  {
   "cell_type": "code",
   "execution_count": null,
   "metadata": {},
   "outputs": [],
   "source": []
  },
  {
   "cell_type": "code",
   "execution_count": 19,
   "metadata": {},
   "outputs": [
    {
     "ename": "NameError",
     "evalue": "name 'dimension' is not defined",
     "output_type": "error",
     "traceback": [
      "\u001b[0;31m---------------------------------------------------------------------------\u001b[0m",
      "\u001b[0;31mNameError\u001b[0m                                 Traceback (most recent call last)",
      "\u001b[0;32m<ipython-input-19-c1afd462f752>\u001b[0m in \u001b[0;36m<module>\u001b[0;34m\u001b[0m\n\u001b[1;32m      1\u001b[0m \u001b[0mmodel\u001b[0m \u001b[0;34m=\u001b[0m \u001b[0mSequential\u001b[0m\u001b[0;34m(\u001b[0m\u001b[0;34m)\u001b[0m\u001b[0;34m\u001b[0m\u001b[0;34m\u001b[0m\u001b[0m\n\u001b[0;32m----> 2\u001b[0;31m \u001b[0mmodel\u001b[0m\u001b[0;34m.\u001b[0m\u001b[0madd\u001b[0m\u001b[0;34m(\u001b[0m\u001b[0mDense\u001b[0m\u001b[0;34m(\u001b[0m\u001b[0;36m10\u001b[0m\u001b[0;34m,\u001b[0m \u001b[0minput_dim\u001b[0m\u001b[0;34m=\u001b[0m\u001b[0mdimension\u001b[0m\u001b[0;34m,\u001b[0m \u001b[0mkernel_initializer\u001b[0m\u001b[0;34m=\u001b[0m\u001b[0;34m'normal'\u001b[0m\u001b[0;34m,\u001b[0m \u001b[0mactivation\u001b[0m\u001b[0;34m=\u001b[0m\u001b[0;34m'relu'\u001b[0m\u001b[0;34m)\u001b[0m\u001b[0;34m)\u001b[0m\u001b[0;34m\u001b[0m\u001b[0;34m\u001b[0m\u001b[0m\n\u001b[0m\u001b[1;32m      3\u001b[0m \u001b[0mmodel\u001b[0m\u001b[0;34m.\u001b[0m\u001b[0madd\u001b[0m\u001b[0;34m(\u001b[0m\u001b[0mDropout\u001b[0m\u001b[0;34m(\u001b[0m\u001b[0;36m0.3\u001b[0m\u001b[0;34m,\u001b[0m\u001b[0mnoise_shape\u001b[0m\u001b[0;34m=\u001b[0m\u001b[0;32mNone\u001b[0m\u001b[0;34m,\u001b[0m\u001b[0mseed\u001b[0m\u001b[0;34m=\u001b[0m\u001b[0;32mNone\u001b[0m\u001b[0;34m)\u001b[0m\u001b[0;34m)\u001b[0m\u001b[0;34m\u001b[0m\u001b[0;34m\u001b[0m\u001b[0m\n\u001b[1;32m      4\u001b[0m \u001b[0;34m\u001b[0m\u001b[0m\n\u001b[1;32m      5\u001b[0m \u001b[0mmodel\u001b[0m\u001b[0;34m.\u001b[0m\u001b[0madd\u001b[0m\u001b[0;34m(\u001b[0m\u001b[0mDense\u001b[0m\u001b[0;34m(\u001b[0m\u001b[0;36m20\u001b[0m\u001b[0;34m,\u001b[0m \u001b[0mkernel_initializer\u001b[0m\u001b[0;34m=\u001b[0m\u001b[0;34m'normal'\u001b[0m\u001b[0;34m,\u001b[0m \u001b[0mactivation\u001b[0m\u001b[0;34m=\u001b[0m\u001b[0;34m'relu'\u001b[0m\u001b[0;34m)\u001b[0m\u001b[0;34m)\u001b[0m\u001b[0;34m\u001b[0m\u001b[0;34m\u001b[0m\u001b[0m\n",
      "\u001b[0;31mNameError\u001b[0m: name 'dimension' is not defined"
     ]
    }
   ],
   "source": [
    "model = Sequential()\n",
    "model.add(Dense(10, input_dim=dimension, kernel_initializer='normal', activation='relu'))\n",
    "model.add(Dropout(0.3,noise_shape=None,seed=None))\n",
    "\n",
    "model.add(Dense(20, kernel_initializer='normal', activation='relu'))\n",
    "model.add(Dropout(0.3,noise_shape=None,seed=None))\n",
    "\n",
    "model.add(Dense(1, kernel_initializer='normal', activation='sigmoid'))\n",
    "# Compile model\n",
    "model.compile(loss='binary_crossentropy', optimizer='adam',metrics = [auroc])"
   ]
  },
  {
   "cell_type": "code",
   "execution_count": 86,
   "metadata": {
    "scrolled": false
   },
   "outputs": [
    {
     "name": "stdout",
     "output_type": "stream",
     "text": [
      "_________________________________________________________________\n",
      "Layer (type)                 Output Shape              Param #   \n",
      "=================================================================\n",
      "dense_48 (Dense)             (None, 10)                1190      \n",
      "_________________________________________________________________\n",
      "dropout_1 (Dropout)          (None, 10)                0         \n",
      "_________________________________________________________________\n",
      "dense_49 (Dense)             (None, 20)                220       \n",
      "_________________________________________________________________\n",
      "dropout_2 (Dropout)          (None, 20)                0         \n",
      "_________________________________________________________________\n",
      "dense_50 (Dense)             (None, 1)                 21        \n",
      "=================================================================\n",
      "Total params: 1,431\n",
      "Trainable params: 1,431\n",
      "Non-trainable params: 0\n",
      "_________________________________________________________________\n"
     ]
    }
   ],
   "source": [
    "model.summary()"
   ]
  },
  {
   "cell_type": "code",
   "execution_count": 88,
   "metadata": {
    "scrolled": false
   },
   "outputs": [
    {
     "name": "stdout",
     "output_type": "stream",
     "text": [
      "Epoch 1/100\n",
      "6691112/6691112 [==============================] - 65s 10us/step - loss: 7.4156 - acc: 0.5016 - auroc: 0.5017\n",
      "Epoch 2/100\n",
      "6691112/6691112 [==============================] - 66s 10us/step - loss: 1.0992 - acc: 0.5001 - auroc: 0.4999\n",
      "Epoch 3/100\n",
      "6691112/6691112 [==============================] - 64s 10us/step - loss: 0.6934 - acc: 0.5003 - auroc: 0.5003\n",
      "Epoch 4/100\n",
      "6691112/6691112 [==============================] - 65s 10us/step - loss: 0.6932 - acc: 0.5001 - auroc: 0.5001\n",
      "Epoch 5/100\n",
      "6691112/6691112 [==============================] - 64s 10us/step - loss: 0.6932 - acc: 0.4998 - auroc: 0.4999\n",
      "Epoch 6/100\n",
      "6691112/6691112 [==============================] - 65s 10us/step - loss: 0.6932 - acc: 0.4995 - auroc: 0.4997\n",
      "Epoch 7/100\n",
      "6691112/6691112 [==============================] - 65s 10us/step - loss: 0.6932 - acc: 0.4998 - auroc: 0.5001\n",
      "Epoch 8/100\n",
      "6691112/6691112 [==============================] - 65s 10us/step - loss: 0.6932 - acc: 0.4997 - auroc: 0.4997\n",
      "Epoch 9/100\n",
      "6691112/6691112 [==============================] - 64s 10us/step - loss: 0.6932 - acc: 0.4999 - auroc: 0.5001\n",
      "Epoch 10/100\n",
      "6691112/6691112 [==============================] - 64s 9us/step - loss: 0.6932 - acc: 0.5003 - auroc: 0.5002\n",
      "Epoch 11/100\n",
      "6691112/6691112 [==============================] - 64s 10us/step - loss: 0.6932 - acc: 0.5001 - auroc: 0.5000\n",
      "Epoch 12/100\n",
      "6691112/6691112 [==============================] - 63s 9us/step - loss: 0.6932 - acc: 0.5004 - auroc: 0.5002\n",
      "Epoch 13/100\n",
      "6691112/6691112 [==============================] - 64s 10us/step - loss: 0.6932 - acc: 0.5004 - auroc: 0.5003\n",
      "Epoch 14/100\n",
      "6691112/6691112 [==============================] - 63s 9us/step - loss: 0.6932 - acc: 0.5003 - auroc: 0.5001\n",
      "Epoch 15/100\n",
      "6691112/6691112 [==============================] - 63s 9us/step - loss: 0.6932 - acc: 0.5001 - auroc: 0.5000\n",
      "Epoch 16/100\n",
      "3144817/6691112 [=============>................] - ETA: 33s - loss: 0.6932 - acc: 0.4991 - auroc: 0.5004"
     ]
    },
    {
     "ename": "KeyboardInterrupt",
     "evalue": "",
     "output_type": "error",
     "traceback": [
      "\u001b[0;31m---------------------------------------------------------------------------\u001b[0m",
      "\u001b[0;31mKeyboardInterrupt\u001b[0m                         Traceback (most recent call last)",
      "\u001b[0;32m<ipython-input-88-aa2d1e7f33dd>\u001b[0m in \u001b[0;36m<module>\u001b[0;34m\u001b[0m\n\u001b[1;32m      2\u001b[0m           \u001b[0mepochs\u001b[0m\u001b[0;34m=\u001b[0m\u001b[0;36m100\u001b[0m\u001b[0;34m,\u001b[0m\u001b[0;34m\u001b[0m\u001b[0;34m\u001b[0m\u001b[0m\n\u001b[1;32m      3\u001b[0m           \u001b[0mbatch_size\u001b[0m\u001b[0;34m=\u001b[0m\u001b[0mint\u001b[0m\u001b[0;34m(\u001b[0m\u001b[0mX_train\u001b[0m\u001b[0;34m.\u001b[0m\u001b[0mshape\u001b[0m\u001b[0;34m[\u001b[0m\u001b[0;36m0\u001b[0m\u001b[0;34m]\u001b[0m\u001b[0;34m/\u001b[0m\u001b[0;36m100\u001b[0m\u001b[0;34m)\u001b[0m\u001b[0;34m,\u001b[0m\u001b[0;34m\u001b[0m\u001b[0;34m\u001b[0m\u001b[0m\n\u001b[0;32m----> 4\u001b[0;31m              callbacks=[earlyStopping])\n\u001b[0m",
      "\u001b[0;32m~/stuff_workspace/2_Kaggle/kaggle_microsoft/enviroment/lib/python3.6/site-packages/keras/engine/training.py\u001b[0m in \u001b[0;36mfit\u001b[0;34m(self, x, y, batch_size, epochs, verbose, callbacks, validation_split, validation_data, shuffle, class_weight, sample_weight, initial_epoch, steps_per_epoch, validation_steps, **kwargs)\u001b[0m\n\u001b[1;32m   1037\u001b[0m                                         \u001b[0minitial_epoch\u001b[0m\u001b[0;34m=\u001b[0m\u001b[0minitial_epoch\u001b[0m\u001b[0;34m,\u001b[0m\u001b[0;34m\u001b[0m\u001b[0;34m\u001b[0m\u001b[0m\n\u001b[1;32m   1038\u001b[0m                                         \u001b[0msteps_per_epoch\u001b[0m\u001b[0;34m=\u001b[0m\u001b[0msteps_per_epoch\u001b[0m\u001b[0;34m,\u001b[0m\u001b[0;34m\u001b[0m\u001b[0;34m\u001b[0m\u001b[0m\n\u001b[0;32m-> 1039\u001b[0;31m                                         validation_steps=validation_steps)\n\u001b[0m\u001b[1;32m   1040\u001b[0m \u001b[0;34m\u001b[0m\u001b[0m\n\u001b[1;32m   1041\u001b[0m     def evaluate(self, x=None, y=None,\n",
      "\u001b[0;32m~/stuff_workspace/2_Kaggle/kaggle_microsoft/enviroment/lib/python3.6/site-packages/keras/engine/training_arrays.py\u001b[0m in \u001b[0;36mfit_loop\u001b[0;34m(model, f, ins, out_labels, batch_size, epochs, verbose, callbacks, val_f, val_ins, shuffle, callback_metrics, initial_epoch, steps_per_epoch, validation_steps)\u001b[0m\n\u001b[1;32m    197\u001b[0m                     \u001b[0mins_batch\u001b[0m\u001b[0;34m[\u001b[0m\u001b[0mi\u001b[0m\u001b[0;34m]\u001b[0m \u001b[0;34m=\u001b[0m \u001b[0mins_batch\u001b[0m\u001b[0;34m[\u001b[0m\u001b[0mi\u001b[0m\u001b[0;34m]\u001b[0m\u001b[0;34m.\u001b[0m\u001b[0mtoarray\u001b[0m\u001b[0;34m(\u001b[0m\u001b[0;34m)\u001b[0m\u001b[0;34m\u001b[0m\u001b[0;34m\u001b[0m\u001b[0m\n\u001b[1;32m    198\u001b[0m \u001b[0;34m\u001b[0m\u001b[0m\n\u001b[0;32m--> 199\u001b[0;31m                 \u001b[0mouts\u001b[0m \u001b[0;34m=\u001b[0m \u001b[0mf\u001b[0m\u001b[0;34m(\u001b[0m\u001b[0mins_batch\u001b[0m\u001b[0;34m)\u001b[0m\u001b[0;34m\u001b[0m\u001b[0;34m\u001b[0m\u001b[0m\n\u001b[0m\u001b[1;32m    200\u001b[0m                 \u001b[0mouts\u001b[0m \u001b[0;34m=\u001b[0m \u001b[0mto_list\u001b[0m\u001b[0;34m(\u001b[0m\u001b[0mouts\u001b[0m\u001b[0;34m)\u001b[0m\u001b[0;34m\u001b[0m\u001b[0;34m\u001b[0m\u001b[0m\n\u001b[1;32m    201\u001b[0m                 \u001b[0;32mfor\u001b[0m \u001b[0ml\u001b[0m\u001b[0;34m,\u001b[0m \u001b[0mo\u001b[0m \u001b[0;32min\u001b[0m \u001b[0mzip\u001b[0m\u001b[0;34m(\u001b[0m\u001b[0mout_labels\u001b[0m\u001b[0;34m,\u001b[0m \u001b[0mouts\u001b[0m\u001b[0;34m)\u001b[0m\u001b[0;34m:\u001b[0m\u001b[0;34m\u001b[0m\u001b[0;34m\u001b[0m\u001b[0m\n",
      "\u001b[0;32m~/stuff_workspace/2_Kaggle/kaggle_microsoft/enviroment/lib/python3.6/site-packages/keras/backend/tensorflow_backend.py\u001b[0m in \u001b[0;36m__call__\u001b[0;34m(self, inputs)\u001b[0m\n\u001b[1;32m   2713\u001b[0m                 \u001b[0;32mreturn\u001b[0m \u001b[0mself\u001b[0m\u001b[0;34m.\u001b[0m\u001b[0m_legacy_call\u001b[0m\u001b[0;34m(\u001b[0m\u001b[0minputs\u001b[0m\u001b[0;34m)\u001b[0m\u001b[0;34m\u001b[0m\u001b[0;34m\u001b[0m\u001b[0m\n\u001b[1;32m   2714\u001b[0m \u001b[0;34m\u001b[0m\u001b[0m\n\u001b[0;32m-> 2715\u001b[0;31m             \u001b[0;32mreturn\u001b[0m \u001b[0mself\u001b[0m\u001b[0;34m.\u001b[0m\u001b[0m_call\u001b[0m\u001b[0;34m(\u001b[0m\u001b[0minputs\u001b[0m\u001b[0;34m)\u001b[0m\u001b[0;34m\u001b[0m\u001b[0;34m\u001b[0m\u001b[0m\n\u001b[0m\u001b[1;32m   2716\u001b[0m         \u001b[0;32melse\u001b[0m\u001b[0;34m:\u001b[0m\u001b[0;34m\u001b[0m\u001b[0;34m\u001b[0m\u001b[0m\n\u001b[1;32m   2717\u001b[0m             \u001b[0;32mif\u001b[0m \u001b[0mpy_any\u001b[0m\u001b[0;34m(\u001b[0m\u001b[0mis_tensor\u001b[0m\u001b[0;34m(\u001b[0m\u001b[0mx\u001b[0m\u001b[0;34m)\u001b[0m \u001b[0;32mfor\u001b[0m \u001b[0mx\u001b[0m \u001b[0;32min\u001b[0m \u001b[0minputs\u001b[0m\u001b[0;34m)\u001b[0m\u001b[0;34m:\u001b[0m\u001b[0;34m\u001b[0m\u001b[0;34m\u001b[0m\u001b[0m\n",
      "\u001b[0;32m~/stuff_workspace/2_Kaggle/kaggle_microsoft/enviroment/lib/python3.6/site-packages/keras/backend/tensorflow_backend.py\u001b[0m in \u001b[0;36m_call\u001b[0;34m(self, inputs)\u001b[0m\n\u001b[1;32m   2673\u001b[0m             \u001b[0mfetched\u001b[0m \u001b[0;34m=\u001b[0m \u001b[0mself\u001b[0m\u001b[0;34m.\u001b[0m\u001b[0m_callable_fn\u001b[0m\u001b[0;34m(\u001b[0m\u001b[0;34m*\u001b[0m\u001b[0marray_vals\u001b[0m\u001b[0;34m,\u001b[0m \u001b[0mrun_metadata\u001b[0m\u001b[0;34m=\u001b[0m\u001b[0mself\u001b[0m\u001b[0;34m.\u001b[0m\u001b[0mrun_metadata\u001b[0m\u001b[0;34m)\u001b[0m\u001b[0;34m\u001b[0m\u001b[0;34m\u001b[0m\u001b[0m\n\u001b[1;32m   2674\u001b[0m         \u001b[0;32melse\u001b[0m\u001b[0;34m:\u001b[0m\u001b[0;34m\u001b[0m\u001b[0;34m\u001b[0m\u001b[0m\n\u001b[0;32m-> 2675\u001b[0;31m             \u001b[0mfetched\u001b[0m \u001b[0;34m=\u001b[0m \u001b[0mself\u001b[0m\u001b[0;34m.\u001b[0m\u001b[0m_callable_fn\u001b[0m\u001b[0;34m(\u001b[0m\u001b[0;34m*\u001b[0m\u001b[0marray_vals\u001b[0m\u001b[0;34m)\u001b[0m\u001b[0;34m\u001b[0m\u001b[0;34m\u001b[0m\u001b[0m\n\u001b[0m\u001b[1;32m   2676\u001b[0m         \u001b[0;32mreturn\u001b[0m \u001b[0mfetched\u001b[0m\u001b[0;34m[\u001b[0m\u001b[0;34m:\u001b[0m\u001b[0mlen\u001b[0m\u001b[0;34m(\u001b[0m\u001b[0mself\u001b[0m\u001b[0;34m.\u001b[0m\u001b[0moutputs\u001b[0m\u001b[0;34m)\u001b[0m\u001b[0;34m]\u001b[0m\u001b[0;34m\u001b[0m\u001b[0;34m\u001b[0m\u001b[0m\n\u001b[1;32m   2677\u001b[0m \u001b[0;34m\u001b[0m\u001b[0m\n",
      "\u001b[0;32m~/stuff_workspace/2_Kaggle/kaggle_microsoft/enviroment/lib/python3.6/site-packages/tensorflow/python/client/session.py\u001b[0m in \u001b[0;36m__call__\u001b[0;34m(self, *args, **kwargs)\u001b[0m\n\u001b[1;32m   1437\u001b[0m           ret = tf_session.TF_SessionRunCallable(\n\u001b[1;32m   1438\u001b[0m               \u001b[0mself\u001b[0m\u001b[0;34m.\u001b[0m\u001b[0m_session\u001b[0m\u001b[0;34m.\u001b[0m\u001b[0m_session\u001b[0m\u001b[0;34m,\u001b[0m \u001b[0mself\u001b[0m\u001b[0;34m.\u001b[0m\u001b[0m_handle\u001b[0m\u001b[0;34m,\u001b[0m \u001b[0margs\u001b[0m\u001b[0;34m,\u001b[0m \u001b[0mstatus\u001b[0m\u001b[0;34m,\u001b[0m\u001b[0;34m\u001b[0m\u001b[0;34m\u001b[0m\u001b[0m\n\u001b[0;32m-> 1439\u001b[0;31m               run_metadata_ptr)\n\u001b[0m\u001b[1;32m   1440\u001b[0m         \u001b[0;32mif\u001b[0m \u001b[0mrun_metadata\u001b[0m\u001b[0;34m:\u001b[0m\u001b[0;34m\u001b[0m\u001b[0;34m\u001b[0m\u001b[0m\n\u001b[1;32m   1441\u001b[0m           \u001b[0mproto_data\u001b[0m \u001b[0;34m=\u001b[0m \u001b[0mtf_session\u001b[0m\u001b[0;34m.\u001b[0m\u001b[0mTF_GetBuffer\u001b[0m\u001b[0;34m(\u001b[0m\u001b[0mrun_metadata_ptr\u001b[0m\u001b[0;34m)\u001b[0m\u001b[0;34m\u001b[0m\u001b[0;34m\u001b[0m\u001b[0m\n",
      "\u001b[0;31mKeyboardInterrupt\u001b[0m: "
     ]
    }
   ],
   "source": [
    "model.fit(X_train, y_train,\n",
    "          epochs=100,\n",
    "          batch_size=int(X_train.shape[0]/100),\n",
    "             callbacks=[earlyStopping])"
   ]
  },
  {
   "cell_type": "code",
   "execution_count": 75,
   "metadata": {},
   "outputs": [
    {
     "name": "stdout",
     "output_type": "stream",
     "text": [
      "2230371/2230371 [==============================] - 3s 1us/step\n"
     ]
    }
   ],
   "source": [
    "score = model.evaluate(X_test, y_test, batch_size=int(X_train.shape[0]/100),verbose=1)"
   ]
  },
  {
   "cell_type": "code",
   "execution_count": 76,
   "metadata": {},
   "outputs": [
    {
     "data": {
      "text/plain": [
       "[0.7124060682167555, 0.5459441489130739, 0.5609412525892398]"
      ]
     },
     "execution_count": 76,
     "metadata": {},
     "output_type": "execute_result"
    }
   ],
   "source": [
    "score"
   ]
  },
  {
   "cell_type": "markdown",
   "metadata": {},
   "source": [
    "# Red neuronal Kaggle"
   ]
  },
  {
   "cell_type": "code",
   "execution_count": 8,
   "metadata": {},
   "outputs": [],
   "source": [
    "from sklearn.model_selection import train_test_split\n",
    "from keras.models import Sequential\n",
    "from keras.layers import Dense, Dropout, BatchNormalization, Activation\n",
    "from keras.callbacks import LearningRateScheduler\n",
    "from keras.optimizers import Adam\n",
    "\n",
    "# #SPLIT TRAIN AND VALIDATION SET\n",
    "# X_train, X_val, Y_train, Y_val = train_test_split(\n",
    "#     df_train[cols], df_train['HasDetections'], test_size = 0.5)\n",
    "\n",
    "\n"
   ]
  },
  {
   "cell_type": "code",
   "execution_count": 20,
   "metadata": {},
   "outputs": [],
   "source": [
    "# BUILD MODEL\n",
    "model = Sequential()\n",
    "model.add(Dense(100,input_dim=X_train.shape[1]))\n",
    "model.add(Dropout(0.4))\n",
    "model.add(BatchNormalization())\n",
    "model.add(Activation('relu'))\n",
    "model.add(Dense(100))\n",
    "model.add(Dropout(0.4))\n",
    "model.add(BatchNormalization())\n",
    "model.add(Activation('relu'))\n",
    "model.add(Dense(1, activation='sigmoid'))\n",
    "model.compile(optimizer=Adam(lr=0.01), loss=\"binary_crossentropy\", metrics=[\"accuracy\"])\n",
    "annealer = LearningRateScheduler(lambda x: 1e-2 * 0.95 ** x)\n"
   ]
  },
  {
   "cell_type": "code",
   "execution_count": 21,
   "metadata": {},
   "outputs": [
    {
     "name": "stdout",
     "output_type": "stream",
     "text": [
      "_________________________________________________________________\n",
      "Layer (type)                 Output Shape              Param #   \n",
      "=================================================================\n",
      "dense_4 (Dense)              (None, 100)               11900     \n",
      "_________________________________________________________________\n",
      "dropout_3 (Dropout)          (None, 100)               0         \n",
      "_________________________________________________________________\n",
      "batch_normalization_3 (Batch (None, 100)               400       \n",
      "_________________________________________________________________\n",
      "activation_3 (Activation)    (None, 100)               0         \n",
      "_________________________________________________________________\n",
      "dense_5 (Dense)              (None, 100)               10100     \n",
      "_________________________________________________________________\n",
      "dropout_4 (Dropout)          (None, 100)               0         \n",
      "_________________________________________________________________\n",
      "batch_normalization_4 (Batch (None, 100)               400       \n",
      "_________________________________________________________________\n",
      "activation_4 (Activation)    (None, 100)               0         \n",
      "_________________________________________________________________\n",
      "dense_6 (Dense)              (None, 1)                 101       \n",
      "=================================================================\n",
      "Total params: 22,901\n",
      "Trainable params: 22,501\n",
      "Non-trainable params: 400\n",
      "_________________________________________________________________\n"
     ]
    }
   ],
   "source": [
    "model.summary()"
   ]
  },
  {
   "cell_type": "code",
   "execution_count": 11,
   "metadata": {},
   "outputs": [],
   "source": [
    "from keras import callbacks\n",
    "from sklearn.metrics import roc_auc_score\n",
    "\n",
    "class printAUC(callbacks.Callback):\n",
    "    def __init__(self, X_train, y_train):\n",
    "        super(printAUC, self).__init__()\n",
    "        self.bestAUC = 0\n",
    "        self.X_train = X_train\n",
    "        self.y_train = y_train\n",
    "        \n",
    "    def on_epoch_end(self, epoch, logs={}):\n",
    "        pred = self.model.predict(np.array(self.X_train))\n",
    "        auc = roc_auc_score(self.y_train, pred)\n",
    "        print(\"Train AUC: \" + str(auc))\n",
    "        pred = self.model.predict(self.validation_data[0])\n",
    "        auc = roc_auc_score(self.validation_data[1], pred)\n",
    "        print (\"Validation AUC: \" + str(auc))\n",
    "        if (self.bestAUC < auc) :\n",
    "            self.bestAUC = auc\n",
    "            self.model.save(\"bestNet.h5\", overwrite=True)\n",
    "        return"
   ]
  },
  {
   "cell_type": "code",
   "execution_count": 23,
   "metadata": {},
   "outputs": [
    {
     "name": "stdout",
     "output_type": "stream",
     "text": [
      "Train on 4460741 samples, validate on 4460742 samples\n",
      "Epoch 1/20\n",
      "4460741/4460741 [==============================] - 68s 15us/step - loss: 0.6809 - acc: 0.5682 - val_loss: 0.6843 - val_acc: 0.5397\n",
      "Train AUC: 0.5956970567859148\n",
      "Validation AUC: 0.5958255691362411\n",
      "Epoch 2/20\n",
      "4460741/4460741 [==============================] - 130s 29us/step - loss: 0.6796 - acc: 0.5713 - val_loss: 0.6826 - val_acc: 0.5458\n",
      "Train AUC: 0.594784387193786\n",
      "Validation AUC: 0.594925299695099\n",
      "Epoch 3/20\n",
      "4460741/4460741 [==============================] - 67s 15us/step - loss: 0.6795 - acc: 0.5714 - val_loss: 0.6830 - val_acc: 0.5445\n",
      "Train AUC: 0.5950191573938716\n",
      "Validation AUC: 0.5952047500529727\n",
      "Epoch 4/20\n",
      "4460741/4460741 [==============================] - 105s 23us/step - loss: 0.6790 - acc: 0.5728 - val_loss: 0.6840 - val_acc: 0.5395\n",
      "Train AUC: 0.5948202387306923\n",
      "Validation AUC: 0.5950327624329301\n",
      "Epoch 5/20\n",
      "4460741/4460741 [==============================] - 78s 18us/step - loss: 0.6786 - acc: 0.5736 - val_loss: 0.6842 - val_acc: 0.5394\n",
      "Train AUC: 0.5950236091658783\n",
      "Validation AUC: 0.5952409272885325\n",
      "Epoch 6/20\n",
      "4460741/4460741 [==============================] - 96s 21us/step - loss: 0.6784 - acc: 0.5746 - val_loss: 0.6836 - val_acc: 0.5414\n",
      "Train AUC: 0.595525686071821\n",
      "Validation AUC: 0.5957311559472787\n",
      "Epoch 7/20\n",
      "4460741/4460741 [==============================] - 74s 17us/step - loss: 0.6782 - acc: 0.5751 - val_loss: 0.6829 - val_acc: 0.5447\n",
      "Train AUC: 0.5950332823153176\n",
      "Validation AUC: 0.5952478692457148\n",
      "Epoch 8/20\n",
      "4460741/4460741 [==============================] - 87s 20us/step - loss: 0.6782 - acc: 0.5751 - val_loss: 0.6831 - val_acc: 0.5439\n",
      "Train AUC: 0.5944921776470895\n",
      "Validation AUC: 0.5947108137058621\n",
      "Epoch 9/20\n",
      "4460741/4460741 [==============================] - 83s 19us/step - loss: 0.6780 - acc: 0.5756 - val_loss: 0.6838 - val_acc: 0.5410\n",
      "Train AUC: 0.5940963378863917\n",
      "Validation AUC: 0.594322885886121\n",
      "Epoch 10/20\n",
      "4460741/4460741 [==============================] - 93s 21us/step - loss: 0.6782 - acc: 0.5752 - val_loss: 0.6835 - val_acc: 0.5423\n",
      "Train AUC: 0.5945301347629932\n",
      "Validation AUC: 0.5947471318028185\n",
      "Epoch 11/20\n",
      "4460741/4460741 [==============================] - 77s 17us/step - loss: 0.6780 - acc: 0.5761 - val_loss: 0.6840 - val_acc: 0.5404\n",
      "Train AUC: 0.5943733752563096\n",
      "Validation AUC: 0.5945832878335852\n",
      "Epoch 12/20\n",
      "4460741/4460741 [==============================] - 104s 23us/step - loss: 0.6776 - acc: 0.5774 - val_loss: 0.6842 - val_acc: 0.5391\n",
      "Train AUC: 0.5937416364488317\n",
      "Validation AUC: 0.593978735488165\n",
      "Epoch 13/20\n",
      "4460741/4460741 [==============================] - 76s 17us/step - loss: 0.6774 - acc: 0.5772 - val_loss: 0.6839 - val_acc: 0.5407\n",
      "Train AUC: 0.594019912471203\n",
      "Validation AUC: 0.5942586060302145\n",
      "Epoch 14/20\n",
      "4460741/4460741 [==============================] - 92s 21us/step - loss: 0.6773 - acc: 0.5779 - val_loss: 0.6834 - val_acc: 0.5421\n",
      "Train AUC: 0.594065840790046\n",
      "Validation AUC: 0.5943030433656197\n",
      "Epoch 15/20\n",
      "4460741/4460741 [==============================] - 86s 19us/step - loss: 0.6773 - acc: 0.5778 - val_loss: 0.6837 - val_acc: 0.5415\n",
      "Train AUC: 0.5940937171819498\n",
      "Validation AUC: 0.5943211820280312\n",
      "Epoch 16/20\n",
      "4460741/4460741 [==============================] - 97s 22us/step - loss: 0.6771 - acc: 0.5784 - val_loss: 0.6849 - val_acc: 0.5369\n",
      "Train AUC: 0.5933628770040345\n",
      "Validation AUC: 0.5936025618632252\n",
      "Epoch 17/20\n",
      "4460741/4460741 [==============================] - 86s 19us/step - loss: 0.6769 - acc: 0.5789 - val_loss: 0.6842 - val_acc: 0.5393\n",
      "Train AUC: 0.5932098230162834\n",
      "Validation AUC: 0.5934484793852541\n",
      "Epoch 18/20\n",
      "4460741/4460741 [==============================] - 93s 21us/step - loss: 0.6769 - acc: 0.5789 - val_loss: 0.6847 - val_acc: 0.5365\n",
      "Train AUC: 0.5932022118113628\n",
      "Validation AUC: 0.5934552660637532\n",
      "Epoch 19/20\n",
      "4460741/4460741 [==============================] - 78s 18us/step - loss: 0.6768 - acc: 0.5792 - val_loss: 0.6845 - val_acc: 0.5380\n",
      "Train AUC: 0.5933357179639113\n",
      "Validation AUC: 0.5935674132321542\n",
      "Epoch 20/20\n",
      "4460741/4460741 [==============================] - 98s 22us/step - loss: 0.6767 - acc: 0.5795 - val_loss: 0.6836 - val_acc: 0.5420\n",
      "Train AUC: 0.5931353550877727\n",
      "Validation AUC: 0.5933726386884353\n"
     ]
    },
    {
     "data": {
      "text/plain": [
       "<keras.callbacks.History at 0x7fe932c47898>"
      ]
     },
     "execution_count": 23,
     "metadata": {},
     "output_type": "execute_result"
    }
   ],
   "source": [
    "# TRAIN MODEL\n",
    "model.fit(X_train,y_train, batch_size=int(X_train.shape[0]/100), epochs = 20, callbacks=[annealer,\n",
    "          printAUC(X_train, y_train)], validation_data = (X_test,y_test), verbose=1)\n",
    "\n",
    "# model.fit(X_train,y_train, batch_size=int(X_train.shape[0]/100), epochs = 20, callbacks=[annealer,\n",
    "#           printAUC(X_train, y_train)], verbose=1)"
   ]
  },
  {
   "cell_type": "code",
   "execution_count": null,
   "metadata": {},
   "outputs": [],
   "source": []
  },
  {
   "cell_type": "code",
   "execution_count": null,
   "metadata": {},
   "outputs": [],
   "source": [
    "del model"
   ]
  },
  {
   "cell_type": "code",
   "execution_count": 17,
   "metadata": {},
   "outputs": [
    {
     "data": {
      "text/plain": [
       "172"
      ]
     },
     "execution_count": 17,
     "metadata": {},
     "output_type": "execute_result"
    }
   ],
   "source": [
    "import gc\n",
    "gc.collect()"
   ]
  },
  {
   "cell_type": "code",
   "execution_count": null,
   "metadata": {},
   "outputs": [],
   "source": []
  },
  {
   "cell_type": "code",
   "execution_count": null,
   "metadata": {},
   "outputs": [],
   "source": []
  },
  {
   "cell_type": "code",
   "execution_count": null,
   "metadata": {},
   "outputs": [],
   "source": []
  },
  {
   "cell_type": "code",
   "execution_count": null,
   "metadata": {},
   "outputs": [],
   "source": []
  },
  {
   "cell_type": "code",
   "execution_count": 24,
   "metadata": {},
   "outputs": [],
   "source": [
    "import matplotlib.pyplot as plt"
   ]
  },
  {
   "cell_type": "code",
   "execution_count": 26,
   "metadata": {
    "scrolled": true
   },
   "outputs": [
    {
     "data": {
      "text/plain": [
       "[<matplotlib.lines.Line2D at 0x7fe92a7b7518>]"
      ]
     },
     "execution_count": 26,
     "metadata": {},
     "output_type": "execute_result"
    },
    {
     "data": {
      "image/png": "[encoded data removed]",
      "text/plain": [
       "<Figure size 432x288 with 1 Axes>"
      ]
     },
     "metadata": {
      "needs_background": "light"
     },
     "output_type": "display_data"
    }
   ],
   "source": [
    "plt.plot(model.history.history['loss'])\n"
   ]
  },
  {
   "cell_type": "code",
   "execution_count": 27,
   "metadata": {
    "scrolled": true
   },
   "outputs": [
    {
     "data": {
      "text/plain": [
       "[<matplotlib.lines.Line2D at 0x7fe92a701d68>]"
      ]
     },
     "execution_count": 27,
     "metadata": {},
     "output_type": "execute_result"
    },
    {
     "data": {
      "image/png": "[encoded data removed]",
      "text/plain": [
       "<Figure size 432x288 with 1 Axes>"
      ]
     },
     "metadata": {
      "needs_background": "light"
     },
     "output_type": "display_data"
    }
   ],
   "source": [
    "plt.plot(model.history.history['acc'])"
   ]
  },
  {
   "cell_type": "code",
   "execution_count": 79,
   "metadata": {},
   "outputs": [
    {
     "data": {
      "text/plain": [
       "[<matplotlib.lines.Line2D at 0x7efc21390cc0>]"
      ]
     },
     "execution_count": 79,
     "metadata": {},
     "output_type": "execute_result"
    },
    {
     "data": {
      "image/png": "[encoded data removed]",
      "text/plain": [
       "<Figure size 432x288 with 1 Axes>"
      ]
     },
     "metadata": {
      "needs_background": "light"
     },
     "output_type": "display_data"
    }
   ],
   "source": [
    "plt.plot(model.history.history['auroc'])"
   ]
  },
  {
   "cell_type": "code",
   "execution_count": 25,
   "metadata": {},
   "outputs": [
    {
     "data": {
      "text/plain": [
       "{'val_loss': [0.6843234276317193,\n",
       "  0.6826109383471584,\n",
       "  0.6829694760439057,\n",
       "  0.6840158297844773,\n",
       "  0.6841751044806986,\n",
       "  0.6835528519933104,\n",
       "  0.6828900179575517,\n",
       "  0.6830915296874657,\n",
       "  0.6837636280998183,\n",
       "  0.6834728934888449,\n",
       "  0.6840065924063005,\n",
       "  0.6842207179420167,\n",
       "  0.6839192265302902,\n",
       "  0.6833632579576804,\n",
       "  0.6836717434580455,\n",
       "  0.6848767570293103,\n",
       "  0.6841998931618027,\n",
       "  0.6847377493850373,\n",
       "  0.6845161013316582,\n",
       "  0.6835566447970488],\n",
       " 'val_acc': [0.5397043814392395,\n",
       "  0.5457522534244513,\n",
       "  0.5444845233756953,\n",
       "  0.5395476823701186,\n",
       "  0.5394326763574545,\n",
       "  0.541355002160437,\n",
       "  0.5446869580499699,\n",
       "  0.5439153390811421,\n",
       "  0.5410164963314493,\n",
       "  0.542307538066747,\n",
       "  0.5404313886728044,\n",
       "  0.539146850339065,\n",
       "  0.5407389600490026,\n",
       "  0.5421118268662651,\n",
       "  0.5414594720924147,\n",
       "  0.5369440754020717,\n",
       "  0.5393022071908069,\n",
       "  0.5365145498986046,\n",
       "  0.5380320137718602,\n",
       "  0.5420154315660717],\n",
       " 'loss': [0.6808574984914759,\n",
       "  0.6796234638488763,\n",
       "  0.6795235870614722,\n",
       "  0.6790006405730208,\n",
       "  0.6786278274048578,\n",
       "  0.678377338800975,\n",
       "  0.6782207243010044,\n",
       "  0.6781906357705051,\n",
       "  0.6780208852769014,\n",
       "  0.6781674188411141,\n",
       "  0.6779608990576864,\n",
       "  0.6775513256018062,\n",
       "  0.6774477673748847,\n",
       "  0.6772837755579436,\n",
       "  0.6772671698928834,\n",
       "  0.6770622901658562,\n",
       "  0.6768890160500782,\n",
       "  0.6768851660575986,\n",
       "  0.6768095411011366,\n",
       "  0.6766593413386152],\n",
       " 'acc': [0.568154709910804,\n",
       "  0.5713351224714632,\n",
       "  0.5713712134779149,\n",
       "  0.5728144686694373,\n",
       "  0.5736029081573762,\n",
       "  0.5746173093540007,\n",
       "  0.575083376108049,\n",
       "  0.5751035552711665,\n",
       "  0.5756377711618577,\n",
       "  0.5752062269713071,\n",
       "  0.5760832120512022,\n",
       "  0.5773632673191184,\n",
       "  0.5772171018470234,\n",
       "  0.5778847051504701,\n",
       "  0.5777983938494815,\n",
       "  0.5783792422635976,\n",
       "  0.5789222001541463,\n",
       "  0.5789430479455127,\n",
       "  0.5792405340480462,\n",
       "  0.5795234505879142],\n",
       " 'lr': [0.01,\n",
       "  0.0095,\n",
       "  0.009025,\n",
       "  0.00857375,\n",
       "  0.008145062,\n",
       "  0.0077378093,\n",
       "  0.007350919,\n",
       "  0.006983373,\n",
       "  0.006634204,\n",
       "  0.006302494,\n",
       "  0.0059873695,\n",
       "  0.005688001,\n",
       "  0.005403601,\n",
       "  0.0051334207,\n",
       "  0.0048767496,\n",
       "  0.004632912,\n",
       "  0.0044012666,\n",
       "  0.0041812034,\n",
       "  0.0039721434,\n",
       "  0.003773536]}"
      ]
     },
     "execution_count": 25,
     "metadata": {},
     "output_type": "execute_result"
    }
   ],
   "source": [
    "model.history.history"
   ]
  },
  {
   "cell_type": "code",
   "execution_count": null,
   "metadata": {},
   "outputs": [],
   "source": [
    "model.predict_proba(X_test)"
   ]
  },
  {
   "cell_type": "markdown",
   "metadata": {},
   "source": [
    "## Prediction"
   ]
  },
  {
   "cell_type": "code",
   "execution_count": null,
   "metadata": {},
   "outputs": [],
   "source": []
  },
  {
   "cell_type": "code",
   "execution_count": 28,
   "metadata": {},
   "outputs": [
    {
     "name": "stdout",
     "output_type": "stream",
     "text": [
      "Cargando datos del TEST\n"
     ]
    }
   ],
   "source": [
    "print('Cargando datos del TEST')\n",
    "path = '../../data/test_final_3'\n",
    "allFiles = glob.glob(path + \"/*.csv\")\n",
    "list_ = []\n",
    "for file_ in allFiles:\n",
    "    df = pd.read_csv(file_)\n",
    "    df = (df.fillna(-1)).astype(schema_train_3)\n",
    "    list_.append(df)\n",
    "\n",
    "\n",
    "test = pd.concat(list_, axis = 0, ignore_index = True).fillna(-1)\n",
    "\n",
    "sel_cols = [c for c in test.columns if c not in ['MachineIdentifier',\n",
    "                                                 'HasDetections',\n",
    "                                                 'Census_DeviceFamily_Windows.Server',\n",
    "                                                 'Census_DeviceFamily_Windows.Desktop'\n",
    "                                                 ]\n",
    "            ]\n",
    "\n",
    "X_test = test.loc[:, sel_cols]"
   ]
  },
  {
   "cell_type": "code",
   "execution_count": null,
   "metadata": {},
   "outputs": [],
   "source": []
  },
  {
   "cell_type": "code",
   "execution_count": null,
   "metadata": {},
   "outputs": [],
   "source": []
  },
  {
   "cell_type": "code",
   "execution_count": 29,
   "metadata": {},
   "outputs": [],
   "source": [
    "predictions = model.predict(X_test)"
   ]
  },
  {
   "cell_type": "code",
   "execution_count": 30,
   "metadata": {},
   "outputs": [
    {
     "data": {
      "text/plain": [
       "array([[0.44171727],\n",
       "       [0.55441296],\n",
       "       [0.43175006],\n",
       "       ...,\n",
       "       [0.42705053],\n",
       "       [0.38649637],\n",
       "       [0.46251813]], dtype=float32)"
      ]
     },
     "execution_count": 30,
     "metadata": {},
     "output_type": "execute_result"
    }
   ],
   "source": [
    "predictions"
   ]
  },
  {
   "cell_type": "code",
   "execution_count": 42,
   "metadata": {},
   "outputs": [],
   "source": [
    "predf= pd.DataFrame(predictions,columns=['HasDetections'])"
   ]
  },
  {
   "cell_type": "code",
   "execution_count": 52,
   "metadata": {},
   "outputs": [],
   "source": [
    "pd.concat([X_machines,predf],axis=1).to_csv('keras_model.csv', index=None)"
   ]
  },
  {
   "cell_type": "code",
   "execution_count": null,
   "metadata": {},
   "outputs": [],
   "source": []
  },
  {
   "cell_type": "code",
   "execution_count": 31,
   "metadata": {},
   "outputs": [
    {
     "ename": "Exception",
     "evalue": "Data must be 1-dimensional",
     "output_type": "error",
     "traceback": [
      "\u001b[0;31m---------------------------------------------------------------------------\u001b[0m",
      "\u001b[0;31mException\u001b[0m                                 Traceback (most recent call last)",
      "\u001b[0;32m<ipython-input-31-388f7e2854ad>\u001b[0m in \u001b[0;36m<module>\u001b[0;34m\u001b[0m\n\u001b[1;32m      2\u001b[0m \u001b[0;34m\u001b[0m\u001b[0m\n\u001b[1;32m      3\u001b[0m \u001b[0;34m\u001b[0m\u001b[0m\n\u001b[0;32m----> 4\u001b[0;31m \u001b[0mdf_prds\u001b[0m \u001b[0;34m=\u001b[0m \u001b[0mpd\u001b[0m\u001b[0;34m.\u001b[0m\u001b[0mDataFrame\u001b[0m\u001b[0;34m(\u001b[0m\u001b[0;34m{\u001b[0m\u001b[0;34m'MachineIdentifier'\u001b[0m\u001b[0;34m:\u001b[0m \u001b[0mX_machines\u001b[0m\u001b[0;34m,\u001b[0m \u001b[0;34m'HasDetections'\u001b[0m\u001b[0;34m:\u001b[0m \u001b[0mpredictions\u001b[0m\u001b[0;34m}\u001b[0m\u001b[0;34m)\u001b[0m\u001b[0;34m\u001b[0m\u001b[0;34m\u001b[0m\u001b[0m\n\u001b[0m\u001b[1;32m      5\u001b[0m \u001b[0;34m\u001b[0m\u001b[0m\n\u001b[1;32m      6\u001b[0m \u001b[0mdf_prds\u001b[0m\u001b[0;34m.\u001b[0m\u001b[0mto_csv\u001b[0m\u001b[0;34m(\u001b[0m\u001b[0;34m'keras_model.csv'\u001b[0m\u001b[0;34m,\u001b[0m \u001b[0mindex\u001b[0m\u001b[0;34m=\u001b[0m\u001b[0;32mNone\u001b[0m\u001b[0;34m)\u001b[0m\u001b[0;34m\u001b[0m\u001b[0;34m\u001b[0m\u001b[0m\n",
      "\u001b[0;32m~/stuff_workspace/2_Kaggle/kaggle_microsoft/enviroment/lib/python3.6/site-packages/pandas/core/frame.py\u001b[0m in \u001b[0;36m__init__\u001b[0;34m(self, data, index, columns, dtype, copy)\u001b[0m\n\u001b[1;32m    390\u001b[0m                                  dtype=dtype, copy=copy)\n\u001b[1;32m    391\u001b[0m         \u001b[0;32melif\u001b[0m \u001b[0misinstance\u001b[0m\u001b[0;34m(\u001b[0m\u001b[0mdata\u001b[0m\u001b[0;34m,\u001b[0m \u001b[0mdict\u001b[0m\u001b[0;34m)\u001b[0m\u001b[0;34m:\u001b[0m\u001b[0;34m\u001b[0m\u001b[0;34m\u001b[0m\u001b[0m\n\u001b[0;32m--> 392\u001b[0;31m             \u001b[0mmgr\u001b[0m \u001b[0;34m=\u001b[0m \u001b[0minit_dict\u001b[0m\u001b[0;34m(\u001b[0m\u001b[0mdata\u001b[0m\u001b[0;34m,\u001b[0m \u001b[0mindex\u001b[0m\u001b[0;34m,\u001b[0m \u001b[0mcolumns\u001b[0m\u001b[0;34m,\u001b[0m \u001b[0mdtype\u001b[0m\u001b[0;34m=\u001b[0m\u001b[0mdtype\u001b[0m\u001b[0;34m)\u001b[0m\u001b[0;34m\u001b[0m\u001b[0;34m\u001b[0m\u001b[0m\n\u001b[0m\u001b[1;32m    393\u001b[0m         \u001b[0;32melif\u001b[0m \u001b[0misinstance\u001b[0m\u001b[0;34m(\u001b[0m\u001b[0mdata\u001b[0m\u001b[0;34m,\u001b[0m \u001b[0mma\u001b[0m\u001b[0;34m.\u001b[0m\u001b[0mMaskedArray\u001b[0m\u001b[0;34m)\u001b[0m\u001b[0;34m:\u001b[0m\u001b[0;34m\u001b[0m\u001b[0;34m\u001b[0m\u001b[0m\n\u001b[1;32m    394\u001b[0m             \u001b[0;32mimport\u001b[0m \u001b[0mnumpy\u001b[0m\u001b[0;34m.\u001b[0m\u001b[0mma\u001b[0m\u001b[0;34m.\u001b[0m\u001b[0mmrecords\u001b[0m \u001b[0;32mas\u001b[0m \u001b[0mmrecords\u001b[0m\u001b[0;34m\u001b[0m\u001b[0;34m\u001b[0m\u001b[0m\n",
      "\u001b[0;32m~/stuff_workspace/2_Kaggle/kaggle_microsoft/enviroment/lib/python3.6/site-packages/pandas/core/internals/construction.py\u001b[0m in \u001b[0;36minit_dict\u001b[0;34m(data, index, columns, dtype)\u001b[0m\n\u001b[1;32m    210\u001b[0m         \u001b[0marrays\u001b[0m \u001b[0;34m=\u001b[0m \u001b[0;34m[\u001b[0m\u001b[0mdata\u001b[0m\u001b[0;34m[\u001b[0m\u001b[0mk\u001b[0m\u001b[0;34m]\u001b[0m \u001b[0;32mfor\u001b[0m \u001b[0mk\u001b[0m \u001b[0;32min\u001b[0m \u001b[0mkeys\u001b[0m\u001b[0;34m]\u001b[0m\u001b[0;34m\u001b[0m\u001b[0;34m\u001b[0m\u001b[0m\n\u001b[1;32m    211\u001b[0m \u001b[0;34m\u001b[0m\u001b[0m\n\u001b[0;32m--> 212\u001b[0;31m     \u001b[0;32mreturn\u001b[0m \u001b[0marrays_to_mgr\u001b[0m\u001b[0;34m(\u001b[0m\u001b[0marrays\u001b[0m\u001b[0;34m,\u001b[0m \u001b[0mdata_names\u001b[0m\u001b[0;34m,\u001b[0m \u001b[0mindex\u001b[0m\u001b[0;34m,\u001b[0m \u001b[0mcolumns\u001b[0m\u001b[0;34m,\u001b[0m \u001b[0mdtype\u001b[0m\u001b[0;34m=\u001b[0m\u001b[0mdtype\u001b[0m\u001b[0;34m)\u001b[0m\u001b[0;34m\u001b[0m\u001b[0;34m\u001b[0m\u001b[0m\n\u001b[0m\u001b[1;32m    213\u001b[0m \u001b[0;34m\u001b[0m\u001b[0m\n\u001b[1;32m    214\u001b[0m \u001b[0;34m\u001b[0m\u001b[0m\n",
      "\u001b[0;32m~/stuff_workspace/2_Kaggle/kaggle_microsoft/enviroment/lib/python3.6/site-packages/pandas/core/internals/construction.py\u001b[0m in \u001b[0;36marrays_to_mgr\u001b[0;34m(arrays, arr_names, index, columns, dtype)\u001b[0m\n\u001b[1;32m     54\u001b[0m \u001b[0;34m\u001b[0m\u001b[0m\n\u001b[1;32m     55\u001b[0m     \u001b[0;31m# don't force copy because getting jammed in an ndarray anyway\u001b[0m\u001b[0;34m\u001b[0m\u001b[0;34m\u001b[0m\u001b[0;34m\u001b[0m\u001b[0m\n\u001b[0;32m---> 56\u001b[0;31m     \u001b[0marrays\u001b[0m \u001b[0;34m=\u001b[0m \u001b[0m_homogenize\u001b[0m\u001b[0;34m(\u001b[0m\u001b[0marrays\u001b[0m\u001b[0;34m,\u001b[0m \u001b[0mindex\u001b[0m\u001b[0;34m,\u001b[0m \u001b[0mdtype\u001b[0m\u001b[0;34m)\u001b[0m\u001b[0;34m\u001b[0m\u001b[0;34m\u001b[0m\u001b[0m\n\u001b[0m\u001b[1;32m     57\u001b[0m \u001b[0;34m\u001b[0m\u001b[0m\n\u001b[1;32m     58\u001b[0m     \u001b[0;31m# from BlockManager perspective\u001b[0m\u001b[0;34m\u001b[0m\u001b[0;34m\u001b[0m\u001b[0;34m\u001b[0m\u001b[0m\n",
      "\u001b[0;32m~/stuff_workspace/2_Kaggle/kaggle_microsoft/enviroment/lib/python3.6/site-packages/pandas/core/internals/construction.py\u001b[0m in \u001b[0;36m_homogenize\u001b[0;34m(data, index, dtype)\u001b[0m\n\u001b[1;32m    275\u001b[0m                 \u001b[0mval\u001b[0m \u001b[0;34m=\u001b[0m \u001b[0mlib\u001b[0m\u001b[0;34m.\u001b[0m\u001b[0mfast_multiget\u001b[0m\u001b[0;34m(\u001b[0m\u001b[0mval\u001b[0m\u001b[0;34m,\u001b[0m \u001b[0moindex\u001b[0m\u001b[0;34m.\u001b[0m\u001b[0mvalues\u001b[0m\u001b[0;34m,\u001b[0m \u001b[0mdefault\u001b[0m\u001b[0;34m=\u001b[0m\u001b[0mnp\u001b[0m\u001b[0;34m.\u001b[0m\u001b[0mnan\u001b[0m\u001b[0;34m)\u001b[0m\u001b[0;34m\u001b[0m\u001b[0;34m\u001b[0m\u001b[0m\n\u001b[1;32m    276\u001b[0m             val = sanitize_array(val, index, dtype=dtype, copy=False,\n\u001b[0;32m--> 277\u001b[0;31m                                  raise_cast_failure=False)\n\u001b[0m\u001b[1;32m    278\u001b[0m \u001b[0;34m\u001b[0m\u001b[0m\n\u001b[1;32m    279\u001b[0m         \u001b[0mhomogenized\u001b[0m\u001b[0;34m.\u001b[0m\u001b[0mappend\u001b[0m\u001b[0;34m(\u001b[0m\u001b[0mval\u001b[0m\u001b[0;34m)\u001b[0m\u001b[0;34m\u001b[0m\u001b[0;34m\u001b[0m\u001b[0m\n",
      "\u001b[0;32m~/stuff_workspace/2_Kaggle/kaggle_microsoft/enviroment/lib/python3.6/site-packages/pandas/core/internals/construction.py\u001b[0m in \u001b[0;36msanitize_array\u001b[0;34m(data, index, dtype, copy, raise_cast_failure)\u001b[0m\n\u001b[1;32m    656\u001b[0m     \u001b[0;32melif\u001b[0m \u001b[0msubarr\u001b[0m\u001b[0;34m.\u001b[0m\u001b[0mndim\u001b[0m \u001b[0;34m>\u001b[0m \u001b[0;36m1\u001b[0m\u001b[0;34m:\u001b[0m\u001b[0;34m\u001b[0m\u001b[0;34m\u001b[0m\u001b[0m\n\u001b[1;32m    657\u001b[0m         \u001b[0;32mif\u001b[0m \u001b[0misinstance\u001b[0m\u001b[0;34m(\u001b[0m\u001b[0mdata\u001b[0m\u001b[0;34m,\u001b[0m \u001b[0mnp\u001b[0m\u001b[0;34m.\u001b[0m\u001b[0mndarray\u001b[0m\u001b[0;34m)\u001b[0m\u001b[0;34m:\u001b[0m\u001b[0;34m\u001b[0m\u001b[0;34m\u001b[0m\u001b[0m\n\u001b[0;32m--> 658\u001b[0;31m             \u001b[0;32mraise\u001b[0m \u001b[0mException\u001b[0m\u001b[0;34m(\u001b[0m\u001b[0;34m'Data must be 1-dimensional'\u001b[0m\u001b[0;34m)\u001b[0m\u001b[0;34m\u001b[0m\u001b[0;34m\u001b[0m\u001b[0m\n\u001b[0m\u001b[1;32m    659\u001b[0m         \u001b[0;32melse\u001b[0m\u001b[0;34m:\u001b[0m\u001b[0;34m\u001b[0m\u001b[0;34m\u001b[0m\u001b[0m\n\u001b[1;32m    660\u001b[0m             \u001b[0msubarr\u001b[0m \u001b[0;34m=\u001b[0m \u001b[0mcom\u001b[0m\u001b[0;34m.\u001b[0m\u001b[0masarray_tuplesafe\u001b[0m\u001b[0;34m(\u001b[0m\u001b[0mdata\u001b[0m\u001b[0;34m,\u001b[0m \u001b[0mdtype\u001b[0m\u001b[0;34m=\u001b[0m\u001b[0mdtype\u001b[0m\u001b[0;34m)\u001b[0m\u001b[0;34m\u001b[0m\u001b[0;34m\u001b[0m\u001b[0m\n",
      "\u001b[0;31mException\u001b[0m: Data must be 1-dimensional"
     ]
    }
   ],
   "source": [
    "X_machines = test.loc[:, 'MachineIdentifier']\n",
    "\n",
    "\n",
    "df_prds = pd.DataFrame({'MachineIdentifier': X_machines, 'HasDetections': predictions})\n",
    "\n",
    "df_prds.to_csv('keras_model.csv', index=None)"
   ]
  },
  {
   "cell_type": "code",
   "execution_count": null,
   "metadata": {},
   "outputs": [],
   "source": []
  },
  {
   "cell_type": "code",
   "execution_count": 104,
   "metadata": {},
   "outputs": [],
   "source": [
    "del predictions"
   ]
  },
  {
   "cell_type": "markdown",
   "metadata": {},
   "source": [
    "### Save train in one file"
   ]
  },
  {
   "cell_type": "code",
   "execution_count": 25,
   "metadata": {},
   "outputs": [],
   "source": [
    "train.to_csv(\"train_uniq.csv\")"
   ]
  }
 ],
 "metadata": {
  "kernelspec": {
   "display_name": "Python 3",
   "language": "python",
   "name": "python3"
  },
  "language_info": {
   "codemirror_mode": {
    "name": "ipython",
    "version": 3
   },
   "file_extension": ".py",
   "mimetype": "text/x-python",
   "name": "python",
   "nbconvert_exporter": "python",
   "pygments_lexer": "ipython3",
   "version": "3.6.7"
  }
 },
 "nbformat": 4,
 "nbformat_minor": 2
}
