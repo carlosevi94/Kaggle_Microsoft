{
 "cells": [
  {
   "cell_type": "code",
   "execution_count": 13,
   "metadata": {},
   "outputs": [],
   "source": [
    "import pandas as pd\n",
    "import numpy as np\n",
    "from sklearn.externals import joblib\n",
    "import gc"
   ]
  },
  {
   "cell_type": "code",
   "execution_count": 3,
   "metadata": {},
   "outputs": [],
   "source": [
    "path = '../../data/test_final_4/part-00000-4beabd79-365b-430b-9894-d5060bb98ce8-c000.csv'"
   ]
  },
  {
   "cell_type": "code",
   "execution_count": 5,
   "metadata": {},
   "outputs": [],
   "source": [
    "test = pd.read_csv(path, low_memory=True)"
   ]
  },
  {
   "cell_type": "code",
   "execution_count": 7,
   "metadata": {},
   "outputs": [
    {
     "data": {
      "text/plain": [
       "(98160, 123)"
      ]
     },
     "execution_count": 7,
     "metadata": {},
     "output_type": "execute_result"
    }
   ],
   "source": [
    "test.shape"
   ]
  },
  {
   "cell_type": "code",
   "execution_count": 10,
   "metadata": {},
   "outputs": [
    {
     "name": "stdout",
     "output_type": "stream",
     "text": [
      "Cargando Modelos\n"
     ]
    }
   ],
   "source": [
    "print('Cargando Modelos')\n",
    "model1 = joblib.load('../../saved_models/lgbc_model_6_1.pkl')\n",
    "model2 = joblib.load('../../saved_models/lgbc_model_6_2.pkl')"
   ]
  },
  {
   "cell_type": "code",
   "execution_count": 11,
   "metadata": {},
   "outputs": [
    {
     "ename": "NameError",
     "evalue": "name 'list_' is not defined",
     "traceback": [
      "\u001b[0;31m---------------------------------------------------------------------------\u001b[0m",
      "\u001b[0;31mNameError\u001b[0m                                 Traceback (most recent call last)",
      "\u001b[0;32m<ipython-input-11-2c26eae8e95f>\u001b[0m in \u001b[0;36m<module>\u001b[0;34m\u001b[0m\n\u001b[1;32m     10\u001b[0m \u001b[0mX_machines\u001b[0m \u001b[0;34m=\u001b[0m \u001b[0mtest\u001b[0m\u001b[0;34m.\u001b[0m\u001b[0mloc\u001b[0m\u001b[0;34m[\u001b[0m\u001b[0;34m:\u001b[0m\u001b[0;34m,\u001b[0m \u001b[0;34m'MachineIdentifier'\u001b[0m\u001b[0;34m]\u001b[0m\u001b[0;34m\u001b[0m\u001b[0;34m\u001b[0m\u001b[0m\n\u001b[1;32m     11\u001b[0m \u001b[0;32mdel\u001b[0m \u001b[0mtest\u001b[0m\u001b[0;34m\u001b[0m\u001b[0;34m\u001b[0m\u001b[0m\n\u001b[0;32m---> 12\u001b[0;31m \u001b[0;32mdel\u001b[0m \u001b[0mlist_\u001b[0m\u001b[0;34m\u001b[0m\u001b[0;34m\u001b[0m\u001b[0m\n\u001b[0m\u001b[1;32m     13\u001b[0m \u001b[0mgc\u001b[0m\u001b[0;34m.\u001b[0m\u001b[0mcollect\u001b[0m\u001b[0;34m(\u001b[0m\u001b[0;34m)\u001b[0m\u001b[0;34m\u001b[0m\u001b[0;34m\u001b[0m\u001b[0m\n",
      "\u001b[0;31mNameError\u001b[0m: name 'list_' is not defined"
     ],
     "output_type": "error"
    }
   ],
   "source": [
    "drop_version = ['AvSigVersion_index', 'EngineVersion_index', 'Census_OSVersion_index', 'AppVersion_index']\n",
    "sel_cols = [c for c in test.columns if c not in ['MachineIdentifier',\n",
    "                                                 'HasDetections',\n",
    "                                                 'Census_DeviceFamily_Windows.Server',\n",
    "                                                 'Census_DeviceFamily_Windows.Desktop'\n",
    "                                                 ]+drop_version\n",
    "            ]\n",
    "\n",
    "X_test = test.loc[:, sel_cols]\n",
    "X_machines = test.loc[:, 'MachineIdentifier']\n",
    "del test\n",
    "gc.collect()"
   ]
  },
  {
   "cell_type": "code",
   "execution_count": 14,
   "metadata": {},
   "outputs": [
    {
     "data": {
      "text/plain": [
       "24"
      ]
     },
     "execution_count": 14,
     "metadata": {},
     "output_type": "execute_result"
    }
   ],
   "source": [
    "gc.collect()"
   ]
  },
  {
   "cell_type": "code",
   "execution_count": 15,
   "metadata": {},
   "outputs": [
    {
     "name": "stdout",
     "output_type": "stream",
     "text": [
      "Realizando y guardando predicciones\n"
     ]
    }
   ],
   "source": [
    "print('Realizando y guardando predicciones')\n",
    "preds1 = model1.predict_proba(X_test)\n",
    "preds_1 = preds1[:,1]\n",
    "preds2 = model2.predict_proba(X_test)\n",
    "preds_2 = preds2[:,1]"
   ]
  },
  {
   "cell_type": "code",
   "execution_count": 16,
   "metadata": {},
   "outputs": [
    {
     "data": {
      "text/plain": [
       "array([0.56187524, 0.34678725, 0.2715036 , ..., 0.51702353, 0.66769516,\n",
       "       0.43326288])"
      ]
     },
     "execution_count": 16,
     "metadata": {},
     "output_type": "execute_result"
    }
   ],
   "source": [
    "preds_1"
   ]
  },
  {
   "cell_type": "code",
   "execution_count": 17,
   "metadata": {},
   "outputs": [
    {
     "data": {
      "text/plain": [
       "array([0.52328631, 0.56217562, 0.24310793, ..., 0.56523151, 0.61960362,\n",
       "       0.47652206])"
      ]
     },
     "execution_count": 17,
     "metadata": {},
     "output_type": "execute_result"
    }
   ],
   "source": [
    "preds_2"
   ]
  },
  {
   "cell_type": "code",
   "execution_count": 20,
   "metadata": {},
   "outputs": [],
   "source": [
    "final_prds = (preds_1+preds_2)/2"
   ]
  },
  {
   "cell_type": "code",
   "execution_count": 21,
   "metadata": {},
   "outputs": [],
   "source": [
    "df_prds = pd.DataFrame({'MachineIdentifier': X_machines, 'HasDetections': final_prds})"
   ]
  },
  {
   "cell_type": "code",
   "execution_count": 22,
   "metadata": {},
   "outputs": [
    {
     "data": {
      "text/html": [
       "<div>\n",
       "<style scoped>\n",
       "    .dataframe tbody tr th:only-of-type {\n",
       "        vertical-align: middle;\n",
       "    }\n",
       "\n",
       "    .dataframe tbody tr th {\n",
       "        vertical-align: top;\n",
       "    }\n",
       "\n",
       "    .dataframe thead th {\n",
       "        text-align: right;\n",
       "    }\n",
       "</style>\n",
       "<table border=\"1\" class=\"dataframe\">\n",
       "  <thead>\n",
       "    <tr style=\"text-align: right;\">\n",
       "      <th></th>\n",
       "      <th>MachineIdentifier</th>\n",
       "      <th>HasDetections</th>\n",
       "    </tr>\n",
       "  </thead>\n",
       "  <tbody>\n",
       "    <tr>\n",
       "      <th>0</th>\n",
       "      <td>00000176ac758d54827acd545b6315a5</td>\n",
       "      <td>0.542581</td>\n",
       "    </tr>\n",
       "    <tr>\n",
       "      <th>1</th>\n",
       "      <td>0000f38dbba7564e7a7cb63522f88ddc</td>\n",
       "      <td>0.454481</td>\n",
       "    </tr>\n",
       "    <tr>\n",
       "      <th>2</th>\n",
       "      <td>0000f686b28e695811a3e8893bb9cc35</td>\n",
       "      <td>0.257306</td>\n",
       "    </tr>\n",
       "    <tr>\n",
       "      <th>3</th>\n",
       "      <td>000178eab2e90e6744b5e2fb974d6928</td>\n",
       "      <td>0.647370</td>\n",
       "    </tr>\n",
       "    <tr>\n",
       "      <th>4</th>\n",
       "      <td>0001a55e53a65c5245eb1d2ce5423cf2</td>\n",
       "      <td>0.641917</td>\n",
       "    </tr>\n",
       "    <tr>\n",
       "      <th>5</th>\n",
       "      <td>00026be58326a66205257d79c6700014</td>\n",
       "      <td>0.348386</td>\n",
       "    </tr>\n",
       "    <tr>\n",
       "      <th>6</th>\n",
       "      <td>0003326614b5508e92be9a70a7e2c91f</td>\n",
       "      <td>0.549313</td>\n",
       "    </tr>\n",
       "    <tr>\n",
       "      <th>7</th>\n",
       "      <td>0005406eede004b85face97389b796f2</td>\n",
       "      <td>0.887093</td>\n",
       "    </tr>\n",
       "    <tr>\n",
       "      <th>8</th>\n",
       "      <td>00054e0f258af3f7fe46d5f852f07496</td>\n",
       "      <td>0.257785</td>\n",
       "    </tr>\n",
       "    <tr>\n",
       "      <th>9</th>\n",
       "      <td>00059d8b6abd91ff6ba65ce7094f8f90</td>\n",
       "      <td>0.188307</td>\n",
       "    </tr>\n",
       "    <tr>\n",
       "      <th>10</th>\n",
       "      <td>00065f55e28ff2560e0be2a048bfb7b4</td>\n",
       "      <td>0.536647</td>\n",
       "    </tr>\n",
       "    <tr>\n",
       "      <th>11</th>\n",
       "      <td>000cebb9f5a8251a5085b9d3ee4aeb60</td>\n",
       "      <td>0.385280</td>\n",
       "    </tr>\n",
       "    <tr>\n",
       "      <th>12</th>\n",
       "      <td>000d049e9b81464aca0a9cd261d9c53d</td>\n",
       "      <td>0.498743</td>\n",
       "    </tr>\n",
       "    <tr>\n",
       "      <th>13</th>\n",
       "      <td>000d175992a01778e8663cd7470cc737</td>\n",
       "      <td>0.252742</td>\n",
       "    </tr>\n",
       "    <tr>\n",
       "      <th>14</th>\n",
       "      <td>000e30fec46e95edfdce0b03eb525d60</td>\n",
       "      <td>0.499678</td>\n",
       "    </tr>\n",
       "    <tr>\n",
       "      <th>15</th>\n",
       "      <td>000e74c50fdaf0eecb802c691c7feb0b</td>\n",
       "      <td>0.523649</td>\n",
       "    </tr>\n",
       "    <tr>\n",
       "      <th>16</th>\n",
       "      <td>000e81a02c0e1fcb5bc4ac7d97637e61</td>\n",
       "      <td>0.471919</td>\n",
       "    </tr>\n",
       "    <tr>\n",
       "      <th>17</th>\n",
       "      <td>000e91a478da8304eed367f23558196b</td>\n",
       "      <td>0.559336</td>\n",
       "    </tr>\n",
       "    <tr>\n",
       "      <th>18</th>\n",
       "      <td>000f64edfdd6fa5db1334313a0124fc1</td>\n",
       "      <td>0.475573</td>\n",
       "    </tr>\n",
       "    <tr>\n",
       "      <th>19</th>\n",
       "      <td>001034bbdfe765ce8bfa3189a63bccf3</td>\n",
       "      <td>0.428080</td>\n",
       "    </tr>\n",
       "    <tr>\n",
       "      <th>20</th>\n",
       "      <td>0011999760dd9151c4d6471020315f6e</td>\n",
       "      <td>0.501747</td>\n",
       "    </tr>\n",
       "    <tr>\n",
       "      <th>21</th>\n",
       "      <td>00123a11cca16b23602e62e839f0eaba</td>\n",
       "      <td>0.550116</td>\n",
       "    </tr>\n",
       "    <tr>\n",
       "      <th>22</th>\n",
       "      <td>001332075b9480a3b10d7db1a8db83fa</td>\n",
       "      <td>0.330175</td>\n",
       "    </tr>\n",
       "    <tr>\n",
       "      <th>23</th>\n",
       "      <td>00133ff5fa8d060a7117bcbb39c6eceb</td>\n",
       "      <td>0.460478</td>\n",
       "    </tr>\n",
       "    <tr>\n",
       "      <th>24</th>\n",
       "      <td>0014263dc336058d490f273370eaa99e</td>\n",
       "      <td>0.465805</td>\n",
       "    </tr>\n",
       "    <tr>\n",
       "      <th>25</th>\n",
       "      <td>001534da74a63169ce129c816361e08e</td>\n",
       "      <td>0.406040</td>\n",
       "    </tr>\n",
       "    <tr>\n",
       "      <th>26</th>\n",
       "      <td>00155d5044b2405f38c4ddc1d2cf2846</td>\n",
       "      <td>0.508937</td>\n",
       "    </tr>\n",
       "    <tr>\n",
       "      <th>27</th>\n",
       "      <td>00157140f3691d9d019cd2b8786bd98f</td>\n",
       "      <td>0.529559</td>\n",
       "    </tr>\n",
       "    <tr>\n",
       "      <th>28</th>\n",
       "      <td>0015a074e381a0dd709eb08a7064430f</td>\n",
       "      <td>0.522205</td>\n",
       "    </tr>\n",
       "    <tr>\n",
       "      <th>29</th>\n",
       "      <td>0015fee193e66850d5a5c9c9efa0b912</td>\n",
       "      <td>0.515775</td>\n",
       "    </tr>\n",
       "    <tr>\n",
       "      <th>...</th>\n",
       "      <td>...</td>\n",
       "      <td>...</td>\n",
       "    </tr>\n",
       "    <tr>\n",
       "      <th>98130</th>\n",
       "      <td>ffe915c95714d39377316103c9c3e7b9</td>\n",
       "      <td>0.459087</td>\n",
       "    </tr>\n",
       "    <tr>\n",
       "      <th>98131</th>\n",
       "      <td>ffe94c58d1e6350b4eea4f3b26a740cd</td>\n",
       "      <td>0.521436</td>\n",
       "    </tr>\n",
       "    <tr>\n",
       "      <th>98132</th>\n",
       "      <td>ffe9e699c58f5c490c098aa04c255254</td>\n",
       "      <td>0.299638</td>\n",
       "    </tr>\n",
       "    <tr>\n",
       "      <th>98133</th>\n",
       "      <td>ffea022114ba7e067c3fcd29dc3923e6</td>\n",
       "      <td>0.710863</td>\n",
       "    </tr>\n",
       "    <tr>\n",
       "      <th>98134</th>\n",
       "      <td>ffeabee07023afaa53074e039f5bffda</td>\n",
       "      <td>0.289916</td>\n",
       "    </tr>\n",
       "    <tr>\n",
       "      <th>98135</th>\n",
       "      <td>ffebc124d0687f566015c6634577bbce</td>\n",
       "      <td>0.447384</td>\n",
       "    </tr>\n",
       "    <tr>\n",
       "      <th>98136</th>\n",
       "      <td>ffec3eef0d3c4521e913f69a8f3c747f</td>\n",
       "      <td>0.687859</td>\n",
       "    </tr>\n",
       "    <tr>\n",
       "      <th>98137</th>\n",
       "      <td>ffecac2caaae31125c02f6b4133bea03</td>\n",
       "      <td>0.295370</td>\n",
       "    </tr>\n",
       "    <tr>\n",
       "      <th>98138</th>\n",
       "      <td>ffece4bf2ed40c05dcc24b6536fe5ea9</td>\n",
       "      <td>0.757092</td>\n",
       "    </tr>\n",
       "    <tr>\n",
       "      <th>98139</th>\n",
       "      <td>ffefef63169fc2cc6a4921f07a6d1e44</td>\n",
       "      <td>0.542715</td>\n",
       "    </tr>\n",
       "    <tr>\n",
       "      <th>98140</th>\n",
       "      <td>fff015d376180a2483dbf9e103dad70a</td>\n",
       "      <td>0.702619</td>\n",
       "    </tr>\n",
       "    <tr>\n",
       "      <th>98141</th>\n",
       "      <td>fff0356d51c2ad38df5cc1f8d8ca37d2</td>\n",
       "      <td>0.847777</td>\n",
       "    </tr>\n",
       "    <tr>\n",
       "      <th>98142</th>\n",
       "      <td>fff04f2380371444729bc45e2779d4b6</td>\n",
       "      <td>0.830932</td>\n",
       "    </tr>\n",
       "    <tr>\n",
       "      <th>98143</th>\n",
       "      <td>fff0ecccaf5c5c0ca69e62392a2f9841</td>\n",
       "      <td>0.271424</td>\n",
       "    </tr>\n",
       "    <tr>\n",
       "      <th>98144</th>\n",
       "      <td>fff173d34c4cfc5303be6b93ca6e29eb</td>\n",
       "      <td>0.558798</td>\n",
       "    </tr>\n",
       "    <tr>\n",
       "      <th>98145</th>\n",
       "      <td>fff2267228a826546499a72db3bbc2b2</td>\n",
       "      <td>0.469128</td>\n",
       "    </tr>\n",
       "    <tr>\n",
       "      <th>98146</th>\n",
       "      <td>fff2bb513ac168e99ce4fbffc8539217</td>\n",
       "      <td>0.589805</td>\n",
       "    </tr>\n",
       "    <tr>\n",
       "      <th>98147</th>\n",
       "      <td>fff4a62c4d8a1a4cb61a908dbd9ccf36</td>\n",
       "      <td>0.603451</td>\n",
       "    </tr>\n",
       "    <tr>\n",
       "      <th>98148</th>\n",
       "      <td>fff5077f9464918c47baa8e2caa1120b</td>\n",
       "      <td>0.511342</td>\n",
       "    </tr>\n",
       "    <tr>\n",
       "      <th>98149</th>\n",
       "      <td>fff534a982007d8d7873a05169d02d01</td>\n",
       "      <td>0.576988</td>\n",
       "    </tr>\n",
       "    <tr>\n",
       "      <th>98150</th>\n",
       "      <td>fff57fc738b2368cc8aaed393d2f8880</td>\n",
       "      <td>0.650996</td>\n",
       "    </tr>\n",
       "    <tr>\n",
       "      <th>98151</th>\n",
       "      <td>fff5c5792e623229b3833c29e20f2aa1</td>\n",
       "      <td>0.221232</td>\n",
       "    </tr>\n",
       "    <tr>\n",
       "      <th>98152</th>\n",
       "      <td>fff6928fb9074f35eeeee0b5cc403355</td>\n",
       "      <td>0.423433</td>\n",
       "    </tr>\n",
       "    <tr>\n",
       "      <th>98153</th>\n",
       "      <td>fff954d25e43ae5f266a9e81cf9ec450</td>\n",
       "      <td>0.538692</td>\n",
       "    </tr>\n",
       "    <tr>\n",
       "      <th>98154</th>\n",
       "      <td>fffb5cfa28d8c07dac64928e2e69a745</td>\n",
       "      <td>0.308283</td>\n",
       "    </tr>\n",
       "    <tr>\n",
       "      <th>98155</th>\n",
       "      <td>fffb736f7255b34bbfbdd20ce6dd80b9</td>\n",
       "      <td>0.337410</td>\n",
       "    </tr>\n",
       "    <tr>\n",
       "      <th>98156</th>\n",
       "      <td>fffc1bd8c6d52565bb6cb7202414c20b</td>\n",
       "      <td>0.588528</td>\n",
       "    </tr>\n",
       "    <tr>\n",
       "      <th>98157</th>\n",
       "      <td>fffc9f893d44d11d37a68cad6f2e3210</td>\n",
       "      <td>0.541128</td>\n",
       "    </tr>\n",
       "    <tr>\n",
       "      <th>98158</th>\n",
       "      <td>fffd6994c74d043c2996e61301173297</td>\n",
       "      <td>0.643649</td>\n",
       "    </tr>\n",
       "    <tr>\n",
       "      <th>98159</th>\n",
       "      <td>fffd84cc545e012bc2fc6c7a259c0fe4</td>\n",
       "      <td>0.454892</td>\n",
       "    </tr>\n",
       "  </tbody>\n",
       "</table>\n",
       "<p>98160 rows × 2 columns</p>\n",
       "</div>"
      ],
      "text/plain": [
       "                      MachineIdentifier  HasDetections\n",
       "0      00000176ac758d54827acd545b6315a5       0.542581\n",
       "1      0000f38dbba7564e7a7cb63522f88ddc       0.454481\n",
       "2      0000f686b28e695811a3e8893bb9cc35       0.257306\n",
       "3      000178eab2e90e6744b5e2fb974d6928       0.647370\n",
       "4      0001a55e53a65c5245eb1d2ce5423cf2       0.641917\n",
       "5      00026be58326a66205257d79c6700014       0.348386\n",
       "6      0003326614b5508e92be9a70a7e2c91f       0.549313\n",
       "7      0005406eede004b85face97389b796f2       0.887093\n",
       "8      00054e0f258af3f7fe46d5f852f07496       0.257785\n",
       "9      00059d8b6abd91ff6ba65ce7094f8f90       0.188307\n",
       "10     00065f55e28ff2560e0be2a048bfb7b4       0.536647\n",
       "11     000cebb9f5a8251a5085b9d3ee4aeb60       0.385280\n",
       "12     000d049e9b81464aca0a9cd261d9c53d       0.498743\n",
       "13     000d175992a01778e8663cd7470cc737       0.252742\n",
       "14     000e30fec46e95edfdce0b03eb525d60       0.499678\n",
       "15     000e74c50fdaf0eecb802c691c7feb0b       0.523649\n",
       "16     000e81a02c0e1fcb5bc4ac7d97637e61       0.471919\n",
       "17     000e91a478da8304eed367f23558196b       0.559336\n",
       "18     000f64edfdd6fa5db1334313a0124fc1       0.475573\n",
       "19     001034bbdfe765ce8bfa3189a63bccf3       0.428080\n",
       "20     0011999760dd9151c4d6471020315f6e       0.501747\n",
       "21     00123a11cca16b23602e62e839f0eaba       0.550116\n",
       "22     001332075b9480a3b10d7db1a8db83fa       0.330175\n",
       "23     00133ff5fa8d060a7117bcbb39c6eceb       0.460478\n",
       "24     0014263dc336058d490f273370eaa99e       0.465805\n",
       "25     001534da74a63169ce129c816361e08e       0.406040\n",
       "26     00155d5044b2405f38c4ddc1d2cf2846       0.508937\n",
       "27     00157140f3691d9d019cd2b8786bd98f       0.529559\n",
       "28     0015a074e381a0dd709eb08a7064430f       0.522205\n",
       "29     0015fee193e66850d5a5c9c9efa0b912       0.515775\n",
       "...                                 ...            ...\n",
       "98130  ffe915c95714d39377316103c9c3e7b9       0.459087\n",
       "98131  ffe94c58d1e6350b4eea4f3b26a740cd       0.521436\n",
       "98132  ffe9e699c58f5c490c098aa04c255254       0.299638\n",
       "98133  ffea022114ba7e067c3fcd29dc3923e6       0.710863\n",
       "98134  ffeabee07023afaa53074e039f5bffda       0.289916\n",
       "98135  ffebc124d0687f566015c6634577bbce       0.447384\n",
       "98136  ffec3eef0d3c4521e913f69a8f3c747f       0.687859\n",
       "98137  ffecac2caaae31125c02f6b4133bea03       0.295370\n",
       "98138  ffece4bf2ed40c05dcc24b6536fe5ea9       0.757092\n",
       "98139  ffefef63169fc2cc6a4921f07a6d1e44       0.542715\n",
       "98140  fff015d376180a2483dbf9e103dad70a       0.702619\n",
       "98141  fff0356d51c2ad38df5cc1f8d8ca37d2       0.847777\n",
       "98142  fff04f2380371444729bc45e2779d4b6       0.830932\n",
       "98143  fff0ecccaf5c5c0ca69e62392a2f9841       0.271424\n",
       "98144  fff173d34c4cfc5303be6b93ca6e29eb       0.558798\n",
       "98145  fff2267228a826546499a72db3bbc2b2       0.469128\n",
       "98146  fff2bb513ac168e99ce4fbffc8539217       0.589805\n",
       "98147  fff4a62c4d8a1a4cb61a908dbd9ccf36       0.603451\n",
       "98148  fff5077f9464918c47baa8e2caa1120b       0.511342\n",
       "98149  fff534a982007d8d7873a05169d02d01       0.576988\n",
       "98150  fff57fc738b2368cc8aaed393d2f8880       0.650996\n",
       "98151  fff5c5792e623229b3833c29e20f2aa1       0.221232\n",
       "98152  fff6928fb9074f35eeeee0b5cc403355       0.423433\n",
       "98153  fff954d25e43ae5f266a9e81cf9ec450       0.538692\n",
       "98154  fffb5cfa28d8c07dac64928e2e69a745       0.308283\n",
       "98155  fffb736f7255b34bbfbdd20ce6dd80b9       0.337410\n",
       "98156  fffc1bd8c6d52565bb6cb7202414c20b       0.588528\n",
       "98157  fffc9f893d44d11d37a68cad6f2e3210       0.541128\n",
       "98158  fffd6994c74d043c2996e61301173297       0.643649\n",
       "98159  fffd84cc545e012bc2fc6c7a259c0fe4       0.454892\n",
       "\n",
       "[98160 rows x 2 columns]"
      ]
     },
     "execution_count": 22,
     "metadata": {},
     "output_type": "execute_result"
    }
   ],
   "source": [
    "df_prds"
   ]
  },
  {
   "cell_type": "code",
   "execution_count": 23,
   "metadata": {},
   "outputs": [],
   "source": [
    "submission_list = [\n",
    "    '../../submissions/lgbc_model_4.csv',\n",
    "    '../../submissions/lgbc_model_5.csv',\n",
    "]"
   ]
  },
  {
   "cell_type": "code",
   "execution_count": 24,
   "metadata": {},
   "outputs": [],
   "source": [
    "list_ = list()\n",
    "main = pd.read_csv(submission_list[0])\n",
    "list_.append(main)\n",
    "for file_ in submission_list[1:]:\n",
    "    df = pd.read_csv(file_, usecols=['HasDetections'])\n",
    "    list_.append(df)\n",
    "\n",
    "solutions = pd.concat(list_, axis = 1, ignore_index = True)"
   ]
  },
  {
   "cell_type": "code",
   "execution_count": 25,
   "metadata": {},
   "outputs": [
    {
     "data": {
      "text/html": [
       "<div>\n",
       "<style scoped>\n",
       "    .dataframe tbody tr th:only-of-type {\n",
       "        vertical-align: middle;\n",
       "    }\n",
       "\n",
       "    .dataframe tbody tr th {\n",
       "        vertical-align: top;\n",
       "    }\n",
       "\n",
       "    .dataframe thead th {\n",
       "        text-align: right;\n",
       "    }\n",
       "</style>\n",
       "<table border=\"1\" class=\"dataframe\">\n",
       "  <thead>\n",
       "    <tr style=\"text-align: right;\">\n",
       "      <th></th>\n",
       "      <th>0</th>\n",
       "      <th>1</th>\n",
       "      <th>2</th>\n",
       "    </tr>\n",
       "  </thead>\n",
       "  <tbody>\n",
       "    <tr>\n",
       "      <th>0</th>\n",
       "      <td>000315c091096536595dc155377cba8c</td>\n",
       "      <td>0.443155</td>\n",
       "      <td>0.551315</td>\n",
       "    </tr>\n",
       "    <tr>\n",
       "      <th>1</th>\n",
       "      <td>00063a36bfd84e1627f433470e271670</td>\n",
       "      <td>0.504553</td>\n",
       "      <td>0.345577</td>\n",
       "    </tr>\n",
       "    <tr>\n",
       "      <th>2</th>\n",
       "      <td>0007b920d33d5a6e52fee723679f513f</td>\n",
       "      <td>0.041529</td>\n",
       "      <td>0.721393</td>\n",
       "    </tr>\n",
       "    <tr>\n",
       "      <th>3</th>\n",
       "      <td>0008db8084a6f1c0a3ec5dfbe8807f39</td>\n",
       "      <td>0.602566</td>\n",
       "      <td>0.374047</td>\n",
       "    </tr>\n",
       "    <tr>\n",
       "      <th>4</th>\n",
       "      <td>00093b7d4ca9ff6aba66cdb3abc20a56</td>\n",
       "      <td>0.542688</td>\n",
       "      <td>0.588298</td>\n",
       "    </tr>\n",
       "  </tbody>\n",
       "</table>\n",
       "</div>"
      ],
      "text/plain": [
       "                                  0         1         2\n",
       "0  000315c091096536595dc155377cba8c  0.443155  0.551315\n",
       "1  00063a36bfd84e1627f433470e271670  0.504553  0.345577\n",
       "2  0007b920d33d5a6e52fee723679f513f  0.041529  0.721393\n",
       "3  0008db8084a6f1c0a3ec5dfbe8807f39  0.602566  0.374047\n",
       "4  00093b7d4ca9ff6aba66cdb3abc20a56  0.542688  0.588298"
      ]
     },
     "execution_count": 25,
     "metadata": {},
     "output_type": "execute_result"
    }
   ],
   "source": [
    "solutions.head()"
   ]
  },
  {
   "cell_type": "code",
   "execution_count": 26,
   "metadata": {},
   "outputs": [],
   "source": [
    "df_sol = solutions.iloc[:,list(range(1, len(submission_list)+1))]"
   ]
  },
  {
   "cell_type": "code",
   "execution_count": 27,
   "metadata": {},
   "outputs": [
    {
     "data": {
      "text/html": [
       "<div>\n",
       "<style scoped>\n",
       "    .dataframe tbody tr th:only-of-type {\n",
       "        vertical-align: middle;\n",
       "    }\n",
       "\n",
       "    .dataframe tbody tr th {\n",
       "        vertical-align: top;\n",
       "    }\n",
       "\n",
       "    .dataframe thead th {\n",
       "        text-align: right;\n",
       "    }\n",
       "</style>\n",
       "<table border=\"1\" class=\"dataframe\">\n",
       "  <thead>\n",
       "    <tr style=\"text-align: right;\">\n",
       "      <th></th>\n",
       "      <th>1</th>\n",
       "      <th>2</th>\n",
       "    </tr>\n",
       "  </thead>\n",
       "  <tbody>\n",
       "    <tr>\n",
       "      <th>0</th>\n",
       "      <td>0.443155</td>\n",
       "      <td>0.551315</td>\n",
       "    </tr>\n",
       "    <tr>\n",
       "      <th>1</th>\n",
       "      <td>0.504553</td>\n",
       "      <td>0.345577</td>\n",
       "    </tr>\n",
       "    <tr>\n",
       "      <th>2</th>\n",
       "      <td>0.041529</td>\n",
       "      <td>0.721393</td>\n",
       "    </tr>\n",
       "    <tr>\n",
       "      <th>3</th>\n",
       "      <td>0.602566</td>\n",
       "      <td>0.374047</td>\n",
       "    </tr>\n",
       "    <tr>\n",
       "      <th>4</th>\n",
       "      <td>0.542688</td>\n",
       "      <td>0.588298</td>\n",
       "    </tr>\n",
       "  </tbody>\n",
       "</table>\n",
       "</div>"
      ],
      "text/plain": [
       "          1         2\n",
       "0  0.443155  0.551315\n",
       "1  0.504553  0.345577\n",
       "2  0.041529  0.721393\n",
       "3  0.602566  0.374047\n",
       "4  0.542688  0.588298"
      ]
     },
     "execution_count": 27,
     "metadata": {},
     "output_type": "execute_result"
    }
   ],
   "source": [
    "df_sol.head()"
   ]
  },
  {
   "cell_type": "code",
   "execution_count": 28,
   "metadata": {},
   "outputs": [],
   "source": [
    "df_sol['avg'] = solutions.mean(axis=1)"
   ]
  },
  {
   "cell_type": "code",
   "execution_count": 29,
   "metadata": {},
   "outputs": [
    {
     "data": {
      "text/html": [
       "<div>\n",
       "<style scoped>\n",
       "    .dataframe tbody tr th:only-of-type {\n",
       "        vertical-align: middle;\n",
       "    }\n",
       "\n",
       "    .dataframe tbody tr th {\n",
       "        vertical-align: top;\n",
       "    }\n",
       "\n",
       "    .dataframe thead th {\n",
       "        text-align: right;\n",
       "    }\n",
       "</style>\n",
       "<table border=\"1\" class=\"dataframe\">\n",
       "  <thead>\n",
       "    <tr style=\"text-align: right;\">\n",
       "      <th></th>\n",
       "      <th>1</th>\n",
       "      <th>2</th>\n",
       "      <th>avg</th>\n",
       "    </tr>\n",
       "  </thead>\n",
       "  <tbody>\n",
       "    <tr>\n",
       "      <th>0</th>\n",
       "      <td>0.443155</td>\n",
       "      <td>0.551315</td>\n",
       "      <td>0.497235</td>\n",
       "    </tr>\n",
       "    <tr>\n",
       "      <th>1</th>\n",
       "      <td>0.504553</td>\n",
       "      <td>0.345577</td>\n",
       "      <td>0.425065</td>\n",
       "    </tr>\n",
       "    <tr>\n",
       "      <th>2</th>\n",
       "      <td>0.041529</td>\n",
       "      <td>0.721393</td>\n",
       "      <td>0.381461</td>\n",
       "    </tr>\n",
       "    <tr>\n",
       "      <th>3</th>\n",
       "      <td>0.602566</td>\n",
       "      <td>0.374047</td>\n",
       "      <td>0.488307</td>\n",
       "    </tr>\n",
       "    <tr>\n",
       "      <th>4</th>\n",
       "      <td>0.542688</td>\n",
       "      <td>0.588298</td>\n",
       "      <td>0.565493</td>\n",
       "    </tr>\n",
       "  </tbody>\n",
       "</table>\n",
       "</div>"
      ],
      "text/plain": [
       "          1         2       avg\n",
       "0  0.443155  0.551315  0.497235\n",
       "1  0.504553  0.345577  0.425065\n",
       "2  0.041529  0.721393  0.381461\n",
       "3  0.602566  0.374047  0.488307\n",
       "4  0.542688  0.588298  0.565493"
      ]
     },
     "execution_count": 29,
     "metadata": {},
     "output_type": "execute_result"
    }
   ],
   "source": [
    "df_sol.head()"
   ]
  },
  {
   "cell_type": "code",
   "execution_count": 30,
   "metadata": {},
   "outputs": [],
   "source": [
    "final_df = pd.DataFrame({'MachineIdentifier': solutions[0], 'HasDetections': df_sol['avg']})"
   ]
  },
  {
   "cell_type": "code",
   "execution_count": 31,
   "metadata": {},
   "outputs": [
    {
     "data": {
      "text/html": [
       "<div>\n",
       "<style scoped>\n",
       "    .dataframe tbody tr th:only-of-type {\n",
       "        vertical-align: middle;\n",
       "    }\n",
       "\n",
       "    .dataframe tbody tr th {\n",
       "        vertical-align: top;\n",
       "    }\n",
       "\n",
       "    .dataframe thead th {\n",
       "        text-align: right;\n",
       "    }\n",
       "</style>\n",
       "<table border=\"1\" class=\"dataframe\">\n",
       "  <thead>\n",
       "    <tr style=\"text-align: right;\">\n",
       "      <th></th>\n",
       "      <th>MachineIdentifier</th>\n",
       "      <th>HasDetections</th>\n",
       "    </tr>\n",
       "  </thead>\n",
       "  <tbody>\n",
       "    <tr>\n",
       "      <th>0</th>\n",
       "      <td>000315c091096536595dc155377cba8c</td>\n",
       "      <td>0.497235</td>\n",
       "    </tr>\n",
       "    <tr>\n",
       "      <th>1</th>\n",
       "      <td>00063a36bfd84e1627f433470e271670</td>\n",
       "      <td>0.425065</td>\n",
       "    </tr>\n",
       "    <tr>\n",
       "      <th>2</th>\n",
       "      <td>0007b920d33d5a6e52fee723679f513f</td>\n",
       "      <td>0.381461</td>\n",
       "    </tr>\n",
       "    <tr>\n",
       "      <th>3</th>\n",
       "      <td>0008db8084a6f1c0a3ec5dfbe8807f39</td>\n",
       "      <td>0.488307</td>\n",
       "    </tr>\n",
       "    <tr>\n",
       "      <th>4</th>\n",
       "      <td>00093b7d4ca9ff6aba66cdb3abc20a56</td>\n",
       "      <td>0.565493</td>\n",
       "    </tr>\n",
       "  </tbody>\n",
       "</table>\n",
       "</div>"
      ],
      "text/plain": [
       "                  MachineIdentifier  HasDetections\n",
       "0  000315c091096536595dc155377cba8c       0.497235\n",
       "1  00063a36bfd84e1627f433470e271670       0.425065\n",
       "2  0007b920d33d5a6e52fee723679f513f       0.381461\n",
       "3  0008db8084a6f1c0a3ec5dfbe8807f39       0.488307\n",
       "4  00093b7d4ca9ff6aba66cdb3abc20a56       0.565493"
      ]
     },
     "execution_count": 31,
     "metadata": {},
     "output_type": "execute_result"
    }
   ],
   "source": [
    "final_df.head()"
   ]
  },
  {
   "cell_type": "code",
   "execution_count": 32,
   "metadata": {},
   "outputs": [],
   "source": [
    "final_df.to_csv('../../submissions/ensemble_2.csv', index=None)"
   ]
  },
  {
   "cell_type": "code",
   "execution_count": null,
   "metadata": {},
   "outputs": [],
   "source": []
  }
 ],
 "metadata": {
  "kernelspec": {
   "display_name": "Python 3",
   "language": "python",
   "name": "python3"
  },
  "language_info": {
   "codemirror_mode": {
    "name": "ipython",
    "version": 3
   },
   "file_extension": ".py",
   "mimetype": "text/x-python",
   "name": "python",
   "nbconvert_exporter": "python",
   "pygments_lexer": "ipython3",
   "version": "3.6.7"
  }
 },
 "nbformat": 4,
 "nbformat_minor": 2
}
