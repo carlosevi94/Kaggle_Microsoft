{
 "cells": [
  {
   "cell_type": "code",
   "execution_count": 1,
   "metadata": {},
   "outputs": [],
   "source": [
    "import pandas as pd\n",
    "import numpy as np"
   ]
  },
  {
   "cell_type": "code",
   "execution_count": 2,
   "metadata": {},
   "outputs": [],
   "source": [
    "submission_list = [\n",
    "    '../../submissions/lgb_model_4.csv',\n",
    "    '../../submissions/lgb_model_3.csv',\n",
    "    '../../submissions/lgb_model_1.csv',\n",
    "]"
   ]
  },
  {
   "cell_type": "code",
   "execution_count": 3,
   "metadata": {},
   "outputs": [],
   "source": [
    "list_ = list()\n",
    "main = pd.read_csv(submission_list[0])\n",
    "list_.append(main)\n",
    "for file_ in submission_list[1:]:\n",
    "    df = pd.read_csv(file_, usecols=['HasDetections'])\n",
    "    list_.append(df)\n",
    "\n",
    "solutions = pd.concat(list_, axis = 1, ignore_index = True)"
   ]
  },
  {
   "cell_type": "code",
   "execution_count": 16,
   "metadata": {},
   "outputs": [
    {
     "data": {
      "text/html": [
       "<div>\n",
       "<style scoped>\n",
       "    .dataframe tbody tr th:only-of-type {\n",
       "        vertical-align: middle;\n",
       "    }\n",
       "\n",
       "    .dataframe tbody tr th {\n",
       "        vertical-align: top;\n",
       "    }\n",
       "\n",
       "    .dataframe thead th {\n",
       "        text-align: right;\n",
       "    }\n",
       "</style>\n",
       "<table border=\"1\" class=\"dataframe\">\n",
       "  <thead>\n",
       "    <tr style=\"text-align: right;\">\n",
       "      <th></th>\n",
       "      <th>0</th>\n",
       "      <th>1</th>\n",
       "      <th>2</th>\n",
       "      <th>3</th>\n",
       "    </tr>\n",
       "  </thead>\n",
       "  <tbody>\n",
       "    <tr>\n",
       "      <th>0</th>\n",
       "      <td>00008887d503218e314102a1ca9d792f</td>\n",
       "      <td>0.379323</td>\n",
       "      <td>0.355201</td>\n",
       "      <td>0.325523</td>\n",
       "    </tr>\n",
       "    <tr>\n",
       "      <th>1</th>\n",
       "      <td>00039a87320b6e22296861444c8158b6</td>\n",
       "      <td>0.451103</td>\n",
       "      <td>0.541694</td>\n",
       "      <td>0.540733</td>\n",
       "    </tr>\n",
       "    <tr>\n",
       "      <th>2</th>\n",
       "      <td>0005056e6fadb518ed9c2c36e7b237be</td>\n",
       "      <td>0.191806</td>\n",
       "      <td>0.182518</td>\n",
       "      <td>0.182362</td>\n",
       "    </tr>\n",
       "    <tr>\n",
       "      <th>3</th>\n",
       "      <td>0005123e9e1da1dd475c4dd0eb9d3687</td>\n",
       "      <td>0.210410</td>\n",
       "      <td>0.239133</td>\n",
       "      <td>0.241362</td>\n",
       "    </tr>\n",
       "    <tr>\n",
       "      <th>4</th>\n",
       "      <td>00064b6de37e03021d18d156a6a72688</td>\n",
       "      <td>0.582751</td>\n",
       "      <td>0.626082</td>\n",
       "      <td>0.575158</td>\n",
       "    </tr>\n",
       "  </tbody>\n",
       "</table>\n",
       "</div>"
      ],
      "text/plain": [
       "                                  0         1         2         3\n",
       "0  00008887d503218e314102a1ca9d792f  0.379323  0.355201  0.325523\n",
       "1  00039a87320b6e22296861444c8158b6  0.451103  0.541694  0.540733\n",
       "2  0005056e6fadb518ed9c2c36e7b237be  0.191806  0.182518  0.182362\n",
       "3  0005123e9e1da1dd475c4dd0eb9d3687  0.210410  0.239133  0.241362\n",
       "4  00064b6de37e03021d18d156a6a72688  0.582751  0.626082  0.575158"
      ]
     },
     "execution_count": 16,
     "metadata": {},
     "output_type": "execute_result"
    }
   ],
   "source": [
    "solutions.head()"
   ]
  },
  {
   "cell_type": "code",
   "execution_count": 17,
   "metadata": {},
   "outputs": [],
   "source": [
    "df_sol = solutions.iloc[:,list(range(1, len(submission_list)+1))]"
   ]
  },
  {
   "cell_type": "code",
   "execution_count": 18,
   "metadata": {},
   "outputs": [
    {
     "data": {
      "text/html": [
       "<div>\n",
       "<style scoped>\n",
       "    .dataframe tbody tr th:only-of-type {\n",
       "        vertical-align: middle;\n",
       "    }\n",
       "\n",
       "    .dataframe tbody tr th {\n",
       "        vertical-align: top;\n",
       "    }\n",
       "\n",
       "    .dataframe thead th {\n",
       "        text-align: right;\n",
       "    }\n",
       "</style>\n",
       "<table border=\"1\" class=\"dataframe\">\n",
       "  <thead>\n",
       "    <tr style=\"text-align: right;\">\n",
       "      <th></th>\n",
       "      <th>1</th>\n",
       "      <th>2</th>\n",
       "      <th>3</th>\n",
       "    </tr>\n",
       "  </thead>\n",
       "  <tbody>\n",
       "    <tr>\n",
       "      <th>0</th>\n",
       "      <td>0.379323</td>\n",
       "      <td>0.355201</td>\n",
       "      <td>0.325523</td>\n",
       "    </tr>\n",
       "    <tr>\n",
       "      <th>1</th>\n",
       "      <td>0.451103</td>\n",
       "      <td>0.541694</td>\n",
       "      <td>0.540733</td>\n",
       "    </tr>\n",
       "    <tr>\n",
       "      <th>2</th>\n",
       "      <td>0.191806</td>\n",
       "      <td>0.182518</td>\n",
       "      <td>0.182362</td>\n",
       "    </tr>\n",
       "    <tr>\n",
       "      <th>3</th>\n",
       "      <td>0.210410</td>\n",
       "      <td>0.239133</td>\n",
       "      <td>0.241362</td>\n",
       "    </tr>\n",
       "    <tr>\n",
       "      <th>4</th>\n",
       "      <td>0.582751</td>\n",
       "      <td>0.626082</td>\n",
       "      <td>0.575158</td>\n",
       "    </tr>\n",
       "  </tbody>\n",
       "</table>\n",
       "</div>"
      ],
      "text/plain": [
       "          1         2         3\n",
       "0  0.379323  0.355201  0.325523\n",
       "1  0.451103  0.541694  0.540733\n",
       "2  0.191806  0.182518  0.182362\n",
       "3  0.210410  0.239133  0.241362\n",
       "4  0.582751  0.626082  0.575158"
      ]
     },
     "execution_count": 18,
     "metadata": {},
     "output_type": "execute_result"
    }
   ],
   "source": [
    "df_sol.head()"
   ]
  },
  {
   "cell_type": "code",
   "execution_count": 19,
   "metadata": {},
   "outputs": [],
   "source": [
    "df_sol['avg'] = solutions.mean(axis=1)"
   ]
  },
  {
   "cell_type": "code",
   "execution_count": 20,
   "metadata": {},
   "outputs": [
    {
     "data": {
      "text/html": [
       "<div>\n",
       "<style scoped>\n",
       "    .dataframe tbody tr th:only-of-type {\n",
       "        vertical-align: middle;\n",
       "    }\n",
       "\n",
       "    .dataframe tbody tr th {\n",
       "        vertical-align: top;\n",
       "    }\n",
       "\n",
       "    .dataframe thead th {\n",
       "        text-align: right;\n",
       "    }\n",
       "</style>\n",
       "<table border=\"1\" class=\"dataframe\">\n",
       "  <thead>\n",
       "    <tr style=\"text-align: right;\">\n",
       "      <th></th>\n",
       "      <th>1</th>\n",
       "      <th>2</th>\n",
       "      <th>3</th>\n",
       "      <th>avg</th>\n",
       "    </tr>\n",
       "  </thead>\n",
       "  <tbody>\n",
       "    <tr>\n",
       "      <th>0</th>\n",
       "      <td>0.379323</td>\n",
       "      <td>0.355201</td>\n",
       "      <td>0.325523</td>\n",
       "      <td>0.353349</td>\n",
       "    </tr>\n",
       "    <tr>\n",
       "      <th>1</th>\n",
       "      <td>0.451103</td>\n",
       "      <td>0.541694</td>\n",
       "      <td>0.540733</td>\n",
       "      <td>0.511177</td>\n",
       "    </tr>\n",
       "    <tr>\n",
       "      <th>2</th>\n",
       "      <td>0.191806</td>\n",
       "      <td>0.182518</td>\n",
       "      <td>0.182362</td>\n",
       "      <td>0.185562</td>\n",
       "    </tr>\n",
       "    <tr>\n",
       "      <th>3</th>\n",
       "      <td>0.210410</td>\n",
       "      <td>0.239133</td>\n",
       "      <td>0.241362</td>\n",
       "      <td>0.230302</td>\n",
       "    </tr>\n",
       "    <tr>\n",
       "      <th>4</th>\n",
       "      <td>0.582751</td>\n",
       "      <td>0.626082</td>\n",
       "      <td>0.575158</td>\n",
       "      <td>0.594664</td>\n",
       "    </tr>\n",
       "  </tbody>\n",
       "</table>\n",
       "</div>"
      ],
      "text/plain": [
       "          1         2         3       avg\n",
       "0  0.379323  0.355201  0.325523  0.353349\n",
       "1  0.451103  0.541694  0.540733  0.511177\n",
       "2  0.191806  0.182518  0.182362  0.185562\n",
       "3  0.210410  0.239133  0.241362  0.230302\n",
       "4  0.582751  0.626082  0.575158  0.594664"
      ]
     },
     "execution_count": 20,
     "metadata": {},
     "output_type": "execute_result"
    }
   ],
   "source": [
    "df_sol.head()"
   ]
  },
  {
   "cell_type": "code",
   "execution_count": 21,
   "metadata": {},
   "outputs": [],
   "source": [
    "final_df = pd.DataFrame({'MachineIdentifier': solutions[0], 'HasDetections': df_sol['avg']})"
   ]
  },
  {
   "cell_type": "code",
   "execution_count": 22,
   "metadata": {},
   "outputs": [
    {
     "data": {
      "text/html": [
       "<div>\n",
       "<style scoped>\n",
       "    .dataframe tbody tr th:only-of-type {\n",
       "        vertical-align: middle;\n",
       "    }\n",
       "\n",
       "    .dataframe tbody tr th {\n",
       "        vertical-align: top;\n",
       "    }\n",
       "\n",
       "    .dataframe thead th {\n",
       "        text-align: right;\n",
       "    }\n",
       "</style>\n",
       "<table border=\"1\" class=\"dataframe\">\n",
       "  <thead>\n",
       "    <tr style=\"text-align: right;\">\n",
       "      <th></th>\n",
       "      <th>MachineIdentifier</th>\n",
       "      <th>HasDetections</th>\n",
       "    </tr>\n",
       "  </thead>\n",
       "  <tbody>\n",
       "    <tr>\n",
       "      <th>0</th>\n",
       "      <td>00008887d503218e314102a1ca9d792f</td>\n",
       "      <td>0.353349</td>\n",
       "    </tr>\n",
       "    <tr>\n",
       "      <th>1</th>\n",
       "      <td>00039a87320b6e22296861444c8158b6</td>\n",
       "      <td>0.511177</td>\n",
       "    </tr>\n",
       "    <tr>\n",
       "      <th>2</th>\n",
       "      <td>0005056e6fadb518ed9c2c36e7b237be</td>\n",
       "      <td>0.185562</td>\n",
       "    </tr>\n",
       "    <tr>\n",
       "      <th>3</th>\n",
       "      <td>0005123e9e1da1dd475c4dd0eb9d3687</td>\n",
       "      <td>0.230302</td>\n",
       "    </tr>\n",
       "    <tr>\n",
       "      <th>4</th>\n",
       "      <td>00064b6de37e03021d18d156a6a72688</td>\n",
       "      <td>0.594664</td>\n",
       "    </tr>\n",
       "  </tbody>\n",
       "</table>\n",
       "</div>"
      ],
      "text/plain": [
       "                  MachineIdentifier  HasDetections\n",
       "0  00008887d503218e314102a1ca9d792f       0.353349\n",
       "1  00039a87320b6e22296861444c8158b6       0.511177\n",
       "2  0005056e6fadb518ed9c2c36e7b237be       0.185562\n",
       "3  0005123e9e1da1dd475c4dd0eb9d3687       0.230302\n",
       "4  00064b6de37e03021d18d156a6a72688       0.594664"
      ]
     },
     "execution_count": 22,
     "metadata": {},
     "output_type": "execute_result"
    }
   ],
   "source": [
    "final_df.head()"
   ]
  },
  {
   "cell_type": "code",
   "execution_count": 23,
   "metadata": {},
   "outputs": [],
   "source": [
    "final_df.to_csv('../../submissions/ensemble_1.csv', index=None)"
   ]
  },
  {
   "cell_type": "code",
   "execution_count": null,
   "metadata": {},
   "outputs": [],
   "source": []
  }
 ],
 "metadata": {
  "kernelspec": {
   "display_name": "Python 3",
   "language": "python",
   "name": "python3"
  },
  "language_info": {
   "codemirror_mode": {
    "name": "ipython",
    "version": 3
   },
   "file_extension": ".py",
   "mimetype": "text/x-python",
   "name": "python",
   "nbconvert_exporter": "python",
   "pygments_lexer": "ipython3",
   "version": "3.6.7"
  }
 },
 "nbformat": 4,
 "nbformat_minor": 2
}
