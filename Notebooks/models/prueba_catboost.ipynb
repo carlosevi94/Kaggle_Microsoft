{
 "cells": [
  {
   "cell_type": "code",
   "execution_count": 13,
   "metadata": {},
   "outputs": [],
   "source": [
    "import numpy as np\n",
    "import pandas as pd\n",
    "import os\n",
    "import gc\n",
    "from sklearn import metrics\n",
    "from sklearn.metrics import mean_squared_error\n",
    "from sklearn import feature_selection\n",
    "from catboost import CatBoostClassifier\n",
    "from sklearn.model_selection import train_test_split\n",
    "from sklearn import preprocessing\n",
    "import seaborn \n",
    "import matplotlib.pyplot as pl\n",
    "import glob\n",
    "from sklearn.model_selection import train_test_split\n",
    "from sklearn.model_selection import KFold\n",
    "from sklearn.model_selection import GridSearchCV\n",
    "from sklearn.model_selection import TimeSeriesSplit\n",
    "from sklearn.model_selection import StratifiedKFold\n",
    "\n",
    "%matplotlib inline"
   ]
  },
  {
   "cell_type": "code",
   "execution_count": 14,
   "metadata": {},
   "outputs": [],
   "source": [
    "path = '../../data/train.csv'"
   ]
  },
  {
   "cell_type": "code",
   "execution_count": 15,
   "metadata": {},
   "outputs": [],
   "source": [
    "# chunks = pd.read_csv(path, low_memory=True, chunksize=1000000, sep=',')\n",
    "\n",
    "# df=pd.DataFrame()\n",
    "# %time train=pd.concat(chunk for chunk in chunks[:2])"
   ]
  },
  {
   "cell_type": "code",
   "execution_count": 16,
   "metadata": {},
   "outputs": [
    {
     "name": "stderr",
     "output_type": "stream",
     "text": [
      "/usr/local/lib/python3.6/dist-packages/IPython/core/interactiveshell.py:3020: DtypeWarning: Columns (28) have mixed types. Specify dtype option on import or set low_memory=False.\n",
      "  interactivity=interactivity, compiler=compiler, result=result)\n"
     ]
    }
   ],
   "source": [
    "train = pd.read_csv(path, low_memory=True, nrows=500000)"
   ]
  },
  {
   "cell_type": "code",
   "execution_count": 17,
   "metadata": {},
   "outputs": [
    {
     "data": {
      "text/plain": [
       "(500000, 83)"
      ]
     },
     "execution_count": 17,
     "metadata": {},
     "output_type": "execute_result"
    }
   ],
   "source": [
    "train.shape"
   ]
  },
  {
   "cell_type": "code",
   "execution_count": 18,
   "metadata": {
    "scrolled": true
   },
   "outputs": [],
   "source": [
    "train = train.fillna(0)"
   ]
  },
  {
   "cell_type": "code",
   "execution_count": 19,
   "metadata": {},
   "outputs": [],
   "source": [
    "sel_cols = [c for c in train.columns if c not in ['MachineIdentifier',\n",
    "                                                      'HasDetections'\n",
    "                                                     ]]"
   ]
  },
  {
   "cell_type": "code",
   "execution_count": 20,
   "metadata": {
    "scrolled": true
   },
   "outputs": [
    {
     "data": {
      "text/plain": [
       "18"
      ]
     },
     "execution_count": 20,
     "metadata": {},
     "output_type": "execute_result"
    }
   ],
   "source": [
    "X_train = train.loc[:, sel_cols]\n",
    "y_train = train.loc[:,'HasDetections']\n",
    "del train\n",
    "gc.collect()"
   ]
  },
  {
   "cell_type": "code",
   "execution_count": 21,
   "metadata": {},
   "outputs": [],
   "source": [
    "cat_cols = list()\n",
    "n = 0\n",
    "for c, t in zip(sel_cols, X_train.dtypes):\n",
    "    if t == 'object':\n",
    "        cat_cols.append(n)\n",
    "    n+=1"
   ]
  },
  {
   "cell_type": "code",
   "execution_count": 22,
   "metadata": {},
   "outputs": [
    {
     "data": {
      "text/plain": [
       "5"
      ]
     },
     "execution_count": 22,
     "metadata": {},
     "output_type": "execute_result"
    }
   ],
   "source": [
    "train_ids = X_train.index\n",
    "skf = StratifiedKFold(n_splits=5, shuffle=True, random_state=42)\n",
    "skf.get_n_splits(train_ids, y_train)"
   ]
  },
  {
   "cell_type": "code",
   "execution_count": 29,
   "metadata": {},
   "outputs": [],
   "source": [
    "model_cb = CatBoostClassifier(\n",
    "    depth=9,\n",
    "    iterations=100,\n",
    "    eval_metric='AUC',\n",
    "    random_seed=42,\n",
    "    logging_level='Verbose',\n",
    "    allow_writing_files=False,\n",
    "    metric_period=5,\n",
    "    early_stopping_rounds=20,\n",
    "    learning_rate=0.1,\n",
    "    bagging_temperature=0.9\n",
    "    \n",
    ")\n",
    "\n",
    "# PARAMETROS:\n",
    "# iterations=None,\n",
    "#                          learning_rate=None,\n",
    "#                          depth=None,\n",
    "#                          l2_leaf_reg=None,\n",
    "#                          model_size_reg=None,\n",
    "#                          rsm=None,\n",
    "#                          loss_function='Logloss',\n",
    "#                          border_count=None,\n",
    "#                          feature_border_type=None,\n",
    "#                          old_permutation_block_size=None,\n",
    "#                          od_pval=None,\n",
    "#                          od_wait=None,\n",
    "#                          od_type=None,\n",
    "#                          nan_mode=None,\n",
    "#                          counter_calc_method=None,\n",
    "#                          leaf_estimation_iterations=None,\n",
    "#                          leaf_estimation_method=None,\n",
    "#                          thread_count=None,\n",
    "#                          random_seed=None,\n",
    "#                          use_best_model=None,\n",
    "#                          verbose=None,\n",
    "#                          logging_level=None,\n",
    "#                          metric_period=None,\n",
    "#                          ctr_leaf_count_limit=None,\n",
    "#                          store_all_simple_ctr=None,\n",
    "#                          max_ctr_complexity=None,\n",
    "#                          has_time=None,\n",
    "#                          allow_const_label=None,\n",
    "#                          classes_count=None,\n",
    "#                          class_weights=None,\n",
    "#                          one_hot_max_size=None,\n",
    "#                          random_strength=None,\n",
    "#                          name=None,\n",
    "#                          ignored_features=None,\n",
    "#                          train_dir=None,\n",
    "#                          custom_loss=None,\n",
    "#                          custom_metric=None,\n",
    "#                          eval_metric=None,\n",
    "#                          bagging_temperature=None,\n",
    "#                          save_snapshot=None,\n",
    "#                          snapshot_file=None,\n",
    "#                          snapshot_interval=None,\n",
    "#                          fold_len_multiplier=None,\n",
    "#                          used_ram_limit=None,\n",
    "#                          gpu_ram_part=None,\n",
    "#                          allow_writing_files=None,\n",
    "#                          final_ctr_computation_mode=None,\n",
    "#                          approx_on_full_history=None,\n",
    "#                          boosting_type=None,\n",
    "#                          simple_ctr=None,\n",
    "#                          combinations_ctr=None,\n",
    "#                          per_feature_ctr=None,\n",
    "#                          task_type=None,\n",
    "#                          device_config=None,\n",
    "#                          devices=None,\n",
    "#                          bootstrap_type=None,\n",
    "#                          subsample=None,\n",
    "#                          max_depth=None,\n",
    "#                          n_estimators=None,\n",
    "#                          num_boost_round=None,\n",
    "#                          num_trees=None,\n",
    "#                          colsample_bylevel=None,\n",
    "#                          random_state=None,\n",
    "#                          reg_lambda=None,\n",
    "#                          objective=None,\n",
    "#                          eta=None,\n",
    "#                          max_bin=None,\n",
    "#                          scale_pos_weight=None,\n",
    "#                          gpu_cat_features_storage=None,\n",
    "#                          data_partition=None\n",
    "#                          metadata=None, \n",
    "#                          early_stopping_rounds=None,\n",
    "#                          cat_features=None)"
   ]
  },
  {
   "cell_type": "code",
   "execution_count": 30,
   "metadata": {
    "scrolled": false
   },
   "outputs": [
    {
     "name": "stdout",
     "output_type": "stream",
     "text": [
      "Fold 1\n",
      "\n"
     ]
    },
    {
     "name": "stderr",
     "output_type": "stream",
     "text": [
      "Warning: Overfitting detector is active, thus evaluation metric is calculated on every iteration. 'metric_period' is ignored for evaluation metric.\n"
     ]
    },
    {
     "name": "stdout",
     "output_type": "stream",
     "text": [
      "0:\ttest: 0.6711455\tbest: 0.6711455 (0)\ttotal: 1.14s\tremaining: 1m 53s\n",
      "5:\ttest: 0.6847151\tbest: 0.6847151 (5)\ttotal: 6.54s\tremaining: 1m 42s\n",
      "10:\ttest: 0.6881688\tbest: 0.6881688 (10)\ttotal: 12.2s\tremaining: 1m 38s\n",
      "15:\ttest: 0.6910411\tbest: 0.6910411 (15)\ttotal: 18s\tremaining: 1m 34s\n",
      "20:\ttest: 0.6935162\tbest: 0.6935162 (20)\ttotal: 23.7s\tremaining: 1m 29s\n",
      "25:\ttest: 0.6956813\tbest: 0.6956813 (25)\ttotal: 29.2s\tremaining: 1m 23s\n",
      "30:\ttest: 0.6973621\tbest: 0.6973621 (30)\ttotal: 35s\tremaining: 1m 17s\n",
      "35:\ttest: 0.6982753\tbest: 0.6982753 (35)\ttotal: 40.9s\tremaining: 1m 12s\n",
      "40:\ttest: 0.6997018\tbest: 0.6997018 (40)\ttotal: 46.7s\tremaining: 1m 7s\n",
      "45:\ttest: 0.7007818\tbest: 0.7007818 (45)\ttotal: 52.7s\tremaining: 1m 1s\n",
      "50:\ttest: 0.7016437\tbest: 0.7016437 (50)\ttotal: 58.4s\tremaining: 56.1s\n",
      "55:\ttest: 0.7024359\tbest: 0.7024359 (55)\ttotal: 1m 4s\tremaining: 50.4s\n",
      "60:\ttest: 0.7035671\tbest: 0.7035671 (60)\ttotal: 1m 10s\tremaining: 44.9s\n",
      "65:\ttest: 0.7043224\tbest: 0.7043224 (65)\ttotal: 1m 16s\tremaining: 39.2s\n",
      "70:\ttest: 0.7049532\tbest: 0.7049532 (70)\ttotal: 1m 22s\tremaining: 33.5s\n",
      "75:\ttest: 0.7053961\tbest: 0.7053961 (75)\ttotal: 1m 27s\tremaining: 27.7s\n",
      "80:\ttest: 0.7059839\tbest: 0.7059839 (80)\ttotal: 1m 33s\tremaining: 21.9s\n",
      "85:\ttest: 0.7063833\tbest: 0.7063853 (84)\ttotal: 1m 39s\tremaining: 16.2s\n",
      "90:\ttest: 0.7069314\tbest: 0.7069314 (90)\ttotal: 1m 45s\tremaining: 10.4s\n",
      "95:\ttest: 0.7073403\tbest: 0.7073403 (95)\ttotal: 1m 50s\tremaining: 4.62s\n",
      "99:\ttest: 0.7076895\tbest: 0.7076895 (99)\ttotal: 1m 55s\tremaining: 0us\n",
      "\n",
      "bestTest = 0.7076894974\n",
      "bestIteration = 99\n",
      "\n",
      "Fold 2\n",
      "\n"
     ]
    },
    {
     "name": "stderr",
     "output_type": "stream",
     "text": [
      "Warning: Overfitting detector is active, thus evaluation metric is calculated on every iteration. 'metric_period' is ignored for evaluation metric.\n"
     ]
    },
    {
     "name": "stdout",
     "output_type": "stream",
     "text": [
      "0:\ttest: 0.6660307\tbest: 0.6660307 (0)\ttotal: 1.25s\tremaining: 2m 3s\n",
      "5:\ttest: 0.6824893\tbest: 0.6824893 (5)\ttotal: 7.12s\tremaining: 1m 51s\n",
      "10:\ttest: 0.6883729\tbest: 0.6883729 (10)\ttotal: 13.1s\tremaining: 1m 45s\n",
      "15:\ttest: 0.6911804\tbest: 0.6911804 (15)\ttotal: 19.1s\tremaining: 1m 40s\n",
      "20:\ttest: 0.6933084\tbest: 0.6933084 (20)\ttotal: 25.1s\tremaining: 1m 34s\n"
     ]
    },
    {
     "ename": "KeyboardInterrupt",
     "evalue": "",
     "output_type": "error",
     "traceback": [
      "\u001b[0;31m---------------------------------------------------------------------------\u001b[0m",
      "\u001b[0;31mKeyboardInterrupt\u001b[0m                         Traceback (most recent call last)",
      "\u001b[0;32m<ipython-input-30-908c8692972e>\u001b[0m in \u001b[0;36m<module>\u001b[0;34m\u001b[0m\n\u001b[1;32m     10\u001b[0m                  \u001b[0my_fit\u001b[0m\u001b[0;34m,\u001b[0m\u001b[0;34m\u001b[0m\u001b[0;34m\u001b[0m\u001b[0m\n\u001b[1;32m     11\u001b[0m                  \u001b[0mcat_features\u001b[0m\u001b[0;34m=\u001b[0m\u001b[0mcat_cols\u001b[0m\u001b[0;34m,\u001b[0m\u001b[0;34m\u001b[0m\u001b[0;34m\u001b[0m\u001b[0m\n\u001b[0;32m---> 12\u001b[0;31m                  \u001b[0meval_set\u001b[0m\u001b[0;34m=\u001b[0m\u001b[0;34m(\u001b[0m\u001b[0mX_val\u001b[0m\u001b[0;34m,\u001b[0m \u001b[0my_val\u001b[0m\u001b[0;34m)\u001b[0m\u001b[0;34m,\u001b[0m\u001b[0;34m\u001b[0m\u001b[0;34m\u001b[0m\u001b[0m\n\u001b[0m\u001b[1;32m     13\u001b[0m \u001b[0;31m#                  plot=True\u001b[0m\u001b[0;34m\u001b[0m\u001b[0;34m\u001b[0m\u001b[0;34m\u001b[0m\u001b[0m\n\u001b[1;32m     14\u001b[0m                 )\n",
      "\u001b[0;32m~/.local/lib/python3.6/site-packages/catboost/core.py\u001b[0m in \u001b[0;36mfit\u001b[0;34m(self, X, y, cat_features, sample_weight, baseline, use_best_model, eval_set, verbose, logging_level, plot, column_description, verbose_eval, metric_period, silent, early_stopping_rounds, save_snapshot, snapshot_file, snapshot_interval)\u001b[0m\n\u001b[1;32m   2181\u001b[0m         self._fit(X, y, cat_features, None, sample_weight, None, None, None, None, baseline, use_best_model,\n\u001b[1;32m   2182\u001b[0m                   \u001b[0meval_set\u001b[0m\u001b[0;34m,\u001b[0m \u001b[0mverbose\u001b[0m\u001b[0;34m,\u001b[0m \u001b[0mlogging_level\u001b[0m\u001b[0;34m,\u001b[0m \u001b[0mplot\u001b[0m\u001b[0;34m,\u001b[0m \u001b[0mcolumn_description\u001b[0m\u001b[0;34m,\u001b[0m \u001b[0mverbose_eval\u001b[0m\u001b[0;34m,\u001b[0m \u001b[0mmetric_period\u001b[0m\u001b[0;34m,\u001b[0m\u001b[0;34m\u001b[0m\u001b[0;34m\u001b[0m\u001b[0m\n\u001b[0;32m-> 2183\u001b[0;31m                   silent, early_stopping_rounds, save_snapshot, snapshot_file, snapshot_interval)\n\u001b[0m\u001b[1;32m   2184\u001b[0m         \u001b[0;32mreturn\u001b[0m \u001b[0mself\u001b[0m\u001b[0;34m\u001b[0m\u001b[0;34m\u001b[0m\u001b[0m\n\u001b[1;32m   2185\u001b[0m \u001b[0;34m\u001b[0m\u001b[0m\n",
      "\u001b[0;32m~/.local/lib/python3.6/site-packages/catboost/core.py\u001b[0m in \u001b[0;36m_fit\u001b[0;34m(self, X, y, cat_features, pairs, sample_weight, group_id, group_weight, subgroup_id, pairs_weight, baseline, use_best_model, eval_set, verbose, logging_level, plot, column_description, verbose_eval, metric_period, silent, early_stopping_rounds, save_snapshot, snapshot_file, snapshot_interval)\u001b[0m\n\u001b[1;32m   1124\u001b[0m \u001b[0;34m\u001b[0m\u001b[0m\n\u001b[1;32m   1125\u001b[0m         \u001b[0;32mwith\u001b[0m \u001b[0mlog_fixup\u001b[0m\u001b[0;34m(\u001b[0m\u001b[0;34m)\u001b[0m\u001b[0;34m,\u001b[0m \u001b[0mplot_wrapper\u001b[0m\u001b[0;34m(\u001b[0m\u001b[0mplot\u001b[0m\u001b[0;34m,\u001b[0m \u001b[0mself\u001b[0m\u001b[0;34m.\u001b[0m\u001b[0mget_params\u001b[0m\u001b[0;34m(\u001b[0m\u001b[0;34m)\u001b[0m\u001b[0;34m)\u001b[0m\u001b[0;34m:\u001b[0m\u001b[0;34m\u001b[0m\u001b[0;34m\u001b[0m\u001b[0m\n\u001b[0;32m-> 1126\u001b[0;31m             \u001b[0mself\u001b[0m\u001b[0;34m.\u001b[0m\u001b[0m_train\u001b[0m\u001b[0;34m(\u001b[0m\u001b[0mtrain_pool\u001b[0m\u001b[0;34m,\u001b[0m \u001b[0meval_sets\u001b[0m\u001b[0;34m,\u001b[0m \u001b[0mparams\u001b[0m\u001b[0;34m,\u001b[0m \u001b[0mallow_clear_pool\u001b[0m\u001b[0;34m)\u001b[0m\u001b[0;34m\u001b[0m\u001b[0;34m\u001b[0m\u001b[0m\n\u001b[0m\u001b[1;32m   1127\u001b[0m \u001b[0;34m\u001b[0m\u001b[0m\n\u001b[1;32m   1128\u001b[0m         \u001b[0;32mif\u001b[0m \u001b[0;34m(\u001b[0m\u001b[0;32mnot\u001b[0m \u001b[0mself\u001b[0m\u001b[0;34m.\u001b[0m\u001b[0m_object\u001b[0m\u001b[0;34m.\u001b[0m\u001b[0m_has_leaf_weights_in_model\u001b[0m\u001b[0;34m(\u001b[0m\u001b[0;34m)\u001b[0m\u001b[0;34m)\u001b[0m \u001b[0;32mand\u001b[0m \u001b[0mallow_clear_pool\u001b[0m\u001b[0;34m:\u001b[0m\u001b[0;34m\u001b[0m\u001b[0;34m\u001b[0m\u001b[0m\n",
      "\u001b[0;32m~/.local/lib/python3.6/site-packages/catboost/core.py\u001b[0m in \u001b[0;36m_train\u001b[0;34m(self, train_pool, test_pool, params, allow_clear_pool)\u001b[0m\n\u001b[1;32m    826\u001b[0m \u001b[0;34m\u001b[0m\u001b[0m\n\u001b[1;32m    827\u001b[0m     \u001b[0;32mdef\u001b[0m \u001b[0m_train\u001b[0m\u001b[0;34m(\u001b[0m\u001b[0mself\u001b[0m\u001b[0;34m,\u001b[0m \u001b[0mtrain_pool\u001b[0m\u001b[0;34m,\u001b[0m \u001b[0mtest_pool\u001b[0m\u001b[0;34m,\u001b[0m \u001b[0mparams\u001b[0m\u001b[0;34m,\u001b[0m \u001b[0mallow_clear_pool\u001b[0m\u001b[0;34m)\u001b[0m\u001b[0;34m:\u001b[0m\u001b[0;34m\u001b[0m\u001b[0;34m\u001b[0m\u001b[0m\n\u001b[0;32m--> 828\u001b[0;31m         \u001b[0mself\u001b[0m\u001b[0;34m.\u001b[0m\u001b[0m_object\u001b[0m\u001b[0;34m.\u001b[0m\u001b[0m_train\u001b[0m\u001b[0;34m(\u001b[0m\u001b[0mtrain_pool\u001b[0m\u001b[0;34m,\u001b[0m \u001b[0mtest_pool\u001b[0m\u001b[0;34m,\u001b[0m \u001b[0mparams\u001b[0m\u001b[0;34m,\u001b[0m \u001b[0mallow_clear_pool\u001b[0m\u001b[0;34m)\u001b[0m\u001b[0;34m\u001b[0m\u001b[0;34m\u001b[0m\u001b[0m\n\u001b[0m\u001b[1;32m    829\u001b[0m         \u001b[0mself\u001b[0m\u001b[0;34m.\u001b[0m\u001b[0m_set_trained_model_attributes\u001b[0m\u001b[0;34m(\u001b[0m\u001b[0;34m)\u001b[0m\u001b[0;34m\u001b[0m\u001b[0;34m\u001b[0m\u001b[0m\n\u001b[1;32m    830\u001b[0m \u001b[0;34m\u001b[0m\u001b[0m\n",
      "\u001b[0;32m_catboost.pyx\u001b[0m in \u001b[0;36m_catboost._CatBoost._train\u001b[0;34m()\u001b[0m\n",
      "\u001b[0;32m_catboost.pyx\u001b[0m in \u001b[0;36m_catboost._CatBoost._train\u001b[0;34m()\u001b[0m\n",
      "\u001b[0;31mKeyboardInterrupt\u001b[0m: "
     ]
    }
   ],
   "source": [
    "counter = 0\n",
    "for train_index, test_index in skf.split(train_ids, y_train):\n",
    "    \n",
    "    print('Fold {}\\n'.format(counter + 1))\n",
    "    \n",
    "    X_fit, X_val = X_train.iloc[train_index, :], X_train.iloc[test_index, :]\n",
    "    y_fit, y_val = y_train.iloc[train_index], y_train.iloc[test_index]\n",
    "    \n",
    "    model_cb.fit(X_fit,\n",
    "                 y_fit,\n",
    "                 cat_features=cat_cols,\n",
    "                 eval_set=(X_val, y_val),\n",
    "#                  plot=True\n",
    "                )\n",
    "                  \n",
    "    del X_fit, X_val, y_fit, y_val, train_index, test_index\n",
    "    gc.collect()\n",
    "    \n",
    "    counter += 1"
   ]
  },
  {
   "cell_type": "code",
   "execution_count": null,
   "metadata": {},
   "outputs": [],
   "source": []
  }
 ],
 "metadata": {
  "kernelspec": {
   "display_name": "Python 3",
   "language": "python",
   "name": "python3"
  },
  "language_info": {
   "codemirror_mode": {
    "name": "ipython",
    "version": 3
   },
   "file_extension": ".py",
   "mimetype": "text/x-python",
   "name": "python",
   "nbconvert_exporter": "python",
   "pygments_lexer": "ipython3",
   "version": "3.6.7"
  }
 },
 "nbformat": 4,
 "nbformat_minor": 2
}
