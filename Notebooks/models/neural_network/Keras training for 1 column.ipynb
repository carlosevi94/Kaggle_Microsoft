{
 "cells": [
  {
   "cell_type": "code",
   "execution_count": 2,
   "metadata": {},
   "outputs": [],
   "source": [
    "import pandas as pd"
   ]
  },
  {
   "cell_type": "code",
   "execution_count": 12,
   "metadata": {},
   "outputs": [],
   "source": [
    "import keras\n",
    "from keras.models import Sequential,Model\n",
    "from keras.layers import Dense,Dropout,Embedding,Input,Concatenate,Reshape"
   ]
  },
  {
   "cell_type": "code",
   "execution_count": null,
   "metadata": {},
   "outputs": [],
   "source": []
  },
  {
   "cell_type": "code",
   "execution_count": 5,
   "metadata": {},
   "outputs": [
    {
     "name": "stderr",
     "output_type": "stream",
     "text": [
      "/Users/csevilla/Workspaces/Kaggle/kaggle_env/lib/python3.7/site-packages/IPython/core/interactiveshell.py:3020: DtypeWarning: Columns (28) have mixed types. Specify dtype option on import or set low_memory=False.\n",
      "  interactivity=interactivity, compiler=compiler, result=result)\n"
     ]
    }
   ],
   "source": [
    "train = pd.read_csv(\"../../../data/train.csv\")"
   ]
  },
  {
   "cell_type": "code",
   "execution_count": 6,
   "metadata": {},
   "outputs": [],
   "source": [
    "test = pd.read_csv(\"../../../data/test.csv\")"
   ]
  },
  {
   "cell_type": "code",
   "execution_count": null,
   "metadata": {},
   "outputs": [],
   "source": []
  },
  {
   "cell_type": "code",
   "execution_count": 7,
   "metadata": {},
   "outputs": [],
   "source": [
    "df_train = train\n",
    "df_test = test"
   ]
  },
  {
   "cell_type": "code",
   "execution_count": null,
   "metadata": {},
   "outputs": [],
   "source": []
  },
  {
   "cell_type": "code",
   "execution_count": 4,
   "metadata": {},
   "outputs": [],
   "source": [
    "def factor_data(df_train, df_test, col):\n",
    "    df_comb = pd.concat([df_train[col],df_test[col]],axis=0)\n",
    "    df_comb,_ = df_comb.factorize(sort=True)\n",
    "    df_comb += 1 #now NaN is 0\n",
    "    df_train[col] = df_comb[:len(df_train)]\n",
    "    df_test[col] = df_comb[len(df_train):]\n",
    "    mx = max(df_train[col].max(),df_test[col].max())+1\n",
    "    return mx  \n",
    "\n"
   ]
  },
  {
   "cell_type": "code",
   "execution_count": 8,
   "metadata": {},
   "outputs": [],
   "source": [
    "# FACTORIZE\n",
    "count  = factor_data(df_train, df_test, 'CountryIdentifier')\n"
   ]
  },
  {
   "cell_type": "code",
   "execution_count": 40,
   "metadata": {},
   "outputs": [
    {
     "data": {
      "text/plain": [
       "223"
      ]
     },
     "execution_count": 40,
     "metadata": {},
     "output_type": "execute_result"
    }
   ],
   "source": [
    "count"
   ]
  },
  {
   "cell_type": "code",
   "execution_count": 43,
   "metadata": {},
   "outputs": [],
   "source": [
    "ins=[]"
   ]
  },
  {
   "cell_type": "code",
   "execution_count": 44,
   "metadata": {},
   "outputs": [],
   "source": [
    "x = Input(shape=(1,))\n",
    "ins.append(x)\n",
    "# EMBED\n",
    "x = Embedding(count,  count, input_length=1)(x)\n",
    "x = Reshape(target_shape=(count,))(x)\n",
    "#x = Concatenate()(x)\n",
    "x = Dense(32,activation='relu')(x)\n",
    "output = Dense(1,activation='sigmoid')(x)"
   ]
  },
  {
   "cell_type": "code",
   "execution_count": 45,
   "metadata": {},
   "outputs": [],
   "source": [
    "model = Model(inputs=ins, outputs=output)\n",
    "model.compile(loss='binary_crossentropy', optimizer='adam',metrics = ['acc'])"
   ]
  },
  {
   "cell_type": "code",
   "execution_count": 46,
   "metadata": {},
   "outputs": [
    {
     "name": "stdout",
     "output_type": "stream",
     "text": [
      "_________________________________________________________________\n",
      "Layer (type)                 Output Shape              Param #   \n",
      "=================================================================\n",
      "input_15 (InputLayer)        (None, 1)                 0         \n",
      "_________________________________________________________________\n",
      "embedding_14 (Embedding)     (None, 1, 223)            49729     \n",
      "_________________________________________________________________\n",
      "reshape_6 (Reshape)          (None, 223)               0         \n",
      "_________________________________________________________________\n",
      "dense_12 (Dense)             (None, 32)                7168      \n",
      "_________________________________________________________________\n",
      "dense_13 (Dense)             (None, 1)                 33        \n",
      "=================================================================\n",
      "Total params: 56,930\n",
      "Trainable params: 56,930\n",
      "Non-trainable params: 0\n",
      "_________________________________________________________________\n"
     ]
    }
   ],
   "source": [
    "model.summary()"
   ]
  },
  {
   "cell_type": "code",
   "execution_count": 48,
   "metadata": {},
   "outputs": [
    {
     "name": "stdout",
     "output_type": "stream",
     "text": [
      "WARNING:tensorflow:From /Users/csevilla/Workspaces/Kaggle/kaggle_env/lib/python3.7/site-packages/tensorflow/python/ops/math_ops.py:3066: to_int32 (from tensorflow.python.ops.math_ops) is deprecated and will be removed in a future version.\n",
      "Instructions for updating:\n",
      "Use tf.cast instead.\n",
      "Epoch 1/10\n",
      "8921483/8921483 [==============================] - 285s 32us/step - loss: 0.6900 - acc: 0.5280\n",
      "Epoch 2/10\n",
      "8921483/8921483 [==============================] - 265s 30us/step - loss: 0.6899 - acc: 0.5293\n",
      "Epoch 3/10\n",
      "8921483/8921483 [==============================] - 264s 30us/step - loss: 0.6898 - acc: 0.5296\n",
      "Epoch 4/10\n",
      "8921483/8921483 [==============================] - 260s 29us/step - loss: 0.6898 - acc: 0.5296\n",
      "Epoch 5/10\n",
      "8921483/8921483 [==============================] - 254s 28us/step - loss: 0.6898 - acc: 0.5297\n",
      "Epoch 6/10\n",
      "8921483/8921483 [==============================] - 263s 30us/step - loss: 0.6898 - acc: 0.5298\n",
      "Epoch 7/10\n",
      "8921483/8921483 [==============================] - 265s 30us/step - loss: 0.6898 - acc: 0.5298\n",
      "Epoch 8/10\n",
      "8921483/8921483 [==============================] - 276s 31us/step - loss: 0.6898 - acc: 0.5297\n",
      "Epoch 9/10\n",
      "8921483/8921483 [==============================] - 313s 35us/step - loss: 0.6898 - acc: 0.5297\n",
      "Epoch 10/10\n",
      "8921483/8921483 [==============================] - 277s 31us/step - loss: 0.6898 - acc: 0.5297\n"
     ]
    },
    {
     "data": {
      "text/plain": [
       "<keras.callbacks.History at 0x138a16710>"
      ]
     },
     "execution_count": 48,
     "metadata": {},
     "output_type": "execute_result"
    }
   ],
   "source": [
    "# TRAIN\n",
    "model.fit( df_train['CountryIdentifier'],df_train['HasDetections'],epochs=10)"
   ]
  },
  {
   "cell_type": "code",
   "execution_count": null,
   "metadata": {},
   "outputs": [],
   "source": []
  }
 ],
 "metadata": {
  "kernelspec": {
   "display_name": "Python 3",
   "language": "python",
   "name": "python3"
  },
  "language_info": {
   "codemirror_mode": {
    "name": "ipython",
    "version": 3
   },
   "file_extension": ".py",
   "mimetype": "text/x-python",
   "name": "python",
   "nbconvert_exporter": "python",
   "pygments_lexer": "ipython3",
   "version": "3.7.0"
  }
 },
 "nbformat": 4,
 "nbformat_minor": 2
}
