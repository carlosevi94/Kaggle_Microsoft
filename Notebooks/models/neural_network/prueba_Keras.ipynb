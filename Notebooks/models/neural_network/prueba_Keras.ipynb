{
 "cells": [
  {
   "cell_type": "code",
   "execution_count": 2,
   "metadata": {},
   "outputs": [
    {
     "name": "stderr",
     "output_type": "stream",
     "text": [
      "Using TensorFlow backend.\n"
     ]
    }
   ],
   "source": [
    "import keras"
   ]
  },
  {
   "cell_type": "code",
   "execution_count": 3,
   "metadata": {},
   "outputs": [],
   "source": [
    "import pandas as pd\n",
    "import numpy as np\n",
    "import glob"
   ]
  },
  {
   "cell_type": "code",
   "execution_count": 4,
   "metadata": {},
   "outputs": [],
   "source": [
    "schema_train_3 = {\n",
    "    'IsBeta': np.int8,\n",
    "    'RtpStateBitfield': np.int8,\n",
    "    'IsSxsPassiveMode': np.int8,\n",
    "    'DefaultBrowsersIdentifier': np.int16,\n",
    "    'AVProductStatesIdentifier': np.int32,\n",
    "    'AVProductsInstalled': np.int8,\n",
    "    'AVProductsEnabled': np.int8,\n",
    "    'HasTpm': np.int8,\n",
    "    'CountryIdentifier': np.int16,\n",
    "    'CityIdentifier': np.int32,\n",
    "    'OrganizationIdentifier': np.int8,\n",
    "    'GeoNameIdentifier': np.int16,\n",
    "    'LocaleEnglishNameIdentifier': np.int16,\n",
    "    'OsBuild': np.int16,\n",
    "    'OsSuite': np.int16,\n",
    "    'IsProtected': np.int8,\n",
    "    'AutoSampleOptIn': np.int8,\n",
    "    'SMode': np.int8,\n",
    "    'IeVerIdentifier': np.int16,\n",
    "    'Firewall': np.int8,\n",
    "    'UacLuaenable': np.int32,\n",
    "    'Census_OEMNameIdentifier': np.int16,\n",
    "    'Census_OEMModelIdentifier': np.int32,\n",
    "    'Census_ProcessorCoreCount': np.int16,\n",
    "    'Census_ProcessorManufacturerIdentifier': np.int8,\n",
    "    'Census_ProcessorModelIdentifier': np.int16,\n",
    "    'Census_PrimaryDiskTotalCapacity': np.int32,\n",
    "    'Census_SystemVolumeTotalCapacity': np.int32,\n",
    "    'Census_HasOpticalDiskDrive': np.int8,\n",
    "    'Census_TotalPhysicalRAM': np.int32,\n",
    "    'Census_InternalPrimaryDiagonalDisplaySizeInInches': np.float16,\n",
    "    'Census_InternalPrimaryDisplayResolutionHorizontal': np.float16,\n",
    "    'Census_InternalPrimaryDisplayResolutionVertical': np.int16,\n",
    "    'Census_InternalBatteryNumberOfCharges': np.int32,\n",
    "    'Census_OSBuildNumber': np.int16,\n",
    "    'Census_OSBuildRevision': np.int32,\n",
    "    'Census_OSInstallLanguageIdentifier': np.int8,\n",
    "    'Census_OSUILocaleIdentifier': np.int16,\n",
    "    'Census_IsPortableOperatingSystem': np.int8,\n",
    "    'Census_IsFlightingInternal': np.int8,\n",
    "    'Census_IsFlightsDisabled': np.int8,\n",
    "    'Census_ThresholdOptIn': np.int8,\n",
    "    'Census_FirmwareManufacturerIdentifier': np.int16,\n",
    "    'Census_FirmwareVersionIdentifier': np.int32,\n",
    "    'Census_IsSecureBootEnabled': np.int8,\n",
    "    'Census_IsWIMBootEnabled': np.int8,\n",
    "    'Census_IsVirtualDevice': np.int8,\n",
    "    'Census_IsTouchEnabled': np.int8,\n",
    "    'Census_IsPenCapable': np.int8,\n",
    "    'Census_IsAlwaysOnAlwaysConnectedCapable': np.int8,\n",
    "    'Wdft_IsGamer': np.int8,\n",
    "    'Wdft_RegionIdentifier': np.int8,\n",
    "    'HasDetections': np.int8,\n",
    "    'Census_InternalBatteryType_informed': np.int8,\n",
    "    'ProductName_index': np.int8,\n",
    "    'Platform_index': np.int8,\n",
    "    'Processor_index': np.int8,\n",
    "    'OsPlatformSubRelease_index': np.int8,\n",
    "    'OsBuildLab_index': np.int16,\n",
    "    'SkuEdition_index': np.int8,\n",
    "    'PuaMode_index': np.int8,\n",
    "    'SmartScreen_index': np.int8,\n",
    "    'Census_MDC2FormFactor_index': np.int8,\n",
    "    'Census_DeviceFamily_index': np.int8,\n",
    "    'Census_ProcessorClass_index': np.int8,\n",
    "    'Census_PrimaryDiskTypeName_index': np.int8,\n",
    "    'Census_ChassisTypeName_index': np.int8,\n",
    "    'Census_PowerPlatformRoleName_index': np.int8,\n",
    "    'Census_InternalBatteryType_index': np.int8,\n",
    "    'Census_OSArchitecture_index': np.int8,\n",
    "    'Census_OSBranch_index': np.int8,\n",
    "    'Census_OSEdition_index': np.int8,\n",
    "    'Census_OSSkuName_index': np.int8,\n",
    "    'Census_OSInstallTypeName_index': np.int8,\n",
    "    'Census_OSWUAutoUpdateOptionsName_index': np.int8,\n",
    "    'Census_GenuineStateName_index': np.int8,\n",
    "    'Census_ActivationChannel_index': np.int8,\n",
    "    'Census_FlightRing_index': np.int8,\n",
    "    'Census_OSVersion_index': np.int16,\n",
    "    'EngineVersion_index': np.int8,\n",
    "    'AppVersion_index': np.int8,\n",
    "    'AvSigVersion_index': np.int16,\n",
    "    'OsVer_index': np.int8,\n",
    "    'Census_OSVersion_0_index': np.int8,\n",
    "    'Census_OSVersion_1_index': np.int16,\n",
    "    'EngineVersion_0_index': np.int8,\n",
    "    'EngineVersion_1_index': np.int8,\n",
    "    'AppVersion_0_index': np.int8,\n",
    "    'AppVersion_1_index': np.int8,\n",
    "    'AvSigVersion_0_index': np.int8,\n",
    "    'AvSigVersion_1_index': np.int16,\n",
    "    'OsVer_0_index': np.int8,\n",
    "    'OsVer_1_index': np.int8,\n",
    "    'OsBuildLab_diff': np.int8,\n",
    "    'AvSigVersion_diff': np.int16,\n",
    "    'OSVersion_diff': np.int8,\n",
    "    'OSBuild_fulldiff': np.int8,\n",
    "    'AvSigVersion_fulldiff': np.int8,\n",
    "    'OsBuildLab_difftotal': np.int16,\n",
    "    'DateAvSigVersion_difftotal': np.int16,\n",
    "    'DateOSVersion_difftotal': np.int16,\n",
    "    'DateAvSigVersion_fulldifftotal': np.int8,\n",
    "    'OsBuildLab_fulldifftotal': np.int8,\n",
    "    'DateAvSigVersion_ratio': np.float16,\n",
    "    'OsBuildLab_ratio': np.float16,\n",
    "    'OSVersion_ratio': np.float16,\n",
    "    'DateAvSigVersion_fullratio': np.float16,\n",
    "    'OsBuildLab_fullratio': np.float16,\n",
    "    'OsBuildLab_dayOfWeek': np.int8,\n",
    "    'AvSigVersion_dayOfWeek': np.int8,\n",
    "    'prediction_2': np.int8,\n",
    "    'prediction_4': np.int8,\n",
    "    'prediction_8': np.int8,\n",
    "    'prediction_16': np.int8,\n",
    "    'prediction_32': np.int8,\n",
    "    'prediction_64': np.int8,\n",
    "    'count(DISTINCT AvSigVersion_Name)': np.int16,\n",
    "    'count(DISTINCT AvSigVersion_Type)': np.int8,\n",
    "    'count(DISTINCT AvSigVersion_AlertLevel)': np.int8\n",
    "}"
   ]
  },
  {
   "cell_type": "code",
   "execution_count": 5,
   "metadata": {
    "scrolled": true
   },
   "outputs": [
    {
     "name": "stdout",
     "output_type": "stream",
     "text": [
      "Cargando datos del TRAIN\n",
      "Datos del TRAIN cargados\n"
     ]
    }
   ],
   "source": [
    "\n",
    "print('Cargando datos del TRAIN')\n",
    "path = '../../data/train_final_3'\n",
    "allFiles = glob.glob(path + \"/*.csv\")\n",
    "list_ = []\n",
    "for file_ in allFiles:\n",
    "    df = pd.read_csv(file_)\n",
    "    df = (df.fillna(-1)).astype(schema_train_3)\n",
    "    list_.append(df)\n",
    "\n",
    "train = pd.concat(list_, axis = 0, ignore_index = True)\n",
    "\n",
    "sel_cols = [c for c in train.columns if c not in ['MachineIdentifier',\n",
    "                                                      'HasDetections',\n",
    "                                                      'Census_DeviceFamily_Windows.Server',\n",
    "                                                      'Census_DeviceFamily_Windows.Desktop'\n",
    "                                                     ]]\n",
    "print('Datos del TRAIN cargados')\n",
    "\n"
   ]
  },
  {
   "cell_type": "code",
   "execution_count": 6,
   "metadata": {},
   "outputs": [],
   "source": [
    "X = train.loc[:, sel_cols]\n",
    "y = train.loc[:,'HasDetections']\n"
   ]
  },
  {
   "cell_type": "markdown",
   "metadata": {},
   "source": [
    "# Test de seleccion de variables"
   ]
  },
  {
   "cell_type": "code",
   "execution_count": 32,
   "metadata": {},
   "outputs": [
    {
     "data": {
      "text/plain": [
       "Index(['MachineIdentifier', 'IsBeta', 'RtpStateBitfield', 'IsSxsPassiveMode',\n",
       "       'DefaultBrowsersIdentifier', 'AVProductStatesIdentifier',\n",
       "       'AVProductsInstalled', 'AVProductsEnabled', 'HasTpm',\n",
       "       'CountryIdentifier',\n",
       "       ...\n",
       "       'AvSigVersion_dayOfWeek', 'prediction_2', 'prediction_4',\n",
       "       'prediction_8', 'prediction_16', 'prediction_32', 'prediction_64',\n",
       "       'count(DISTINCT AvSigVersion_Name)',\n",
       "       'count(DISTINCT AvSigVersion_Type)',\n",
       "       'count(DISTINCT AvSigVersion_AlertLevel)'],\n",
       "      dtype='object', length=120)"
      ]
     },
     "execution_count": 32,
     "metadata": {},
     "output_type": "execute_result"
    }
   ],
   "source": [
    "train.columns"
   ]
  },
  {
   "cell_type": "code",
   "execution_count": 41,
   "metadata": {},
   "outputs": [
    {
     "data": {
      "text/plain": [
       "['Census_InternalPrimaryDisplayResolutionHorizontal',\n",
       " 'Census_ProcessorManufacturerIdentifier',\n",
       " 'prediction_4',\n",
       " 'Census_DeviceFamily_index',\n",
       " 'IeVerIdentifier',\n",
       " 'DateAvSigVersion_fullratio',\n",
       " 'Census_GenuineStateName_index',\n",
       " 'AvSigVersion_0_index',\n",
       " 'AvSigVersion_1_index',\n",
       " 'Census_OSVersion_0_index',\n",
       " 'Wdft_RegionIdentifier',\n",
       " 'Wdft_IsGamer',\n",
       " 'Census_OSArchitecture_index',\n",
       " 'SMode',\n",
       " 'Census_IsVirtualDevice',\n",
       " 'DefaultBrowsersIdentifier',\n",
       " 'OSVersion_ratio',\n",
       " 'Census_OEMNameIdentifier',\n",
       " 'Census_SystemVolumeTotalCapacity',\n",
       " 'OsBuildLab_dayOfWeek',\n",
       " 'GeoNameIdentifier',\n",
       " 'HasTpm',\n",
       " 'OsBuildLab_ratio',\n",
       " 'OsBuildLab_difftotal',\n",
       " 'prediction_8']"
      ]
     },
     "execution_count": 41,
     "metadata": {},
     "output_type": "execute_result"
    }
   ],
   "source": [
    "import random\n",
    "\n",
    "sel_cols = set(train.columns) - set(['MachineIdentifier','HasDetections','Census_DeviceFamily_Windows.Server','Census_DeviceFamily_Windows.Desktop'])\n",
    "sel_cols_test = []\n",
    "while len(sel_cols_test) < 25:\n",
    "    sel_cols_test.append(random.choice(train.columns))\n",
    "sel_cols_test"
   ]
  },
  {
   "cell_type": "code",
   "execution_count": 21,
   "metadata": {},
   "outputs": [],
   "source": [
    "numericas = ['RtpStateBitfield','DefaultBrowsersIdentifier' ,'AVProductStatesIdentifier' ,'AVProductsInstalled' ,'AVProductsEnabled' ,'CityIdentifier','OrganizationIdentifier','GeoNameIdentifier','IsProtected' ,'SMode' ,'IeVerIdentifier','Firewall','UacLuaenable','Census_OEMNameIdentifier','Census_OEMModelIdentifier','Census_ProcessorManufacturerIdentifier','Census_ProcessorModelIdentifier','Census_OSInstallLanguageIdentifier','Census_IsFlightingInternal','Census_IsFlightsDisabled','Census_FirmwareManufacturerIdentifier','Census_FirmwareVersionIdentifier','Census_IsWIMBootEnabled','Census_IsVirtualDevice','Census_IsAlwaysOnAlwaysConnectedCapable','Wdft_IsGamer','Wdft_RegionIdentifier','Census_ProcessorCoreCount','Census_PrimaryDiskTotalCapacity','Census_SystemVolumeTotalCapacity','Census_TotalPhysicalRAM','Census_InternalPrimaryDiagonalDisplaySizeInInches','Census_InternalPrimaryDisplayResolutionHorizontal','Census_InternalPrimaryDisplayResolutionVertical','Census_InternalBatteryNumberOfCharges','Census_ThresholdOptIn']"
   ]
  },
  {
   "cell_type": "code",
   "execution_count": 22,
   "metadata": {},
   "outputs": [],
   "source": [
    "X = train.loc[:, numericas]\n",
    "y = train.loc[:,'HasDetections']"
   ]
  },
  {
   "cell_type": "code",
   "execution_count": null,
   "metadata": {},
   "outputs": [],
   "source": []
  },
  {
   "cell_type": "code",
   "execution_count": null,
   "metadata": {},
   "outputs": [],
   "source": []
  },
  {
   "cell_type": "code",
   "execution_count": null,
   "metadata": {},
   "outputs": [],
   "source": []
  },
  {
   "cell_type": "code",
   "execution_count": null,
   "metadata": {},
   "outputs": [],
   "source": []
  },
  {
   "cell_type": "code",
   "execution_count": null,
   "metadata": {},
   "outputs": [],
   "source": []
  },
  {
   "cell_type": "markdown",
   "metadata": {},
   "source": [
    "# train y test"
   ]
  },
  {
   "cell_type": "code",
   "execution_count": 7,
   "metadata": {},
   "outputs": [],
   "source": [
    "from sklearn.model_selection import train_test_split"
   ]
  },
  {
   "cell_type": "code",
   "execution_count": 23,
   "metadata": {},
   "outputs": [],
   "source": [
    "X_train, X_test, y_train, y_test = train_test_split(X,y, test_size=0.2)"
   ]
  },
  {
   "cell_type": "code",
   "execution_count": null,
   "metadata": {},
   "outputs": [],
   "source": []
  },
  {
   "cell_type": "code",
   "execution_count": 24,
   "metadata": {
    "scrolled": true
   },
   "outputs": [
    {
     "name": "stdout",
     "output_type": "stream",
     "text": [
      "X_train :(7137186, 36)\n",
      "X_test :(1784297, 36)\n",
      "y_train :(7137186,)\n",
      "y_test :(1784297,)\n"
     ]
    }
   ],
   "source": [
    "print(\"X_train :\"+str(X_train.shape))\n",
    "\n",
    "print(\"X_test :\"+str(X_test.shape))\n",
    "\n",
    "\n",
    "print(\"y_train :\"+str(y_train.shape))\n",
    "\n",
    "print(\"y_test :\"+str(y_test.shape))"
   ]
  },
  {
   "cell_type": "code",
   "execution_count": null,
   "metadata": {},
   "outputs": [],
   "source": []
  },
  {
   "cell_type": "markdown",
   "metadata": {},
   "source": [
    "# Mi modelo"
   ]
  },
  {
   "cell_type": "code",
   "execution_count": 10,
   "metadata": {},
   "outputs": [],
   "source": [
    "\n",
    "\n",
    "from keras.models import Sequential\n",
    "from keras.layers import Dense,Dropout,Embedding\n",
    "\n",
    "# from keras.wrappers.scikit_learn import KerasClassifier\n",
    "# from sklearn.model_selection import cross_val_score\n",
    "# from sklearn.preprocessing import LabelEncoder\n",
    "# from sklearn.model_selection import StratifiedKFold\n",
    "# from sklearn.preprocessing import StandardScaler\n",
    "# from sklearn.pipeline import Pipeline"
   ]
  },
  {
   "cell_type": "code",
   "execution_count": 212,
   "metadata": {},
   "outputs": [
    {
     "data": {
      "text/html": [
       "<div>\n",
       "<style scoped>\n",
       "    .dataframe tbody tr th:only-of-type {\n",
       "        vertical-align: middle;\n",
       "    }\n",
       "\n",
       "    .dataframe tbody tr th {\n",
       "        vertical-align: top;\n",
       "    }\n",
       "\n",
       "    .dataframe thead th {\n",
       "        text-align: right;\n",
       "    }\n",
       "</style>\n",
       "<table border=\"1\" class=\"dataframe\">\n",
       "  <thead>\n",
       "    <tr style=\"text-align: right;\">\n",
       "      <th></th>\n",
       "      <th>IsBeta</th>\n",
       "      <th>RtpStateBitfield</th>\n",
       "      <th>IsSxsPassiveMode</th>\n",
       "      <th>DefaultBrowsersIdentifier</th>\n",
       "      <th>AVProductStatesIdentifier</th>\n",
       "      <th>AVProductsInstalled</th>\n",
       "      <th>AVProductsEnabled</th>\n",
       "      <th>HasTpm</th>\n",
       "      <th>CountryIdentifier</th>\n",
       "      <th>CityIdentifier</th>\n",
       "      <th>...</th>\n",
       "      <th>AvSigVersion_dayOfWeek</th>\n",
       "      <th>prediction_2</th>\n",
       "      <th>prediction_4</th>\n",
       "      <th>prediction_8</th>\n",
       "      <th>prediction_16</th>\n",
       "      <th>prediction_32</th>\n",
       "      <th>prediction_64</th>\n",
       "      <th>count(DISTINCT AvSigVersion_Name)</th>\n",
       "      <th>count(DISTINCT AvSigVersion_Type)</th>\n",
       "      <th>count(DISTINCT AvSigVersion_AlertLevel)</th>\n",
       "    </tr>\n",
       "  </thead>\n",
       "  <tbody>\n",
       "    <tr>\n",
       "      <th>2429107</th>\n",
       "      <td>0</td>\n",
       "      <td>7</td>\n",
       "      <td>0</td>\n",
       "      <td>0</td>\n",
       "      <td>53447</td>\n",
       "      <td>1</td>\n",
       "      <td>1</td>\n",
       "      <td>1</td>\n",
       "      <td>59</td>\n",
       "      <td>22656</td>\n",
       "      <td>...</td>\n",
       "      <td>7</td>\n",
       "      <td>0</td>\n",
       "      <td>0</td>\n",
       "      <td>0</td>\n",
       "      <td>6</td>\n",
       "      <td>11</td>\n",
       "      <td>12</td>\n",
       "      <td>-1</td>\n",
       "      <td>-1</td>\n",
       "      <td>-1</td>\n",
       "    </tr>\n",
       "    <tr>\n",
       "      <th>7134227</th>\n",
       "      <td>0</td>\n",
       "      <td>7</td>\n",
       "      <td>0</td>\n",
       "      <td>0</td>\n",
       "      <td>53039</td>\n",
       "      <td>2</td>\n",
       "      <td>1</td>\n",
       "      <td>1</td>\n",
       "      <td>101</td>\n",
       "      <td>142350</td>\n",
       "      <td>...</td>\n",
       "      <td>3</td>\n",
       "      <td>0</td>\n",
       "      <td>0</td>\n",
       "      <td>0</td>\n",
       "      <td>10</td>\n",
       "      <td>13</td>\n",
       "      <td>46</td>\n",
       "      <td>8</td>\n",
       "      <td>1</td>\n",
       "      <td>2</td>\n",
       "    </tr>\n",
       "    <tr>\n",
       "      <th>8796516</th>\n",
       "      <td>0</td>\n",
       "      <td>7</td>\n",
       "      <td>0</td>\n",
       "      <td>0</td>\n",
       "      <td>62773</td>\n",
       "      <td>1</td>\n",
       "      <td>1</td>\n",
       "      <td>1</td>\n",
       "      <td>89</td>\n",
       "      <td>12685</td>\n",
       "      <td>...</td>\n",
       "      <td>1</td>\n",
       "      <td>0</td>\n",
       "      <td>0</td>\n",
       "      <td>6</td>\n",
       "      <td>0</td>\n",
       "      <td>0</td>\n",
       "      <td>50</td>\n",
       "      <td>87</td>\n",
       "      <td>1</td>\n",
       "      <td>2</td>\n",
       "    </tr>\n",
       "    <tr>\n",
       "      <th>3358715</th>\n",
       "      <td>0</td>\n",
       "      <td>7</td>\n",
       "      <td>0</td>\n",
       "      <td>0</td>\n",
       "      <td>53447</td>\n",
       "      <td>1</td>\n",
       "      <td>1</td>\n",
       "      <td>1</td>\n",
       "      <td>181</td>\n",
       "      <td>48792</td>\n",
       "      <td>...</td>\n",
       "      <td>1</td>\n",
       "      <td>0</td>\n",
       "      <td>0</td>\n",
       "      <td>6</td>\n",
       "      <td>13</td>\n",
       "      <td>27</td>\n",
       "      <td>34</td>\n",
       "      <td>-1</td>\n",
       "      <td>-1</td>\n",
       "      <td>-1</td>\n",
       "    </tr>\n",
       "    <tr>\n",
       "      <th>2779875</th>\n",
       "      <td>0</td>\n",
       "      <td>7</td>\n",
       "      <td>0</td>\n",
       "      <td>788</td>\n",
       "      <td>53447</td>\n",
       "      <td>1</td>\n",
       "      <td>1</td>\n",
       "      <td>1</td>\n",
       "      <td>93</td>\n",
       "      <td>69625</td>\n",
       "      <td>...</td>\n",
       "      <td>6</td>\n",
       "      <td>0</td>\n",
       "      <td>0</td>\n",
       "      <td>6</td>\n",
       "      <td>11</td>\n",
       "      <td>27</td>\n",
       "      <td>38</td>\n",
       "      <td>32</td>\n",
       "      <td>2</td>\n",
       "      <td>2</td>\n",
       "    </tr>\n",
       "  </tbody>\n",
       "</table>\n",
       "<p>5 rows × 118 columns</p>\n",
       "</div>"
      ],
      "text/plain": [
       "         IsBeta  RtpStateBitfield  IsSxsPassiveMode  \\\n",
       "2429107       0                 7                 0   \n",
       "7134227       0                 7                 0   \n",
       "8796516       0                 7                 0   \n",
       "3358715       0                 7                 0   \n",
       "2779875       0                 7                 0   \n",
       "\n",
       "         DefaultBrowsersIdentifier  AVProductStatesIdentifier  \\\n",
       "2429107                          0                      53447   \n",
       "7134227                          0                      53039   \n",
       "8796516                          0                      62773   \n",
       "3358715                          0                      53447   \n",
       "2779875                        788                      53447   \n",
       "\n",
       "         AVProductsInstalled  AVProductsEnabled  HasTpm  CountryIdentifier  \\\n",
       "2429107                    1                  1       1                 59   \n",
       "7134227                    2                  1       1                101   \n",
       "8796516                    1                  1       1                 89   \n",
       "3358715                    1                  1       1                181   \n",
       "2779875                    1                  1       1                 93   \n",
       "\n",
       "         CityIdentifier  ...  AvSigVersion_dayOfWeek  prediction_2  \\\n",
       "2429107           22656  ...                       7             0   \n",
       "7134227          142350  ...                       3             0   \n",
       "8796516           12685  ...                       1             0   \n",
       "3358715           48792  ...                       1             0   \n",
       "2779875           69625  ...                       6             0   \n",
       "\n",
       "         prediction_4  prediction_8  prediction_16  prediction_32  \\\n",
       "2429107             0             0              6             11   \n",
       "7134227             0             0             10             13   \n",
       "8796516             0             6              0              0   \n",
       "3358715             0             6             13             27   \n",
       "2779875             0             6             11             27   \n",
       "\n",
       "         prediction_64  count(DISTINCT AvSigVersion_Name)  \\\n",
       "2429107             12                                 -1   \n",
       "7134227             46                                  8   \n",
       "8796516             50                                 87   \n",
       "3358715             34                                 -1   \n",
       "2779875             38                                 32   \n",
       "\n",
       "         count(DISTINCT AvSigVersion_Type)  \\\n",
       "2429107                                 -1   \n",
       "7134227                                  1   \n",
       "8796516                                  1   \n",
       "3358715                                 -1   \n",
       "2779875                                  2   \n",
       "\n",
       "         count(DISTINCT AvSigVersion_AlertLevel)  \n",
       "2429107                                       -1  \n",
       "7134227                                        2  \n",
       "8796516                                        2  \n",
       "3358715                                       -1  \n",
       "2779875                                        2  \n",
       "\n",
       "[5 rows x 118 columns]"
      ]
     },
     "execution_count": 212,
     "metadata": {},
     "output_type": "execute_result"
    }
   ],
   "source": [
    "X_train.head()"
   ]
  },
  {
   "cell_type": "code",
   "execution_count": 27,
   "metadata": {},
   "outputs": [],
   "source": [
    "dimension = X_train.shape[1]"
   ]
  },
  {
   "cell_type": "code",
   "execution_count": 214,
   "metadata": {},
   "outputs": [
    {
     "data": {
      "text/plain": [
       "118"
      ]
     },
     "execution_count": 214,
     "metadata": {},
     "output_type": "execute_result"
    }
   ],
   "source": [
    "dimension"
   ]
  },
  {
   "cell_type": "code",
   "execution_count": 215,
   "metadata": {},
   "outputs": [],
   "source": [
    "from sklearn.metrics import roc_auc_score\n",
    "import tensorflow as tf\n",
    "\n",
    "def auroc(y_true, y_pred):\n",
    "    return tf.py_func(roc_auc_score, (y_true, y_pred), tf.double)"
   ]
  },
  {
   "cell_type": "code",
   "execution_count": 216,
   "metadata": {},
   "outputs": [],
   "source": [
    "earlyStopping = keras.callbacks.EarlyStopping(monitor='auroc', patience=20, verbose=2,min_delta=0.01, mode='auto')"
   ]
  },
  {
   "cell_type": "code",
   "execution_count": 17,
   "metadata": {},
   "outputs": [],
   "source": [
    "from keras.optimizers import SGD\n"
   ]
  },
  {
   "cell_type": "code",
   "execution_count": 43,
   "metadata": {},
   "outputs": [
    {
     "name": "stdout",
     "output_type": "stream",
     "text": [
      "_________________________________________________________________\n",
      "Layer (type)                 Output Shape              Param #   \n",
      "=================================================================\n",
      "dense_29 (Dense)             (None, 256)               9472      \n",
      "_________________________________________________________________\n",
      "dense_30 (Dense)             (None, 512)               131584    \n",
      "_________________________________________________________________\n",
      "dense_31 (Dense)             (None, 128)               65664     \n",
      "_________________________________________________________________\n",
      "dense_32 (Dense)             (None, 1)                 129       \n",
      "=================================================================\n",
      "Total params: 206,849\n",
      "Trainable params: 206,849\n",
      "Non-trainable params: 0\n",
      "_________________________________________________________________\n"
     ]
    }
   ],
   "source": [
    "model = Sequential()\n",
    "\n",
    "model.add(Dense(256, input_dim=dimension, kernel_initializer='uniform', activation='relu'))\n",
    "model.add(Dense(512))\n",
    "model.add(Dense(128))\n",
    "model.add(Dense(1, kernel_initializer='normal', activation='sigmoid'))\n",
    "\n",
    "\n",
    "model.compile(loss='binary_crossentropy', optimizer='adam',metrics = ['acc'])\n",
    "\n",
    "model.summary()"
   ]
  },
  {
   "cell_type": "code",
   "execution_count": 44,
   "metadata": {
    "scrolled": false
   },
   "outputs": [
    {
     "name": "stdout",
     "output_type": "stream",
     "text": [
      "Train on 7137186 samples, validate on 1784297 samples\n",
      "Epoch 1/15\n",
      "7137186/7137186 [==============================] - 164s 23us/step - loss: 7.9738 - acc: 0.4998 - val_loss: 7.9772 - val_acc: 0.4996\n",
      "Epoch 2/15\n",
      "7137186/7137186 [==============================] - 163s 23us/step - loss: 7.9738 - acc: 0.4998 - val_loss: 7.9772 - val_acc: 0.4996\n",
      "Epoch 3/15\n",
      "7137186/7137186 [==============================] - 155s 22us/step - loss: 7.9738 - acc: 0.4998 - val_loss: 7.9772 - val_acc: 0.4996\n",
      "Epoch 4/15\n",
      "7137186/7137186 [==============================] - 149s 21us/step - loss: 7.9738 - acc: 0.4998 - val_loss: 7.9772 - val_acc: 0.4996\n",
      "Epoch 5/15\n",
      "7137186/7137186 [==============================] - 158s 22us/step - loss: 7.9738 - acc: 0.4998 - val_loss: 7.9772 - val_acc: 0.4996\n",
      "Epoch 6/15\n",
      "7137186/7137186 [==============================] - 143s 20us/step - loss: 7.9738 - acc: 0.4998 - val_loss: 7.9772 - val_acc: 0.4996\n",
      "Epoch 7/15\n",
      "7137186/7137186 [==============================] - 155s 22us/step - loss: 7.9738 - acc: 0.4998 - val_loss: 7.9772 - val_acc: 0.4996\n",
      "Epoch 8/15\n",
      "7137186/7137186 [==============================] - 145s 20us/step - loss: 7.9738 - acc: 0.4998 - val_loss: 7.9772 - val_acc: 0.4996\n",
      "Epoch 9/15\n",
      "2298114/7137186 [========>.....................] - ETA: 1:32 - loss: 7.9764 - acc: 0.4997"
     ]
    },
    {
     "ename": "KeyboardInterrupt",
     "evalue": "",
     "output_type": "error",
     "traceback": [
      "\u001b[0;31m---------------------------------------------------------------------------\u001b[0m",
      "\u001b[0;31mKeyboardInterrupt\u001b[0m                         Traceback (most recent call last)",
      "\u001b[0;32m<ipython-input-44-85989be6f350>\u001b[0m in \u001b[0;36m<module>\u001b[0;34m\u001b[0m\n\u001b[1;32m      2\u001b[0m           \u001b[0mepochs\u001b[0m\u001b[0;34m=\u001b[0m\u001b[0;36m15\u001b[0m\u001b[0;34m,\u001b[0m\u001b[0;34m\u001b[0m\u001b[0;34m\u001b[0m\u001b[0m\n\u001b[1;32m      3\u001b[0m           \u001b[0mbatch_size\u001b[0m\u001b[0;34m=\u001b[0m\u001b[0mint\u001b[0m\u001b[0;34m(\u001b[0m\u001b[0mX_train\u001b[0m\u001b[0;34m.\u001b[0m\u001b[0mshape\u001b[0m\u001b[0;34m[\u001b[0m\u001b[0;36m0\u001b[0m\u001b[0;34m]\u001b[0m\u001b[0;34m/\u001b[0m\u001b[0;36m1000\u001b[0m\u001b[0;34m)\u001b[0m\u001b[0;34m,\u001b[0m\u001b[0;34m\u001b[0m\u001b[0;34m\u001b[0m\u001b[0m\n\u001b[0;32m----> 4\u001b[0;31m             validation_data = (X_test,y_test))\n\u001b[0m\u001b[1;32m      5\u001b[0m \u001b[0;31m#              callbacks=[earlyStopping])\u001b[0m\u001b[0;34m\u001b[0m\u001b[0;34m\u001b[0m\u001b[0;34m\u001b[0m\u001b[0m\n",
      "\u001b[0;32m~/stuff_workspace/2_Kaggle/kaggle_microsoft/enviroment/lib/python3.6/site-packages/keras/engine/training.py\u001b[0m in \u001b[0;36mfit\u001b[0;34m(self, x, y, batch_size, epochs, verbose, callbacks, validation_split, validation_data, shuffle, class_weight, sample_weight, initial_epoch, steps_per_epoch, validation_steps, **kwargs)\u001b[0m\n\u001b[1;32m   1037\u001b[0m                                         \u001b[0minitial_epoch\u001b[0m\u001b[0;34m=\u001b[0m\u001b[0minitial_epoch\u001b[0m\u001b[0;34m,\u001b[0m\u001b[0;34m\u001b[0m\u001b[0;34m\u001b[0m\u001b[0m\n\u001b[1;32m   1038\u001b[0m                                         \u001b[0msteps_per_epoch\u001b[0m\u001b[0;34m=\u001b[0m\u001b[0msteps_per_epoch\u001b[0m\u001b[0;34m,\u001b[0m\u001b[0;34m\u001b[0m\u001b[0;34m\u001b[0m\u001b[0m\n\u001b[0;32m-> 1039\u001b[0;31m                                         validation_steps=validation_steps)\n\u001b[0m\u001b[1;32m   1040\u001b[0m \u001b[0;34m\u001b[0m\u001b[0m\n\u001b[1;32m   1041\u001b[0m     def evaluate(self, x=None, y=None,\n",
      "\u001b[0;32m~/stuff_workspace/2_Kaggle/kaggle_microsoft/enviroment/lib/python3.6/site-packages/keras/engine/training_arrays.py\u001b[0m in \u001b[0;36mfit_loop\u001b[0;34m(model, f, ins, out_labels, batch_size, epochs, verbose, callbacks, val_f, val_ins, shuffle, callback_metrics, initial_epoch, steps_per_epoch, validation_steps)\u001b[0m\n\u001b[1;32m    185\u001b[0m                             ins[:-1], batch_ids) + [ins[-1]]\n\u001b[1;32m    186\u001b[0m                     \u001b[0;32melse\u001b[0m\u001b[0;34m:\u001b[0m\u001b[0;34m\u001b[0m\u001b[0;34m\u001b[0m\u001b[0m\n\u001b[0;32m--> 187\u001b[0;31m                         \u001b[0mins_batch\u001b[0m \u001b[0;34m=\u001b[0m \u001b[0mslice_arrays\u001b[0m\u001b[0;34m(\u001b[0m\u001b[0mins\u001b[0m\u001b[0;34m,\u001b[0m \u001b[0mbatch_ids\u001b[0m\u001b[0;34m)\u001b[0m\u001b[0;34m\u001b[0m\u001b[0;34m\u001b[0m\u001b[0m\n\u001b[0m\u001b[1;32m    188\u001b[0m                 \u001b[0;32mexcept\u001b[0m \u001b[0mTypeError\u001b[0m\u001b[0;34m:\u001b[0m\u001b[0;34m\u001b[0m\u001b[0;34m\u001b[0m\u001b[0m\n\u001b[1;32m    189\u001b[0m                     raise TypeError('TypeError while preparing batch. '\n",
      "\u001b[0;32m~/stuff_workspace/2_Kaggle/kaggle_microsoft/enviroment/lib/python3.6/site-packages/keras/utils/generic_utils.py\u001b[0m in \u001b[0;36mslice_arrays\u001b[0;34m(arrays, start, stop)\u001b[0m\n\u001b[1;32m    524\u001b[0m             \u001b[0;32mif\u001b[0m \u001b[0mhasattr\u001b[0m\u001b[0;34m(\u001b[0m\u001b[0mstart\u001b[0m\u001b[0;34m,\u001b[0m \u001b[0;34m'shape'\u001b[0m\u001b[0;34m)\u001b[0m\u001b[0;34m:\u001b[0m\u001b[0;34m\u001b[0m\u001b[0;34m\u001b[0m\u001b[0m\n\u001b[1;32m    525\u001b[0m                 \u001b[0mstart\u001b[0m \u001b[0;34m=\u001b[0m \u001b[0mstart\u001b[0m\u001b[0;34m.\u001b[0m\u001b[0mtolist\u001b[0m\u001b[0;34m(\u001b[0m\u001b[0;34m)\u001b[0m\u001b[0;34m\u001b[0m\u001b[0;34m\u001b[0m\u001b[0m\n\u001b[0;32m--> 526\u001b[0;31m             \u001b[0;32mreturn\u001b[0m \u001b[0;34m[\u001b[0m\u001b[0;32mNone\u001b[0m \u001b[0;32mif\u001b[0m \u001b[0mx\u001b[0m \u001b[0;32mis\u001b[0m \u001b[0;32mNone\u001b[0m \u001b[0;32melse\u001b[0m \u001b[0mx\u001b[0m\u001b[0;34m[\u001b[0m\u001b[0mstart\u001b[0m\u001b[0;34m]\u001b[0m \u001b[0;32mfor\u001b[0m \u001b[0mx\u001b[0m \u001b[0;32min\u001b[0m \u001b[0marrays\u001b[0m\u001b[0;34m]\u001b[0m\u001b[0;34m\u001b[0m\u001b[0;34m\u001b[0m\u001b[0m\n\u001b[0m\u001b[1;32m    527\u001b[0m         \u001b[0;32melse\u001b[0m\u001b[0;34m:\u001b[0m\u001b[0;34m\u001b[0m\u001b[0;34m\u001b[0m\u001b[0m\n\u001b[1;32m    528\u001b[0m             \u001b[0;32mreturn\u001b[0m \u001b[0;34m[\u001b[0m\u001b[0;32mNone\u001b[0m \u001b[0;32mif\u001b[0m \u001b[0mx\u001b[0m \u001b[0;32mis\u001b[0m \u001b[0;32mNone\u001b[0m \u001b[0;32melse\u001b[0m \u001b[0mx\u001b[0m\u001b[0;34m[\u001b[0m\u001b[0mstart\u001b[0m\u001b[0;34m:\u001b[0m\u001b[0mstop\u001b[0m\u001b[0;34m]\u001b[0m \u001b[0;32mfor\u001b[0m \u001b[0mx\u001b[0m \u001b[0;32min\u001b[0m \u001b[0marrays\u001b[0m\u001b[0;34m]\u001b[0m\u001b[0;34m\u001b[0m\u001b[0;34m\u001b[0m\u001b[0m\n",
      "\u001b[0;32m~/stuff_workspace/2_Kaggle/kaggle_microsoft/enviroment/lib/python3.6/site-packages/keras/utils/generic_utils.py\u001b[0m in \u001b[0;36m<listcomp>\u001b[0;34m(.0)\u001b[0m\n\u001b[1;32m    524\u001b[0m             \u001b[0;32mif\u001b[0m \u001b[0mhasattr\u001b[0m\u001b[0;34m(\u001b[0m\u001b[0mstart\u001b[0m\u001b[0;34m,\u001b[0m \u001b[0;34m'shape'\u001b[0m\u001b[0;34m)\u001b[0m\u001b[0;34m:\u001b[0m\u001b[0;34m\u001b[0m\u001b[0;34m\u001b[0m\u001b[0m\n\u001b[1;32m    525\u001b[0m                 \u001b[0mstart\u001b[0m \u001b[0;34m=\u001b[0m \u001b[0mstart\u001b[0m\u001b[0;34m.\u001b[0m\u001b[0mtolist\u001b[0m\u001b[0;34m(\u001b[0m\u001b[0;34m)\u001b[0m\u001b[0;34m\u001b[0m\u001b[0;34m\u001b[0m\u001b[0m\n\u001b[0;32m--> 526\u001b[0;31m             \u001b[0;32mreturn\u001b[0m \u001b[0;34m[\u001b[0m\u001b[0;32mNone\u001b[0m \u001b[0;32mif\u001b[0m \u001b[0mx\u001b[0m \u001b[0;32mis\u001b[0m \u001b[0;32mNone\u001b[0m \u001b[0;32melse\u001b[0m \u001b[0mx\u001b[0m\u001b[0;34m[\u001b[0m\u001b[0mstart\u001b[0m\u001b[0;34m]\u001b[0m \u001b[0;32mfor\u001b[0m \u001b[0mx\u001b[0m \u001b[0;32min\u001b[0m \u001b[0marrays\u001b[0m\u001b[0;34m]\u001b[0m\u001b[0;34m\u001b[0m\u001b[0;34m\u001b[0m\u001b[0m\n\u001b[0m\u001b[1;32m    527\u001b[0m         \u001b[0;32melse\u001b[0m\u001b[0;34m:\u001b[0m\u001b[0;34m\u001b[0m\u001b[0;34m\u001b[0m\u001b[0m\n\u001b[1;32m    528\u001b[0m             \u001b[0;32mreturn\u001b[0m \u001b[0;34m[\u001b[0m\u001b[0;32mNone\u001b[0m \u001b[0;32mif\u001b[0m \u001b[0mx\u001b[0m \u001b[0;32mis\u001b[0m \u001b[0;32mNone\u001b[0m \u001b[0;32melse\u001b[0m \u001b[0mx\u001b[0m\u001b[0;34m[\u001b[0m\u001b[0mstart\u001b[0m\u001b[0;34m:\u001b[0m\u001b[0mstop\u001b[0m\u001b[0;34m]\u001b[0m \u001b[0;32mfor\u001b[0m \u001b[0mx\u001b[0m \u001b[0;32min\u001b[0m \u001b[0marrays\u001b[0m\u001b[0;34m]\u001b[0m\u001b[0;34m\u001b[0m\u001b[0;34m\u001b[0m\u001b[0m\n",
      "\u001b[0;31mKeyboardInterrupt\u001b[0m: "
     ]
    }
   ],
   "source": [
    "model.fit(X_train, y_train,\n",
    "          epochs=15,\n",
    "          batch_size=int(X_train.shape[0]/1000),\n",
    "            validation_data = (X_test,y_test))\n",
    "#              callbacks=[earlyStopping])"
   ]
  },
  {
   "cell_type": "code",
   "execution_count": 172,
   "metadata": {},
   "outputs": [
    {
     "name": "stdout",
     "output_type": "stream",
     "text": [
      "1784297/1784297 [==============================] - 4s 2us/step\n"
     ]
    }
   ],
   "source": [
    "score = model.evaluate(X_test, y_test, batch_size=int(X_train.shape[0]/100),verbose=1)"
   ]
  },
  {
   "cell_type": "code",
   "execution_count": 173,
   "metadata": {},
   "outputs": [
    {
     "data": {
      "text/plain": [
       "[0.6871217767783414, 0.5415051351181513]"
      ]
     },
     "execution_count": 173,
     "metadata": {},
     "output_type": "execute_result"
    }
   ],
   "source": [
    "score"
   ]
  },
  {
   "cell_type": "code",
   "execution_count": 198,
   "metadata": {},
   "outputs": [],
   "source": [
    "del model"
   ]
  },
  {
   "cell_type": "code",
   "execution_count": 199,
   "metadata": {},
   "outputs": [
    {
     "data": {
      "text/plain": [
       "487"
      ]
     },
     "execution_count": 199,
     "metadata": {},
     "output_type": "execute_result"
    }
   ],
   "source": [
    "import gc\n",
    "gc.collect()"
   ]
  },
  {
   "cell_type": "code",
   "execution_count": null,
   "metadata": {},
   "outputs": [],
   "source": []
  },
  {
   "cell_type": "code",
   "execution_count": null,
   "metadata": {},
   "outputs": [],
   "source": []
  },
  {
   "cell_type": "code",
   "execution_count": 40,
   "metadata": {},
   "outputs": [
    {
     "name": "stdout",
     "output_type": "stream",
     "text": [
      "[1 3 2 0 3 2 2 1 0 1]\n",
      "[[0. 1. 0. 0.]\n",
      " [0. 0. 0. 1.]\n",
      " [0. 0. 1. 0.]\n",
      " [1. 0. 0. 0.]\n",
      " [0. 0. 0. 1.]\n",
      " [0. 0. 1. 0.]\n",
      " [0. 0. 1. 0.]\n",
      " [0. 1. 0. 0.]\n",
      " [1. 0. 0. 0.]\n",
      " [0. 1. 0. 0.]]\n",
      "1\n"
     ]
    },
    {
     "ename": "TypeError",
     "evalue": "('Keyword argument not understood:', 'input')",
     "output_type": "error",
     "traceback": [
      "\u001b[0;31m---------------------------------------------------------------------------\u001b[0m",
      "\u001b[0;31mTypeError\u001b[0m                                 Traceback (most recent call last)",
      "\u001b[0;32m<ipython-input-40-874b15662519>\u001b[0m in \u001b[0;36m<module>\u001b[0;34m\u001b[0m\n\u001b[1;32m     13\u001b[0m \u001b[0mprint\u001b[0m\u001b[0;34m(\u001b[0m\u001b[0minverted\u001b[0m\u001b[0;34m)\u001b[0m\u001b[0;34m\u001b[0m\u001b[0;34m\u001b[0m\u001b[0m\n\u001b[1;32m     14\u001b[0m \u001b[0mmodel\u001b[0m \u001b[0;34m=\u001b[0m \u001b[0mSequential\u001b[0m\u001b[0;34m(\u001b[0m\u001b[0;34m)\u001b[0m\u001b[0;34m\u001b[0m\u001b[0;34m\u001b[0m\u001b[0m\n\u001b[0;32m---> 15\u001b[0;31m \u001b[0mmodel\u001b[0m\u001b[0;34m.\u001b[0m\u001b[0madd\u001b[0m\u001b[0;34m(\u001b[0m\u001b[0mDense\u001b[0m\u001b[0;34m(\u001b[0m\u001b[0;36m15\u001b[0m\u001b[0;34m,\u001b[0m\u001b[0minput\u001b[0m\u001b[0;34m=\u001b[0m\u001b[0mdata\u001b[0m\u001b[0;34m)\u001b[0m\u001b[0;34m)\u001b[0m\u001b[0;34m\u001b[0m\u001b[0;34m\u001b[0m\u001b[0m\n\u001b[0m",
      "\u001b[0;32m~/stuff_workspace/2_Kaggle/kaggle_microsoft/enviroment/lib/python3.6/site-packages/keras/legacy/interfaces.py\u001b[0m in \u001b[0;36mwrapper\u001b[0;34m(*args, **kwargs)\u001b[0m\n\u001b[1;32m     89\u001b[0m                 warnings.warn('Update your `' + object_name + '` call to the ' +\n\u001b[1;32m     90\u001b[0m                               'Keras 2 API: ' + signature, stacklevel=2)\n\u001b[0;32m---> 91\u001b[0;31m             \u001b[0;32mreturn\u001b[0m \u001b[0mfunc\u001b[0m\u001b[0;34m(\u001b[0m\u001b[0;34m*\u001b[0m\u001b[0margs\u001b[0m\u001b[0;34m,\u001b[0m \u001b[0;34m**\u001b[0m\u001b[0mkwargs\u001b[0m\u001b[0;34m)\u001b[0m\u001b[0;34m\u001b[0m\u001b[0;34m\u001b[0m\u001b[0m\n\u001b[0m\u001b[1;32m     92\u001b[0m         \u001b[0mwrapper\u001b[0m\u001b[0;34m.\u001b[0m\u001b[0m_original_function\u001b[0m \u001b[0;34m=\u001b[0m \u001b[0mfunc\u001b[0m\u001b[0;34m\u001b[0m\u001b[0;34m\u001b[0m\u001b[0m\n\u001b[1;32m     93\u001b[0m         \u001b[0;32mreturn\u001b[0m \u001b[0mwrapper\u001b[0m\u001b[0;34m\u001b[0m\u001b[0;34m\u001b[0m\u001b[0m\n",
      "\u001b[0;32m~/stuff_workspace/2_Kaggle/kaggle_microsoft/enviroment/lib/python3.6/site-packages/keras/layers/core.py\u001b[0m in \u001b[0;36m__init__\u001b[0;34m(self, units, activation, use_bias, kernel_initializer, bias_initializer, kernel_regularizer, bias_regularizer, activity_regularizer, kernel_constraint, bias_constraint, **kwargs)\u001b[0m\n\u001b[1;32m    842\u001b[0m         \u001b[0;32mif\u001b[0m \u001b[0;34m'input_shape'\u001b[0m \u001b[0;32mnot\u001b[0m \u001b[0;32min\u001b[0m \u001b[0mkwargs\u001b[0m \u001b[0;32mand\u001b[0m \u001b[0;34m'input_dim'\u001b[0m \u001b[0;32min\u001b[0m \u001b[0mkwargs\u001b[0m\u001b[0;34m:\u001b[0m\u001b[0;34m\u001b[0m\u001b[0;34m\u001b[0m\u001b[0m\n\u001b[1;32m    843\u001b[0m             \u001b[0mkwargs\u001b[0m\u001b[0;34m[\u001b[0m\u001b[0;34m'input_shape'\u001b[0m\u001b[0;34m]\u001b[0m \u001b[0;34m=\u001b[0m \u001b[0;34m(\u001b[0m\u001b[0mkwargs\u001b[0m\u001b[0;34m.\u001b[0m\u001b[0mpop\u001b[0m\u001b[0;34m(\u001b[0m\u001b[0;34m'input_dim'\u001b[0m\u001b[0;34m)\u001b[0m\u001b[0;34m,\u001b[0m\u001b[0;34m)\u001b[0m\u001b[0;34m\u001b[0m\u001b[0;34m\u001b[0m\u001b[0m\n\u001b[0;32m--> 844\u001b[0;31m         \u001b[0msuper\u001b[0m\u001b[0;34m(\u001b[0m\u001b[0mDense\u001b[0m\u001b[0;34m,\u001b[0m \u001b[0mself\u001b[0m\u001b[0;34m)\u001b[0m\u001b[0;34m.\u001b[0m\u001b[0m__init__\u001b[0m\u001b[0;34m(\u001b[0m\u001b[0;34m**\u001b[0m\u001b[0mkwargs\u001b[0m\u001b[0;34m)\u001b[0m\u001b[0;34m\u001b[0m\u001b[0;34m\u001b[0m\u001b[0m\n\u001b[0m\u001b[1;32m    845\u001b[0m         \u001b[0mself\u001b[0m\u001b[0;34m.\u001b[0m\u001b[0munits\u001b[0m \u001b[0;34m=\u001b[0m \u001b[0munits\u001b[0m\u001b[0;34m\u001b[0m\u001b[0;34m\u001b[0m\u001b[0m\n\u001b[1;32m    846\u001b[0m         \u001b[0mself\u001b[0m\u001b[0;34m.\u001b[0m\u001b[0mactivation\u001b[0m \u001b[0;34m=\u001b[0m \u001b[0mactivations\u001b[0m\u001b[0;34m.\u001b[0m\u001b[0mget\u001b[0m\u001b[0;34m(\u001b[0m\u001b[0mactivation\u001b[0m\u001b[0;34m)\u001b[0m\u001b[0;34m\u001b[0m\u001b[0;34m\u001b[0m\u001b[0m\n",
      "\u001b[0;32m~/stuff_workspace/2_Kaggle/kaggle_microsoft/enviroment/lib/python3.6/site-packages/keras/engine/base_layer.py\u001b[0m in \u001b[0;36m__init__\u001b[0;34m(self, **kwargs)\u001b[0m\n\u001b[1;32m    126\u001b[0m         \u001b[0;32mfor\u001b[0m \u001b[0mkwarg\u001b[0m \u001b[0;32min\u001b[0m \u001b[0mkwargs\u001b[0m\u001b[0;34m:\u001b[0m\u001b[0;34m\u001b[0m\u001b[0;34m\u001b[0m\u001b[0m\n\u001b[1;32m    127\u001b[0m             \u001b[0;32mif\u001b[0m \u001b[0mkwarg\u001b[0m \u001b[0;32mnot\u001b[0m \u001b[0;32min\u001b[0m \u001b[0mallowed_kwargs\u001b[0m\u001b[0;34m:\u001b[0m\u001b[0;34m\u001b[0m\u001b[0;34m\u001b[0m\u001b[0m\n\u001b[0;32m--> 128\u001b[0;31m                 \u001b[0;32mraise\u001b[0m \u001b[0mTypeError\u001b[0m\u001b[0;34m(\u001b[0m\u001b[0;34m'Keyword argument not understood:'\u001b[0m\u001b[0;34m,\u001b[0m \u001b[0mkwarg\u001b[0m\u001b[0;34m)\u001b[0m\u001b[0;34m\u001b[0m\u001b[0;34m\u001b[0m\u001b[0m\n\u001b[0m\u001b[1;32m    129\u001b[0m         \u001b[0mname\u001b[0m \u001b[0;34m=\u001b[0m \u001b[0mkwargs\u001b[0m\u001b[0;34m.\u001b[0m\u001b[0mget\u001b[0m\u001b[0;34m(\u001b[0m\u001b[0;34m'name'\u001b[0m\u001b[0;34m)\u001b[0m\u001b[0;34m\u001b[0m\u001b[0;34m\u001b[0m\u001b[0m\n\u001b[1;32m    130\u001b[0m         \u001b[0;32mif\u001b[0m \u001b[0;32mnot\u001b[0m \u001b[0mname\u001b[0m\u001b[0;34m:\u001b[0m\u001b[0;34m\u001b[0m\u001b[0;34m\u001b[0m\u001b[0m\n",
      "\u001b[0;31mTypeError\u001b[0m: ('Keyword argument not understood:', 'input')"
     ]
    }
   ],
   "source": [
    "from numpy import argmax\n",
    "from numpy import array\n",
    "from keras.utils import to_categorical\n",
    "# define example\n",
    "data = [1, 3, 2, 0, 3, 2, 2, 1, 0, 1]\n",
    "data = array(data)\n",
    "print(data)\n",
    "# one hot encode\n",
    "encoded = to_categorical(data)\n",
    "print(encoded)\n",
    "# # invert encoding\n",
    "inverted = argmax(encoded[0])\n",
    "print(inverted)\n",
    "model = Sequential()\n",
    "model.add(Dense(15,input=data))"
   ]
  },
  {
   "cell_type": "markdown",
   "metadata": {},
   "source": [
    "## Graphs"
   ]
  },
  {
   "cell_type": "code",
   "execution_count": 202,
   "metadata": {},
   "outputs": [
    {
     "data": {
      "text/plain": [
       "dict_keys(['val_loss', 'val_auroc', 'loss', 'auroc'])"
      ]
     },
     "execution_count": 202,
     "metadata": {},
     "output_type": "execute_result"
    }
   ],
   "source": [
    "model.history.history.keys()"
   ]
  },
  {
   "cell_type": "code",
   "execution_count": 57,
   "metadata": {},
   "outputs": [],
   "source": [
    "import matplotlib.pyplot as plt"
   ]
  },
  {
   "cell_type": "code",
   "execution_count": 203,
   "metadata": {
    "scrolled": false
   },
   "outputs": [
    {
     "data": {
      "text/plain": [
       "<matplotlib.legend.Legend at 0x7f5ad2683208>"
      ]
     },
     "execution_count": 203,
     "metadata": {},
     "output_type": "execute_result"
    },
    {
     "data": {
      "image/png": "[encoded data removed]",
      "text/plain": [
       "<Figure size 432x288 with 1 Axes>"
      ]
     },
     "metadata": {
      "needs_background": "light"
     },
     "output_type": "display_data"
    }
   ],
   "source": [
    "plt.plot(model.history.history['loss'],label=\"Loss\")\n",
    "plt.plot(model.history.history['auroc'],label=\"acc\")\n",
    "plt.legend()"
   ]
  },
  {
   "cell_type": "code",
   "execution_count": 59,
   "metadata": {
    "scrolled": true
   },
   "outputs": [
    {
     "data": {
      "text/plain": [
       "[<matplotlib.lines.Line2D at 0x7f5b896bebe0>]"
      ]
     },
     "execution_count": 59,
     "metadata": {},
     "output_type": "execute_result"
    },
    {
     "data": {
      "image/png": "[encoded data removed]",
      "text/plain": [
       "<Figure size 432x288 with 1 Axes>"
      ]
     },
     "metadata": {
      "needs_background": "light"
     },
     "output_type": "display_data"
    }
   ],
   "source": [
    "plt.plot(model.history.history['acc'])"
   ]
  },
  {
   "cell_type": "code",
   "execution_count": 79,
   "metadata": {
    "scrolled": true
   },
   "outputs": [
    {
     "data": {
      "text/plain": [
       "[<matplotlib.lines.Line2D at 0x7efc21390cc0>]"
      ]
     },
     "execution_count": 79,
     "metadata": {},
     "output_type": "execute_result"
    },
    {
     "data": {
      "image/png": "[encoded data removed]",
      "text/plain": [
       "<Figure size 432x288 with 1 Axes>"
      ]
     },
     "metadata": {
      "needs_background": "light"
     },
     "output_type": "display_data"
    }
   ],
   "source": [
    "plt.plot(model.history.history['auroc'])"
   ]
  },
  {
   "cell_type": "markdown",
   "metadata": {},
   "source": [
    "# Red neuronal Kaggle"
   ]
  },
  {
   "cell_type": "code",
   "execution_count": 91,
   "metadata": {},
   "outputs": [],
   "source": [
    "from sklearn.model_selection import train_test_split\n",
    "from keras.models import Sequential\n",
    "from keras.layers import Dense, Dropout, BatchNormalization, Activation\n",
    "from keras.callbacks import LearningRateScheduler\n",
    "from keras.optimizers import Adam\n",
    "\n",
    "# #SPLIT TRAIN AND VALIDATION SET\n",
    "# X_train, X_val, Y_train, Y_val = train_test_split(\n",
    "#     df_train[cols], df_train['HasDetections'], test_size = 0.5)\n",
    "\n",
    "\n"
   ]
  },
  {
   "cell_type": "code",
   "execution_count": 111,
   "metadata": {},
   "outputs": [],
   "source": [
    "# BUILD MODEL\n",
    "model = Sequential()\n",
    "model.add(Dense(100,input_dim=X_train.shape[1]))\n",
    "model.add(Dropout(0.4))\n",
    "model.add(BatchNormalization())\n",
    "model.add(Activation('relu'))\n",
    "model.add(Dense(100))\n",
    "model.add(Dropout(0.4))\n",
    "model.add(BatchNormalization())\n",
    "model.add(Activation('relu'))\n",
    "model.add(Dense(1, activation='sigmoid'))\n",
    "model.compile(optimizer=Adam(lr=0.01), loss=\"binary_crossentropy\", metrics=[\"accuracy\"])\n",
    "annealer = LearningRateScheduler(lambda x: 1e-2 * 0.95 ** x)\n"
   ]
  },
  {
   "cell_type": "code",
   "execution_count": 112,
   "metadata": {},
   "outputs": [
    {
     "name": "stdout",
     "output_type": "stream",
     "text": [
      "_________________________________________________________________\n",
      "Layer (type)                 Output Shape              Param #   \n",
      "=================================================================\n",
      "dense_74 (Dense)             (None, 100)               2600      \n",
      "_________________________________________________________________\n",
      "dropout_5 (Dropout)          (None, 100)               0         \n",
      "_________________________________________________________________\n",
      "batch_normalization_4 (Batch (None, 100)               400       \n",
      "_________________________________________________________________\n",
      "activation_3 (Activation)    (None, 100)               0         \n",
      "_________________________________________________________________\n",
      "dense_75 (Dense)             (None, 100)               10100     \n",
      "_________________________________________________________________\n",
      "dropout_6 (Dropout)          (None, 100)               0         \n",
      "_________________________________________________________________\n",
      "batch_normalization_5 (Batch (None, 100)               400       \n",
      "_________________________________________________________________\n",
      "activation_4 (Activation)    (None, 100)               0         \n",
      "_________________________________________________________________\n",
      "dense_76 (Dense)             (None, 1)                 101       \n",
      "=================================================================\n",
      "Total params: 13,601\n",
      "Trainable params: 13,201\n",
      "Non-trainable params: 400\n",
      "_________________________________________________________________\n"
     ]
    }
   ],
   "source": [
    "model.summary()"
   ]
  },
  {
   "cell_type": "code",
   "execution_count": 11,
   "metadata": {},
   "outputs": [],
   "source": [
    "from keras import callbacks\n",
    "from sklearn.metrics import roc_auc_score\n",
    "\n",
    "class printAUC(callbacks.Callback):\n",
    "    def __init__(self, X_train, y_train):\n",
    "        super(printAUC, self).__init__()\n",
    "        self.bestAUC = 0\n",
    "        self.X_train = X_train\n",
    "        self.y_train = y_train\n",
    "        \n",
    "    def on_epoch_end(self, epoch, logs={}):\n",
    "        pred = self.model.predict(np.array(self.X_train))\n",
    "        auc = roc_auc_score(self.y_train, pred)\n",
    "        print(\"Train AUC: \" + str(auc))\n",
    "        pred = self.model.predict(self.validation_data[0])\n",
    "        auc = roc_auc_score(self.validation_data[1], pred)\n",
    "        print (\"Validation AUC: \" + str(auc))\n",
    "        if (self.bestAUC < auc) :\n",
    "            self.bestAUC = auc\n",
    "            self.model.save(\"bestNet.h5\", overwrite=True)\n",
    "        return"
   ]
  },
  {
   "cell_type": "code",
   "execution_count": 23,
   "metadata": {},
   "outputs": [
    {
     "name": "stdout",
     "output_type": "stream",
     "text": [
      "Train on 4460741 samples, validate on 4460742 samples\n",
      "Epoch 1/20\n",
      "4460741/4460741 [==============================] - 68s 15us/step - loss: 0.6809 - acc: 0.5682 - val_loss: 0.6843 - val_acc: 0.5397\n",
      "Train AUC: 0.5956970567859148\n",
      "Validation AUC: 0.5958255691362411\n",
      "Epoch 2/20\n",
      "4460741/4460741 [==============================] - 130s 29us/step - loss: 0.6796 - acc: 0.5713 - val_loss: 0.6826 - val_acc: 0.5458\n",
      "Train AUC: 0.594784387193786\n",
      "Validation AUC: 0.594925299695099\n",
      "Epoch 3/20\n",
      "4460741/4460741 [==============================] - 67s 15us/step - loss: 0.6795 - acc: 0.5714 - val_loss: 0.6830 - val_acc: 0.5445\n",
      "Train AUC: 0.5950191573938716\n",
      "Validation AUC: 0.5952047500529727\n",
      "Epoch 4/20\n",
      "4460741/4460741 [==============================] - 105s 23us/step - loss: 0.6790 - acc: 0.5728 - val_loss: 0.6840 - val_acc: 0.5395\n",
      "Train AUC: 0.5948202387306923\n",
      "Validation AUC: 0.5950327624329301\n",
      "Epoch 5/20\n",
      "4460741/4460741 [==============================] - 78s 18us/step - loss: 0.6786 - acc: 0.5736 - val_loss: 0.6842 - val_acc: 0.5394\n",
      "Train AUC: 0.5950236091658783\n",
      "Validation AUC: 0.5952409272885325\n",
      "Epoch 6/20\n",
      "4460741/4460741 [==============================] - 96s 21us/step - loss: 0.6784 - acc: 0.5746 - val_loss: 0.6836 - val_acc: 0.5414\n",
      "Train AUC: 0.595525686071821\n",
      "Validation AUC: 0.5957311559472787\n",
      "Epoch 7/20\n",
      "4460741/4460741 [==============================] - 74s 17us/step - loss: 0.6782 - acc: 0.5751 - val_loss: 0.6829 - val_acc: 0.5447\n",
      "Train AUC: 0.5950332823153176\n",
      "Validation AUC: 0.5952478692457148\n",
      "Epoch 8/20\n",
      "4460741/4460741 [==============================] - 87s 20us/step - loss: 0.6782 - acc: 0.5751 - val_loss: 0.6831 - val_acc: 0.5439\n",
      "Train AUC: 0.5944921776470895\n",
      "Validation AUC: 0.5947108137058621\n",
      "Epoch 9/20\n",
      "4460741/4460741 [==============================] - 83s 19us/step - loss: 0.6780 - acc: 0.5756 - val_loss: 0.6838 - val_acc: 0.5410\n",
      "Train AUC: 0.5940963378863917\n",
      "Validation AUC: 0.594322885886121\n",
      "Epoch 10/20\n",
      "4460741/4460741 [==============================] - 93s 21us/step - loss: 0.6782 - acc: 0.5752 - val_loss: 0.6835 - val_acc: 0.5423\n",
      "Train AUC: 0.5945301347629932\n",
      "Validation AUC: 0.5947471318028185\n",
      "Epoch 11/20\n",
      "4460741/4460741 [==============================] - 77s 17us/step - loss: 0.6780 - acc: 0.5761 - val_loss: 0.6840 - val_acc: 0.5404\n",
      "Train AUC: 0.5943733752563096\n",
      "Validation AUC: 0.5945832878335852\n",
      "Epoch 12/20\n",
      "4460741/4460741 [==============================] - 104s 23us/step - loss: 0.6776 - acc: 0.5774 - val_loss: 0.6842 - val_acc: 0.5391\n",
      "Train AUC: 0.5937416364488317\n",
      "Validation AUC: 0.593978735488165\n",
      "Epoch 13/20\n",
      "4460741/4460741 [==============================] - 76s 17us/step - loss: 0.6774 - acc: 0.5772 - val_loss: 0.6839 - val_acc: 0.5407\n",
      "Train AUC: 0.594019912471203\n",
      "Validation AUC: 0.5942586060302145\n",
      "Epoch 14/20\n",
      "4460741/4460741 [==============================] - 92s 21us/step - loss: 0.6773 - acc: 0.5779 - val_loss: 0.6834 - val_acc: 0.5421\n",
      "Train AUC: 0.594065840790046\n",
      "Validation AUC: 0.5943030433656197\n",
      "Epoch 15/20\n",
      "4460741/4460741 [==============================] - 86s 19us/step - loss: 0.6773 - acc: 0.5778 - val_loss: 0.6837 - val_acc: 0.5415\n",
      "Train AUC: 0.5940937171819498\n",
      "Validation AUC: 0.5943211820280312\n",
      "Epoch 16/20\n",
      "4460741/4460741 [==============================] - 97s 22us/step - loss: 0.6771 - acc: 0.5784 - val_loss: 0.6849 - val_acc: 0.5369\n",
      "Train AUC: 0.5933628770040345\n",
      "Validation AUC: 0.5936025618632252\n",
      "Epoch 17/20\n",
      "4460741/4460741 [==============================] - 86s 19us/step - loss: 0.6769 - acc: 0.5789 - val_loss: 0.6842 - val_acc: 0.5393\n",
      "Train AUC: 0.5932098230162834\n",
      "Validation AUC: 0.5934484793852541\n",
      "Epoch 18/20\n",
      "4460741/4460741 [==============================] - 93s 21us/step - loss: 0.6769 - acc: 0.5789 - val_loss: 0.6847 - val_acc: 0.5365\n",
      "Train AUC: 0.5932022118113628\n",
      "Validation AUC: 0.5934552660637532\n",
      "Epoch 19/20\n",
      "4460741/4460741 [==============================] - 78s 18us/step - loss: 0.6768 - acc: 0.5792 - val_loss: 0.6845 - val_acc: 0.5380\n",
      "Train AUC: 0.5933357179639113\n",
      "Validation AUC: 0.5935674132321542\n",
      "Epoch 20/20\n",
      "4460741/4460741 [==============================] - 98s 22us/step - loss: 0.6767 - acc: 0.5795 - val_loss: 0.6836 - val_acc: 0.5420\n",
      "Train AUC: 0.5931353550877727\n",
      "Validation AUC: 0.5933726386884353\n"
     ]
    },
    {
     "data": {
      "text/plain": [
       "<keras.callbacks.History at 0x7fe932c47898>"
      ]
     },
     "execution_count": 23,
     "metadata": {},
     "output_type": "execute_result"
    }
   ],
   "source": [
    "# TRAIN MODEL\n",
    "model.fit(X_train,y_train, batch_size=int(X_train.shape[0]/100), epochs = 20, callbacks=[annealer,\n",
    "          printAUC(X_train, y_train)], validation_data = (X_test,y_test), verbose=1)\n",
    "\n",
    "# model.fit(X_train,y_train, batch_size=int(X_train.shape[0]/100), epochs = 20, callbacks=[annealer,\n",
    "#           printAUC(X_train, y_train)], verbose=1)"
   ]
  },
  {
   "cell_type": "code",
   "execution_count": null,
   "metadata": {},
   "outputs": [],
   "source": []
  },
  {
   "cell_type": "code",
   "execution_count": null,
   "metadata": {},
   "outputs": [],
   "source": []
  },
  {
   "cell_type": "code",
   "execution_count": null,
   "metadata": {},
   "outputs": [],
   "source": []
  },
  {
   "cell_type": "code",
   "execution_count": null,
   "metadata": {},
   "outputs": [],
   "source": []
  },
  {
   "cell_type": "code",
   "execution_count": null,
   "metadata": {},
   "outputs": [],
   "source": [
    "model.predict_proba(X_test)"
   ]
  },
  {
   "cell_type": "markdown",
   "metadata": {},
   "source": [
    "# Prediction"
   ]
  },
  {
   "cell_type": "code",
   "execution_count": null,
   "metadata": {},
   "outputs": [],
   "source": []
  },
  {
   "cell_type": "code",
   "execution_count": 65,
   "metadata": {},
   "outputs": [
    {
     "name": "stdout",
     "output_type": "stream",
     "text": [
      "Cargando datos del TEST\n"
     ]
    }
   ],
   "source": [
    "print('Cargando datos del TEST')\n",
    "path = '../../data/test_final_3'\n",
    "allFiles = glob.glob(path + \"/*.csv\")\n",
    "list_ = []\n",
    "for file_ in allFiles:\n",
    "    df = pd.read_csv(file_)\n",
    "    df = (df.fillna(-1)).astype(schema_train_3)\n",
    "    list_.append(df)\n",
    "\n",
    "\n",
    "test = pd.concat(list_, axis = 0, ignore_index = True).fillna(-1)\n",
    "\n",
    "sel_cols = [c for c in test.columns if c not in ['MachineIdentifier',\n",
    "                                                 'HasDetections',\n",
    "                                                 'Census_DeviceFamily_Windows.Server',\n",
    "                                                 'Census_DeviceFamily_Windows.Desktop'\n",
    "                                                 ]\n",
    "            ]\n",
    "\n",
    "X_test = test.loc[:, sel_cols]"
   ]
  },
  {
   "cell_type": "code",
   "execution_count": null,
   "metadata": {},
   "outputs": [],
   "source": []
  },
  {
   "cell_type": "code",
   "execution_count": null,
   "metadata": {},
   "outputs": [],
   "source": []
  },
  {
   "cell_type": "code",
   "execution_count": 29,
   "metadata": {},
   "outputs": [],
   "source": [
    "predictions = model.predict(X_test)"
   ]
  },
  {
   "cell_type": "code",
   "execution_count": 30,
   "metadata": {},
   "outputs": [
    {
     "data": {
      "text/plain": [
       "array([[0.44171727],\n",
       "       [0.55441296],\n",
       "       [0.43175006],\n",
       "       ...,\n",
       "       [0.42705053],\n",
       "       [0.38649637],\n",
       "       [0.46251813]], dtype=float32)"
      ]
     },
     "execution_count": 30,
     "metadata": {},
     "output_type": "execute_result"
    }
   ],
   "source": [
    "predictions"
   ]
  },
  {
   "cell_type": "code",
   "execution_count": 42,
   "metadata": {},
   "outputs": [],
   "source": [
    "predf= pd.DataFrame(predictions,columns=['HasDetections'])"
   ]
  },
  {
   "cell_type": "code",
   "execution_count": 52,
   "metadata": {},
   "outputs": [],
   "source": [
    "pd.concat([X_machines,predf],axis=1).to_csv('keras_model.csv', index=None)"
   ]
  },
  {
   "cell_type": "code",
   "execution_count": null,
   "metadata": {},
   "outputs": [],
   "source": []
  },
  {
   "cell_type": "code",
   "execution_count": 192,
   "metadata": {},
   "outputs": [
    {
     "ename": "NameError",
     "evalue": "name 'predictions' is not defined",
     "output_type": "error",
     "traceback": [
      "\u001b[0;31m---------------------------------------------------------------------------\u001b[0m",
      "\u001b[0;31mNameError\u001b[0m                                 Traceback (most recent call last)",
      "\u001b[0;32m<ipython-input-192-388f7e2854ad>\u001b[0m in \u001b[0;36m<module>\u001b[0;34m\u001b[0m\n\u001b[1;32m      2\u001b[0m \u001b[0;34m\u001b[0m\u001b[0m\n\u001b[1;32m      3\u001b[0m \u001b[0;34m\u001b[0m\u001b[0m\n\u001b[0;32m----> 4\u001b[0;31m \u001b[0mdf_prds\u001b[0m \u001b[0;34m=\u001b[0m \u001b[0mpd\u001b[0m\u001b[0;34m.\u001b[0m\u001b[0mDataFrame\u001b[0m\u001b[0;34m(\u001b[0m\u001b[0;34m{\u001b[0m\u001b[0;34m'MachineIdentifier'\u001b[0m\u001b[0;34m:\u001b[0m \u001b[0mX_machines\u001b[0m\u001b[0;34m,\u001b[0m \u001b[0;34m'HasDetections'\u001b[0m\u001b[0;34m:\u001b[0m \u001b[0mpredictions\u001b[0m\u001b[0;34m}\u001b[0m\u001b[0;34m)\u001b[0m\u001b[0;34m\u001b[0m\u001b[0;34m\u001b[0m\u001b[0m\n\u001b[0m\u001b[1;32m      5\u001b[0m \u001b[0;34m\u001b[0m\u001b[0m\n\u001b[1;32m      6\u001b[0m \u001b[0mdf_prds\u001b[0m\u001b[0;34m.\u001b[0m\u001b[0mto_csv\u001b[0m\u001b[0;34m(\u001b[0m\u001b[0;34m'keras_model.csv'\u001b[0m\u001b[0;34m,\u001b[0m \u001b[0mindex\u001b[0m\u001b[0;34m=\u001b[0m\u001b[0;32mNone\u001b[0m\u001b[0;34m)\u001b[0m\u001b[0;34m\u001b[0m\u001b[0;34m\u001b[0m\u001b[0m\n",
      "\u001b[0;31mNameError\u001b[0m: name 'predictions' is not defined"
     ]
    }
   ],
   "source": [
    "X_machines = test.loc[:, 'MachineIdentifier']\n",
    "\n",
    "\n",
    "df_prds = pd.DataFrame({'MachineIdentifier': X_machines, 'HasDetections': predictions})\n",
    "\n",
    "df_prds.to_csv('keras_model.csv', index=None)"
   ]
  },
  {
   "cell_type": "code",
   "execution_count": null,
   "metadata": {},
   "outputs": [],
   "source": []
  },
  {
   "cell_type": "code",
   "execution_count": 104,
   "metadata": {},
   "outputs": [],
   "source": [
    "del predictions"
   ]
  },
  {
   "cell_type": "markdown",
   "metadata": {},
   "source": [
    "### Save train in one file"
   ]
  },
  {
   "cell_type": "code",
   "execution_count": 64,
   "metadata": {},
   "outputs": [],
   "source": [
    "train.to_csv(\"train_uniq.csv\")"
   ]
  },
  {
   "cell_type": "code",
   "execution_count": 66,
   "metadata": {},
   "outputs": [],
   "source": [
    "test.to_csv(\"test_uniq.csv\")"
   ]
  }
 ],
 "metadata": {
  "kernelspec": {
   "display_name": "Python 3",
   "language": "python",
   "name": "python3"
  },
  "language_info": {
   "codemirror_mode": {
    "name": "ipython",
    "version": 3
   },
   "file_extension": ".py",
   "mimetype": "text/x-python",
   "name": "python",
   "nbconvert_exporter": "python",
   "pygments_lexer": "ipython3",
   "version": "3.6.7"
  }
 },
 "nbformat": 4,
 "nbformat_minor": 2
}
