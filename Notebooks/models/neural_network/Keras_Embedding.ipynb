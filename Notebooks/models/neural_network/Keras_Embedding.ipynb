{
 "cells": [
  {
   "cell_type": "code",
   "execution_count": 1,
   "metadata": {
    "scrolled": true
   },
   "outputs": [
    {
     "name": "stderr",
     "output_type": "stream",
     "text": [
      "Using TensorFlow backend.\n"
     ]
    }
   ],
   "source": [
    "import keras"
   ]
  },
  {
   "cell_type": "code",
   "execution_count": 2,
   "metadata": {},
   "outputs": [],
   "source": [
    "import pandas as pd\n",
    "import numpy as np\n",
    "import glob"
   ]
  },
  {
   "cell_type": "code",
   "execution_count": 3,
   "metadata": {},
   "outputs": [],
   "source": [
    "from utils.schemas import schema_train_4\n"
   ]
  },
  {
   "cell_type": "code",
   "execution_count": null,
   "metadata": {},
   "outputs": [],
   "source": []
  },
  {
   "cell_type": "markdown",
   "metadata": {},
   "source": [
    "# Load Data\n",
    "\n",
    "Para cargar los datos con pandas, voy a usar la misma forma que usamos en LightGBM"
   ]
  },
  {
   "cell_type": "code",
   "execution_count": 4,
   "metadata": {},
   "outputs": [
    {
     "name": "stdout",
     "output_type": "stream",
     "text": [
      "data_4.zip  df_num    test_final_4  train_final_4\r\n",
      "df_cat\t    test.csv  train.csv     train_model_little.csv\r\n"
     ]
    }
   ],
   "source": [
    "!ls ../../../data/"
   ]
  },
  {
   "cell_type": "code",
   "execution_count": 5,
   "metadata": {},
   "outputs": [],
   "source": [
    "RUTA_TRAIN = \"../../../data/train_model_little.csv\"\n",
    "RUTA_TEST = \"\""
   ]
  },
  {
   "cell_type": "code",
   "execution_count": null,
   "metadata": {},
   "outputs": [],
   "source": [
    "# print('Cargando datos del TRAIN')\n",
    "# path = RUTA_TRAIN\n",
    "# allFiles = glob.glob(path + \"/*.csv\")\n",
    "# list_ = []\n",
    "# for file_ in allFiles:\n",
    "#     df = pd.read_csv(file_)\n",
    "#     df = (df.fillna(-1)).astype(schema_train_4)\n",
    "#     list_.append(df)\n",
    "\n",
    "# train = pd.concat(list_, axis = 0, ignore_index= True)\n",
    "\n",
    "# train.head()"
   ]
  },
  {
   "cell_type": "code",
   "execution_count": null,
   "metadata": {},
   "outputs": [],
   "source": [
    "df = pd.read_csv(RUTA_TRAIN)\n",
    "df = (df.fillna(0)).astype(schema_train_4)\n",
    "\n",
    "train = df\n",
    "\n",
    "train.head()"
   ]
  },
  {
   "cell_type": "code",
   "execution_count": null,
   "metadata": {},
   "outputs": [],
   "source": []
  },
  {
   "cell_type": "code",
   "execution_count": 6,
   "metadata": {},
   "outputs": [],
   "source": [
    "df = pd.read_csv(RUTA_TRAIN)\n",
    "# df = (df.fillna(0)).astype(schema_train_4)\n",
    "df = (df).astype(schema_train_4)\n",
    "\n",
    "\n",
    "train = df\n",
    "\n",
    "# train.head()"
   ]
  },
  {
   "cell_type": "code",
   "execution_count": 7,
   "metadata": {},
   "outputs": [
    {
     "ename": "NameError",
     "evalue": "name 'categoricas' is not defined",
     "output_type": "error",
     "traceback": [
      "\u001b[0;31m---------------------------------------------------------------------------\u001b[0m",
      "\u001b[0;31mNameError\u001b[0m                                 Traceback (most recent call last)",
      "\u001b[0;32m<ipython-input-7-d1e6901b962b>\u001b[0m in \u001b[0;36m<module>\u001b[0;34m\u001b[0m\n\u001b[0;32m----> 1\u001b[0;31m \u001b[0mlen\u001b[0m\u001b[0;34m(\u001b[0m\u001b[0mdf\u001b[0m\u001b[0;34m[\u001b[0m\u001b[0mdf\u001b[0m\u001b[0;34m[\u001b[0m\u001b[0mcategoricas\u001b[0m\u001b[0;34m[\u001b[0m\u001b[0;36m0\u001b[0m\u001b[0;34m]\u001b[0m\u001b[0;34m]\u001b[0m \u001b[0;34m==\u001b[0m \u001b[0;34m-\u001b[0m\u001b[0;36m1\u001b[0m\u001b[0;34m]\u001b[0m\u001b[0;34m.\u001b[0m\u001b[0mvalues\u001b[0m\u001b[0;34m)\u001b[0m\u001b[0;34m\u001b[0m\u001b[0;34m\u001b[0m\u001b[0m\n\u001b[0m",
      "\u001b[0;31mNameError\u001b[0m: name 'categoricas' is not defined"
     ]
    }
   ],
   "source": [
    "len(df[df[categoricas[0]] == -1].values)"
   ]
  },
  {
   "cell_type": "code",
   "execution_count": 18,
   "metadata": {},
   "outputs": [
    {
     "name": "stdout",
     "output_type": "stream",
     "text": [
      "CityIdentifier\n",
      "OrganizationIdentifier\n",
      "IeVerIdentifier\n",
      "RtpStateBitfield\n"
     ]
    }
   ],
   "source": [
    "columns_bad = []\n",
    "for i in categoricas:\n",
    "    if(len(df[df[i] == -1].values)) > 0:\n",
    "        print(i)\n",
    "#         columns_bad.append(i)\n",
    "    \n",
    "        "
   ]
  },
  {
   "cell_type": "code",
   "execution_count": 19,
   "metadata": {},
   "outputs": [],
   "source": [
    "for i in columns_bad:\n",
    "     df.loc[df[i] == -1,i] = 99\n",
    "    "
   ]
  },
  {
   "cell_type": "code",
   "execution_count": null,
   "metadata": {},
   "outputs": [],
   "source": [
    "df.loc[df['CityIdentifier'] == -1,'CityIdentifier'] = 9999999"
   ]
  },
  {
   "cell_type": "code",
   "execution_count": null,
   "metadata": {},
   "outputs": [],
   "source": [
    "df.loc[df['OrganizationIdentifier'] == -1]"
   ]
  },
  {
   "cell_type": "code",
   "execution_count": null,
   "metadata": {},
   "outputs": [],
   "source": [
    "df['RtpStateBitfield']"
   ]
  },
  {
   "cell_type": "code",
   "execution_count": null,
   "metadata": {},
   "outputs": [],
   "source": [
    "df.columns"
   ]
  },
  {
   "cell_type": "code",
   "execution_count": null,
   "metadata": {},
   "outputs": [],
   "source": []
  },
  {
   "cell_type": "code",
   "execution_count": null,
   "metadata": {},
   "outputs": [],
   "source": []
  },
  {
   "cell_type": "markdown",
   "metadata": {},
   "source": [
    "## Generate X and Y "
   ]
  },
  {
   "cell_type": "code",
   "execution_count": 7,
   "metadata": {},
   "outputs": [],
   "source": [
    "drop_version = ['AvSigVersion_index', 'EngineVersion_index', 'Census_OSVersion_index', 'AppVersion_index']\n",
    "\n",
    "sel_cols = [c for c in train.columns if c not in ['MachineIdentifier',\n",
    "                                                      'HasDetections',\n",
    "                                                      'Census_DeviceFamily_Windows.Server',\n",
    "                                                      'Census_DeviceFamily_Windows.Desktop'\n",
    "                                                     ]+drop_version]"
   ]
  },
  {
   "cell_type": "code",
   "execution_count": 8,
   "metadata": {},
   "outputs": [],
   "source": [
    "X = train.loc[:, sel_cols]\n",
    "y = train.loc[:,'HasDetections']"
   ]
  },
  {
   "cell_type": "code",
   "execution_count": null,
   "metadata": {},
   "outputs": [],
   "source": []
  },
  {
   "cell_type": "markdown",
   "metadata": {},
   "source": [
    "## Train y test"
   ]
  },
  {
   "cell_type": "code",
   "execution_count": 9,
   "metadata": {},
   "outputs": [],
   "source": [
    "from sklearn.model_selection import train_test_split"
   ]
  },
  {
   "cell_type": "code",
   "execution_count": 10,
   "metadata": {},
   "outputs": [],
   "source": [
    "X_train, X_test, y_train, y_test = train_test_split(X,y, test_size=0.2)"
   ]
  },
  {
   "cell_type": "code",
   "execution_count": null,
   "metadata": {},
   "outputs": [],
   "source": []
  },
  {
   "cell_type": "code",
   "execution_count": 11,
   "metadata": {
    "scrolled": true
   },
   "outputs": [
    {
     "name": "stdout",
     "output_type": "stream",
     "text": [
      "X_train :(89188, 117)\n",
      "X_test :(22298, 117)\n",
      "y_train :(89188,)\n",
      "y_test :(22298,)\n"
     ]
    }
   ],
   "source": [
    "print(\"X_train :\"+str(X_train.shape))\n",
    "\n",
    "print(\"X_test :\"+str(X_test.shape))\n",
    "\n",
    "\n",
    "print(\"y_train :\"+str(y_train.shape))\n",
    "\n",
    "print(\"y_test :\"+str(y_test.shape))"
   ]
  },
  {
   "cell_type": "code",
   "execution_count": null,
   "metadata": {},
   "outputs": [],
   "source": []
  },
  {
   "cell_type": "markdown",
   "metadata": {},
   "source": [
    "# Keras Model"
   ]
  },
  {
   "cell_type": "code",
   "execution_count": 12,
   "metadata": {},
   "outputs": [],
   "source": [
    "\n",
    "\n",
    "from keras.models import Sequential,Model\n",
    "from keras.layers import Dense,Dropout,Embedding,Input,Concatenate,Reshape\n",
    "\n",
    "# from keras.wrappers.scikit_learn import KerasClassifier\n",
    "# from sklearn.model_selection import cross_val_score\n",
    "# from sklearn.preprocessing import LabelEncoder\n",
    "# from sklearn.model_selection import StratifiedKFold\n",
    "# from sklearn.preprocessing import StandardScaler\n",
    "# from sklearn.pipeline import Pipeline"
   ]
  },
  {
   "cell_type": "code",
   "execution_count": null,
   "metadata": {},
   "outputs": [],
   "source": [
    "dimension = X_train.shape[1]"
   ]
  },
  {
   "cell_type": "code",
   "execution_count": null,
   "metadata": {
    "scrolled": true
   },
   "outputs": [],
   "source": [
    "dimension"
   ]
  },
  {
   "cell_type": "code",
   "execution_count": null,
   "metadata": {},
   "outputs": [],
   "source": []
  },
  {
   "cell_type": "markdown",
   "metadata": {},
   "source": [
    "## Metrics"
   ]
  },
  {
   "cell_type": "markdown",
   "metadata": {},
   "source": [
    "### AUC 1\n",
    "\n",
    "Easy"
   ]
  },
  {
   "cell_type": "code",
   "execution_count": null,
   "metadata": {},
   "outputs": [],
   "source": [
    "from sklearn.metrics import roc_auc_score\n",
    "import tensorflow as tf\n",
    "\n",
    "def auroc(y_true, y_pred):\n",
    "    return tf.py_func(roc_auc_score, (y_true, y_pred), tf.double)"
   ]
  },
  {
   "cell_type": "code",
   "execution_count": null,
   "metadata": {},
   "outputs": [],
   "source": []
  },
  {
   "cell_type": "markdown",
   "metadata": {},
   "source": [
    "### AUC 2\n",
    "\n",
    "For Keras.\n",
    "\n",
    "A little more complex"
   ]
  },
  {
   "cell_type": "code",
   "execution_count": null,
   "metadata": {},
   "outputs": [],
   "source": [
    "from keras import callbacks\n",
    "from sklearn.metrics import roc_auc_score\n",
    "\n",
    "class printAUC(callbacks.Callback):\n",
    "    def __init__(self, X_train, y_train):\n",
    "        super(printAUC, self).__init__()\n",
    "        self.bestAUC = 0\n",
    "        self.X_train = X_train\n",
    "        self.y_train = y_train\n",
    "        \n",
    "    def on_epoch_end(self, epoch, logs={}):\n",
    "        pred = self.model.predict(np.array(self.X_train))\n",
    "        auc = roc_auc_score(self.y_train, pred)\n",
    "        print(\"Train AUC: \" + str(auc))\n",
    "        pred = self.model.predict(self.validation_data[0])\n",
    "        auc = roc_auc_score(self.validation_data[1], pred)\n",
    "        print (\"Validation AUC: \" + str(auc))\n",
    "        if (self.bestAUC < auc) :\n",
    "            self.bestAUC = auc\n",
    "            self.model.save(\"bestNet.h5\", overwrite=True)\n",
    "        return"
   ]
  },
  {
   "cell_type": "markdown",
   "metadata": {},
   "source": [
    "## EarlyStopping"
   ]
  },
  {
   "cell_type": "code",
   "execution_count": null,
   "metadata": {},
   "outputs": [],
   "source": []
  },
  {
   "cell_type": "code",
   "execution_count": null,
   "metadata": {},
   "outputs": [],
   "source": [
    "earlyStopping = keras.callbacks.EarlyStopping(monitor='auroc', patience=20, verbose=2,min_delta=0.01, mode='auto')"
   ]
  },
  {
   "cell_type": "code",
   "execution_count": null,
   "metadata": {},
   "outputs": [],
   "source": []
  },
  {
   "cell_type": "markdown",
   "metadata": {},
   "source": [
    "# Model work"
   ]
  },
  {
   "cell_type": "markdown",
   "metadata": {},
   "source": [
    "\n",
    "\n",
    "## Embedding Layers"
   ]
  },
  {
   "cell_type": "markdown",
   "metadata": {},
   "source": [
    "Primero, identificamos las variables categoricas"
   ]
  },
  {
   "cell_type": "code",
   "execution_count": 13,
   "metadata": {
    "scrolled": false
   },
   "outputs": [],
   "source": [
    "categoricas = ['ProductName_index','EngineVersion_0_index','EngineVersion_1_index','Census_OSVersion_0_index','Census_OSVersion_1_index','AppVersion_0_index','AppVersion_1_index','AvSigVersion_0_index','AvSigVersion_1_index','OsVer_0_index','OsVer_1_index','Platform_index','Processor_index','OsPlatformSubRelease_index','OsBuildLab_index','SkuEdition_index','PuaMode_index','SmartScreen_index','Census_MDC2FormFactor_index','Census_DeviceFamily_index','Census_ProcessorClass_index','Census_PrimaryDiskTypeName_index','Census_ChassisTypeName_index','Census_PowerPlatformRoleName_index','Census_InternalBatteryType_index','Census_OSArchitecture_index','Census_OSBranch_index','Census_OSEdition_index','Census_OSSkuName_index','Census_OSInstallTypeName_index','Census_OSWUAutoUpdateOptionsName_index','Census_GenuineStateName_index','Census_ActivationChannel_index','Census_FlightRing_index','OsVer_index','DefaultBrowsersIdentifier','AVProductStatesIdentifier','CountryIdentifier','CityIdentifier','OrganizationIdentifier','GeoNameIdentifier','LocaleEnglishNameIdentifier','IeVerIdentifier','Census_OEMNameIdentifier','Census_OEMModelIdentifier','Census_ProcessorManufacturerIdentifier','Census_ProcessorModelIdentifier','Census_OSInstallLanguageIdentifier','Census_OSUILocaleIdentifier','Census_FirmwareManufacturerIdentifier','Census_FirmwareVersionIdentifier','Wdft_RegionIdentifier','RtpStateBitfield','prediction_2','prediction_4','prediction_8','prediction_16','prediction_32','prediction_64']\n",
    "\n",
    "booleanas = ['Census_IsSecureBootEnabled','Census_IsWIMBootEnabled','Census_IsVirtualDevice','Census_IsTouchEnabled','Census_IsPenCapable','Census_IsAlwaysOnAlwaysConnectedCapable','Wdft_IsGamer','Census_IsPortableOperatingSystem','Census_IsFlightingInternal','Census_IsFlightsDisabled','IsProtected','IsBeta','IsSxsPassiveMode','AVProductsInstalled','AVProductsEnabled','HasTpm','Census_HasOpticalDiskDrive','Census_ThresholdOptIn','Census_InternalBatteryType_informed','Firewall','SMode','AutoSampleOptIn']\n",
    "\n",
    "numericas = ['OsBuild','OsSuite','UacLuaenable','Census_ProcessorCoreCount','Census_PrimaryDiskTotalCapacity','Census_SystemVolumeTotalCapacity','Census_TotalPhysicalRAM','Census_InternalPrimaryDiagonalDisplaySizeInInches','Census_InternalPrimaryDisplayResolutionHorizontal','Census_InternalPrimaryDisplayResolutionVertical','Census_InternalBatteryNumberOfCharges','Census_OSBuildNumber','Census_OSBuildRevision','OsBuildLab_diff','std_diff_DateOsBuildLab','AvSigVersion_diff','std_diff_AvSigVersion','OSVersion_diff','std_diff_OSVersion','max_OsBuildLab_diff','max_AvSigVersion_diff','max_OSVersion_diff','ratio_OsBuildLab_diff','ratio_AvSigVersion_diff','ratio_OSVersion_diff','count(DISTINCT AvSigVersion_Name)','count(DISTINCT AvSigVersion_Type)','count(DISTINCT AvSigVersion_AlertLevel)','count1','count2','count3','count4','count5','count6','count7','count8']"
   ]
  },
  {
   "cell_type": "code",
   "execution_count": null,
   "metadata": {},
   "outputs": [],
   "source": []
  },
  {
   "cell_type": "code",
   "execution_count": null,
   "metadata": {},
   "outputs": [],
   "source": []
  },
  {
   "cell_type": "code",
   "execution_count": 14,
   "metadata": {},
   "outputs": [
    {
     "name": "stdout",
     "output_type": "stream",
     "text": [
      "RtpStateBitfield\n",
      "CityIdentifier\n",
      "OrganizationIdentifier\n",
      "IeVerIdentifier\n"
     ]
    },
    {
     "name": "stderr",
     "output_type": "stream",
     "text": [
      "/home/rde/stuff_workspace/2_Kaggle/kaggle_microsoft/enviroment/lib/python3.6/site-packages/pandas/core/indexing.py:543: SettingWithCopyWarning: \n",
      "A value is trying to be set on a copy of a slice from a DataFrame.\n",
      "Try using .loc[row_indexer,col_indexer] = value instead\n",
      "\n",
      "See the caveats in the documentation: http://pandas.pydata.org/pandas-docs/stable/indexing.html#indexing-view-versus-copy\n",
      "  self.obj[item] = s\n"
     ]
    },
    {
     "name": "stdout",
     "output_type": "stream",
     "text": [
      "UacLuaenable\n",
      "Census_InternalBatteryNumberOfCharges\n",
      "count(DISTINCT AvSigVersion_Name)\n",
      "count(DISTINCT AvSigVersion_Type)\n",
      "count(DISTINCT AvSigVersion_AlertLevel)\n"
     ]
    }
   ],
   "source": [
    "for i in list(X_train.columns):\n",
    "    if(len(X_train[X_train[i] == -1].values)) > 0:\n",
    "        print(i)\n",
    "        X_train.loc[X_train[i] == -1,i] = 99\n",
    "#         columns_bad.append(i)"
   ]
  },
  {
   "cell_type": "code",
   "execution_count": 15,
   "metadata": {},
   "outputs": [],
   "source": [
    "for i in list(X_train.columns):\n",
    "    if(len(X_train[X_train[i] == -1].values)) > 0:\n",
    "        print(i)"
   ]
  },
  {
   "cell_type": "code",
   "execution_count": null,
   "metadata": {},
   "outputs": [],
   "source": []
  },
  {
   "cell_type": "code",
   "execution_count": null,
   "metadata": {},
   "outputs": [],
   "source": []
  },
  {
   "cell_type": "markdown",
   "metadata": {},
   "source": [
    "\n",
    "```py\n",
    "input_numeric = Input(shape=(24,))\n",
    "embedding_numeric = Dense(16)(input_numeric) \n",
    "inputs.append(input_numeric)\n",
    "embeddings.append(embedding_numeric)\n",
    "\n",
    "x = Concatenate()(embeddings)\n",
    "x = Dense(80, activation='relu')(x)\n",
    "x = Dropout(.35)(x)\n",
    "x = Dense(20, activation='relu')(x)\n",
    "x = Dropout(.15)(x)\n",
    "x = Dense(10, activation='relu')(x)\n",
    "x = Dropout(.15)(x)\n",
    "output = Dense(1, activation='sigmoid')(x)\n",
    "```"
   ]
  },
  {
   "cell_type": "code",
   "execution_count": 47,
   "metadata": {
    "scrolled": false
   },
   "outputs": [],
   "source": [
    "realcat=[]\n",
    "ins = []\n",
    "outs = []\n",
    "for i in categoricas:\n",
    "    if X_train[i].nunique() < 300:\n",
    "        realcat.append(i)\n",
    "        x = Input(shape=(1,),name='input_'+i)\n",
    "        ins.append(x)\n",
    "        x = Embedding(X_train[i].max()+1, X_train[i].max()+1, input_length=1,name='embedding_'+i)(x)\n",
    "        x = Reshape(name='reshape_'+i,target_shape=(X_train[i].max()+1,))(x)\n",
    "        outs.append(x)\n",
    "    \n",
    "# for i in booleanas:\n",
    "#     x = Input(shape=(1,))\n",
    "#     ins.append(x)   \n",
    "#     x = Embedding(df[i].nunique(), df[i].nunique(), input_length=1)(x)\n",
    "#     x = Reshape(target_shape=(df[i].nunique(),))(x)\n",
    "#     outs.append(x)"
   ]
  },
  {
   "cell_type": "markdown",
   "metadata": {},
   "source": [
    "## Network Architecture"
   ]
  },
  {
   "cell_type": "code",
   "execution_count": 49,
   "metadata": {},
   "outputs": [
    {
     "data": {
      "text/plain": [
       "58"
      ]
     },
     "execution_count": 49,
     "metadata": {},
     "output_type": "execute_result"
    }
   ],
   "source": [
    "primer_input_len = len(numericas+booleanas)\n",
    "primer_input_len"
   ]
  },
  {
   "cell_type": "code",
   "execution_count": 50,
   "metadata": {},
   "outputs": [],
   "source": [
    "len_batch_size = int(X_train.shape[0]/1000)\n",
    "epochs_to_train = 15"
   ]
  },
  {
   "cell_type": "code",
   "execution_count": 51,
   "metadata": {
    "scrolled": false
   },
   "outputs": [],
   "source": [
    "x = Input(shape=(primer_input_len, ),name=\"Categoricas_Booleanas\")\n",
    "ins.append(x)\n",
    "# x = Dense(50)(x) \n",
    "# outs.append(x)\n",
    "\n",
    "x = Concatenate()(outs)\n",
    "#then continue making NN\n",
    "x = Dense(100, activation='relu')(x)\n",
    "x = Dense(100, activation='relu')(x)\n",
    "# x = Dense(1, activation='sigmoid')(x)\n",
    "output = Dense(1, activation='sigmoid')(x)\n",
    "\n",
    "model = Model(inputs=ins, outputs=output)\n",
    "model.compile(loss='binary_crossentropy', optimizer='adam',metrics = ['acc'])\n",
    "#model.fit( [X_train[col] for col in ListCategorical] + [X_train[ListNonCategorical]], "
   ]
  },
  {
   "cell_type": "markdown",
   "metadata": {},
   "source": [
    "### Save model to view"
   ]
  },
  {
   "cell_type": "code",
   "execution_count": 30,
   "metadata": {},
   "outputs": [],
   "source": [
    "# import keras.utils.vis_utils"
   ]
  },
  {
   "cell_type": "code",
   "execution_count": 45,
   "metadata": {},
   "outputs": [],
   "source": [
    "# model.save(\"modelo2.h5\")"
   ]
  },
  {
   "cell_type": "code",
   "execution_count": null,
   "metadata": {},
   "outputs": [],
   "source": []
  },
  {
   "cell_type": "markdown",
   "metadata": {},
   "source": [
    "## FIT!"
   ]
  },
  {
   "cell_type": "code",
   "execution_count": 40,
   "metadata": {},
   "outputs": [
    {
     "name": "stdout",
     "output_type": "stream",
     "text": [
      "WARNING:tensorflow:From /home/rde/stuff_workspace/2_Kaggle/kaggle_microsoft/enviroment/lib/python3.6/site-packages/tensorflow/python/ops/math_ops.py:3066: to_int32 (from tensorflow.python.ops.math_ops) is deprecated and will be removed in a future version.\n",
      "Instructions for updating:\n",
      "Use tf.cast instead.\n",
      "Epoch 1/15\n",
      " 4672/89188 [>.............................] - ETA: 5:55 - loss: 0.6940 - acc: 0.5116"
     ]
    },
    {
     "ename": "KeyboardInterrupt",
     "evalue": "",
     "output_type": "error",
     "traceback": [
      "\u001b[0;31m---------------------------------------------------------------------------\u001b[0m",
      "\u001b[0;31mKeyboardInterrupt\u001b[0m                         Traceback (most recent call last)",
      "\u001b[0;32m<ipython-input-40-045876da6b92>\u001b[0m in \u001b[0;36m<module>\u001b[0;34m\u001b[0m\n\u001b[1;32m      1\u001b[0m model.fit( [X_train[col] for col in realcat] +  [X_train[numericas+booleanas]], \n\u001b[1;32m      2\u001b[0m            \u001b[0my_train\u001b[0m\u001b[0;34m,\u001b[0m\u001b[0;34m\u001b[0m\u001b[0;34m\u001b[0m\u001b[0m\n\u001b[0;32m----> 3\u001b[0;31m           epochs=epochs_to_train)\n\u001b[0m\u001b[1;32m      4\u001b[0m \u001b[0;31m#           validation_data = ([X_test[col] for col in realcat] +  [X_test[numericas+booleanas]],y_test))\u001b[0m\u001b[0;34m\u001b[0m\u001b[0;34m\u001b[0m\u001b[0;34m\u001b[0m\u001b[0m\n",
      "\u001b[0;32m~/stuff_workspace/2_Kaggle/kaggle_microsoft/enviroment/lib/python3.6/site-packages/keras/engine/training.py\u001b[0m in \u001b[0;36mfit\u001b[0;34m(self, x, y, batch_size, epochs, verbose, callbacks, validation_split, validation_data, shuffle, class_weight, sample_weight, initial_epoch, steps_per_epoch, validation_steps, **kwargs)\u001b[0m\n\u001b[1;32m   1037\u001b[0m                                         \u001b[0minitial_epoch\u001b[0m\u001b[0;34m=\u001b[0m\u001b[0minitial_epoch\u001b[0m\u001b[0;34m,\u001b[0m\u001b[0;34m\u001b[0m\u001b[0;34m\u001b[0m\u001b[0m\n\u001b[1;32m   1038\u001b[0m                                         \u001b[0msteps_per_epoch\u001b[0m\u001b[0;34m=\u001b[0m\u001b[0msteps_per_epoch\u001b[0m\u001b[0;34m,\u001b[0m\u001b[0;34m\u001b[0m\u001b[0;34m\u001b[0m\u001b[0m\n\u001b[0;32m-> 1039\u001b[0;31m                                         validation_steps=validation_steps)\n\u001b[0m\u001b[1;32m   1040\u001b[0m \u001b[0;34m\u001b[0m\u001b[0m\n\u001b[1;32m   1041\u001b[0m     def evaluate(self, x=None, y=None,\n",
      "\u001b[0;32m~/stuff_workspace/2_Kaggle/kaggle_microsoft/enviroment/lib/python3.6/site-packages/keras/engine/training_arrays.py\u001b[0m in \u001b[0;36mfit_loop\u001b[0;34m(model, f, ins, out_labels, batch_size, epochs, verbose, callbacks, val_f, val_ins, shuffle, callback_metrics, initial_epoch, steps_per_epoch, validation_steps)\u001b[0m\n\u001b[1;32m    197\u001b[0m                     \u001b[0mins_batch\u001b[0m\u001b[0;34m[\u001b[0m\u001b[0mi\u001b[0m\u001b[0;34m]\u001b[0m \u001b[0;34m=\u001b[0m \u001b[0mins_batch\u001b[0m\u001b[0;34m[\u001b[0m\u001b[0mi\u001b[0m\u001b[0;34m]\u001b[0m\u001b[0;34m.\u001b[0m\u001b[0mtoarray\u001b[0m\u001b[0;34m(\u001b[0m\u001b[0;34m)\u001b[0m\u001b[0;34m\u001b[0m\u001b[0;34m\u001b[0m\u001b[0m\n\u001b[1;32m    198\u001b[0m \u001b[0;34m\u001b[0m\u001b[0m\n\u001b[0;32m--> 199\u001b[0;31m                 \u001b[0mouts\u001b[0m \u001b[0;34m=\u001b[0m \u001b[0mf\u001b[0m\u001b[0;34m(\u001b[0m\u001b[0mins_batch\u001b[0m\u001b[0;34m)\u001b[0m\u001b[0;34m\u001b[0m\u001b[0;34m\u001b[0m\u001b[0m\n\u001b[0m\u001b[1;32m    200\u001b[0m                 \u001b[0mouts\u001b[0m \u001b[0;34m=\u001b[0m \u001b[0mto_list\u001b[0m\u001b[0;34m(\u001b[0m\u001b[0mouts\u001b[0m\u001b[0;34m)\u001b[0m\u001b[0;34m\u001b[0m\u001b[0;34m\u001b[0m\u001b[0m\n\u001b[1;32m    201\u001b[0m                 \u001b[0;32mfor\u001b[0m \u001b[0ml\u001b[0m\u001b[0;34m,\u001b[0m \u001b[0mo\u001b[0m \u001b[0;32min\u001b[0m \u001b[0mzip\u001b[0m\u001b[0;34m(\u001b[0m\u001b[0mout_labels\u001b[0m\u001b[0;34m,\u001b[0m \u001b[0mouts\u001b[0m\u001b[0;34m)\u001b[0m\u001b[0;34m:\u001b[0m\u001b[0;34m\u001b[0m\u001b[0;34m\u001b[0m\u001b[0m\n",
      "\u001b[0;32m~/stuff_workspace/2_Kaggle/kaggle_microsoft/enviroment/lib/python3.6/site-packages/keras/backend/tensorflow_backend.py\u001b[0m in \u001b[0;36m__call__\u001b[0;34m(self, inputs)\u001b[0m\n\u001b[1;32m   2713\u001b[0m                 \u001b[0;32mreturn\u001b[0m \u001b[0mself\u001b[0m\u001b[0;34m.\u001b[0m\u001b[0m_legacy_call\u001b[0m\u001b[0;34m(\u001b[0m\u001b[0minputs\u001b[0m\u001b[0;34m)\u001b[0m\u001b[0;34m\u001b[0m\u001b[0;34m\u001b[0m\u001b[0m\n\u001b[1;32m   2714\u001b[0m \u001b[0;34m\u001b[0m\u001b[0m\n\u001b[0;32m-> 2715\u001b[0;31m             \u001b[0;32mreturn\u001b[0m \u001b[0mself\u001b[0m\u001b[0;34m.\u001b[0m\u001b[0m_call\u001b[0m\u001b[0;34m(\u001b[0m\u001b[0minputs\u001b[0m\u001b[0;34m)\u001b[0m\u001b[0;34m\u001b[0m\u001b[0;34m\u001b[0m\u001b[0m\n\u001b[0m\u001b[1;32m   2716\u001b[0m         \u001b[0;32melse\u001b[0m\u001b[0;34m:\u001b[0m\u001b[0;34m\u001b[0m\u001b[0;34m\u001b[0m\u001b[0m\n\u001b[1;32m   2717\u001b[0m             \u001b[0;32mif\u001b[0m \u001b[0mpy_any\u001b[0m\u001b[0;34m(\u001b[0m\u001b[0mis_tensor\u001b[0m\u001b[0;34m(\u001b[0m\u001b[0mx\u001b[0m\u001b[0;34m)\u001b[0m \u001b[0;32mfor\u001b[0m \u001b[0mx\u001b[0m \u001b[0;32min\u001b[0m \u001b[0minputs\u001b[0m\u001b[0;34m)\u001b[0m\u001b[0;34m:\u001b[0m\u001b[0;34m\u001b[0m\u001b[0;34m\u001b[0m\u001b[0m\n",
      "\u001b[0;32m~/stuff_workspace/2_Kaggle/kaggle_microsoft/enviroment/lib/python3.6/site-packages/keras/backend/tensorflow_backend.py\u001b[0m in \u001b[0;36m_call\u001b[0;34m(self, inputs)\u001b[0m\n\u001b[1;32m   2673\u001b[0m             \u001b[0mfetched\u001b[0m \u001b[0;34m=\u001b[0m \u001b[0mself\u001b[0m\u001b[0;34m.\u001b[0m\u001b[0m_callable_fn\u001b[0m\u001b[0;34m(\u001b[0m\u001b[0;34m*\u001b[0m\u001b[0marray_vals\u001b[0m\u001b[0;34m,\u001b[0m \u001b[0mrun_metadata\u001b[0m\u001b[0;34m=\u001b[0m\u001b[0mself\u001b[0m\u001b[0;34m.\u001b[0m\u001b[0mrun_metadata\u001b[0m\u001b[0;34m)\u001b[0m\u001b[0;34m\u001b[0m\u001b[0;34m\u001b[0m\u001b[0m\n\u001b[1;32m   2674\u001b[0m         \u001b[0;32melse\u001b[0m\u001b[0;34m:\u001b[0m\u001b[0;34m\u001b[0m\u001b[0;34m\u001b[0m\u001b[0m\n\u001b[0;32m-> 2675\u001b[0;31m             \u001b[0mfetched\u001b[0m \u001b[0;34m=\u001b[0m \u001b[0mself\u001b[0m\u001b[0;34m.\u001b[0m\u001b[0m_callable_fn\u001b[0m\u001b[0;34m(\u001b[0m\u001b[0;34m*\u001b[0m\u001b[0marray_vals\u001b[0m\u001b[0;34m)\u001b[0m\u001b[0;34m\u001b[0m\u001b[0;34m\u001b[0m\u001b[0m\n\u001b[0m\u001b[1;32m   2676\u001b[0m         \u001b[0;32mreturn\u001b[0m \u001b[0mfetched\u001b[0m\u001b[0;34m[\u001b[0m\u001b[0;34m:\u001b[0m\u001b[0mlen\u001b[0m\u001b[0;34m(\u001b[0m\u001b[0mself\u001b[0m\u001b[0;34m.\u001b[0m\u001b[0moutputs\u001b[0m\u001b[0;34m)\u001b[0m\u001b[0;34m]\u001b[0m\u001b[0;34m\u001b[0m\u001b[0;34m\u001b[0m\u001b[0m\n\u001b[1;32m   2677\u001b[0m \u001b[0;34m\u001b[0m\u001b[0m\n",
      "\u001b[0;32m~/stuff_workspace/2_Kaggle/kaggle_microsoft/enviroment/lib/python3.6/site-packages/tensorflow/python/client/session.py\u001b[0m in \u001b[0;36m__call__\u001b[0;34m(self, *args, **kwargs)\u001b[0m\n\u001b[1;32m   1437\u001b[0m           ret = tf_session.TF_SessionRunCallable(\n\u001b[1;32m   1438\u001b[0m               \u001b[0mself\u001b[0m\u001b[0;34m.\u001b[0m\u001b[0m_session\u001b[0m\u001b[0;34m.\u001b[0m\u001b[0m_session\u001b[0m\u001b[0;34m,\u001b[0m \u001b[0mself\u001b[0m\u001b[0;34m.\u001b[0m\u001b[0m_handle\u001b[0m\u001b[0;34m,\u001b[0m \u001b[0margs\u001b[0m\u001b[0;34m,\u001b[0m \u001b[0mstatus\u001b[0m\u001b[0;34m,\u001b[0m\u001b[0;34m\u001b[0m\u001b[0;34m\u001b[0m\u001b[0m\n\u001b[0;32m-> 1439\u001b[0;31m               run_metadata_ptr)\n\u001b[0m\u001b[1;32m   1440\u001b[0m         \u001b[0;32mif\u001b[0m \u001b[0mrun_metadata\u001b[0m\u001b[0;34m:\u001b[0m\u001b[0;34m\u001b[0m\u001b[0;34m\u001b[0m\u001b[0m\n\u001b[1;32m   1441\u001b[0m           \u001b[0mproto_data\u001b[0m \u001b[0;34m=\u001b[0m \u001b[0mtf_session\u001b[0m\u001b[0;34m.\u001b[0m\u001b[0mTF_GetBuffer\u001b[0m\u001b[0;34m(\u001b[0m\u001b[0mrun_metadata_ptr\u001b[0m\u001b[0;34m)\u001b[0m\u001b[0;34m\u001b[0m\u001b[0;34m\u001b[0m\u001b[0m\n",
      "\u001b[0;31mKeyboardInterrupt\u001b[0m: "
     ]
    }
   ],
   "source": [
    "model.fit( [X_train[col] for col in realcat] +  [X_train[numericas+booleanas]], \n",
    "           y_train,\n",
    "          epochs=epochs_to_train)\n",
    "#           validation_data = ([X_test[col] for col in realcat] +  [X_test[numericas+booleanas]],y_test))"
   ]
  },
  {
   "cell_type": "code",
   "execution_count": 52,
   "metadata": {
    "scrolled": true
   },
   "outputs": [
    {
     "name": "stdout",
     "output_type": "stream",
     "text": [
      "__________________________________________________________________________________________________\n",
      "Layer (type)                    Output Shape         Param #     Connected to                     \n",
      "==================================================================================================\n",
      "input_ProductName_index (InputL (None, 1)            0                                            \n",
      "__________________________________________________________________________________________________\n",
      "input_EngineVersion_0_index (In (None, 1)            0                                            \n",
      "__________________________________________________________________________________________________\n",
      "input_EngineVersion_1_index (In (None, 1)            0                                            \n",
      "__________________________________________________________________________________________________\n",
      "input_Census_OSVersion_0_index  (None, 1)            0                                            \n",
      "__________________________________________________________________________________________________\n",
      "input_Census_OSVersion_1_index  (None, 1)            0                                            \n",
      "__________________________________________________________________________________________________\n",
      "input_AppVersion_0_index (Input (None, 1)            0                                            \n",
      "__________________________________________________________________________________________________\n",
      "input_AppVersion_1_index (Input (None, 1)            0                                            \n",
      "__________________________________________________________________________________________________\n",
      "input_AvSigVersion_0_index (Inp (None, 1)            0                                            \n",
      "__________________________________________________________________________________________________\n",
      "input_OsVer_0_index (InputLayer (None, 1)            0                                            \n",
      "__________________________________________________________________________________________________\n",
      "input_OsVer_1_index (InputLayer (None, 1)            0                                            \n",
      "__________________________________________________________________________________________________\n",
      "input_Platform_index (InputLaye (None, 1)            0                                            \n",
      "__________________________________________________________________________________________________\n",
      "input_Processor_index (InputLay (None, 1)            0                                            \n",
      "__________________________________________________________________________________________________\n",
      "input_OsPlatformSubRelease_inde (None, 1)            0                                            \n",
      "__________________________________________________________________________________________________\n",
      "input_SkuEdition_index (InputLa (None, 1)            0                                            \n",
      "__________________________________________________________________________________________________\n",
      "input_PuaMode_index (InputLayer (None, 1)            0                                            \n",
      "__________________________________________________________________________________________________\n",
      "input_SmartScreen_index (InputL (None, 1)            0                                            \n",
      "__________________________________________________________________________________________________\n",
      "input_Census_MDC2FormFactor_ind (None, 1)            0                                            \n",
      "__________________________________________________________________________________________________\n",
      "input_Census_DeviceFamily_index (None, 1)            0                                            \n",
      "__________________________________________________________________________________________________\n",
      "input_Census_ProcessorClass_ind (None, 1)            0                                            \n",
      "__________________________________________________________________________________________________\n",
      "input_Census_PrimaryDiskTypeNam (None, 1)            0                                            \n",
      "__________________________________________________________________________________________________\n",
      "input_Census_ChassisTypeName_in (None, 1)            0                                            \n",
      "__________________________________________________________________________________________________\n",
      "input_Census_PowerPlatformRoleN (None, 1)            0                                            \n",
      "__________________________________________________________________________________________________\n",
      "input_Census_InternalBatteryTyp (None, 1)            0                                            \n",
      "__________________________________________________________________________________________________\n",
      "input_Census_OSArchitecture_ind (None, 1)            0                                            \n",
      "__________________________________________________________________________________________________\n",
      "input_Census_OSBranch_index (In (None, 1)            0                                            \n",
      "__________________________________________________________________________________________________\n",
      "input_Census_OSEdition_index (I (None, 1)            0                                            \n",
      "__________________________________________________________________________________________________\n",
      "input_Census_OSSkuName_index (I (None, 1)            0                                            \n",
      "__________________________________________________________________________________________________\n",
      "input_Census_OSInstallTypeName_ (None, 1)            0                                            \n",
      "__________________________________________________________________________________________________\n",
      "input_Census_OSWUAutoUpdateOpti (None, 1)            0                                            \n",
      "__________________________________________________________________________________________________\n",
      "input_Census_GenuineStateName_i (None, 1)            0                                            \n",
      "__________________________________________________________________________________________________\n",
      "input_Census_ActivationChannel_ (None, 1)            0                                            \n",
      "__________________________________________________________________________________________________\n",
      "input_Census_FlightRing_index ( (None, 1)            0                                            \n",
      "__________________________________________________________________________________________________\n",
      "input_OsVer_index (InputLayer)  (None, 1)            0                                            \n",
      "__________________________________________________________________________________________________\n",
      "input_DefaultBrowsersIdentifier (None, 1)            0                                            \n",
      "__________________________________________________________________________________________________\n",
      "input_CountryIdentifier (InputL (None, 1)            0                                            \n",
      "__________________________________________________________________________________________________\n",
      "input_OrganizationIdentifier (I (None, 1)            0                                            \n",
      "__________________________________________________________________________________________________\n",
      "input_GeoNameIdentifier (InputL (None, 1)            0                                            \n",
      "__________________________________________________________________________________________________\n",
      "input_LocaleEnglishNameIdentifi (None, 1)            0                                            \n",
      "__________________________________________________________________________________________________\n",
      "input_IeVerIdentifier (InputLay (None, 1)            0                                            \n",
      "__________________________________________________________________________________________________\n",
      "input_Census_ProcessorManufactu (None, 1)            0                                            \n",
      "__________________________________________________________________________________________________\n",
      "input_Census_OSInstallLanguageI (None, 1)            0                                            \n",
      "__________________________________________________________________________________________________\n",
      "input_Census_OSUILocaleIdentifi (None, 1)            0                                            \n",
      "__________________________________________________________________________________________________\n",
      "input_Census_FirmwareManufactur (None, 1)            0                                            \n",
      "__________________________________________________________________________________________________\n",
      "input_Wdft_RegionIdentifier (In (None, 1)            0                                            \n",
      "__________________________________________________________________________________________________\n",
      "input_RtpStateBitfield (InputLa (None, 1)            0                                            \n",
      "__________________________________________________________________________________________________\n",
      "input_prediction_2 (InputLayer) (None, 1)            0                                            \n",
      "__________________________________________________________________________________________________\n",
      "input_prediction_4 (InputLayer) (None, 1)            0                                            \n",
      "__________________________________________________________________________________________________\n",
      "input_prediction_8 (InputLayer) (None, 1)            0                                            \n",
      "__________________________________________________________________________________________________\n",
      "input_prediction_16 (InputLayer (None, 1)            0                                            \n",
      "__________________________________________________________________________________________________\n",
      "input_prediction_32 (InputLayer (None, 1)            0                                            \n",
      "__________________________________________________________________________________________________\n",
      "input_prediction_64 (InputLayer (None, 1)            0                                            \n",
      "__________________________________________________________________________________________________\n",
      "embedding_ProductName_index (Em (None, 1, 2)         4           input_ProductName_index[0][0]    \n",
      "__________________________________________________________________________________________________\n",
      "embedding_EngineVersion_0_index (None, 1, 55)        3025        input_EngineVersion_0_index[0][0]\n",
      "__________________________________________________________________________________________________\n",
      "embedding_EngineVersion_1_index (None, 1, 64)        4096        input_EngineVersion_1_index[0][0]\n",
      "__________________________________________________________________________________________________\n",
      "embedding_Census_OSVersion_0_in (None, 1, 1)         1           input_Census_OSVersion_0_index[0]\n",
      "__________________________________________________________________________________________________\n",
      "embedding_Census_OSVersion_1_in (None, 1, 128)       16384       input_Census_OSVersion_1_index[0]\n",
      "__________________________________________________________________________________________________\n",
      "embedding_AppVersion_0_index (E (None, 1, 33)        1089        input_AppVersion_0_index[0][0]   \n",
      "__________________________________________________________________________________________________\n",
      "embedding_AppVersion_1_index (E (None, 1, 94)        8836        input_AppVersion_1_index[0][0]   \n",
      "__________________________________________________________________________________________________\n",
      "embedding_AvSigVersion_0_index  (None, 1, 48)        2304        input_AvSigVersion_0_index[0][0] \n",
      "__________________________________________________________________________________________________\n",
      "embedding_OsVer_0_index (Embedd (None, 1, 3)         9           input_OsVer_0_index[0][0]        \n",
      "__________________________________________________________________________________________________\n",
      "embedding_OsVer_1_index (Embedd (None, 1, 11)        121         input_OsVer_1_index[0][0]        \n",
      "__________________________________________________________________________________________________\n",
      "embedding_Platform_index (Embed (None, 1, 4)         16          input_Platform_index[0][0]       \n",
      "__________________________________________________________________________________________________\n",
      "embedding_Processor_index (Embe (None, 1, 2)         4           input_Processor_index[0][0]      \n",
      "__________________________________________________________________________________________________\n",
      "embedding_OsPlatformSubRelease_ (None, 1, 9)         81          input_OsPlatformSubRelease_index[\n",
      "__________________________________________________________________________________________________\n",
      "embedding_SkuEdition_index (Emb (None, 1, 8)         64          input_SkuEdition_index[0][0]     \n",
      "__________________________________________________________________________________________________\n",
      "embedding_PuaMode_index (Embedd (None, 1, 2)         4           input_PuaMode_index[0][0]        \n",
      "__________________________________________________________________________________________________\n",
      "embedding_SmartScreen_index (Em (None, 1, 8)         64          input_SmartScreen_index[0][0]    \n",
      "__________________________________________________________________________________________________\n",
      "embedding_Census_MDC2FormFactor (None, 1, 11)        121         input_Census_MDC2FormFactor_index\n",
      "__________________________________________________________________________________________________\n",
      "embedding_Census_DeviceFamily_i (None, 1, 2)         4           input_Census_DeviceFamily_index[0\n",
      "__________________________________________________________________________________________________\n",
      "embedding_Census_ProcessorClass (None, 1, 4)         16          input_Census_ProcessorClass_index\n",
      "__________________________________________________________________________________________________\n",
      "embedding_Census_PrimaryDiskTyp (None, 1, 3)         9           input_Census_PrimaryDiskTypeName_\n",
      "__________________________________________________________________________________________________\n",
      "embedding_Census_ChassisTypeNam (None, 1, 22)        484         input_Census_ChassisTypeName_inde\n",
      "__________________________________________________________________________________________________\n",
      "embedding_Census_PowerPlatformR (None, 1, 9)         81          input_Census_PowerPlatformRoleNam\n",
      "__________________________________________________________________________________________________\n",
      "embedding_Census_InternalBatter (None, 1, 27)        729         input_Census_InternalBatteryType_\n",
      "__________________________________________________________________________________________________\n",
      "embedding_Census_OSArchitecture (None, 1, 2)         4           input_Census_OSArchitecture_index\n",
      "__________________________________________________________________________________________________\n",
      "embedding_Census_OSBranch_index (None, 1, 14)        196         input_Census_OSBranch_index[0][0]\n",
      "__________________________________________________________________________________________________\n",
      "embedding_Census_OSEdition_inde (None, 1, 16)        256         input_Census_OSEdition_index[0][0\n",
      "__________________________________________________________________________________________________\n",
      "embedding_Census_OSSkuName_inde (None, 1, 18)        324         input_Census_OSSkuName_index[0][0\n",
      "__________________________________________________________________________________________________\n",
      "embedding_Census_OSInstallTypeN (None, 1, 9)         81          input_Census_OSInstallTypeName_in\n",
      "__________________________________________________________________________________________________\n",
      "embedding_Census_OSWUAutoUpdate (None, 1, 6)         36          input_Census_OSWUAutoUpdateOption\n",
      "__________________________________________________________________________________________________\n",
      "embedding_Census_GenuineStateNa (None, 1, 4)         16          input_Census_GenuineStateName_ind\n",
      "__________________________________________________________________________________________________\n",
      "embedding_Census_ActivationChan (None, 1, 6)         36          input_Census_ActivationChannel_in\n",
      "__________________________________________________________________________________________________\n",
      "embedding_Census_FlightRing_ind (None, 1, 7)         49          input_Census_FlightRing_index[0][\n",
      "__________________________________________________________________________________________________\n",
      "embedding_OsVer_index (Embeddin (None, 1, 17)        289         input_OsVer_index[0][0]          \n",
      "__________________________________________________________________________________________________\n",
      "embedding_DefaultBrowsersIdenti (None, 1, 3204)      10265616    input_DefaultBrowsersIdentifier[0\n",
      "__________________________________________________________________________________________________\n",
      "embedding_CountryIdentifier (Em (None, 1, 223)       49729       input_CountryIdentifier[0][0]    \n",
      "__________________________________________________________________________________________________\n",
      "embedding_OrganizationIdentifie (None, 1, 100)       10000       input_OrganizationIdentifier[0][0\n",
      "__________________________________________________________________________________________________\n",
      "embedding_GeoNameIdentifier (Em (None, 1, 296)       87616       input_GeoNameIdentifier[0][0]    \n",
      "__________________________________________________________________________________________________\n",
      "embedding_LocaleEnglishNameIden (None, 1, 284)       80656       input_LocaleEnglishNameIdentifier\n",
      "__________________________________________________________________________________________________\n",
      "embedding_IeVerIdentifier (Embe (None, 1, 430)       184900      input_IeVerIdentifier[0][0]      \n",
      "__________________________________________________________________________________________________\n",
      "embedding_Census_ProcessorManuf (None, 1, 6)         36          input_Census_ProcessorManufacture\n",
      "__________________________________________________________________________________________________\n",
      "embedding_Census_OSInstallLangu (None, 1, 40)        1600        input_Census_OSInstallLanguageIde\n",
      "__________________________________________________________________________________________________\n",
      "embedding_Census_OSUILocaleIden (None, 1, 161)       25921       input_Census_OSUILocaleIdentifier\n",
      "__________________________________________________________________________________________________\n",
      "embedding_Census_FirmwareManufa (None, 1, 1084)      1175056     input_Census_FirmwareManufacturer\n",
      "__________________________________________________________________________________________________\n",
      "embedding_Wdft_RegionIdentifier (None, 1, 16)        256         input_Wdft_RegionIdentifier[0][0]\n",
      "__________________________________________________________________________________________________\n",
      "embedding_RtpStateBitfield (Emb (None, 1, 100)       10000       input_RtpStateBitfield[0][0]     \n",
      "__________________________________________________________________________________________________\n",
      "embedding_prediction_2 (Embeddi (None, 1, 1)         1           input_prediction_2[0][0]         \n",
      "__________________________________________________________________________________________________\n",
      "embedding_prediction_4 (Embeddi (None, 1, 3)         9           input_prediction_4[0][0]         \n",
      "__________________________________________________________________________________________________\n",
      "embedding_prediction_8 (Embeddi (None, 1, 8)         64          input_prediction_8[0][0]         \n",
      "__________________________________________________________________________________________________\n",
      "embedding_prediction_16 (Embedd (None, 1, 16)        256         input_prediction_16[0][0]        \n",
      "__________________________________________________________________________________________________\n",
      "embedding_prediction_32 (Embedd (None, 1, 32)        1024        input_prediction_32[0][0]        \n",
      "__________________________________________________________________________________________________\n",
      "embedding_prediction_64 (Embedd (None, 1, 64)        4096        input_prediction_64[0][0]        \n",
      "__________________________________________________________________________________________________\n",
      "reshape_ProductName_index (Resh (None, 2)            0           embedding_ProductName_index[0][0]\n",
      "__________________________________________________________________________________________________\n",
      "reshape_EngineVersion_0_index ( (None, 55)           0           embedding_EngineVersion_0_index[0\n",
      "__________________________________________________________________________________________________\n",
      "reshape_EngineVersion_1_index ( (None, 64)           0           embedding_EngineVersion_1_index[0\n",
      "__________________________________________________________________________________________________\n",
      "reshape_Census_OSVersion_0_inde (None, 1)            0           embedding_Census_OSVersion_0_inde\n",
      "__________________________________________________________________________________________________\n",
      "reshape_Census_OSVersion_1_inde (None, 128)          0           embedding_Census_OSVersion_1_inde\n",
      "__________________________________________________________________________________________________\n",
      "reshape_AppVersion_0_index (Res (None, 33)           0           embedding_AppVersion_0_index[0][0\n",
      "__________________________________________________________________________________________________\n",
      "reshape_AppVersion_1_index (Res (None, 94)           0           embedding_AppVersion_1_index[0][0\n",
      "__________________________________________________________________________________________________\n",
      "reshape_AvSigVersion_0_index (R (None, 48)           0           embedding_AvSigVersion_0_index[0]\n",
      "__________________________________________________________________________________________________\n",
      "reshape_OsVer_0_index (Reshape) (None, 3)            0           embedding_OsVer_0_index[0][0]    \n",
      "__________________________________________________________________________________________________\n",
      "reshape_OsVer_1_index (Reshape) (None, 11)           0           embedding_OsVer_1_index[0][0]    \n",
      "__________________________________________________________________________________________________\n",
      "reshape_Platform_index (Reshape (None, 4)            0           embedding_Platform_index[0][0]   \n",
      "__________________________________________________________________________________________________\n",
      "reshape_Processor_index (Reshap (None, 2)            0           embedding_Processor_index[0][0]  \n",
      "__________________________________________________________________________________________________\n",
      "reshape_OsPlatformSubRelease_in (None, 9)            0           embedding_OsPlatformSubRelease_in\n",
      "__________________________________________________________________________________________________\n",
      "reshape_SkuEdition_index (Resha (None, 8)            0           embedding_SkuEdition_index[0][0] \n",
      "__________________________________________________________________________________________________\n",
      "reshape_PuaMode_index (Reshape) (None, 2)            0           embedding_PuaMode_index[0][0]    \n",
      "__________________________________________________________________________________________________\n",
      "reshape_SmartScreen_index (Resh (None, 8)            0           embedding_SmartScreen_index[0][0]\n",
      "__________________________________________________________________________________________________\n",
      "reshape_Census_MDC2FormFactor_i (None, 11)           0           embedding_Census_MDC2FormFactor_i\n",
      "__________________________________________________________________________________________________\n",
      "reshape_Census_DeviceFamily_ind (None, 2)            0           embedding_Census_DeviceFamily_ind\n",
      "__________________________________________________________________________________________________\n",
      "reshape_Census_ProcessorClass_i (None, 4)            0           embedding_Census_ProcessorClass_i\n",
      "__________________________________________________________________________________________________\n",
      "reshape_Census_PrimaryDiskTypeN (None, 3)            0           embedding_Census_PrimaryDiskTypeN\n",
      "__________________________________________________________________________________________________\n",
      "reshape_Census_ChassisTypeName_ (None, 22)           0           embedding_Census_ChassisTypeName_\n",
      "__________________________________________________________________________________________________\n",
      "reshape_Census_PowerPlatformRol (None, 9)            0           embedding_Census_PowerPlatformRol\n",
      "__________________________________________________________________________________________________\n",
      "reshape_Census_InternalBatteryT (None, 27)           0           embedding_Census_InternalBatteryT\n",
      "__________________________________________________________________________________________________\n",
      "reshape_Census_OSArchitecture_i (None, 2)            0           embedding_Census_OSArchitecture_i\n",
      "__________________________________________________________________________________________________\n",
      "reshape_Census_OSBranch_index ( (None, 14)           0           embedding_Census_OSBranch_index[0\n",
      "__________________________________________________________________________________________________\n",
      "reshape_Census_OSEdition_index  (None, 16)           0           embedding_Census_OSEdition_index[\n",
      "__________________________________________________________________________________________________\n",
      "reshape_Census_OSSkuName_index  (None, 18)           0           embedding_Census_OSSkuName_index[\n",
      "__________________________________________________________________________________________________\n",
      "reshape_Census_OSInstallTypeNam (None, 9)            0           embedding_Census_OSInstallTypeNam\n",
      "__________________________________________________________________________________________________\n",
      "reshape_Census_OSWUAutoUpdateOp (None, 6)            0           embedding_Census_OSWUAutoUpdateOp\n",
      "__________________________________________________________________________________________________\n",
      "reshape_Census_GenuineStateName (None, 4)            0           embedding_Census_GenuineStateName\n",
      "__________________________________________________________________________________________________\n",
      "reshape_Census_ActivationChanne (None, 6)            0           embedding_Census_ActivationChanne\n",
      "__________________________________________________________________________________________________\n",
      "reshape_Census_FlightRing_index (None, 7)            0           embedding_Census_FlightRing_index\n",
      "__________________________________________________________________________________________________\n",
      "reshape_OsVer_index (Reshape)   (None, 17)           0           embedding_OsVer_index[0][0]      \n",
      "__________________________________________________________________________________________________\n",
      "reshape_DefaultBrowsersIdentifi (None, 3204)         0           embedding_DefaultBrowsersIdentifi\n",
      "__________________________________________________________________________________________________\n",
      "reshape_CountryIdentifier (Resh (None, 223)          0           embedding_CountryIdentifier[0][0]\n",
      "__________________________________________________________________________________________________\n",
      "reshape_OrganizationIdentifier  (None, 100)          0           embedding_OrganizationIdentifier[\n",
      "__________________________________________________________________________________________________\n",
      "reshape_GeoNameIdentifier (Resh (None, 296)          0           embedding_GeoNameIdentifier[0][0]\n",
      "__________________________________________________________________________________________________\n",
      "reshape_LocaleEnglishNameIdenti (None, 284)          0           embedding_LocaleEnglishNameIdenti\n",
      "__________________________________________________________________________________________________\n",
      "reshape_IeVerIdentifier (Reshap (None, 430)          0           embedding_IeVerIdentifier[0][0]  \n",
      "__________________________________________________________________________________________________\n",
      "reshape_Census_ProcessorManufac (None, 6)            0           embedding_Census_ProcessorManufac\n",
      "__________________________________________________________________________________________________\n",
      "reshape_Census_OSInstallLanguag (None, 40)           0           embedding_Census_OSInstallLanguag\n",
      "__________________________________________________________________________________________________\n",
      "reshape_Census_OSUILocaleIdenti (None, 161)          0           embedding_Census_OSUILocaleIdenti\n",
      "__________________________________________________________________________________________________\n",
      "reshape_Census_FirmwareManufact (None, 1084)         0           embedding_Census_FirmwareManufact\n",
      "__________________________________________________________________________________________________\n",
      "reshape_Wdft_RegionIdentifier ( (None, 16)           0           embedding_Wdft_RegionIdentifier[0\n",
      "__________________________________________________________________________________________________\n",
      "reshape_RtpStateBitfield (Resha (None, 100)          0           embedding_RtpStateBitfield[0][0] \n",
      "__________________________________________________________________________________________________\n",
      "reshape_prediction_2 (Reshape)  (None, 1)            0           embedding_prediction_2[0][0]     \n",
      "__________________________________________________________________________________________________\n",
      "reshape_prediction_4 (Reshape)  (None, 3)            0           embedding_prediction_4[0][0]     \n",
      "__________________________________________________________________________________________________\n",
      "reshape_prediction_8 (Reshape)  (None, 8)            0           embedding_prediction_8[0][0]     \n",
      "__________________________________________________________________________________________________\n",
      "reshape_prediction_16 (Reshape) (None, 16)           0           embedding_prediction_16[0][0]    \n",
      "__________________________________________________________________________________________________\n",
      "reshape_prediction_32 (Reshape) (None, 32)           0           embedding_prediction_32[0][0]    \n",
      "__________________________________________________________________________________________________\n",
      "reshape_prediction_64 (Reshape) (None, 64)           0           embedding_prediction_64[0][0]    \n",
      "__________________________________________________________________________________________________\n",
      "concatenate_4 (Concatenate)     (None, 6717)         0           reshape_ProductName_index[0][0]  \n",
      "                                                                 reshape_EngineVersion_0_index[0][\n",
      "                                                                 reshape_EngineVersion_1_index[0][\n",
      "                                                                 reshape_Census_OSVersion_0_index[\n",
      "                                                                 reshape_Census_OSVersion_1_index[\n",
      "                                                                 reshape_AppVersion_0_index[0][0] \n",
      "                                                                 reshape_AppVersion_1_index[0][0] \n",
      "                                                                 reshape_AvSigVersion_0_index[0][0\n",
      "                                                                 reshape_OsVer_0_index[0][0]      \n",
      "                                                                 reshape_OsVer_1_index[0][0]      \n",
      "                                                                 reshape_Platform_index[0][0]     \n",
      "                                                                 reshape_Processor_index[0][0]    \n",
      "                                                                 reshape_OsPlatformSubRelease_inde\n",
      "                                                                 reshape_SkuEdition_index[0][0]   \n",
      "                                                                 reshape_PuaMode_index[0][0]      \n",
      "                                                                 reshape_SmartScreen_index[0][0]  \n",
      "                                                                 reshape_Census_MDC2FormFactor_ind\n",
      "                                                                 reshape_Census_DeviceFamily_index\n",
      "                                                                 reshape_Census_ProcessorClass_ind\n",
      "                                                                 reshape_Census_PrimaryDiskTypeNam\n",
      "                                                                 reshape_Census_ChassisTypeName_in\n",
      "                                                                 reshape_Census_PowerPlatformRoleN\n",
      "                                                                 reshape_Census_InternalBatteryTyp\n",
      "                                                                 reshape_Census_OSArchitecture_ind\n",
      "                                                                 reshape_Census_OSBranch_index[0][\n",
      "                                                                 reshape_Census_OSEdition_index[0]\n",
      "                                                                 reshape_Census_OSSkuName_index[0]\n",
      "                                                                 reshape_Census_OSInstallTypeName_\n",
      "                                                                 reshape_Census_OSWUAutoUpdateOpti\n",
      "                                                                 reshape_Census_GenuineStateName_i\n",
      "                                                                 reshape_Census_ActivationChannel_\n",
      "                                                                 reshape_Census_FlightRing_index[0\n",
      "                                                                 reshape_OsVer_index[0][0]        \n",
      "                                                                 reshape_DefaultBrowsersIdentifier\n",
      "                                                                 reshape_CountryIdentifier[0][0]  \n",
      "                                                                 reshape_OrganizationIdentifier[0]\n",
      "                                                                 reshape_GeoNameIdentifier[0][0]  \n",
      "                                                                 reshape_LocaleEnglishNameIdentifi\n",
      "                                                                 reshape_IeVerIdentifier[0][0]    \n",
      "                                                                 reshape_Census_ProcessorManufactu\n",
      "                                                                 reshape_Census_OSInstallLanguageI\n",
      "                                                                 reshape_Census_OSUILocaleIdentifi\n",
      "                                                                 reshape_Census_FirmwareManufactur\n",
      "                                                                 reshape_Wdft_RegionIdentifier[0][\n",
      "                                                                 reshape_RtpStateBitfield[0][0]   \n",
      "                                                                 reshape_prediction_2[0][0]       \n",
      "                                                                 reshape_prediction_4[0][0]       \n",
      "                                                                 reshape_prediction_8[0][0]       \n",
      "                                                                 reshape_prediction_16[0][0]      \n",
      "                                                                 reshape_prediction_32[0][0]      \n",
      "                                                                 reshape_prediction_64[0][0]      \n",
      "__________________________________________________________________________________________________\n",
      "dense_11 (Dense)                (None, 100)          671800      concatenate_4[0][0]              \n",
      "__________________________________________________________________________________________________\n",
      "dense_12 (Dense)                (None, 100)          10100       dense_11[0][0]                   \n",
      "__________________________________________________________________________________________________\n",
      "dense_13 (Dense)                (None, 1)            101         dense_12[0][0]                   \n",
      "==================================================================================================\n",
      "Total params: 12,617,670\n",
      "Trainable params: 12,617,670\n",
      "Non-trainable params: 0\n",
      "__________________________________________________________________________________________________\n"
     ]
    }
   ],
   "source": [
    "model.summary()"
   ]
  },
  {
   "cell_type": "code",
   "execution_count": null,
   "metadata": {},
   "outputs": [],
   "source": []
  },
  {
   "cell_type": "code",
   "execution_count": null,
   "metadata": {},
   "outputs": [],
   "source": []
  },
  {
   "cell_type": "code",
   "execution_count": 44,
   "metadata": {},
   "outputs": [
    {
     "ename": "ValueError",
     "evalue": "ANN Visualizer: Layer not supported for visualizing",
     "output_type": "error",
     "traceback": [
      "\u001b[0;31m---------------------------------------------------------------------------\u001b[0m",
      "\u001b[0;31mValueError\u001b[0m                                Traceback (most recent call last)",
      "\u001b[0;32m<ipython-input-44-f07f0b7f22e7>\u001b[0m in \u001b[0;36m<module>\u001b[0;34m\u001b[0m\n\u001b[1;32m      1\u001b[0m \u001b[0;32mfrom\u001b[0m \u001b[0mann_visualizer\u001b[0m\u001b[0;34m.\u001b[0m\u001b[0mvisualize\u001b[0m \u001b[0;32mimport\u001b[0m \u001b[0mann_viz\u001b[0m\u001b[0;34m\u001b[0m\u001b[0;34m\u001b[0m\u001b[0m\n\u001b[1;32m      2\u001b[0m \u001b[0;34m\u001b[0m\u001b[0m\n\u001b[0;32m----> 3\u001b[0;31m \u001b[0mann_viz\u001b[0m\u001b[0;34m(\u001b[0m\u001b[0mmodel\u001b[0m\u001b[0;34m,\u001b[0m \u001b[0mtitle\u001b[0m\u001b[0;34m=\u001b[0m\u001b[0;34m\"NN sin densidad\"\u001b[0m\u001b[0;34m)\u001b[0m\u001b[0;34m\u001b[0m\u001b[0;34m\u001b[0m\u001b[0m\n\u001b[0m",
      "\u001b[0;32m~/stuff_workspace/2_Kaggle/kaggle_microsoft/enviroment/lib/python3.6/site-packages/ann_visualizer/visualize.py\u001b[0m in \u001b[0;36mann_viz\u001b[0;34m(model, view, filename, title)\u001b[0m\n\u001b[1;32m    121\u001b[0m                 \u001b[0mc\u001b[0m\u001b[0;34m.\u001b[0m\u001b[0mnode\u001b[0m\u001b[0;34m(\u001b[0m\u001b[0mstr\u001b[0m\u001b[0;34m(\u001b[0m\u001b[0mn\u001b[0m\u001b[0;34m)\u001b[0m\u001b[0;34m,\u001b[0m \u001b[0mlabel\u001b[0m\u001b[0;34m=\u001b[0m\u001b[0;34m\"Image\\n\"\u001b[0m\u001b[0;34m+\u001b[0m\u001b[0mpxls\u001b[0m\u001b[0;34m[\u001b[0m\u001b[0;36m1\u001b[0m\u001b[0;34m]\u001b[0m\u001b[0;34m+\u001b[0m\u001b[0;34m\" x\"\u001b[0m\u001b[0;34m+\u001b[0m\u001b[0mpxls\u001b[0m\u001b[0;34m[\u001b[0m\u001b[0;36m2\u001b[0m\u001b[0;34m]\u001b[0m\u001b[0;34m+\u001b[0m\u001b[0;34m\" pixels\\n\"\u001b[0m\u001b[0;34m+\u001b[0m\u001b[0mclrmap\u001b[0m\u001b[0;34m,\u001b[0m \u001b[0mfontcolor\u001b[0m\u001b[0;34m=\u001b[0m\u001b[0;34m\"white\"\u001b[0m\u001b[0;34m)\u001b[0m\u001b[0;34m;\u001b[0m\u001b[0;34m\u001b[0m\u001b[0;34m\u001b[0m\u001b[0m\n\u001b[1;32m    122\u001b[0m             \u001b[0;32melse\u001b[0m\u001b[0;34m:\u001b[0m\u001b[0;34m\u001b[0m\u001b[0;34m\u001b[0m\u001b[0m\n\u001b[0;32m--> 123\u001b[0;31m                 \u001b[0;32mraise\u001b[0m \u001b[0mValueError\u001b[0m\u001b[0;34m(\u001b[0m\u001b[0;34m\"ANN Visualizer: Layer not supported for visualizing\"\u001b[0m\u001b[0;34m)\u001b[0m\u001b[0;34m;\u001b[0m\u001b[0;34m\u001b[0m\u001b[0;34m\u001b[0m\u001b[0m\n\u001b[0m\u001b[1;32m    124\u001b[0m         \u001b[0;32mfor\u001b[0m \u001b[0mi\u001b[0m \u001b[0;32min\u001b[0m \u001b[0mrange\u001b[0m\u001b[0;34m(\u001b[0m\u001b[0;36m0\u001b[0m\u001b[0;34m,\u001b[0m \u001b[0mhidden_layers_nr\u001b[0m\u001b[0;34m)\u001b[0m\u001b[0;34m:\u001b[0m\u001b[0;34m\u001b[0m\u001b[0;34m\u001b[0m\u001b[0m\n\u001b[1;32m    125\u001b[0m             \u001b[0;32mwith\u001b[0m \u001b[0mg\u001b[0m\u001b[0;34m.\u001b[0m\u001b[0msubgraph\u001b[0m\u001b[0;34m(\u001b[0m\u001b[0mname\u001b[0m\u001b[0;34m=\u001b[0m\u001b[0;34m\"cluster_\"\u001b[0m\u001b[0;34m+\u001b[0m\u001b[0mstr\u001b[0m\u001b[0;34m(\u001b[0m\u001b[0mi\u001b[0m\u001b[0;34m+\u001b[0m\u001b[0;36m1\u001b[0m\u001b[0;34m)\u001b[0m\u001b[0;34m)\u001b[0m \u001b[0;32mas\u001b[0m \u001b[0mc\u001b[0m\u001b[0;34m:\u001b[0m\u001b[0;34m\u001b[0m\u001b[0;34m\u001b[0m\u001b[0m\n",
      "\u001b[0;31mValueError\u001b[0m: ANN Visualizer: Layer not supported for visualizing"
     ]
    }
   ],
   "source": [
    "from ann_visualizer.visualize import ann_viz\n",
    "\n",
    "ann_viz(model, title=\"NN sin densidad\")"
   ]
  },
  {
   "cell_type": "code",
   "execution_count": null,
   "metadata": {},
   "outputs": [],
   "source": []
  },
  {
   "cell_type": "code",
   "execution_count": null,
   "metadata": {},
   "outputs": [],
   "source": []
  },
  {
   "cell_type": "code",
   "execution_count": null,
   "metadata": {},
   "outputs": [],
   "source": []
  },
  {
   "cell_type": "code",
   "execution_count": null,
   "metadata": {},
   "outputs": [],
   "source": []
  },
  {
   "cell_type": "code",
   "execution_count": null,
   "metadata": {},
   "outputs": [],
   "source": []
  },
  {
   "cell_type": "code",
   "execution_count": null,
   "metadata": {},
   "outputs": [],
   "source": []
  },
  {
   "cell_type": "code",
   "execution_count": null,
   "metadata": {},
   "outputs": [],
   "source": []
  },
  {
   "cell_type": "code",
   "execution_count": null,
   "metadata": {},
   "outputs": [],
   "source": []
  },
  {
   "cell_type": "code",
   "execution_count": null,
   "metadata": {},
   "outputs": [],
   "source": []
  },
  {
   "cell_type": "code",
   "execution_count": null,
   "metadata": {},
   "outputs": [],
   "source": []
  },
  {
   "cell_type": "code",
   "execution_count": null,
   "metadata": {},
   "outputs": [],
   "source": []
  },
  {
   "cell_type": "code",
   "execution_count": null,
   "metadata": {},
   "outputs": [],
   "source": []
  },
  {
   "cell_type": "code",
   "execution_count": null,
   "metadata": {},
   "outputs": [],
   "source": []
  },
  {
   "cell_type": "code",
   "execution_count": null,
   "metadata": {},
   "outputs": [],
   "source": []
  },
  {
   "cell_type": "code",
   "execution_count": null,
   "metadata": {},
   "outputs": [],
   "source": []
  },
  {
   "cell_type": "markdown",
   "metadata": {},
   "source": [
    "# Ejemplo de Modelos\n",
    "\n",
    "Este es un \"esquema\" que me dijo un chaval __TODO: PONER EL NOMBRE__ para hacer los embeddings.\n",
    "\n",
    "```py\n",
    "x = Input(shape=(len(ListNonCategorical), ))\n",
    "ins.append(x)\n",
    "outs.append(x)\n",
    "\n",
    "x = Concatenate(outs)\n",
    "#then continue making NN\n",
    "x = Dense(100)(x)\n",
    "x = Dense(100)(x)\n",
    "x = Dense(1)(x)\n",
    "```"
   ]
  },
  {
   "cell_type": "code",
   "execution_count": null,
   "metadata": {},
   "outputs": [],
   "source": []
  },
  {
   "cell_type": "markdown",
   "metadata": {},
   "source": [
    "# Old Model\n",
    "\n",
    "Este modelo ya no se usa."
   ]
  },
  {
   "cell_type": "code",
   "execution_count": null,
   "metadata": {},
   "outputs": [],
   "source": [
    "model = Sequential()\n",
    "\n",
    "model.add(Dense(256, input_dim=dimension, kernel_initializer='uniform', activation='relu'))\n",
    "model.add(Dense(512))\n",
    "model.add(Dense(128))\n",
    "model.add(Dense(1, kernel_initializer='normal', activation='sigmoid'))\n",
    "\n",
    "\n",
    "model.compile(loss='binary_crossentropy', optimizer='adam',metrics = ['acc'])\n",
    "\n",
    "model.summary()"
   ]
  },
  {
   "cell_type": "markdown",
   "metadata": {},
   "source": [
    "## Fit Model"
   ]
  },
  {
   "cell_type": "code",
   "execution_count": null,
   "metadata": {},
   "outputs": [],
   "source": []
  },
  {
   "cell_type": "code",
   "execution_count": null,
   "metadata": {},
   "outputs": [],
   "source": []
  },
  {
   "cell_type": "code",
   "execution_count": null,
   "metadata": {
    "scrolled": false
   },
   "outputs": [],
   "source": [
    "model.fit(X_train, y_train,\n",
    "          epochs=epochs_to_train,\n",
    "          batch_size=len_batch_size,\n",
    "            validation_data = (X_test,y_test))\n",
    "#              callbacks=[earlyStopping])"
   ]
  },
  {
   "cell_type": "code",
   "execution_count": null,
   "metadata": {},
   "outputs": [],
   "source": [
    "score = model.evaluate(X_test, y_test, batch_size=int(X_train.shape[0]/100),verbose=1)"
   ]
  },
  {
   "cell_type": "code",
   "execution_count": null,
   "metadata": {},
   "outputs": [],
   "source": [
    "score"
   ]
  },
  {
   "cell_type": "code",
   "execution_count": null,
   "metadata": {},
   "outputs": [],
   "source": []
  },
  {
   "cell_type": "code",
   "execution_count": null,
   "metadata": {},
   "outputs": [],
   "source": []
  },
  {
   "cell_type": "code",
   "execution_count": null,
   "metadata": {},
   "outputs": [],
   "source": []
  },
  {
   "cell_type": "markdown",
   "metadata": {},
   "source": [
    "# Graphs"
   ]
  },
  {
   "cell_type": "code",
   "execution_count": null,
   "metadata": {},
   "outputs": [],
   "source": [
    "model.history.history.keys()"
   ]
  },
  {
   "cell_type": "code",
   "execution_count": null,
   "metadata": {},
   "outputs": [],
   "source": [
    "import matplotlib.pyplot as plt"
   ]
  },
  {
   "cell_type": "code",
   "execution_count": null,
   "metadata": {
    "scrolled": false
   },
   "outputs": [],
   "source": [
    "plt.plot(model.history.history['loss'],label=\"Loss\")\n",
    "plt.plot(model.history.history['auroc'],label=\"acc\")\n",
    "plt.legend()"
   ]
  },
  {
   "cell_type": "code",
   "execution_count": null,
   "metadata": {
    "scrolled": true
   },
   "outputs": [],
   "source": [
    "plt.plot(model.history.history['acc'])"
   ]
  },
  {
   "cell_type": "code",
   "execution_count": null,
   "metadata": {
    "scrolled": true
   },
   "outputs": [],
   "source": [
    "plt.plot(model.history.history['auroc'])"
   ]
  },
  {
   "cell_type": "code",
   "execution_count": null,
   "metadata": {},
   "outputs": [],
   "source": []
  },
  {
   "cell_type": "markdown",
   "metadata": {},
   "source": [
    "# Utils"
   ]
  },
  {
   "cell_type": "markdown",
   "metadata": {},
   "source": [
    "## Clean Memory"
   ]
  },
  {
   "cell_type": "code",
   "execution_count": null,
   "metadata": {},
   "outputs": [],
   "source": [
    "del model"
   ]
  },
  {
   "cell_type": "code",
   "execution_count": null,
   "metadata": {
    "scrolled": true
   },
   "outputs": [],
   "source": [
    "import gc\n",
    "gc.collect()"
   ]
  },
  {
   "cell_type": "code",
   "execution_count": null,
   "metadata": {},
   "outputs": [],
   "source": []
  },
  {
   "cell_type": "code",
   "execution_count": null,
   "metadata": {},
   "outputs": [],
   "source": []
  },
  {
   "cell_type": "markdown",
   "metadata": {},
   "source": [
    "# Prediction"
   ]
  },
  {
   "cell_type": "code",
   "execution_count": null,
   "metadata": {},
   "outputs": [],
   "source": []
  },
  {
   "cell_type": "code",
   "execution_count": null,
   "metadata": {},
   "outputs": [],
   "source": [
    "print('Cargando datos del TEST')\n",
    "path = '../../data/test_final_3'\n",
    "allFiles = glob.glob(path + \"/*.csv\")\n",
    "list_ = []\n",
    "for file_ in allFiles:\n",
    "    df = pd.read_csv(file_)\n",
    "    df = (df.fillna(-1)).astype(schema_train_3)\n",
    "    list_.append(df)\n",
    "\n",
    "\n",
    "test = pd.concat(list_, axis = 0, ignore_index = True).fillna(-1)\n",
    "\n",
    "sel_cols = [c for c in test.columns if c not in ['MachineIdentifier',\n",
    "                                                 'HasDetections',\n",
    "                                                 'Census_DeviceFamily_Windows.Server',\n",
    "                                                 'Census_DeviceFamily_Windows.Desktop'\n",
    "                                                 ]\n",
    "            ]\n",
    "\n",
    "X_test = test.loc[:, sel_cols]"
   ]
  },
  {
   "cell_type": "code",
   "execution_count": null,
   "metadata": {},
   "outputs": [],
   "source": []
  },
  {
   "cell_type": "code",
   "execution_count": null,
   "metadata": {},
   "outputs": [],
   "source": []
  },
  {
   "cell_type": "code",
   "execution_count": null,
   "metadata": {},
   "outputs": [],
   "source": [
    "predictions = model.predict(X_test)"
   ]
  },
  {
   "cell_type": "code",
   "execution_count": null,
   "metadata": {},
   "outputs": [],
   "source": [
    "predictions"
   ]
  },
  {
   "cell_type": "code",
   "execution_count": null,
   "metadata": {},
   "outputs": [],
   "source": [
    "predf= pd.DataFrame(predictions,columns=['HasDetections'])"
   ]
  },
  {
   "cell_type": "code",
   "execution_count": null,
   "metadata": {},
   "outputs": [],
   "source": [
    "pd.concat([X_machines,predf],axis=1).to_csv('keras_model.csv', index=None)"
   ]
  },
  {
   "cell_type": "code",
   "execution_count": null,
   "metadata": {},
   "outputs": [],
   "source": []
  },
  {
   "cell_type": "code",
   "execution_count": null,
   "metadata": {},
   "outputs": [],
   "source": [
    "X_machines = test.loc[:, 'MachineIdentifier']\n",
    "\n",
    "\n",
    "df_prds = pd.DataFrame({'MachineIdentifier': X_machines, 'HasDetections': predictions})\n",
    "\n",
    "df_prds.to_csv('keras_model.csv', index=None)"
   ]
  },
  {
   "cell_type": "code",
   "execution_count": null,
   "metadata": {},
   "outputs": [],
   "source": []
  },
  {
   "cell_type": "code",
   "execution_count": null,
   "metadata": {},
   "outputs": [],
   "source": [
    "del predictions"
   ]
  },
  {
   "cell_type": "markdown",
   "metadata": {},
   "source": [
    "### Save train in one file"
   ]
  },
  {
   "cell_type": "code",
   "execution_count": null,
   "metadata": {},
   "outputs": [],
   "source": [
    "train.to_csv(\"train_uniq.csv\")"
   ]
  },
  {
   "cell_type": "code",
   "execution_count": null,
   "metadata": {},
   "outputs": [],
   "source": [
    "test.to_csv(\"test_uniq.csv\")"
   ]
  }
 ],
 "metadata": {
  "kernelspec": {
   "display_name": "Python 3",
   "language": "python",
   "name": "python3"
  },
  "language_info": {
   "codemirror_mode": {
    "name": "ipython",
    "version": 3
   },
   "file_extension": ".py",
   "mimetype": "text/x-python",
   "name": "python",
   "nbconvert_exporter": "python",
   "pygments_lexer": "ipython3",
   "version": "3.6.7"
  }
 },
 "nbformat": 4,
 "nbformat_minor": 2
}
