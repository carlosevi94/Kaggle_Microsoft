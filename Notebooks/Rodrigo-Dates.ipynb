{
 "cells": [
  {
   "cell_type": "code",
   "execution_count": 1,
   "metadata": {},
   "outputs": [],
   "source": [
    "from pyspark.sql import SparkSession\n",
    "from pyspark.ml.feature import StringIndexer\n",
    "from pyspark.sql.types import (StructType, StructField, StringType,\n",
    "                               DoubleType, IntegerType, LongType,DateType)\n",
    "from pyspark.sql.functions import *\n",
    "from pyspark.sql.window import Window\n",
    "from pyspark import SparkConf\n",
    "from pyspark import SparkContext\n",
    "import multiprocessing\n",
    "from datetime import datetime\n",
    "import numpy as np\n",
    "import pandas as pd\n",
    "import csv"
   ]
  },
  {
   "cell_type": "code",
   "execution_count": 23,
   "metadata": {},
   "outputs": [],
   "source": [
    "datedictAS = np.load('AvSigVersionTimestamps.npy')\n",
    "datedictOS = np.load('OSVersionTimestamps.npy')"
   ]
  },
  {
   "cell_type": "code",
   "execution_count": 56,
   "metadata": {},
   "outputs": [],
   "source": [
    "rango_av = len(datedictAS[()])\n",
    "rango_os = len(datedictOS[()])"
   ]
  },
  {
   "cell_type": "code",
   "execution_count": 57,
   "metadata": {},
   "outputs": [],
   "source": [
    "df_os = pd.DataFrame(datedictOS.tolist(),index=range(1,rango_os+1))\n",
    "df_av = pd.DataFrame(datedictAS.tolist(),index=range(1,rango_av+1))"
   ]
  },
  {
   "cell_type": "code",
   "execution_count": 58,
   "metadata": {},
   "outputs": [],
   "source": [
    "data_os = df_os.transpose().reset_index()\n",
    "data_av = df_av.transpose().reset_index()"
   ]
  },
  {
   "cell_type": "code",
   "execution_count": 59,
   "metadata": {},
   "outputs": [],
   "source": [
    "data_os = data_os.iloc[:,:2]\n",
    "data_av = data_av.iloc[:,:2]"
   ]
  },
  {
   "cell_type": "code",
   "execution_count": 60,
   "metadata": {},
   "outputs": [],
   "source": [
    "data_os.columns = ['Census_OSVersion', 'DateCensus_OSVersion']\n",
    "data_av.columns = ['AvSigVersion', 'DateAvSigVersion']"
   ]
  },
  {
   "cell_type": "code",
   "execution_count": 63,
   "metadata": {},
   "outputs": [
    {
     "name": "stdout",
     "output_type": "stream",
     "text": [
      "   Census_OSVersion DateCensus_OSVersion\n",
      "0    10.0.14393.351           2016-10-27\n",
      "1   10.0.14393.2097           2018-02-22\n",
      "2  10.0.10240.17918           2018-07-16\n",
      "3   10.0.17744.1004           2018-09-07\n",
      "4    10.0.16299.665           2018-09-11\n",
      "   AvSigVersion    DateAvSigVersion\n",
      "0   1.155.266.0 2013-07-18 09:08:00\n",
      "1   1.167.387.0 2014-02-21 14:20:00\n",
      "2  1.169.1625.0 2014-04-03 01:17:00\n",
      "3  1.169.2478.0 2014-04-12 17:16:00\n",
      "4    1.169.55.0 2014-03-18 01:09:00\n"
     ]
    }
   ],
   "source": [
    "print(data_os.head())\n",
    "print(data_av.head())"
   ]
  },
  {
   "cell_type": "code",
   "execution_count": 64,
   "metadata": {},
   "outputs": [],
   "source": [
    "data_os.to_csv(\"fechas_os.csv\",index=False)\n",
    "data_av.to_csv(\"fechas_av.csv\",index=False)"
   ]
  },
  {
   "cell_type": "code",
   "execution_count": null,
   "metadata": {},
   "outputs": [],
   "source": []
  },
  {
   "cell_type": "code",
   "execution_count": null,
   "metadata": {},
   "outputs": [],
   "source": []
  },
  {
   "cell_type": "code",
   "execution_count": null,
   "metadata": {},
   "outputs": [],
   "source": []
  },
  {
   "cell_type": "code",
   "execution_count": null,
   "metadata": {},
   "outputs": [],
   "source": []
  },
  {
   "cell_type": "code",
   "execution_count": 2,
   "metadata": {},
   "outputs": [],
   "source": [
    "conf = SparkConf()\n",
    "cores = multiprocessing.cpu_count()\n",
    "conf = SparkConf()\n",
    "conf.set(\"spark.sql.shuffle.partitions\", int(8))\n",
    "conf.set(\"spark.default.parallelism\", int(8))\n",
    "sc = SparkContext(conf=conf)"
   ]
  },
  {
   "cell_type": "code",
   "execution_count": 3,
   "metadata": {},
   "outputs": [],
   "source": [
    "spark = SparkSession.builder.appName(\"Microsoft_Kaggle\").getOrCreate()"
   ]
  },
  {
   "cell_type": "code",
   "execution_count": 4,
   "metadata": {},
   "outputs": [
    {
     "data": {
      "text/plain": [
       "5000"
      ]
     },
     "execution_count": 4,
     "metadata": {},
     "output_type": "execute_result"
    }
   ],
   "source": [
    "df_num = spark.read.csv(\"../data/df_cat_prepro_0/*.csv\",inferSchema=True,header=True).limit(5000)\n",
    "df_num.persist()\n",
    "df_num.count()"
   ]
  },
  {
   "cell_type": "code",
   "execution_count": 5,
   "metadata": {},
   "outputs": [],
   "source": [
    "df_fechas_av = spark.read.csv(\"fechas_av.csv\",inferSchema=True,header=True)\n",
    "df_fechas_os = spark.read.csv(\"fechas_os.csv\",inferSchema=True,header=True)"
   ]
  },
  {
   "cell_type": "code",
   "execution_count": 6,
   "metadata": {},
   "outputs": [],
   "source": [
    "df_fechas_os = df_fechas_os.withColumn('DateCensus_OSVersion', to_date(col('DateCensus_OSVersion')))\n",
    "df_fechas_av = df_fechas_av.withColumn('DateAvSigVersion', to_date(col('DateAvSigVersion')))"
   ]
  },
  {
   "cell_type": "code",
   "execution_count": 48,
   "metadata": {},
   "outputs": [],
   "source": [
    "# df_fechas_av.show(8)"
   ]
  },
  {
   "cell_type": "code",
   "execution_count": 49,
   "metadata": {},
   "outputs": [],
   "source": [
    "# df_fechas_os.show(8)"
   ]
  },
  {
   "cell_type": "code",
   "execution_count": 50,
   "metadata": {},
   "outputs": [],
   "source": [
    "# df_num.select('AvSigVersion').distinct().count()"
   ]
  },
  {
   "cell_type": "code",
   "execution_count": 51,
   "metadata": {},
   "outputs": [],
   "source": [
    "# df_num.select('Census_OSVersion').distinct().count()"
   ]
  },
  {
   "cell_type": "code",
   "execution_count": 52,
   "metadata": {},
   "outputs": [],
   "source": [
    "# df_num.select('OsBuildLab').distinct().count()"
   ]
  },
  {
   "cell_type": "markdown",
   "metadata": {},
   "source": [
    "El 5 elemento de la columna OsBuildLab es la fecha de release, por lo que hay que sacarla para aportar info!!!"
   ]
  },
  {
   "cell_type": "code",
   "execution_count": 53,
   "metadata": {
    "scrolled": true
   },
   "outputs": [],
   "source": [
    "# df_num.select('OsBuildLab').distinct().show(776, truncate = False)"
   ]
  },
  {
   "cell_type": "code",
   "execution_count": 7,
   "metadata": {},
   "outputs": [],
   "source": [
    "df_num = df_num.withColumn('OsBuildLab', regexp_replace('OsBuildLab', '\\*', '.').cast(StringType()))"
   ]
  },
  {
   "cell_type": "code",
   "execution_count": 8,
   "metadata": {},
   "outputs": [],
   "source": [
    "# df_num.select('OsBuildLab').distinct().show(776, truncate = False)"
   ]
  },
  {
   "cell_type": "code",
   "execution_count": 8,
   "metadata": {},
   "outputs": [],
   "source": [
    "df_date_osbuild = df_num.withColumn('OsBuildLab_4', split(df_num['OsBuildLab'], '\\.')[4].cast(StringType()))\n",
    "df_date_osbuild = df_date_osbuild.withColumn('OsBuildLab_date', split(df_date_osbuild['OsBuildLab_4'], '-')[0].cast(StringType()))"
   ]
  },
  {
   "cell_type": "code",
   "execution_count": 10,
   "metadata": {},
   "outputs": [],
   "source": [
    "# df_date_osbuild.select('OsBuildLab_date').show()"
   ]
  },
  {
   "cell_type": "code",
   "execution_count": 9,
   "metadata": {},
   "outputs": [],
   "source": [
    "df_date_osbuild = df_date_osbuild.withColumn('OsBuildLab_date', to_date(col('OsBuildLab_date'), format='yyMMdd'))"
   ]
  },
  {
   "cell_type": "code",
   "execution_count": 56,
   "metadata": {},
   "outputs": [],
   "source": [
    "# df_date_osbuild.select('OsBuildLab_date').show()"
   ]
  },
  {
   "cell_type": "code",
   "execution_count": 57,
   "metadata": {},
   "outputs": [],
   "source": [
    "# a = df_date_osbuild.orderBy('AvSigVersion')"
   ]
  },
  {
   "cell_type": "code",
   "execution_count": 58,
   "metadata": {},
   "outputs": [],
   "source": [
    "# a.select('AvSigVersion').distinct().count()"
   ]
  },
  {
   "cell_type": "code",
   "execution_count": 59,
   "metadata": {},
   "outputs": [],
   "source": [
    "# AvSigVersion_dis = a.select('AvSigVersion').distinct().collect()"
   ]
  },
  {
   "cell_type": "code",
   "execution_count": 19,
   "metadata": {},
   "outputs": [],
   "source": [
    "# AvSigVersion_dis"
   ]
  },
  {
   "cell_type": "code",
   "execution_count": 10,
   "metadata": {},
   "outputs": [],
   "source": [
    "df_dates = df_date_osbuild.join(df_fechas_av, ['AvSigVersion'], 'left').select('MachineIdentifier',\n",
    "                                                                               'Platform',\n",
    "                                                                               'OsBuildLab_date',\n",
    "                                                                               'DateAvSigVersion')"
   ]
  },
  {
   "cell_type": "code",
   "execution_count": 11,
   "metadata": {},
   "outputs": [],
   "source": [
    "# df_dates.show()"
   ]
  },
  {
   "cell_type": "code",
   "execution_count": 23,
   "metadata": {},
   "outputs": [],
   "source": [
    "w1 = Window.partitionBy('Platform').orderBy('OsBuildLab_date')\n",
    "w2 = Window.partitionBy('Platform').orderBy('DateAvSigVersion')\n",
    "w3 = Window.partitionBy().orderBy('OsBuildLab_date')\n",
    "w4 = Window.partitionBy().orderBy('DateAvSigVersion')"
   ]
  },
  {
   "cell_type": "code",
   "execution_count": 13,
   "metadata": {},
   "outputs": [],
   "source": [
    "data_windows = df_dates.withColumn('OsBuildLab_date_lag', lag('OsBuildLab_date').over(w1))\n",
    "data_windows.persist()\n",
    "data_windows.count()"
   ]
  },
  {
   "cell_type": "code",
   "execution_count": 15,
   "metadata": {},
   "outputs": [],
   "source": [
    "date_diff = data_windows.withColumn('OSBuild_diff', datediff(col('OsBuildLab_date'), col('OsBuildLab_date_lag')))"
   ]
  },
  {
   "cell_type": "code",
   "execution_count": 17,
   "metadata": {},
   "outputs": [],
   "source": [
    "date_diff_2 = date_diff.withColumn('DateAvSigVersion_lag', lag('DateAvSigVersion').over(w2))\n",
    "date_diff_2.persist()\n",
    "date_diff_2.count()"
   ]
  },
  {
   "cell_type": "code",
   "execution_count": 20,
   "metadata": {},
   "outputs": [],
   "source": [
    "date_diff_3 = date_diff_2.withColumn('AvSigVersion_diff', datediff(col('DateAvSigVersion'), col('DateAvSigVersion_lag')))"
   ]
  },
  {
   "cell_type": "code",
   "execution_count": 24,
   "metadata": {},
   "outputs": [
    {
     "data": {
      "text/plain": [
       "5000"
      ]
     },
     "execution_count": 24,
     "metadata": {},
     "output_type": "execute_result"
    }
   ],
   "source": [
    "data_windows = date_diff_3.withColumn('OsBuildLab_date_fulllag', lag('OsBuildLab_date').over(w3))\n",
    "data_windows.persist()\n",
    "data_windows.count()"
   ]
  },
  {
   "cell_type": "code",
   "execution_count": 29,
   "metadata": {},
   "outputs": [],
   "source": [
    "data_windows = data_windows.withColumn('OSBuild_fulldiff', datediff(col('OsBuildLab_date'), col('OsBuildLab_date_fulllag')))"
   ]
  },
  {
   "cell_type": "code",
   "execution_count": 25,
   "metadata": {},
   "outputs": [
    {
     "data": {
      "text/plain": [
       "5000"
      ]
     },
     "execution_count": 25,
     "metadata": {},
     "output_type": "execute_result"
    }
   ],
   "source": [
    "data_windows = data_windows.withColumn('DateAvSigVersion_fulllag', lag('DateAvSigVersion').over(w4))\n",
    "data_windows.persist()\n",
    "data_windows.count()"
   ]
  },
  {
   "cell_type": "code",
   "execution_count": 28,
   "metadata": {},
   "outputs": [],
   "source": [
    "data_windows = data_windows.withColumn('AvSigVersion_fulldiff', datediff(col('DateAvSigVersion'), col('DateAvSigVersion_fulllag')))"
   ]
  },
  {
   "cell_type": "code",
   "execution_count": 31,
   "metadata": {},
   "outputs": [
    {
     "name": "stdout",
     "output_type": "stream",
     "text": [
      "+--------------------+--------+---------------+----------------+-------------------+------------+--------------------+-----------------+-----------------------+------------------------+---------------------+----------------+\n",
      "|   MachineIdentifier|Platform|OsBuildLab_date|DateAvSigVersion|OsBuildLab_date_lag|OSBuild_diff|DateAvSigVersion_lag|AvSigVersion_diff|OsBuildLab_date_fulllag|DateAvSigVersion_fulllag|AvSigVersion_fulldiff|OSBuild_fulldiff|\n",
      "+--------------------+--------+---------------+----------------+-------------------+------------+--------------------+-----------------+-----------------------+------------------------+---------------------+----------------+\n",
      "|5357a92653a18f2d5...|windows8|     2017-04-27|      2017-05-29|         2017-02-04|          82|          2016-07-08|              325|             2017-04-27|              2017-05-22|                    7|               0|\n",
      "|535fa26f687e7abdd...|windows8|     2017-09-14|      2018-01-08|         2017-09-14|           0|          2017-05-29|              224|             2017-09-13|              2018-01-08|                    0|               1|\n",
      "|5359fb080c1844672...|windows8|     2018-01-01|      2018-01-31|         2018-01-01|           0|          2018-01-08|               23|             2017-12-31|              2018-01-30|                    1|               1|\n",
      "+--------------------+--------+---------------+----------------+-------------------+------------+--------------------+-----------------+-----------------------+------------------------+---------------------+----------------+\n",
      "only showing top 3 rows\n",
      "\n"
     ]
    }
   ],
   "source": [
    "data_windows.filter((col('AvSigVersion_diff') > 0) & (col('Platform') != 'windows10')).show(3)"
   ]
  },
  {
   "cell_type": "code",
   "execution_count": 33,
   "metadata": {},
   "outputs": [],
   "source": [
    "df_max_date = data_windows.groupBy('Platform').agg(max('OsBuildLab_date'),\n",
    "                                                  max('DateAvSigVersion'),\n",
    "                                                  max('OSBuild_diff'),\n",
    "                                                  max('AvSigVersion_diff'),\n",
    "                                                  max('OSBuild_fulldiff'),\n",
    "                                                  max('AvSigVersion_fulldiff'))"
   ]
  },
  {
   "cell_type": "code",
   "execution_count": 38,
   "metadata": {},
   "outputs": [],
   "source": [
    "df_date_max_date = data_windows.join(df_max_date, ['Platform'], 'left')"
   ]
  },
  {
   "cell_type": "code",
   "execution_count": 39,
   "metadata": {
    "scrolled": true
   },
   "outputs": [
    {
     "name": "stdout",
     "output_type": "stream",
     "text": [
      "+---------+--------------------+---------------+----------------+-------------------+------------+--------------------+-----------------+-----------------------+------------------------+---------------------+----------------+--------------------+---------------------+-----------------+----------------------+---------------------+--------------------------+\n",
      "| Platform|   MachineIdentifier|OsBuildLab_date|DateAvSigVersion|OsBuildLab_date_lag|OSBuild_diff|DateAvSigVersion_lag|AvSigVersion_diff|OsBuildLab_date_fulllag|DateAvSigVersion_fulllag|AvSigVersion_fulldiff|OSBuild_fulldiff|max(OsBuildLab_date)|max(DateAvSigVersion)|max(OSBuild_diff)|max(AvSigVersion_diff)|max(OSBuild_fulldiff)|max(AvSigVersion_fulldiff)|\n",
      "+---------+--------------------+---------------+----------------+-------------------+------------+--------------------+-----------------+-----------------------+------------------------+---------------------+----------------+--------------------+---------------------+-----------------+----------------------+---------------------+--------------------------+\n",
      "|windows10|5363bedd7963ce3c8...|     2016-10-14|      2016-05-20|         2016-10-14|           0|                null|             null|             2016-10-11|                    null|                 null|               3|          2018-09-11|           2018-09-25|               73|                    60|                  113|                        60|\n",
      "|windows10|535d83787918a49eb...|     2016-12-20|      2016-06-27|         2016-12-20|           0|          2016-05-20|               38|             2016-12-08|              2016-05-20|                   38|              12|          2018-09-11|           2018-09-25|               73|                    60|                  113|                        60|\n",
      "| windows8|534dcfd0091136f3b...|     2017-08-10|      2016-07-08|         2017-04-27|         105|                null|             null|             2017-08-10|              2016-06-27|                   11|               0|          2018-08-12|           2018-09-25|              206|                   325|                   46|                        11|\n",
      "+---------+--------------------+---------------+----------------+-------------------+------------+--------------------+-----------------+-----------------------+------------------------+---------------------+----------------+--------------------+---------------------+-----------------+----------------------+---------------------+--------------------------+\n",
      "only showing top 3 rows\n",
      "\n"
     ]
    }
   ],
   "source": [
    "df_date_max_date.show(3)"
   ]
  },
  {
   "cell_type": "code",
   "execution_count": 45,
   "metadata": {},
   "outputs": [],
   "source": [
    "df_date_max_date = df_date_max_date.withColumn('OsBuildLab_difftotal', datediff(col('max(OsBuildLab_date)'), col('OsBuildLab_date')))\\\n",
    ".withColumn('DateAvSigVersion_difftotal', datediff(col('max(DateAvSigVersion)'), col('DateAvSigVersion')))\\\n",
    ".withColumn('DateAvSigVersion_fulldifftotal', datediff(col('max(DateAvSigVersion)'), col('DateAvSigVersion_fulllag')))\\\n",
    ".withColumn('OsBuildLab_fulldifftotal', datediff(col('max(OsBuildLab_date)'), col('OsBuildLab_date_fulllag')))\\\n",
    ".withColumn('DateAvSigVersion_ratio', round(col('AvSigVersion_diff')/col('max(AvSigVersion_diff)')*100, 2))\\\n",
    ".withColumn('OsBuildLab_ratio', round(col('OSBuild_diff')/col('max(OSBuild_diff)')*100, 2))\\\n",
    ".withColumn('DateAvSigVersion_fullratio', round(col('AvSigVersion_fulldiff')/col('max(AvSigVersion_diff)')*100, 2))\\\n",
    ".withColumn('OsBuildLab_fullratio', round(col('OSBuild_fulldiff')/col('max(OSBuild_diff)')*100, 2))"
   ]
  },
  {
   "cell_type": "code",
   "execution_count": 46,
   "metadata": {},
   "outputs": [
    {
     "name": "stdout",
     "output_type": "stream",
     "text": [
      "+---------+--------------------+---------------+----------------+-------------------+------------+--------------------+-----------------+-----------------------+------------------------+---------------------+----------------+--------------------+---------------------+-----------------+----------------------+---------------------+--------------------------+--------------------+--------------------------+------------------------------+------------------------+----------------------+----------------+--------------------------+--------------------+\n",
      "| Platform|   MachineIdentifier|OsBuildLab_date|DateAvSigVersion|OsBuildLab_date_lag|OSBuild_diff|DateAvSigVersion_lag|AvSigVersion_diff|OsBuildLab_date_fulllag|DateAvSigVersion_fulllag|AvSigVersion_fulldiff|OSBuild_fulldiff|max(OsBuildLab_date)|max(DateAvSigVersion)|max(OSBuild_diff)|max(AvSigVersion_diff)|max(OSBuild_fulldiff)|max(AvSigVersion_fulldiff)|OsBuildLab_difftotal|DateAvSigVersion_difftotal|DateAvSigVersion_fulldifftotal|OsBuildLab_fulldifftotal|DateAvSigVersion_ratio|OsBuildLab_ratio|DateAvSigVersion_fullratio|OsBuildLab_fullratio|\n",
      "+---------+--------------------+---------------+----------------+-------------------+------------+--------------------+-----------------+-----------------------+------------------------+---------------------+----------------+--------------------+---------------------+-----------------+----------------------+---------------------+--------------------------+--------------------+--------------------------+------------------------------+------------------------+----------------------+----------------+--------------------------+--------------------+\n",
      "|windows10|5363bedd7963ce3c8...|     2016-10-14|      2016-05-20|         2016-10-14|           0|                null|             null|             2016-10-11|                    null|                 null|               3|          2018-09-11|           2018-09-25|               73|                    60|                  113|                        60|                 697|                       858|                          null|                     700|                  null|             0.0|                      null|                4.11|\n",
      "|windows10|535d83787918a49eb...|     2016-12-20|      2016-06-27|         2016-12-20|           0|          2016-05-20|               38|             2016-12-08|              2016-05-20|                   38|              12|          2018-09-11|           2018-09-25|               73|                    60|                  113|                        60|                 630|                       820|                           858|                     642|                 63.33|             0.0|                     63.33|               16.44|\n",
      "| windows8|534dcfd0091136f3b...|     2017-08-10|      2016-07-08|         2017-04-27|         105|                null|             null|             2017-08-10|              2016-06-27|                   11|               0|          2018-08-12|           2018-09-25|              206|                   325|                   46|                        11|                 367|                       809|                           820|                     367|                  null|           50.97|                      3.38|                 0.0|\n",
      "+---------+--------------------+---------------+----------------+-------------------+------------+--------------------+-----------------+-----------------------+------------------------+---------------------+----------------+--------------------+---------------------+-----------------+----------------------+---------------------+--------------------------+--------------------+--------------------------+------------------------------+------------------------+----------------------+----------------+--------------------------+--------------------+\n",
      "only showing top 3 rows\n",
      "\n"
     ]
    }
   ],
   "source": [
    "df_date_max_date.show(3)"
   ]
  },
  {
   "cell_type": "code",
   "execution_count": 49,
   "metadata": {},
   "outputs": [],
   "source": [
    "final_dates = df_date_max_date.withColumn('OsBuildLab_dayOfWeek', date_format('OsBuildLab_date', 'u'))\\\n",
    ".withColumn('AvSigVersion_dayOfWeek', date_format('DateAvSigVersion', 'u'))"
   ]
  },
  {
   "cell_type": "code",
   "execution_count": 50,
   "metadata": {},
   "outputs": [
    {
     "name": "stdout",
     "output_type": "stream",
     "text": [
      "+---------+--------------------+---------------+----------------+-------------------+------------+--------------------+-----------------+-----------------------+------------------------+---------------------+----------------+--------------------+---------------------+-----------------+----------------------+---------------------+--------------------------+--------------------+--------------------------+------------------------------+------------------------+----------------------+----------------+--------------------------+--------------------+--------------------+----------------------+\n",
      "| Platform|   MachineIdentifier|OsBuildLab_date|DateAvSigVersion|OsBuildLab_date_lag|OSBuild_diff|DateAvSigVersion_lag|AvSigVersion_diff|OsBuildLab_date_fulllag|DateAvSigVersion_fulllag|AvSigVersion_fulldiff|OSBuild_fulldiff|max(OsBuildLab_date)|max(DateAvSigVersion)|max(OSBuild_diff)|max(AvSigVersion_diff)|max(OSBuild_fulldiff)|max(AvSigVersion_fulldiff)|OsBuildLab_difftotal|DateAvSigVersion_difftotal|DateAvSigVersion_fulldifftotal|OsBuildLab_fulldifftotal|DateAvSigVersion_ratio|OsBuildLab_ratio|DateAvSigVersion_fullratio|OsBuildLab_fullratio|OsBuildLab_dayOfWeek|AvSigVersion_dayOfWeek|\n",
      "+---------+--------------------+---------------+----------------+-------------------+------------+--------------------+-----------------+-----------------------+------------------------+---------------------+----------------+--------------------+---------------------+-----------------+----------------------+---------------------+--------------------------+--------------------+--------------------------+------------------------------+------------------------+----------------------+----------------+--------------------------+--------------------+--------------------+----------------------+\n",
      "|windows10|5352cbde2f8d64734...|     2017-03-27|      2017-04-26|         2017-03-27|           0|          2017-04-10|               16|             2017-03-17|              2017-04-10|                   16|              10|          2018-09-11|           2018-09-25|               73|                    60|                  113|                        60|                 533|                       517|                           533|                     543|                 26.67|             0.0|                     26.67|                13.7|                   1|                     3|\n",
      "|windows10|535df20f7e3ae854a...|     2016-03-28|      2017-05-18|         2016-03-28|           0|          2017-05-03|               15|             2016-02-23|              2017-05-03|                   15|              34|          2018-09-11|           2018-09-25|               73|                    60|                  113|                        60|                 897|                       495|                           510|                     931|                  25.0|             0.0|                      25.0|               46.58|                   1|                     4|\n",
      "|windows10|53480d525d24db6e9...|     2017-07-31|      2017-09-11|         2017-07-28|           3|          2017-09-11|                0|             2017-07-28|              2017-09-11|                    0|               3|          2018-09-11|           2018-09-25|               73|                    60|                  113|                        60|                 407|                       379|                           379|                     410|                   0.0|            4.11|                       0.0|                4.11|                   1|                     1|\n",
      "+---------+--------------------+---------------+----------------+-------------------+------------+--------------------+-----------------+-----------------------+------------------------+---------------------+----------------+--------------------+---------------------+-----------------+----------------------+---------------------+--------------------------+--------------------+--------------------------+------------------------------+------------------------+----------------------+----------------+--------------------------+--------------------+--------------------+----------------------+\n",
      "only showing top 3 rows\n",
      "\n"
     ]
    }
   ],
   "source": [
    "final_dates.filter(col('OsBuildLab_dayOfWeek')==1).show(3)"
   ]
  },
  {
   "cell_type": "code",
   "execution_count": 57,
   "metadata": {},
   "outputs": [],
   "source": [
    "drop_list = ['Platform', 'OsBuildLab_date', 'DateAvSigVersion', 'OsBuildLab_date_lag',\n",
    "             'DateAvSigVersion_lag', 'max(OsBuildLab_date)', 'max(DateAvSigVersion)',\n",
    "             'OsBuildLab_date_fulllag', 'DateAvSigVersion_fulllag', 'max(OSBuild_diff)',\n",
    "             'max(AvSigVersion_diff)', 'max(OSBuild_fulldiff)', 'max(AvSigVersion_fulldiff)']\n",
    "\n",
    "for c in drop_list:\n",
    "    final_dates = final_dates.drop(c)"
   ]
  },
  {
   "cell_type": "code",
   "execution_count": 58,
   "metadata": {},
   "outputs": [],
   "source": [
    "final_dates_imputed = final_dates.fillna(0)"
   ]
  },
  {
   "cell_type": "code",
   "execution_count": 59,
   "metadata": {
    "scrolled": true
   },
   "outputs": [
    {
     "name": "stdout",
     "output_type": "stream",
     "text": [
      "+--------------------+------------+-----------------+---------------------+----------------+--------------------+--------------------------+------------------------------+------------------------+----------------------+----------------+--------------------------+--------------------+--------------------+----------------------+\n",
      "|   MachineIdentifier|OSBuild_diff|AvSigVersion_diff|AvSigVersion_fulldiff|OSBuild_fulldiff|OsBuildLab_difftotal|DateAvSigVersion_difftotal|DateAvSigVersion_fulldifftotal|OsBuildLab_fulldifftotal|DateAvSigVersion_ratio|OsBuildLab_ratio|DateAvSigVersion_fullratio|OsBuildLab_fullratio|OsBuildLab_dayOfWeek|AvSigVersion_dayOfWeek|\n",
      "+--------------------+------------+-----------------+---------------------+----------------+--------------------+--------------------------+------------------------------+------------------------+----------------------+----------------+--------------------------+--------------------+--------------------+----------------------+\n",
      "|5363bedd7963ce3c8...|           0|                0|                    0|               3|                 697|                       858|                             0|                     700|                   0.0|             0.0|                       0.0|                4.11|                   5|                     5|\n",
      "|535d83787918a49eb...|           0|               38|                   38|              12|                 630|                       820|                           858|                     642|                 63.33|             0.0|                     63.33|               16.44|                   2|                     1|\n",
      "|534dcfd0091136f3b...|         105|                0|                   11|               0|                 367|                       809|                           820|                     367|                   0.0|           50.97|                      3.38|                 0.0|                   4|                     5|\n",
      "|53524488234b61d2d...|           0|               14|                    3|              35|                 837|                       806|                           809|                     872|                 23.33|             0.0|                       5.0|               47.95|                   5|                     1|\n",
      "|535fc198a964e5dc3...|           0|                9|                    9|               5|                 132|                       797|                           806|                     137|                  15.0|             0.0|                      15.0|                6.85|                   3|                     3|\n",
      "|53642865f3ed2f6f3...|           0|                1|                    1|              21|                 466|                       796|                           797|                     487|                  1.67|             0.0|                      1.67|               28.77|                   5|                     4|\n",
      "|5363115653644973e...|           0|               60|                   60|               2|                  34|                       736|                           796|                      36|                 100.0|             0.0|                     100.0|                2.74|                   3|                     1|\n",
      "|536516de6ff06fb88...|           0|               16|                   16|               7|                 363|                       720|                           736|                     370|                 26.67|             0.0|                     26.67|                9.59|                   3|                     3|\n",
      "|535f23d328f158459...|           0|               16|                   16|              11|                 348|                       704|                           720|                     359|                 26.67|             0.0|                     26.67|               15.07|                   4|                     5|\n",
      "|534687be21939e73d...|          12|                3|                    3|              12|                 286|                       701|                           704|                     298|                   5.0|           16.44|                       5.0|               16.44|                   3|                     1|\n",
      "|5351df98c934ce0fd...|           0|               12|                   12|               0|                 132|                       689|                           701|                     132|                  20.0|             0.0|                      20.0|                 0.0|                   3|                     6|\n",
      "|5368e83e6c5bfc327...|           0|               25|                   25|               9|                 678|                       664|                           689|                     687|                 41.67|             0.0|                     41.67|               12.33|                   3|                     3|\n",
      "|5364f30ee60970182...|           0|               12|                   12|               0|                 466|                       652|                           664|                     466|                  20.0|             0.0|                      20.0|                 0.0|                   5|                     1|\n",
      "|5365aac77f6990f8e...|           0|               17|                   17|               0|                 466|                       635|                           652|                     466|                 28.33|             0.0|                     28.33|                 0.0|                   5|                     4|\n",
      "|53697505802762b6a...|           0|                6|                    6|              28|                 642|                       629|                           635|                     670|                  10.0|             0.0|                      10.0|               38.36|                   4|                     3|\n",
      "|5361758786669c2e3...|           0|               21|                   21|              10|                 543|                       608|                           629|                     553|                  35.0|             0.0|                      35.0|                13.7|                   5|                     3|\n",
      "|53534ee80c77760f7...|           0|                5|                    5|               0|                 348|                       603|                           608|                     348|                  8.33|             0.0|                      8.33|                 0.0|                   4|                     1|\n",
      "|535cca5457019a127...|           0|                8|                    8|               0|                 630|                       595|                           603|                     630|                 13.33|             0.0|                     13.33|                 0.0|                   2|                     2|\n",
      "|534c322e05a7b5412...|           0|               14|                   14|              34|                 432|                       581|                           595|                     466|                 23.33|             0.0|                     23.33|               46.58|                   4|                     2|\n",
      "|53468103e8ffd7098...|           0|                1|                    1|               0|                 543|                       580|                           581|                     543|                  1.67|             0.0|                      1.67|                 0.0|                   5|                     3|\n",
      "+--------------------+------------+-----------------+---------------------+----------------+--------------------+--------------------------+------------------------------+------------------------+----------------------+----------------+--------------------------+--------------------+--------------------+----------------------+\n",
      "only showing top 20 rows\n",
      "\n"
     ]
    }
   ],
   "source": [
    "final_dates_imputed.show()"
   ]
  },
  {
   "cell_type": "code",
   "execution_count": null,
   "metadata": {},
   "outputs": [],
   "source": []
  }
 ],
 "metadata": {
  "kernelspec": {
   "display_name": "Python 3",
   "language": "python",
   "name": "python3"
  },
  "language_info": {
   "codemirror_mode": {
    "name": "ipython",
    "version": 3
   },
   "file_extension": ".py",
   "mimetype": "text/x-python",
   "name": "python",
   "nbconvert_exporter": "python",
   "pygments_lexer": "ipython3",
   "version": "3.6.7"
  }
 },
 "nbformat": 4,
 "nbformat_minor": 2
}
