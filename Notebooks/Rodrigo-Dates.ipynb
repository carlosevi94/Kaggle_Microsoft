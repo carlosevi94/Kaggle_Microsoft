{
 "cells": [
  {
   "cell_type": "code",
   "execution_count": 1,
   "metadata": {},
   "outputs": [],
   "source": [
    "from pyspark.sql import SparkSession\n",
    "from pyspark.ml.feature import StringIndexer\n",
    "from pyspark.sql.types import (StructType, StructField, StringType,\n",
    "                               DoubleType, IntegerType, LongType,DateType)\n",
    "from pyspark.sql.functions import *\n",
    "from pyspark.sql.window import Window\n",
    "from pyspark import SparkConf\n",
    "from pyspark import SparkContext\n",
    "import multiprocessing\n",
    "from datetime import datetime\n",
    "import numpy as np\n",
    "import pandas as pd\n",
    "import csv"
   ]
  },
  {
   "cell_type": "code",
   "execution_count": 23,
   "metadata": {},
   "outputs": [],
   "source": [
    "datedictAS = np.load('AvSigVersionTimestamps.npy')\n",
    "datedictOS = np.load('OSVersionTimestamps.npy')"
   ]
  },
  {
   "cell_type": "code",
   "execution_count": 56,
   "metadata": {},
   "outputs": [],
   "source": [
    "rango_av = len(datedictAS[()])\n",
    "rango_os = len(datedictOS[()])"
   ]
  },
  {
   "cell_type": "code",
   "execution_count": 57,
   "metadata": {},
   "outputs": [],
   "source": [
    "df_os = pd.DataFrame(datedictOS.tolist(),index=range(1,rango_os+1))\n",
    "df_av = pd.DataFrame(datedictAS.tolist(),index=range(1,rango_av+1))"
   ]
  },
  {
   "cell_type": "code",
   "execution_count": 58,
   "metadata": {},
   "outputs": [],
   "source": [
    "data_os = df_os.transpose().reset_index()\n",
    "data_av = df_av.transpose().reset_index()"
   ]
  },
  {
   "cell_type": "code",
   "execution_count": 59,
   "metadata": {},
   "outputs": [],
   "source": [
    "data_os = data_os.iloc[:,:2]\n",
    "data_av = data_av.iloc[:,:2]"
   ]
  },
  {
   "cell_type": "code",
   "execution_count": 60,
   "metadata": {},
   "outputs": [],
   "source": [
    "data_os.columns = ['Census_OSVersion', 'DateCensus_OSVersion']\n",
    "data_av.columns = ['AvSigVersion', 'DateAvSigVersion']"
   ]
  },
  {
   "cell_type": "code",
   "execution_count": 63,
   "metadata": {},
   "outputs": [
    {
     "name": "stdout",
     "output_type": "stream",
     "text": [
      "   Census_OSVersion DateCensus_OSVersion\n",
      "0    10.0.14393.351           2016-10-27\n",
      "1   10.0.14393.2097           2018-02-22\n",
      "2  10.0.10240.17918           2018-07-16\n",
      "3   10.0.17744.1004           2018-09-07\n",
      "4    10.0.16299.665           2018-09-11\n",
      "   AvSigVersion    DateAvSigVersion\n",
      "0   1.155.266.0 2013-07-18 09:08:00\n",
      "1   1.167.387.0 2014-02-21 14:20:00\n",
      "2  1.169.1625.0 2014-04-03 01:17:00\n",
      "3  1.169.2478.0 2014-04-12 17:16:00\n",
      "4    1.169.55.0 2014-03-18 01:09:00\n"
     ]
    }
   ],
   "source": [
    "print(data_os.head())\n",
    "print(data_av.head())"
   ]
  },
  {
   "cell_type": "code",
   "execution_count": 64,
   "metadata": {},
   "outputs": [],
   "source": [
    "data_os.to_csv(\"fechas_os.csv\",index=False)\n",
    "data_av.to_csv(\"fechas_av.csv\",index=False)"
   ]
  },
  {
   "cell_type": "code",
   "execution_count": null,
   "metadata": {},
   "outputs": [],
   "source": []
  },
  {
   "cell_type": "code",
   "execution_count": null,
   "metadata": {},
   "outputs": [],
   "source": []
  },
  {
   "cell_type": "code",
   "execution_count": null,
   "metadata": {},
   "outputs": [],
   "source": []
  },
  {
   "cell_type": "code",
   "execution_count": null,
   "metadata": {},
   "outputs": [],
   "source": []
  },
  {
   "cell_type": "code",
   "execution_count": 2,
   "metadata": {},
   "outputs": [],
   "source": [
    "conf = SparkConf()\n",
    "cores = multiprocessing.cpu_count()\n",
    "conf = SparkConf()\n",
    "conf.set(\"spark.sql.shuffle.partitions\", int(8))\n",
    "conf.set(\"spark.default.parallelism\", int(8))\n",
    "sc = SparkContext(conf=conf)"
   ]
  },
  {
   "cell_type": "code",
   "execution_count": 3,
   "metadata": {},
   "outputs": [],
   "source": [
    "spark = SparkSession.builder.appName(\"Microsoft_Kaggle\").getOrCreate()"
   ]
  },
  {
   "cell_type": "code",
   "execution_count": 4,
   "metadata": {},
   "outputs": [
    {
     "data": {
      "text/plain": [
       "5000"
      ]
     },
     "execution_count": 4,
     "metadata": {},
     "output_type": "execute_result"
    }
   ],
   "source": [
    "df_num = spark.read.csv(\"../data/df_cat_prepro_0/*.csv\",inferSchema=True,header=True).limit(5000)\n",
    "df_num.persist()\n",
    "df_num.count()"
   ]
  },
  {
   "cell_type": "code",
   "execution_count": 5,
   "metadata": {},
   "outputs": [],
   "source": [
    "df_fechas_av = spark.read.csv(\"fechas_av.csv\",inferSchema=True,header=True)\n",
    "df_fechas_os = spark.read.csv(\"fechas_os.csv\",inferSchema=True,header=True)"
   ]
  },
  {
   "cell_type": "code",
   "execution_count": 6,
   "metadata": {},
   "outputs": [],
   "source": [
    "df_fechas_os = df_fechas_os.withColumn('DateCensus_OSVersion', to_date(col('DateCensus_OSVersion')))\n",
    "df_fechas_av = df_fechas_av.withColumn('DateAvSigVersion', to_date(col('DateAvSigVersion')))"
   ]
  },
  {
   "cell_type": "code",
   "execution_count": 48,
   "metadata": {},
   "outputs": [],
   "source": [
    "# df_fechas_av.show(8)"
   ]
  },
  {
   "cell_type": "code",
   "execution_count": 49,
   "metadata": {},
   "outputs": [],
   "source": [
    "# df_fechas_os.show(8)"
   ]
  },
  {
   "cell_type": "code",
   "execution_count": 50,
   "metadata": {},
   "outputs": [],
   "source": [
    "# df_num.select('AvSigVersion').distinct().count()"
   ]
  },
  {
   "cell_type": "code",
   "execution_count": 51,
   "metadata": {},
   "outputs": [],
   "source": [
    "# df_num.select('Census_OSVersion').distinct().count()"
   ]
  },
  {
   "cell_type": "code",
   "execution_count": 52,
   "metadata": {},
   "outputs": [],
   "source": [
    "# df_num.select('OsBuildLab').distinct().count()"
   ]
  },
  {
   "cell_type": "markdown",
   "metadata": {},
   "source": [
    "El 5 elemento de la columna OsBuildLab es la fecha de release, por lo que hay que sacarla para aportar info!!!"
   ]
  },
  {
   "cell_type": "code",
   "execution_count": 53,
   "metadata": {
    "scrolled": true
   },
   "outputs": [],
   "source": [
    "# df_num.select('OsBuildLab').distinct().show(776, truncate = False)"
   ]
  },
  {
   "cell_type": "code",
   "execution_count": 7,
   "metadata": {},
   "outputs": [],
   "source": [
    "df_num = df_num.withColumn('OsBuildLab', regexp_replace('OsBuildLab', '\\*', '.').cast(StringType()))"
   ]
  },
  {
   "cell_type": "code",
   "execution_count": 8,
   "metadata": {},
   "outputs": [],
   "source": [
    "# df_num.select('OsBuildLab').distinct().show(776, truncate = False)"
   ]
  },
  {
   "cell_type": "code",
   "execution_count": 9,
   "metadata": {},
   "outputs": [],
   "source": [
    "df_date_osbuild = df_num.withColumn('OsBuildLab_4', split(df_num['OsBuildLab'], '\\.')[4].cast(StringType()))\n",
    "df_date_osbuild = df_date_osbuild.withColumn('OsBuildLab_date', split(df_date_osbuild['OsBuildLab_4'], '-')[0].cast(StringType()))"
   ]
  },
  {
   "cell_type": "code",
   "execution_count": 10,
   "metadata": {},
   "outputs": [],
   "source": [
    "# df_date_osbuild.select('OsBuildLab_date').show()"
   ]
  },
  {
   "cell_type": "code",
   "execution_count": 11,
   "metadata": {},
   "outputs": [],
   "source": [
    "df_date_osbuild = df_date_osbuild.withColumn('OsBuildLab_date', to_date(col('OsBuildLab_date'), format='yyMMdd'))"
   ]
  },
  {
   "cell_type": "code",
   "execution_count": 56,
   "metadata": {},
   "outputs": [],
   "source": [
    "# df_date_osbuild.select('OsBuildLab_date').show()"
   ]
  },
  {
   "cell_type": "code",
   "execution_count": 57,
   "metadata": {},
   "outputs": [],
   "source": [
    "# a = df_date_osbuild.orderBy('AvSigVersion')"
   ]
  },
  {
   "cell_type": "code",
   "execution_count": 58,
   "metadata": {},
   "outputs": [],
   "source": [
    "# a.select('AvSigVersion').distinct().count()"
   ]
  },
  {
   "cell_type": "code",
   "execution_count": 59,
   "metadata": {},
   "outputs": [],
   "source": [
    "# AvSigVersion_dis = a.select('AvSigVersion').distinct().collect()"
   ]
  },
  {
   "cell_type": "code",
   "execution_count": 19,
   "metadata": {},
   "outputs": [],
   "source": [
    "# AvSigVersion_dis"
   ]
  },
  {
   "cell_type": "code",
   "execution_count": 16,
   "metadata": {},
   "outputs": [],
   "source": [
    "df_dates = df_date_osbuild.join(df_fechas_av, ['AvSigVersion'], 'left').select('MachineIdentifier',\n",
    "                                                                               'Platform',\n",
    "                                                                               'OsBuildLab_date',\n",
    "                                                                               'DateAvSigVersion')"
   ]
  },
  {
   "cell_type": "code",
   "execution_count": 17,
   "metadata": {},
   "outputs": [],
   "source": [
    "# df_dates.show()"
   ]
  },
  {
   "cell_type": "code",
   "execution_count": 18,
   "metadata": {},
   "outputs": [],
   "source": [
    "w1 = Window.partitionBy('Platform').orderBy('OsBuildLab_date')\n",
    "w2 = Window.partitionBy('Platform').orderBy('DateAvSigVersion')"
   ]
  },
  {
   "cell_type": "code",
   "execution_count": 19,
   "metadata": {},
   "outputs": [],
   "source": [
    "data_windows = df_dates.withColumn('OsBuildLab_date_lag', lag('OsBuildLab_date').over(w1))\n",
    "# .withColumn('DateAvSigVersion_lag', lag('DateAvSigVersion').over(w2))"
   ]
  },
  {
   "cell_type": "code",
   "execution_count": 20,
   "metadata": {},
   "outputs": [
    {
     "data": {
      "text/plain": [
       "5000"
      ]
     },
     "execution_count": 20,
     "metadata": {},
     "output_type": "execute_result"
    }
   ],
   "source": [
    "data_windows.persist()\n",
    "data_windows.count()"
   ]
  },
  {
   "cell_type": "code",
   "execution_count": 21,
   "metadata": {
    "scrolled": false
   },
   "outputs": [],
   "source": [
    "# data_windows.filter(col('OsBuildLab_date').isNotNull()).show()"
   ]
  },
  {
   "cell_type": "code",
   "execution_count": 22,
   "metadata": {},
   "outputs": [],
   "source": [
    "date_diff = data_windows.withColumn('OSBuild_diff', datediff(col('OsBuildLab_date'), col('OsBuildLab_date_lag')))"
   ]
  },
  {
   "cell_type": "code",
   "execution_count": 23,
   "metadata": {
    "scrolled": true
   },
   "outputs": [],
   "source": [
    "# date_diff.filter((col('OSBuild_diff') > 0) & (col('Platform') != 'windows10')).show(50)"
   ]
  },
  {
   "cell_type": "code",
   "execution_count": 24,
   "metadata": {},
   "outputs": [],
   "source": [
    "date_diff_2 = date_diff.withColumn('DateAvSigVersion_lag', lag('DateAvSigVersion').over(w2))"
   ]
  },
  {
   "cell_type": "code",
   "execution_count": 25,
   "metadata": {},
   "outputs": [
    {
     "data": {
      "text/plain": [
       "5000"
      ]
     },
     "execution_count": 25,
     "metadata": {},
     "output_type": "execute_result"
    }
   ],
   "source": [
    "date_diff_2.persist()\n",
    "date_diff_2.count()"
   ]
  },
  {
   "cell_type": "code",
   "execution_count": 26,
   "metadata": {},
   "outputs": [
    {
     "name": "stdout",
     "output_type": "stream",
     "text": [
      "+--------------------+---------+---------------+----------------+-------------------+------------+--------------------+\n",
      "|   MachineIdentifier| Platform|OsBuildLab_date|DateAvSigVersion|OsBuildLab_date_lag|OSBuild_diff|DateAvSigVersion_lag|\n",
      "+--------------------+---------+---------------+----------------+-------------------+------------+--------------------+\n",
      "|5363bedd7963ce3c8...|windows10|     2016-10-14|      2016-05-20|         2016-10-14|           0|                null|\n",
      "|535d83787918a49eb...|windows10|     2016-12-20|      2016-06-27|         2016-12-20|           0|          2016-05-20|\n",
      "|53524488234b61d2d...|windows10|     2016-05-27|      2016-07-11|         2016-05-27|           0|          2016-06-27|\n",
      "|535fc198a964e5dc3...|windows10|     2018-05-02|      2016-07-20|         2018-05-02|           0|          2016-07-11|\n",
      "|53642865f3ed2f6f3...|windows10|     2017-06-02|      2016-07-21|         2017-06-02|           0|          2016-07-20|\n",
      "|5363115653644973e...|windows10|     2018-08-08|      2016-09-19|         2018-08-08|           0|          2016-07-21|\n",
      "+--------------------+---------+---------------+----------------+-------------------+------------+--------------------+\n",
      "only showing top 6 rows\n",
      "\n"
     ]
    }
   ],
   "source": [
    "date_diff_2.show(6)"
   ]
  },
  {
   "cell_type": "code",
   "execution_count": 27,
   "metadata": {},
   "outputs": [],
   "source": [
    "date_diff_3 = date_diff_2.withColumn('AvSigVersion_diff', datediff(col('DateAvSigVersion'), col('DateAvSigVersion_lag')))"
   ]
  },
  {
   "cell_type": "code",
   "execution_count": 28,
   "metadata": {},
   "outputs": [
    {
     "name": "stdout",
     "output_type": "stream",
     "text": [
      "+--------------------+-----------+---------------+----------------+-------------------+------------+--------------------+-----------------+\n",
      "|   MachineIdentifier|   Platform|OsBuildLab_date|DateAvSigVersion|OsBuildLab_date_lag|OSBuild_diff|DateAvSigVersion_lag|AvSigVersion_diff|\n",
      "+--------------------+-----------+---------------+----------------+-------------------+------------+--------------------+-----------------+\n",
      "|535e5ba128ba4e481...|windows2016|     2018-06-07|      2018-07-31|         2018-04-27|          41|          2018-07-27|                4|\n",
      "|5363e313e1294dc45...|windows2016|     2018-06-07|      2018-08-01|         2018-06-07|           0|          2018-07-31|                1|\n",
      "|534ceb5e33ce45976...|windows2016|     2017-04-27|      2018-08-02|               null|        null|          2018-08-01|                1|\n",
      "+--------------------+-----------+---------------+----------------+-------------------+------------+--------------------+-----------------+\n",
      "only showing top 3 rows\n",
      "\n"
     ]
    }
   ],
   "source": [
    "date_diff_3.filter((col('AvSigVersion_diff') > 0) & (col('Platform') != 'windows10')).show(3)"
   ]
  },
  {
   "cell_type": "code",
   "execution_count": 29,
   "metadata": {},
   "outputs": [],
   "source": [
    "df_max_date = date_diff_3.groupBy('Platform').agg(max('OsBuildLab_date'),\n",
    "                                                  max('DateAvSigVersion'),\n",
    "                                                  max('OSBuild_diff'),\n",
    "                                                  max('AvSigVersion_diff'))"
   ]
  },
  {
   "cell_type": "code",
   "execution_count": 41,
   "metadata": {},
   "outputs": [],
   "source": [
    "df_date_max_date = date_diff_3.join(df_max_date, ['Platform'], 'left')"
   ]
  },
  {
   "cell_type": "code",
   "execution_count": 42,
   "metadata": {
    "scrolled": true
   },
   "outputs": [
    {
     "name": "stdout",
     "output_type": "stream",
     "text": [
      "+---------+--------------------+---------------+----------------+-------------------+------------+--------------------+-----------------+--------------------+---------------------+-----------------+----------------------+\n",
      "| Platform|   MachineIdentifier|OsBuildLab_date|DateAvSigVersion|OsBuildLab_date_lag|OSBuild_diff|DateAvSigVersion_lag|AvSigVersion_diff|max(OsBuildLab_date)|max(DateAvSigVersion)|max(OSBuild_diff)|max(AvSigVersion_diff)|\n",
      "+---------+--------------------+---------------+----------------+-------------------+------------+--------------------+-----------------+--------------------+---------------------+-----------------+----------------------+\n",
      "|windows10|5363bedd7963ce3c8...|     2016-10-14|      2016-05-20|         2016-10-14|           0|                null|             null|          2018-09-11|           2018-09-25|               73|                    60|\n",
      "|windows10|535d83787918a49eb...|     2016-12-20|      2016-06-27|         2016-12-20|           0|          2016-05-20|               38|          2018-09-11|           2018-09-25|               73|                    60|\n",
      "|windows10|53524488234b61d2d...|     2016-05-27|      2016-07-11|         2016-05-27|           0|          2016-06-27|               14|          2018-09-11|           2018-09-25|               73|                    60|\n",
      "+---------+--------------------+---------------+----------------+-------------------+------------+--------------------+-----------------+--------------------+---------------------+-----------------+----------------------+\n",
      "only showing top 3 rows\n",
      "\n"
     ]
    }
   ],
   "source": [
    "df_date_max_date.show(3)"
   ]
  },
  {
   "cell_type": "code",
   "execution_count": 43,
   "metadata": {},
   "outputs": [],
   "source": [
    "df_date_max_date = df_date_max_date.withColumn('OsBuildLab_difftotal', datediff(col('max(OsBuildLab_date)'), col('OsBuildLab_date')))\\\n",
    ".withColumn('DateAvSigVersion_difftotal', datediff(col('max(DateAvSigVersion)'), col('DateAvSigVersion')))\\\n",
    ".withColumn('DateAvSigVersion_ratio', col('AvSigVersion_diff')/col('max(AvSigVersion_diff)'))\\\n",
    ".withColumn('OsBuildLab_ratio', col('OSBuild_diff')/col('max(OSBuild_diff)'))"
   ]
  },
  {
   "cell_type": "code",
   "execution_count": 44,
   "metadata": {},
   "outputs": [
    {
     "name": "stdout",
     "output_type": "stream",
     "text": [
      "+---------+--------------------+---------------+----------------+-------------------+------------+--------------------+-----------------+--------------------+---------------------+-----------------+----------------------+--------------------+--------------------------+----------------------+----------------+\n",
      "| Platform|   MachineIdentifier|OsBuildLab_date|DateAvSigVersion|OsBuildLab_date_lag|OSBuild_diff|DateAvSigVersion_lag|AvSigVersion_diff|max(OsBuildLab_date)|max(DateAvSigVersion)|max(OSBuild_diff)|max(AvSigVersion_diff)|OsBuildLab_difftotal|DateAvSigVersion_difftotal|DateAvSigVersion_ratio|OsBuildLab_ratio|\n",
      "+---------+--------------------+---------------+----------------+-------------------+------------+--------------------+-----------------+--------------------+---------------------+-----------------+----------------------+--------------------+--------------------------+----------------------+----------------+\n",
      "|windows10|5363bedd7963ce3c8...|     2016-10-14|      2016-05-20|         2016-10-14|           0|                null|             null|          2018-09-11|           2018-09-25|               73|                    60|                 697|                       858|                  null|             0.0|\n",
      "|windows10|535d83787918a49eb...|     2016-12-20|      2016-06-27|         2016-12-20|           0|          2016-05-20|               38|          2018-09-11|           2018-09-25|               73|                    60|                 630|                       820|    0.6333333333333333|             0.0|\n",
      "|windows10|53524488234b61d2d...|     2016-05-27|      2016-07-11|         2016-05-27|           0|          2016-06-27|               14|          2018-09-11|           2018-09-25|               73|                    60|                 837|                       806|   0.23333333333333334|             0.0|\n",
      "+---------+--------------------+---------------+----------------+-------------------+------------+--------------------+-----------------+--------------------+---------------------+-----------------+----------------------+--------------------+--------------------------+----------------------+----------------+\n",
      "only showing top 3 rows\n",
      "\n"
     ]
    }
   ],
   "source": [
    "df_date_max_date.show(3)"
   ]
  },
  {
   "cell_type": "code",
   "execution_count": 45,
   "metadata": {},
   "outputs": [],
   "source": [
    "df_date_max_date = df_date_max_date.withColumn('OsBuildLab_dayOfWeek', date_format('OsBuildLab_date', 'u'))"
   ]
  },
  {
   "cell_type": "code",
   "execution_count": 49,
   "metadata": {},
   "outputs": [
    {
     "name": "stdout",
     "output_type": "stream",
     "text": [
      "+---------+--------------------+---------------+----------------+-------------------+------------+--------------------+-----------------+--------------------+---------------------+-----------------+----------------------+--------------------+--------------------------+----------------------+------------------+--------------------+\n",
      "| Platform|   MachineIdentifier|OsBuildLab_date|DateAvSigVersion|OsBuildLab_date_lag|OSBuild_diff|DateAvSigVersion_lag|AvSigVersion_diff|max(OsBuildLab_date)|max(DateAvSigVersion)|max(OSBuild_diff)|max(AvSigVersion_diff)|OsBuildLab_difftotal|DateAvSigVersion_difftotal|DateAvSigVersion_ratio|  OsBuildLab_ratio|OsBuildLab_dayOfWeek|\n",
      "+---------+--------------------+---------------+----------------+-------------------+------------+--------------------+-----------------+--------------------+---------------------+-----------------+----------------------+--------------------+--------------------------+----------------------+------------------+--------------------+\n",
      "|windows10|5352cbde2f8d64734...|     2017-03-27|      2017-04-26|         2017-03-27|           0|          2017-04-10|               16|          2018-09-11|           2018-09-25|               73|                    60|                 533|                       517|   0.26666666666666666|               0.0|                   1|\n",
      "|windows10|535df20f7e3ae854a...|     2016-03-28|      2017-05-18|         2016-03-28|           0|          2017-05-03|               15|          2018-09-11|           2018-09-25|               73|                    60|                 897|                       495|                  0.25|               0.0|                   1|\n",
      "|windows10|53480d525d24db6e9...|     2017-07-31|      2017-09-11|         2017-07-28|           3|          2017-09-11|                0|          2018-09-11|           2018-09-25|               73|                    60|                 407|                       379|                   0.0|0.0410958904109589|                   1|\n",
      "+---------+--------------------+---------------+----------------+-------------------+------------+--------------------+-----------------+--------------------+---------------------+-----------------+----------------------+--------------------+--------------------------+----------------------+------------------+--------------------+\n",
      "only showing top 3 rows\n",
      "\n"
     ]
    }
   ],
   "source": [
    "df_date_max_date.filter(col('OsBuildLab_dayOfWeek')==1).show(3)"
   ]
  },
  {
   "cell_type": "code",
   "execution_count": null,
   "metadata": {},
   "outputs": [],
   "source": []
  }
 ],
 "metadata": {
  "kernelspec": {
   "display_name": "Python 3",
   "language": "python",
   "name": "python3"
  },
  "language_info": {
   "codemirror_mode": {
    "name": "ipython",
    "version": 3
   },
   "file_extension": ".py",
   "mimetype": "text/x-python",
   "name": "python",
   "nbconvert_exporter": "python",
   "pygments_lexer": "ipython3",
   "version": "3.6.7"
  }
 },
 "nbformat": 4,
 "nbformat_minor": 2
}
